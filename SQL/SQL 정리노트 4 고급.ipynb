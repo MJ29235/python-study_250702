{
 "cells": [
  {
   "cell_type": "markdown",
   "id": "39f69a3f-b20e-4a85-816f-f6f03e2273c8",
   "metadata": {},
   "source": [
    "# SQL 고급 문법"
   ]
  },
  {
   "cell_type": "markdown",
   "id": "70750274-0414-473d-a06f-c607ab4b0a10",
   "metadata": {},
   "source": [
    "## 윈도우 함수\n",
    "- SQL 쿼리문 안에서 데이터 집합을 세분화하여 각 부분에 대한 계산을 수행하는 함수\n",
    "- 만약 전체데이터가 너무 방대해서, 특정 부분만 추출해서 연산 처리를 해야한다면?\n",
    "1. **RANK()** \n",
    "순위를 매기는데, 동일한 값이 있을 경우 같은 순위를 부여하고 다음 순위는 건너뜀\n",
    "2. **DENSE_RANK()** \n",
    "순위를 매기는데, 동일한 값이 있을 경우 같은 순위를 부여하고 다음 순위를 건너뛰지 않는다. \n",
    "→ 달리기 : 9초, 9초, 9초, 10초 일때 10초의 달리기 순위 RANK() : 4등 / DENSE_RANK() : 2등\n",
    "3. **ROW_NUMBER()**\n",
    "순위와 상관없이 각 행에 고유한 번호를 부여\n",
    "\n",
    "⇒ 위 3개의 함수는 공통적으로 OVER 절을 함께 사용한다!. \n",
    "\n",
    "⇒ & ORDER BY를 통해서 순위를 매길 기준을 정의한다. 속도? or 시간?\n",
    "- 윈도우 함수에서 많이 사용되는 구문 (윈도우함수는 아니지만, 윈도우함수와 함께 사용되는 구문)\n",
    "    \n",
    "    **PARTITION BY** \n",
    "    특정 컬럼을 기준으로 데이터를 부분 집합으로서 분할할 때 사용.\n",
    "    \n",
    "    **ORDER BY**\n",
    "    \n",
    "    **ROWS**\n",
    "    \n",
    "    **RANGE**\n",
    "  - 윈도우 함수에서 많이 사용되는 구문 (윈도우함수는 아니지만, 윈도우함수와 함께 사용되는 구문)\n",
    "    \n",
    "    **PARTITION BY** \n",
    "    특정 컬럼을 기준으로 데이터를 부분 집합으로서 분할할 때 사용.\n",
    "    집계함수 사용가능! \n",
    "    집계함수(*) OVER (PARTITION BY 기준요소)\n",
    "    \n",
    "    customer_id를 기준으로 하나의 부분집합이 됨.\n",
    "    전체계수의 총 합계\n",
    "    \n",
    "    COUNT(*) \n",
    "    OVER (PARTITION BY customer_id \n",
    "    ORDER BY rental_date)\n",
    "    -rental_date를 기준으로 오름차순으로 정렬 됨!\n",
    "    \n",
    "    **ORDER BY**\n",
    "    특정 부분집합 내 정렬 기준을 정의하고자 할 때 사용!\n",
    "    \n",
    "    **ROWS(BETWEEN 시작요소 AND 끝요소)**\n",
    "    특정 부부분집합의 범위를 나타낼 때 사용\n",
    "    \n",
    "    **UNBOUNDED PRECEDING**\n",
    "    \n",
    "    시작요소에 쓰이는 객체. 파티션을 통해 설정된 부분 집합의 첫번째 행부터 시작함을 의미\n",
    "    \n",
    "    **UNBOUNDED FOLLOWING**\n",
    "    \n",
    "    앞에서 파티션을 통해 설정된 부분집합의 마지막행까지를 의미 \n",
    "    \n",
    "    **CURRENT ROW**\n",
    "    \n",
    "    현재 행을 포함시켜라\n",
    "    \n",
    "    **n번째 PRECEDING / n번째 FOLLOWING**\n",
    "    \n",
    "    n번째 행 앞이나 뒤의 값을 찾아올때 \n",
    "    \n",
    "    **RANGE**\n",
    "\n",
    "    정"
   ]
  },
  {
   "cell_type": "code",
   "execution_count": null,
   "id": "f2fe8b49-a877-4367-a82c-556de640947c",
   "metadata": {},
   "outputs": [],
   "source": []
  }
 ],
 "metadata": {
  "kernelspec": {
   "display_name": "Python [conda env:base] *",
   "language": "python",
   "name": "conda-base-py"
  },
  "language_info": {
   "codemirror_mode": {
    "name": "ipython",
    "version": 3
   },
   "file_extension": ".py",
   "mimetype": "text/x-python",
   "name": "python",
   "nbconvert_exporter": "python",
   "pygments_lexer": "ipython3",
   "version": "3.13.5"
  }
 },
 "nbformat": 4,
 "nbformat_minor": 5
}
