{
 "cells": [
  {
   "cell_type": "code",
   "execution_count": 2,
   "id": "78951763-2115-4bd0-8d8d-80352ccbdbea",
   "metadata": {},
   "outputs": [
    {
     "name": "stdout",
     "output_type": "stream",
     "text": [
      "Requirement already satisfied: pymysql in c:\\users\\pmj96\\anaconda3\\lib\\site-packages (1.1.1)\n",
      "Note: you may need to restart the kernel to use updated packages.\n"
     ]
    }
   ],
   "source": [
    "pip install pymysql"
   ]
  },
  {
   "cell_type": "code",
   "execution_count": 1,
   "id": "0adfae79-5ec4-46e4-a0df-622d42050781",
   "metadata": {},
   "outputs": [],
   "source": [
    "import pymysql\n",
    "\n",
    "# mysql에 접속하기 위한 메서드 함수\n",
    "db = pymysql.connect( #접속하고자 하는 대상을 인자값으로 넣어주면 됨!\n",
    "    host = \"localhost\", #사이트가 돌아가는 주소\n",
    "    port = 3306, # 실질적으로 도착하는 도착지\n",
    "    user = \"root\", #사용자\n",
    "    passwd = \"asdf1122\",\n",
    "    db = \"ecommerce\", #만들어진\n",
    "    charset = \"utf8\"# mysql에 전송할 때, 한줄씩 필드 정의할 때 특수문자들을 인코딩 - 디코딩할 때 의도대로 인식할 수 있도록 하는 것  \n",
    ")"
   ]
  },
  {
   "cell_type": "code",
   "execution_count": 70,
   "id": "a1cb7677-597b-4222-9ce1-a94d59346a2a",
   "metadata": {},
   "outputs": [],
   "source": [
    "ecommerce = db.cursor()\n",
    "# db에 접근하게 할 수 있는 역할!\n",
    "# 실행할 수 있도록 db라는 객체가 연결 시킬 수 있는 정보를 가지고 있음 = cousor로서의 역할!\n",
    "# ecommerce : 결과값을 반환 받는요소"
   ]
  },
  {
   "cell_type": "code",
   "execution_count": 38,
   "id": "ca08f1a4-e620-424b-b893-389a9fb6b842",
   "metadata": {},
   "outputs": [],
   "source": [
    "sql =\"\"\"\n",
    "    CREATE TABLE product(\n",
    "        PRODUCT_CODE VARCHAR(20) NOT NULL PRIMARY KEY,\n",
    "        TITLE VARCHAR(200) NOT NULL,\n",
    "        ORI_PRICE INT,\n",
    "        DISCOUNT_PRICE INT,\n",
    "        DISCOUNT_PERCENT INT,\n",
    "        DELIVERY VARCHAR(10)\n",
    "    );\n",
    "\"\"\""
   ]
  },
  {
   "cell_type": "code",
   "execution_count": 40,
   "id": "73ca6174-b986-4085-8c61-d328ef71f427",
   "metadata": {},
   "outputs": [
    {
     "data": {
      "text/plain": [
       "'\\n    CREATE TABLE product(\\n        PRODUCT_CODE VARCHAR(20) NOT NULL PRIMARY KEY,\\n        TITLE VARCHAR(200) NOT NULL,\\n        ORI_PRICE INT,\\n        DISCOUNT_PRICE INT,\\n        DISCOUNT_PERCENT INT,\\n        DELIVERY VARCHAR(10)\\n    );\\n'"
      ]
     },
     "execution_count": 40,
     "metadata": {},
     "output_type": "execute_result"
    }
   ],
   "source": [
    "sql"
   ]
  },
  {
   "cell_type": "code",
   "execution_count": 71,
   "id": "4d99c2e9-574b-47c7-9b6e-97ead2e25e74",
   "metadata": {},
   "outputs": [
    {
     "ename": "OperationalError",
     "evalue": "(1205, 'Lock wait timeout exceeded; try restarting transaction')",
     "output_type": "error",
     "traceback": [
      "\u001b[1;31m---------------------------------------------------------------------------\u001b[0m",
      "\u001b[1;31mOperationalError\u001b[0m                          Traceback (most recent call last)",
      "Cell \u001b[1;32mIn[71], line 1\u001b[0m\n\u001b[1;32m----> 1\u001b[0m ecommerce\u001b[38;5;241m.\u001b[39mexecute(sql)\n",
      "File \u001b[1;32m~\\anaconda3\\Lib\\site-packages\\pymysql\\cursors.py:153\u001b[0m, in \u001b[0;36mCursor.execute\u001b[1;34m(self, query, args)\u001b[0m\n\u001b[0;32m    149\u001b[0m     \u001b[38;5;28;01mpass\u001b[39;00m\n\u001b[0;32m    151\u001b[0m query \u001b[38;5;241m=\u001b[39m \u001b[38;5;28mself\u001b[39m\u001b[38;5;241m.\u001b[39mmogrify(query, args)\n\u001b[1;32m--> 153\u001b[0m result \u001b[38;5;241m=\u001b[39m \u001b[38;5;28mself\u001b[39m\u001b[38;5;241m.\u001b[39m_query(query)\n\u001b[0;32m    154\u001b[0m \u001b[38;5;28mself\u001b[39m\u001b[38;5;241m.\u001b[39m_executed \u001b[38;5;241m=\u001b[39m query\n\u001b[0;32m    155\u001b[0m \u001b[38;5;28;01mreturn\u001b[39;00m result\n",
      "File \u001b[1;32m~\\anaconda3\\Lib\\site-packages\\pymysql\\cursors.py:322\u001b[0m, in \u001b[0;36mCursor._query\u001b[1;34m(self, q)\u001b[0m\n\u001b[0;32m    320\u001b[0m conn \u001b[38;5;241m=\u001b[39m \u001b[38;5;28mself\u001b[39m\u001b[38;5;241m.\u001b[39m_get_db()\n\u001b[0;32m    321\u001b[0m \u001b[38;5;28mself\u001b[39m\u001b[38;5;241m.\u001b[39m_clear_result()\n\u001b[1;32m--> 322\u001b[0m conn\u001b[38;5;241m.\u001b[39mquery(q)\n\u001b[0;32m    323\u001b[0m \u001b[38;5;28mself\u001b[39m\u001b[38;5;241m.\u001b[39m_do_get_result()\n\u001b[0;32m    324\u001b[0m \u001b[38;5;28;01mreturn\u001b[39;00m \u001b[38;5;28mself\u001b[39m\u001b[38;5;241m.\u001b[39mrowcount\n",
      "File \u001b[1;32m~\\anaconda3\\Lib\\site-packages\\pymysql\\connections.py:563\u001b[0m, in \u001b[0;36mConnection.query\u001b[1;34m(self, sql, unbuffered)\u001b[0m\n\u001b[0;32m    561\u001b[0m     sql \u001b[38;5;241m=\u001b[39m sql\u001b[38;5;241m.\u001b[39mencode(\u001b[38;5;28mself\u001b[39m\u001b[38;5;241m.\u001b[39mencoding, \u001b[38;5;124m\"\u001b[39m\u001b[38;5;124msurrogateescape\u001b[39m\u001b[38;5;124m\"\u001b[39m)\n\u001b[0;32m    562\u001b[0m \u001b[38;5;28mself\u001b[39m\u001b[38;5;241m.\u001b[39m_execute_command(COMMAND\u001b[38;5;241m.\u001b[39mCOM_QUERY, sql)\n\u001b[1;32m--> 563\u001b[0m \u001b[38;5;28mself\u001b[39m\u001b[38;5;241m.\u001b[39m_affected_rows \u001b[38;5;241m=\u001b[39m \u001b[38;5;28mself\u001b[39m\u001b[38;5;241m.\u001b[39m_read_query_result(unbuffered\u001b[38;5;241m=\u001b[39munbuffered)\n\u001b[0;32m    564\u001b[0m \u001b[38;5;28;01mreturn\u001b[39;00m \u001b[38;5;28mself\u001b[39m\u001b[38;5;241m.\u001b[39m_affected_rows\n",
      "File \u001b[1;32m~\\anaconda3\\Lib\\site-packages\\pymysql\\connections.py:825\u001b[0m, in \u001b[0;36mConnection._read_query_result\u001b[1;34m(self, unbuffered)\u001b[0m\n\u001b[0;32m    823\u001b[0m \u001b[38;5;28;01melse\u001b[39;00m:\n\u001b[0;32m    824\u001b[0m     result \u001b[38;5;241m=\u001b[39m MySQLResult(\u001b[38;5;28mself\u001b[39m)\n\u001b[1;32m--> 825\u001b[0m     result\u001b[38;5;241m.\u001b[39mread()\n\u001b[0;32m    826\u001b[0m \u001b[38;5;28mself\u001b[39m\u001b[38;5;241m.\u001b[39m_result \u001b[38;5;241m=\u001b[39m result\n\u001b[0;32m    827\u001b[0m \u001b[38;5;28;01mif\u001b[39;00m result\u001b[38;5;241m.\u001b[39mserver_status \u001b[38;5;129;01mis\u001b[39;00m \u001b[38;5;129;01mnot\u001b[39;00m \u001b[38;5;28;01mNone\u001b[39;00m:\n",
      "File \u001b[1;32m~\\anaconda3\\Lib\\site-packages\\pymysql\\connections.py:1199\u001b[0m, in \u001b[0;36mMySQLResult.read\u001b[1;34m(self)\u001b[0m\n\u001b[0;32m   1197\u001b[0m \u001b[38;5;28;01mdef\u001b[39;00m\u001b[38;5;250m \u001b[39m\u001b[38;5;21mread\u001b[39m(\u001b[38;5;28mself\u001b[39m):\n\u001b[0;32m   1198\u001b[0m     \u001b[38;5;28;01mtry\u001b[39;00m:\n\u001b[1;32m-> 1199\u001b[0m         first_packet \u001b[38;5;241m=\u001b[39m \u001b[38;5;28mself\u001b[39m\u001b[38;5;241m.\u001b[39mconnection\u001b[38;5;241m.\u001b[39m_read_packet()\n\u001b[0;32m   1201\u001b[0m         \u001b[38;5;28;01mif\u001b[39;00m first_packet\u001b[38;5;241m.\u001b[39mis_ok_packet():\n\u001b[0;32m   1202\u001b[0m             \u001b[38;5;28mself\u001b[39m\u001b[38;5;241m.\u001b[39m_read_ok_packet(first_packet)\n",
      "File \u001b[1;32m~\\anaconda3\\Lib\\site-packages\\pymysql\\connections.py:775\u001b[0m, in \u001b[0;36mConnection._read_packet\u001b[1;34m(self, packet_type)\u001b[0m\n\u001b[0;32m    773\u001b[0m     \u001b[38;5;28;01mif\u001b[39;00m \u001b[38;5;28mself\u001b[39m\u001b[38;5;241m.\u001b[39m_result \u001b[38;5;129;01mis\u001b[39;00m \u001b[38;5;129;01mnot\u001b[39;00m \u001b[38;5;28;01mNone\u001b[39;00m \u001b[38;5;129;01mand\u001b[39;00m \u001b[38;5;28mself\u001b[39m\u001b[38;5;241m.\u001b[39m_result\u001b[38;5;241m.\u001b[39munbuffered_active \u001b[38;5;129;01mis\u001b[39;00m \u001b[38;5;28;01mTrue\u001b[39;00m:\n\u001b[0;32m    774\u001b[0m         \u001b[38;5;28mself\u001b[39m\u001b[38;5;241m.\u001b[39m_result\u001b[38;5;241m.\u001b[39munbuffered_active \u001b[38;5;241m=\u001b[39m \u001b[38;5;28;01mFalse\u001b[39;00m\n\u001b[1;32m--> 775\u001b[0m     packet\u001b[38;5;241m.\u001b[39mraise_for_error()\n\u001b[0;32m    776\u001b[0m \u001b[38;5;28;01mreturn\u001b[39;00m packet\n",
      "File \u001b[1;32m~\\anaconda3\\Lib\\site-packages\\pymysql\\protocol.py:219\u001b[0m, in \u001b[0;36mMysqlPacket.raise_for_error\u001b[1;34m(self)\u001b[0m\n\u001b[0;32m    217\u001b[0m \u001b[38;5;28;01mif\u001b[39;00m DEBUG:\n\u001b[0;32m    218\u001b[0m     \u001b[38;5;28mprint\u001b[39m(\u001b[38;5;124m\"\u001b[39m\u001b[38;5;124merrno =\u001b[39m\u001b[38;5;124m\"\u001b[39m, errno)\n\u001b[1;32m--> 219\u001b[0m err\u001b[38;5;241m.\u001b[39mraise_mysql_exception(\u001b[38;5;28mself\u001b[39m\u001b[38;5;241m.\u001b[39m_data)\n",
      "File \u001b[1;32m~\\anaconda3\\Lib\\site-packages\\pymysql\\err.py:150\u001b[0m, in \u001b[0;36mraise_mysql_exception\u001b[1;34m(data)\u001b[0m\n\u001b[0;32m    148\u001b[0m \u001b[38;5;28;01mif\u001b[39;00m errorclass \u001b[38;5;129;01mis\u001b[39;00m \u001b[38;5;28;01mNone\u001b[39;00m:\n\u001b[0;32m    149\u001b[0m     errorclass \u001b[38;5;241m=\u001b[39m InternalError \u001b[38;5;28;01mif\u001b[39;00m errno \u001b[38;5;241m<\u001b[39m \u001b[38;5;241m1000\u001b[39m \u001b[38;5;28;01melse\u001b[39;00m OperationalError\n\u001b[1;32m--> 150\u001b[0m \u001b[38;5;28;01mraise\u001b[39;00m errorclass(errno, errval)\n",
      "\u001b[1;31mOperationalError\u001b[0m: (1205, 'Lock wait timeout exceeded; try restarting transaction')"
     ]
    }
   ],
   "source": [
    "ecommerce.execute(sql) # 실행할 수 있는 요소를 상속 받음"
   ]
  },
  {
   "cell_type": "code",
   "execution_count": 72,
   "id": "661ee97d-405d-481b-b50b-d2a109222530",
   "metadata": {},
   "outputs": [],
   "source": [
    "db.commit()"
   ]
  },
  {
   "cell_type": "code",
   "execution_count": 73,
   "id": "ce347f97-6405-4fb3-a353-3059588afdea",
   "metadata": {},
   "outputs": [],
   "source": [
    "db.close()"
   ]
  },
  {
   "cell_type": "code",
   "execution_count": 2,
   "id": "a106597b-bfa2-4999-982c-3c6ded9f478a",
   "metadata": {},
   "outputs": [],
   "source": [
    "cursor = db.cursor() # 조작할 수 있게 해주는 역할"
   ]
  },
  {
   "cell_type": "code",
   "execution_count": 3,
   "id": "48159ed5-56a7-45e5-bbb8-369491a288fc",
   "metadata": {},
   "outputs": [
    {
     "name": "stdout",
     "output_type": "stream",
     "text": [
      "\n",
      "        INSERT INTO product VALUES(\n",
      "            '215673141',\n",
      "            '스위트바니 여름신상 5900원 ~ 롱원피스 티셔츠 / 긴팔 / 반팔',\n",
      "            23000,\n",
      "            6900,\n",
      "            70,\n",
      "            'T'\n",
      "        );\n",
      "    \n",
      "\n",
      "        INSERT INTO product VALUES(\n",
      "            '215673142',\n",
      "            '스위트바니 여름신상 5900원 ~ 롱원피스 티셔츠 / 긴팔 / 반팔',\n",
      "            23000,\n",
      "            6900,\n",
      "            70,\n",
      "            'T'\n",
      "        );\n",
      "    \n",
      "\n",
      "        INSERT INTO product VALUES(\n",
      "            '215673143',\n",
      "            '스위트바니 여름신상 5900원 ~ 롱원피스 티셔츠 / 긴팔 / 반팔',\n",
      "            23000,\n",
      "            6900,\n",
      "            70,\n",
      "            'T'\n",
      "        );\n",
      "    \n",
      "\n",
      "        INSERT INTO product VALUES(\n",
      "            '215673144',\n",
      "            '스위트바니 여름신상 5900원 ~ 롱원피스 티셔츠 / 긴팔 / 반팔',\n",
      "            23000,\n",
      "            6900,\n",
      "            70,\n",
      "            'T'\n",
      "        );\n",
      "    \n",
      "\n",
      "        INSERT INTO product VALUES(\n",
      "            '215673145',\n",
      "            '스위트바니 여름신상 5900원 ~ 롱원피스 티셔츠 / 긴팔 / 반팔',\n",
      "            23000,\n",
      "            6900,\n",
      "            70,\n",
      "            'T'\n",
      "        );\n",
      "    \n",
      "\n",
      "        INSERT INTO product VALUES(\n",
      "            '215673146',\n",
      "            '스위트바니 여름신상 5900원 ~ 롱원피스 티셔츠 / 긴팔 / 반팔',\n",
      "            23000,\n",
      "            6900,\n",
      "            70,\n",
      "            'T'\n",
      "        );\n",
      "    \n",
      "\n",
      "        INSERT INTO product VALUES(\n",
      "            '215673147',\n",
      "            '스위트바니 여름신상 5900원 ~ 롱원피스 티셔츠 / 긴팔 / 반팔',\n",
      "            23000,\n",
      "            6900,\n",
      "            70,\n",
      "            'T'\n",
      "        );\n",
      "    \n",
      "\n",
      "        INSERT INTO product VALUES(\n",
      "            '215673148',\n",
      "            '스위트바니 여름신상 5900원 ~ 롱원피스 티셔츠 / 긴팔 / 반팔',\n",
      "            23000,\n",
      "            6900,\n",
      "            70,\n",
      "            'T'\n",
      "        );\n",
      "    \n",
      "\n",
      "        INSERT INTO product VALUES(\n",
      "            '215673149',\n",
      "            '스위트바니 여름신상 5900원 ~ 롱원피스 티셔츠 / 긴팔 / 반팔',\n",
      "            23000,\n",
      "            6900,\n",
      "            70,\n",
      "            'T'\n",
      "        );\n",
      "    \n",
      "\n",
      "        INSERT INTO product VALUES(\n",
      "            '215673150',\n",
      "            '스위트바니 여름신상 5900원 ~ 롱원피스 티셔츠 / 긴팔 / 반팔',\n",
      "            23000,\n",
      "            6900,\n",
      "            70,\n",
      "            'T'\n",
      "        );\n",
      "    \n"
     ]
    }
   ],
   "source": [
    "for index in range(10) :\n",
    "    product_code = 215673140 + index + 1 # 프로덕트 코드가 반복순회할때마다 새로운 값을 만듦\n",
    "    sql = f\"\"\"\n",
    "        INSERT INTO product VALUES(\n",
    "            '{product_code}',\n",
    "            '스위트바니 여름신상 5900원 ~ 롱원피스 티셔츠 / 긴팔 / 반팔',\n",
    "            23000,\n",
    "            6900,\n",
    "            70,\n",
    "            'T'\n",
    "        );\n",
    "    \"\"\"\n",
    "    print(sql)\n",
    "    cursor.execute(sql)"
   ]
  },
  {
   "cell_type": "code",
   "execution_count": 4,
   "id": "c317d1ed-76ff-480e-a638-6a6069923ae0",
   "metadata": {},
   "outputs": [],
   "source": [
    "db.commit()"
   ]
  },
  {
   "cell_type": "code",
   "execution_count": 5,
   "id": "7ee4eac0-93be-48fc-95c2-b2a205f9977a",
   "metadata": {},
   "outputs": [],
   "source": [
    "db.close()"
   ]
  }
 ],
 "metadata": {
  "kernelspec": {
   "display_name": "Python [conda env:base] *",
   "language": "python",
   "name": "conda-base-py"
  },
  "language_info": {
   "codemirror_mode": {
    "name": "ipython",
    "version": 3
   },
   "file_extension": ".py",
   "mimetype": "text/x-python",
   "name": "python",
   "nbconvert_exporter": "python",
   "pygments_lexer": "ipython3",
   "version": "3.13.5"
  }
 },
 "nbformat": 4,
 "nbformat_minor": 5
}
