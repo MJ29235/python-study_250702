{
 "cells": [
  {
   "cell_type": "markdown",
   "id": "64db4758-d01c-4c10-9788-3d3a265e3ec1",
   "metadata": {},
   "source": [
    "## SQL 학습 전 반드시 알고가야하는 개념 정의 (배경, 개념, 구조)\n",
    "1. 데이터 (Data) <-> 데이터 베이스(Data Base)\n",
    "2. 데이터 베이스(Data Base)\n",
    "3. 스키마 (Schema 구조,틀,템플릿) -데이터베이스 서버를 다룰 때 많이 사용\n",
    "4. 테이블 (Table)\n",
    "5. SQL"
   ]
  },
  {
   "cell_type": "markdown",
   "id": "75a7a043-79cd-40d5-935c-988a52214e28",
   "metadata": {},
   "source": [
    "### 1. 데이터(Data)\n",
    "- 수집가능한 값, 사실, 기록물 등의 원초적인 정보 \n",
    "- ex) 숫자 23, 5.9\n",
    "      문자 \"David\" , \"25-07-31\"\n",
    "      상태 \"True\" , \"False\"\n",
    "- 데이터 그 사실 자체로는 의미가 부족함 -> 구조화가 되어야 데이터는 비로소 가치를 가짐. 데이터가 모여서 패턴을 보이게 될 때!"
   ]
  },
  {
   "cell_type": "markdown",
   "id": "ae835349-8fe1-4d9c-b574-41c6ed78679b",
   "metadata": {},
   "source": [
    "### 2. 데이터 베이스 (Data Base DB)\n",
    "- 데이터를 구조화 할 수 있게 저장해주는 저장소!\n",
    "- 여러가지 다양한 데이터를 구조적이고 체계적으로 저장 및 관리할 수 있도록 해주는 저장소\n",
    "- 종류\n",
    "  1, 관계형 데이터베이스 : RDBMS, 구조적이고 체계적으로 저장되어있는 데이터를 관계식을 만들어놓음. 데이터끼리 필요할 때마다 찾아올 수 있게끔! // 툴 - 오라클(Oracle), MYSQL 등 우리는 MYSQL 배울것. oracle은 기능은 좋으나 난이도가 있는 편!\n",
    "  2, 비관계형 데이터베이스 : DBMS, 관계를 맺긴 하나, 전통적방식에서 벗어난 방식. // 툴 - 몽고 DB(MongoDB)\n",
    "- 개념 예) 오프라인 가게를 운영하는데, 일일 고객 주문정보, 특정기간동안 사용한 재고 수량 등 분류가 필요한 작업 등 효율적이고 체계적으로 만들자!"
   ]
  },
  {
   "cell_type": "markdown",
   "id": "b530b46a-649b-4fa2-bbf4-82b191713bef",
   "metadata": {},
   "source": [
    "### 3, 스키마 (Schema)\n",
    "- 데이터베이스의 구조를 정의한것. 개념적인요소.\n",
    "- 데이터베이스를 어떻게 구조화 할 것인지 정의해 놓은 일종의 설계도.\n",
    "- 스키마는 데이터베이스 내부에 존재하는 논리적 구조"
   ]
  },
  {
   "cell_type": "markdown",
   "id": "e158fcbf-8494-4fe1-9bbf-9df392286ac1",
   "metadata": {},
   "source": [
    "### 4, 테이블 (Table)\n",
    "- 관계형 데이터 베이스안에 저장된 실제 데이터의 저장 단위!\n",
    "- 데이터들을 오리지널로 두는게 아니라 테이블에 넣고 테이블 간에 관계를 어떻게 맺을 것인가? =  타입에 따라서 분류하면 스키마!\n",
    "- 구성요소\n",
    "  열 (Column) : 열 안에 있는 데이터 - 속성 (ex.고객의 나이, 성별, 이메일 등) 세부적인 내용 나뭇잎 \n",
    "  행 (row) : 하나의 행을 -레코드라고 불림 (ex. 한명의 고객) 하나의 가지"
   ]
  },
  {
   "cell_type": "markdown",
   "id": "ef86c113-43d8-4e39-8227-4441fc2a8e40",
   "metadata": {},
   "source": [
    "### 5, SQL (Sturctured Query Language)\n",
    "- 데이터 베이스에 명령어(정의, 조작, 제어)를 요청하게끔 도와주는 언어!\n",
    "- 나중에 구글 애널리틱스에서 데이터 베이스를 만들어낼때 필요한 요소가 빅쿼리!(=S Query L)로 시각화 -> 루쿼스튜디오\n",
    "- 문법이 방대함. so, 3가지 방식으로 기능을 나눠서 정리하는게 좋음 & 대표적 예시\n",
    "- DDL (Data Definition Language) : 생성 CREATE, (테이블을)버리거나 DROP, 대체할때 ALTER\n",
    "- DML (Data Manipulation Language) : 조작 SELECT, 데이터 사이에 끼워넣기 INSERT, 업데이트 UPDATE (세부적 데이터)제거 DELETE\n",
    "- DCL (Data Control Language) : 획득 GRANT, REVOKE 권한 설정 등의 문법."
   ]
  },
  {
   "cell_type": "markdown",
   "id": "15f6f64e-f782-4a85-b86b-38f979ffd7e7",
   "metadata": {},
   "source": [
    "### 지금까지 설명한 내용 정리 & 요약\n",
    "\n",
    "- 데이터 : 가장 하위 개념. 원초적인 정보를 의미\n",
    "- 테이블 : 해당 데이터를 담은(구조화) 틀\n",
    "- 스키마 : 이러한 테이블 간 관계를 정의한 설계도면\n",
    "- 데이터베이스 : 스키마의 개념속에 존재하는 테이블이 포함된 상위구조 및 개념\n",
    "- SQL : 이 모든 구조를 만들고, 조작하고, 제어할 수 있도록 해주는 언어"
   ]
  },
  {
   "cell_type": "markdown",
   "id": "5df7e9f4-a2d2-496c-84fd-2850e0abc4d5",
   "metadata": {},
   "source": [
    "#### 지금까지 학습했던 데이터 수집 관련 프로그램 정의 \n",
    "- 아나콘다(Anaconda) : Python 통합관리 플랫폼! 언어를 다룰 수 있게끔 해주는 통로 정도!\n",
    " 파이썬관련 다양한 라이브러리, 실행환경, 패키지 등을 종합적으로 제공해주는 플랫폼. 많은 요소들을 내포.\n",
    "- 쥬피터 노트북 (Jupyter Notebook) : Python 언어를 코딩 프로그램. python editor\n",
    "- MySQL : 관계형 데이터베이스 구조 공간을 설계하도록 지원해주는 관계형 데이터베이스 전문 프로그램\n",
    "  사용방법 2가지\n",
    "    MySQL WorkBench : MySQL을 시각적으로 보면서 테이블을 설계하고 각각의 테이블간 관계를 설정할 수 있도록 도와주는 GUI 방식의 보조 프로그램\n",
    "    /window 설치방법### 지금까지 학습했던 데이터 수집 관련 프로그램 정의 \n",
    "- 아나콘다(Anaconda) : Python 통합관리 플랫폼! 언어를 다룰 수 있게끔 해주는 통로 정도!\n",
    " 파이썬관련 다양한 라이브러리, 실행환경, 패키지 등을 종합적으로 제공해주는 플랫폼. 많은 요소들을 내포.\n",
    "- 쥬피터 노트북 (Jupyter Notebook) : Python 언어를 코딩 프로그램. python editor\n",
    "- MySQL : 관계형 데이터베이스 구조 공간을 설계하도록 지원해주는 관계형 데이터베이스 전문 프로그램\n",
    "  사용방법 2가지\n",
    "    MySQL WorkBench : MySQL을 시각적으로 보면서 테이블을 설계하고 각각의 테이블간 관계를 설정할 수 있도록 도와주는 GUI 방식의 보조 프로그램\n",
    "    /window 설치방법-mysql community download"
   ]
  },
  {
   "cell_type": "markdown",
   "id": "290564af-d74b-4d44-b55c-c04d1d8ae2ac",
   "metadata": {},
   "source": []
  },
  {
   "cell_type": "markdown",
   "id": "dd646f30-9843-459f-a6b8-5985be245004",
   "metadata": {},
   "source": [
    "#### 프로그래밍 영역에서 꼭 알고있어야 하는 상식\n",
    "4가지 기능의 수준에 따라서 좋은 프로그램인지 식별함! \n",
    "- C : Creat \n",
    "- R : Read\n",
    "- U : Update\n",
    "- D : Delete"
   ]
  },
  {
   "cell_type": "markdown",
   "id": "57765bad-319d-49ec-9728-60f9bb10a08c",
   "metadata": {},
   "source": [
    "#### table 생성 문법\n",
    "\n",
    "CREATE TABLE 테이블이름(\n",
    "    컬럼명, 데이터형,\n",
    "    컬럼명, 데이터형,\n",
    "    ...\n",
    "    기본키(PRIMARY KEY)\n",
    ");"
   ]
  },
  {
   "cell_type": "markdown",
   "id": "b123b002-287f-4179-a369-e393410aa667",
   "metadata": {},
   "source": [
    "#### Dave 라는 DB를 생성, 해당 DB 안에 다음과 같은 속성을 가지고 있는 테이블을 생성하세요.\n",
    "id, name, modelnumber, series\n",
    "id는 양의 정수값, 필수값 unsigned not null, 자동증가\n",
    "name은 최대 50자까지 가능한 문자열 & 필수값\n",
    "modelnumber는 최대 15자까지 가능한 문자열 & 필수값\n",
    "series는 최대 30자까지 가능한 문자열 & 필수 값\n",
    "고유 식별키는 id"
   ]
  },
  {
   "cell_type": "markdown",
   "id": "b1a8ca61-ab9d-4802-892d-a0fa40509ccb",
   "metadata": {},
   "source": [
    "1. name 의 최대 문자입력 값을 20으로 변경\n",
    "2. modelnumber 속성명을 model-number로 변경 & 최대 10자까지 변경\n",
    "3. series 속성명을 model_type 으로 변경 & 최대 10자까지로 변경"
   ]
  },
  {
   "cell_type": "markdown",
   "id": "c227363e-f908-4f3e-948d-25082683af54",
   "metadata": {},
   "source": [
    "1. 기존 데이터 베이스 내 privit을 삭제하세요.\n",
    "2. model_info 라는 새로운 테이블을 만들어주세요.\n",
    "3. 해당 테이블 안에는 id, name, model_num, model_type의 속성값을 설정해주세요.\n",
    "4. 고유키는 id여야 하며, 필수값, 자동 증가 속성 부여해주세요\n",
    "5. name은 최대 20 자까지 허용가능, 필수\n",
    "6. model_num은 최대 10자까지 허용가능, 필수\n",
    "7. model_type은 최대 10자까지 허용가능, 필수"
   ]
  },
  {
   "cell_type": "markdown",
   "id": "7577f303-4a41-4a35-8f40-a3dae06c1693",
   "metadata": {},
   "source": [
    "### DDL 문법 확실하게 소화할만큼 숙지!\n",
    "- CREATE DATABASE dbname\n",
    "- CREATE DATABASE IF NOT EXISTS dbname\n",
    "- SHOW DATABASES (복수형!)\n",
    "- USE dbname\n",
    "- CREATE TABLE tablename()\n",
    "- CREATE TABLE IF NOT ECISTS tablename()\n",
    "- DROP TABLE tablename\n",
    "- DROP TABLE IF EXISTS tablename\n",
    "- ALTER TABLE tablename ADD COLUMN 속성명 속성값;\n",
    "- ALTER TABLE tablename MODIFY COLUMN 속성명 속성값; -> 속성을 정리하는데 다른 타입으로 변경하고 싶을때!\n",
    "- ALTER TABLE tablename CHANGE COLUMN 속성명 바꾸는명 속성값;\n",
    "- ALTER TABLE tablename DROP COLUMN 속성명; -> 속성제거"
   ]
  },
  {
   "cell_type": "code",
   "execution_count": null,
   "id": "377b5a66-72a7-4451-8e1a-f63c17f7e89e",
   "metadata": {},
   "outputs": [],
   "source": [
    "DD 생성되어진 요소에 값을 넣어본 적이 없음!"
   ]
  },
  {
   "cell_type": "markdown",
   "id": "6d6147fd-d2d9-4b20-a06b-5ac53f7f69cf",
   "metadata": {},
   "source": [
    "#### DML\n",
    "- INSERT INTO tablename VALUES (Field Value,Field Value,Field Value,Field Value); -> 필드의 순서가 중요! 데이터가 엉킬 수도..\n",
    "- INSERT INTO tablename(Field,Field,Field,Field) VALUES (Field Value,Field Value,Field Value,Field Value); -> 덜 헷갈리게 하는 방법\n",
    "- INSERT INTO tablename(Field,Field,Field,Field) VALUES (Field Value,Field Value,Field Value,Field Value),(Field Value,Field Value,Field Value,Field Value); -> 복수의 값 추가로넣는 방법\n",
    "- DESC tablename; -> 필드의 속성 알아보기\n",
    "  \n",
    "- SELECT * FROM students; -> 모든 필드 값 알아보기\n",
    "- SELECT column FROM tablename;\n",
    "- SELECT column,column FROM tablename; ->column 복수로 찾아오기\n",
    "- SELECT * FROM tablename WHERE column = value;\n",
    "- (\"=\",\">\",\"!=\",\"<>\")\n",
    "- SELECT * FROM tablename WHERE column >= value AND column = value;\n",
    "- SELECT * FROM tablename WHERE column >= value OR column = value;\n",
    "- SELECT * FROM tablename WHERE column LIKE \"%value%\"; \n",
    "- SELECT * FROM tablename WHERE column LIKE \"_value_\";\n",
    "\n",
    "- UPDATE tablename SET column = value;\n",
    "- UPDATE tablename SET column = value WHERE column = value; #safty mode\n",
    "- UPDATE tablename SET column = value WHERE Pirmarykey = primaryvalue; \n",
    "\n",
    "- DELETE FROM tablename; #안좋은 방법\n",
    "- DELETE FROM tablename WHERE column = value;"
   ]
  },
  {
   "cell_type": "markdown",
   "id": "06f1ed32-8f1d-4cdb-bcf2-b96c21227831",
   "metadata": {},
   "source": [
    "#### 회원정보 관리 시시템을 구축하기 위한 멤버십 DB를 하나 만들어주세요.\n",
    "- 조건 1, DB안에는 1개읠 테이블이 존재합니다, 각각의 레코드에는 속성인 회원번호, 이름 이메일 생년월일 가입일시 포인트 성별이 반드시 속성으로 포함되어 있어야함.\n",
    "- 조건 2, 최소 3명의 회원 정보가 들어갈 수 있도록 임의로 데이터를 적용해주세요\n",
    "- 조건 3, 해당 DB및 테이블이 모두 설계 되었다면 고객 포인트가 1000 이상인 회원만 조회 및 출력해주세요.\n",
    "- 조건 4, 이메일 도메인이 @google.com인 사람만 조회할 수 있도록 코드를 작성해주세요."
   ]
  },
  {
   "cell_type": "markdown",
   "id": "232f6cb2-2eff-421c-bcd1-b346f13d0436",
   "metadata": {},
   "source": [
    "#### DCL"
   ]
  },
  {
   "cell_type": "code",
   "execution_count": null,
   "id": "cdb9a6ea-b9ac-41a6-97be-a447a79d83aa",
   "metadata": {},
   "outputs": [],
   "source": []
  }
 ],
 "metadata": {
  "kernelspec": {
   "display_name": "Python [conda env:base] *",
   "language": "python",
   "name": "conda-base-py"
  },
  "language_info": {
   "codemirror_mode": {
    "name": "ipython",
    "version": 3
   },
   "file_extension": ".py",
   "mimetype": "text/x-python",
   "name": "python",
   "nbconvert_exporter": "python",
   "pygments_lexer": "ipython3",
   "version": "3.13.5"
  }
 },
 "nbformat": 4,
 "nbformat_minor": 5
}
