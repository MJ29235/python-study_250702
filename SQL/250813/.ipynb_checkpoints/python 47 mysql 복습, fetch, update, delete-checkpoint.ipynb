{
 "cells": [
  {
   "cell_type": "code",
   "execution_count": 60,
   "id": "cae77bdb-3dc6-4a56-890e-d1443fcf88f3",
   "metadata": {},
   "outputs": [],
   "source": [
    "##### 패턴코드 ########\n",
    "\n",
    "import pymysql\n",
    "\n",
    "# connect : pymysql에 접속할 수 있게 해주는 것!\n",
    "db = pymysql.connect(\n",
    "    host = \"localhost\",\n",
    "    port = 3306,\n",
    "    user = \"root\",\n",
    "    passwd = \"asdf1122\",\n",
    "    db = \"ecommerce_v1\",\n",
    "    charset = \"utf8\"\n",
    ")\n"
   ]
  },
  {
   "cell_type": "code",
   "execution_count": 3,
   "id": "fe5b9401-6f3a-4dcb-a0ed-faeb9d8c3f75",
   "metadata": {},
   "outputs": [
    {
     "data": {
      "text/plain": [
       "<pymysql.connections.Connection at 0x1ba21e68550>"
      ]
     },
     "execution_count": 3,
     "metadata": {},
     "output_type": "execute_result"
    }
   ],
   "source": [
    "db # 출력값이 <pymysql.connections.Connection at 0x1ba21e68550> : 정상적으로 연결되었다!"
   ]
  },
  {
   "cell_type": "code",
   "execution_count": 61,
   "id": "6f07392a-376d-4e89-8dba-1b019e2c710f",
   "metadata": {},
   "outputs": [],
   "source": [
    "# db에 cursor로 결과값을 받아오면 메서드함수를 만들어서 받아올 수 있음!\n",
    "ecommercev1 = db.cursor()"
   ]
  },
  {
   "cell_type": "code",
   "execution_count": 5,
   "id": "1f9a5dc0-6025-4aa7-80e5-09e0a62c7a63",
   "metadata": {},
   "outputs": [
    {
     "data": {
      "text/plain": [
       "<pymysql.cursors.Cursor at 0x1ba1fbdbb60>"
      ]
     },
     "execution_count": 5,
     "metadata": {},
     "output_type": "execute_result"
    }
   ],
   "source": [
    "ecommercev1 # <pymysql.cursors.Cursor at 0x1ba1fbdbb60> : Cursor로데이터베이스 안에 값을 컨트롤 할 수 있다!"
   ]
  },
  {
   "cell_type": "code",
   "execution_count": 9,
   "id": "2416b258-63c5-42ec-92a9-10174c424673",
   "metadata": {},
   "outputs": [],
   "source": [
    "sql = \"\"\"\n",
    "    CREATE TABLE product(\n",
    "        PRODUCT_CODE VARCHAR(20) PRIMARY KEY NOT NULL,\n",
    "        TITLE VARCHAR(200) NOT NULL,\n",
    "        ORI_PRICE INT, \n",
    "        DISCOUNT_PRICE INT, \n",
    "        DISCOUNT_PERCENT INT, \n",
    "        DELIVERY VARCHAR(2)\n",
    "    );\n",
    "\"\"\""
   ]
  },
  {
   "cell_type": "code",
   "execution_count": 7,
   "id": "b92c1276-70b3-4e50-abf5-a2c08de9484a",
   "metadata": {},
   "outputs": [
    {
     "data": {
      "text/plain": [
       "'\\n    CREATE TABLE product(\\n        PRODUCT_CODE PRIMARY KEY VARCHAR(20) NOT NULL,\\n        TITLE VARCHAR(200) NOT NULL,\\n        ORI_PRICE INT, \\n        DISCOUNT_PRICE INT, \\n        DISCOUNT_PERCENT INT, \\n        DELIVERY VARCHAR(2)\\n    );\\n'"
      ]
     },
     "execution_count": 7,
     "metadata": {},
     "output_type": "execute_result"
    }
   ],
   "source": [
    "sql # 테이블에 잘 들어갔는지 확인하기!"
   ]
  },
  {
   "cell_type": "code",
   "execution_count": 10,
   "id": "fe4437ac-2854-4432-811b-a7154ddfd84a",
   "metadata": {},
   "outputs": [
    {
     "data": {
      "text/plain": [
       "0"
      ]
     },
     "execution_count": 10,
     "metadata": {},
     "output_type": "execute_result"
    }
   ],
   "source": [
    "ecommercev1.execute(sql) # "
   ]
  },
  {
   "cell_type": "code",
   "execution_count": 11,
   "id": "eb1ebcda-6198-4e14-9f30-f312c73066e6",
   "metadata": {},
   "outputs": [],
   "source": [
    "db.commit() # 변경 사항 저장"
   ]
  },
  {
   "cell_type": "code",
   "execution_count": 12,
   "id": "0ca115cd-215b-4539-834d-6a2345c11715",
   "metadata": {},
   "outputs": [],
   "source": [
    "db.close() # 닫기"
   ]
  },
  {
   "cell_type": "code",
   "execution_count": null,
   "id": "58bf3225-9b2f-4411-a6e7-144cc00b983a",
   "metadata": {},
   "outputs": [],
   "source": [
    "##### 여기 위까지 하나의 종결되어진 프로젝트! pymysql을 통해 sql을 테이블을 만듦! ####### "
   ]
  },
  {
   "cell_type": "code",
   "execution_count": null,
   "id": "b07fbb00-7017-4562-a1d9-84260aad4ed2",
   "metadata": {},
   "outputs": [],
   "source": []
  },
  {
   "cell_type": "code",
   "execution_count": null,
   "id": "0ff0c9c3-9765-40c5-9646-95ed6a9e500a",
   "metadata": {},
   "outputs": [],
   "source": [
    "##### 이제 다시 열어야함! ######## 위에꺼 다시 눌러도되지만 기록해놓으려고 복붙함!"
   ]
  },
  {
   "cell_type": "code",
   "execution_count": 80,
   "id": "ffd34850-4088-4c96-a16b-9a2f44b6440c",
   "metadata": {},
   "outputs": [],
   "source": [
    "import pymysql\n",
    "\n",
    "# connect : pymysql에 접속할 수 있게 해주는 것!\n",
    "db = pymysql.connect(\n",
    "    host = \"localhost\",\n",
    "    port = 3306,\n",
    "    user = \"root\",\n",
    "    passwd = \"asdf1122\",\n",
    "    db = \"ecommerce_v1\",\n",
    "    charset = \"utf8\"\n",
    ")"
   ]
  },
  {
   "cell_type": "code",
   "execution_count": 81,
   "id": "1fd1a669-3d1c-4013-aedd-bb93ce4f0930",
   "metadata": {},
   "outputs": [],
   "source": [
    "## db안에 테이블안에 값 만들기\n",
    "cursor = db.cursor() # 테이블 값을 처리할 수 있는 역할"
   ]
  },
  {
   "cell_type": "code",
   "execution_count": 58,
   "id": "c0015f9a-dcc9-454b-9d3a-79fc44b54a81",
   "metadata": {
    "scrolled": true
   },
   "outputs": [
    {
     "name": "stdout",
     "output_type": "stream",
     "text": [
      "\n",
      "        INSERT INTO product VALUES(\n",
      "            '215879151',\n",
      "            '스위트바니 여름신상 5900원 ~ 롱원피스 티셔츠/긴팔/반팔',\n",
      "            23000,\n",
      "            6900,\n",
      "            70,\n",
      "            'F'\n",
      "        );\n",
      "    \n"
     ]
    },
    {
     "ename": "InterfaceError",
     "evalue": "(0, '')",
     "output_type": "error",
     "traceback": [
      "\u001b[1;31m---------------------------------------------------------------------------\u001b[0m",
      "\u001b[1;31mInterfaceError\u001b[0m                            Traceback (most recent call last)",
      "Cell \u001b[1;32mIn[58], line 16\u001b[0m\n\u001b[0;32m     14\u001b[0m \u001b[38;5;28mprint\u001b[39m(SQL)\n\u001b[0;32m     15\u001b[0m \u001b[38;5;66;03m## '{product_code}' 숫자를 문자열로 변환\u001b[39;00m\n\u001b[1;32m---> 16\u001b[0m cursor\u001b[38;5;241m.\u001b[39mexecute(SQL)\n",
      "File \u001b[1;32m~\\anaconda3\\Lib\\site-packages\\pymysql\\cursors.py:153\u001b[0m, in \u001b[0;36mCursor.execute\u001b[1;34m(self, query, args)\u001b[0m\n\u001b[0;32m    149\u001b[0m     \u001b[38;5;28;01mpass\u001b[39;00m\n\u001b[0;32m    151\u001b[0m query \u001b[38;5;241m=\u001b[39m \u001b[38;5;28mself\u001b[39m\u001b[38;5;241m.\u001b[39mmogrify(query, args)\n\u001b[1;32m--> 153\u001b[0m result \u001b[38;5;241m=\u001b[39m \u001b[38;5;28mself\u001b[39m\u001b[38;5;241m.\u001b[39m_query(query)\n\u001b[0;32m    154\u001b[0m \u001b[38;5;28mself\u001b[39m\u001b[38;5;241m.\u001b[39m_executed \u001b[38;5;241m=\u001b[39m query\n\u001b[0;32m    155\u001b[0m \u001b[38;5;28;01mreturn\u001b[39;00m result\n",
      "File \u001b[1;32m~\\anaconda3\\Lib\\site-packages\\pymysql\\cursors.py:322\u001b[0m, in \u001b[0;36mCursor._query\u001b[1;34m(self, q)\u001b[0m\n\u001b[0;32m    320\u001b[0m conn \u001b[38;5;241m=\u001b[39m \u001b[38;5;28mself\u001b[39m\u001b[38;5;241m.\u001b[39m_get_db()\n\u001b[0;32m    321\u001b[0m \u001b[38;5;28mself\u001b[39m\u001b[38;5;241m.\u001b[39m_clear_result()\n\u001b[1;32m--> 322\u001b[0m conn\u001b[38;5;241m.\u001b[39mquery(q)\n\u001b[0;32m    323\u001b[0m \u001b[38;5;28mself\u001b[39m\u001b[38;5;241m.\u001b[39m_do_get_result()\n\u001b[0;32m    324\u001b[0m \u001b[38;5;28;01mreturn\u001b[39;00m \u001b[38;5;28mself\u001b[39m\u001b[38;5;241m.\u001b[39mrowcount\n",
      "File \u001b[1;32m~\\anaconda3\\Lib\\site-packages\\pymysql\\connections.py:562\u001b[0m, in \u001b[0;36mConnection.query\u001b[1;34m(self, sql, unbuffered)\u001b[0m\n\u001b[0;32m    560\u001b[0m \u001b[38;5;28;01mif\u001b[39;00m \u001b[38;5;28misinstance\u001b[39m(sql, \u001b[38;5;28mstr\u001b[39m):\n\u001b[0;32m    561\u001b[0m     sql \u001b[38;5;241m=\u001b[39m sql\u001b[38;5;241m.\u001b[39mencode(\u001b[38;5;28mself\u001b[39m\u001b[38;5;241m.\u001b[39mencoding, \u001b[38;5;124m\"\u001b[39m\u001b[38;5;124msurrogateescape\u001b[39m\u001b[38;5;124m\"\u001b[39m)\n\u001b[1;32m--> 562\u001b[0m \u001b[38;5;28mself\u001b[39m\u001b[38;5;241m.\u001b[39m_execute_command(COMMAND\u001b[38;5;241m.\u001b[39mCOM_QUERY, sql)\n\u001b[0;32m    563\u001b[0m \u001b[38;5;28mself\u001b[39m\u001b[38;5;241m.\u001b[39m_affected_rows \u001b[38;5;241m=\u001b[39m \u001b[38;5;28mself\u001b[39m\u001b[38;5;241m.\u001b[39m_read_query_result(unbuffered\u001b[38;5;241m=\u001b[39munbuffered)\n\u001b[0;32m    564\u001b[0m \u001b[38;5;28;01mreturn\u001b[39;00m \u001b[38;5;28mself\u001b[39m\u001b[38;5;241m.\u001b[39m_affected_rows\n",
      "File \u001b[1;32m~\\anaconda3\\Lib\\site-packages\\pymysql\\connections.py:843\u001b[0m, in \u001b[0;36mConnection._execute_command\u001b[1;34m(self, command, sql)\u001b[0m\n\u001b[0;32m    838\u001b[0m \u001b[38;5;250m\u001b[39m\u001b[38;5;124;03m\"\"\"\u001b[39;00m\n\u001b[0;32m    839\u001b[0m \u001b[38;5;124;03m:raise InterfaceError: If the connection is closed.\u001b[39;00m\n\u001b[0;32m    840\u001b[0m \u001b[38;5;124;03m:raise ValueError: If no username was specified.\u001b[39;00m\n\u001b[0;32m    841\u001b[0m \u001b[38;5;124;03m\"\"\"\u001b[39;00m\n\u001b[0;32m    842\u001b[0m \u001b[38;5;28;01mif\u001b[39;00m \u001b[38;5;129;01mnot\u001b[39;00m \u001b[38;5;28mself\u001b[39m\u001b[38;5;241m.\u001b[39m_sock:\n\u001b[1;32m--> 843\u001b[0m     \u001b[38;5;28;01mraise\u001b[39;00m err\u001b[38;5;241m.\u001b[39mInterfaceError(\u001b[38;5;241m0\u001b[39m, \u001b[38;5;124m\"\u001b[39m\u001b[38;5;124m\"\u001b[39m)\n\u001b[0;32m    845\u001b[0m \u001b[38;5;66;03m# If the last query was unbuffered, make sure it finishes before\u001b[39;00m\n\u001b[0;32m    846\u001b[0m \u001b[38;5;66;03m# sending new commands\u001b[39;00m\n\u001b[0;32m    847\u001b[0m \u001b[38;5;28;01mif\u001b[39;00m \u001b[38;5;28mself\u001b[39m\u001b[38;5;241m.\u001b[39m_result \u001b[38;5;129;01mis\u001b[39;00m \u001b[38;5;129;01mnot\u001b[39;00m \u001b[38;5;28;01mNone\u001b[39;00m:\n",
      "\u001b[1;31mInterfaceError\u001b[0m: (0, '')"
     ]
    }
   ],
   "source": [
    "for index in range(10) :\n",
    "    product_code = 215879150 + index + 1 # 고정된 상수값에 연결된 연산자 index => 반복할때마다 1을 올려준다!\n",
    "     # 값을 추가하는 sql 문법\n",
    "    SQL = f\"\"\"\n",
    "        INSERT INTO product VALUES(\n",
    "            '{product_code}',\n",
    "            '스위트바니 여름신상 5900원 ~ 롱원피스 티셔츠/긴팔/반팔',\n",
    "            23000,\n",
    "            6900,\n",
    "            70,\n",
    "            'F'\n",
    "        );\n",
    "    \"\"\"\n",
    "    print(SQL)\n",
    "    ## '{product_code}' 숫자를 문자열로 변환\n",
    "    cursor.execute(SQL)\n",
    "    "
   ]
  },
  {
   "cell_type": "code",
   "execution_count": 55,
   "id": "963d18de-001d-4156-a3c9-329779baabe3",
   "metadata": {},
   "outputs": [],
   "source": [
    "db.commit()"
   ]
  },
  {
   "cell_type": "code",
   "execution_count": 64,
   "id": "24c156da-c328-4a96-b1ed-1a4d446dea84",
   "metadata": {},
   "outputs": [],
   "source": [
    "db.close()"
   ]
  },
  {
   "cell_type": "code",
   "execution_count": null,
   "id": "25894002-3b29-4679-8c84-049ed31fd12f",
   "metadata": {},
   "outputs": [],
   "source": []
  },
  {
   "cell_type": "code",
   "execution_count": null,
   "id": "5d31ad26-4733-49c1-9a63-c7aa91ad2d26",
   "metadata": {},
   "outputs": [],
   "source": [
    "##### 데이터 조회해보기! #####"
   ]
  },
  {
   "cell_type": "code",
   "execution_count": null,
   "id": "cfa3ba95-a57f-4b65-b23f-a976569ab0f0",
   "metadata": {},
   "outputs": [],
   "source": [
    "# fetchall() : 해당 테이블 내 모든 데이터를 가져옵니다.\n",
    "# fetchone() : 매칭되는 해당 값 중 첫번쨰 값을 가져옵니다.\n",
    "# 가져오는 값은 리스트 형태로 가져옴!\n",
    "# > 이미 앞에서 먼저 찾아온 값이 존재한다면, 해당 값 이후부터 값을 찾아옴.\n",
    "# fetchmany() : 인자값으로 작성된 숫자만큼의 데이터를 가져옵니다."
   ]
  },
  {
   "cell_type": "code",
   "execution_count": null,
   "id": "1579156e-7661-49d8-868c-ff897466e67a",
   "metadata": {},
   "outputs": [],
   "source": [
    "# 위에가서 다시 시작하기! -> cursor까지!"
   ]
  },
  {
   "cell_type": "code",
   "execution_count": 67,
   "id": "6621e438-1a4e-49d8-932d-78037220fa12",
   "metadata": {},
   "outputs": [
    {
     "name": "stdout",
     "output_type": "stream",
     "text": [
      "('215673150', '스위트바니 여름신상 5900원 ~ 롱원피스 티셔츠/긴팔/반팔', 23000, 6900, 70, 'F')\n"
     ]
    }
   ],
   "source": [
    "SQL = \"SELECT * FROM product\"\n",
    "cursor.execute(SQL) # 위값이 실행될 수 있도록 cursor!\n",
    "# 전체값을 찾아온 다음,\n",
    "# 첫번째 값을 찾아와!\n",
    "row = cursor.fetchone()\n",
    "print(row)"
   ]
  },
  {
   "cell_type": "code",
   "execution_count": 69,
   "id": "6d82e319-106a-44e2-b9bc-0c73a2d5b97b",
   "metadata": {},
   "outputs": [
    {
     "name": "stdout",
     "output_type": "stream",
     "text": [
      "('215879151', '스위트바니 여름신상 5900원 ~ 롱원피스 티셔츠/긴팔/반팔', 23000, 6900, 70, 'F')\n"
     ]
    }
   ],
   "source": [
    "# 다음번째 값을 찾아오게 하기!\n",
    "row = cursor.fetchone()\n",
    "print(row) # 1이 올라감! 21567315'0' -> 21587915'1'"
   ]
  },
  {
   "cell_type": "code",
   "execution_count": 70,
   "id": "f36a514f-69d7-4b15-b1e0-ab94aeeafeb1",
   "metadata": {},
   "outputs": [
    {
     "name": "stdout",
     "output_type": "stream",
     "text": [
      "(('215879152', '스위트바니 여름신상 5900원 ~ 롱원피스 티셔츠/긴팔/반팔', 23000, 6900, 70, 'F'), ('215879153', '스위트바니 여름신상 5900원 ~ 롱원피스 티셔츠/긴팔/반팔', 23000, 6900, 70, 'F'))\n"
     ]
    }
   ],
   "source": [
    "#2개의 값을 찾아와\n",
    "rows = cursor.fetchmany(2) \n",
    "print(rows) # 각각의 값을 튜플의 형태로 찾아옴. 이터러블한 객체 : 반복문 사용가능!"
   ]
  },
  {
   "cell_type": "code",
   "execution_count": 71,
   "id": "892065d0-35b0-4dcd-a5f1-25666a5fef5b",
   "metadata": {},
   "outputs": [
    {
     "name": "stdout",
     "output_type": "stream",
     "text": [
      "('215879154', '스위트바니 여름신상 5900원 ~ 롱원피스 티셔츠/긴팔/반팔', 23000, 6900, 70, 'F')\n",
      "('215879155', '스위트바니 여름신상 5900원 ~ 롱원피스 티셔츠/긴팔/반팔', 23000, 6900, 70, 'F')\n",
      "('215879156', '스위트바니 여름신상 5900원 ~ 롱원피스 티셔츠/긴팔/반팔', 23000, 6900, 70, 'F')\n",
      "('215879157', '스위트바니 여름신상 5900원 ~ 롱원피스 티셔츠/긴팔/반팔', 23000, 6900, 70, 'F')\n",
      "('215879158', '스위트바니 여름신상 5900원 ~ 롱원피스 티셔츠/긴팔/반팔', 23000, 6900, 70, 'F')\n",
      "('215879159', '스위트바니 여름신상 5900원 ~ 롱원피스 티셔츠/긴팔/반팔', 23000, 6900, 70, 'F')\n",
      "('215879160', '스위트바니 여름신상 5900원 ~ 롱원피스 티셔츠/긴팔/반팔', 23000, 6900, 70, 'F')\n"
     ]
    }
   ],
   "source": [
    "# 전체 데이터 보기\n",
    "rowAll = cursor.fetchall()\n",
    "for row in rowAll:\n",
    "    print(row) # 앞에서 찾아간 값 외에 나머지 모든 값을 찾아옴!!"
   ]
  },
  {
   "cell_type": "code",
   "execution_count": null,
   "id": "4de32b2b-5c96-4ba2-bde8-ecf10e24ac9e",
   "metadata": {},
   "outputs": [],
   "source": []
  },
  {
   "cell_type": "code",
   "execution_count": 72,
   "id": "efe43bc6-e223-49fd-a313-90108449821d",
   "metadata": {},
   "outputs": [],
   "source": [
    "######### update, 삭제 ############"
   ]
  },
  {
   "cell_type": "code",
   "execution_count": 73,
   "id": "888b42cf-d1d6-4534-801c-476ec535b7f7",
   "metadata": {},
   "outputs": [],
   "source": [
    "SQL = \"\"\"\n",
    "    UPDATE product SET\n",
    "        TITLE = \"썸머 가디건 코디전\",\n",
    "        ORI_PRICE = 33000,\n",
    "        DISCOUNT_PRICE = 9900,\n",
    "        DISCOUNT_PERCENT = 70\n",
    "    WHERE PRODUCT_CODE = \"215879160\"\n",
    "\"\"\"\n",
    "# where -> 어디 레코드? 를 바꿀건지"
   ]
  },
  {
   "cell_type": "code",
   "execution_count": 74,
   "id": "593c962c-c64c-4265-8f44-da362dad082b",
   "metadata": {},
   "outputs": [
    {
     "data": {
      "text/plain": [
       "1"
      ]
     },
     "execution_count": 74,
     "metadata": {},
     "output_type": "execute_result"
    }
   ],
   "source": [
    "cursor.execute(SQL)"
   ]
  },
  {
   "cell_type": "code",
   "execution_count": 75,
   "id": "9bddf00c-0843-4d5c-9905-fe551bb83f2c",
   "metadata": {},
   "outputs": [],
   "source": [
    "db.commit() # 바꿨으니까 저장필수!!"
   ]
  },
  {
   "cell_type": "code",
   "execution_count": 76,
   "id": "289b4b7d-79f0-44d8-a801-334896524adb",
   "metadata": {},
   "outputs": [],
   "source": [
    "db.close()"
   ]
  },
  {
   "cell_type": "code",
   "execution_count": null,
   "id": "91486b3b-db74-4e9f-9cb1-6d524b2bc6ff",
   "metadata": {},
   "outputs": [],
   "source": []
  },
  {
   "cell_type": "code",
   "execution_count": null,
   "id": "811b0469-684f-449b-b810-40cc4a688f04",
   "metadata": {},
   "outputs": [],
   "source": [
    "######### update, 삭제 ############"
   ]
  },
  {
   "cell_type": "code",
   "execution_count": null,
   "id": "25793810-d9f7-4644-8eb3-a4d42d10e760",
   "metadata": {},
   "outputs": [],
   "source": [
    "# 프로그래밍 언어는 CRUD 라는 4가지 기능을 기본적으로 가지고 있다! (보유시 고급기능)\n",
    "# 마찬가지로 위에서 cursor 까지 실행시켜야함!"
   ]
  },
  {
   "cell_type": "code",
   "execution_count": 82,
   "id": "47423950-1741-40d1-b228-f17015f038ba",
   "metadata": {},
   "outputs": [
    {
     "name": "stdout",
     "output_type": "stream",
     "text": [
      "\n",
      "    DELETE FROM product\n",
      "    WHERE PRODUCT_CODE = '215879160';\n",
      "\n"
     ]
    }
   ],
   "source": [
    "SQL = \"\"\"\n",
    "    DELETE FROM product\n",
    "    WHERE PRODUCT_CODE = '215879160';\n",
    "\"\"\"\n",
    "print(SQL)"
   ]
  },
  {
   "cell_type": "code",
   "execution_count": 83,
   "id": "b801bb7c-f73c-4c70-9a10-2f058ea45145",
   "metadata": {},
   "outputs": [
    {
     "data": {
      "text/plain": [
       "1"
      ]
     },
     "execution_count": 83,
     "metadata": {},
     "output_type": "execute_result"
    }
   ],
   "source": [
    "cursor.execute(SQL)"
   ]
  },
  {
   "cell_type": "code",
   "execution_count": 84,
   "id": "4b01e019-bcd5-4be1-9e52-d8f6b9bd08f0",
   "metadata": {},
   "outputs": [],
   "source": [
    "db.commit()"
   ]
  },
  {
   "cell_type": "code",
   "execution_count": 85,
   "id": "fc386bef-601b-42dd-83d4-949b93ce0835",
   "metadata": {},
   "outputs": [],
   "source": [
    "db.close() # > 모든 작업이 끝났을 떄 해도 됨!"
   ]
  }
 ],
 "metadata": {
  "kernelspec": {
   "display_name": "Python [conda env:base] *",
   "language": "python",
   "name": "conda-base-py"
  },
  "language_info": {
   "codemirror_mode": {
    "name": "ipython",
    "version": 3
   },
   "file_extension": ".py",
   "mimetype": "text/x-python",
   "name": "python",
   "nbconvert_exporter": "python",
   "pygments_lexer": "ipython3",
   "version": "3.13.5"
  }
 },
 "nbformat": 4,
 "nbformat_minor": 5
}
