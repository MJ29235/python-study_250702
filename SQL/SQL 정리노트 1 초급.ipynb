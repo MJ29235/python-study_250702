{
 "cells": [
  {
   "cell_type": "markdown",
   "id": "64db4758-d01c-4c10-9788-3d3a265e3ec1",
   "metadata": {},
   "source": [
    "## SQL 학습 전 반드시 알고가야하는 개념 정의 (배경, 개념, 구조)\n",
    "1. 데이터 (Data) <-> 데이터 베이스(Data Base)\n",
    "2. 데이터 베이스(Data Base)\n",
    "3. 스키마 (Schema 구조,틀,템플릿) -데이터베이스 서버를 다룰 때 많이 사용\n",
    "4. 테이블 (Table)\n",
    "5. SQL"
   ]
  },
  {
   "cell_type": "markdown",
   "id": "75a7a043-79cd-40d5-935c-988a52214e28",
   "metadata": {},
   "source": [
    "### 1. 데이터(Data)\n",
    "- 수집가능한 값, 사실, 기록물 등의 원초적인 정보 \n",
    "- ex) 숫자 23, 5.9\n",
    "      문자 \"David\" , \"25-07-31\"\n",
    "      상태 \"True\" , \"False\"\n",
    "- 데이터 그 사실 자체로는 의미가 부족함 -> 구조화가 되어야 데이터는 비로소 가치를 가짐. 데이터가 모여서 패턴을 보이게 될 때!"
   ]
  },
  {
   "cell_type": "markdown",
   "id": "ae835349-8fe1-4d9c-b574-41c6ed78679b",
   "metadata": {},
   "source": [
    "### 2. 데이터 베이스 (Data Base DB)\n",
    "- 데이터를 구조화 할 수 있게 저장해주는 저장소!\n",
    "- 여러가지 다양한 데이터를 구조적이고 체계적으로 저장 및 관리할 수 있도록 해주는 저장소\n",
    "- 종류\n",
    "  1, 관계형 데이터베이스 : RDBMS, 구조적이고 체계적으로 저장되어있는 데이터를 관계식을 만들어놓음. 데이터끼리 필요할 때마다 찾아올 수 있게끔! // 툴 - 오라클(Oracle), MYSQL 등 우리는 MYSQL 배울것. oracle은 기능은 좋으나 난이도가 있는 편!\n",
    "  2, 비관계형 데이터베이스 : DBMS, 관계를 맺긴 하나, 전통적방식에서 벗어난 방식. // 툴 - 몽고 DB(MongoDB)\n",
    "- 개념 예) 오프라인 가게를 운영하는데, 일일 고객 주문정보, 특정기간동안 사용한 재고 수량 등 분류가 필요한 작업 등 효율적이고 체계적으로 만들자!"
   ]
  },
  {
   "cell_type": "markdown",
   "id": "b530b46a-649b-4fa2-bbf4-82b191713bef",
   "metadata": {},
   "source": [
    "### 3, 스키마 (Schema)\n",
    "- 데이터베이스의 구조를 정의한것. 개념적인요소.\n",
    "- 데이터베이스를 어떻게 구조화 할 것인지 정의해 놓은 일종의 설계도.\n",
    "- 스키마는 데이터베이스 내부에 존재하는 논리적 구조"
   ]
  },
  {
   "cell_type": "markdown",
   "id": "e158fcbf-8494-4fe1-9bbf-9df392286ac1",
   "metadata": {},
   "source": [
    "### 4, 테이블 (Table)\n",
    "- 관계형 데이터 베이스안에 저장된 실제 데이터의 저장 단위!\n",
    "- 데이터들을 오리지널로 두는게 아니라 테이블에 넣고 테이블 간에 관계를 어떻게 맺을 것인가? =  타입에 따라서 분류하면 스키마!\n",
    "- 구성요소\n",
    "  열 (Column) : 열 안에 있는 데이터 - 속성 (ex.고객의 나이, 성별, 이메일 등) 세부적인 내용 나뭇잎 \n",
    "  행 (row) : 하나의 행을 -레코드라고 불림 (ex. 한명의 고객) 하나의 가지"
   ]
  },
  {
   "cell_type": "markdown",
   "id": "ef86c113-43d8-4e39-8227-4441fc2a8e40",
   "metadata": {},
   "source": [
    "### 5, SQL (Sturctured Query Language)\n",
    "- 데이터 베이스에 명령어(정의, 조작, 제어)를 요청하게끔 도와주는 언어!\n",
    "- 나중에 구글 애널리틱스에서 데이터 베이스를 만들어낼때 필요한 요소가 빅쿼리!(=S Query L)로 시각화 -> 루쿼스튜디오\n",
    "- 문법이 방대함. so, 3가지 방식으로 기능을 나눠서 정리하는게 좋음 & 대표적 예시\n",
    "- DDL (Data Definition Language) : 생성 CREATE, (테이블을)버리거나 DROP, 대체할때 ALTER\n",
    "- DML (Data Manipulation Language) : 조작 SELECT, 데이터 사이에 끼워넣기 INSERT, 업데이트 UPDATE (세부적 데이터)제거 DELETE\n",
    "- DCL (Data Control Language) : 획득 GRANT, REVOKE 권한 설정 등의 문법."
   ]
  },
  {
   "cell_type": "markdown",
   "id": "15f6f64e-f782-4a85-b86b-38f979ffd7e7",
   "metadata": {},
   "source": [
    "### 지금까지 설명한 내용 정리 & 요약\n",
    "\n",
    "- 데이터 : 가장 하위 개념. 원초적인 정보를 의미\n",
    "- 테이블 : 해당 데이터를 담은(구조화) 틀\n",
    "- 스키마 : 이러한 테이블 간 관계를 정의한 설계도면\n",
    "- 데이터베이스 : 스키마의 개념속에 존재하는 테이블이 포함된 상위구조 및 개념\n",
    "- SQL : 이 모든 구조를 만들고, 조작하고, 제어할 수 있도록 해주는 언어"
   ]
  },
  {
   "cell_type": "markdown",
   "id": "5df7e9f4-a2d2-496c-84fd-2850e0abc4d5",
   "metadata": {},
   "source": [
    "#### 지금까지 학습했던 데이터 수집 관련 프로그램 정의 \n",
    "- 아나콘다(Anaconda) : Python 통합관리 플랫폼! 언어를 다룰 수 있게끔 해주는 통로 정도!\n",
    " 파이썬관련 다양한 라이브러리, 실행환경, 패키지 등을 종합적으로 제공해주는 플랫폼. 많은 요소들을 내포.\n",
    "- 쥬피터 노트북 (Jupyter Notebook) : Python 언어를 코딩 프로그램. python editor\n",
    "- MySQL : 관계형 데이터베이스 구조 공간을 설계하도록 지원해주는 관계형 데이터베이스 전문 프로그램\n",
    "  사용방법 2가지\n",
    "    MySQL WorkBench : MySQL을 시각적으로 보면서 테이블을 설계하고 각각의 테이블간 관계를 설정할 수 있도록 도와주는 GUI 방식의 보조 프로그램\n",
    "    /window 설치방법### 지금까지 학습했던 데이터 수집 관련 프로그램 정의 \n",
    "- 아나콘다(Anaconda) : Python 통합관리 플랫폼! 언어를 다룰 수 있게끔 해주는 통로 정도!\n",
    " 파이썬관련 다양한 라이브러리, 실행환경, 패키지 등을 종합적으로 제공해주는 플랫폼. 많은 요소들을 내포.\n",
    "- 쥬피터 노트북 (Jupyter Notebook) : Python 언어를 코딩 프로그램. python editor\n",
    "- MySQL : 관계형 데이터베이스 구조 공간을 설계하도록 지원해주는 관계형 데이터베이스 전문 프로그램\n",
    "  사용방법 2가지\n",
    "    MySQL WorkBench : MySQL을 시각적으로 보면서 테이블을 설계하고 각각의 테이블간 관계를 설정할 수 있도록 도와주는 GUI 방식의 보조 프로그램\n",
    "    /window 설치방법-mysql community download"
   ]
  },
  {
   "cell_type": "markdown",
   "id": "290564af-d74b-4d44-b55c-c04d1d8ae2ac",
   "metadata": {},
   "source": []
  },
  {
   "cell_type": "markdown",
   "id": "dd646f30-9843-459f-a6b8-5985be245004",
   "metadata": {},
   "source": [
    "#### 프로그래밍 영역에서 꼭 알고있어야 하는 상식\n",
    "4가지 기능의 수준에 따라서 좋은 프로그램인지 식별함! \n",
    "- C : Creat \n",
    "- R : Read\n",
    "- U : Update\n",
    "- D : Delete"
   ]
  },
  {
   "cell_type": "markdown",
   "id": "57765bad-319d-49ec-9728-60f9bb10a08c",
   "metadata": {},
   "source": [
    "#### table 생성 문법\n",
    "\n",
    "CREATE TABLE 테이블이름(\n",
    "    컬럼명, 데이터형,\n",
    "    컬럼명, 데이터형,\n",
    "    ...\n",
    "    기본키(PRIMARY KEY)\n",
    ");"
   ]
  },
  {
   "cell_type": "markdown",
   "id": "b123b002-287f-4179-a369-e393410aa667",
   "metadata": {},
   "source": [
    "#### Dave 라는 DB를 생성, 해당 DB 안에 다음과 같은 속성을 가지고 있는 테이블을 생성하세요.\n",
    "id, name, modelnumber, series\n",
    "id는 양의 정수값, 필수값 unsigned not null, 자동증가\n",
    "name은 최대 50자까지 가능한 문자열 & 필수값\n",
    "modelnumber는 최대 15자까지 가능한 문자열 & 필수값\n",
    "series는 최대 30자까지 가능한 문자열 & 필수 값\n",
    "고유 식별키는 id"
   ]
  },
  {
   "cell_type": "markdown",
   "id": "b1a8ca61-ab9d-4802-892d-a0fa40509ccb",
   "metadata": {},
   "source": [
    "1. name 의 최대 문자입력 값을 20으로 변경\n",
    "2. modelnumber 속성명을 model-number로 변경 & 최대 10자까지 변경\n",
    "3. series 속성명을 model_type 으로 변경 & 최대 10자까지로 변경"
   ]
  },
  {
   "cell_type": "markdown",
   "id": "c227363e-f908-4f3e-948d-25082683af54",
   "metadata": {},
   "source": [
    "1. 기존 데이터 베이스 내 privit을 삭제하세요.\n",
    "2. model_info 라는 새로운 테이블을 만들어주세요.\n",
    "3. 해당 테이블 안에는 id, name, model_num, model_type의 속성값을 설정해주세요.\n",
    "4. 고유키는 id여야 하며, 필수값, 자동 증가 속성 부여해주세요\n",
    "5. name은 최대 20 자까지 허용가능, 필수\n",
    "6. model_num은 최대 10자까지 허용가능, 필수\n",
    "7. model_type은 최대 10자까지 허용가능, 필수"
   ]
  },
  {
   "cell_type": "markdown",
   "id": "7577f303-4a41-4a35-8f40-a3dae06c1693",
   "metadata": {},
   "source": [
    "### DDL 문법 확실하게 소화할만큼 숙지!\n",
    "- CREATE DATABASE dbname\n",
    "- CREATE DATABASE IF NOT EXISTS dbname\n",
    "- SHOW DATABASES (복수형!)\n",
    "- USE dbname\n",
    "- CREATE TABLE tablename()\n",
    "- CREATE TABLE IF NOT EXISTS tablename()\n",
    "- DROP TABLE tablename\n",
    "- DROP TABLE IF EXISTS tablename\n",
    "- ALTER TABLE tablename ADD COLUMN 속성명 속성값;\n",
    "- ALTER TABLE tablename MODIFY COLUMN 속성명 속성값; -> 속성을 정리하는데 다른 타입으로 변경하고 싶을때!\n",
    "- ALTER TABLE tablename CHANGE COLUMN 속성명 바꾸는명 속성값;\n",
    "- ALTER TABLE tablename DROP COLUMN 속성명; -> 속성제거"
   ]
  },
  {
   "cell_type": "code",
   "execution_count": null,
   "id": "377b5a66-72a7-4451-8e1a-f63c17f7e89e",
   "metadata": {},
   "outputs": [],
   "source": [
    "DD 생성되어진 요소에 값을 넣어본 적이 없음!"
   ]
  },
  {
   "cell_type": "markdown",
   "id": "6d6147fd-d2d9-4b20-a06b-5ac53f7f69cf",
   "metadata": {},
   "source": [
    "#### DML\n",
    "- INSERT INTO tablename VALUES (Field Value,Field Value,Field Value,Field Value); -> 필드의 순서가 중요! 데이터가 엉킬 수도..\n",
    "- INSERT INTO tablename(Field,Field,Field,Field) VALUES (Field Value,Field Value,Field Value,Field Value); -> 덜 헷갈리게 하는 방법\n",
    "- INSERT INTO tablename(Field,Field,Field,Field) VALUES (Field Value,Field Value,Field Value,Field Value),(Field Value,Field Value,Field Value,Field Value); -> 복수의 값 추가로넣는 방법\n",
    "- DESC tablename; -> 필드의 속성 알아보기\n",
    "  \n",
    "- SELECT * FROM students; -> 모든 필드 값 알아보기\n",
    "- SELECT column FROM tablename;\n",
    "- SELECT column,column FROM tablename; ->column 복수로 찾아오기\n",
    "- SELECT * FROM tablename WHERE column = value;\n",
    "- (\"=\",\">\",\"!=\",\"<>\")\n",
    "- SELECT * FROM tablename WHERE column >= value AND column = value;\n",
    "- SELECT * FROM tablename WHERE column >= value OR column = value;\n",
    "- SELECT * FROM tablename WHERE column LIKE \"%value%\"; \n",
    "- SELECT * FROM tablename WHERE column LIKE \"_value_\";\n",
    "\n",
    "- UPDATE tablename SET column = value;\n",
    "- UPDATE tablename SET column = value WHERE column = value; #safty mode -> safty mode로 원하는 조작이 안될 수도 있었음!\n",
    "- UPDATE tablename SET column = value WHERE Pirmarykey = primaryvalue; \n",
    "\n",
    "- DELETE FROM tablename; #안좋은 방법\n",
    "- DELETE FROM tablename WHERE column = value;"
   ]
  },
  {
   "cell_type": "markdown",
   "id": "06f1ed32-8f1d-4cdb-bcf2-b96c21227831",
   "metadata": {},
   "source": [
    "#### 회원정보 관리 시스템을 구축하기 위한 멤버십 DB를 하나 만들어주세요.\n",
    "- 조건 1, DB안에는 1개의 테이블이 존재합니다, 각각의 레코드에는 속성인 회원번호, 이름 이메일 생년월일 가입일시 포인트 성별이 반드시 속성으로 포함되어 있어야함.\n",
    "- 조건 2, 최소 3명의 회원 정보가 들어갈 수 있도록 임의로 데이터를 적용해주세요\n",
    "- 조건 3, 해당 DB및 테이블이 모두 설계 되었다면 고객 포인트가 1000 이상인 회원만 조회 및 출력해주세요.\n",
    "- 조건 4, 이메일 도메인이 @google.com인 사람만 조회할 수 있도록 코드를 작성해주세요."
   ]
  },
  {
   "cell_type": "markdown",
   "id": "232f6cb2-2eff-421c-bcd1-b346f13d0436",
   "metadata": {},
   "source": [
    "### DCL"
   ]
  },
  {
   "cell_type": "markdown",
   "id": "7a4febf5-ef78-4461-a0f0-9de2fb7ef441",
   "metadata": {},
   "source": [
    "#### 선생님 필기\n",
    "- USE mysql => 현재 존재하는 사용자 정보 확인\n",
    "- SELECT host, user FROM user; => 사용자별 세부 권한 확인\n",
    "- CREATE USER \"사용자이름@사용권한범위(*localhost)\"\n",
    "- IDENTIFIED BY \"패스워드\"\n",
    "- 사용권한범위 : localhost // %\n",
    "- SET PASSWORD FOR \"사용자이름\"@\"권한범위\" = \"변경하고싶은 패스워드\" => 패스워드 변경 시\n",
    "- DROP USER \"사용자이름\"@\"권한범위\" => 특정 사용자 계정 삭제 시\n",
    "- SHOW GRANTS FOR \"사용자이름@권한범위\" (ex. SHOW GRANTS FOR \"root@localhost\") => 특정 사용자가 가진 권한을 확인하고 싶을 때\n",
    "- GRANT SELECT ON db이름.테이블이름 TO \"사용자이름@권한범위\" => 특정 DB > 특정 Table에만 접근할 수 있도록 제한\n",
    "- GRANT ALL ON db.* TO \"사용자이름@권한범위\" => 특정 DB > 모든 Table에 접근할 수 있도록 제한\n",
    "- GRANT INSERT, UPDATE, SELECT ON . TO \"사용자이름@권한범위\" => 특정 권한만 줄 수 있도록 선택할 수 있음"
   ]
  },
  {
   "cell_type": "markdown",
   "id": "9eb9cbdd-d40a-4cad-9eda-a3277352e868",
   "metadata": {},
   "source": [
    "#### 내 필기\n",
    "USE MYSQL;\n",
    "DESC user;\n",
    "SELECT host, user FROM user; -- 계정정보를 담당하는 속성 \n",
    "#### localhost => 127.0.0.1 => DNS\n",
    "\n",
    "CREATE USER 'david7'@'localhost' -- localhost에 david7 이라는 로컬파일을 만들겠다!\n",
    "IDENTIFIED BY 'david1234'; -- 비밀번호\n",
    "\n",
    "CREATE USER 'david8'@'%' -- 다른 공간에서 접속이 가능하게 만들어주는 방법. 로컬호스트가 아니어도(회사 내 망이 아니어도) 사용가능!\n",
    "IDENTIFIED BY 'david1234'; -- 비밀번호\n",
    "\n",
    "#### 패스워드 변경\n",
    "- SET PASSWORD FOR 'david8'@ '%' ='david5678';\n",
    "\n",
    "#### 삭제하기\n",
    "- DROP user 'david7'@'%';\n",
    "- DROP user 'david7'@'localhost';\n",
    "#### 로컬호스트 사용 권한 알아보기\n",
    "- SHOW GRANTS FOR 'root'@'localhost'; -- root라는 사용자의 권한 획득\n",
    "\n",
    "#### 특정테이블에만 접근하고 기능을 사용하되, 다른 DB는 건들지 못하게끔 하는것\n",
    "- GRANT SELECT ON school.students TO 'david7'@'localhost'; -> david7의 로컬호스트에서 school이라는 DB에 students에만 접근하게\n",
    "- SHOW GRANTS FOR 'david7'@'localhost';\n",
    "#### school 내에서 모든 테이블을 보여줄 수 있게하는것.\n",
    "GRANT ALL ON school.* TO 'david7'@'localhost';\n",
    "SHOW GRANTS FOR 'david7'@'localhost';"
   ]
  },
  {
   "cell_type": "markdown",
   "id": "10df208f-cf6a-4e4f-9b5c-1682739ba169",
   "metadata": {},
   "source": [
    "### SELECT 문법 : \n",
    "- LIMIT :  가져올 수 있는 데이터 중, 일부만 가져오고 싶을때, 사용하는 것.\n",
    "- COUNT(*집계함수) : 데이터의 총 개수를 확인하고 싶을때\n",
    "- DISTINCT : 특정 값을 가져올 때, 중복된 값을 출력하고 싶지 않을때. -> 범주형 데이터\n",
    "- SUM : 해당 컬럼값의 합계를 찾아올때 -> 수치형데이터\n",
    "- AVG : 해당 컬럼값의 평균를 찾아올때 -> 수치형데이터\n",
    "- MAX : 해당 컬럼값의 최댓값를 찾아올때 -> 수치형데이터\n",
    "- MIN : 해당 컬럼값의 최소값를 찾아올때 -> 수치형데이터\n",
    "-----------------------------------------------------\n",
    "- GROUP BY : 특정 컬럼값을 기반으로 그룹핑하기 (그룹을 기준으로! 왜 그룹화를 하는가? 하나의 값에서 정렬이 필요할때! =>\n",
    "- EX) SELECT rating FROM film GROUP BY rating : film이라는 테이블에서 rating 값을 찾아오는데, 해당 rating의 값을 그룹화해서 찾아와라! \n",
    "- SELECT COUNT(*) FROM film GROUP BY rating : 각 레이팅 값의 종류별로 몇개의 데이터가 있는지 확인.\n",
    "- SELECT COUNT(*) FROM film WHERE 조건문 GROUP BY rating : 특정 조건에 맞는 데이터중 rating 값의 종류별로 몇 개의 데이터가 있는지 확인\n",
    "-----------------------------------------------------\n",
    "- ORDER BY : 특정컬럼을 기준으로 데이터를 정렬 (*오름차순 = ASC or 내림차순 = DESC)\n",
    "- ⬆️특징 : 만약 DESC, ASC 중 그 어떤 값도 입력하지 않는다면, 기본 디폴트 값은 ASC정렬로 실행됨!!!\n",
    "-----------------------------------------------------\n",
    "일반적인 구문 구성!\n",
    "\"\"\"\n",
    "SLECT 컬럼명➡️\n",
    "FROM 테이블명➡️\n",
    "WHERE 조건절➡️\n",
    "GROUP BY 컬럼➡️\n",
    "ORDER BY 컬럼➡️\n",
    "LIMIT 출력갯수\n",
    "\"\"\""
   ]
  },
  {
   "cell_type": "markdown",
   "id": "c68eaf1b-676e-4177-be80-0494505fef22",
   "metadata": {},
   "source": [
    "## DATA 대분류 리스트 : \n",
    "1) 수치형 데이터 : (1,2,1.1 등) -> 해당 수치값이 각각 고유한 의미 (1 != 1)\n",
    "2) 범주형 데이터 : 선택지가 있는 데이터 (남 / 여, 성인 / 미성년자) -> 데이터들의 속성이 같음.(남자=남자) 중복값을 제거해야하는 경우가 많음! 이때 사용하는 문법 DISTINCT"
   ]
  },
  {
   "cell_type": "markdown",
   "id": "2e0d21ce-c15f-4f5d-929c-e694541ccb2c",
   "metadata": {},
   "source": [
    "# SQL 중급단계"
   ]
  },
  {
   "cell_type": "markdown",
   "id": "b681aab2-1797-41e4-b149-4382312c85c5",
   "metadata": {},
   "source": [
    "1) FOREIGN KEY(외래키) <-> PRIMARY KEY(고유키)\n",
    "2) HAVING 절\n",
    "    - HAVING절을 사용해서 ‘조건’을 비교한다.\n",
    "    - WHERE절을 활용해서 ‘조건’비교가 가능한데 왜 굳이 HAVING절이 왜 필요할까?\n",
    "    - 특정 Table 내 그룹핑을 하는 GROUP BY 를 적용한 상태에서 집계함수가 포함된 조건식을 사용하려면, 반드시 HAVING 절을 사용해야함!\n",
    "3) JOIN  : 서로다른 테이블을 하나의 연결된 테이블로 활용하고자 할때 JOIN\n",
    "    - INNER JOIN\n",
    "    서로 다른 테이블간 매칭되는 데이터에 한해서, 해당 데이터(ON)를 기준으로 연결\n",
    "    →서로다른 테이블을 하나로 연결하기 위해서는 어떤 데이터를 기준으로 연결할 것인가? → ON : 기준점!! 을 기반으로 공통점을 찾아주고 두 테이블을 연결 시켜라!!!\n",
    "    → JOIN 이라는 문법 사용시 default.\n",
    "    so, INNER 생략 가능!\n",
    "    → 실무에서도 많이 사용되는 기능!\n",
    "     → why? 복수의 테이블을 관리하는 경우가 빈번, so, 각각의 테이블 간 연결고리 FOREIGN KEY 만들어놓고, 해당 테이블 간 연결하는 경우가 숙명적으로 많음.\n",
    "    - OUTER JOIN\n",
    "    서로 매칭되지 않는 데이터도 모두 찾아옴.\n",
    "    → 상대적으로 많이 사용하진 않음\n",
    "     → 먼저 언급되어진 테이블이 뭐냐에 따라 값이 다르게 나올 수도 있기 떄문에 리스크가 크다!!!\n",
    "        - LEFT OUTER JOIN\n",
    "        먼저 언급된(프로그램 언어의 방식은 왼쪽부터 읽음 left data=)부모 데이터를 기준으로 다른 테이블을 연결, 자식데이터에 부모데이터와 매칭되지 않은 데이터가 존재하더라도 해당 데이터를 누락시키지 않고 찾아옴!\n",
    "        - RIGHT OUTER JOIN\n",
    "        자식 데이터를 기준으로 다른 테이블을 연결시키고, 마찬가지로 매칭되지 않은 데이터들을 누락시키지 않고 모두 찾아옴!!\n",
    "4) SubQuery\n",
    "- SQL문 안에 포함되어있는 SQL문 ⇒ 중첩 SQL문\n",
    "- JOIN과 비슷함! JOIN이 최신이지만 시험에서 SubQuery를 쓰는게 좋음.\n",
    "JOIN은 메모리 낭비가 좀 있을 수도 있다는 주장 때문.."
   ]
  },
  {
   "cell_type": "markdown",
   "id": "9b304a02-3690-4c03-a1e2-08ce38131ca6",
   "metadata": {},
   "source": [
    "#### 무신사 브랜드 사용할 것 같은 느낌으로 Table 생성 -> 마케터의 관점에서 어떻게 사용하면 좋을까?\n",
    "- 고객 테이블 (고객 정보 가지고 있는 데이터 -> 나이. 성별, 주소 이메일 전화번호 등)\n",
    "- 상품 테이블 (상품 정보 가지고 있는 데이터 -> 재고, 메인 카테고리, 서브카테고리, 상품가격, 할인가격, 할인률 등)\n",
    "- 주문 테이블 (주문 정보 가지고 있는 데이터 -> 주문수량, 주문한 날짜, 외래 키 -> 고객 & 상품)\n",
    "- 리뷰 테이블 (리뷰 정보 가지고 있는 데이터 -> 평점, 리뷰 내용, 리뷰 작성날짜, 외래키 -> 고객 & 상품)"
   ]
  },
  {
   "cell_type": "markdown",
   "id": "4cfd025a-458b-4ef6-adfc-37b9fe09e6f6",
   "metadata": {},
   "source": [
    "#### 데이터 분석 마케터!\n",
    "- 문제 １: 나의 고민 자사 매출 증대를 목표, 마케팅 진행 //회원들의 등급을 파악하고 해당 등급에 따른 차별화된 CRM 마케팅 진행 // 회원 등급별 인원수 -> 가장 많은 등급에 속해있는 사용자들을 분석해서 페르소나화 해야곘다 -> 결론 : 회원등급별 인원수 출력\n",
    "- 문제 ２ : 자사몰에서 꾸준하게 잘 판매되고 있는 상품과 그렇지 않은 상품들 구분。 잘 판매되고 있는 상품은 지속적으로 신규고객 및 충성고객 확보를 목표/ 판매실적이 좋지 않은 상품은 단종. 리뉴얼 재고 관리. -> 결론 : 상품별 평균 평점 출력\n",
    "-  > 평점이 높은 것들은 적극적으로 마케팅! 평점이 낮은것은 보완점을 찾아야함!\n",
    "- 문제 3 : OKR, KPI, NSM 中 NSM지표에 의거하면 월별 주문건수가 00건 이하로 나오면 위기!! 000건 이상이면 긍정 // 현 시점을 기준으로 최근 한달간 전체 주문건 수를 확인해야함. -> 결론 : 최근 30일 이내 주문된 전체 총 건수 출력!!"
   ]
  },
  {
   "cell_type": "markdown",
   "id": "31d33313-d6ac-46f4-9e6e-dc0752dbdf64",
   "metadata": {},
   "source": [
    "### python & MYSQL (feat.SQL) 연결고리 작동원리"
   ]
  },
  {
   "cell_type": "markdown",
   "id": "79ba9939-e693-4f6f-8a92-b82362d380dd",
   "metadata": {},
   "source": [
    "- python 에서 sql 사용하려면 pip install pymysql 설치 우선!\n",
    "- 패턴코드 (Pattern Code) : python에서 정해진 규칙을 활용해서 SQL의 문법 실행"
   ]
  },
  {
   "cell_type": "markdown",
   "id": "90d52a36-06a8-4c64-a5be-88985bea68dc",
   "metadata": {},
   "source": [
    "### MYSQL 중 고급 문법 및 단계"
   ]
  },
  {
   "cell_type": "markdown",
   "id": "096057b1-3066-4dae-ae0d-c7792a598b2b",
   "metadata": {},
   "source": [
    "- 다양한 SQL 함수\n",
    "    - 문자열함수\n",
    "    1. LENGTH(string) \n",
    "     : 문자의 길이를 반환하는 함수 \n",
    "    2. UPPER(string)\n",
    "        : 대문자로 변환 시켜주는 함수\n",
    "        \n",
    "    3. LOWER(string)\n",
    "        : 소문자로 변환 시켜주는 함수\n",
    "    ⇒ LENGTH(LOWER(UPPER(title))) AS special_title \n",
    "    이런 문법도 가능!!! 나중에 긴밀하게 씀\n",
    "    \n",
    "    4. CONCAT(string1, string2, …)\n",
    "        : 복수의 문자열을 하나로 연결하는 함수 → 주로 성-이름 붙이거나 지역번호 - 전화번호 붙일때 쓰임!\n",
    "        \n",
    "    5. SUBSTRING(string, start, length) \n",
    "        : 문자열에서 일부 문자열만 추출해주는 함수. start개 부터 시작해서 length 개만큼 찾아와줘!\n",
    "- SubQuery 고급활용\n",
    "- 집합 연산자\n",
    "- 트렌잭션 제어\n",
    "- VIEW\n",
    "- WITH\n",
    "- CASE WHEN\n",
    "- GROUP_CONCAT()\n",
    "- 고급 윈도우 함수"
   ]
  }
 ],
 "metadata": {
  "kernelspec": {
   "display_name": "Python [conda env:base] *",
   "language": "python",
   "name": "conda-base-py"
  },
  "language_info": {
   "codemirror_mode": {
    "name": "ipython",
    "version": 3
   },
   "file_extension": ".py",
   "mimetype": "text/x-python",
   "name": "python",
   "nbconvert_exporter": "python",
   "pygments_lexer": "ipython3",
   "version": "3.13.5"
  }
 },
 "nbformat": 4,
 "nbformat_minor": 5
}
