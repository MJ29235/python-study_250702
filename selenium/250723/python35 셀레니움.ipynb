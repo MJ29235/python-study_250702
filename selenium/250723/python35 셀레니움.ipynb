{
 "cells": [
  {
   "cell_type": "code",
   "execution_count": 90,
   "id": "8dd50fde-9947-463d-be01-b381dba92c79",
   "metadata": {},
   "outputs": [
    {
     "name": "stdout",
     "output_type": "stream",
     "text": [
      "Teddy의 선물 블로그\n"
     ]
    }
   ],
   "source": [
    "# headless 옵션 추가하기 ->\n",
    "\n",
    "from selenium import webdriver\n",
    "from selenium.webdriver.chrome.service import Service\n",
    "from selenium.webdriver.common.by import By \n",
    "from selenium.webdriver.common.keys import Keys\n",
    "from webdriver_manager.chrome import ChromeDriverManager \n",
    "from selenium.webdriver.chrome.options import Options\n",
    "import time \n",
    "import pyautogui \n",
    "\n",
    "\n",
    "service = Service(\"C:\\\\Users\\\\pmj96\\\\Downloads\\\\chromedriver\\\\chromedriver.exe\") \n",
    "options = Options()\n",
    "options.add_argument(\"--disable-gpu\")\n",
    "options.add_argument(\"--start-maximized\")\n",
    "options.add_argument(\"headless\")\n",
    "options.add_argument(\"window-size=1920x1080\")\n",
    "options.add_argument(\"lang=ko_KR\")\n",
    "options.add_argument(\"--user-agent=Mozilla/5.0 (Windows NT 10.0; Win64; x64) AppleWebKit/537.36 (KHTML, like Gecko) Chrome/138.0.0.0 Safari/537.36\")\n",
    "driver = webdriver.Chrome(service = service, options = options) \n",
    "#------------------기본설정------------------------------\n",
    "\n",
    "driver.get(\"https://davelee-fun.github.io/\") \n",
    "\n",
    "element = driver.find_element(By.TAG_NAME,\"h1\")\n",
    "print(element.text)\n",
    "\n",
    "time.sleep(3)\n",
    "\n",
    "driver.quit()"
   ]
  },
  {
   "cell_type": "markdown",
   "id": "ab01722e-727a-4645-9058-842e6f7c6ff8",
   "metadata": {},
   "source": [
    "#### 다음 웹사이트에 접속해서 셀레니움을 활용해서 크롤링해오세요.\n",
    "- https://crawlingtest.netlify.app/\n",
    "- 부모요소의 id 속성값이 dv_course_list인 자식요소의 class가 course인 데이터만 출력해주세요\n",
    "- "
   ]
  },
  {
   "cell_type": "code",
   "execution_count": 37,
   "id": "c66099ac-6275-411c-950e-37953e7b341b",
   "metadata": {},
   "outputs": [],
   "source": [
    "#문제 풀이 \n",
    "from selenium import webdriver\n",
    "from selenium.webdriver.chrome.service import Service\n",
    "from selenium.webdriver.common.by import By \n",
    "from selenium.webdriver.common.keys import Keys\n",
    "from webdriver_manager.chrome import ChromeDriverManager \n",
    "from selenium.webdriver.chrome.options import Options\n",
    "import time \n",
    "import pyautogui \n",
    "\n",
    "\n",
    "service = Service(\"C:\\\\Users\\\\pmj96\\\\Downloads\\\\chromedriver\\\\chromedriver.exe\") \n",
    "options = Options()\n",
    "options.add_argument(\"--disable-gpu\")\n",
    "options.add_argument(\"--start-maximized\")\n",
    "options.add_argument(\"headless\")\n",
    "options.add_argument(\"window-size=1920x1080\")\n",
    "options.add_argument(\"lang=ko_KR\")\n",
    "#options.add_argument(\"Mozilla/5.0 (Windows NT 10.0; Win64; x64) AppleWebKit/537.36 (KHTML, like Gecko) Chrome/138.0.0.0 Safari/537.36\")\n",
    "#사람처럼 보이게하는 방법 BUT Headless와 충돌하기 때문에 꺼줌\n",
    "driver = webdriver.Chrome(service = service, options = options) \n",
    "driver.get(\"https://crawlingtest.netlify.app/\") \n",
    "\n",
    "\n",
    "elements = driver.find_elements(By.CSS_SELECTOR,\"#dev_course_list.course\")\n",
    "for element in elements:\n",
    "    print(element.get_text())\n",
    "time.sleep(3)\n",
    "driver.quit()"
   ]
  },
  {
   "cell_type": "code",
   "execution_count": 42,
   "id": "6e97cbdd-25f1-48b4-976a-77aff61b143c",
   "metadata": {},
   "outputs": [
    {
     "name": "stdout",
     "output_type": "stream",
     "text": [
      "(초급) - 강사가 실제 사용하는 자동 프로그램 소개 [2]\n",
      "(초급) - 필요한 프로그램 설치 시연 [5]\n",
      "(초급) - 데이터를 엑셀 파일로 만들기 [9]\n",
      "(초급) -     엑셀 파일 이쁘게! 이쁘게! [8]\n",
      "(초급) -     나대신 주기적으로 파이썬 프로그램 실행하기 [7]\n",
      "(초급) - 파이썬으로 슬랙(slack) 메신저에 글쓰기 [40]\n",
      "(초급) - 웹사이트 변경사항 주기적으로 체크해서, 메신저로 알람주기 [12]\n",
      "(초급) - 네이버 API 사용해서, 블로그에 글쓰기 [42]\n",
      "(중급) - 자동으로 쿠팡파트너스 API 로 가져온 상품 정보, 네이버 블로그/트위터에 홍보하기 [412]\n"
     ]
    }
   ],
   "source": [
    "#문제 선생님 해설 \n",
    "from selenium import webdriver\n",
    "from selenium.webdriver.chrome.service import Service\n",
    "from selenium.webdriver.common.by import By \n",
    "from selenium.webdriver.common.keys import Keys\n",
    "from webdriver_manager.chrome import ChromeDriverManager \n",
    "from selenium.webdriver.chrome.options import Options\n",
    "import time \n",
    "import pyautogui \n",
    "\n",
    "\n",
    "service = Service(\"C:\\\\Users\\\\pmj96\\\\Downloads\\\\chromedriver\\\\chromedriver.exe\") \n",
    "options = Options()\n",
    "options.add_argument(\"--disable-gpu\")\n",
    "options.add_argument(\"--start-maximized\")\n",
    "options.add_argument(\"headless\")\n",
    "options.add_argument(\"window-size=1920x1080\")\n",
    "options.add_argument(\"lang=ko_KR\")\n",
    "#options.add_argument(\"Mozilla/5.0 (Windows NT 10.0; Win64; x64) AppleWebKit/537.36 (KHTML, like Gecko) Chrome/138.0.0.0 Safari/537.36\")\n",
    "#사람처럼 보이게하는 방법 BUT Headless와 충돌하기 때문에 꺼줌\n",
    "driver = webdriver.Chrome(service = service, options = options) \n",
    "driver.get(\"https://crawlingtest.netlify.app/\") \n",
    "\n",
    "\n",
    "elements = driver.find_elements(By.CSS_SELECTOR,\"ul#dev_course_list > li.course\") # ul#으로 해야함!!\n",
    "for element in elements:\n",
    "    print(element.text)\n",
    "time.sleep(3)\n",
    "driver.quit()"
   ]
  },
  {
   "cell_type": "markdown",
   "id": "1e1d0db3-ea39-4635-9420-751b35e9faed",
   "metadata": {},
   "source": [
    "#### 문제 2, 해당사이트에 접속한 뒤 커리큘럼 일점표 안의 데이터를 모두 추가하세"
   ]
  },
  {
   "cell_type": "code",
   "execution_count": 44,
   "id": "cf8792d9-cee6-4a6b-9397-555252d01853",
   "metadata": {},
   "outputs": [
    {
     "name": "stdout",
     "output_type": "stream",
     "text": [
      "일정 커리큘럼 타이틀 난이도\n",
      "5.1 ~ 6.15 나만의 엣지있는 블로그 사이트 만들기 (취미로 익히는 IT) 초급\n",
      "6.16 ~ 7.31 파이썬과 데이터과학 첫걸음 (IT 기본기 익히기) 중급\n"
     ]
    }
   ],
   "source": [
    "from selenium import webdriver\n",
    "from selenium.webdriver.chrome.service import Service\n",
    "from selenium.webdriver.common.by import By \n",
    "from selenium.webdriver.common.keys import Keys\n",
    "from webdriver_manager.chrome import ChromeDriverManager \n",
    "from selenium.webdriver.chrome.options import Options\n",
    "import time \n",
    "import pyautogui \n",
    "\n",
    "\n",
    "service = Service(\"C:\\\\Users\\\\pmj96\\\\Downloads\\\\chromedriver\\\\chromedriver.exe\") \n",
    "options = Options()\n",
    "options.add_argument(\"--disable-gpu\")\n",
    "options.add_argument(\"--start-maximized\")\n",
    "options.add_argument(\"headless\")\n",
    "options.add_argument(\"window-size=1920x1080\")\n",
    "options.add_argument(\"lang=ko_KR\")\n",
    "#options.add_argument(\"Mozilla/5.0 (Windows NT 10.0; Win64; x64) AppleWebKit/537.36 (KHTML, like Gecko) Chrome/138.0.0.0 Safari/537.36\")\n",
    "#사람처럼 보이게하는 방법 BUT Headless와 충돌하기 때문에 꺼줌\n",
    "driver = webdriver.Chrome(service = service, options = options) \n",
    "driver.get(\"https://crawlingtest.netlify.app/\") \n",
    "\n",
    "elements = driver.find_elements(By.TAG_NAME,\"tbody\")\n",
    "for element in elements:\n",
    "    print(element.text)"
   ]
  },
  {
   "cell_type": "code",
   "execution_count": 46,
   "id": "651e4eec-d539-4d8c-b3ea-6ff5f21d8e01",
   "metadata": {},
   "outputs": [
    {
     "name": "stdout",
     "output_type": "stream",
     "text": [
      "일정\n",
      "커리큘럼 타이틀\n",
      "난이도\n",
      "5.1 ~ 6.15\n",
      "나만의 엣지있는 블로그 사이트 만들기 (취미로 익히는 IT)\n",
      "초급\n",
      "6.16 ~ 7.31\n",
      "파이썬과 데이터과학 첫걸음 (IT 기본기 익히기)\n",
      "중급\n"
     ]
    }
   ],
   "source": [
    "# 선생님 해설!!!!!!!!!!!!!\n",
    "from selenium import webdriver\n",
    "from selenium.webdriver.chrome.service import Service\n",
    "from selenium.webdriver.common.by import By \n",
    "from selenium.webdriver.common.keys import Keys\n",
    "from webdriver_manager.chrome import ChromeDriverManager \n",
    "from selenium.webdriver.chrome.options import Options\n",
    "import time \n",
    "import pyautogui \n",
    "\n",
    "service = Service(\"C:\\\\Users\\\\pmj96\\\\Downloads\\\\chromedriver\\\\chromedriver.exe\") \n",
    "options = Options()\n",
    "options.add_argument(\"--disable-gpu\")\n",
    "options.add_argument(\"--start-maximized\")\n",
    "options.add_argument(\"headless\")\n",
    "options.add_argument(\"window-size=1920x1080\")\n",
    "options.add_argument(\"lang=ko_KR\")\n",
    "#options.add_argument(\"Mozilla/5.0 (Windows NT 10.0; Win64; x64) AppleWebKit/537.36 (KHTML, like Gecko) Chrome/138.0.0.0 Safari/537.36\")\n",
    "#사람처럼 보이게하는 방법 BUT Headless와 충돌하기 때문에 꺼줌\n",
    "driver = webdriver.Chrome(service = service, options = options) \n",
    "driver.get(\"https://crawlingtest.netlify.app/\") \n",
    "\n",
    "# table 태그에는 thead, tbody, tfooter로 구성됨. 컨텐츠는 대부분 tbody에 있음\n",
    "# tbody는 tr, td로 나뉨!\n",
    "\n",
    "# elements = driver.find_elements(By.TAG_NAME,\"td\")\n",
    "#선택자로 찾아와보기\n",
    "elements = driver.find_elements(By.CSS_SELECTOR,\"table tr td\")\n",
    "for element in elements:\n",
    "    print(element.text)"
   ]
  },
  {
   "cell_type": "markdown",
   "id": "8ea9bcb7-a4e1-4369-a015-0519ca87052e",
   "metadata": {},
   "source": [
    "#### 동일한 웹사이트에서 아래 데이터만 추출해오세요.\n",
    "중급) - 자동으로 쿠팡파트너스 API 로 가져온 상품 정보, 네이버 블로그/트위터에 홍보하기 [412]"
   ]
  },
  {
   "cell_type": "code",
   "execution_count": 69,
   "id": "a3606fe4-e407-46ad-b0a0-85e38a1c4ae0",
   "metadata": {},
   "outputs": [
    {
     "name": "stdout",
     "output_type": "stream",
     "text": [
      "text : (중급) - 자동으로 쿠팡파트너스 API 로 가져온 상품 정보, 네이버 블로그/트위터에 홍보하기 [412]\n"
     ]
    }
   ],
   "source": [
    "from selenium import webdriver\n",
    "from selenium.webdriver.chrome.service import Service\n",
    "from selenium.webdriver.common.by import By \n",
    "from selenium.webdriver.common.keys import Keys\n",
    "from webdriver_manager.chrome import ChromeDriverManager \n",
    "from selenium.webdriver.chrome.options import Options\n",
    "import time \n",
    "import pyautogui \n",
    "\n",
    "service = Service(\"C:\\\\Users\\\\pmj96\\\\Downloads\\\\chromedriver\\\\chromedriver.exe\") \n",
    "options = Options()\n",
    "options.add_argument(\"--disable-gpu\")\n",
    "options.add_argument(\"--start-maximized\")\n",
    "options.add_argument(\"headless\")\n",
    "options.add_argument(\"window-size=1920x1080\")\n",
    "options.add_argument(\"lang=ko_KR\")\n",
    "#options.add_argument(\"Mozilla/5.0 (Windows NT 10.0; Win64; x64) AppleWebKit/537.36 (KHTML, like Gecko) Chrome/138.0.0.0 Safari/537.36\")\n",
    "#사람처럼 보이게하는 방법 BUT Headless와 충돌하기 때문에 꺼줌\n",
    "driver = webdriver.Chrome(service = service, options = options) \n",
    "driver.get(\"https://crawlingtest.netlify.app/\") \n",
    "\n",
    "elements = driver.find_elements(By.TAG_NAME,\"a\")\n",
    "print(\"text :\" , elements[-1].text)\n",
    "\n",
    "time.sleep(3)\n",
    "driver.quit()"
   ]
  },
  {
   "cell_type": "markdown",
   "id": "9f9696a4-28b0-4b6a-9217-12ce7e287552",
   "metadata": {},
   "source": [
    "#### 다음 웹 사이트에 접속해서 selenium을 활용해서 크롤링 해오세요\n",
    "- https://divjason.github.io/sellenium-test/\n",
    "- class 값이 news 인 요소의 태그 내용을 찾아서 출력해주세요!"
   ]
  },
  {
   "cell_type": "code",
   "execution_count": 62,
   "id": "08613297-7fa7-4fa9-8820-14ee88cebd02",
   "metadata": {},
   "outputs": [
    {
     "name": "stdout",
     "output_type": "stream",
     "text": [
      "(중급) - 자동으로 쿠팡파트너스 API 로 가져온 상품 정보, 네이버 블로그/트위터에 홍보하기 [412]\n"
     ]
    }
   ],
   "source": [
    "#선생님 해설\n",
    "\n",
    "from selenium import webdriver\n",
    "from selenium.webdriver.chrome.service import Service\n",
    "from selenium.webdriver.common.by import By \n",
    "from selenium.webdriver.common.keys import Keys\n",
    "from webdriver_manager.chrome import ChromeDriverManager \n",
    "from selenium.webdriver.chrome.options import Options\n",
    "import time \n",
    "import pyautogui \n",
    "\n",
    "service = Service(\"C:\\\\Users\\\\pmj96\\\\Downloads\\\\chromedriver\\\\chromedriver.exe\") \n",
    "options = Options()\n",
    "options.add_argument(\"--disable-gpu\")\n",
    "options.add_argument(\"--start-maximized\")\n",
    "options.add_argument(\"headless\")\n",
    "options.add_argument(\"window-size=1920x1080\")\n",
    "options.add_argument(\"lang=ko_KR\")\n",
    "#options.add_argument(\"Mozilla/5.0 (Windows NT 10.0; Win64; x64) AppleWebKit/537.36 (KHTML, like Gecko) Chrome/138.0.0.0 Safari/537.36\")\n",
    "#사람처럼 보이게하는 방법 BUT Headless와 충돌하기 때문에 꺼줌\n",
    "driver = webdriver.Chrome(service = service, options = options) \n",
    "driver.get(\"https://crawlingtest.netlify.app/\") \n",
    "\n",
    "elements = driver.find_elements(By.CSS_SELECTOR,\"ul#dev_course_list > li.course\")\n",
    "print(elements[-1].text)\n",
    "\n",
    "time.sleep(3)\n",
    "driver.quit()"
   ]
  },
  {
   "cell_type": "code",
   "execution_count": 72,
   "id": "f51b6981-a53f-4636-bc86-d76225a6e68c",
   "metadata": {},
   "outputs": [
    {
     "name": "stdout",
     "output_type": "stream",
     "text": [
      "뉴스: 머신러닝 강좌가 나왔어요~~~\n"
     ]
    }
   ],
   "source": [
    "from selenium import webdriver\n",
    "from selenium.webdriver.chrome.service import Service\n",
    "from selenium.webdriver.common.by import By \n",
    "from selenium.webdriver.common.keys import Keys\n",
    "from webdriver_manager.chrome import ChromeDriverManager \n",
    "from selenium.webdriver.chrome.options import Options\n",
    "import time \n",
    "import pyautogui \n",
    "\n",
    "service = Service(\"C:\\\\Users\\\\pmj96\\\\Downloads\\\\chromedriver\\\\chromedriver.exe\") \n",
    "options = Options()\n",
    "options.add_argument(\"--disable-gpu\")\n",
    "options.add_argument(\"--start-maximized\")\n",
    "options.add_argument(\"headless\")\n",
    "options.add_argument(\"window-size=1920x1080\")\n",
    "options.add_argument(\"lang=ko_KR\")\n",
    "#options.add_argument(\"Mozilla/5.0 (Windows NT 10.0; Win64; x64) AppleWebKit/537.36 (KHTML, like Gecko) Chrome/138.0.0.0 Safari/537.36\")\n",
    "#사람처럼 보이게하는 방법 BUT Headless와 충돌하기 때문에 꺼줌\n",
    "driver = webdriver.Chrome(service = service, options = options) \n",
    "driver.get(\"https://divjason.github.io/sellenium-test/\") \n",
    "\n",
    "element = driver.find_element(By.CLASS_NAME,\"news\")\n",
    "print(element.text)\n",
    "\n",
    "time.sleep(3)\n",
    "driver.quit()"
   ]
  },
  {
   "cell_type": "code",
   "execution_count": 73,
   "id": "dc47118f-d8ca-4379-a234-3d56a588ebc7",
   "metadata": {},
   "outputs": [
    {
     "name": "stdout",
     "output_type": "stream",
     "text": [
      "뉴스: 머신러닝 강좌가 나왔어요~~~\n"
     ]
    }
   ],
   "source": [
    "from selenium import webdriver\n",
    "from selenium.webdriver.chrome.service import Service\n",
    "from selenium.webdriver.common.by import By \n",
    "from selenium.webdriver.common.keys import Keys\n",
    "from webdriver_manager.chrome import ChromeDriverManager \n",
    "from selenium.webdriver.chrome.options import Options\n",
    "import time \n",
    "import pyautogui \n",
    "\n",
    "service = Service(\"C:\\\\Users\\\\pmj96\\\\Downloads\\\\chromedriver\\\\chromedriver.exe\") \n",
    "options = Options()\n",
    "options.add_argument(\"--disable-gpu\")\n",
    "options.add_argument(\"--start-maximized\")\n",
    "options.add_argument(\"headless\")\n",
    "options.add_argument(\"window-size=1920x1080\")\n",
    "options.add_argument(\"lang=ko_KR\")\n",
    "#options.add_argument(\"Mozilla/5.0 (Windows NT 10.0; Win64; x64) AppleWebKit/537.36 (KHTML, like Gecko) Chrome/138.0.0.0 Safari/537.36\")\n",
    "#사람처럼 보이게하는 방법 BUT Headless와 충돌하기 때문에 꺼줌\n",
    "driver = webdriver.Chrome(service = service, options = options) \n",
    "driver.get(\"https://divjason.github.io/sellenium-test/\") \n",
    "\n",
    "element = driver.find_element(By.TAG_NAME,\"span\")\n",
    "print(element.text)\n",
    "\n",
    "time.sleep(3)\n",
    "driver.quit()"
   ]
  },
  {
   "cell_type": "code",
   "execution_count": 75,
   "id": "5caff7cd-ac13-4add-a3a9-e1db9df06e5b",
   "metadata": {},
   "outputs": [
    {
     "name": "stdout",
     "output_type": "stream",
     "text": [
      "뉴스: 머신러닝 강좌가 나왔어요~~~\n"
     ]
    }
   ],
   "source": [
    "#선생님 해설\n",
    "\n",
    "from selenium import webdriver\n",
    "from selenium.webdriver.chrome.service import Service\n",
    "from selenium.webdriver.common.by import By \n",
    "from selenium.webdriver.common.keys import Keys\n",
    "from webdriver_manager.chrome import ChromeDriverManager \n",
    "from selenium.webdriver.chrome.options import Options\n",
    "import time \n",
    "import pyautogui \n",
    "\n",
    "service = Service(\"C:\\\\Users\\\\pmj96\\\\Downloads\\\\chromedriver\\\\chromedriver.exe\") \n",
    "options = Options()\n",
    "options.add_argument(\"--disable-gpu\")\n",
    "options.add_argument(\"--start-maximized\")\n",
    "options.add_argument(\"headless\")\n",
    "options.add_argument(\"window-size=1920x1080\")\n",
    "options.add_argument(\"lang=ko_KR\")\n",
    "#options.add_argument(\"Mozilla/5.0 (Windows NT 10.0; Win64; x64) AppleWebKit/537.36 (KHTML, like Gecko) Chrome/138.0.0.0 Safari/537.36\")\n",
    "#사람처럼 보이게하는 방법 BUT Headless와 충돌하기 때문에 꺼줌\n",
    "driver = webdriver.Chrome(service = service, options = options) \n",
    "driver.get(\"https://divjason.github.io/sellenium-test/\") \n",
    "\n",
    "element = driver.find_element(By.CSS_SELECTOR,\"span.news\")\n",
    "element = driver.find_element(By.TAG_NAME,\"span\")\n",
    "print(element.text)\n",
    "\n",
    "time.sleep(3)\n",
    "driver.quit()"
   ]
  },
  {
   "cell_type": "markdown",
   "id": "95db5260-bd77-4a8f-8046-d3a3616593c2",
   "metadata": {},
   "source": [
    "#### 다음 웹 사이트에 접속해서 selenium을 활용해서 크롤링 해오세요\n",
    "- https://divjason.github.io/sellenium-test/\n",
    "- input tag요소에 id 값으로는 error@error.com / password 값으로는 \"비밀번호1234\"를 입력 후 로그인 버튼 자동클릭하기"
   ]
  },
  {
   "cell_type": "code",
   "execution_count": 89,
   "id": "449a198f-6cd8-45ac-817a-7ccb2b0f5a34",
   "metadata": {},
   "outputs": [],
   "source": [
    "from selenium import webdriver\n",
    "from selenium.webdriver.chrome.service import Service\n",
    "from selenium.webdriver.common.by import By \n",
    "from selenium.webdriver.common.keys import Keys # 1, keys라는 인스턴트 객체를 찾아옴!\n",
    "from webdriver_manager.chrome import ChromeDriverManager \n",
    "import time \n",
    "from selenium.webdriver.chrome.options import Options\n",
    "\n",
    "\n",
    "service = Service(\"C:\\\\Users\\\\pmj96\\\\Downloads\\\\chromedriver\\\\chromedriver.exe\") \n",
    "options = Options()\n",
    "options = Options()\n",
    "options.add_argument(\"--disable-gpu\")\n",
    "options.add_argument(\"--start-maximized\")\n",
    "options.add_argument(\"window-size=1920x1080\")\n",
    "options.add_argument(\"lang=ko_KR\")\n",
    "driver = webdriver.Chrome(service = service, options = options) \n",
    "\n",
    "driver.get(\"https://divjason.github.io/sellenium-test/\") \n",
    "\n",
    "username = driver.find_element(By.NAME,\"username\")\n",
    "password = driver.find_element(By.NAME,\"password\")\n",
    "username.clear()\n",
    "password.clear()\n",
    "\n",
    "username.send_keys(\"error@error.com\")\n",
    "password.send_keys(\"비밀번호1234\")\n",
    "\n",
    "time.sleep(3)\n",
    "password.send_keys(Keys.RETURN) #return은 enter랑 똑같은 의미!! 결과물제출.\n",
    "time.sleep(3)\n",
    "\n",
    "driver.quit()"
   ]
  },
  {
   "cell_type": "code",
   "execution_count": null,
   "id": "beeb26be-53fe-4edf-bf95-810cbfacdfbe",
   "metadata": {},
   "outputs": [],
   "source": []
  },
  {
   "cell_type": "code",
   "execution_count": 102,
   "id": "2f6e4210-2ae9-45ae-b3fe-b72063aff3a8",
   "metadata": {},
   "outputs": [],
   "source": [
    "# 선생님해설!\n",
    "from selenium import webdriver\n",
    "from selenium.webdriver.chrome.service import Service\n",
    "from selenium.webdriver.common.by import By \n",
    "from selenium.webdriver.common.keys import Keys\n",
    "from webdriver_manager.chrome import ChromeDriverManager \n",
    "from selenium.webdriver.chrome.options import Options\n",
    "import time \n",
    "import pyautogui \n",
    "\n",
    "service = Service(\"C:\\\\Users\\\\pmj96\\\\Downloads\\\\chromedriver\\\\chromedriver.exe\") \n",
    "options = Options()\n",
    "options.add_argument(\"--disable-gpu\")\n",
    "options.add_argument(\"--start-maximized\")\n",
    "options.add_argument(\"window-size=1920x1080\")\n",
    "options.add_argument(\"lang=ko_KR\")\n",
    "options.add_argument(\"--user-agent=Mozilla/5.0 (Windows NT 10.0; Win64; x64) AppleWebKit/537.36 (KHTML, like Gecko) Chrome/138.0.0.0 Safari/537.36\")\n",
    "driver = webdriver.Chrome(service = service, options = options) \n",
    "driver.get(\"https://divjason.github.io/sellenium-test/\") \n",
    "\n",
    "element = driver.find_element(By.ID,\"username\")\n",
    "element.clear()\n",
    "element.send_keys(\"error@error.com\")\n",
    "\n",
    "element = driver.find_element(By.ID,\"password\")\n",
    "element.clear()\n",
    "element.send_keys(\"비밀번호1234\")\n",
    "\n",
    "#element요소를 두번써도 괜찮음!\n",
    "#엔터를 누르면 바로 서버로보내라는 것이 내장. But 로그인을 할때 엔터를 치지못하게 만드는 이유?\n",
    "#->prevent default 함수를 쓰면 리턴(엔터)키를 눌러도  접속되지않음. 이럴때는 명확하게 버튼을 찾아와서 버튼을 클릭하게 만들어야함!\n",
    "# element.send_keys(Keys.RETURN)\n",
    "#해결방법 =\n",
    "element = driver.find_element(By.CSS_SELECTOR,\"input[type='submit']\") \n",
    "# CSS선택자에서 속성선택자를 찾아오는 형식 ->\"input[type='submit']\"\n",
    "element.click() \n",
    "#정석!!\n",
    "\n",
    "\n",
    "time.sleep(5)\n",
    "\n",
    "driver.quit()"
   ]
  },
  {
   "cell_type": "markdown",
   "id": "d6ca20a8-6420-407f-94eb-08350a96fc65",
   "metadata": {},
   "source": [
    "#### 다음 웹 사이트에 접속해서 selenium을 활용해서 크롤링 해오세요\n",
    "- https://divjason.github.io/sellenium-test/\n",
    "- input tag요소에 id 값으로는 error@error.com / password 값으로는 \"비밀번호1234\"를 입력 후 로그인 버튼 자동클릭하기\n",
    "- 클릭 이후 이동한 페이지에서 message라는 클래스 속성값을 가지고 있는 요소의 텍스트 정보를 출력!"
   ]
  },
  {
   "cell_type": "code",
   "execution_count": 105,
   "id": "f98708e8-feb9-41c3-a826-6bf27f7fd0aa",
   "metadata": {},
   "outputs": [
    {
     "name": "stdout",
     "output_type": "stream",
     "text": [
      "실제 사이트는 https://megaitlab.com/ 입니다\n",
      "본 페이지는 로그인된 페이지입니다!\n",
      "뉴스: 머신러닝 강좌가 나왔어요~~~\n"
     ]
    }
   ],
   "source": [
    "from selenium import webdriver\n",
    "from selenium.webdriver.chrome.service import Service\n",
    "from selenium.webdriver.common.by import By \n",
    "from selenium.webdriver.common.keys import Keys\n",
    "from webdriver_manager.chrome import ChromeDriverManager \n",
    "from selenium.webdriver.chrome.options import Options\n",
    "import time \n",
    "import pyautogui \n",
    "\n",
    "service = Service(\"C:\\\\Users\\\\pmj96\\\\Downloads\\\\chromedriver\\\\chromedriver.exe\") \n",
    "options = Options()\n",
    "options.add_argument(\"--disable-gpu\")\n",
    "options.add_argument(\"--start-maximized\")\n",
    "options.add_argument(\"window-size=1920x1080\")\n",
    "options.add_argument(\"lang=ko_KR\")\n",
    "options.add_argument(\"--user-agent=Mozilla/5.0 (Windows NT 10.0; Win64; x64) AppleWebKit/537.36 (KHTML, like Gecko) Chrome/138.0.0.0 Safari/537.36\")\n",
    "driver = webdriver.Chrome(service = service, options = options) \n",
    "driver.get(\"https://divjason.github.io/sellenium-test/\") \n",
    "\n",
    "element = driver.find_element(By.ID,\"username\")\n",
    "element.clear()\n",
    "element.send_keys(\"error@error.com\")\n",
    "\n",
    "element = driver.find_element(By.ID,\"password\")\n",
    "element.clear()\n",
    "element.send_keys(\"비밀번호1234\")\n",
    "\n",
    "element = driver.find_element(By.CSS_SELECTOR,\"input[type='submit']\") \n",
    "element.click() \n",
    "element1 = driver.find_element(By.CSS_SELECTOR,\"div.message\")\n",
    "print(element1.text)\n",
    "\n",
    "time.sleep(3)\n",
    "\n",
    "driver.quit()"
   ]
  },
  {
   "cell_type": "code",
   "execution_count": 106,
   "id": "f182bb71-52e7-4711-9124-d4870b79f69b",
   "metadata": {},
   "outputs": [
    {
     "name": "stdout",
     "output_type": "stream",
     "text": [
      "실제 사이트는 https://megaitlab.com/ 입니다\n",
      "본 페이지는 로그인된 페이지입니다!\n",
      "뉴스: 머신러닝 강좌가 나왔어요~~~\n",
      "실제 사이트는 https://megaitlab.com/ 입니다\n",
      "뉴스: 머신러닝 강좌가 나왔어요~~~\n"
     ]
    }
   ],
   "source": [
    "#선생님 해설! 로그인 + 정보값찾아오기!\n",
    "\n",
    "from selenium import webdriver\n",
    "from selenium.webdriver.chrome.service import Service\n",
    "from selenium.webdriver.common.by import By \n",
    "from selenium.webdriver.common.keys import Keys\n",
    "from webdriver_manager.chrome import ChromeDriverManager \n",
    "from selenium.webdriver.chrome.options import Options\n",
    "import time \n",
    "import pyautogui \n",
    "\n",
    "service = Service(\"C:\\\\Users\\\\pmj96\\\\Downloads\\\\chromedriver\\\\chromedriver.exe\") \n",
    "options = Options()\n",
    "options.add_argument(\"--disable-gpu\")\n",
    "options.add_argument(\"--start-maximized\")\n",
    "options.add_argument(\"window-size=1920x1080\")\n",
    "options.add_argument(\"lang=ko_KR\")\n",
    "options.add_argument(\"--user-agent=Mozilla/5.0 (Windows NT 10.0; Win64; x64) AppleWebKit/537.36 (KHTML, like Gecko) Chrome/138.0.0.0 Safari/537.36\")\n",
    "driver = webdriver.Chrome(service = service, options = options) \n",
    "driver.get(\"https://divjason.github.io/sellenium-test/\") \n",
    "\n",
    "element = driver.find_element(By.ID,\"username\")\n",
    "element.clear()\n",
    "element.send_keys(\"error@error.com\")\n",
    "\n",
    "element = driver.find_element(By.ID,\"password\")\n",
    "element.clear()\n",
    "element.send_keys(\"비밀번호1234\")\n",
    "\n",
    "element = driver.find_element(By.CSS_SELECTOR,\"input[type='submit']\") \n",
    "element.click() \n",
    "element1 = driver.find_element(By.CSS_SELECTOR,\"div.message\") #\"태그.속성값\"\n",
    "print(element1.text)\n",
    "\n",
    "time.sleep(3)\n",
    "\n",
    "driver.quit()"
   ]
  },
  {
   "cell_type": "markdown",
   "id": "fb99edfa-df8e-4f28-ac6e-34eea0c8fe20",
   "metadata": {},
   "source": [
    "#### 다음 웹 사이트에 접속해서 selenium을 활용해서 크롤링 해오세요\n",
    "- https://divjason.github.io/sellenium-test/\n",
    "- input tag요소에 id 값으로는 error@error.com / password 값으로는 \"비밀번호1234\"를 입력 후 로그인 버튼 자동클릭하기\n",
    "- 클릭 이후 이동한 페이지에서 message라는 클래스 속성값을 가지고 있는 요소의 텍스트 정보를 출력!\n",
    "- 해당페이지에서 로그아웃 버튼을 클릭 후 이동한 페이지에서 다시 메세지라는 클래스 속성값을 가지고 있는 요소의 텍스트 출력\n",
    "- "
   ]
  },
  {
   "cell_type": "code",
   "execution_count": 112,
   "id": "b388cd1f-b470-4682-834e-602cfa709365",
   "metadata": {},
   "outputs": [
    {
     "name": "stdout",
     "output_type": "stream",
     "text": [
      "실제 사이트는 https://megaitlab.com/ 입니다\n",
      "본 페이지는 로그인된 페이지입니다!\n",
      "뉴스: 머신러닝 강좌가 나왔어요~~~\n",
      "실제 사이트는 https://megaitlab.com/ 입니다\n",
      "뉴스: 머신러닝 강좌가 나왔어요~~~\n"
     ]
    }
   ],
   "source": [
    "from selenium import webdriver\n",
    "from selenium.webdriver.chrome.service import Service\n",
    "from selenium.webdriver.common.by import By \n",
    "from selenium.webdriver.common.keys import Keys\n",
    "from webdriver_manager.chrome import ChromeDriverManager \n",
    "from selenium.webdriver.chrome.options import Options\n",
    "import time \n",
    "import pyautogui \n",
    "\n",
    "service = Service(\"C:\\\\Users\\\\pmj96\\\\Downloads\\\\chromedriver\\\\chromedriver.exe\") \n",
    "options = Options()\n",
    "options.add_argument(\"--disable-gpu\")\n",
    "options.add_argument(\"--start-maximized\")\n",
    "options.add_argument(\"window-size=1920x1080\")\n",
    "options.add_argument(\"lang=ko_KR\")\n",
    "options.add_argument(\"--user-agent=Mozilla/5.0 (Windows NT 10.0; Win64; x64) AppleWebKit/537.36 (KHTML, like Gecko) Chrome/138.0.0.0 Safari/537.36\")\n",
    "driver = webdriver.Chrome(service = service, options = options) \n",
    "driver.get(\"https://divjason.github.io/sellenium-test/\") \n",
    "\n",
    "element = driver.find_element(By.ID,\"username\")\n",
    "element.clear()\n",
    "element.send_keys(\"error@error.com\")\n",
    "\n",
    "element = driver.find_element(By.ID,\"password\")\n",
    "element.clear()\n",
    "element.send_keys(\"비밀번호1234\")\n",
    "\n",
    "element = driver.find_element(By.CSS_SELECTOR,\"input[type='submit']\") \n",
    "element.click() \n",
    "element1 = driver.find_element(By.CSS_SELECTOR,\"div.message\") #\"태그.속성값\"\n",
    "print(element1.text)\n",
    "time.sleep(3)\n",
    "element = driver.find_element(By.CSS_SELECTOR,\"input[value='로그아웃']\")\n",
    "element.click() \n",
    "element2 = driver.find_element(By.CSS_SELECTOR,\"div.message\")\n",
    "print(element2.text)\n",
    "\n",
    "time.sleep(3)\n",
    "\n",
    "driver.quit()"
   ]
  },
  {
   "cell_type": "code",
   "execution_count": null,
   "id": "eeed39c0-ac69-42f0-b62c-428a8afa8311",
   "metadata": {},
   "outputs": [],
   "source": [
    "#선생님 해설! 로그인 + 정보값찾아오기 + 로그아웃 + 정보값찾아오기!\n",
    "\n",
    "from selenium import webdriver\n",
    "from selenium.webdriver.chrome.service import Service\n",
    "from selenium.webdriver.common.by import By \n",
    "from selenium.webdriver.common.keys import Keys\n",
    "from webdriver_manager.chrome import ChromeDriverManager \n",
    "from selenium.webdriver.chrome.options import Options\n",
    "import time \n",
    "import pyautogui \n",
    "\n",
    "service = Service(\"C:\\\\Users\\\\pmj96\\\\Downloads\\\\chromedriver\\\\chromedriver.exe\") \n",
    "options = Options()\n",
    "options.add_argument(\"--disable-gpu\")\n",
    "options.add_argument(\"--start-maximized\")\n",
    "options.add_argument(\"window-size=1920x1080\")\n",
    "options.add_argument(\"lang=ko_KR\")\n",
    "options.add_argument(\"--user-agent=Mozilla/5.0 (Windows NT 10.0; Win64; x64) AppleWebKit/537.36 (KHTML, like Gecko) Chrome/138.0.0.0 Safari/537.36\")\n",
    "driver = webdriver.Chrome(service = service, options = options) \n",
    "driver.get(\"https://divjason.github.io/sellenium-test/\") \n",
    "\n",
    "element = driver.find_element(By.ID,\"username\")\n",
    "element.clear()\n",
    "element.send_keys(\"error@error.com\")\n",
    "\n",
    "element = driver.find_element(By.ID,\"password\")\n",
    "element.clear()\n",
    "element.send_keys(\"비밀번호1234\")\n",
    "\n",
    "element = driver.find_element(By.CSS_SELECTOR,\"input[type='submit']\") \n",
    "element.click() \n",
    "element1 = driver.find_element(By.CSS_SELECTOR,\"div.message\") #\"태그.속성값\"\n",
    "print(element1.text)\n",
    "\n",
    "time.sleep(3)\n",
    "\n",
    "driver.quit()"
   ]
  }
 ],
 "metadata": {
  "kernelspec": {
   "display_name": "Python [conda env:base] *",
   "language": "python",
   "name": "conda-base-py"
  },
  "language_info": {
   "codemirror_mode": {
    "name": "ipython",
    "version": 3
   },
   "file_extension": ".py",
   "mimetype": "text/x-python",
   "name": "python",
   "nbconvert_exporter": "python",
   "pygments_lexer": "ipython3",
   "version": "3.13.5"
  }
 },
 "nbformat": 4,
 "nbformat_minor": 5
}
