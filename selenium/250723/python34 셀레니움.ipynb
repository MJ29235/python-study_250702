{
 "cells": [
  {
   "cell_type": "code",
   "execution_count": 4,
   "id": "601f3a33-0a86-4d06-aaf9-6a93d201aa4e",
   "metadata": {},
   "outputs": [],
   "source": [
    "from selenium import webdriver\n",
    "from selenium.webdriver.chrome.service import Service \n",
    "# 1, class객체 Service!\n",
    "from webdriver_manager.chrome import ChromeDriverManager \n",
    "# 2, 각각 브라우저의 고유한 드라이버가 있음. 크롬에도! 셀레니움과 크롬의 버전이 맞아야 됨!\n",
    "import time \n",
    "# 9, 시간 지연이 목적\n",
    "\n",
    "#11, headless는 사이트가 더 민감하게 반응할 수도 있음! 그렇기에 조심히 사용해야함.\n",
    "\n",
    "# 3, pip install webdriver-manager 사전에 설치하면, 확인가능!\n",
    "# 4, pip show webdriver-manager 설치확인하는 기능\n",
    "\n",
    "\n",
    "#크롤링 기능\n",
    "service = Service(ChromeDriverManager().install()) \n",
    "# 6, 크롬드라이브매니저 설정 이렇게도 가능하다!\n",
    "driver = webdriver.Chrome(service = service)\n",
    "# 5, 크롬 웹브라우저 관리위한 옵션설정. service의 키값을 정의해야함!\n",
    "# 7, 이 driver는 특정 사이트에 가서 크롤링 할 수 있는 인스턴트 객체가 된것!\n",
    "\n",
    "driver.get(\"https://davelee-fun.github.io/\")\n",
    "# print(driver.title) -> Home | Teddy의 선물 블로그\n",
    "# print(driver.current_url) \n",
    "# 12, 찾아오고자 하는 주소를 확인하기 위한 기능\n",
    "\n",
    "assert \"Teddy\" in driver.title \n",
    "# 13,driver 안에 Teddy라는 것이 타이틀 안에 있는지 확언해보는것! 아무것도 안나오면 있음. 없으면 오류!\n",
    "time.sleep(1) \n",
    "# 10, 1초의 시간동안 대기해라!\n",
    "\n",
    "# 8,사이트를 찾아오고 그 사이트를 크롤링하면 나와야함! 8까지 기본구문!\n",
    "driver.quit()\n",
    "\n"
   ]
  },
  {
   "cell_type": "code",
   "execution_count": 10,
   "id": "aefdb5ec-4064-4127-b38e-083668ac08ff",
   "metadata": {},
   "outputs": [
    {
     "name": "stdout",
     "output_type": "stream",
     "text": [
      "상품명: 보몽드 순면스퀘어 솔리드 누빔매트커버, 다크블루\n",
      "상품명: 슈에뜨룸 선인장 리플 침구 세트, 베이지\n",
      "상품명: 선우랜드 레인보우 2단 문걸이용 옷걸이 _중형, 화이트, 상세페이지참조\n",
      "상품명: 보드래 헬로우 누빔 매트리스커버, 핑크\n",
      "상품명: 보드래 퍼펙트 누빔 매트리스커버, 차콜\n",
      "상품명: 피아블 클래식 방수 매트리스커버, 화이트\n",
      "상품명: 더자리 에코항균 마이크로 매트리스커버, 밀키차콜그레이\n",
      "상품명: 더자리 프레쉬 퓨어 매트리스 커버, 퓨어 차콜그레이\n",
      "상품명: 몽쉐어 알러스킨 항균 매트리스 커버, 카키그레이\n",
      "상품명: 쿠팡 브랜드 - 코멧 홈 40수 트윌 순면 100% 홑겹 매트리스커버, 그레이\n",
      "상품명: 패브릭아트 항균 마이크로 원단 매트리스 커버, 아이보리\n",
      "상품명: 바숨 순면 누빔 침대 매트리스커버, 차콜\n",
      "상품명: WEMAX 다용도 문옷걸이, 화이트, 1개\n",
      "상품명: 타카타카 프리미엄 나노 화이바 누빔 매트리스 커버, 젠틀핑핑\n",
      "상품명: 보몽드 순면스퀘어 누빔매트커버, 다크그레이\n",
      "상품명: 보드래 국내산 순면 60수 누빔 매트리스커버, 그레이\n"
     ]
    }
   ],
   "source": [
    "#셀레니움 크롤링 2 특정태그값 크롤링\n",
    "from selenium import webdriver\n",
    "from selenium.webdriver.chrome.service import Service\n",
    "from selenium.webdriver.common.by import By # 3, 명령어를 찾아올 수 있게 해주는것\n",
    "from webdriver_manager.chrome import ChromeDriverManager \n",
    "import time \n",
    "\n",
    "service = Service(ChromeDriverManager().install()) \n",
    "driver = webdriver.Chrome(service = service) \n",
    "\n",
    "driver.get(\"https://davelee-fun.github.io/\") # 2, 여기서 get은 \n",
    "\n",
    "# 1, 특정태그값을 크롤링하고싶음!\n",
    "element = driver.find_element(By.TAG_NAME,\"h1\") # 2, 특정요소인 태그 찾기위한것. 태그네임 그냥 쓸 수는 없고 셀레니움에서 값을 찾아와야함\n",
    "# 4, 태그네임 중 h1을 찾아와서 element에 값을 할당\n",
    "# print(element.text) -> Teddy의 선물 블로그\n",
    "# 5, 복수의 요소를 찾아오기! find_elements\n",
    "elements = driver.find_elements(By.TAG_NAME,\"h4\") \n",
    "#print(elements.get_text()) # 6, 이렇게는 값이 제대로 안나옴!\n",
    "for element in elements:\n",
    "    print(element.text) # 7, elements는 리스트로 값을 반환하기 때문에 이터러블한 객체는 for문을 사용해줘야함!\n",
    "\n",
    "time.sleep(1)\n",
    "\n",
    "driver.quit()"
   ]
  },
  {
   "cell_type": "code",
   "execution_count": 23,
   "id": "3dd9baef-2528-47b6-b65c-03adc65817b4",
   "metadata": {},
   "outputs": [
    {
     "name": "stdout",
     "output_type": "stream",
     "text": [
      "\n"
     ]
    }
   ],
   "source": [
    "#셀레니움 크롤링 3 id찾기\n",
    "from selenium import webdriver\n",
    "from selenium.webdriver.chrome.service import Service\n",
    "from selenium.webdriver.common.by import By \n",
    "from webdriver_manager.chrome import ChromeDriverManager \n",
    "import time \n",
    "\n",
    "service = Service(ChromeDriverManager().install()) \n",
    "driver = webdriver.Chrome(service = service) \n",
    "\n",
    "driver.get(\"https://davelee-fun.github.io/\") \n",
    "\n",
    "elements = driver.find_elements(By.ID,\"navbarMediumish\") # 1, id는 하나이기때문에 굳이 for문 안써도됨\n",
    "#print(element.text)\n",
    "for element in elements :\n",
    "    print(element.text)\n",
    "\n",
    "\n",
    "time.sleep(1)\n",
    "\n",
    "driver.quit()"
   ]
  },
  {
   "cell_type": "code",
   "execution_count": 20,
   "id": "24ea70ab-fd22-4b13-9411-b15830199df3",
   "metadata": {},
   "outputs": [
    {
     "name": "stdout",
     "output_type": "stream",
     "text": [
      "Blog\n",
      "About\n"
     ]
    }
   ],
   "source": [
    "from selenium import webdriver\n",
    "from selenium.webdriver.chrome.service import Service\n",
    "from selenium.webdriver.common.by import By\n",
    "from webdriver_manager.chrome import ChromeDriverManager\n",
    "import time\n",
    "service = Service(ChromeDriverManager().install())\n",
    "driver = webdriver.Chrome(service=Service(ChromeDriverManager().install()))\n",
    "driver.get(\"https://davelee-fun.github.io/\")\n",
    "time.sleep(1)\n",
    "# :흰색_확인_표시: 햄버거 메뉴 버튼 클릭 (모바일 뷰일 경우 메뉴가 숨겨져 있음)\n",
    "menu_button = driver.find_element(By.CLASS_NAME, \"navbar-toggler\")\n",
    "menu_button.click()\n",
    "time.sleep(1)\n",
    "# :흰색_확인_표시: 메뉴 항목 뽑기\n",
    "nav = driver.find_element(By.ID, \"navbarMediumish\")\n",
    "links = nav.find_elements(By.TAG_NAME, \"a\")\n",
    "for link in links:\n",
    "    print(link.text)\n",
    "driver.quit()\n"
   ]
  },
  {
   "cell_type": "code",
   "execution_count": 24,
   "id": "085a532e-80b2-442f-b6ff-cc5de15fc276",
   "metadata": {},
   "outputs": [
    {
     "name": "stdout",
     "output_type": "stream",
     "text": [
      "Blog\n",
      "About\n"
     ]
    }
   ],
   "source": [
    "from selenium import webdriver\n",
    "from selenium.webdriver.chrome.service import Service\n",
    "from webdriver_manager.chrome import ChromeDriverManager\n",
    "from selenium.webdriver.common.by import By\n",
    "import time\n",
    "\n",
    "service = Service(ChromeDriverManager().install())\n",
    "driver = webdriver.Chrome(service = Service(ChromeDriverManager().install()))\n",
    "driver.get(\"https://davelee-fun.github.io/\")\n",
    "time.sleep(1)\n",
    "\n",
    "menu_button = driver.find_element(By.CLASS_NAME,\"navbar-toggler\")\n",
    "menu_button.click()\n",
    "time.sleep(1)\n",
    "\n",
    "nav = driver.find_element(By.ID, \"navbarMediumish\")\n",
    "links = nav.find_elements(By.TAG_NAME,\"a\")\n",
    "for link in links:\n",
    "    print(link.text)\n",
    "driver.quit()"
   ]
  }
 ],
 "metadata": {
  "kernelspec": {
   "display_name": "Python [conda env:base] *",
   "language": "python",
   "name": "conda-base-py"
  },
  "language_info": {
   "codemirror_mode": {
    "name": "ipython",
    "version": 3
   },
   "file_extension": ".py",
   "mimetype": "text/x-python",
   "name": "python",
   "nbconvert_exporter": "python",
   "pygments_lexer": "ipython3",
   "version": "3.13.5"
  }
 },
 "nbformat": 4,
 "nbformat_minor": 5
}
