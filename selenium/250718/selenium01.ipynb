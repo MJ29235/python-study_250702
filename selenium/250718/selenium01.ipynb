{
 "cells": [
  {
   "cell_type": "code",
   "execution_count": 4,
   "id": "5ee6d656-38d5-4f65-b090-5797f6cb8988",
   "metadata": {},
   "outputs": [
    {
     "name": "stdout",
     "output_type": "stream",
     "text": [
      "Requirement already satisfied: selenium in c:\\users\\pmj96\\anaconda3\\lib\\site-packages (4.34.2)\n",
      "Requirement already satisfied: urllib3~=2.5.0 in c:\\users\\pmj96\\anaconda3\\lib\\site-packages (from urllib3[socks]~=2.5.0->selenium) (2.5.0)\n",
      "Requirement already satisfied: trio~=0.30.0 in c:\\users\\pmj96\\anaconda3\\lib\\site-packages (from selenium) (0.30.0)\n",
      "Requirement already satisfied: trio-websocket~=0.12.2 in c:\\users\\pmj96\\anaconda3\\lib\\site-packages (from selenium) (0.12.2)\n",
      "Requirement already satisfied: certifi>=2025.6.15 in c:\\users\\pmj96\\anaconda3\\lib\\site-packages (from selenium) (2025.6.15)\n",
      "Requirement already satisfied: typing_extensions~=4.14.0 in c:\\users\\pmj96\\anaconda3\\lib\\site-packages (from selenium) (4.14.1)\n",
      "Requirement already satisfied: websocket-client~=1.8.0 in c:\\users\\pmj96\\anaconda3\\lib\\site-packages (from selenium) (1.8.0)\n",
      "Requirement already satisfied: attrs>=23.2.0 in c:\\users\\pmj96\\anaconda3\\lib\\site-packages (from trio~=0.30.0->selenium) (24.3.0)\n",
      "Requirement already satisfied: sortedcontainers in c:\\users\\pmj96\\anaconda3\\lib\\site-packages (from trio~=0.30.0->selenium) (2.4.0)\n",
      "Requirement already satisfied: idna in c:\\users\\pmj96\\anaconda3\\lib\\site-packages (from trio~=0.30.0->selenium) (3.7)\n",
      "Requirement already satisfied: outcome in c:\\users\\pmj96\\anaconda3\\lib\\site-packages (from trio~=0.30.0->selenium) (1.3.0.post0)\n",
      "Requirement already satisfied: sniffio>=1.3.0 in c:\\users\\pmj96\\anaconda3\\lib\\site-packages (from trio~=0.30.0->selenium) (1.3.0)\n",
      "Requirement already satisfied: cffi>=1.14 in c:\\users\\pmj96\\anaconda3\\lib\\site-packages (from trio~=0.30.0->selenium) (1.17.1)\n",
      "Requirement already satisfied: wsproto>=0.14 in c:\\users\\pmj96\\anaconda3\\lib\\site-packages (from trio-websocket~=0.12.2->selenium) (1.2.0)\n",
      "Requirement already satisfied: pysocks!=1.5.7,<2.0,>=1.5.6 in c:\\users\\pmj96\\anaconda3\\lib\\site-packages (from urllib3[socks]~=2.5.0->selenium) (1.7.1)\n",
      "Requirement already satisfied: pycparser in c:\\users\\pmj96\\anaconda3\\lib\\site-packages (from cffi>=1.14->trio~=0.30.0->selenium) (2.21)\n",
      "Requirement already satisfied: h11<1,>=0.9.0 in c:\\users\\pmj96\\anaconda3\\lib\\site-packages (from wsproto>=0.14->trio-websocket~=0.12.2->selenium) (0.16.0)\n",
      "Requirement already satisfied: webdriver-manager in c:\\users\\pmj96\\anaconda3\\lib\\site-packages (4.0.2)\n",
      "Requirement already satisfied: requests in c:\\users\\pmj96\\anaconda3\\lib\\site-packages (from webdriver-manager) (2.32.3)\n",
      "Requirement already satisfied: python-dotenv in c:\\users\\pmj96\\anaconda3\\lib\\site-packages (from webdriver-manager) (1.1.0)\n",
      "Requirement already satisfied: packaging in c:\\users\\pmj96\\anaconda3\\lib\\site-packages (from webdriver-manager) (24.2)\n",
      "Requirement already satisfied: charset-normalizer<4,>=2 in c:\\users\\pmj96\\anaconda3\\lib\\site-packages (from requests->webdriver-manager) (3.3.2)\n",
      "Requirement already satisfied: idna<4,>=2.5 in c:\\users\\pmj96\\anaconda3\\lib\\site-packages (from requests->webdriver-manager) (3.7)\n",
      "Requirement already satisfied: urllib3<3,>=1.21.1 in c:\\users\\pmj96\\anaconda3\\lib\\site-packages (from requests->webdriver-manager) (2.5.0)\n",
      "Requirement already satisfied: certifi>=2017.4.17 in c:\\users\\pmj96\\anaconda3\\lib\\site-packages (from requests->webdriver-manager) (2025.6.15)\n"
     ]
    }
   ],
   "source": [
    "!pip install selenium\n",
    "!pip install webdriver-manager\n"
   ]
  },
  {
   "cell_type": "code",
   "execution_count": 18,
   "id": "58aac396-f28b-4be9-a2b7-a545162cce4a",
   "metadata": {},
   "outputs": [
    {
     "name": "stdout",
     "output_type": "stream",
     "text": [
      "상품명: 보몽드 순면스퀘어 솔리드 누빔매트커버, 다크블루\n",
      "상품명: 슈에뜨룸 선인장 리플 침구 세트, 베이지\n",
      "상품명: 선우랜드 레인보우 2단 문걸이용 옷걸이 _중형, 화이트, 상세페이지참조\n",
      "상품명: 보드래 헬로우 누빔 매트리스커버, 핑크\n",
      "상품명: 보드래 퍼펙트 누빔 매트리스커버, 차콜\n",
      "상품명: 피아블 클래식 방수 매트리스커버, 화이트\n",
      "상품명: 더자리 에코항균 마이크로 매트리스커버, 밀키차콜그레이\n",
      "상품명: 더자리 프레쉬 퓨어 매트리스 커버, 퓨어 차콜그레이\n",
      "상품명: 몽쉐어 알러스킨 항균 매트리스 커버, 카키그레이\n",
      "상품명: 쿠팡 브랜드 - 코멧 홈 40수 트윌 순면 100% 홑겹 매트리스커버, 그레이\n",
      "상품명: 패브릭아트 항균 마이크로 원단 매트리스 커버, 아이보리\n",
      "상품명: 바숨 순면 누빔 침대 매트리스커버, 차콜\n",
      "상품명: WEMAX 다용도 문옷걸이, 화이트, 1개\n",
      "상품명: 타카타카 프리미엄 나노 화이바 누빔 매트리스 커버, 젠틀핑핑\n",
      "상품명: 보몽드 순면스퀘어 누빔매트커버, 다크그레이\n",
      "상품명: 보드래 국내산 순면 60수 누빔 매트리스커버, 그레이\n"
     ]
    }
   ],
   "source": [
    "# import selenium\n",
    "# #브라우저와 관련된 키워드 많음!\n",
    "# selenium.webdriver.chrome.service\n",
    "# #셀레니움 쓰려면 매번 이 코드를 쳐야함.\n",
    "\n",
    "from selenium import webdriver #웹드라이버 관리를 위해 객체로서 작동함.\n",
    "from selenium.webdriver.chrome.service import Service #웹 드라이버 통제를 위한 관리자 -> webdriver, 속성값 관리 -> service\n",
    "#각각의 고유한 브라우저들은 모두 저마다 웹드라이버가 존재, 해당 드라이버를 셀레니움이 통제 및 관리할 수 있도록 설정\n",
    "from webdriver_manager.chrome import ChromeDriverManager #저 위에 설치했던 얘.크롬드라이버를 관리하는 ChromeDriverManager 우리가 통제하겠다!\n",
    "import time\n",
    "#크롤링한 값을 담는 방법2\n",
    "from selenium.webdriver.common.by import By\n",
    "\n",
    "service = Service(ChromeDriverManager().install()) #우리가 직접 크롬을 실행할거야 -> 이후에 파생된 객체를 \n",
    "driver = webdriver.Chrome(service=service) #가상의 브라우저 역할 , 크롬브라우저를 통제할 수 있어야함 Chrome이라는 프로토타입객체를 활용해서!\n",
    "#서비스라는 프로토타입 객체를 통해서 생성되어진 값을 service에 넣어야함\n",
    "\n",
    "driver.get(\"https://davelee-fun.github.io/\") #가상의 브라우저를 통해서 이 사이트를 들어갔다고 하더라도 들어오고 나오지 않으면 이상함.\n",
    "### dirver 안에 있는 요소를 출력하는 방법 \n",
    "#print(driver)#-> <selenium.webdriver.chrome.webdriver.WebDriver (session=\"c8933451e45c7316bbc2e98b0a198871\")>\n",
    "# => 셀레니움으로 들어갔다 왔고 연결되었다.\n",
    "#print(driver.title) #->Home | Teddy의 선물 블로그 / .title : 타이틀 가져옴!\n",
    "#기본적으로 모든 사이트는 타이틀을 가지고 있음!\n",
    "#print(driver.current_url) # https://davelee-fun.github.io/ -> .current_url : 현재 크롤링하고 있는 사이트 알려줌\n",
    "\n",
    "### assert단언하다 -> 만약 \"\"안에 있는 값이 title과 맞지 않다면 error가 나옴\n",
    "#assert \"Teddy의 선물 블로그\" in driver.title\n",
    "#서버와의 통신을 체크하기 위한 목적 등으로 쓰임\n",
    "\n",
    "###크롤링한 값을 담는 방법\n",
    "#element = driver.find_element(By.TAG_NAME, \"h1\") #태그 형식으로 찾아올때, 태그네임을 불러와야함. \n",
    "#print(element.text)#->\n",
    "#element = driver.find_element(By.TAG_NAME, \"h4\") #-> 최초의 h4만찾아옴!\n",
    "elements = driver.find_elements(By.TAG_NAME, \"h4\")\n",
    "#print(element.text) -> 리스트의 형태이기때문에 오류남! 반복문 필요!\n",
    "for element in elements :\n",
    "    print(element.text)\n",
    "\n",
    "#이를 방지하기 위해\n",
    "time.sleep(1) #1초 동안 그 페이지에서 자고와라!\n",
    "#이 과정에서 움직이지 않으면 봇은 이상함을 느낌!\n",
    "\n",
    "driver.quit() #할거 다하고 사람처럼 나간 것처럼 보이기 위한것. 봇으로 인식하는거 방지.\n",
    "\n",
    "#셀레니움 자주하면 서버들이 이상하게 판단함 ctrl + enter를 하면 그 사이트에 갔다가 옴.\n",
    "#사이트"
   ]
  },
  {
   "cell_type": "code",
   "execution_count": 2,
   "id": "6e090bfa-3423-46c2-9ca9-2e3569138d0a",
   "metadata": {},
   "outputs": [
    {
     "name": "stdout",
     "output_type": "stream",
     "text": [
      "\n"
     ]
    }
   ],
   "source": [
    "# import selenium\n",
    "# #브라우저와 관련된 키워드 많음!\n",
    "# selenium.webdriver.chrome.service\n",
    "# #셀레니움 쓰려면 매번 이 코드를 쳐야함.\n",
    "\n",
    "from selenium import webdriver #웹드라이버 관리를 위해 객체로서 작동함.\n",
    "from selenium.webdriver.chrome.service import Service #웹 드라이버 통제를 위한 관리자 -> webdriver, 속성값 관리 -> service\n",
    "#각각의 고유한 브라우저들은 모두 저마다 웹드라이버가 존재, 해당 드라이버를 셀레니움이 통제 및 관리할 수 있도록 설정\n",
    "from webdriver_manager.chrome import ChromeDriverManager #저 위에 설치했던 얘.크롬드라이버를 관리하는 ChromeDriverManager 우리가 통제하겠다!\n",
    "import time\n",
    "#크롤링한 값을 담는 방법2\n",
    "from selenium.webdriver.common.by import By\n",
    "\n",
    "service = Service(ChromeDriverManager().install()) #우리가 직접 크롬을 실행할거야 -> 이후에 파생된 객체를 \n",
    "driver = webdriver.Chrome(service=service) #가상의 브라우저 역할 , 크롬브라우저를 통제할 수 있어야함 Chrome이라는 프로토타입객체를 활용해서!\n",
    "#서비스라는 프로토타입 객체를 통해서 생성되어진 값을 service에 넣어야함\n",
    "\n",
    "driver.get(\"https://davelee-fun.github.io/\") #가상의 브라우저를 통해서 이 사이트를 들어갔다고 하더라도 들어오고 나오지 않으면 이상함.\n",
    "### dirver 안에 있는 요소를 출력하는 방법 \n",
    "#print(driver)#-> <selenium.webdriver.chrome.webdriver.WebDriver (session=\"c8933451e45c7316bbc2e98b0a198871\")>\n",
    "# => 셀레니움으로 들어갔다 왔고 연결되었다.\n",
    "#print(driver.title) #->Home | Teddy의 선물 블로그 / .title : 타이틀 가져옴!\n",
    "#기본적으로 모든 사이트는 타이틀을 가지고 있음!\n",
    "#print(driver.current_url) # https://davelee-fun.github.io/ -> .current_url : 현재 크롤링하고 있는 사이트 알려줌\n",
    "\n",
    "### assert단언하다 -> 만약 \"\"안에 있는 값이 title과 맞지 않다면 error가 나옴\n",
    "#assert \"Teddy의 선물 블로그\" in driver.title\n",
    "#서버와의 통신을 체크하기 위한 목적 등으로 쓰임\n",
    "\n",
    "###크롤링한 값을 담는 방법\n",
    "#element = driver.find_element(By.TAG_NAME, \"h1\") #태그 형식으로 찾아올때, 태그네임을 불러와야함. \n",
    "#print(element.text)#->\n",
    "#element = driver.find_element(By.TAG_NAME, \"h4\") #-> 최초의 h4만찾아옴!\n",
    "#elements = driver.find_elements(By.TAG_NAME, \"h4\")\n",
    "#print(element.text) -> 리스트의 형태이기때문에 오류남! 반복문 필요!\n",
    "#for element in elements :\n",
    "    #print(element.text)\n",
    "\n",
    "#페이지에서 너무빨리나오는 것을 방지하기 위해\n",
    "#time.sleep(1) #1초 동안 그 페이지에서 자고와라!\n",
    "#이 과정에서 움직이지 않으면 봇은 이상함을 느낌!\n",
    "\n",
    "#driver.quit() #할거 다하고 사람처럼 나간 것처럼 보이기 위한것. 봇으로 인식하는거 방지.\n",
    "\n",
    "#셀레니움 자주하면 서버들이 이상하게 판단함 ctrl + enter를 하면 그 사이트에 갔다가 옴.\n",
    "#사이트\n",
    "\n",
    "#ID값 찾아오기!\n",
    "element = driver.find_element(By.ID, \"navbarMediumish\") #-> ID는 하나이기 때문에 element-s안붙여도됨\n",
    "print(element.text)\n",
    "# elements = driver.find_elements(By.ID, \"navbarMediumish\")\n",
    "# for element in elements:\n",
    "#     print(element.text)\n",
    "    \n",
    "time.sleep(10)\n",
    "driver.quit()"
   ]
  },
  {
   "cell_type": "code",
   "execution_count": 3,
   "id": "7e5c59ff-187a-4cc4-9104-2eb2eed82d67",
   "metadata": {},
   "outputs": [
    {
     "name": "stdout",
     "output_type": "stream",
     "text": [
      "\n"
     ]
    }
   ],
   "source": [
    "from selenium import webdriver\n",
    "from selenium.webdriver.chrome.service import Service\n",
    "from selenium.webdriver.common.by import By\n",
    "from webdriver_manager.chrome import ChromeDriverManager\n",
    "import time\n",
    "\n",
    "service = Service(ChromeDriverManager().install())\n",
    "driver = webdriver.Chrome(service=service)\n",
    "\n",
    "driver.get(\"https://davelee-fun.github.io/\")\n",
    "\n",
    "# element = driver.find_element(By.ID, \"navbarMediumish\")\n",
    "# print(element.text)\n",
    "\n",
    "elements = driver.find_elements(By.ID, \"navbarMediumish\")\n",
    "for element in elements :\n",
    "    print(element.text)\n",
    "\n",
    "time.sleep(1)\n",
    "\n",
    "driver.quit()"
   ]
  },
  {
   "cell_type": "code",
   "execution_count": 1,
   "id": "b3e7ca03-bfa5-4ae0-b6a9-a6438b12a51f",
   "metadata": {},
   "outputs": [
    {
     "name": "stdout",
     "output_type": "stream",
     "text": [
      "\n"
     ]
    }
   ],
   "source": [
    "from selenium import webdriver\n",
    "from selenium.webdriver.chrome.service import Service\n",
    "from selenium.webdriver.common.by import By\n",
    "from webdriver_manager.chrome import ChromeDriverManager\n",
    "import time\n",
    "\n",
    "service = Service(ChromeDriverManager().install())\n",
    "driver = webdriver.Chrome(service=service)\n",
    "\n",
    "\n",
    "driver.get(\"https://davelee-fun.github.io/\")\n",
    "\n",
    "# element = driver.find_element(By.ID, \"navbarMediumish\")\n",
    "# print(element.text)\n",
    "\n",
    "elements = driver.find_elements(By.ID, \"navbarMediumish\")\n",
    "for element in elements :\n",
    "    print(element.text)\n",
    "\n",
    "time.sleep(1)\n",
    "\n",
    "driver.quit()"
   ]
  }
 ],
 "metadata": {
  "kernelspec": {
   "display_name": "Python [conda env:base] *",
   "language": "python",
   "name": "conda-base-py"
  },
  "language_info": {
   "codemirror_mode": {
    "name": "ipython",
    "version": 3
   },
   "file_extension": ".py",
   "mimetype": "text/x-python",
   "name": "python",
   "nbconvert_exporter": "python",
   "pygments_lexer": "ipython3",
   "version": "3.13.5"
  }
 },
 "nbformat": 4,
 "nbformat_minor": 5
}
