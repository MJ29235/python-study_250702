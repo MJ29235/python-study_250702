{
 "cells": [
  {
   "cell_type": "code",
   "execution_count": 5,
   "id": "e8a91e22-d182-4b3a-9c21-3a93957482a1",
   "metadata": {},
   "outputs": [
    {
     "name": "stdout",
     "output_type": "stream",
     "text": [
      "['.ipynb_checkpoints', '250718', '250723', '250724']\n"
     ]
    }
   ],
   "source": [
    "import os\n",
    "\n",
    "#folder_path =\".\" # 1, 온점정의\n",
    "folder_path =\"..\"  # 3, 상위에 있는 파일들을 보여줌! ['.ipynb_checkpoints(임시저장파일)', '250718', '250723', '250724']\n",
    "file_list = os.listdir(folder_path) # 2, 어떤 파일이 있는지? 현재 디렉토리에 있는 파일을 리스트화 해와라!\n",
    "\n",
    "print(file_list)"
   ]
  },
  {
   "cell_type": "code",
   "execution_count": 7,
   "id": "6dbc6f70-052e-4bff-805a-0a293bdd0024",
   "metadata": {},
   "outputs": [
    {
     "name": "stdout",
     "output_type": "stream",
     "text": [
      "['.ipynb_checkpoints', 'python34 셀레니움.ipynb', 'python35 셀레니움.ipynb', 'python35-2 셀레니움.ipynb', 'samplesite.png']\n"
     ]
    }
   ],
   "source": [
    "#특정경로 지정\n",
    "import os\n",
    "\n",
    "folder_path =\"../250723\"  \n",
    "# 상위에 있는 파일로 간다음에 250723으로 갔음!\n",
    "#['.ipynb_checkpoints', 'python34 셀레니움.ipynb', 'python35 셀레니움.ipynb', 'python35-2 셀레니움.ipynb', 'samplesite.png']\n",
    "file_list = os.listdir(folder_path)\n",
    "\n",
    "print(file_list)"
   ]
  },
  {
   "cell_type": "code",
   "execution_count": 8,
   "id": "c7df5624-2d30-4447-b61d-185db149153d",
   "metadata": {},
   "outputs": [
    {
     "name": "stdout",
     "output_type": "stream",
     "text": [
      "IMG/testing.jpg IMG/testing.jpg\n"
     ]
    }
   ],
   "source": [
    "#이미지 확인\n",
    "data = \"https://static.coupangcdn.com/image/retail/images/2018/09/18/11/8/6964dd11-7ff2-448d-8462-db07e3ca2a5f.jpg\" \n",
    "# 1, 확장자를 기준(.)을 기준으로 split! 현재 우리 문서가 있는 경로 안에 이미지 폴더를 만들고 \n",
    "filename01 = \"IMG/\" + \"testing\" + \".\" + data.split(\".\")[-1] # 구문법 : #################\n",
    "filename02 = f\"IMG/testing.{data.split(\".\")[-1]}\" # 신문법 : f스트링 \n",
    "\n",
    "print(filename01,filename02)"
   ]
  },
  {
   "cell_type": "code",
   "execution_count": 13,
   "id": "fb8b28bf-27fe-4308-b8c2-4009fe1a439b",
   "metadata": {},
   "outputs": [
    {
     "name": "stdout",
     "output_type": "stream",
     "text": [
      "['https://static.coupangcdn.com/image/retail/images/2017/10/11/16/6/bf3b2157-528d-4b24-9991-b601a24f4c6f.jpg', 'https://static.coupangcdn.com/image/product/image/vendoritem/2018/11/28/3647689009/d72a996d-1e4e-42be-a23c-f9f6872214bb.jpg', 'https://static.coupangcdn.com/image/product/image/vendoritem/2019/06/11/3361297461/699c49cc-5f9f-4927-ab26-b184f90c1571.jpg', 'https://static.coupangcdn.com/image/retail/images/2018/10/26/16/9/c6dfa004-442c-4f48-9ff1-b76d81bae046.jpg', 'https://static.coupangcdn.com/image/retail/images/2019/04/01/22/6/f9566f49-cf8c-48dd-bc73-b543a3f47f62.jpg', 'https://static.coupangcdn.com/image/retail/images/12859794410743-0ab1b2fe-1cd4-4599-b38a-3fb22f3bf620.jpg', 'https://static.coupangcdn.com/image/retail/images/2019/03/28/19/3/2d9f9b52-0cc9-424f-8639-8f298429d244.jpg', 'https://static.coupangcdn.com/image/retail/images/2017/10/19/15/4/95b93d25-7014-458a-a2a5-9b93189cdcef.jpg', 'https://static.coupangcdn.com/image/retail/images/2019/07/29/12/3/704931d7-4dbd-4af7-9247-856831bdc61e.jpg', 'https://static.coupangcdn.com/image/retail/images/2017/10/13/10/3/8379ffd3-63be-4da4-98f9-895aaa0c9b52.jpg', 'https://static.coupangcdn.com/image/retail/images/2018/09/17/19/4/329dbb2f-a0ad-44d4-af46-1eea0c548b67.jpg', 'https://static.coupangcdn.com/image/retail/images/339338956730835-5cbe0521-2a03-4fe2-8eb7-7a7ae9ff187f.jpg']\n"
     ]
    }
   ],
   "source": [
    "#이미지 확인 2 썸네일 이미지만 크롤링해오기! maxthumb의 문자열 중 url을 가져와야함!\n",
    "from selenium import webdriver\n",
    "from selenium.webdriver.chrome.service import Service\n",
    "from selenium.webdriver.common.by import By \n",
    "from selenium.webdriver.common.keys import Keys\n",
    "from webdriver_manager.chrome import ChromeDriverManager \n",
    "from selenium.webdriver.chrome.options import Options\n",
    "# 6, 이미지 저장을 위한 라이브러리 -> urlretrieve(retrieve:수집하다)\n",
    "from urllib.request import urlretrieve \n",
    "\n",
    "import time \n",
    "import pyautogui \n",
    "\n",
    "service = Service(\"C:\\\\Users\\\\pmj96\\\\Downloads\\\\chromedriver\\\\chromedriver.exe\") \n",
    "options = Options()\n",
    "options.add_argument(\"--disable-gpu\")\n",
    "options.add_argument(\"--start-maximized\")\n",
    "options.add_argument(\"window-size=1920x1080\")\n",
    "options.add_argument(\"lang=ko_KR\")\n",
    "options.add_argument(\"--user-agent=Mozilla/5.0 (Windows NT 10.0; Win64; x64) AppleWebKit/537.36 (KHTML, like Gecko) Chrome/138.0.0.0 Safari/537.36\")\n",
    "\n",
    "driver = webdriver.Chrome(service = service, options = options) \n",
    "driver.get(\"https://davelee-fun.github.io/\") \n",
    "\n",
    "# 1, 먼저 이미지 태그와 속성값url가져오기\n",
    "# 2, 찾아올 값을 저장할 변수선언, \n",
    "elements = driver.find_elements(By.CSS_SELECTOR,\"div.maxthumb img\") # 3, 후손관계 한칸 띄우기\n",
    "# 7, 해당 url을 리스트화하고싶을때! 전역변수 먼저 만들기\n",
    "sources = list() # 9, sources를 리스트형태로 저장\n",
    "for element in elements:\n",
    "    sources.append(element.get_attribute(\"src\")) # 10, 속성값 중 src만 추출해서 리스트에 값 추가!\n",
    "    #print(element.get_attribute(\"src\")) # 4, text를 찾아오면 안됨! 속성값을 가져와야함\n",
    "print(sources)\n",
    "# 5, 해당 이미지 url을 내 파일에 저장하고 싶을때! 라이브러리\n",
    "\n",
    "# 11, 리스트 인덱스 값 찾아보기\n",
    "for index, source in enumerate(sources) : # 12, 해당 요소들을 찾아올 때마다 인덱스 값 부여\n",
    "    urlretrieve(source,f\"IMG/{str(index)}.{source.split(\".\")[-1]}\") # 13, 이미지 폴더에 저장, 숫자를 문자열 형태로 바꿔쓰고싶음.확장자 설정\n",
    "\n",
    "time.sleep(3)\n",
    "\n",
    "driver.quit()"
   ]
  },
  {
   "cell_type": "code",
   "execution_count": null,
   "id": "d01076be-8078-4921-a031-64e784f83701",
   "metadata": {},
   "outputs": [],
   "source": [
    "# XPATH xml로 변환되어진 것으로 크롤링을 해온다! 어떤 페이지는 xml방식으로만 크롤링을 해오는 사이트가 있기 떄문에!\n",
    "# xml 기본구조는 공공데이터포털에서 추출해올때 봤음.\n",
    "# xml문법은 독특함\n"
   ]
  },
  {
   "cell_type": "markdown",
   "id": "8cc63394-b1a6-49e3-a745-044dc1de4750",
   "metadata": {},
   "source": [
    "#### HTML 클롤링을 위한 XPATH 기본포맷 (*형태)\n",
    "- //tagname[@Attribute=\"value\"]\n",
    "- /가 하나라면 : 절대경로를 의미! -> 제일위에서부터 내려오는 형식. 예) /html/body/div/a\n",
    "- // 두개라면 : 상대경로. 문서내에서 바로 검색을 하라는 의미! 바로 태그네임 찾아와라! 예) //h1 : 문서에서 바로 h1 태그를 찾아와\n",
    "- //*[@herf] : *에스터링크는 전체를 의미함! 문서 내에 하이퍼레퍼런스라는 속성을 가지고 있는 모든 태그를 다 찾아와라.\n",
    "- //a[@href=\"https://www.google.com\"] : a 앵커 하이퍼레퍼런스를 고유속성으로 가짐. 앵커태그 중에서 하이퍼레퍼런스의 속성이 www.google.com인 요소를 찾아와라!\n",
    "- (//a)[3] : 우선연산자(),문서상에 앵커태그를 찾아오는데, 그 중에서 3번째것을 찾아와라 (주의! 보통 index코드는 0에서 시작. BUT 여기서는 1번부터 시작!!)\n",
    "- (//table)[last()] : 문서내 table 태그를 찾아오고, 그때 마지막것으로 찾아오는 방법\n",
    "- (//a)[position() < 3] : ~까지만 찾아오기. 문서내 a앵커태그를 찾아오는데(), 앞에서부터 2개까지만 찾아와라[]!\n",
    "- //div[@*] : div태그 가운데서 속성값을 가지고 있는 모든 것을 찾아오고 싶을때. 문서 내에 div태그를 찾아오는데, 어떤 속성이든 상관없이 속성이 하나라도 있으면 찾아와라"
   ]
  },
  {
   "cell_type": "code",
   "execution_count": 22,
   "id": "42e0239c-6276-4b09-b818-f9f9c2b4f80b",
   "metadata": {
    "scrolled": true
   },
   "outputs": [
    {
     "name": "stdout",
     "output_type": "stream",
     "text": [
      "\n",
      "\n",
      "\n",
      "\n",
      "\n",
      "\n",
      "\n",
      "Blog\n",
      "About\n",
      "\n",
      "매트리스커버 관련 상품 추천\n",
      "Teddy\n",
      "\n",
      "\n",
      "여름이불세트 관련 상품 추천\n",
      "Teddy\n",
      "\n",
      "\n",
      "행거도어 관련 상품 추천\n",
      "Teddy\n",
      "\n",
      "\n",
      "매트리스커버 관련 상품 추천\n",
      "Teddy\n",
      "\n",
      "\n",
      "매트리스커버 관련 상품 추천\n",
      "Teddy\n",
      "\n",
      "\n",
      "매트리스커버 관련 상품 추천\n",
      "Teddy\n",
      "\n",
      "\n",
      "매트리스커버 관련 상품 추천\n",
      "Teddy\n",
      "\n",
      "\n",
      "매트리스커버 관련 상품 추천\n",
      "Teddy\n",
      "\n",
      "\n",
      "매트리스커버 관련 상품 추천\n",
      "Teddy\n",
      "\n",
      "\n",
      "매트리스커버 관련 상품 추천\n",
      "Teddy\n",
      "\n",
      "\n",
      "매트리스커버 관련 상품 추천\n",
      "Teddy\n",
      "\n",
      "\n",
      "매트리스커버 관련 상품 추천\n",
      "Teddy\n",
      "\n",
      "\n",
      "행거도어 관련 상품 추천\n",
      "Teddy\n",
      "\n",
      "\n",
      "매트리스커버 관련 상품 추천\n",
      "Teddy\n",
      "\n",
      "\n",
      "매트리스커버 관련 상품 추천\n",
      "Teddy\n",
      "\n",
      "\n",
      "매트리스커버 관련 상품 추천\n",
      "Teddy\n",
      "\n",
      "2\n",
      "3\n",
      "4\n",
      "5\n",
      "6\n",
      "7\n",
      "8\n",
      "Next »\n",
      "가구/인테리어 (90)\n",
      "Mediumish Jekyll Theme\n",
      "\n",
      "\n"
     ]
    }
   ],
   "source": [
    "# XPATH 활용해서 ! h1 요소를 절대경로로 찾아오기!\n",
    "from selenium import webdriver\n",
    "from selenium.webdriver.chrome.service import Service\n",
    "from selenium.webdriver.common.by import By \n",
    "from selenium.webdriver.common.keys import Keys\n",
    "from webdriver_manager.chrome import ChromeDriverManager \n",
    "from selenium.webdriver.chrome.options import Options\n",
    "from urllib.request import urlretrieve \n",
    "\n",
    "import time \n",
    "import pyautogui \n",
    "\n",
    "service = Service(\"C:\\\\Users\\\\pmj96\\\\Downloads\\\\chromedriver\\\\chromedriver.exe\") \n",
    "options = Options()\n",
    "options.add_argument(\"--disable-gpu\")\n",
    "options.add_argument(\"--start-maximized\")\n",
    "options.add_argument(\"window-size=1920x1080\")\n",
    "options.add_argument(\"lang=ko_KR\")\n",
    "options.add_argument(\"--user-agent=Mozilla/5.0 (Windows NT 10.0; Win64; x64) AppleWebKit/537.36 (KHTML, like Gecko) Chrome/138.0.0.0 Safari/537.36\")\n",
    "\n",
    "driver = webdriver.Chrome(service = service, options = options) \n",
    "driver.get(\"https://davelee-fun.github.io/\") \n",
    "\n",
    "# 1, 요소 만들기! XPATH 활용!           2, xpath 경로 보기\n",
    "#element = driver.find_element(By.XPATH,\"/html/body/div[1]/div[1]/div[1]/h1\") #body > div.site-content > div.container > div.mainheading > h1\n",
    "#element = driver.find_element(By.XPATH,\"//h1\") # 3, 상대경로로 찾아오기\n",
    "# 4, href는 85개! 모든 href 찾아오기########################################################\n",
    "elements = driver.find_elements(By.XPATH,\"//*[@href]\")\n",
    "for element in elements:\n",
    "    print(element.text)\n",
    "    \n",
    "time.sleep(1)\n",
    "\n",
    "driver.quit()"
   ]
  },
  {
   "cell_type": "code",
   "execution_count": 26,
   "id": "798b8a78-a347-4273-9f7d-ec7c0493e02b",
   "metadata": {},
   "outputs": [
    {
     "name": "stdout",
     "output_type": "stream",
     "text": [
      "(왕초보) - 클래스 소개\n",
      "(왕초보) - 블로그 개발 필요한 준비물 준비하기\n",
      "(왕초보) - Github pages 설정해서 블로그 첫 페이지 만들어보기\n",
      "(왕초보) - 초간단 페이지 만들어보기\n",
      "(왕초보) - 이쁘게 테마 적용해보기\n",
      "(왕초보) - 마크다운 기초 이해하고, 실제 나만의 블로그 페이지 만들기\n",
      "(왕초보) - 다양한 마크다운 기법 익혀보며, 나만의 블로그 페이지 꾸며보기\n",
      "(초급) - 강사가 실제 사용하는 자동 프로그램 소개 [2]\n",
      "(초급) - 필요한 프로그램 설치 시연 [5]\n",
      "(초급) - 데이터를 엑셀 파일로 만들기 [9]\n",
      "(초급) -     엑셀 파일 이쁘게! 이쁘게! [8]\n",
      "(초급) -     나대신 주기적으로 파이썬 프로그램 실행하기 [7]\n",
      "(초급) - 파이썬으로 슬랙(slack) 메신저에 글쓰기 [40]\n",
      "(초급) - 웹사이트 변경사항 주기적으로 체크해서, 메신저로 알람주기 [12]\n",
      "(초급) - 네이버 API 사용해서, 블로그에 글쓰기 [42]\n",
      "(중급) - 자동으로 쿠팡파트너스 API 로 가져온 상품 정보, 네이버 블로그/트위터에 홍보하기 [412]\n"
     ]
    }
   ],
   "source": [
    "#사이트 바꿔서 하이퍼레퍼런스 값 다 찾아오기\n",
    "\n",
    "from selenium import webdriver\n",
    "from selenium.webdriver.chrome.service import Service\n",
    "from selenium.webdriver.common.by import By \n",
    "from selenium.webdriver.common.keys import Keys\n",
    "from webdriver_manager.chrome import ChromeDriverManager \n",
    "from selenium.webdriver.chrome.options import Options\n",
    "from urllib.request import urlretrieve \n",
    "import time \n",
    "import pyautogui \n",
    "\n",
    "service = Service(\"C:\\\\Users\\\\pmj96\\\\Downloads\\\\chromedriver\\\\chromedriver.exe\") \n",
    "options = Options()\n",
    "options.add_argument(\"--disable-gpu\")\n",
    "options.add_argument(\"--start-maximized\")\n",
    "options.add_argument(\"window-size=1920x1080\")\n",
    "options.add_argument(\"lang=ko_KR\")\n",
    "options.add_argument(\"--user-agent=Mozilla/5.0 (Windows NT 10.0; Win64; x64) AppleWebKit/537.36 (KHTML, like Gecko) Chrome/138.0.0.0 Safari/537.36\")\n",
    "\n",
    "driver = webdriver.Chrome(service = service, options = options) \n",
    "driver.get(\"https://crawlingtest.netlify.app/\") \n",
    "\n",
    "elements = driver.find_elements(By.XPATH,\"//*[@href]\")\n",
    "for element in elements:\n",
    "    print(element.text)\n",
    "\n",
    "time.sleep(1)\n",
    "\n",
    "driver.quit()"
   ]
  },
  {
   "cell_type": "markdown",
   "id": "de92b83a-8f86-4037-949b-d543e7d9a64d",
   "metadata": {},
   "source": [
    "## https://divjason.github.io/sellenium-test/index.html?\n",
    "- skill-name 클래스 값을 가지고 있는 div 태그를 다 찾아서 출력"
   ]
  },
  {
   "cell_type": "code",
   "execution_count": 30,
   "id": "cf50233f-66b4-4527-af69-8a393616dc3c",
   "metadata": {},
   "outputs": [
    {
     "name": "stdout",
     "output_type": "stream",
     "text": [
      "업무 자동화\n",
      "데이터 분석\n",
      "AI\n",
      "풀스택\n"
     ]
    }
   ],
   "source": [
    "#skill-name 클래스 값을 가지고 있는 div 태그 값 다 찾아오기 문제 풀이!\n",
    "\n",
    "from selenium import webdriver\n",
    "from selenium.webdriver.chrome.service import Service\n",
    "from selenium.webdriver.common.by import By \n",
    "from selenium.webdriver.common.keys import Keys\n",
    "from webdriver_manager.chrome import ChromeDriverManager \n",
    "from selenium.webdriver.chrome.options import Options\n",
    "from urllib.request import urlretrieve \n",
    "import time \n",
    "import pyautogui \n",
    "\n",
    "service = Service(\"C:\\\\Users\\\\pmj96\\\\Downloads\\\\chromedriver\\\\chromedriver.exe\") \n",
    "options = Options()\n",
    "options.add_argument(\"--disable-gpu\")\n",
    "options.add_argument(\"--start-maximized\")\n",
    "options.add_argument(\"window-size=1920x1080\")\n",
    "options.add_argument(\"lang=ko_KR\")\n",
    "options.add_argument(\"--user-agent=Mozilla/5.0 (Windows NT 10.0; Win64; x64) AppleWebKit/537.36 (KHTML, like Gecko) Chrome/138.0.0.0 Safari/537.36\")\n",
    "\n",
    "driver = webdriver.Chrome(service = service, options = options) \n",
    "driver.get(\"https://divjason.github.io/sellenium-test/index.html?\") \n",
    "\n",
    "elements = driver.find_elements(By.XPATH,\"//div[@class='skill-name']\")\n",
    "for element in elements:\n",
    "    print(element.text)\n",
    "\n",
    "time.sleep(1)\n",
    "\n",
    "driver.quit()"
   ]
  },
  {
   "cell_type": "code",
   "execution_count": 31,
   "id": "5d0d3e37-c0fc-47ab-be51-aea6cd816008",
   "metadata": {},
   "outputs": [
    {
     "name": "stdout",
     "output_type": "stream",
     "text": [
      "업무 자동화\n",
      "데이터 분석\n",
      "AI\n",
      "풀스택\n"
     ]
    }
   ],
   "source": [
    "#skill-name 클래스 값을 가지고 있는 div 태그 값 다 찾아오기 문제 풀이! 선생님해설!!\n",
    "\n",
    "from selenium import webdriver\n",
    "from selenium.webdriver.chrome.service import Service\n",
    "from selenium.webdriver.common.by import By \n",
    "from selenium.webdriver.common.keys import Keys\n",
    "from webdriver_manager.chrome import ChromeDriverManager \n",
    "from selenium.webdriver.chrome.options import Options\n",
    "from urllib.request import urlretrieve \n",
    "import time \n",
    "import pyautogui \n",
    "\n",
    "service = Service(\"C:\\\\Users\\\\pmj96\\\\Downloads\\\\chromedriver\\\\chromedriver.exe\") \n",
    "options = Options()\n",
    "options.add_argument(\"--disable-gpu\")\n",
    "options.add_argument(\"--start-maximized\")\n",
    "options.add_argument(\"window-size=1920x1080\")\n",
    "options.add_argument(\"lang=ko_KR\")\n",
    "options.add_argument(\"--user-agent=Mozilla/5.0 (Windows NT 10.0; Win64; x64) AppleWebKit/537.36 (KHTML, like Gecko) Chrome/138.0.0.0 Safari/537.36\")\n",
    "\n",
    "driver = webdriver.Chrome(service = service, options = options) \n",
    "driver.get(\"https://divjason.github.io/sellenium-test/index.html?\") \n",
    "\n",
    "elements = driver.find_elements(By.XPATH,\"//div[@class='skill-name']\") #기본형태로 찾아오면 됨!!\n",
    "for element in elements:\n",
    "    print(element.text)\n",
    "\n",
    "time.sleep(1)\n",
    "\n",
    "driver.quit()"
   ]
  },
  {
   "cell_type": "code",
   "execution_count": 33,
   "id": "57add54d-ce6a-4725-bea8-36c3c5dd806a",
   "metadata": {
    "collapsed": true,
    "jupyter": {
     "outputs_hidden": true
    }
   },
   "outputs": [
    {
     "name": "stdout",
     "output_type": "stream",
     "text": [
      "\n"
     ]
    }
   ],
   "source": [
    "#skill-name 클래스 값을 가지고 있는 div 태그 값 중 3번째 값 찾아오기 문제 풀이! 선생님해설!!\n",
    "\n",
    "from selenium import webdriver\n",
    "from selenium.webdriver.chrome.service import Service\n",
    "from selenium.webdriver.common.by import By \n",
    "from selenium.webdriver.common.keys import Keys\n",
    "from webdriver_manager.chrome import ChromeDriverManager \n",
    "from selenium.webdriver.chrome.options import Options\n",
    "from urllib.request import urlretrieve \n",
    "import time \n",
    "import pyautogui \n",
    "\n",
    "service = Service(\"C:\\\\Users\\\\pmj96\\\\Downloads\\\\chromedriver\\\\chromedriver.exe\") \n",
    "options = Options()\n",
    "options.add_argument(\"--disable-gpu\")\n",
    "options.add_argument(\"--start-maximized\")\n",
    "options.add_argument(\"window-size=1920x1080\")\n",
    "options.add_argument(\"lang=ko_KR\")\n",
    "options.add_argument(\"--user-agent=Mozilla/5.0 (Windows NT 10.0; Win64; x64) AppleWebKit/537.36 (KHTML, like Gecko) Chrome/138.0.0.0 Safari/537.36\")\n",
    "\n",
    "driver = webdriver.Chrome(service = service, options = options) \n",
    "driver.get(\"https://divjason.github.io/sellenium-test/index.html?\") \n",
    "\n",
    "elements = driver.find_elements(By.XPATH,\"(//div)[@class='skill-name'][3]\") # 3번째 값 찾아오기! 앞에 태그 우선연산,[@속성=속성값][3번째]\n",
    "for element in elements:\n",
    "    print(element.text)\n",
    "\n",
    "time.sleep(1)\n",
    "\n",
    "driver.quit()"
   ]
  },
  {
   "cell_type": "code",
   "execution_count": null,
   "id": "d66adb0d-f8ed-4820-b002-6d28259d2ddc",
   "metadata": {},
   "outputs": [],
   "source": [
    "6.16 ~ 7.31\t파이썬과 데이터과학 첫걸음 (IT 기본기 익히기)\t중급 찾아오기"
   ]
  },
  {
   "cell_type": "code",
   "execution_count": 39,
   "id": "e26aad0e-0e74-4940-a2c5-dc6f32e508d9",
   "metadata": {},
   "outputs": [
    {
     "name": "stdout",
     "output_type": "stream",
     "text": [
      "6.16 ~ 7.31 파이썬과 데이터과학 첫걸음 (IT 기본기 익히기) 중급\n"
     ]
    }
   ],
   "source": [
    "#6.16 ~ 7.31\t파이썬과 데이터과학 첫걸음 (IT 기본기 익히기) 중급 찾아오기 값 찾아오기 문제 풀이! &선생님해설!!\n",
    "\n",
    "from selenium import webdriver\n",
    "from selenium.webdriver.chrome.service import Service\n",
    "from selenium.webdriver.common.by import By \n",
    "from selenium.webdriver.common.keys import Keys\n",
    "from webdriver_manager.chrome import ChromeDriverManager \n",
    "from selenium.webdriver.chrome.options import Options\n",
    "from urllib.request import urlretrieve \n",
    "import time \n",
    "import pyautogui \n",
    "\n",
    "service = Service(\"C:\\\\Users\\\\pmj96\\\\Downloads\\\\chromedriver\\\\chromedriver.exe\") \n",
    "options = Options()\n",
    "options.add_argument(\"--disable-gpu\")\n",
    "options.add_argument(\"--start-maximized\")\n",
    "options.add_argument(\"window-size=1920x1080\")\n",
    "options.add_argument(\"lang=ko_KR\")\n",
    "options.add_argument(\"--user-agent=Mozilla/5.0 (Windows NT 10.0; Win64; x64) AppleWebKit/537.36 (KHTML, like Gecko) Chrome/138.0.0.0 Safari/537.36\")\n",
    "\n",
    "driver = webdriver.Chrome(service = service, options = options) \n",
    "driver.get(\"https://crawlingtest.netlify.app/\") \n",
    "\n",
    "elements = driver.find_elements(By.XPATH,\"//tr[3]\") # //tr에서[3번째]\n",
    "# 선생님해설 elements = driver.find_elements(By.XPATH,\"//tr[last()]\")\n",
    "for element in elements:\n",
    "    print(element.text)\n",
    "\n",
    "time.sleep(1)\n",
    "\n",
    "driver.quit()"
   ]
  },
  {
   "cell_type": "code",
   "execution_count": 42,
   "id": "819ccfdd-331b-459c-9216-72fb2ac5f47e",
   "metadata": {},
   "outputs": [
    {
     "name": "stdout",
     "output_type": "stream",
     "text": [
      "일정 커리큘럼 타이틀 난이도\n"
     ]
    }
   ],
   "source": [
    "#첫번째행값 찾아오기 문제 풀이! &선생님해설!!\n",
    "\n",
    "from selenium import webdriver\n",
    "from selenium.webdriver.chrome.service import Service\n",
    "from selenium.webdriver.common.by import By \n",
    "from selenium.webdriver.common.keys import Keys\n",
    "from webdriver_manager.chrome import ChromeDriverManager \n",
    "from selenium.webdriver.chrome.options import Options\n",
    "from urllib.request import urlretrieve \n",
    "import time \n",
    "import pyautogui \n",
    "\n",
    "service = Service(\"C:\\\\Users\\\\pmj96\\\\Downloads\\\\chromedriver\\\\chromedriver.exe\") \n",
    "options = Options()\n",
    "options.add_argument(\"--disable-gpu\")\n",
    "options.add_argument(\"--start-maximized\")\n",
    "options.add_argument(\"window-size=1920x1080\")\n",
    "options.add_argument(\"lang=ko_KR\")\n",
    "options.add_argument(\"--user-agent=Mozilla/5.0 (Windows NT 10.0; Win64; x64) AppleWebKit/537.36 (KHTML, like Gecko) Chrome/138.0.0.0 Safari/537.36\")\n",
    "\n",
    "driver = webdriver.Chrome(service = service, options = options) \n",
    "driver.get(\"https://crawlingtest.netlify.app/\") \n",
    "\n",
    "elements = driver.find_elements(By.XPATH,\"(//tr)[1]\") # (//tr)에서[1번째]\n",
    "# 선생님해설 elements = driver.find_elements(By.XPATH,\"//tr[position()<2]\") 위치가 2번보다 작으면 1!!\n",
    "# 선생님해설 elements = driver.find_elements(By.XPATH,\"//tr[position()=1]\") 위치가 1번!!\n",
    "for element in elements:\n",
    "    print(element.text)\n",
    "\n",
    "time.sleep(1)\n",
    "\n",
    "driver.quit()"
   ]
  },
  {
   "cell_type": "code",
   "execution_count": 45,
   "id": "54853a10-dfc0-4a60-8c25-bcf0b4a86733",
   "metadata": {},
   "outputs": [
    {
     "name": "stdout",
     "output_type": "stream",
     "text": [
      "선물하기 좋은 선물을 고르고 골라서 소개하는 블로그입니다.\n"
     ]
    }
   ],
   "source": [
    "#블로그 사이트에서 P태그를 가지고 있는 요소 中 속성을 가진 어떤 속성이든 상관없으나, 속성을 가지고 있는 것을 찾아오기 문제 풀이! &선생님해설!!\n",
    "\n",
    "from selenium import webdriver\n",
    "from selenium.webdriver.chrome.service import Service\n",
    "from selenium.webdriver.common.by import By \n",
    "from selenium.webdriver.common.keys import Keys\n",
    "from webdriver_manager.chrome import ChromeDriverManager \n",
    "from selenium.webdriver.chrome.options import Options\n",
    "from urllib.request import urlretrieve \n",
    "import time \n",
    "import pyautogui \n",
    "\n",
    "service = Service(\"C:\\\\Users\\\\pmj96\\\\Downloads\\\\chromedriver\\\\chromedriver.exe\") \n",
    "options = Options()\n",
    "options.add_argument(\"--disable-gpu\")\n",
    "options.add_argument(\"--start-maximized\")\n",
    "options.add_argument(\"window-size=1920x1080\")\n",
    "options.add_argument(\"lang=ko_KR\")\n",
    "options.add_argument(\"--user-agent=Mozilla/5.0 (Windows NT 10.0; Win64; x64) AppleWebKit/537.36 (KHTML, like Gecko) Chrome/138.0.0.0 Safari/537.36\")\n",
    "\n",
    "driver = webdriver.Chrome(service = service, options = options) \n",
    "driver.get(\"https://davelee-fun.github.io/\") \n",
    "\n",
    "#elements = driver.find_elements(By.XPATH,\"//html[@*]\") # 모든 속성 찾아오기! html이 가장 상위에 있으니까.앗.. 다 찾으라는건줄..\n",
    "elements = driver.find_elements(By.XPATH,\"//p[@*]\") # \n",
    "for element in elements:\n",
    "    print(element.text)\n",
    "\n",
    "time.sleep(1)\n",
    "\n",
    "driver.quit()"
   ]
  },
  {
   "cell_type": "code",
   "execution_count": 71,
   "id": "1ca5ad8b-921c-48af-8810-3bb6e63bd86a",
   "metadata": {},
   "outputs": [
    {
     "name": "stdout",
     "output_type": "stream",
     "text": [
      "(초급) - 강사가 실제 사용하는 자동 프로그램 소개 [2]\n",
      "(초급) - 필요한 프로그램 설치 시연 [5]\n",
      "(초급) - 데이터를 엑셀 파일로 만들기 [9]\n",
      "(초급) -     엑셀 파일 이쁘게! 이쁘게! [8]\n",
      "(초급) -     나대신 주기적으로 파이썬 프로그램 실행하기 [7]\n",
      "(초급) - 파이썬으로 슬랙(slack) 메신저에 글쓰기 [40]\n",
      "(초급) - 웹사이트 변경사항 주기적으로 체크해서, 메신저로 알람주기 [12]\n",
      "(초급) - 네이버 API 사용해서, 블로그에 글쓰기 [42]\n",
      "(중급) - 자동으로 쿠팡파트너스 API 로 가져온 상품 정보, 네이버 블로그/트위터에 홍보하기 [412]\n"
     ]
    }
   ],
   "source": [
    "#메가스터디 페이지에서 course라는 class value 값을 가지고있는것 다 찾아오기 문제 풀이! &선생님해설!!\n",
    "\n",
    "from selenium import webdriver\n",
    "from selenium.webdriver.chrome.service import Service\n",
    "from selenium.webdriver.common.by import By \n",
    "from selenium.webdriver.common.keys import Keys\n",
    "from webdriver_manager.chrome import ChromeDriverManager \n",
    "from selenium.webdriver.chrome.options import Options\n",
    "from urllib.request import urlretrieve \n",
    "import time \n",
    "import pyautogui \n",
    "\n",
    "service = Service(\"C:\\\\Users\\\\pmj96\\\\Downloads\\\\chromedriver\\\\chromedriver.exe\") \n",
    "options = Options()\n",
    "options.add_argument(\"--disable-gpu\")\n",
    "options.add_argument(\"--start-maximized\")\n",
    "options.add_argument(\"window-size=1920x1080\")\n",
    "options.add_argument(\"lang=ko_KR\")\n",
    "options.add_argument(\"--user-agent=Mozilla/5.0 (Windows NT 10.0; Win64; x64) AppleWebKit/537.36 (KHTML, like Gecko) Chrome/138.0.0.0 Safari/537.36\")\n",
    "\n",
    "driver = webdriver.Chrome(service = service, options = options) \n",
    "driver.get(\"https://crawlingtest.netlify.app/\") \n",
    "\n",
    "#elements = driver.find_elements(By.XPATH,\"//*[@class='course']\") # * -> 모든요소, ['course']은따옴표!!!! 잊지않기!!!\n",
    "#elements = driver.find_elements(By.XPATH,\"//*[contains(@class,'course')]\") # * -> 모든요소, [contains(@class,'value')]\n",
    "# 밑에꺼 : ul과 li 태그가 직계자손인경우! 중간에 뭐가 있으면 안됨 경로를 정의하는게 핵심. ul 밑 li 태그. 최초로 찾는건 ul!  ul 中 id\n",
    "#elements = driver.find_elements(By.XPATH,\"//ul[@id='dev_course_list']/*[contains(@class,'course')]\") \n",
    "#elements = driver.find_elements(By.XPATH,\"//ul[@id='dev_course_list']//*[contains(@class,'course')]\") #이건 course 값이 포함되어있으면 다 출력\n",
    "########################\n",
    "#elements = driver.find_elements(By.XPATH,\"//ul[@id='dev_course_list']/*[@class ='course']\") # course를 정확히 가지고 있을때만 출력! \n",
    "\n",
    "for element in elements:\n",
    "    print(element.text)\n",
    "\n",
    "time.sleep(1)\n",
    "\n",
    "driver.quit()"
   ]
  },
  {
   "cell_type": "code",
   "execution_count": 80,
   "id": "5dd7fa77-e8ab-4853-821a-6028903f9a2b",
   "metadata": {},
   "outputs": [
    {
     "name": "stdout",
     "output_type": "stream",
     "text": [
      "(초급) - 강사가 실제 사용하는 자동 프로그램 소개 [2]\n",
      "(초급) - 필요한 프로그램 설치 시연 [5]\n"
     ]
    }
   ],
   "source": [
    "#메가스터디 페이지에서 course 중에 값을 가지고있는것 다 찾아오기 문제 풀이! &선생님해설!! 2\n",
    "\n",
    "from selenium import webdriver\n",
    "from selenium.webdriver.chrome.service import Service\n",
    "from selenium.webdriver.common.by import By \n",
    "from selenium.webdriver.common.keys import Keys\n",
    "from webdriver_manager.chrome import ChromeDriverManager \n",
    "from selenium.webdriver.chrome.options import Options\n",
    "from urllib.request import urlretrieve \n",
    "import time \n",
    "import pyautogui \n",
    "\n",
    "service = Service(\"C:\\\\Users\\\\pmj96\\\\Downloads\\\\chromedriver\\\\chromedriver.exe\") \n",
    "options = Options()\n",
    "options.add_argument(\"--disable-gpu\")\n",
    "options.add_argument(\"--start-maximized\")\n",
    "options.add_argument(\"window-size=1920x1080\")\n",
    "options.add_argument(\"lang=ko_KR\")\n",
    "options.add_argument(\"--user-agent=Mozilla/5.0 (Windows NT 10.0; Win64; x64) AppleWebKit/537.36 (KHTML, like Gecko) Chrome/138.0.0.0 Safari/537.36\")\n",
    "\n",
    "driver = webdriver.Chrome(service = service, options = options) \n",
    "driver.get(\"https://crawlingtest.netlify.app/\") \n",
    "\n",
    "elements = driver.find_elements(By.XPATH,\"//*[contains(@class,'course') and contains(@class,'maintitle')]\") \n",
    "#본문에서 모든 값을 가져오는데, 특정한 값을 포함하고 있으면 좋겠다\n",
    "for element in elements:\n",
    "    print(element.text)\n",
    "                                \n",
    "time.sleep(1)\n",
    "\n",
    "driver.quit()"
   ]
  },
  {
   "cell_type": "code",
   "execution_count": null,
   "id": "1dcbdb9d-55b9-4a19-9eb6-c1848dd0de65",
   "metadata": {},
   "outputs": [],
   "source": [
    "Xpath를 사용해서 클래스 속성 값이 news인 요소를 찾아오고 해당 텍스트 값만 출력!"
   ]
  },
  {
   "cell_type": "code",
   "execution_count": 86,
   "id": "844ff77b-1482-46b6-a7d7-5bf5c4b1ff8d",
   "metadata": {},
   "outputs": [
    {
     "name": "stdout",
     "output_type": "stream",
     "text": [
      "뉴스: 머신러닝 강좌가 나왔어요~~~\n"
     ]
    }
   ],
   "source": [
    "#클래스 값 news을 가지고있는것 다 찾아오기 문제 풀이! &선생님해설!! 3\n",
    "\n",
    "from selenium import webdriver\n",
    "from selenium.webdriver.chrome.service import Service\n",
    "from selenium.webdriver.common.by import By \n",
    "from selenium.webdriver.common.keys import Keys\n",
    "from webdriver_manager.chrome import ChromeDriverManager \n",
    "from selenium.webdriver.chrome.options import Options\n",
    "from urllib.request import urlretrieve \n",
    "import time \n",
    "import pyautogui \n",
    "\n",
    "service = Service(\"C:\\\\Users\\\\pmj96\\\\Downloads\\\\chromedriver\\\\chromedriver.exe\") \n",
    "options = Options()\n",
    "options.add_argument(\"--disable-gpu\")\n",
    "options.add_argument(\"--start-maximized\")\n",
    "options.add_argument(\"window-size=1920x1080\")\n",
    "options.add_argument(\"lang=ko_KR\")\n",
    "options.add_argument(\"--user-agent=Mozilla/5.0 (Windows NT 10.0; Win64; x64) AppleWebKit/537.36 (KHTML, like Gecko) Chrome/138.0.0.0 Safari/537.36\")\n",
    "\n",
    "driver = webdriver.Chrome(service = service, options = options) \n",
    "driver.get(\"https://divjason.github.io/sellenium-test/index.html?\") \n",
    "\n",
    "element = driver.find_element(By.XPATH,\"//span[@class='news']\")\n",
    "print(element.text)\n",
    "\n",
    "time.sleep(1)\n",
    "\n",
    "driver.quit()"
   ]
  },
  {
   "cell_type": "code",
   "execution_count": 68,
   "id": "50a32481-a34f-4583-8b5f-00359c5d22a5",
   "metadata": {},
   "outputs": [
    {
     "name": "stdout",
     "output_type": "stream",
     "text": [
      "일정 커리큘럼 타이틀 난이도\n",
      "5.1 ~ 6.15 나만의 엣지있는 블로그 사이트 만들기 (취미로 익히는 IT) 초급\n",
      "6.16 ~ 7.31 파이썬과 데이터과학 첫걸음 (IT 기본기 익히기) 중급\n"
     ]
    }
   ],
   "source": [
    "# 커리큘럼일정의 모든 데이터 출력하기\n",
    "\n",
    "from selenium import webdriver\n",
    "from selenium.webdriver.chrome.service import Service\n",
    "from selenium.webdriver.common.by import By \n",
    "from selenium.webdriver.common.keys import Keys\n",
    "from webdriver_manager.chrome import ChromeDriverManager \n",
    "from selenium.webdriver.chrome.options import Options\n",
    "from urllib.request import urlretrieve \n",
    "import time \n",
    "import pyautogui \n",
    "\n",
    "service = Service(\"C:\\\\Users\\\\pmj96\\\\Downloads\\\\chromedriver\\\\chromedriver.exe\") \n",
    "options = Options()\n",
    "options.add_argument(\"--disable-gpu\")\n",
    "options.add_argument(\"--start-maximized\")\n",
    "options.add_argument(\"window-size=1920x1080\")\n",
    "options.add_argument(\"lang=ko_KR\")\n",
    "options.add_argument(\"--user-agent=Mozilla/5.0 (Windows NT 10.0; Win64; x64) AppleWebKit/537.36 (KHTML, like Gecko) Chrome/138.0.0.0 Safari/537.36\")\n",
    "\n",
    "driver = webdriver.Chrome(service = service, options = options) \n",
    "driver.get(\"https://crawlingtest.netlify.app/\") \n",
    "\n",
    "elements = driver.find_elements(By.XPATH,\"//table\")\n",
    "for element in elements:\n",
    "    print(element.text)\n",
    "\n",
    "time.sleep(1)\n",
    "\n",
    "driver.quit()"
   ]
  },
  {
   "cell_type": "code",
   "execution_count": 69,
   "id": "1a27c7b5-f394-4b3c-a397-ac6217a8228e",
   "metadata": {},
   "outputs": [
    {
     "name": "stdout",
     "output_type": "stream",
     "text": [
      "일정\n",
      "커리큘럼 타이틀\n",
      "난이도\n",
      "5.1 ~ 6.15\n",
      "나만의 엣지있는 블로그 사이트 만들기 (취미로 익히는 IT)\n",
      "초급\n",
      "6.16 ~ 7.31\n",
      "파이썬과 데이터과학 첫걸음 (IT 기본기 익히기)\n",
      "중급\n"
     ]
    }
   ],
   "source": [
    "# 커리큘럼일정의 모든 데이터 출력하기\n",
    "\n",
    "from selenium import webdriver\n",
    "from selenium.webdriver.chrome.service import Service\n",
    "from selenium.webdriver.common.by import By \n",
    "from selenium.webdriver.common.keys import Keys\n",
    "from webdriver_manager.chrome import ChromeDriverManager \n",
    "from selenium.webdriver.chrome.options import Options\n",
    "from urllib.request import urlretrieve \n",
    "import time \n",
    "import pyautogui \n",
    "\n",
    "service = Service(\"C:\\\\Users\\\\pmj96\\\\Downloads\\\\chromedriver\\\\chromedriver.exe\") \n",
    "options = Options()\n",
    "options.add_argument(\"--disable-gpu\")\n",
    "options.add_argument(\"--start-maximized\")\n",
    "options.add_argument(\"window-size=1920x1080\")\n",
    "options.add_argument(\"lang=ko_KR\")\n",
    "options.add_argument(\"--user-agent=Mozilla/5.0 (Windows NT 10.0; Win64; x64) AppleWebKit/537.36 (KHTML, like Gecko) Chrome/138.0.0.0 Safari/537.36\")\n",
    "\n",
    "driver = webdriver.Chrome(service = service, options = options) \n",
    "driver.get(\"https://crawlingtest.netlify.app/\") \n",
    "\n",
    "# elements = driver.find_elements(By.XPATH,\"//table\") -> 내가 쓴 것. 가독성이 안좋게 나옴.\n",
    "elements = driver.find_elements(By.XPATH,\"//td\")\n",
    "for element in elements:\n",
    "    print(element.text)\n",
    "\n",
    "time.sleep(1)\n",
    "\n",
    "driver.quit()"
   ]
  },
  {
   "cell_type": "markdown",
   "id": "e36bbabc-edb4-4025-bacc-ffe184fb4270",
   "metadata": {},
   "source": [
    "#### XPATH를 활용하여,\n",
    "아이디 : error@error.com \n",
    "비밀번호 : 1234 \n",
    "로그인 버튼 클릭 \n",
    "로그인페이지에서 message 속성값 텍스트 출력!"
   ]
  },
  {
   "cell_type": "code",
   "execution_count": 91,
   "id": "6199f1c4-302e-405a-8562-9dc93702bf2a",
   "metadata": {},
   "outputs": [
    {
     "name": "stdout",
     "output_type": "stream",
     "text": [
      "실제 사이트는 https://megaitlab.com/ 입니다\n",
      "본 페이지는 로그인된 페이지입니다!\n",
      "뉴스: 머신러닝 강좌가 나왔어요~~~\n"
     ]
    }
   ],
   "source": [
    "##XPATH로 로그인 앤 메시지 추출!\n",
    "\n",
    "from selenium import webdriver\n",
    "from selenium.webdriver.chrome.service import Service\n",
    "from selenium.webdriver.common.by import By \n",
    "from selenium.webdriver.common.keys import Keys\n",
    "from webdriver_manager.chrome import ChromeDriverManager \n",
    "from selenium.webdriver.chrome.options import Options\n",
    "import time \n",
    "import pyautogui \n",
    "\n",
    "service = Service(\"C:\\\\Users\\\\pmj96\\\\Downloads\\\\chromedriver\\\\chromedriver.exe\") \n",
    "prefs = {\n",
    "    \"credentials_enable_service\" : False, # 크롬 웹 브라우저 자체 로그인 팝업 비활성화하는 방법\n",
    "    \"profile.password_manager_enavled\" : False # 비밀번호 저장 팝업 끄기\n",
    "}\n",
    "\n",
    "options = Options()\n",
    "options.add_argument(\"--disable-gpu\")\n",
    "options.add_argument(\"--start-maximized\")\n",
    "options.add_argument(\"window-size=1920x1080\")\n",
    "options.add_experimental_option(\"prefs\", prefs) #위 옵션 추가\n",
    "options.add_argument(\"lang=ko_KR\")\n",
    "options.add_argument(\"--user-agent=Mozilla/5.0 (Windows NT 10.0; Win64; x64) AppleWebKit/537.36 (KHTML, like Gecko) Chrome/138.0.0.0 Safari/537.36\")\n",
    "driver = webdriver.Chrome(service = service, options = options) \n",
    "driver.get(\"https://divjason.github.io/sellenium-test/\") \n",
    "\n",
    "element = driver.find_element(By.XPATH,\"//input[@id='username']\")\n",
    "element.clear()\n",
    "element.send_keys(\"error@error.com\")\n",
    "\n",
    "element = driver.find_element(By.XPATH,\"//input[@id='password']\")\n",
    "element.clear()\n",
    "element.send_keys(\"1234\")\n",
    "\n",
    "\n",
    "element = driver.find_element(By.XPATH,\"//input[@type='submit']\") \n",
    "element.click() \n",
    "\n",
    "element1 = driver.find_element(By.XPATH,\"//div[@class = 'message']\")\n",
    "print(element1.text)\n",
    "\n",
    "time.sleep(2)\n",
    "\n",
    "driver.quit()"
   ]
  },
  {
   "cell_type": "code",
   "execution_count": 102,
   "id": "e3352157-6c4c-4334-9e28-a47a32b421d2",
   "metadata": {},
   "outputs": [
    {
     "name": "stdout",
     "output_type": "stream",
     "text": [
      "실제 사이트는 https://megaitlab.com/ 입니다\n",
      "본 페이지는 로그인된 페이지입니다!\n",
      "뉴스: 머신러닝 강좌가 나왔어요~~~\n"
     ]
    }
   ],
   "source": [
    "##XPATH로 로그인 앤 메시지 추출! 선생님해설\n",
    "from selenium import webdriver\n",
    "from selenium.webdriver.chrome.service import Service\n",
    "from selenium.webdriver.common.by import By \n",
    "from selenium.webdriver.common.keys import Keys\n",
    "from webdriver_manager.chrome import ChromeDriverManager \n",
    "from selenium.webdriver.chrome.options import Options\n",
    "import time \n",
    "import pyautogui \n",
    "\n",
    "service = Service(\"C:\\\\Users\\\\pmj96\\\\Downloads\\\\chromedriver\\\\chromedriver.exe\") \n",
    "prefs = {\n",
    "    \"credentials_enable_service\" : False, # 크롬 웹 브라우저 자체 로그인 팝업 비활성화하는 방법\n",
    "    \"profile.password_manager_enavled\" : False # 비밀번호 저장 팝업 끄기\n",
    "}\n",
    "\n",
    "options = Options()\n",
    "options.add_argument(\"--disable-gpu\")\n",
    "options.add_argument(\"--start-maximized\")\n",
    "options.add_argument(\"window-size=1920x1080\")\n",
    "options.add_experimental_option(\"prefs\", prefs) #위 옵션 추가\n",
    "options.add_argument(\"lang=ko_KR\")\n",
    "options.add_argument(\"--user-agent=Mozilla/5.0 (Windows NT 10.0; Win64; x64) AppleWebKit/537.36 (KHTML, like Gecko) Chrome/138.0.0.0 Safari/537.36\")\n",
    "driver = webdriver.Chrome(service = service, options = options) \n",
    "driver.get(\"https://divjason.github.io/sellenium-test/\")\n",
    "\n",
    "\n",
    "element = driver.find_element(By.XPATH, \"//input[@id = 'username']\")\n",
    "element.clear()\n",
    "element.send_keys(\"error@error.com\")\n",
    "\n",
    "element = driver.find_element(By.XPATH, \"//input[@id = 'password']\")\n",
    "element.clear()\n",
    "element.send_keys(\"1234\")\n",
    "\n",
    "element = driver.find_element(By.XPATH,\"//input[@type='submit']\")\n",
    "element.click()\n",
    "\n",
    "element = driver.find_element(By.XPATH,\"//div[@class='message']\")\n",
    "print(element.text)\n",
    "\n",
    "time.sleep(3)\n",
    "driver.quit()"
   ]
  },
  {
   "cell_type": "code",
   "execution_count": 105,
   "id": "8cd559d9-77bf-46d3-a4fe-9a0f375c1e3b",
   "metadata": {},
   "outputs": [
    {
     "name": "stdout",
     "output_type": "stream",
     "text": [
      "실제 사이트는 https://megaitlab.com/ 입니다\n",
      "본 페이지는 로그인된 페이지입니다!\n",
      "뉴스: 머신러닝 강좌가 나왔어요~~~\n",
      "실제 사이트는 https://megaitlab.com/ 입니다\n",
      "뉴스: 머신러닝 강좌가 나왔어요~~~\n"
     ]
    }
   ],
   "source": [
    "##XPATH로 로그인 앤 메시지 추출! 후 로그아웃 & message 추출!\n",
    "from selenium import webdriver\n",
    "from selenium.webdriver.chrome.service import Service\n",
    "from selenium.webdriver.common.by import By \n",
    "from selenium.webdriver.common.keys import Keys\n",
    "from webdriver_manager.chrome import ChromeDriverManager \n",
    "from selenium.webdriver.chrome.options import Options\n",
    "import time \n",
    "import pyautogui \n",
    "\n",
    "service = Service(\"C:\\\\Users\\\\pmj96\\\\Downloads\\\\chromedriver\\\\chromedriver.exe\") \n",
    "prefs = {\n",
    "    \"credentials_enable_service\" : False, # 크롬 웹 브라우저 자체 로그인 팝업 비활성화하는 방법\n",
    "    \"profile.password_manager_enavled\" : False # 비밀번호 저장 팝업 끄기\n",
    "}\n",
    "\n",
    "options = Options()\n",
    "options.add_argument(\"--disable-gpu\")\n",
    "options.add_argument(\"--start-maximized\")\n",
    "options.add_argument(\"window-size=1920x1080\")\n",
    "options.add_experimental_option(\"prefs\", prefs) #위 옵션 추가\n",
    "options.add_argument(\"lang=ko_KR\")\n",
    "options.add_argument(\"--user-agent=Mozilla/5.0 (Windows NT 10.0; Win64; x64) AppleWebKit/537.36 (KHTML, like Gecko) Chrome/138.0.0.0 Safari/537.36\")\n",
    "driver = webdriver.Chrome(service = service, options = options) \n",
    "driver.get(\"https://divjason.github.io/sellenium-test/\")\n",
    "\n",
    "\n",
    "element = driver.find_element(By.XPATH, \"//input[@id = 'username']\")\n",
    "element.clear()\n",
    "element.send_keys(\"error@error.com\")\n",
    "\n",
    "element = driver.find_element(By.XPATH, \"//input[@id = 'password']\")\n",
    "element.clear()\n",
    "element.send_keys(\"1234\")\n",
    "\n",
    "element = driver.find_element(By.XPATH,\"//input[@type='submit']\")\n",
    "element.click()\n",
    "\n",
    "element = driver.find_element(By.XPATH,\"//div[@class='message']\")\n",
    "print(element.text)\n",
    "\n",
    "element = driver.find_element(By.XPATH,\"//input[@value='로그아웃']\")\n",
    "element.click()\n",
    "\n",
    "element = driver.find_element(By.XPATH,\"//div[@class='message']\")\n",
    "print(element.text)\n",
    "\n",
    "\n",
    "time.sleep(3)\n",
    "driver.quit()"
   ]
  },
  {
   "cell_type": "code",
   "execution_count": 107,
   "id": "60d4e0f0-c862-4f34-aa4a-41bf9818ae40",
   "metadata": {},
   "outputs": [
    {
     "name": "stdout",
     "output_type": "stream",
     "text": [
      "실제 사이트는 https://megaitlab.com/ 입니다\n",
      "뉴스: 머신러닝 강좌가 나왔어요~~~\n"
     ]
    }
   ],
   "source": [
    "#로그아웃 & message 추출! 선생님해설\n",
    "from selenium import webdriver\n",
    "from selenium.webdriver.chrome.service import Service\n",
    "from selenium.webdriver.common.by import By \n",
    "from selenium.webdriver.common.keys import Keys\n",
    "from webdriver_manager.chrome import ChromeDriverManager \n",
    "from selenium.webdriver.chrome.options import Options\n",
    "import time \n",
    "import pyautogui \n",
    "\n",
    "service = Service(\"C:\\\\Users\\\\pmj96\\\\Downloads\\\\chromedriver\\\\chromedriver.exe\") \n",
    "prefs = {\n",
    "    \"credentials_enable_service\" : False, # 크롬 웹 브라우저 자체 로그인 팝업 비활성화하는 방법\n",
    "    \"profile.password_manager_enavled\" : False # 비밀번호 저장 팝업 끄기\n",
    "}\n",
    "\n",
    "options = Options()\n",
    "options.add_argument(\"--disable-gpu\")\n",
    "options.add_argument(\"--start-maximized\")\n",
    "options.add_argument(\"window-size=1920x1080\")\n",
    "options.add_experimental_option(\"prefs\", prefs) #위 옵션 추가\n",
    "options.add_argument(\"lang=ko_KR\")\n",
    "options.add_argument(\"--user-agent=Mozilla/5.0 (Windows NT 10.0; Win64; x64) AppleWebKit/537.36 (KHTML, like Gecko) Chrome/138.0.0.0 Safari/537.36\")\n",
    "driver = webdriver.Chrome(service = service, options = options) \n",
    "driver.get(\"https://divjason.github.io/sellenium-test/index_login.html?username=&password=\")\n",
    "\n",
    "\n",
    "element = driver.find_element(By.XPATH, \"//input[@type = 'submit']\")\n",
    "element.click()\n",
    "\n",
    "time.sleep(3)\n",
    "\n",
    "element = driver.find_element(By.XPATH,\"//div[@class='message']\")\n",
    "print(element.text)\n",
    "\n",
    "\n",
    "time.sleep(3)\n",
    "driver.quit()"
   ]
  },
  {
   "cell_type": "code",
   "execution_count": null,
   "id": "8924d552-5e12-48d7-9125-6790d84595b0",
   "metadata": {},
   "outputs": [],
   "source": []
  },
  {
   "cell_type": "code",
   "execution_count": 4,
   "id": "d393ef45-ea8e-4f60-b481-44443f71ef5b",
   "metadata": {},
   "outputs": [],
   "source": [
    "import pandas as pd\n",
    "\n",
    "# 1. 엑셀 파일 불러오기\n",
    "df = pd.read_excel(\"연관키워드 20250730 1805.xlsx\")\n",
    "\n",
    "# 2. 숫자형으로 변환 (문자열일 수 있으므로)\n",
    "df[\"월간검색수(PC)\"] = pd.to_numeric(df[\"월간검색수(PC)\"], errors=\"coerce\")\n",
    "\n",
    "# 3. 내림차순 정렬\n",
    "df_sorted = df.sort_values(by=\"월간검색수(PC)\", ascending=False)\n",
    "\n",
    "# 4. 결과를 새 엑셀 파일로 저장\n",
    "df_sorted.to_excel(\"연관키워드_PC검색수_내림차순.xlsx\", index=False)\n"
   ]
  }
 ],
 "metadata": {
  "kernelspec": {
   "display_name": "Python [conda env:base] *",
   "language": "python",
   "name": "conda-base-py"
  },
  "language_info": {
   "codemirror_mode": {
    "name": "ipython",
    "version": 3
   },
   "file_extension": ".py",
   "mimetype": "text/x-python",
   "name": "python",
   "nbconvert_exporter": "python",
   "pygments_lexer": "ipython3",
   "version": "3.13.5"
  }
 },
 "nbformat": 4,
 "nbformat_minor": 5
}
