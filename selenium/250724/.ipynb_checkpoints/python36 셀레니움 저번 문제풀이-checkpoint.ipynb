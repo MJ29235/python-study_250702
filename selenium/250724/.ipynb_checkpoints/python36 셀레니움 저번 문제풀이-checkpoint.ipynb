{
 "cells": [
  {
   "cell_type": "code",
   "execution_count": null,
   "id": "8a5801cf-3c7e-41a6-9cc5-d657b68e03e1",
   "metadata": {},
   "outputs": [],
   "source": [
    "#여러 페이지 크롤링하는방법 미션!!\n",
    "#https://davelee-fun.github.io/page3/ 여러 분산된 페이지 크롤링\n",
    "#card-text 속성값 크롤링\n",
    "#밑에있는 페이지 선택창 이름 : 페이지 네이션 , next를 누르면 다음페이지로 넘어감\n"
   ]
  },
  {
   "cell_type": "code",
   "execution_count": null,
   "id": "be8cb1ab-a98f-4785-981c-ac3f1b1fa760",
   "metadata": {},
   "outputs": [],
   "source": [
    "\n",
    "from selenium import webdriver\n",
    "from selenium.webdriver.chrome.service import Service\n",
    "from selenium.webdriver.common.by import By \n",
    "from selenium.webdriver.common.keys import Keys\n",
    "from webdriver_manager.chrome import ChromeDriverManager \n",
    "from selenium.webdriver.chrome.options import Options\n",
    "import time \n",
    "import pyautogui \n",
    "\n",
    "service = Service(\"C:\\\\Users\\\\pmj96\\\\Downloads\\\\chromedriver\\\\chromedriver.exe\") \n",
    "options = Options()\n",
    "options.add_argument(\"--disable-gpu\")\n",
    "options.add_argument(\"--start-maximized\")\n",
    "options.add_argument(\"window-size=1920x1080\")\n",
    "options.add_argument(\"lang=ko_KR\")\n",
    "options.add_argument(\"--user-agent=Mozilla/5.0 (Windows NT 10.0; Win64; x64) AppleWebKit/537.36 (KHTML, like Gecko) Chrome/138.0.0.0 Safari/537.36\")\n",
    "\n",
    "driver = webdriver.Chrome(service = service, options = options) \n",
    "\n",
    "driver.get(\"https://davelee-fun.github.io/\") \n",
    "\n",
    "elements = driver.find_elements(By.CSS_SELECTOR,\"h4.card-text\")\n",
    "for element in elements:\n",
    "    print(element.text)\n",
    "\n",
    "time.sleep(2)\n",
    "\n",
    "driver.quit()"
   ]
  },
  {
   "cell_type": "code",
   "execution_count": 2,
   "id": "96e91a3f-4a27-4302-9813-1bea741c1f9d",
   "metadata": {},
   "outputs": [
    {
     "name": "stdout",
     "output_type": "stream",
     "text": [
      "상품명: 보몽드 순면스퀘어 솔리드 누빔매트커버, 다크블루\n",
      "상품명: 슈에뜨룸 선인장 리플 침구 세트, 베이지\n",
      "상품명: 선우랜드 레인보우 2단 문걸이용 옷걸이 _중형, 화이트, 상세페이지참조\n",
      "상품명: 보드래 헬로우 누빔 매트리스커버, 핑크\n",
      "상품명: 보드래 퍼펙트 누빔 매트리스커버, 차콜\n",
      "상품명: 피아블 클래식 방수 매트리스커버, 화이트\n",
      "상품명: 더자리 에코항균 마이크로 매트리스커버, 밀키차콜그레이\n",
      "상품명: 더자리 프레쉬 퓨어 매트리스 커버, 퓨어 차콜그레이\n",
      "상품명: 몽쉐어 알러스킨 항균 매트리스 커버, 카키그레이\n",
      "상품명: 쿠팡 브랜드 - 코멧 홈 40수 트윌 순면 100% 홑겹 매트리스커버, 그레이\n",
      "상품명: 패브릭아트 항균 마이크로 원단 매트리스 커버, 아이보리\n",
      "상품명: 바숨 순면 누빔 침대 매트리스커버, 차콜\n",
      "상품명: WEMAX 다용도 문옷걸이, 화이트, 1개\n",
      "상품명: 타카타카 프리미엄 나노 화이바 누빔 매트리스 커버, 젠틀핑핑\n",
      "상품명: 보몽드 순면스퀘어 누빔매트커버, 다크그레이\n",
      "상품명: 보드래 국내산 순면 60수 누빔 매트리스커버, 그레이\n",
      "Next »\n"
     ]
    }
   ],
   "source": [
    "#여러 페이지 크롤링하는방법 미션!! 풀이!!\n",
    "# 1, 먼저 스크롤을 내리는 것이 선행되어야함!!!\n",
    "from selenium import webdriver\n",
    "from selenium.webdriver.chrome.service import Service\n",
    "from selenium.webdriver.common.by import By \n",
    "from selenium.webdriver.common.keys import Keys\n",
    "from webdriver_manager.chrome import ChromeDriverManager \n",
    "from selenium.webdriver.chrome.options import Options\n",
    "import time \n",
    "import pyautogui \n",
    "\n",
    "service = Service(\"C:\\\\Users\\\\pmj96\\\\Downloads\\\\chromedriver\\\\chromedriver.exe\") \n",
    "options = Options()\n",
    "options.add_argument(\"--disable-gpu\")\n",
    "options.add_argument(\"--start-maximized\")\n",
    "options.add_argument(\"window-size=1920x1080\")\n",
    "options.add_argument(\"lang=ko_KR\")\n",
    "options.add_argument(\"--user-agent=Mozilla/5.0 (Windows NT 10.0; Win64; x64) AppleWebKit/537.36 (KHTML, like Gecko) Chrome/138.0.0.0 Safari/537.36\")\n",
    "\n",
    "driver = webdriver.Chrome(service = service, options = options) \n",
    "\n",
    "driver.get(\"https://davelee-fun.github.io/\") \n",
    "\n",
    "# 6, \n",
    "for _ in range(5)\n",
    "    elements = driver.find_elements(By.CSS_SELECTOR,\"h4.card-text\")\n",
    "    for element in elements:\n",
    "        print(element.text)\n",
    "\n",
    "# 2, 자바스크립트의 기능을 가져와서 사용하겠다!\n",
    "driver.execute_script(\"window,scrollTo(0,document.body.scrollHeight)\")\n",
    "# 3, 제일 위에서 제일 아래까지 스크롤하겠다!\n",
    "# 4, ml-1 mr-1 이 복수이기 떄문에!! 요소들\n",
    "elements = driver.find_elements(By.CSS_SELECTOR,\".ml-1.mr-1\")\n",
    "# 5, 클릭할 수 있게!\n",
    "elements[-1].click()\n",
    "\n",
    "\n",
    "\n",
    "\n",
    "time.sleep(2)\n",
    "\n",
    "driver.quit()"
   ]
  },
  {
   "cell_type": "code",
   "execution_count": null,
   "id": "a02f48f0-2db7-4984-9df5-7de44a743a37",
   "metadata": {},
   "outputs": [],
   "source": []
  }
 ],
 "metadata": {
  "kernelspec": {
   "display_name": "Python [conda env:base] *",
   "language": "python",
   "name": "conda-base-py"
  },
  "language_info": {
   "codemirror_mode": {
    "name": "ipython",
    "version": 3
   },
   "file_extension": ".py",
   "mimetype": "text/x-python",
   "name": "python",
   "nbconvert_exporter": "python",
   "pygments_lexer": "ipython3",
   "version": "3.13.5"
  }
 },
 "nbformat": 4,
 "nbformat_minor": 5
}
