{
 "cells": [
  {
   "cell_type": "code",
   "execution_count": 9,
   "id": "ac35a12b-b369-480f-a10e-b0bcc1f81cff",
   "metadata": {},
   "outputs": [
    {
     "name": "stdout",
     "output_type": "stream",
     "text": [
      "Collecting konlpyNote: you may need to restart the kernel to use updated packages.\n",
      "\n",
      "  Downloading konlpy-0.6.0-py2.py3-none-any.whl.metadata (1.9 kB)\n",
      "Collecting JPype1>=0.7.0 (from konlpy)\n",
      "  Downloading jpype1-1.6.0-cp313-cp313-win_amd64.whl.metadata (5.1 kB)\n",
      "Requirement already satisfied: lxml>=4.1.0 in c:\\users\\pmj96\\anaconda3\\lib\\site-packages (from konlpy) (5.3.0)\n",
      "Requirement already satisfied: numpy>=1.6 in c:\\users\\pmj96\\anaconda3\\lib\\site-packages (from konlpy) (2.1.3)\n",
      "Requirement already satisfied: packaging in c:\\users\\pmj96\\anaconda3\\lib\\site-packages (from JPype1>=0.7.0->konlpy) (24.2)\n",
      "Downloading konlpy-0.6.0-py2.py3-none-any.whl (19.4 MB)\n",
      "   ---------------------------------------- 0.0/19.4 MB ? eta -:--:--\n",
      "   ------- -------------------------------- 3.7/19.4 MB 21.6 MB/s eta 0:00:01\n",
      "   ---------------- ----------------------- 8.1/19.4 MB 19.9 MB/s eta 0:00:01\n",
      "   ---------------------------- ----------- 13.6/19.4 MB 22.2 MB/s eta 0:00:01\n",
      "   ---------------------------------------  19.4/19.4 MB 23.7 MB/s eta 0:00:01\n",
      "   ---------------------------------------- 19.4/19.4 MB 22.3 MB/s eta 0:00:00\n",
      "Downloading jpype1-1.6.0-cp313-cp313-win_amd64.whl (355 kB)\n",
      "Installing collected packages: JPype1, konlpy\n",
      "\n",
      "   ---------------------------------------- 0/2 [JPype1]\n",
      "   -------------------- ------------------- 1/2 [konlpy]\n",
      "   -------------------- ------------------- 1/2 [konlpy]\n",
      "   ---------------------------------------- 2/2 [konlpy]\n",
      "\n",
      "Successfully installed JPype1-1.6.0 konlpy-0.6.0\n"
     ]
    }
   ],
   "source": [
    "pip install konlpy"
   ]
  },
  {
   "cell_type": "code",
   "execution_count": 9,
   "id": "655604d9-fabe-4dc1-bf79-9b536b810729",
   "metadata": {},
   "outputs": [
    {
     "name": "stdout",
     "output_type": "stream",
     "text": [
      "엑셀저장완료 : Kurly_reviews.xlsx\n"
     ]
    }
   ],
   "source": [
    "from selenium import webdriver\n",
    "from selenium.webdriver.chrome.options import Options #브라우저의 내부적인 옵션들을 관리하는것 Options\n",
    "from bs4 import BeautifulSoup\n",
    "from openpyxl import Workbook # 실제 엑셀파일을 만드는 것 Workbook\n",
    "from konlpy.tag import Okt # konlpy.tag한글 자연어를 분석해주는 라이브러리 / Okt → 명사만 찾아옴\n",
    "from collections import Counter # 리스트나 문자열 안에 있는 빈도수 수집 라이브러리, Counter명사나 단어가 몇번 집계되었는지 라이브러리\n",
    "import time\n",
    "options = Options() # 프로토타입객체로 \n",
    "options.add_argument(\"--no-sandbox\") # 크롬 브라우저 보안정책을 강요하지마라! 안전망 제거\n",
    "options.add_argument(\"--disable-dev-shm-usage\") # 셀레니움 데이터를 가상의 공간에 넣었다가 다시 찾아오게 하는 옵션\n",
    "options.add_argument(\"--headless\") # 브라우저창이 나오지 않고 크롤링하도록하는 옵션 \"--headless\"\n",
    "\n",
    "driver = webdriver.Chrome(options=options) #크롬이라는 웹드라이버를 사용하는데, 옵션은 위에 설정해놓은 옵션값으로 설정!\n",
    "\n",
    "url = \"https://www.kurly.com/goods/5090270\"\n",
    "test = driver.get(url) #url로 찾아온 값을 test에 넣음\n",
    "time.sleep(5) #대기시간 주기\n",
    "\n",
    "#뷰티풀 숲으로 파싱하기\n",
    "soup = BeautifulSoup(driver.page_source, \"html.parser\")\n",
    "#print(soup)\n",
    "reviews = soup.select(\"p.css-y49dcn.e36z05c13\") #클래스 값으로 찾아오기!\n",
    "#print(reviews) #p 기준으로 쪼개져있음 \n",
    "reviews_lists = [review.get_text().strip() for review in reviews] #텍스트만 온전하게 가져오기, 여백제거, reiview\n",
    "#print(reviews_list)\n",
    "\n",
    "#찾아왔으니까 나와야함!\n",
    "driver.quit()\n",
    "\n",
    "#엑셀저장\n",
    "wb = Workbook()\n",
    "ws = wb.active\n",
    "ws.title = \"Kurly Reviews\"\n",
    "ws.append([\"리뷰내용\"]) #1행에 리뷰내용을 넣기\n",
    "\n",
    "for item in reviews_lists :\n",
    "    ws.append([item]) # 두번째 행도 리스트형태로 넣어야 한 줄씩 넣을 수 있음 []\n",
    "\n",
    "#프로토타입 객체는 실제로 쓸 수 없음. workbook= 변수로만들어서 인스턴트 객체로써 실행되게함. 같은원리로\n",
    "okt = Okt()\n",
    "#리스트 형태의 문자열을 하나의 연결된 문자열로 만드는 방법 join\n",
    "all_text = \" \".join(reviews_lists) #여백을 기준으로 reviews_lists의 모든 리스트를 하나의 문자열로 만든다\n",
    "#print(all_text)\n",
    "#각각의 명사를 추출, 신조어를 명사로 바꿔주는것 = 정규표현식으로 해결가능! 패턴을 만들어줘서 신조어도 명사로 인식가능!\n",
    "nouns = okt.nouns(all_text)\n",
    "filtered_nouns = [n for n in nouns if len(n) > 1] #문자가 2개 이상인 리뷰만 필터시키기\n",
    "#print(filtered_nouns)\n",
    "\n",
    "count = Counter(filtered_nouns) #단어가 몇번 나왔는지 카운트로 알려줌!\n",
    "\n",
    "#새로운 시트를 만들어서 새로운 키워드를 선별한 시트가 있었으면 좋겠음!\n",
    "ws_keywords = wb.create_sheet(\"Keyword Frequency\") #기존거 놔두고 새로운 시트를 하나 더만들떄\n",
    "ws_keywords.append([\"키워드\",\"빈도 수\"]) #첫쨰행 = \"키워드\",둘째 행 = \"빈도 수\"] \n",
    "for word, freq in count.most_common(30) : #most_common-> 찾아온 카운트의 찾아온 아이템의 개수를 순서대로 나열해주는것\n",
    "    ws_keywords.append([word, freq])\n",
    "    \n",
    "\n",
    "wb.save(\"Kurly_reviews.xlsx\")\n",
    "print(\"엑셀저장완료 : Kurly_reviews.xlsx\")"
   ]
  },
  {
   "cell_type": "code",
   "execution_count": null,
   "id": "acd40e37-d290-44c7-a6bd-ccee4ba8bcfe",
   "metadata": {},
   "outputs": [],
   "source": []
  },
  {
   "cell_type": "code",
   "execution_count": 24,
   "id": "e84d71a7-a062-4bd8-8936-1f3fd8c60240",
   "metadata": {},
   "outputs": [
    {
     "name": "stdout",
     "output_type": "stream",
     "text": [
      "완료 : 전체 키워드 분석 결과 저장됨\n"
     ]
    }
   ],
   "source": [
    "from openpyxl import load_workbook # 1, 엑셀 불러오기!\n",
    "from konlpy.tag import Okt # 4, 한국어를 자연어 처리해줄 수 있는 오픈 라이브러리 / 5, pip install konlpy 설치 우선!\n",
    "from collections import Counter #14, 각각의 단어의 개수를 확인해서 변수에 넣어보기\n",
    "\n",
    "wb = load_workbook(\"연관키워드 20250722 1448.xlsx\") # 2, 파일명을 정확하게 복사! wb객체안에 엑셀을 넣음\n",
    "ws = wb.active # 3, 워크북에서 불러온 엑셀을 활성화\n",
    "\n",
    "# 6, 우리는 2행 1열부터 데이터가 필요!, 각 행에 값이 있는지 없는지 판단! min_row-> 2행부터 시작한다. max_col_1-> 최대 1열을 넘어가지 않는다.\n",
    "texts = [row [0] for row in ws.iter_rows(min_row = 2,max_col=1, values_only= True) if row[0]]\n",
    "# 7, .iter_rows -> 해당 행에 값이 있는지 없는지 여부 판단. values_only= True -> ws안에서 값이 있는지 판단. 값이 있어야지만 유의미하다\n",
    "#list 형태로 받아오기 위해 for문!, [] 앞뒤에 넣어줌 , row 0번 쨰 값부터 넣을것이다.\n",
    "#print(texts)\n",
    "\n",
    "okt = Okt() # 8, okt는 인스턴트 객체가 됨. 자연어이기때문에 \n",
    "all_text = \" \".join(texts) # 9, texts의 값을 여백을 기준으로 한칸씩 떼어서 통문자로 만들자\n",
    "#print(all_text)\n",
    "\n",
    "# 10,명사찾기\n",
    "nouns = okt.nouns(all_text) # 11, nouns 명사를 분리시키는것!\n",
    "#print(nouns)\n",
    "\n",
    "#12, 명사의 단어가 1개 이상인 것 중 로 ,데, 안, 은, 같은 쓸데없는것 고르기 위해 명사가 2개이상인 것만 찾아오기\n",
    "filtered_nouns = [n for n in nouns if len(n)>1] # 13, 명사를 찾아오고 찾아온 문장중에 1 이상인 것만 찾아서 다시 리스트로 만들어라! \n",
    "#print(filtered_nouns)\n",
    "\n",
    "#15, \n",
    "count = Counter(filtered_nouns)\n",
    "#print(count)\n",
    "\n",
    "#16, 엑셀파일 저장\n",
    "ws_keywords = wb.create_sheet(\"키워드 전체분석\")# 17, 새로운 시트를 만들때 쓰는 함수\n",
    "ws_keywords.append([\"명사\",\"빈도수\"])\n",
    "# 18, 람다 식(함수)\n",
    "# 19, sorted 내림차순 정렬, \n",
    "# 20, 람다함수 = 익명함수 실행문을 즉각적으로 만들어주는 것. 각각의 키에 맞는 값을 넣어라. \n",
    "# 21, reverse = True -> 내림차순 정렬 시키는방법\n",
    "for word, freq in sorted(count.items(), key = lambda x:x[1], reverse = True) :\n",
    "    ws_keywords.append([word, freq]) # word 와 freq를 각각의 행에 추가하겠다\n",
    "\n",
    "# 22, 엑셀 저장\n",
    "wb.save(\"연관키워드_분석결과.xlsx\")\n",
    "print(\"완료 : 전체 키워드 분석 결과 저장됨\")\n"
   ]
  },
  {
   "cell_type": "code",
   "execution_count": 33,
   "id": "8cbd89ed-987d-4c1f-922d-4511d1f0a283",
   "metadata": {},
   "outputs": [
    {
     "name": "stdout",
     "output_type": "stream",
     "text": [
      "엑셀저장완료\n"
     ]
    }
   ],
   "source": [
    "#연습해보기 1\n",
    "\n",
    "from openpyxl import load_workbook\n",
    "from konlpy.tag import Okt\n",
    "\n",
    "wb = load_workbook(\"자외선.xlsx\")\n",
    "ws = wb.active\n",
    "\n",
    "texts = [row[0] for row in ws.iter_rows(min_row=2,max_col =1, values_only=True) if row[0]]\n",
    "\n",
    "okt = Okt()\n",
    "all_text = (\" \".join(texts))\n",
    "\n",
    "nouns = okt.nouns(all_text)\n",
    "#print(nouns)\n",
    "filtered_nouns= [n for n in nouns if len(n)>1]\n",
    "#print(filtered_nouns)\n",
    "count = Counter(filtered_nouns)\n",
    "\n",
    "ws_keywords = wb.create_sheet(\"자외선 분석\")\n",
    "ws_keywords.append([\"명사\",\"빈도수\"])\n",
    "for word, freq in sorted(count.items(),key=lambda x:x[1], reverse=True):\n",
    "    ws_keywords.append([word, freq])\n",
    "\n",
    "wb.save(\"자외선 분석결과.xlsx\")\n",
    "print(\"엑셀저장완료\")"
   ]
  },
  {
   "cell_type": "code",
   "execution_count": 35,
   "id": "54bf4b7b-f310-4411-9633-1917b373c211",
   "metadata": {},
   "outputs": [
    {
     "name": "stdout",
     "output_type": "stream",
     "text": [
      "엑셀저장완료\n"
     ]
    }
   ],
   "source": [
    "#연습해보기 2\n",
    "\n",
    "from openpyxl import load_workbook\n",
    "from konlpy.tag import Okt\n",
    "\n",
    "wb = load_workbook(\"심리.xlsx\")\n",
    "ws = wb.active\n",
    "\n",
    "texts = [row[0] for row in ws.iter_rows(min_row=2,max_col =1, values_only=True) if row[0]]\n",
    "\n",
    "okt = Okt()\n",
    "all_text = (\" \".join(texts))\n",
    "\n",
    "nouns = okt.nouns(all_text)\n",
    "filtered_nouns= [n for n in nouns if len(n)>1]\n",
    "count = Counter(filtered_nouns)\n",
    "ws_keywords = wb.create_sheet(\"심리\")\n",
    "ws_keywords.append([\"명사\",\"빈도수\"])\n",
    "for word, freq in sorted(count.items(),key=lambda x:x[1], reverse=True):\n",
    "    ws_keywords.append([word, freq])\n",
    "\n",
    "wb.save(\"심리 분석결과.xlsx\")\n",
    "print(\"엑셀저장완료\")"
   ]
  },
  {
   "cell_type": "code",
   "execution_count": 36,
   "id": "3fd8ab8c-4281-4a17-9758-1c400faab7c1",
   "metadata": {},
   "outputs": [
    {
     "name": "stdout",
     "output_type": "stream",
     "text": [
      "엑셀저장완료\n"
     ]
    }
   ],
   "source": [
    "#연습해보기 3\n",
    "\n",
    "from openpyxl import load_workbook\n",
    "from konlpy.tag import Okt\n",
    "\n",
    "wb = load_workbook(\"상담.xlsx\")\n",
    "ws = wb.active\n",
    "\n",
    "texts = [row[0] for row in ws.iter_rows(min_row=2,max_col =1, values_only=True) if row[0]]\n",
    "\n",
    "okt = Okt()\n",
    "all_text = (\" \".join(texts))\n",
    "\n",
    "nouns = okt.nouns(all_text)\n",
    "filtered_nouns= [n for n in nouns if len(n)>1]\n",
    "count = Counter(filtered_nouns)\n",
    "ws_keywords = wb.create_sheet(\"상담\")\n",
    "ws_keywords.append([\"명사\",\"빈도수\"])\n",
    "for word, freq in sorted(count.items(),key=lambda x:x[1], reverse=True):\n",
    "    ws_keywords.append([word, freq])\n",
    "\n",
    "wb.save(\"상담 분석결과.xlsx\")\n",
    "print(\"엑셀저장완료\")"
   ]
  },
  {
   "cell_type": "code",
   "execution_count": 41,
   "id": "cb99b1ec-0911-471f-a99f-2939168a59ca",
   "metadata": {},
   "outputs": [
    {
     "name": "stdout",
     "output_type": "stream",
     "text": [
      "엑셀저장완료\n"
     ]
    }
   ],
   "source": [
    "#한글 + 영어 + 숫자 나오게하는 방법 (정규표현식 쓰기!)\n",
    "from openpyxl import load_workbook\n",
    "from konlpy.tag import Okt\n",
    "from collections import Counter\n",
    "import re #2, 정규표현식\n",
    "\n",
    "wb = load_workbook(\"연관키워드 20250722 1448.xlsx\")\n",
    "ws = wb.active\n",
    "\n",
    "texts = [row[0] for row in ws.iter_rows(min_row=2,max_col =1, values_only=True) if row[0]]\n",
    "\n",
    "okt = Okt()\n",
    "all_text = (\" \".join(texts))\n",
    "\n",
    "\n",
    "#1,tokens 넣기 \n",
    "nouns_tokens = okt.nouns(all_text)\n",
    "#3, 정수\n",
    "regex_tokens = re.findall(r'[A-Za-z]*\\d+[A-Za-z]+|\\d+[A-Za-z]*',all_text) \n",
    "# 4, re.findall() -> ()안에 매칭되어지는 값을 찾아라!\n",
    "# 5, r'' -> 로우스트링 단순문자열이 아님을 알려주는것!\n",
    "# 6, * 앞에 영문자들이 있을 수도 있고 없으면 뒤에 것들이 수도 있다! \n",
    "# 7, \\d -> 10진수의 숫자가들어온다는 것을 알려주는 것!, +는 1개이상있다!\n",
    "\n",
    "# 8, filtered_nouns= [n for n in nouns if len(n)>1]의 예외의 조건들을 만들어야함.\n",
    "valid_one_letter = {\"금\",\"은\",\"동\"} #9, 삭제되면 안되는 단어들!\n",
    "# 10, 두개의 단어지만 굳이 안써도되는 단어들 -> 직접 여러번 돌리면서 찾아봐야함\n",
    "stopwords = {\"사용\",\"정도\", \"때문\",\"생각\",\"만족\",\"구매\",\"다음\",\"조금\",\"제품\"}\n",
    "# 11, 두개의 tokens 병합\n",
    "combined_tokens = nouns_tokens + regex_tokens\n",
    "# 12, 두글자 이상이거나valid_one_letterdp에 있는 것들 가져와!\n",
    "filtered_tokens = [t for t in combined_tokens if (len(t)>1 or t in valid_one_letter) and t not in stopwords]\n",
    "# 13, 불필요한 것들 빼기 not in stopwords and가 나중에 연산되니까 두글자라도 못들어옴! 더 상위에서 걸러짐.\n",
    "\n",
    "count = Counter(filtered_nouns)\n",
    "\n",
    "ws_keywords = wb.create_sheet(\"키워드 전체분석\")\n",
    "ws_keywords.append([\"명사\",\"빈도수\"])\n",
    "for word, freq in sorted(count.items(),key=lambda x:x[1], reverse=True):\n",
    "    ws_keywords.append([word, freq])\n",
    "\n",
    "wb.save(\"Kurly_reviews_include_Eng.xlsx\")\n",
    "print(\"엑셀저장완료\")"
   ]
  }
 ],
 "metadata": {
  "kernelspec": {
   "display_name": "Python [conda env:base] *",
   "language": "python",
   "name": "conda-base-py"
  },
  "language_info": {
   "codemirror_mode": {
    "name": "ipython",
    "version": 3
   },
   "file_extension": ".py",
   "mimetype": "text/x-python",
   "name": "python",
   "nbconvert_exporter": "python",
   "pygments_lexer": "ipython3",
   "version": "3.13.5"
  }
 },
 "nbformat": 4,
 "nbformat_minor": 5
}
