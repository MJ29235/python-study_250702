{
 "cells": [
  {
   "cell_type": "markdown",
   "id": "b4736fcb-817f-4495-a650-81f5619292d4",
   "metadata": {},
   "source": [
    "## 문자열 관련 함수 리스트\n",
    "- count : 문자열에 있는 특정 문자 갯수 세기\n",
    "- index : 문자열에 있는 특정 문자의 인덱스 위치를 알려주기. 왼쪽부터 카운트하다가 만나는 순간 종결!\n",
    "- find : 문자열에 있는 특정 문자의 인덱스를 찾아오긴 하나, 만약 존재하지 않는다면 에러를 발생시키지 않고 -1을 발생!!\n",
    "- join : 문자열 사이에 다른 문자를 끼워 넣기\n",
    "- strip : 문자열 앞뒤에 공백 지우기\n",
    "- upper : 소문자를 대문자로 변환\n",
    "- lower : 대문자를 소문자로 변환\n",
    "- split : 문자열 내 특정 문자를 기준으로 나누기"
   ]
  },
  {
   "cell_type": "code",
   "execution_count": 4,
   "id": "50e2a44d-7af2-47b3-88a7-b03c75c105e2",
   "metadata": {},
   "outputs": [
    {
     "data": {
      "text/plain": [
       "2"
      ]
     },
     "execution_count": 4,
     "metadata": {},
     "output_type": "execute_result"
    }
   ],
   "source": [
    "data = \"Dave David\"\n",
    "data.count(\"Dave\")  #문자열은 객체그룹. 문자는 객체그룹을 구성하는 각각의 요소\n",
    "data.count(\"D\")  #두번 존재한다\n"
   ]
  },
  {
   "cell_type": "code",
   "execution_count": 5,
   "id": "d6d48736-8b82-404a-926e-d1b315dcd920",
   "metadata": {},
   "outputs": [
    {
     "ename": "ValueError",
     "evalue": "substring not found",
     "output_type": "error",
     "traceback": [
      "\u001b[1;31m---------------------------------------------------------------------------\u001b[0m",
      "\u001b[1;31mValueError\u001b[0m                                Traceback (most recent call last)",
      "Cell \u001b[1;32mIn[5], line 4\u001b[0m\n\u001b[0;32m      2\u001b[0m string\u001b[38;5;241m.\u001b[39mindex(\u001b[38;5;124m\"\u001b[39m\u001b[38;5;124mD\u001b[39m\u001b[38;5;124m\"\u001b[39m) \u001b[38;5;66;03m#1 \u001b[39;00m\n\u001b[0;32m      3\u001b[0m string\u001b[38;5;241m.\u001b[39mindex(\u001b[38;5;124m\"\u001b[39m\u001b[38;5;124md\u001b[39m\u001b[38;5;124m\"\u001b[39m) \u001b[38;5;66;03m#11\u001b[39;00m\n\u001b[1;32m----> 4\u001b[0m string\u001b[38;5;241m.\u001b[39mindex(\u001b[38;5;124m\"\u001b[39m\u001b[38;5;124mx\u001b[39m\u001b[38;5;124m\"\u001b[39m)\n",
      "\u001b[1;31mValueError\u001b[0m: substring not found"
     ]
    }
   ],
   "source": [
    "string = \"Dave ID is dave\"\n",
    "string.index(\"D\") #1 \n",
    "string.index(\"d\") #11\n",
    "string.index(\"x\") #찾는 문자가 존재하지 않으면 에러! 못찾아오더라고 에러를 발생시키지않는것? -> find!\n",
    "\n"
   ]
  },
  {
   "cell_type": "code",
   "execution_count": 8,
   "id": "8a88d112-d788-47a8-a78f-e3a90c46a08e",
   "metadata": {},
   "outputs": [
    {
     "name": "stdout",
     "output_type": "stream",
     "text": [
      "x는 string01 문자열 객체 안에 없습니다.\n"
     ]
    }
   ],
   "source": [
    "string01 = \"Dave ID is dave\"\n",
    "string01.find(\"x\") #-1 과 error는 큰차이!\n",
    "string01.find(\"D\") #외에는 index와 동일!\n",
    "#활용법\n",
    "if string01.find(\"x\") ==-1:\n",
    "    print(\"x는 string01 문자열 객체 안에 없습니다.\")"
   ]
  },
  {
   "cell_type": "code",
   "execution_count": 9,
   "id": "12d60a92-829e-4487-8a63-4ddebb8f4e14",
   "metadata": {},
   "outputs": [
    {
     "data": {
      "text/plain": [
       "'1,2,3,4,5'"
      ]
     },
     "execution_count": 9,
     "metadata": {},
     "output_type": "execute_result"
    }
   ],
   "source": [
    "string02 = \"12345\"\n",
    "comma = \",\"\n",
    "\n",
    "comma.join(string02) #사이 하나하나에 다 넣음!"
   ]
  },
  {
   "cell_type": "code",
   "execution_count": 13,
   "id": "07dc367a-abcf-4bc2-9fff-ed46fee414b0",
   "metadata": {},
   "outputs": [
    {
     "data": {
      "text/plain": [
       "'    Dave03'"
      ]
     },
     "execution_count": 13,
     "metadata": {},
     "output_type": "execute_result"
    }
   ],
   "source": [
    "data01 = \" Dave \"\n",
    "data01.strip() #앞 뒤 공백이 몇개라도 상관없음!\n",
    "\n",
    "#한쪽만 삭제하고 싶을떄\n",
    "data03 = \"    Dave03 \"\n",
    "data03.lstrip()\n",
    "data03.rstrip()"
   ]
  },
  {
   "cell_type": "code",
   "execution_count": 18,
   "id": "602179f5-707c-4277-b202-a18b1977bb72",
   "metadata": {},
   "outputs": [
    {
     "data": {
      "text/plain": [
       "'Dave'"
      ]
     },
     "execution_count": 18,
     "metadata": {},
     "output_type": "execute_result"
    }
   ],
   "source": [
    "string03 = \"     9999999999999(Dave)8888888   \"\n",
    "string03.strip()\n",
    "string03.strip(\" 9\") #->'(Dave)8888888'여백부터 9까지를 하나의 요소로 인식하고 있음!\n",
    "string03.strip(\" 98()\") # ->'Dave'연결성을 가지고 있는 요소를 전부 없애버림!"
   ]
  },
  {
   "cell_type": "code",
   "execution_count": 20,
   "id": "6a3b0464-a805-4098-aeb7-12fa4235dee2",
   "metadata": {},
   "outputs": [
    {
     "data": {
      "text/plain": [
       "'dave id is dave'"
      ]
     },
     "execution_count": 20,
     "metadata": {},
     "output_type": "execute_result"
    }
   ],
   "source": [
    "string04 = \"Dave ID is dave\"\n",
    "string04.upper() #->'DAVE ID IS DAVE'\n",
    "string04.lower() #->'dave id is dave'"
   ]
  },
  {
   "cell_type": "code",
   "execution_count": 25,
   "id": "86292381-02db-4ebb-851f-25bfd5e629e2",
   "metadata": {},
   "outputs": [
    {
     "data": {
      "text/plain": [
       "['Dave', 'goes', 'Korea']"
      ]
     },
     "execution_count": 25,
     "metadata": {},
     "output_type": "execute_result"
    }
   ],
   "source": [
    "string06 =\"Dave goes to Korea\"\n",
    "string06.split() #->['Dave', 'goes', 'to', 'Korea'] 화이트 스페이스를 기준으로 쪼개서 리스트로 만듦\n",
    "string06.split()[3] #->Korea 3번째 요소를 가져옴\n",
    "string06.split(\" \") #-> 기본이랑 같이봄\n",
    "\n",
    "string07 = \"Dave/goes/Korea\"\n",
    "string07.split(\"/\") # -> ['Dave', 'goes', 'Korea'] /를 기준으로 값을 쪼개주세요!\n",
    "\n"
   ]
  }
 ],
 "metadata": {
  "kernelspec": {
   "display_name": "Python [conda env:base] *",
   "language": "python",
   "name": "conda-base-py"
  },
  "language_info": {
   "codemirror_mode": {
    "name": "ipython",
    "version": 3
   },
   "file_extension": ".py",
   "mimetype": "text/x-python",
   "name": "python",
   "nbconvert_exporter": "python",
   "pygments_lexer": "ipython3",
   "version": "3.13.5"
  }
 },
 "nbformat": 4,
 "nbformat_minor": 5
}
