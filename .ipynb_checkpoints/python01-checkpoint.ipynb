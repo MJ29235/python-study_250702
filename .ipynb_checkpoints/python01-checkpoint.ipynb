{
 "cells": [
  {
   "cell_type": "markdown",
   "id": "0d609191-729c-4f6d-b741-19c53d9cdc0b",
   "metadata": {},
   "source": [
    "# 파이썬 기초문법\n",
    "\n",
    "### 1.변수\n",
    "\n",
    "### 2.내장함수 (*Bulit-in Function)\n",
    "- print()\n",
    "- input()\n",
    "- type()\n",
    "\n",
    "### 3.연산자 \n",
    "- 사칙연산 \n",
    "- 비교연산\n",
    "\n",
    "### 4.자료타입\n",
    "- string\n",
    "- int\n",
    "- float\n",
    "- boolean\n",
    "\n",
    "### 5.형변환\n",
    "- int()\n",
    "- float()\n",
    "- str()\n",
    "\n",
    "### 6. F-string\n",
    "- F\"문자열 {변수}\"\n",
    "\n",
    "### 7.문자열\n",
    "- \"\"\" \"\"\"\n",
    "- len()\n",
    "- find()\n",
    "- replace(””,””)\n",
    "- strip()\n",
    "- format() -> 유의사항!\n",
    "- [index]\n",
    "- [index : index]\n"
   ]
  },
  {
   "cell_type": "code",
   "execution_count": null,
   "id": "9bad37db-0e38-4416-89af-478bde207065",
   "metadata": {},
   "outputs": [],
   "source": [
    "num = 1 # num=> 변수 (*어떤 값을 담을 수 있는 그릇)\n",
    "print(num) "
   ]
  },
  {
   "cell_type": "code",
   "execution_count": 4,
   "id": "1fb1706c-d97f-4731-9119-ed852cf4761d",
   "metadata": {},
   "outputs": [
    {
     "name": "stdout",
     "output_type": "stream",
     "text": [
      "1\n"
     ]
    }
   ],
   "source": [
    "print(1)"
   ]
  },
  {
   "cell_type": "code",
   "execution_count": 7,
   "id": "e29c8554-8fbd-4cea-9966-5fd193e43e45",
   "metadata": {},
   "outputs": [
    {
     "name": "stdout",
     "output_type": "stream",
     "text": [
      "Hello World\n"
     ]
    }
   ],
   "source": [
    "print(\"Hello World\")"
   ]
  },
  {
   "cell_type": "code",
   "execution_count": 5,
   "id": "dc977ba5-e156-4830-a8ad-a1dd923b7b4a",
   "metadata": {},
   "outputs": [
    {
     "data": {
      "text/plain": [
       "int"
      ]
     },
     "execution_count": 5,
     "metadata": {},
     "output_type": "execute_result"
    }
   ],
   "source": [
    "type(1)"
   ]
  },
  {
   "cell_type": "code",
   "execution_count": 10,
   "id": "5d388ab4-a6aa-482d-b5b2-1289ae7c6cf2",
   "metadata": {},
   "outputs": [
    {
     "name": "stdout",
     "output_type": "stream",
     "text": [
      "<class 'int'>\n",
      "<class 'str'>\n"
     ]
    }
   ],
   "source": [
    "print(type(1))\n",
    "print(type(\"1\"))"
   ]
  },
  {
   "cell_type": "code",
   "execution_count": 15,
   "id": "a8881a21-87b1-404d-b599-c8e1c138b8cf",
   "metadata": {},
   "outputs": [
    {
     "name": "stdout",
     "output_type": "stream",
     "text": [
      "10\n",
      "4\n",
      "2.3333333333333335\n",
      "50\n",
      "21\n"
     ]
    }
   ],
   "source": [
    "# 연산가능\n",
    "num01 = 3\n",
    "num02 = 7\n",
    "\n",
    "print(num01+num02)\n",
    "print(num02-num01)\n",
    "print(num02/num01)\n",
    "print((7+3)*5)\n",
    "print(num01*num02)"
   ]
  },
  {
   "cell_type": "code",
   "execution_count": 20,
   "id": "de246035-2860-4438-b615-01f3f5763f7a",
   "metadata": {},
   "outputs": [
    {
     "name": "stdout",
     "output_type": "stream",
     "text": [
      "2.142857142857143\n",
      "2\n",
      "1\n",
      "8\n"
     ]
    }
   ],
   "source": [
    "print(15/7) #나누기 연산자\n",
    "print(15//7) # 나누기 후 몫의 값을 정수로 찾아오는 연산자\n",
    "print(15%7) #나머지 연산자\n",
    "print(2 ** 3)"
   ]
  },
  {
   "cell_type": "code",
   "execution_count": 23,
   "id": "73636ff1-3839-4210-ae7a-c4b7796f6123",
   "metadata": {},
   "outputs": [
    {
     "name": "stdout",
     "output_type": "stream",
     "text": [
      "<class 'str'> <class 'int'> <class 'float'> <class 'bool'>\n"
     ]
    }
   ],
   "source": [
    "str_data = \"Hello\"#문자열\n",
    "int_data = 1 #정수\n",
    "float_data = 1.1 #부동소수\n",
    "bool_data = True #논리형\n",
    "\n",
    "print(type(str_data),type(int_data),type(float_data),type(bool_data))"
   ]
  },
  {
   "cell_type": "code",
   "execution_count": 25,
   "id": "af75265c-9b02-4b26-9e2b-7e2485763f50",
   "metadata": {},
   "outputs": [
    {
     "ename": "NameError",
     "evalue": "name 'Print' is not defined",
     "output_type": "error",
     "traceback": [
      "\u001b[1;31m---------------------------------------------------------------------------\u001b[0m",
      "\u001b[1;31mNameError\u001b[0m                                 Traceback (most recent call last)",
      "Cell \u001b[1;32mIn[25], line 5\u001b[0m\n\u001b[0;32m      2\u001b[0m digit2 \u001b[38;5;241m=\u001b[39m \u001b[38;5;241m20\u001b[39m\n\u001b[0;32m      3\u001b[0m name \u001b[38;5;241m=\u001b[39m \u001b[38;5;124m\"\u001b[39m\u001b[38;5;124mDavid\u001b[39m\u001b[38;5;124m\"\u001b[39m\n\u001b[1;32m----> 5\u001b[0m Print(digit1 \u001b[38;5;241m+\u001b[39m name)\n",
      "\u001b[1;31mNameError\u001b[0m: name 'Print' is not defined"
     ]
    }
   ],
   "source": [
    "digit1 = 10\n",
    "digit2 = 20\n",
    "name = \"David\"\n",
    "\n",
    "Print(digit1 + name) #동일한 자료형태의 경우에 연산처리 가능!"
   ]
  },
  {
   "cell_type": "code",
   "execution_count": 32,
   "id": "64e5f762-e574-41de-ac56-e93e1f3db901",
   "metadata": {
    "scrolled": true
   },
   "outputs": [
    {
     "name": "stdout",
     "output_type": "stream",
     "text": [
      "True\n",
      "False\n",
      "False\n",
      "True\n",
      "False\n",
      "True\n"
     ]
    }
   ],
   "source": [
    "num1 = 2\n",
    "num2 = 4\n",
    "\n",
    "print(num1 < num2)\n",
    "print(num1 > num2)\n",
    "print(num1 >=num2)\n",
    "print(num1 <=num2)\n",
    "print(num1 ==num2)\n",
    "print(num1 !=num2)"
   ]
  },
  {
   "cell_type": "code",
   "execution_count": null,
   "id": "009e24ee-bd81-4ffc-9b8a-9096d29c3867",
   "metadata": {},
   "outputs": [],
   "source": [
    "age = 29\n",
    "name = \"MJ\"\n",
    "height = 188\n",
    "weight = 95\n",
    "footSize = 300\n",
    "glass = false\n",
    "merriage = false\n",
    "gender = \"male\"\n",
    "hobby = \"Gym\""
   ]
  },
  {
   "cell_type": "code",
   "execution_count": null,
   "id": "840c059b-3d34-4ff2-8923-620df3862576",
   "metadata": {},
   "outputs": [],
   "source": [
    "### 반지름이 10인 변수를 선언하시고, 해당 반지름을 기준으로 하는 원의 지름, 둘레, 넓이 값을 변수로 선언 및 할당 => 출력"
   ]
  },
  {
   "cell_type": "code",
   "execution_count": 48,
   "id": "be5c331e-3485-408e-9203-86b9f34b7c6d",
   "metadata": {},
   "outputs": [
    {
     "name": "stdout",
     "output_type": "stream",
     "text": [
      "1. 반지름 : 10 2. 지름 : 20 3. 원의 둘레 : 62.830000000000005 4. 원의 넓이 : 314.15000000000003\n",
      "1. 반지름 :10\n"
     ]
    }
   ],
   "source": [
    "radius = 10\n",
    "pi = 3.14b15\n",
    "radius2 = radius *2\n",
    "radius3 = 2*pi*radius\n",
    "radius4= pi * radius * radius\n",
    "\n",
    "print(\"1. 반지름 :\",radius, \"2. 지름 :\",radius2, \"3. 원의 둘레 :\",radius3,\"4. 원의 넓이 :\",radius4)\n",
    "print(f\"1. 반지름 :{radius}\")"
   ]
  },
  {
   "cell_type": "code",
   "execution_count": 60,
   "id": "68df89e7-a763-4544-bbd9-bb78e8477dbb",
   "metadata": {},
   "outputs": [
    {
     "name": "stdin",
     "output_type": "stream",
     "text": [
      "what is your name d\n",
      "where are you from? d\n",
      "man or women? d\n",
      "How old are you? d\n"
     ]
    },
    {
     "name": "stdout",
     "output_type": "stream",
     "text": [
      "<class 'str'>\n",
      "Hi d from d and my gender is d\n"
     ]
    }
   ],
   "source": [
    "#내장함수\n",
    "name = input(\"what is your name\")\n",
    "address = input(\"where are you from?\")\n",
    "gender = input(\"man or women?\")\n",
    "age = input(\"How old are you?\")\n",
    "print(type(age))\n",
    "print(f\"Hi {name} from {address} and my gender is {gender}\")\n",
    "\n"
   ]
  },
  {
   "cell_type": "code",
   "execution_count": 61,
   "id": "0fc4ca17-ef90-49fc-aaaa-f2ffc363ce8a",
   "metadata": {},
   "outputs": [
    {
     "name": "stdin",
     "output_type": "stream",
     "text": [
      " 10\n",
      " 10\n"
     ]
    },
    {
     "name": "stdout",
     "output_type": "stream",
     "text": [
      "100\n"
     ]
    }
   ],
   "source": [
    "num1 = int(input())\n",
    "num2 = int(input())\n",
    "\n",
    "\n",
    "print(num1 *num2)"
   ]
  },
  {
   "cell_type": "code",
   "execution_count": 64,
   "id": "370ab601-bbff-4b3a-a1b6-4da07d1f1216",
   "metadata": {},
   "outputs": [
    {
     "name": "stdin",
     "output_type": "stream",
     "text": [
      " 10\n",
      " 5\n"
     ]
    },
    {
     "data": {
      "text/plain": [
       "50"
      ]
     },
     "execution_count": 64,
     "metadata": {},
     "output_type": "execute_result"
    }
   ],
   "source": [
    "num1 = int(input())\n",
    "num2 = int(input())\n",
    "\n",
    "\n",
    "num1 * num2"
   ]
  },
  {
   "cell_type": "code",
   "execution_count": 69,
   "id": "ff710fc0-76fd-4bc2-b8b4-66ffc2004417",
   "metadata": {},
   "outputs": [
    {
     "name": "stdin",
     "output_type": "stream",
     "text": [
      " MJ\n",
      " 20\n"
     ]
    },
    {
     "name": "stdout",
     "output_type": "stream",
     "text": [
      "My name is MJ and my age is 20.\n"
     ]
    }
   ],
   "source": [
    "newName = input()\n",
    "age = input()\n",
    "\n",
    "print(f\"My name is {newName} and my age is {age}.\")\n"
   ]
  },
  {
   "cell_type": "code",
   "execution_count": 80,
   "id": "c74094ac-689c-49fe-bf17-03ace5c0a997",
   "metadata": {
    "collapsed": true,
    "jupyter": {
     "outputs_hidden": true
    }
   },
   "outputs": [
    {
     "name": "stdout",
     "output_type": "stream",
     "text": [
      "6.3\n",
      "6\n",
      "1 <class 'int'>\n",
      "1.0\n",
      "1 <class 'int'>\n",
      "<class 'str'>\n"
     ]
    }
   ],
   "source": [
    "num3 = 6.3\n",
    "num4 = 1\n",
    "\n",
    "print(num3)\n",
    "print(int(num3))\n",
    "\n",
    "print(num4, type(num4))\n",
    "print(float(num4))\n",
    "print(str(num4), type(num4))\n",
    "\n",
    "num5 = str(num4)\n",
    "print (type(num5))\n"
   ]
  },
  {
   "cell_type": "code",
   "execution_count": 104,
   "id": "d2bbd72b-830a-447f-9e2b-270416dd1e29",
   "metadata": {},
   "outputs": [
    {
     "name": "stdout",
     "output_type": "stream",
     "text": [
      "1.4 <class 'str'> 2 <class 'float'>\n"
     ]
    },
    {
     "ename": "ValueError",
     "evalue": "invalid literal for int() with base 10: '1.4'",
     "output_type": "error",
     "traceback": [
      "\u001b[1;31m---------------------------------------------------------------------------\u001b[0m",
      "\u001b[1;31mValueError\u001b[0m                                Traceback (most recent call last)",
      "Cell \u001b[1;32mIn[104], line 9\u001b[0m\n\u001b[0;32m      6\u001b[0m a\u001b[38;5;241m=\u001b[39m\u001b[38;5;28mstr\u001b[39m(a)\n\u001b[0;32m      8\u001b[0m \u001b[38;5;28mprint\u001b[39m(a,\u001b[38;5;28mtype\u001b[39m(a), \u001b[38;5;28mint\u001b[39m(b), \u001b[38;5;28mtype\u001b[39m(b))\n\u001b[1;32m----> 9\u001b[0m a\u001b[38;5;241m=\u001b[39m\u001b[38;5;28mint\u001b[39m(a)\n\u001b[0;32m     10\u001b[0m \u001b[38;5;28mprint\u001b[39m(\u001b[38;5;28mfloat\u001b[39m(a))\n",
      "\u001b[1;31mValueError\u001b[0m: invalid literal for int() with base 10: '1.4'"
     ]
    }
   ],
   "source": [
    "a=1.4\n",
    "b=2\n",
    "\n",
    "b=float(b)\n",
    "\n",
    "a=str(a)\n",
    "\n",
    "print(a,type(a), int(b), type(b))\n",
    "\n",
    "print(float(a))"
   ]
  },
  {
   "cell_type": "code",
   "execution_count": 112,
   "id": "7e8cc3ed-1648-4144-bd01-e98b6b736705",
   "metadata": {},
   "outputs": [
    {
     "name": "stdout",
     "output_type": "stream",
     "text": [
      "<class 'float'>\n",
      "<class 'int'>\n",
      "<class 'float'>\n",
      "<class 'int'>\n"
     ]
    }
   ],
   "source": [
    "num3 = 6.3\n",
    "num4 = 1\n",
    "\n",
    "print(type(num3))\n",
    "print(type(num4))\n",
    "\n",
    "int(num3)\n",
    "\n",
    "print(type(num3))\n",
    "\n",
    "num3 = int(num3)\n",
    "print(type(num3))\n"
   ]
  },
  {
   "cell_type": "code",
   "execution_count": 143,
   "id": "42265b2f-2ae1-44ed-a71a-68ea1432e90a",
   "metadata": {},
   "outputs": [
    {
     "name": "stdout",
     "output_type": "stream",
     "text": [
      "성인이 된 기훈은 이혼한 뒤 대리운전 기사 등을 전전하다 백발의 노모에게 얹혀살고 있었고, 하나뿐인 어린 딸 가영의 생일 선물을 살 돈도 어머니에게서 받아내는 비루한 인생을 살고 있었다.\n",
      "이혼 후 가영은 재혼한 전처가 키우고 있었지만, \n",
      "기훈은 가영의 생일도 챙겨주지 않고 어머니의 돈을 몰래 빼내서 경마 도박에 올인하는데 딸의 생일(6월 8일) 날짜를 이용해 베팅하며 우여곡절 끝에 456만 원이라는 거금을 얻게 된다.\n",
      "\n",
      "[4] 밖으로 나와 가영이와 전화 통화를 하며 즐거워하던 것도 잠시, \n",
      "자신을 찾아온 사채업자 김정래 대표 때문에 황급히 도망치다 누군가와 부딪히고 주머니에 있는 455만 원을 전부 소매치기당하고 만다. \n",
      "기훈은 이를 눈치챌 틈도 없이 도망치다 결국 사채업자들에게 붙잡혀 화장실에서 신체포기각서를 쓰게 된다.[5] 어떻게든 만 원이라도 만들어서\n",
      "[6] 인형뽑기로 권총 라이터를 선물했다가\n",
      "[7] 황급히 가져간 뒤에 떡볶이를 사주지만, \n",
      "아버지 노릇도 제대로 못해준 나머지 그저 자괴감만 든다.\n",
      "결국 \"내년 생일에는 더 잘 챙겨줄게.\"라며 애써 가영을 위로하지만 가영이는 아무런 대답을 못하고 머뭇거린다.\n"
     ]
    }
   ],
   "source": [
    "article1 = \"주인공 성기훈의 내레이션과 함께, 어릴 적 기훈이 동네 친구들과의 오징어 게임에서 이기는 장면을 보여준 후 타이틀이 등장하면서 시작한다.\"\n",
    "article2 = \"\"\"성인이 된 기훈은 이혼한 뒤 대리운전 기사 등을 전전하다 백발의 노모에게 얹혀살고 있었고, 하나뿐인 어린 딸 가영의 생일 선물을 살 돈도 어머니에게서 받아내는 비루한 인생을 살고 있었다.\n",
    "이혼 후 가영은 재혼한 전처가 키우고 있었지만, \n",
    "기훈은 가영의 생일도 챙겨주지 않고 어머니의 돈을 몰래 빼내서 경마 도박에 올인하는데 딸의 생일(6월 8일) 날짜를 이용해 베팅하며 우여곡절 끝에 456만 원이라는 거금을 얻게 된다.\n",
    "\\n[4] 밖으로 나와 가영이와 전화 통화를 하며 즐거워하던 것도 잠시, \n",
    "자신을 찾아온 사채업자 김정래 대표 때문에 황급히 도망치다 누군가와 부딪히고 주머니에 있는 455만 원을 전부 소매치기당하고 만다. \n",
    "기훈은 이를 눈치챌 틈도 없이 도망치다 결국 사채업자들에게 붙잡혀 화장실에서 신체포기각서를 쓰게 된다.[5] 어떻게든 만 원이라도 만들어서\n",
    "[6] 인형뽑기로 권총 라이터를 선물했다가\n",
    "[7] 황급히 가져간 뒤에 떡볶이를 사주지만, \n",
    "아버지 노릇도 제대로 못해준 나머지 그저 자괴감만 든다.\n",
    "결국 \"내년 생일에는 더 잘 챙겨줄게.\"라며 애써 가영을 위로하지만 가영이는 아무런 대답을 못하고 머뭇거린다.\"\"\"\n",
    "\n",
    "\n",
    "print(article2)"
   ]
  },
  {
   "cell_type": "code",
   "execution_count": 145,
   "id": "b4aeff83-06a1-4661-ac9d-c27191f12b55",
   "metadata": {},
   "outputs": [
    {
     "name": "stdout",
     "output_type": "stream",
     "text": [
      "3\n",
      "574\n",
      "1\n",
      "21\n"
     ]
    }
   ],
   "source": [
    "print(article2.count(\"기훈\"))\n",
    "print(len(article2))\n",
    "print(article2.find(\"인\"))\n",
    "print(article2.find(\"기사\")\n",
    "\n",
    "      #동의보감 -> 동 : 0 의 :1 보 :2 감 :3 => 문자열의 전체 총개수 -1 =마지막번쨰 문자열의 인덱스 값과 항상 동일"
   ]
  },
  {
   "cell_type": "code",
   "execution_count": 146,
   "id": "272b0983-441a-43de-b84b-af7b13fb90d4",
   "metadata": {},
   "outputs": [],
   "source": [
    "article3 = \"\"\"Actor Brad Pitt's home in Los Angeles has been ransacked by a trio of thieves.\n",
    "\n",
    "Three suspects broke into the home in Los Feliz late on Wednesday through a front window and \"ransacked the location,\" according to the Los Angeles Police Department.\n",
    "\n",
    "Police did not confirm the home belonged to the Oscar-winning actor, but the address matched that of a home Mr Pitt purchased in 2023.\"\"\""
   ]
  },
  {
   "cell_type": "code",
   "execution_count": 153,
   "id": "30d66340-173a-4bc0-a3bf-b59ccf18d5e7",
   "metadata": {},
   "outputs": [
    {
     "name": "stdout",
     "output_type": "stream",
     "text": [
      "Actor Brad Pitt's home in Los Angeles has been ransacked by a trio of thieves.\n",
      "\n",
      "Three suspects broke into the home in Los Feliz late on Wednesday through a front window and \"ransacked the location,\" according to the Los Angeles Police Department.\n",
      "\n",
      "Police did not confirm the home belonged to the Oscar-winning actor, but the address matched that of a home Mr Pitt purchased in 2023.\n",
      "0\n",
      "8\n",
      "Actor MJ home in Los Angeles has been ransacked by a trio of thieves.\n",
      "\n",
      "Three suspects broke into the home in Los Feliz late on Wednesday through a front window and \"ransacked the location,\" according to the Los Angeles Police Department.\n",
      "\n",
      "Police did not confirm the home belonged to the Oscar-winning actor, but the address matched that of a home Mr Pitt purchased in 2023.\n"
     ]
    }
   ],
   "source": [
    "print(article3)\n",
    "print(article3.find(\"A\"))\n",
    "print(article3.find(\"a\"))\n",
    "print(article3.replace(\"Brad Pitt's\",\"MJ\"))\n"
   ]
  },
  {
   "cell_type": "code",
   "execution_count": 169,
   "id": "f7519600-3f66-4218-9705-fa16628d2ab1",
   "metadata": {},
   "outputs": [
    {
     "name": "stdout",
     "output_type": "stream",
     "text": [
      "python\n",
      "p\n",
      "y\n",
      "t\n",
      "h\n",
      "o\n",
      "6\n",
      "n\n",
      "py\n",
      "th\n",
      "ytho\n",
      "ython\n",
      "o\n",
      "o\n"
     ]
    }
   ],
   "source": [
    "# 파이썬의 문자열 기능중에 슬라이스 기능이 있음!\n",
    "\n",
    "text01 =\"python\"\n",
    "print(text01)\n",
    "print(text01[0])\n",
    "print(text01[1])\n",
    "print(text01[2])\n",
    "print(text01[3])\n",
    "print(text01[4])\n",
    "print(len(text01))\n",
    "\n",
    "print(text01[len(text01)-1])\n",
    "print(text01[0:2])\n",
    "print(text01[2:4])\n",
    "print(text01[1:5])\n",
    "print(text01[1:6])\n",
    "print(text01[-2])\n",
    "print(text01[4])\n"
   ]
  },
  {
   "cell_type": "code",
   "execution_count": 178,
   "id": "a09b739f-8f4d-453f-a069-ce5fe6cbd09f",
   "metadata": {},
   "outputs": [
    {
     "name": "stdout",
     "output_type": "stream",
     "text": [
      "14\n",
      "computer\n",
      "8\n",
      "David\n",
      ",,,David,,,\n"
     ]
    }
   ],
   "source": [
    "some_string=\"   computer   \"\n",
    "print(len(some_string))\n",
    "\n",
    "print(some_string.strip())\n",
    "some_string2 = some_string.strip()\n",
    "print(len(some_string2))\n",
    "some_string3 = \",,,David,,,\"\n",
    "print(some_string3.strip(\",\"))\n",
    "print(some_string3.strip(\"v\"))"
   ]
  },
  {
   "cell_type": "code",
   "execution_count": 185,
   "id": "87af3adb-1637-4e23-9867-7a864b2cf409",
   "metadata": {},
   "outputs": [
    {
     "name": "stdout",
     "output_type": "stream",
     "text": [
      "I have a pen I have a apple\n",
      "I have a pen. I have a apple.\n",
      "I have a apple. I have a pen.\n",
      "I have a pen. I have a pen.\n",
      "I have a apple. I have a apple.\n"
     ]
    }
   ],
   "source": [
    "var01 = \"pen\"\n",
    "var02 = \"apple\"\n",
    "\n",
    "print(f\"I have a {var01} I have a {var02}\")\n",
    "\n",
    "print(\"I have a {}. I have a {}.\".format(\"pen\",\"apple\"))\n",
    "print(\"I have a {1}. I have a {0}.\".format(\"pen\",\"apple\"))\n",
    "print(\"I have a {0}. I have a {0}.\".format(\"pen\",\"apple\"))\n",
    "print(\"I have a {1}. I have a {1}.\".format(\"pen\",\"apple\"))"
   ]
  },
  {
   "cell_type": "code",
   "execution_count": 187,
   "id": "7d33eb6a-4b9f-4575-b377-26a5717cb101",
   "metadata": {},
   "outputs": [
    {
     "name": "stdout",
     "output_type": "stream",
     "text": [
      "0.90\n"
     ]
    }
   ],
   "source": [
    "interest = 0.897\n",
    "print(format(interest, \"0.2f\"))"
   ]
  },
  {
   "cell_type": "code",
   "execution_count": 194,
   "id": "581f371f-0bc5-44cd-b447-25cff6ced2e5",
   "metadata": {},
   "outputs": [
    {
     "name": "stdout",
     "output_type": "stream",
     "text": [
      "I have a 5.400000. I have a apple.\n"
     ]
    }
   ],
   "source": [
    "print(\"I have a %f. I have a %s.\" % (5.4,\"apple\"))\n",
    "\n",
    "#%s → 문자열을 넣어주는 함수\n",
    "%d → 정수를 넣어주는 함수\n",
    "%f → 부동소수값 입력"
   ]
  }
 ],
 "metadata": {
  "kernelspec": {
   "display_name": "Python [conda env:base] *",
   "language": "python",
   "name": "conda-base-py"
  },
  "language_info": {
   "codemirror_mode": {
    "name": "ipython",
    "version": 3
   },
   "file_extension": ".py",
   "mimetype": "text/x-python",
   "name": "python",
   "nbconvert_exporter": "python",
   "pygments_lexer": "ipython3",
   "version": "3.13.5"
  }
 },
 "nbformat": 4,
 "nbformat_minor": 5
}
