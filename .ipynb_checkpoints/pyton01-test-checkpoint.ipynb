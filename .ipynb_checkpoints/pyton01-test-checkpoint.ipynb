{
 "cells": [
  {
   "cell_type": "markdown",
   "id": "0cef405c-bdca-4fa2-b322-1e66e4dd61f7",
   "metadata": {},
   "source": [
    "## Hello World"
   ]
  },
  {
   "cell_type": "code",
   "execution_count": 2,
   "id": "9d551708-ff99-431c-a587-b1077982091a",
   "metadata": {},
   "outputs": [
    {
     "name": "stdout",
     "output_type": "stream",
     "text": [
      "Hello world\n"
     ]
    }
   ],
   "source": [
    "print(\"Hello world\")"
   ]
  },
  {
   "cell_type": "code",
   "execution_count": 7,
   "id": "2f97ada1-d1db-4401-b46d-2a543654cbb3",
   "metadata": {},
   "outputs": [
    {
     "name": "stdout",
     "output_type": "stream",
     "text": [
      "3.1\n"
     ]
    }
   ],
   "source": [
    "pi = 3.1415\n",
    "\n",
    "print(format(pi, \"0.1f\"))"
   ]
  },
  {
   "cell_type": "code",
   "execution_count": null,
   "id": "410c3db5-dbfe-42bf-a3fc-1486d56b2e6c",
   "metadata": {},
   "outputs": [],
   "source": [
    "#문자열 720을 정수형의 형태값으로 형변환 후 출력하세요"
   ]
  },
  {
   "cell_type": "code",
   "execution_count": 17,
   "id": "28ffceb3-e4c5-4b8e-89bc-c894ae34b396",
   "metadata": {},
   "outputs": [
    {
     "name": "stdout",
     "output_type": "stream",
     "text": [
      "720 <class 'int'>\n"
     ]
    }
   ],
   "source": [
    "a = str(\"720\")\n",
    "a = int(a)\n",
    "print(a,type(a))"
   ]
  },
  {
   "cell_type": "code",
   "execution_count": 10,
   "id": "ff4934ea-32c5-47f7-a0b1-e9f910fbed4d",
   "metadata": {},
   "outputs": [
    {
     "name": "stdout",
     "output_type": "stream",
     "text": [
      "36\n"
     ]
    }
   ],
   "source": [
    "print(6**2)"
   ]
  },
  {
   "cell_type": "code",
   "execution_count": 19,
   "id": "a04e75b9-dae4-4d81-a471-021936ce537e",
   "metadata": {},
   "outputs": [
    {
     "ename": "SyntaxError",
     "evalue": "unterminated string literal (detected at line 2) (177448793.py, line 2)",
     "output_type": "error",
     "traceback": [
      "\u001b[1;36m  Cell \u001b[1;32mIn[19], line 2\u001b[1;36m\u001b[0m\n\u001b[1;33m    b = int(input(\"second))\u001b[0m\n\u001b[1;37m                  ^\u001b[0m\n\u001b[1;31mSyntaxError\u001b[0m\u001b[1;31m:\u001b[0m unterminated string literal (detected at line 2)\n"
     ]
    }
   ],
   "source": [
    "a = int(input(\"first\"))\n",
    "b = int(input(\"second))\n",
    "\n",
    "result= a + b\n",
    "print(f\"output : {result}\")\n",
    "\n",
    "#사용자로부터 2개의 숫자를 입력받은 후 해당 숫자들을 더한 값을 출력하세요 (OUTPUT;결과값)\n"
   ]
  }
 ],
 "metadata": {
  "kernelspec": {
   "display_name": "Python [conda env:base] *",
   "language": "python",
   "name": "conda-base-py"
  },
  "language_info": {
   "codemirror_mode": {
    "name": "ipython",
    "version": 3
   },
   "file_extension": ".py",
   "mimetype": "text/x-python",
   "name": "python",
   "nbconvert_exporter": "python",
   "pygments_lexer": "ipython3",
   "version": "3.13.5"
  }
 },
 "nbformat": 4,
 "nbformat_minor": 5
}
