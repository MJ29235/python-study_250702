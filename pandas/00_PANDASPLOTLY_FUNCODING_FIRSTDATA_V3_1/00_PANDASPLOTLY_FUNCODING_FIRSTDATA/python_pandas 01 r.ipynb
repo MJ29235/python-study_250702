{
 "cells": [
  {
   "cell_type": "code",
   "execution_count": null,
   "id": "1fe8c6c1-b482-461b-8671-45df394fc9e4",
   "metadata": {},
   "outputs": [],
   "source": [
    "# r (read)로 읽어보기"
   ]
  },
  {
   "cell_type": "code",
   "execution_count": 3,
   "id": "e00e7728-eff3-413f-9892-f242e72f36b6",
   "metadata": {},
   "outputs": [],
   "source": [
    "data_file = open(\"00_data/text_data.txt\",\"r\",encoding=\"utf-8-sig\")\n",
    "data_file.close()"
   ]
  },
  {
   "cell_type": "code",
   "execution_count": 6,
   "id": "5c12dc2b-d1d2-4dc7-961e-3885861b256e",
   "metadata": {},
   "outputs": [
    {
     "name": "stdout",
     "output_type": "stream",
     "text": [
      "['안녕하세요. Dave Lee 입니다.\\n', '본 예제는 Plain Text 파일 예제입니다.\\n', '감사합니다.']\n"
     ]
    }
   ],
   "source": [
    "with open(\"00_data/text_data.txt\",\"r\",encoding=\"utf-8-sig\") as data_file:\n",
    "    data_lines = data_file.readlines()\n",
    "    print(data_lines)"
   ]
  },
  {
   "cell_type": "code",
   "execution_count": 8,
   "id": "a14d5dca-c189-4a46-b8c8-af0e9248f945",
   "metadata": {},
   "outputs": [
    {
     "data": {
      "text/plain": [
       "['안녕하세요. Dave Lee 입니다.\\n', '본 예제는 Plain Text 파일 예제입니다.\\n', '감사합니다.']"
      ]
     },
     "execution_count": 8,
     "metadata": {},
     "output_type": "execute_result"
    }
   ],
   "source": [
    "#with 절 구문이 길어지지 않게하기위해\n",
    "############ readlines\n",
    "data_file = open(\"00_data/text_data.txt\",\"r\",encoding=\"utf-8-sig\")\n",
    "data_lines = data_file.readlines()\n",
    "data_lines # 리스트의 형태로 각 줄을 출력!"
   ]
  },
  {
   "cell_type": "code",
   "execution_count": 10,
   "id": "e05b1263-46e8-42ea-84e1-c6f6a417666d",
   "metadata": {},
   "outputs": [
    {
     "name": "stdout",
     "output_type": "stream",
     "text": [
      "안녕하세요. Dave Lee 입니다.\n",
      "\n",
      "본 예제는 Plain Text 파일 예제입니다.\n",
      "\n",
      "감사합니다.\n"
     ]
    }
   ],
   "source": [
    "for data_line in data_lines:\n",
    "    print(data_line)\n",
    "data_file.close()"
   ]
  },
  {
   "cell_type": "code",
   "execution_count": 11,
   "id": "62c111e4-2b59-4e7b-a88f-31291f43ae79",
   "metadata": {},
   "outputs": [
    {
     "name": "stdout",
     "output_type": "stream",
     "text": [
      "안녕하세요. Dave Lee 입니다.\n",
      "\n"
     ]
    }
   ],
   "source": [
    " ####################### readline\n",
    "data_file = open(\"00_data/text_data.txt\",\"r\",encoding=\"utf-8-sig\")\n",
    "data_line = data_file.readline()\n",
    "print(data_line)"
   ]
  },
  {
   "cell_type": "code",
   "execution_count": 12,
   "id": "38c06f1c-6395-4b27-b5c6-1e2d74ba44a3",
   "metadata": {},
   "outputs": [
    {
     "name": "stdout",
     "output_type": "stream",
     "text": [
      "본 예제는 Plain Text 파일 예제입니다.\n",
      "\n"
     ]
    }
   ],
   "source": [
    "data_line=data_file.readline() #위에서 첫번째를 읽었기 때문에 다음번째에서는 두번쨰 문장을 가져옴\n",
    "print(data_line)"
   ]
  },
  {
   "cell_type": "code",
   "execution_count": 13,
   "id": "093f1afc-65a6-41cb-8875-d91dce176bea",
   "metadata": {},
   "outputs": [
    {
     "name": "stdout",
     "output_type": "stream",
     "text": [
      "감사합니다.\n"
     ]
    }
   ],
   "source": [
    "data_line=data_file.readline() #위에서 두번째를 읽었기 때문에 다음번째에서는 세번째 문장을 가져옴\n",
    "print(data_line) # 한번 더 하면 값을 출력하지 않음"
   ]
  },
  {
   "cell_type": "code",
   "execution_count": 14,
   "id": "35e32aa3-5b5a-49e5-8d6e-4c72d1bff2f2",
   "metadata": {},
   "outputs": [
    {
     "data": {
      "text/plain": [
       "'안녕하세요. Dave Lee 입니다.\\n본 예제는 Plain Text 파일 예제입니다.\\n감사합니다.'"
      ]
     },
     "execution_count": 14,
     "metadata": {},
     "output_type": "execute_result"
    }
   ],
   "source": [
    "############ read #############\n",
    "data_file = open(\"00_data/text_data.txt\",\"r\",encoding=\"utf-8-sig\")\n",
    "data = data_file.read()\n",
    "data #문자열을 통으로 찾아옴! (리스트X)"
   ]
  },
  {
   "cell_type": "code",
   "execution_count": null,
   "id": "31f6540e-20e5-48de-a2cf-fc4acba0a51e",
   "metadata": {},
   "outputs": [],
   "source": []
  },
  {
   "cell_type": "code",
   "execution_count": null,
   "id": "c65f8156-25da-4a7d-8d0d-bf36636e49d1",
   "metadata": {},
   "outputs": [],
   "source": []
  }
 ],
 "metadata": {
  "kernelspec": {
   "display_name": "Python [conda env:base] *",
   "language": "python",
   "name": "conda-base-py"
  },
  "language_info": {
   "codemirror_mode": {
    "name": "ipython",
    "version": 3
   },
   "file_extension": ".py",
   "mimetype": "text/x-python",
   "name": "python",
   "nbconvert_exporter": "python",
   "pygments_lexer": "ipython3",
   "version": "3.13.5"
  }
 },
 "nbformat": 4,
 "nbformat_minor": 5
}
