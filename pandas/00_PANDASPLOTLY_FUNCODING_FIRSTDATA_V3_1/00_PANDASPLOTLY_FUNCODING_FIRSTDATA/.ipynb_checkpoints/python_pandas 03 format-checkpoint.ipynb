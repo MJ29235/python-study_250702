{
 "cells": [
  {
   "cell_type": "code",
   "execution_count": null,
   "id": "ce9ae195-82b9-47ae-9eda-9fb083af0ec0",
   "metadata": {},
   "outputs": [],
   "source": [
    "import csv\n",
    "\n",
    "with open(\"00_data/tmp_csv.csv\",\"w\",encoding=\"utf-8-sig\",newline=\"\") as writer_csv :\n",
    "    field_name_list=[\"First Name\",\"Last Name\"]\n",
    "    writer = csv.DictWriter(writer_csv,fieldnames=field_name_list) #딕셔너리 라이터를 통해 키 , 밸류값으로 정의되어있으면 값을 csv파일에 넣기 좋음!!\\ 필드명 선언 , 값을 적용\n",
    "    writer.writeheader() #위 문장에서 선언한 필드명을 실제로 csv파일에 적용해라!\n",
    "    writer.writerow{\"First Name\":\"Dave\",\"Last Name\":\"Lee\",} #하나의 행에 값을 넣겠다!\n",
    "    writer.writerow{\"First Name\":\"Robin\",\"Last Name\":\"Kim\",} #하나의 행에 값을 넣겠다!\n",
    "    writer.writerow{\"First Name\":\"David\",\"Last Name\":\"Park\",} #하나의 행에 값을 넣겠다!"
   ]
  },
  {
   "cell_type": "code",
   "execution_count": null,
   "id": "82350958-111e-488f-b296-9273a2e3ffd7",
   "metadata": {},
   "outputs": [],
   "source": []
  },
  {
   "cell_type": "code",
   "execution_count": null,
   "id": "7ca97795-7159-41d3-b90d-e76b73ffb659",
   "metadata": {},
   "outputs": [],
   "source": []
  }
 ],
 "metadata": {
  "kernelspec": {
   "display_name": "Python [conda env:base] *",
   "language": "python",
   "name": "conda-base-py"
  },
  "language_info": {
   "codemirror_mode": {
    "name": "ipython",
    "version": 3
   },
   "file_extension": ".py",
   "mimetype": "text/x-python",
   "name": "python",
   "nbconvert_exporter": "python",
   "pygments_lexer": "ipython3",
   "version": "3.13.5"
  }
 },
 "nbformat": 4,
 "nbformat_minor": 5
}
