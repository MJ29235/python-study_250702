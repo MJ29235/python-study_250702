{
 "cells": [
  {
   "cell_type": "code",
   "execution_count": null,
   "id": "522bbc4f-6db9-4e80-ac9c-ab2034e97f40",
   "metadata": {},
   "outputs": [],
   "source": [
    "# w (write)사용해보기"
   ]
  },
  {
   "cell_type": "code",
   "execution_count": 3,
   "id": "fb55fb88-c79a-4fdf-83dd-bbcbcf892fd9",
   "metadata": {},
   "outputs": [],
   "source": [
    "data_file = open(\"00_data/text_write.txt\",\"w\",encoding=\"utf-8-sig\") \n",
    "# 없으면새로운 텍스트파일 생성 됨! 있으면 덮어쓰기!\n",
    "data_file.write(\"안녕하세요. Hello world\\n\") #쓰고싶은 내용 인자값으로 넣기\n",
    "data_file.write(\"MJ 라고합니다.\\n\") #\n",
    "data_file.close()"
   ]
  },
  {
   "cell_type": "code",
   "execution_count": null,
   "id": "ed453189-02a8-40bf-b526-3eac9ff86407",
   "metadata": {},
   "outputs": [],
   "source": [
    "# a (add) 사용해보기"
   ]
  },
  {
   "cell_type": "code",
   "execution_count": 5,
   "id": "caf1fdd1-adf8-4252-a860-434ab43ca955",
   "metadata": {},
   "outputs": [],
   "source": [
    "data_file = open(\"00_data/text_write.txt\",\"a\",encoding=\"utf-8-sig\") \n",
    "data_file.write(\"본 파일은 임시파일입니다.\") #추가됨!\n",
    "data_file.close()"
   ]
  },
  {
   "cell_type": "code",
   "execution_count": null,
   "id": "2b5861c3-3b74-4b31-9363-1c5a0b105535",
   "metadata": {},
   "outputs": [],
   "source": [
    "############################### USvideos.csv 파일 실습"
   ]
  },
  {
   "cell_type": "code",
   "execution_count": 6,
   "id": "22623ac8-81bb-42d3-9af0-39c4b7142d71",
   "metadata": {},
   "outputs": [
    {
     "name": "stdout",
     "output_type": "stream",
     "text": [
      "Note: you may need to restart the kernel to use updated packages.\n"
     ]
    },
    {
     "name": "stderr",
     "output_type": "stream",
     "text": [
      "ERROR: Could not find a version that satisfies the requirement csv (from versions: none)\n",
      "ERROR: No matching distribution found for csv\n"
     ]
    }
   ],
   "source": [
    "pip install csv"
   ]
  },
  {
   "cell_type": "code",
   "execution_count": 16,
   "id": "2b8b007a-7c5d-4be8-bcb7-d0361baeace4",
   "metadata": {},
   "outputs": [
    {
     "name": "stdout",
     "output_type": "stream",
     "text": [
      "1-['video_id', 'title', 'channel_title', 'category_id', 'tags', 'views', 'likes', 'dislikes', 'comment_total', 'thumbnail_link', 'date']\n",
      "2-['XpVt6Z1Gjjo', '1 YEAR OF VLOGGING -- HOW LOGAN PAUL CHANGED YOUTUBE FOREVER!', 'Logan Paul Vlogs', '24', 'logan paul vlog|logan paul|logan|paul|olympics|logan paul youtube|vlog|daily|comedy|hollywood|parrot|maverick|bird|maverick clothes|diamond play button|logan paul diamond play button|10M subscribers|logan paul 1 year vlogging|1 year vlog|dwarf mamba play button|logan paul history|youtube history|10M|10M plaque|youtube button|diamond button|logang|logang 4 life', '4394029', '320053', '5931', '46245', 'https://i.ytimg.com/vi/XpVt6Z1Gjjo/default.jpg', '13.09']\n",
      "3-['K4wEI5zhHB0', 'iPhone X — Introducing iPhone X — Apple', 'Apple', '28', 'Apple|iPhone 10|iPhone Ten|iPhone|Portrait Lighting|A11 Bionic|augmented reality|emoji|animoji|Face ID|Apple Pay|camera|smartphone', '7860119', '185853', '26679', '0', 'https://i.ytimg.com/vi/K4wEI5zhHB0/default.jpg', '13.09']\n",
      "4-['cLdxuaxaQwc', 'My Response', 'PewDiePie', '22', '[none]', '5845909', '576597', '39774', '170708', 'https://i.ytimg.com/vi/cLdxuaxaQwc/default.jpg', '13.09']\n",
      "5-['WYYvHb03Eog', 'Apple iPhone X first look', 'The Verge', '28', 'apple iphone x hands on|Apple iPhone X|iPhone X|apple iphone x first look|iPhone X first look|apple iphone x event 2017|apple iphone x event|iPhone X price|iPhone X specs|iPhone X design|iPhone X camera|iPhone X home button|iPhone X wireless charging|iPhone X waterproof|iPhone X release date|iphone 2017|apple|iphone|ios 11|the verge|verge', '2642103', '24975', '4542', '12829', 'https://i.ytimg.com/vi/WYYvHb03Eog/default.jpg', '13.09']\n",
      "6-['sjlHnJvXdQs', 'iPhone X (parody)', 'jacksfilms', '23', 'jacksfilms|parody|parodies|iphone|iphone x|iphone 8|apple|emoji', '1168130', '96666', '568', '6666', 'https://i.ytimg.com/vi/sjlHnJvXdQs/default.jpg', '13.09']\n",
      "7-['cMKX2tE5Luk', 'The Disaster Artist | Official Trailer HD | A24', 'A24', '1', 'a24|a24 films|a24 trailers|independent films|trailer|HD|official|movie|film|a24 movies|oscar winner|academy award winner|The Disaster Artist|room|james franco|greg sestero|tom bissell|dave franco|seth rogen|seth rogan|room trailer|The Disaster Artist trailer|The Disaster Artist film|disaster|artist|the room|the room movie|Tommy Wiseau|cult classic|the room behind the scenes|Juliette Danielle|oh hi mark|the worst film ever made|comedy|biographical', '1311445', '34507', '544', '3040', 'https://i.ytimg.com/vi/cMKX2tE5Luk/default.jpg', '13.09']\n",
      "8-['8wNr-NQImFg', 'The Check In: HUD, Ben Carson and Hurricanes', 'Late Night with Seth Meyers', '23', 'Late night|Seth Meyers|check in|hud|Ben Carson|NBC|NBC TV|television|funny|talk show|comedy|humor|stand-up|parody|snl seth meyers|host|promo|seth|meyers|weekend update|news satire|satire|surgeon|neurosurgeon|Housing Secretary|Elizabeth Warren|Gifted Hands|Housing & Urban Development|ProPublica|HLN|Hurricane Harvey|Texas|EPA', '666169', '9985', '297', '1071', 'https://i.ytimg.com/vi/8wNr-NQImFg/default.jpg', '13.09']\n",
      "9-['_HTXMhKWqnA', 'iPhone X Impressions & Hands On!', 'Marques Brownlee', '28', 'iPhone X|iphone x|iphone 10|iPhone X impressions|hands on|iphone 8|iphone 8 plus|iphone 8 impressions|iPhone X hands on|new iphone|iphone unboxing|iphone x unboxing|iphone x announcement|the iphone x|iphone x vs|iPhone X vs iPhone 8|iPhone 8 vs|MKBHD|iphone x features|iphone x keynote|face id|face unlock|super retina display', '1728614', '74062', '2180', '15297', 'https://i.ytimg.com/vi/_HTXMhKWqnA/default.jpg', '13.09']\n"
     ]
    }
   ],
   "source": [
    "import csv\n",
    "\n",
    "data_file = open(\"00_data/USvideos.csv\",\"r\",encoding=\"utf-8-sig\") \n",
    "data_lines = csv.reader(data_file,delimiter=\",\") # delimiter-> 구분자 ,를 통해서 가져옴!\n",
    "#data_lines로 리스트의 형태를 띄어서 값을 가져왔음\n",
    "for i, data_line in enumerate(data_lines,1):\n",
    "    print(f\"{i}-{data_line}\") #list 자료구조로 가져옴\n",
    "    if i==9:\n",
    "        break\n",
    "    #break #오다가 첫번째문장을 출력시키고 나가기(강제종료) -> 과부하 방지\n",
    "data_file.close()"
   ]
  },
  {
   "cell_type": "code",
   "execution_count": 23,
   "id": "8964740c-4a94-4bf9-b52f-94384253ccb8",
   "metadata": {},
   "outputs": [],
   "source": [
    "import csv\n",
    "data_file = open(\"00_data/tmp_csv.csv\",\"w\",encoding=\"utf-8-sig\")\n",
    "data_write = csv.writer(data_file,delimiter=\",\") #csv는 컴마를 기준으로 나뉘어져있는 파일!\n",
    "data_write.writerow([\"1\",\"2\",\"3\"]) #writerow ->한줄씩 행 추가 []안에 숫자는 행을 의미\n",
    "data_file.close()"
   ]
  },
  {
   "cell_type": "code",
   "execution_count": 24,
   "id": "86281a68-5446-4cb9-aa18-be7d422be990",
   "metadata": {},
   "outputs": [],
   "source": [
    "import csv\n",
    "with open(\"00_data/tmp_csv.csv\",\"w\",encoding=\"utf-8-sig\",newline='') as writer_csv: #newline='' 을 해줘야 개행처리가 안됨!\n",
    "    writer = csv.writer(writer_csv, delimiter=\",\")\n",
    "    writer.writerow([\"love\"]*3+[\"banana\"]) # 3열 까지 love가 추가 됨! 4번째 열은 banana\n",
    "    writer.writerow([\"apple\",2]) # 3열 까지 love가 추가 됨! 4번째 열은 banana\n",
    "    writer.writerow([\"Spam\",\"lovely Spam\",\"Wonderful spam\"]) # 3열 까지 love가 추가 됨! 4번째 열은 banana"
   ]
  }
 ],
 "metadata": {
  "kernelspec": {
   "display_name": "Python [conda env:base] *",
   "language": "python",
   "name": "conda-base-py"
  },
  "language_info": {
   "codemirror_mode": {
    "name": "ipython",
    "version": 3
   },
   "file_extension": ".py",
   "mimetype": "text/x-python",
   "name": "python",
   "nbconvert_exporter": "python",
   "pygments_lexer": "ipython3",
   "version": "3.13.5"
  }
 },
 "nbformat": 4,
 "nbformat_minor": 5
}
