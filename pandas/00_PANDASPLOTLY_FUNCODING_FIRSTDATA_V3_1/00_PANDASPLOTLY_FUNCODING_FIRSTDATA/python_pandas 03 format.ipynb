{
 "cells": [
  {
   "cell_type": "markdown",
   "id": "947977d3-8bf7-4e54-b5e0-2239fd70a0a0",
   "metadata": {},
   "source": [
    "# CSV"
   ]
  },
  {
   "cell_type": "code",
   "execution_count": 2,
   "id": "ce9ae195-82b9-47ae-9eda-9fb083af0ec0",
   "metadata": {},
   "outputs": [],
   "source": [
    "#딕셔너리 형태로 값을 넣어보기\n",
    "import csv\n",
    "\n",
    "with open(\"00_data/tmp_csv.csv\",\"w\",encoding=\"utf-8-sig\",newline=\"\") as writer_csv :\n",
    "    field_name_list=[\"First Name\",\"Last Name\"]\n",
    "    writer = csv.DictWriter(writer_csv,fieldnames=field_name_list) #딕셔너리 라이터를 통해 키 , 밸류값으로 정의되어있으면 값을 csv파일에 넣기 좋음!!\\ 필드명 선언 , 값을 적용\n",
    "    writer.writeheader() #위 문장에서 선언한 필드명을 실제로 csv파일에 적용해라!\n",
    "    writer.writerow({\"First Name\":\"Dave\",\"Last Name\":\"Lee\",}) #하나의 행에 값을 넣겠다!\n",
    "    writer.writerow({\"First Name\":\"Robin\",\"Last Name\":\"Kim\",}) #하나의 행에 값을 넣겠다!\n",
    "    writer.writerow({\"First Name\":\"David\",\"Last Name\":\"Park\",}) #하나의 행에 값을 넣겠다!"
   ]
  },
  {
   "cell_type": "code",
   "execution_count": null,
   "id": "82350958-111e-488f-b296-9273a2e3ffd7",
   "metadata": {},
   "outputs": [],
   "source": [
    "#딕셔너리 형태로 값을 읽어오기"
   ]
  },
  {
   "cell_type": "code",
   "execution_count": 4,
   "id": "7ca97795-7159-41d3-b90d-e76b73ffb659",
   "metadata": {},
   "outputs": [
    {
     "name": "stdout",
     "output_type": "stream",
     "text": [
      "{'First Name': 'Dave', 'Last Name': 'Lee'}\n",
      "{'First Name': 'Robin', 'Last Name': 'Kim'}\n",
      "{'First Name': 'David', 'Last Name': 'Park'}\n"
     ]
    }
   ],
   "source": [
    "import csv\n",
    "\n",
    "with open(\"00_data/tmp_csv.csv\",\"r\",encoding=\"utf-8-sig\") as reader_csv:\n",
    "    reader = csv.DictReader(reader_csv)\n",
    "   # print(type(reader))\n",
    "    for row in reader:\n",
    "        print(['First name'],row ['last_name']}"
   ]
  },
  {
   "cell_type": "markdown",
   "id": "092b31fe-9dbe-46cd-af7b-cd1c74597c4d",
   "metadata": {},
   "source": [
    "# xml"
   ]
  },
  {
   "cell_type": "code",
   "execution_count": 10,
   "id": "24e6db75-0377-4eec-aa46-84293ff5aadd",
   "metadata": {},
   "outputs": [
    {
     "name": "stdout",
     "output_type": "stream",
     "text": [
      "\n",
      "잔재미코딩\n",
      "30\n",
      "\n",
      "이름 : 잔재미코딩\n",
      "\n",
      "Dave Lee\n",
      "21\n",
      "\n",
      "이름 : Dave Lee\n"
     ]
    }
   ],
   "source": [
    "from bs4 import BeautifulSoup\n",
    "\n",
    "data_file = open(\"00_data/users.xml\",\"r\",encoding=\"utf-8-sig\")\n",
    "soup = BeautifulSoup(data_file,\"xml\") # xml언어 변환!\n",
    "\n",
    "# 특정 값 찾아오기 = <user>\n",
    "users = soup.select(\"user\") # 해당 문서 안의 모든 \"user\"를 찾아와 리스트타입의 형태로 만듦\n",
    "#users = soup.select_one(\"user\") # 해당 문서 안에 가장 첫번째로 검색된 \"user\"를 찾아와 리스트형태의 타입으로 만듦\n",
    "\n",
    "for user in users:\n",
    "    print(user.text) # select로 사용!\n",
    "    print(f\"이름 : {user.select_one(\"name\").text}\") #select one 사용!"
   ]
  },
  {
   "cell_type": "code",
   "execution_count": null,
   "id": "220760ec-609e-4dec-b385-38ee99109bef",
   "metadata": {},
   "outputs": [],
   "source": [
    "# 구글 연관검색어(xml형태) 크롤링! https://suggestqueries.google.com/complete/search?output=toolbar&q=ai"
   ]
  },
  {
   "cell_type": "code",
   "execution_count": 17,
   "id": "3b671335-0c98-4aba-930d-69626dc56ddf",
   "metadata": {},
   "outputs": [
    {
     "name": "stdout",
     "output_type": "stream",
     "text": [
      "wedding\n",
      "wedding invitation\n",
      "wedding dress\n",
      "wedding band\n",
      "wedding ceremony\n",
      "wedding 뜻\n",
      "wedding day\n",
      "wedding anniversary\n",
      "wedding ring\n",
      "wedding witch\n"
     ]
    }
   ],
   "source": [
    "import requests\n",
    "from bs4 import BeautifulSoup\n",
    "\n",
    "keyword = \"wedding\"\n",
    "google_related_keyword_api = f\"https://suggestqueries.google.com/complete/search?output=toolbar&q={keyword}\"\n",
    "\n",
    "response = requests.get(google_related_keyword_api)\n",
    "soup = BeautifulSoup(response.content,\"xml\") # 로컬컴퓨터의 문서가 아니라, 외부의 웹페이지 안에있는 텍스트값을 찾아오기 때문에 .text or .content를 사용 / xml형식이라고 명시\n",
    "\n",
    "#print(soup)\n",
    "dataxml = soup.select(\"suggestion\")\n",
    "for item in dataxml:\n",
    "    print(item[\"data\"]) # suggestion 은 부모요소 data 는 자식요소이기 때문에, [\"data\"] 대괄호 표기법을 통해 그 요소들을 추출가능!"
   ]
  },
  {
   "cell_type": "markdown",
   "id": "19aa9fea-6fb9-49c9-b63a-01a5b2d909e8",
   "metadata": {},
   "source": [
    "# Json"
   ]
  },
  {
   "cell_type": "code",
   "execution_count": 21,
   "id": "771efcf6-7a90-4f8e-9934-a89fff4319ad",
   "metadata": {},
   "outputs": [
    {
     "name": "stdout",
     "output_type": "stream",
     "text": [
      "{'id': '01', 'language': 'python', 'edition': 'third', 'author': 'David'}\n",
      "01 python third\n",
      "<class 'dict'>\n"
     ]
    }
   ],
   "source": [
    "################# loads\n",
    "import json\n",
    "\n",
    "data = \"\"\"\n",
    "{\n",
    "    \"id\": \"01\",\n",
    "    \"language\": \"python\",\n",
    "    \"edition\": \"third\",\n",
    "    \"author\": \"David\"\n",
    "}\n",
    "\"\"\"\n",
    "# json 형식으로 변수저장 , 중괄호 안에 각각의 속성, 키와 밸류값! \n",
    "\n",
    "#jsondata = json.loads(data)\n",
    "#print(jsondata) -> Error! jsondata의 값을 못찾아옴. 위에 data는 python의 딕셔너리의 형태이기 때문에 json이 아닌 딕셔너리로 인식!!\n",
    "# so, 문자열의 형태로 변환해야함! \"\"\"{ }\"\"\"\n",
    "\n",
    "jsondata = json.loads(data)\n",
    "print(jsondata) # 문자열로 변환하고 다시해보면 json데이터로 가져옴!\n",
    "\n",
    "# jsondata 안에 밸류 값을 찾아오고 싶을떄 -> [\"키값\"]\n",
    "print(jsondata[\"id\"],jsondata[\"language\"],jsondata[\"edition\"])\n",
    "print(type(jsondata)) # 딕셔너리의 형태로 인식.. why? \n",
    "# 1. 최초에 웹이라는 생태계가 탄생되었을 때 , 개발자들은 javascript의 필요성에 동의,  \n",
    "# 2. 서버와 통신을 위해 json이라는 데이터 형태 개발\n",
    "# 3. 이러한 데이터 순환을 위해 dictionary 자료구조를 생성\n",
    "# -> 그러기에 json 데이터임에도 가장 최근에 개발된 dictionary로 인식 : 결국 뿌리는 같다!"
   ]
  },
  {
   "cell_type": "code",
   "execution_count": 28,
   "id": "7582c9e8-2656-43c6-a41a-474e944a8d03",
   "metadata": {},
   "outputs": [
    {
     "name": "stdout",
     "output_type": "stream",
     "text": [
      "{\"id\": \"01\", \"language\": {\"python\": \"basic\", \"Java\": \"advanced\"}, \"edition\": \"third\", \"author\": \"David\"}\n",
      "<class 'str'>\n",
      "{\n",
      "  \"id\": \"01\",\n",
      "  \"language\": {\n",
      "    \"python\": \"basic\",\n",
      "    \"Java\": \"advanced\"\n",
      "  },\n",
      "  \"edition\": \"third\",\n",
      "  \"author\": \"David\"\n",
      "} <class 'str'>\n"
     ]
    }
   ],
   "source": [
    "#################### dumps\n",
    "# loads와 달리 로컬에서 가져오고자 하는 json 값에 문자열처리를 굳이하지 않아도 됨. (어차피 문자열로 변환하는 함수이기 때문에!)\n",
    "import json\n",
    "\n",
    "data ={\n",
    "    \"id\": \"01\",\n",
    "    \"language\": {\"python\":\"basic\",\"Java\":\"advanced\"},\n",
    "    \"edition\": \"third\",\n",
    "    \"author\": \"David\"\n",
    "}\n",
    "\n",
    "\n",
    "#jsondata = json.loads(data) # loads딕셔너리의 형태로 반환하는 함수 \n",
    "jsondata = json.dumps(data) # dumps 문자열의 형태로 반환하는함수 (\"\"\"\"\"\" 제거)\n",
    "\n",
    "print(jsondata)\n",
    "print(type(jsondata)) # 시각화 할때 필요한 순간이 있음!\n",
    "\n",
    "#dumps로 여러줄로 들어오게하기\n",
    "jsondata02 = json.dumps(data, indent=2) # indent = n => n만큼의 들여쓰기를 한것처럼 보이게 함! 중첩된 데이터에서 유용하게 쓰임!\n",
    "print(jsondata02,type(jsondata02))"
   ]
  },
  {
   "cell_type": "code",
   "execution_count": null,
   "id": "0ebfe11c-d54d-4b2f-9c31-29f7c62376f7",
   "metadata": {},
   "outputs": [],
   "source": [
    "# json 데이터 생성"
   ]
  },
  {
   "cell_type": "code",
   "execution_count": 30,
   "id": "d5ef477a-e64b-4aae-92a8-bfc1fe04525d",
   "metadata": {},
   "outputs": [],
   "source": [
    "import json\n",
    "\n",
    "data ={\n",
    "    \"id\": \"01\",\n",
    "    \"language\": \"python\",\n",
    "    \"edition\": \"third\",\n",
    "    \"author\": \"David\"\n",
    "}\n",
    "data[\"language\"] = [\"python\",\"Java\"] # 이런식으로 밸류값 을 추가하는 것도 가능!\n",
    "\n",
    "###############\n",
    "with open(\"00_data/test.json\",\"w\",encoding=\"utf-8-sig\") as json_file:\n",
    "    json_string = json.dump(data,json_file,indent=2) # dump : json 파일로 생성할 때 사용 <-> dumps와 맥락이 완전히 다름!\n",
    "    # dump(넣고자 하는 값, 불러올 것,개행.들여쓰기처리할것)"
   ]
  },
  {
   "cell_type": "code",
   "execution_count": 39,
   "id": "f4fead73-60b2-41dd-8d0e-9613a53bfe2b",
   "metadata": {},
   "outputs": [
    {
     "name": "stdout",
     "output_type": "stream",
     "text": [
      "{'kind': 'youtube#videoCategory', 'etag': '\"m2yskBQFythfE4irbTIeOgYYfBU/Xy1mB4_yLrHy_BmKmPBggty2mZQ\"', 'id': '1', 'snippet': {'channelId': 'UCBR8-60-B28hp2BmDPdntcQ', 'title': 'Film & Animation', 'assignable': True}}\n",
      "youtube#videoCategory Film & Animation\n",
      "{'kind': 'youtube#videoCategory', 'etag': '\"m2yskBQFythfE4irbTIeOgYYfBU/UZ1oLIIz2dxIhO45ZTFR3a3NyTA\"', 'id': '2', 'snippet': {'channelId': 'UCBR8-60-B28hp2BmDPdntcQ', 'title': 'Autos & Vehicles', 'assignable': True}}\n",
      "youtube#videoCategory Autos & Vehicles\n",
      "{'kind': 'youtube#videoCategory', 'etag': '\"m2yskBQFythfE4irbTIeOgYYfBU/nqRIq97-xe5XRZTxbknKFVe5Lmg\"', 'id': '10', 'snippet': {'channelId': 'UCBR8-60-B28hp2BmDPdntcQ', 'title': 'Music', 'assignable': True}}\n",
      "youtube#videoCategory Music\n",
      "{'kind': 'youtube#videoCategory', 'etag': '\"m2yskBQFythfE4irbTIeOgYYfBU/HwXKamM1Q20q9BN-oBJavSGkfDI\"', 'id': '15', 'snippet': {'channelId': 'UCBR8-60-B28hp2BmDPdntcQ', 'title': 'Pets & Animals', 'assignable': True}}\n",
      "youtube#videoCategory Pets & Animals\n",
      "{'kind': 'youtube#videoCategory', 'etag': '\"m2yskBQFythfE4irbTIeOgYYfBU/9GQMSRjrZdHeb1OEM1XVQ9zbGec\"', 'id': '17', 'snippet': {'channelId': 'UCBR8-60-B28hp2BmDPdntcQ', 'title': 'Sports', 'assignable': True}}\n",
      "youtube#videoCategory Sports\n",
      "{'kind': 'youtube#videoCategory', 'etag': '\"m2yskBQFythfE4irbTIeOgYYfBU/FJwVpGCVZ1yiJrqZbpqe68Sy_OE\"', 'id': '18', 'snippet': {'channelId': 'UCBR8-60-B28hp2BmDPdntcQ', 'title': 'Short Movies', 'assignable': False}}\n",
      "youtube#videoCategory Short Movies\n",
      "{'kind': 'youtube#videoCategory', 'etag': '\"m2yskBQFythfE4irbTIeOgYYfBU/M-3iD9dwK7YJCafRf_DkLN8CouA\"', 'id': '19', 'snippet': {'channelId': 'UCBR8-60-B28hp2BmDPdntcQ', 'title': 'Travel & Events', 'assignable': True}}\n",
      "youtube#videoCategory Travel & Events\n",
      "{'kind': 'youtube#videoCategory', 'etag': '\"m2yskBQFythfE4irbTIeOgYYfBU/WmA0qYEfjWsAoyJFSw2zinhn2wM\"', 'id': '20', 'snippet': {'channelId': 'UCBR8-60-B28hp2BmDPdntcQ', 'title': 'Gaming', 'assignable': True}}\n",
      "youtube#videoCategory Gaming\n",
      "{'kind': 'youtube#videoCategory', 'etag': '\"m2yskBQFythfE4irbTIeOgYYfBU/EapFaGYG7K0StIXVf8aba249tdM\"', 'id': '21', 'snippet': {'channelId': 'UCBR8-60-B28hp2BmDPdntcQ', 'title': 'Videoblogging', 'assignable': False}}\n",
      "youtube#videoCategory Videoblogging\n",
      "{'kind': 'youtube#videoCategory', 'etag': '\"m2yskBQFythfE4irbTIeOgYYfBU/xId8RX7vRN8rqkbYZbNIytUQDRo\"', 'id': '22', 'snippet': {'channelId': 'UCBR8-60-B28hp2BmDPdntcQ', 'title': 'People & Blogs', 'assignable': True}}\n",
      "youtube#videoCategory People & Blogs\n",
      "{'kind': 'youtube#videoCategory', 'etag': '\"m2yskBQFythfE4irbTIeOgYYfBU/G9LHzQmx44rX2S5yaga_Aqtwz8M\"', 'id': '23', 'snippet': {'channelId': 'UCBR8-60-B28hp2BmDPdntcQ', 'title': 'Comedy', 'assignable': True}}\n",
      "youtube#videoCategory Comedy\n",
      "{'kind': 'youtube#videoCategory', 'etag': '\"m2yskBQFythfE4irbTIeOgYYfBU/UVB9oxX2Bvqa_w_y3vXSLVK5E_s\"', 'id': '24', 'snippet': {'channelId': 'UCBR8-60-B28hp2BmDPdntcQ', 'title': 'Entertainment', 'assignable': True}}\n",
      "youtube#videoCategory Entertainment\n",
      "{'kind': 'youtube#videoCategory', 'etag': '\"m2yskBQFythfE4irbTIeOgYYfBU/QiLK0ZIrFoORdk_g2l_XR_ECjDc\"', 'id': '25', 'snippet': {'channelId': 'UCBR8-60-B28hp2BmDPdntcQ', 'title': 'News & Politics', 'assignable': True}}\n",
      "youtube#videoCategory News & Politics\n",
      "{'kind': 'youtube#videoCategory', 'etag': '\"m2yskBQFythfE4irbTIeOgYYfBU/r6Ck6Z0_L0rG37VJQR200SGNA_w\"', 'id': '26', 'snippet': {'channelId': 'UCBR8-60-B28hp2BmDPdntcQ', 'title': 'Howto & Style', 'assignable': True}}\n",
      "youtube#videoCategory Howto & Style\n",
      "{'kind': 'youtube#videoCategory', 'etag': '\"m2yskBQFythfE4irbTIeOgYYfBU/EoYkczo9I3RCf96RveKTOgOPkUM\"', 'id': '27', 'snippet': {'channelId': 'UCBR8-60-B28hp2BmDPdntcQ', 'title': 'Education', 'assignable': True}}\n",
      "youtube#videoCategory Education\n",
      "{'kind': 'youtube#videoCategory', 'etag': '\"m2yskBQFythfE4irbTIeOgYYfBU/w5HjcTD82G_XA3xBctS30zS-JpQ\"', 'id': '28', 'snippet': {'channelId': 'UCBR8-60-B28hp2BmDPdntcQ', 'title': 'Science & Technology', 'assignable': True}}\n",
      "youtube#videoCategory Science & Technology\n",
      "{'kind': 'youtube#videoCategory', 'etag': '\"m2yskBQFythfE4irbTIeOgYYfBU/SalkJoBWq_smSEqiAx_qyri6Wa8\"', 'id': '29', 'snippet': {'channelId': 'UCBR8-60-B28hp2BmDPdntcQ', 'title': 'Nonprofits & Activism', 'assignable': True}}\n",
      "youtube#videoCategory Nonprofits & Activism\n",
      "{'kind': 'youtube#videoCategory', 'etag': '\"m2yskBQFythfE4irbTIeOgYYfBU/lL7uWDr_071CHxifjYG1tJrp4Uo\"', 'id': '30', 'snippet': {'channelId': 'UCBR8-60-B28hp2BmDPdntcQ', 'title': 'Movies', 'assignable': False}}\n",
      "youtube#videoCategory Movies\n",
      "{'kind': 'youtube#videoCategory', 'etag': '\"m2yskBQFythfE4irbTIeOgYYfBU/WnuVfjO-PyFLO7NTRQIbrGE62nk\"', 'id': '31', 'snippet': {'channelId': 'UCBR8-60-B28hp2BmDPdntcQ', 'title': 'Anime/Animation', 'assignable': False}}\n",
      "youtube#videoCategory Anime/Animation\n",
      "{'kind': 'youtube#videoCategory', 'etag': '\"m2yskBQFythfE4irbTIeOgYYfBU/ctpH2hGA_UZ3volJT_FTlOg9M00\"', 'id': '32', 'snippet': {'channelId': 'UCBR8-60-B28hp2BmDPdntcQ', 'title': 'Action/Adventure', 'assignable': False}}\n",
      "youtube#videoCategory Action/Adventure\n",
      "{'kind': 'youtube#videoCategory', 'etag': '\"m2yskBQFythfE4irbTIeOgYYfBU/L0kR3-g1BAo5UD1PLVbQ7LkkDtQ\"', 'id': '33', 'snippet': {'channelId': 'UCBR8-60-B28hp2BmDPdntcQ', 'title': 'Classics', 'assignable': False}}\n",
      "youtube#videoCategory Classics\n",
      "{'kind': 'youtube#videoCategory', 'etag': '\"m2yskBQFythfE4irbTIeOgYYfBU/pUZOAC_s9sfiwar639qr_wAB-aI\"', 'id': '34', 'snippet': {'channelId': 'UCBR8-60-B28hp2BmDPdntcQ', 'title': 'Comedy', 'assignable': False}}\n",
      "youtube#videoCategory Comedy\n",
      "{'kind': 'youtube#videoCategory', 'etag': '\"m2yskBQFythfE4irbTIeOgYYfBU/Xb5JLhtyNRN3AQq021Ds-OV50Jk\"', 'id': '35', 'snippet': {'channelId': 'UCBR8-60-B28hp2BmDPdntcQ', 'title': 'Documentary', 'assignable': False}}\n",
      "youtube#videoCategory Documentary\n",
      "{'kind': 'youtube#videoCategory', 'etag': '\"m2yskBQFythfE4irbTIeOgYYfBU/u8WXzF4HIhtEi805__sqjuA4lEk\"', 'id': '36', 'snippet': {'channelId': 'UCBR8-60-B28hp2BmDPdntcQ', 'title': 'Drama', 'assignable': False}}\n",
      "youtube#videoCategory Drama\n",
      "{'kind': 'youtube#videoCategory', 'etag': '\"m2yskBQFythfE4irbTIeOgYYfBU/D04PP4Gr7wc4IV_O9G66Z4A8KWQ\"', 'id': '37', 'snippet': {'channelId': 'UCBR8-60-B28hp2BmDPdntcQ', 'title': 'Family', 'assignable': False}}\n",
      "youtube#videoCategory Family\n",
      "{'kind': 'youtube#videoCategory', 'etag': '\"m2yskBQFythfE4irbTIeOgYYfBU/i5-_AceGXQCEEMWU0V8CcQm_vLQ\"', 'id': '38', 'snippet': {'channelId': 'UCBR8-60-B28hp2BmDPdntcQ', 'title': 'Foreign', 'assignable': False}}\n",
      "youtube#videoCategory Foreign\n",
      "{'kind': 'youtube#videoCategory', 'etag': '\"m2yskBQFythfE4irbTIeOgYYfBU/rtlxd0zOixA9QHdIZB26-St5qgQ\"', 'id': '39', 'snippet': {'channelId': 'UCBR8-60-B28hp2BmDPdntcQ', 'title': 'Horror', 'assignable': False}}\n",
      "youtube#videoCategory Horror\n",
      "{'kind': 'youtube#videoCategory', 'etag': '\"m2yskBQFythfE4irbTIeOgYYfBU/N1TrDFLRppxZgBowCJfJCvh0Dpg\"', 'id': '40', 'snippet': {'channelId': 'UCBR8-60-B28hp2BmDPdntcQ', 'title': 'Sci-Fi/Fantasy', 'assignable': False}}\n",
      "youtube#videoCategory Sci-Fi/Fantasy\n",
      "{'kind': 'youtube#videoCategory', 'etag': '\"m2yskBQFythfE4irbTIeOgYYfBU/7UMGi6zRySqXopr_rv4sZq6Za2E\"', 'id': '41', 'snippet': {'channelId': 'UCBR8-60-B28hp2BmDPdntcQ', 'title': 'Thriller', 'assignable': False}}\n",
      "youtube#videoCategory Thriller\n",
      "{'kind': 'youtube#videoCategory', 'etag': '\"m2yskBQFythfE4irbTIeOgYYfBU/RScXhi324h8usyIetreAVb-uKeM\"', 'id': '42', 'snippet': {'channelId': 'UCBR8-60-B28hp2BmDPdntcQ', 'title': 'Shorts', 'assignable': False}}\n",
      "youtube#videoCategory Shorts\n",
      "{'kind': 'youtube#videoCategory', 'etag': '\"m2yskBQFythfE4irbTIeOgYYfBU/0n9MJVCDLpA8q7aiGVrFsuFsd0A\"', 'id': '43', 'snippet': {'channelId': 'UCBR8-60-B28hp2BmDPdntcQ', 'title': 'Shows', 'assignable': False}}\n",
      "youtube#videoCategory Shows\n",
      "{'kind': 'youtube#videoCategory', 'etag': '\"m2yskBQFythfE4irbTIeOgYYfBU/x5NxSf5fz8hn4loSN4rvhwzD_pY\"', 'id': '44', 'snippet': {'channelId': 'UCBR8-60-B28hp2BmDPdntcQ', 'title': 'Trailers', 'assignable': False}}\n",
      "youtube#videoCategory Trailers\n"
     ]
    }
   ],
   "source": [
    "############## load\n",
    "import json\n",
    "\n",
    "with open(\"00_data/US_category_id.json\",\"r\",encoding=\"utf-8-sig\") as json_file :\n",
    "    json_data = json.load(json_file) # load : 로컬 컴퓨터 내에 json 이라는 파일 포맷으로 되어있는 데이터를 찾아올 때 \n",
    "    # <-> loads : 파이썬 셀 혹은 에디터를 통해서 직접 문자열 형태의 제이슨 문서를 로드해오고자 할때 \n",
    "    #print(json_data.keys()) # keys : 키값만 찾아올때 / items 안에 있는 하위 키들은 찾아오지 않음!\n",
    "\n",
    "# items 하위 배열에 있는 키값들을 찾아오기 []대괄호표기법!\n",
    "    #print(json_data[\"items\"])\n",
    "    for item in json_data[\"items\"]:\n",
    "        print(item) \n",
    "        print(item[\"kind\"],item[\"snippet\"][\"title\"]) # 대괄호 두번 하면 하위의 하위요소를 가져옴! "
   ]
  },
  {
   "cell_type": "code",
   "execution_count": null,
   "id": "02c38536-17e2-4574-9ffd-fb6ac750920a",
   "metadata": {},
   "outputs": [],
   "source": []
  }
 ],
 "metadata": {
  "kernelspec": {
   "display_name": "Python [conda env:base] *",
   "language": "python",
   "name": "conda-base-py"
  },
  "language_info": {
   "codemirror_mode": {
    "name": "ipython",
    "version": 3
   },
   "file_extension": ".py",
   "mimetype": "text/x-python",
   "name": "python",
   "nbconvert_exporter": "python",
   "pygments_lexer": "ipython3",
   "version": "3.13.5"
  }
 },
 "nbformat": 4,
 "nbformat_minor": 5
}
