{
 "cells": [
  {
   "cell_type": "code",
   "execution_count": null,
   "id": "96e4189e-e458-4ddd-90cb-8a04a2f1e94e",
   "metadata": {},
   "outputs": [],
   "source": [
    "from selenium import webdriver\n",
    "from selenium.webdriver.chrome.options import Options\n",
    "from selenium.webdriver.chrome.service import Service\n",
    "from selenium.webdriver.common.by import By\n",
    "from webdriver_manager.chrome import ChromeDriverManager\n",
    "import time, re\n",
    "import pandas as pd\n",
    "\n",
    "service = Service(ChromeDriverManager().install())\n",
    "\n",
    "options = Options()\n",
    "options.add_argument(\"--headless\")\n",
    "options.add_argument(\"--diable-gpu\")\n",
    "options.add_argument(\"--start-maximized\")\n",
    "options.add_argument(\"--window-size=1920x1080\")\n",
    "options.add_argument(\"--lang=ko_KR\")\n",
    "options.add_argument(\"--user-agent=Mozilla/5.0 (Windows NT 10.0; Win64; x64) AppleWebKit/537.36 (KHTML, like Gecko) Chrome/139.0.0.0 Safari/537.36\")\n",
    "\n",
    "driver = webdriver.chrome(service=service, options=options)\n",
    "\n",
    "category_url = {\n",
    "    \"아우터\":\"https://www.musinsa.com/category/002?gf=M\",\n",
    "    \"바지\" : \"https://www.musinsa.com/category/003?gf=M\",\n",
    "    \"스포츠/레저\":\"https://www.musinsa.com/category/017?gf=M\"\n",
    "}\n",
    "all_data = []\n",
    "\n",
    "def extract_product_id_from_imgsrc(src:str) -> str | None:\n",
    "    if not src:\n",
    "        return None\n",
    "    m= re.search(r\"/(\\d+)(?:[_\\.][^/?]+)?(?:\\?.*)?$\",src)\n",
    "    return m.group(1) if m else None\n",
    "\n",
    "def build_product_url(pid:str | None) -> str:\n",
    "    return f\"https://www.musinsa.com/products/{}\"\n"
   ]
  }
 ],
 "metadata": {
  "kernelspec": {
   "display_name": "Python [conda env:base] *",
   "language": "python",
   "name": "conda-base-py"
  },
  "language_info": {
   "codemirror_mode": {
    "name": "ipython",
    "version": 3
   },
   "file_extension": ".py",
   "mimetype": "text/x-python",
   "name": "python",
   "nbconvert_exporter": "python",
   "pygments_lexer": "ipython3",
   "version": "3.13.5"
  }
 },
 "nbformat": 4,
 "nbformat_minor": 5
}
