{
 "cells": [
  {
   "cell_type": "markdown",
   "id": "fc264fec-5765-4569-bdc2-ed51694ace03",
   "metadata": {},
   "source": [
    "# lambda 식 예시"
   ]
  },
  {
   "cell_type": "code",
   "execution_count": 2,
   "id": "1366e9f3-c9b0-4661-bb20-e80ca505b334",
   "metadata": {},
   "outputs": [
    {
     "name": "stdout",
     "output_type": "stream",
     "text": [
      "3\n",
      "16\n",
      "1335664\n"
     ]
    }
   ],
   "source": [
    "# 함수 선언문의 시작!\n",
    "# 더하는 함수문 만들기\n",
    "# a 와 b 를 더하는 함수를 add라는 함수'명'으로 저장\n",
    "def add(a,b) :\n",
    "    return a + b # 반환 : 종결과 동시에 a와 b를 더한값을 반환해라! \n",
    "\n",
    "#함수 호출\n",
    "print(add(1,2))\n",
    "\n",
    "print(add(7,9))\n",
    "print(add(879543,456121))\n"
   ]
  },
  {
   "cell_type": "code",
   "execution_count": 3,
   "id": "90b08dc5-e3f1-4e93-99a5-24a17540cdbe",
   "metadata": {},
   "outputs": [
    {
     "name": "stdout",
     "output_type": "stream",
     "text": [
      "3\n"
     ]
    }
   ],
   "source": [
    "# 한번쓰고 말 함수 -> 함수'문'으로 만들 필요가 없음! 메모리도 적게쓰고 시간적 가성비!\n",
    "# 람다'식' 으로 변환가능 = 익명함수 ( 함수의 이름을 없애는 대신에 해당 함수를 어떠한 변수안에 넣어줘야함!)\n",
    "\n",
    "add = lambda a,b : a + b #람다식은 add라는 변수명으로 결과값을 넣어줌! / return을 쓰지 않음. \n",
    "print(add(1,2))"
   ]
  },
  {
   "cell_type": "code",
   "execution_count": null,
   "id": "e20d7f8f-c66b-4806-86db-4dadede10c7a",
   "metadata": {},
   "outputs": [],
   "source": [
    "#################### python_pandas 10 국기 ########################### "
   ]
  },
  {
   "cell_type": "code",
   "execution_count": 5,
   "id": "7d9e430f-2ffe-40cf-822e-ea0c159b4e93",
   "metadata": {},
   "outputs": [
    {
     "name": "stdout",
     "output_type": "stream",
     "text": [
      "https://public.flourish.studio/country-flags/svg/kr.svg\n"
     ]
    }
   ],
   "source": [
    "# 국기 링크 예시\n",
    "\n",
    "iso2 = \"KR\"\n",
    "#flag_link = \"https://public.flourish.studio/country-flags/svg/\" + iso2 + \"kr.svg\" # 옛날 문법\n",
    "flag_link = f\"https://public.flourish.studio/country-flags/svg/{iso2.lower()}.svg\" # lower로 대문자를 소문자로 바꿔줘야함! (<-> upper 대문자)\n",
    "\n",
    "print(flag_link) "
   ]
  },
  {
   "cell_type": "code",
   "execution_count": 6,
   "id": "a66d4d91-d0b1-4d9d-bfcd-875deeb4f781",
   "metadata": {},
   "outputs": [],
   "source": [
    "# 국기 링크 자동완성 함수 생성\n",
    "def create_flag_link(column) : #colmn에는 국가이름\n",
    "    flag_link = f\"https://public.flourish.studio/country-flags/svg/{column.lower()}.svg\"\n",
    "    print(flag_link)\n",
    "    return flag_link"
   ]
  },
  {
   "cell_type": "code",
   "execution_count": 7,
   "id": "fc6302e0-6d5c-4e66-b442-aee1cb308c14",
   "metadata": {},
   "outputs": [
    {
     "name": "stdout",
     "output_type": "stream",
     "text": [
      "https://public.flourish.studio/country-flags/svg/kr.svg\n"
     ]
    },
    {
     "data": {
      "text/plain": [
       "'https://public.flourish.studio/country-flags/svg/kr.svg'"
      ]
     },
     "execution_count": 7,
     "metadata": {},
     "output_type": "execute_result"
    }
   ],
   "source": [
    "create_flag_link(\"KR\")"
   ]
  }
 ],
 "metadata": {
  "kernelspec": {
   "display_name": "Python [conda env:base] *",
   "language": "python",
   "name": "conda-base-py"
  },
  "language_info": {
   "codemirror_mode": {
    "name": "ipython",
    "version": 3
   },
   "file_extension": ".py",
   "mimetype": "text/x-python",
   "name": "python",
   "nbconvert_exporter": "python",
   "pygments_lexer": "ipython3",
   "version": "3.13.5"
  }
 },
 "nbformat": 4,
 "nbformat_minor": 5
}
