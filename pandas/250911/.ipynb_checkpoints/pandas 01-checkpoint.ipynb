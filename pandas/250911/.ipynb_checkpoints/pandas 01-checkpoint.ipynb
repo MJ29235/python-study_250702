{
 "cells": [
  {
   "cell_type": "markdown",
   "id": "dacac323-1a0b-4ade-9208-43764a216d97",
   "metadata": {},
   "source": [
    "# pandas 라이브러리 : 전처리 & 기본 그래프 시각화에 최적화"
   ]
  },
  {
   "cell_type": "markdown",
   "id": "b3f9c605-c627-4480-8ae1-32a9d248415f",
   "metadata": {},
   "source": [
    "### 파일 처리 내장함수\n",
    "\n",
    "- **open**(인자값 1,인자값 2 ,인자값 2 ) : 실행하고자하는 파일경로, 파일처리 모드 옵션, 인코딩 옵션\n",
    "\n",
    "### 파일 처리 모드 옵션\n",
    "\n",
    "모드 \n",
    "\n",
    "**r** (read)\n",
    "\n",
    "**w** (write, 쓰기모드) 기존파일에서 어떤 값을 쓰기위한 목적 \n",
    "\n",
    "**a** (add) 새로운 데이터를 추가\n",
    "\n",
    "### 인코딩 옵션\n",
    "\n",
    "컴퓨터를 통해서 주고 받는 문서 파일. 기본적으로 영어 \n",
    "\n",
    "우리는 한글 + 특수문자 + 이모지를 사용. 이를 인코딩하지 않으면 알아볼 수 없음. 우리의 언어로 작성한 문자열 → 인코딩 → 컴퓨터가 작업할 수 있는 언어가 됨! → 작업한 결과물을 다시 디코딩해서  사람이 알아볼 수 있는 자료로 바꿔줌!\n",
    "\n",
    "이때 사용되는 문법이 utf-8 규약을 지키는데 인식시키는 문법 **utf-8-sig**\n",
    "\n",
    "### 파일 포맷\n",
    "\n",
    "데이터 분야에서 가장 빈번하게 사용하는 포맷\n",
    "→ CSV. json, xml\n",
    "\n",
    "- **CSV** : comma-seperated values 엑셀의 형태. 행&열의 형태 → 데이터를 다루는 사람들이 많이 사용. 실제 데이터 취급시 정말 많이 볼 수 있는 데이터 포맷 양식. -> 피그마의 테이블을 만들때 유리함!\n",
    "- **json** : 프론트 &백엔드 개발  → 개발자들이 주로 사용\n",
    "- **xml** : 크롤링하거나 API값을 끌어오고자 할 때 주로사용."
   ]
  }
 ],
 "metadata": {
  "kernelspec": {
   "display_name": "Python [conda env:base] *",
   "language": "python",
   "name": "conda-base-py"
  },
  "language_info": {
   "codemirror_mode": {
    "name": "ipython",
    "version": 3
   },
   "file_extension": ".py",
   "mimetype": "text/x-python",
   "name": "python",
   "nbconvert_exporter": "python",
   "pygments_lexer": "ipython3",
   "version": "3.13.5"
  }
 },
 "nbformat": 4,
 "nbformat_minor": 5
}
