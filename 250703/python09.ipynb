{
 "cells": [
  {
   "cell_type": "code",
   "execution_count": null,
   "id": "0ac36945-ed8b-4df5-8c4a-813fce774537",
   "metadata": {},
   "outputs": [],
   "source": [
    "구구단 2~9단까지 출력\n",
    "형태는 \n",
    "2 X 1 =2\n",
    ".\n",
    ".\n",
    ".\n",
    "3 X 1 = 3\n",
    ".\n",
    ".\n",
    ".\n",
    "9 X 9 =81\n",
    "\n",
    "사용자에게 값을 받지 않음."
   ]
  },
  {
   "cell_type": "markdown",
   "id": "e84cdc79-a585-4f84-8327-d1276dd37055",
   "metadata": {},
   "source": [
    "숫자의 범위를 정하고 형태를 이어붙여서 도출하려면 앞의 숫자와 뒤의 숫자를 다르게 설정하고 앞에 숫자가 0-9 뒤에도 0-9로 모든 경우의 수를 출력하면됨."
   ]
  },
  {
   "cell_type": "code",
   "execution_count": 10,
   "id": "b0074ef9-c4b3-4d00-b709-b25866ebaba8",
   "metadata": {},
   "outputs": [
    {
     "name": "stdout",
     "output_type": "stream",
     "text": [
      "2 X 2 = 2\n",
      "3 X 3 = 3\n",
      "4 X 4 = 4\n",
      "5 X 5 = 5\n",
      "6 X 6 = 6\n",
      "7 X 7 = 7\n",
      "8 X 8 = 8\n",
      "9 X 9 = 9\n"
     ]
    }
   ],
   "source": [
    "for dan in range (2, 10):\n",
    "    print(f\"{dan} X {dan} = {dan}\")"
   ]
  }
 ],
 "metadata": {
  "kernelspec": {
   "display_name": "Python [conda env:base] *",
   "language": "python",
   "name": "conda-base-py"
  },
  "language_info": {
   "codemirror_mode": {
    "name": "ipython",
    "version": 3
   },
   "file_extension": ".py",
   "mimetype": "text/x-python",
   "name": "python",
   "nbconvert_exporter": "python",
   "pygments_lexer": "ipython3",
   "version": "3.13.5"
  }
 },
 "nbformat": 4,
 "nbformat_minor": 5
}
