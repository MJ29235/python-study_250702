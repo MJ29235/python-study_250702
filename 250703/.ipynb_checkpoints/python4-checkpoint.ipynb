{
 "cells": [
  {
   "cell_type": "markdown",
   "id": "8a754b3d-cfbb-4f37-bf08-0ff505d3aab9",
   "metadata": {},
   "source": [
    "# 사용자로부터 점수를 입력받은 후 등급을 출력하세요.\n",
    "- (A : 100~81, B : 80~61, C : 60~0)"
   ]
  },
  {
   "cell_type": "code",
   "execution_count": 3,
   "id": "24464067-655e-4029-ab93-eefbb6f60408",
   "metadata": {
    "scrolled": true
   },
   "outputs": [
    {
     "name": "stdin",
     "output_type": "stream",
     "text": [
      "점수 61\n"
     ]
    },
    {
     "name": "stdout",
     "output_type": "stream",
     "text": [
      "B\n"
     ]
    }
   ],
   "source": [
    "score = int(input(\"점수\"))\n",
    "\n",
    "if score>=81 and score <= 100 :\n",
    "    print(\"A\")\n",
    "elif score >= 61 :\n",
    "    print(\"B\")\n",
    "else :\n",
    "    print(\"C\")"
   ]
  },
  {
   "cell_type": "code",
   "execution_count": 7,
   "id": "3342c386-edec-4d11-a28f-3df9e430dc20",
   "metadata": {
    "scrolled": true
   },
   "outputs": [
    {
     "name": "stdin",
     "output_type": "stream",
     "text": [
      "주민등록번호 앞지리 입력하세요 960128\n"
     ]
    },
    {
     "name": "stdout",
     "output_type": "stream",
     "text": [
      "96 년생\n"
     ]
    }
   ],
   "source": [
    "civil = input(\"주민등록번호 앞지리 입력하세요\")\n",
    "age =civil[0:2]\n",
    "print(age, \"년생\")"
   ]
  },
  {
   "cell_type": "markdown",
   "id": "6757a2d4-3e3e-446d-8ab4-f84bd57d4030",
   "metadata": {},
   "source": [
    "- 사용자로부터 주민등록번호를 입력받아 성별을 남성 또는 여성으로 출력해주세요. 주민등록번호 뒷자리의 숫자가 1인경우 남성, 뒷자리가 2로 시작되는경우에는 여성"
   ]
  },
  {
   "cell_type": "code",
   "execution_count": 34,
   "id": "026c6089-c388-4dd9-9113-b842e2bd9e70",
   "metadata": {},
   "outputs": [
    {
     "name": "stdin",
     "output_type": "stream",
     "text": [
      "주민등록번호 14\n"
     ]
    },
    {
     "name": "stdout",
     "output_type": "stream",
     "text": [
      "['14']\n"
     ]
    },
    {
     "ename": "IndexError",
     "evalue": "string index out of range",
     "output_type": "error",
     "traceback": [
      "\u001b[1;31m---------------------------------------------------------------------------\u001b[0m",
      "\u001b[1;31mIndexError\u001b[0m                                Traceback (most recent call last)",
      "Cell \u001b[1;32mIn[34], line 5\u001b[0m\n\u001b[0;32m      2\u001b[0m civil \u001b[38;5;241m=\u001b[39m data\u001b[38;5;241m.\u001b[39msplit(\u001b[38;5;124m\"\u001b[39m\u001b[38;5;124m-\u001b[39m\u001b[38;5;124m\"\u001b[39m)\n\u001b[0;32m      3\u001b[0m \u001b[38;5;28mprint\u001b[39m(civil)\n\u001b[1;32m----> 5\u001b[0m \u001b[38;5;28;01mif\u001b[39;00m data[\u001b[38;5;241m9\u001b[39m] \u001b[38;5;241m==\u001b[39m \u001b[38;5;241m1\u001b[39m :\n\u001b[0;32m      6\u001b[0m     \u001b[38;5;28mprint\u001b[39m(\u001b[38;5;124m\"\u001b[39m\u001b[38;5;124m남성\u001b[39m\u001b[38;5;124m\"\u001b[39m)\n\u001b[0;32m      7\u001b[0m \u001b[38;5;28;01melse\u001b[39;00m :\n",
      "\u001b[1;31mIndexError\u001b[0m: string index out of range"
     ]
    }
   ],
   "source": [
    "data = input(\"주민등록번호\")\n",
    "civil = data.split(\"-\")\n",
    "print(civil)\n",
    "\n",
    "if data[9] == 1 :\n",
    "    print(\"남성\")\n",
    "else :\n",
    "    print(\"여성\")"
   ]
  },
  {
   "cell_type": "code",
   "execution_count": 40,
   "id": "e4e75434-d472-4da7-b878-2e05a1329e28",
   "metadata": {},
   "outputs": [
    {
     "name": "stdin",
     "output_type": "stream",
     "text": [
      "주민등록번호 800000-200000\n"
     ]
    },
    {
     "name": "stdout",
     "output_type": "stream",
     "text": [
      "여성\n"
     ]
    }
   ],
   "source": [
    "data = input(\"주민등록번호\")\n",
    "\n",
    "gender = data.split(\"-\")[1][0]\n",
    "gender\n",
    "\n",
    "if gender == 1 :\n",
    "    print(\"남성\")\n",
    "else :\n",
    "    print(\"여성\")"
   ]
  },
  {
   "cell_type": "code",
   "execution_count": 10,
   "id": "2368cd13-ba29-4dd1-8015-9a12c53c91d9",
   "metadata": {},
   "outputs": [
    {
     "name": "stdin",
     "output_type": "stream",
     "text": [
      "주민등록번호 앞지리 입력하세요 960128\n"
     ]
    },
    {
     "name": "stdout",
     "output_type": "stream",
     "text": [
      "96,년생\n"
     ]
    }
   ],
   "source": [
    "civil = input(\"주민등록번호 앞지리 입력하세요\")\n",
    "age =civil[0:2]\n",
    "print(f\"{age}년생\")"
   ]
  },
  {
   "cell_type": "code",
   "execution_count": 26,
   "id": "77a4d3e0-ff00-4b1e-825a-52675de3fd26",
   "metadata": {},
   "outputs": [
    {
     "name": "stdin",
     "output_type": "stream",
     "text": [
      "주민등록번호 입력하세요 960128\n"
     ]
    },
    {
     "name": "stdout",
     "output_type": "stream",
     "text": [
      "96년생\n"
     ]
    }
   ],
   "source": [
    "civil = input(\"주민등록번호 입력하세요\")\n",
    "#age = civil.split(\"-\")\n",
    "#age01 = age[0]\n",
    "print(f\"{civil.split(\"-\")[0][0:2]}년생\")"
   ]
  },
  {
   "cell_type": "code",
   "execution_count": 41,
   "id": "feff4e7d-5dc1-4746-b477-1520b0c44060",
   "metadata": {},
   "outputs": [
    {
     "name": "stdout",
     "output_type": "stream",
     "text": [
      "a man goes into the room\n"
     ]
    }
   ],
   "source": [
    "mystr = \"a man goes into the room...\"\n",
    "result = mystr.strip(\".\") #온점을 지운다.\n",
    "print(result)"
   ]
  },
  {
   "cell_type": "code",
   "execution_count": 45,
   "id": "b460fd7f-40bc-42e8-9de0-f1e4e789662c",
   "metadata": {},
   "outputs": [
    {
     "data": {
      "text/plain": [
       "'000770'"
      ]
     },
     "execution_count": 45,
     "metadata": {},
     "output_type": "execute_result"
    }
   ],
   "source": [
    "code = \"          000770\" #16개의 문자열이 존재함. 공백도 문자로 인식.\n",
    "#strip() : 문자열 앞.뒤 상관없이 공백이라고 판단되는 문자열(*공백, 개행, 탭 등등)을 모두 제거하는 역할을 하는 메서드 함수\n",
    "#공백 - 들여쓰기 줄여쓰기 등 / stripd()은 모든 공백을 없앤다.\n",
    "\n",
    "code = \"\\t000770\\n\" #\\t는 탭의약자, \\n은 new line의 약자->개행처리를 하겠다\n",
    "code.strip() #()가 비워잇으면 문자열인 공백을 제거함. 개행역할을 하는 \\n도 제거함\n"
   ]
  },
  {
   "cell_type": "code",
   "execution_count": 52,
   "id": "bd8981b4-cb5e-4c1c-9a43-1f41437ca4ad",
   "metadata": {},
   "outputs": [
    {
     "name": "stdout",
     "output_type": "stream",
     "text": [
      "3\n",
      "0\n"
     ]
    }
   ],
   "source": [
    "python_desc = \"\"\"\n",
    "Installing Python is generally easy, and nowadays many Linux and UNIX distributions include a recent Python. Even some Windows computers (notably those from HP) now come with Python already installed. \n",
    "\"\"\"\n",
    "print(python_desc.count(\"Python\"))\n",
    "print(python_desc.count(\"python\"))\n",
    "\n"
   ]
  },
  {
   "cell_type": "markdown",
   "id": "44f0b5a2-f3ef-40da-9007-f34999ffd4ab",
   "metadata": {},
   "source": [
    "- 사용자로부터 note라는 문자열을 받았을때, 해당 문자열 안에 알파벳 n이 들어가 있는지 확인 후 n이 들어가 있으면 숫자 0을 출력하고 그렇지 않다면 1을 출력하세요.\n",
    "- 도출된 인자값안에 n이 있으면 조건문으로 결과값을 출력하자"
   ]
  },
  {
   "cell_type": "code",
   "execution_count": 59,
   "id": "d19ec209-2faf-4db3-941f-497eb8424029",
   "metadata": {},
   "outputs": [
    {
     "name": "stdin",
     "output_type": "stream",
     "text": [
      " aarrr\n"
     ]
    },
    {
     "data": {
      "text/plain": [
       "0"
      ]
     },
     "execution_count": 59,
     "metadata": {},
     "output_type": "execute_result"
    }
   ],
   "source": [
    "letters = input()\n",
    "var = letters.find(\"a\") #.find(\"\")는 파이썬에서 숫자 0→ Truethy,  -1 → falsy\n",
    "var\n",
    "if var == 0 :\n",
    "    print(0)  \n",
    "else :\n",
    "    print(-1)\n"
   ]
  },
  {
   "cell_type": "markdown",
   "id": "7ca9aad8-a0eb-4227-92a1-3ce8da7a1aa6",
   "metadata": {},
   "source": [
    "- 사용자로부터 주민등록번호를 입력받은 후 사용자의 출생지가 어디인지 확인 후 출력해주세요. 주민등록번호중 뒤 8자리 중에서 첫번째 자리가 성별이고, 두번째숫자부터 세번째까지가 출생지를 의미하는 숫자이다.\n",
    "- 00~08 : 서울, 09~12 : 부산"
   ]
  },
  {
   "cell_type": "code",
   "execution_count": 69,
   "id": "3a112940-0a2c-4a9f-83d0-dcdc58ff90bb",
   "metadata": {},
   "outputs": [
    {
     "name": "stdin",
     "output_type": "stream",
     "text": [
      "주민번호 806554-105454\n"
     ]
    },
    {
     "name": "stdout",
     "output_type": "stream",
     "text": [
      "서울\n"
     ]
    }
   ],
   "source": [
    "civnum = input(\"주민번호\")\n",
    "data = civnum.split(\"-\")[1][1:3]\n",
    "data = int(data)\n",
    "\n",
    "if data >0 and data <9:\n",
    "    print(\"서울\")\n",
    "elif data >9 and data<=12 :\n",
    "    print(\"부산\") "
   ]
  },
  {
   "cell_type": "code",
   "execution_count": 77,
   "id": "62836d03-9f62-49e6-a920-e1fa65ca15cf",
   "metadata": {},
   "outputs": [
    {
     "name": "stdout",
     "output_type": "stream",
     "text": [
      "부산 출생입니다\n"
     ]
    }
   ],
   "source": [
    "data = \"806554-212454\"\n",
    "\n",
    "location = int(data.split(\"-\")[1][1:3]) #여기까지하면 '12'라고 나옴. 이것은 문자열이라는 표시! -문자열로 비교가능한가?\n",
    "type(location)\n",
    "\n",
    "if location >=0 and location <=8 :\n",
    "    print(\"서울 출생입니다\")\n",
    "elif location >= 9 and location <=12 :\n",
    "    print(\"부산 출생입니다\")"
   ]
  }
 ],
 "metadata": {
  "kernelspec": {
   "display_name": "Python [conda env:base] *",
   "language": "python",
   "name": "conda-base-py"
  },
  "language_info": {
   "codemirror_mode": {
    "name": "ipython",
    "version": 3
   },
   "file_extension": ".py",
   "mimetype": "text/x-python",
   "name": "python",
   "nbconvert_exporter": "python",
   "pygments_lexer": "ipython3",
   "version": "3.13.5"
  }
 },
 "nbformat": 4,
 "nbformat_minor": 5
}
