{
 "cells": [
  {
   "cell_type": "markdown",
   "id": "f6f48adb-fe2e-4fac-b8ce-6c2f745c688c",
   "metadata": {},
   "source": [
    "### 함수(function)\n",
    "\n",
    "- 함수는 선언 & 호출 개념 -> 함수를 선언을 해야지 사용가능. "
   ]
  },
  {
   "cell_type": "code",
   "execution_count": 5,
   "id": "3ab43d89-8d6d-40dc-a6fa-b2113b2c3a27",
   "metadata": {},
   "outputs": [],
   "source": [
    "def func1() : #func1이라는 함수를 선언할 준비가 되었다. 어떠한 선언을 할것인가?\n",
    "    print(\"Hello\")\n",
    "    print(\"Hello\")\n",
    "    print(\"Hello\")\n",
    "    print(\"Hello\")"
   ]
  },
  {
   "cell_type": "code",
   "execution_count": 6,
   "id": "8104b8ef-dae1-495b-9eb7-03f18c45d060",
   "metadata": {},
   "outputs": [
    {
     "name": "stdout",
     "output_type": "stream",
     "text": [
      "Hello\n",
      "Hello\n",
      "Hello\n",
      "Hello\n"
     ]
    }
   ],
   "source": [
    "func1()"
   ]
  },
  {
   "cell_type": "code",
   "execution_count": 20,
   "id": "f8b134db-5f65-431d-aacf-d5fe357a9988",
   "metadata": {},
   "outputs": [],
   "source": [
    "def func2(parameter01,parameter02) :\n",
    "    print(f\"Hello, {parameter01}{parameter02}\")\n",
    "    return f\"Hello, {parameter01}{parameter02}\""
   ]
  },
  {
   "cell_type": "code",
   "execution_count": 22,
   "id": "3e856fe9-f067-4e15-a521-9bd516dcb09d",
   "metadata": {},
   "outputs": [
    {
     "name": "stdout",
     "output_type": "stream",
     "text": [
      "Hello, pythonworld\n"
     ]
    },
    {
     "data": {
      "text/plain": [
       "'Hello, pythonworld'"
      ]
     },
     "execution_count": 22,
     "metadata": {},
     "output_type": "execute_result"
    }
   ],
   "source": [
    "result = func2(\"python\", \"world\")\n",
    "result"
   ]
  },
  {
   "cell_type": "code",
   "execution_count": 10,
   "id": "afb535ca-9389-4dd9-81b2-fbd00728f638",
   "metadata": {},
   "outputs": [
    {
     "ename": "TypeError",
     "evalue": "func2() missing 1 required positional argument: 'parameter'",
     "output_type": "error",
     "traceback": [
      "\u001b[1;31m---------------------------------------------------------------------------\u001b[0m",
      "\u001b[1;31mTypeError\u001b[0m                                 Traceback (most recent call last)",
      "Cell \u001b[1;32mIn[10], line 1\u001b[0m\n\u001b[1;32m----> 1\u001b[0m func2()\n",
      "\u001b[1;31mTypeError\u001b[0m: func2() missing 1 required positional argument: 'parameter'"
     ]
    }
   ],
   "source": [
    "func2()"
   ]
  },
  {
   "cell_type": "code",
   "execution_count": 14,
   "id": "fe74fe0a-ebca-4f19-ae62-028078005ac2",
   "metadata": {},
   "outputs": [
    {
     "ename": "TypeError",
     "evalue": "func2() missing 1 required positional argument: 'parameter02'",
     "output_type": "error",
     "traceback": [
      "\u001b[1;31m---------------------------------------------------------------------------\u001b[0m",
      "\u001b[1;31mTypeError\u001b[0m                                 Traceback (most recent call last)",
      "Cell \u001b[1;32mIn[14], line 1\u001b[0m\n\u001b[1;32m----> 1\u001b[0m func2(\u001b[38;5;124m\"\u001b[39m\u001b[38;5;124mworld\u001b[39m\u001b[38;5;124m\"\u001b[39m)\n",
      "\u001b[1;31mTypeError\u001b[0m: func2() missing 1 required positional argument: 'parameter02'"
     ]
    }
   ],
   "source": [
    "func2(\"world\")"
   ]
  },
  {
   "cell_type": "code",
   "execution_count": 28,
   "id": "86ddb24c-ac03-40b7-aec6-7940a331a39f",
   "metadata": {},
   "outputs": [],
   "source": [
    "def sum(a,b) :\n",
    "    c = 1 #로컬변수 sum에 박혀있음.. 여기서만 쓸수 있음..\n",
    "    result02 = a+b\n",
    "    return(result02)\n",
    "a = 1  #<-전역변수= 프로그래밍 명령어  global 어디든 갈 수 있음"
   ]
  },
  {
   "cell_type": "code",
   "execution_count": 24,
   "id": "69c90828-def7-49be-af09-5f6252d4a6f4",
   "metadata": {},
   "outputs": [
    {
     "data": {
      "text/plain": [
       "3"
      ]
     },
     "execution_count": 24,
     "metadata": {},
     "output_type": "execute_result"
    }
   ],
   "source": [
    "sum(1,2)"
   ]
  },
  {
   "cell_type": "code",
   "execution_count": 26,
   "id": "f8a344fe-5c4b-4876-8790-31f59498226d",
   "metadata": {},
   "outputs": [
    {
     "data": {
      "text/plain": [
       "1"
      ]
     },
     "execution_count": 26,
     "metadata": {},
     "output_type": "execute_result"
    }
   ],
   "source": [
    "a #변수값 a를 찾아와라. #전역변수이기 때문에 찾아왔음\n"
   ]
  },
  {
   "cell_type": "code",
   "execution_count": 29,
   "id": "3bdc172d-c5c3-4723-ac49-85cdbf002429",
   "metadata": {},
   "outputs": [
    {
     "ename": "NameError",
     "evalue": "name 'result02' is not defined",
     "output_type": "error",
     "traceback": [
      "\u001b[1;31m---------------------------------------------------------------------------\u001b[0m",
      "\u001b[1;31mNameError\u001b[0m                                 Traceback (most recent call last)",
      "Cell \u001b[1;32mIn[29], line 1\u001b[0m\n\u001b[1;32m----> 1\u001b[0m result02\n",
      "\u001b[1;31mNameError\u001b[0m: name 'result02' is not defined"
     ]
    }
   ],
   "source": [
    "result02#오류난이유?변수라고 다 같은 변수가 아님"
   ]
  },
  {
   "cell_type": "code",
   "execution_count": 30,
   "id": "614132a2-9d0c-42c5-8db3-77a584384328",
   "metadata": {},
   "outputs": [
    {
     "name": "stdout",
     "output_type": "stream",
     "text": [
      "1\n",
      "2\n",
      "3\n"
     ]
    }
   ],
   "source": [
    "for item in [1,2,3,] :\n",
    "    print(item) # 여기 item -> 블록변수 = block"
   ]
  },
  {
   "cell_type": "code",
   "execution_count": 36,
   "id": "2e543a7d-ca6e-4a7f-a3cb-998f5f11a3d0",
   "metadata": {},
   "outputs": [],
   "source": [
    "def func7(a) :\n",
    "    b = a+1\n",
    "    return a,b"
   ]
  },
  {
   "cell_type": "code",
   "execution_count": 37,
   "id": "b6a690eb-df6c-4924-b31d-fa664902d2ad",
   "metadata": {},
   "outputs": [
    {
     "name": "stdout",
     "output_type": "stream",
     "text": [
      "(4, 5)\n",
      "<class 'tuple'>\n"
     ]
    }
   ],
   "source": [
    "result07 = func7 (4)\n",
    "print(result07)\n",
    "print(type(result07))"
   ]
  },
  {
   "cell_type": "code",
   "execution_count": 33,
   "id": "aad83074-0e67-4eca-8c86-17d63f0a482b",
   "metadata": {},
   "outputs": [
    {
     "name": "stdout",
     "output_type": "stream",
     "text": [
      "<class 'str'>\n",
      "<class 'int'>\n",
      "<class 'bool'>\n",
      "<class 'list'>\n"
     ]
    }
   ],
   "source": [
    "print(type(\"str\"))\n",
    "print(type(1))\n",
    "print(type(True))\n",
    "print(type([1,2,3,]))"
   ]
  },
  {
   "cell_type": "code",
   "execution_count": 45,
   "id": "0bcc86b0-6379-4c46-8c6b-1da99496b6a9",
   "metadata": {},
   "outputs": [],
   "source": [
    "def id_check(id) :\n",
    "    if id == \"admin\" :\n",
    "        print(\"incalid id : admin\") #아이디가 같다면 유해하지 않은\n",
    "        return #리턴만 쓰면 반환할 값은 없으니 그냥 종결시켜라! -> 여기서 종결시켰는데 왜 else 값도 나오지?\n",
    "        print(\"valid id : \", id)"
   ]
  },
  {
   "cell_type": "code",
   "execution_count": 50,
   "id": "2873cb77-e808-4a91-862c-6f051d08f2d6",
   "metadata": {},
   "outputs": [],
   "source": [
    "id_check(\"admin0\")"
   ]
  },
  {
   "cell_type": "code",
   "execution_count": 52,
   "id": "e2ea3368-9732-421b-8cf6-d927323323e4",
   "metadata": {},
   "outputs": [],
   "source": [
    "x=1 #x값을 y에 넣으려면?\n",
    "y=2\n",
    "\n"
   ]
  },
  {
   "cell_type": "markdown",
   "id": "9a76aa28-2344-4875-9f6a-f0a4b53ce033",
   "metadata": {},
   "source": [
    "temp = x #임시보관\n",
    "x=y #Y에 넣음\n",
    "y=temp"
   ]
  },
  {
   "cell_type": "code",
   "execution_count": null,
   "id": "8835ef80-b96a-4265-8c35-901622ab8074",
   "metadata": {},
   "outputs": [],
   "source": []
  }
 ],
 "metadata": {
  "kernelspec": {
   "display_name": "Python [conda env:base] *",
   "language": "python",
   "name": "conda-base-py"
  },
  "language_info": {
   "codemirror_mode": {
    "name": "ipython",
    "version": 3
   },
   "file_extension": ".py",
   "mimetype": "text/x-python",
   "name": "python",
   "nbconvert_exporter": "python",
   "pygments_lexer": "ipython3",
   "version": "3.13.5"
  }
 },
 "nbformat": 4,
 "nbformat_minor": 5
}
