{
 "cells": [
  {
   "cell_type": "code",
   "execution_count": 6,
   "id": "cb725f2d-2f05-49ff-afb9-a11905985b53",
   "metadata": {},
   "outputs": [
    {
     "name": "stdout",
     "output_type": "stream",
     "text": [
      "<class 'list'>\n",
      "<class 'tuple'>\n"
     ]
    }
   ],
   "source": [
    "listitems = []\n",
    "tupleitems = (1,2,3) #튜플은 값을 넣을 수 없기때문ㅇ ㅔ애초에 넣어놔야함.\n",
    "\n",
    "print(type(listitems))\n",
    "print(type(tupleitems))"
   ]
  },
  {
   "cell_type": "code",
   "execution_count": 7,
   "id": "57ddd567-8f04-4e46-9300-1daf3d1a2915",
   "metadata": {},
   "outputs": [
    {
     "name": "stdout",
     "output_type": "stream",
     "text": [
      "1\n",
      "2\n",
      "3\n"
     ]
    }
   ],
   "source": [
    "for item in tupleitems :\n",
    "    print(item)"
   ]
  },
  {
   "cell_type": "code",
   "execution_count": 8,
   "id": "8c982456-18ca-48eb-8ff6-bb114b40132d",
   "metadata": {},
   "outputs": [
    {
     "ename": "SyntaxError",
     "evalue": "invalid syntax (1637383938.py, line 1)",
     "output_type": "error",
     "traceback": [
      "\u001b[1;36m  Cell \u001b[1;32mIn[8], line 1\u001b[1;36m\u001b[0m\n\u001b[1;33m    del.tupleitems\u001b[0m\n\u001b[1;37m       ^\u001b[0m\n\u001b[1;31mSyntaxError\u001b[0m\u001b[1;31m:\u001b[0m invalid syntax\n"
     ]
    }
   ],
   "source": [
    "del.tupleitems"
   ]
  },
  {
   "cell_type": "code",
   "execution_count": 9,
   "id": "51e0b92d-b07a-4c16-9362-c7ba22100ca0",
   "metadata": {},
   "outputs": [
    {
     "ename": "AttributeError",
     "evalue": "'tuple' object has no attribute 'append'",
     "output_type": "error",
     "traceback": [
      "\u001b[1;31m---------------------------------------------------------------------------\u001b[0m",
      "\u001b[1;31mAttributeError\u001b[0m                            Traceback (most recent call last)",
      "Cell \u001b[1;32mIn[9], line 1\u001b[0m\n\u001b[1;32m----> 1\u001b[0m tupleitems\u001b[38;5;241m.\u001b[39mappend(\u001b[38;5;241m4\u001b[39m)\n",
      "\u001b[1;31mAttributeError\u001b[0m: 'tuple' object has no attribute 'append'"
     ]
    }
   ],
   "source": [
    "tupleitems.append(4)"
   ]
  },
  {
   "cell_type": "code",
   "execution_count": 10,
   "id": "f173344a-21b4-4be0-ab01-d1d0a0bddc4d",
   "metadata": {},
   "outputs": [
    {
     "ename": "TypeError",
     "evalue": "'tuple' object does not support item assignment",
     "output_type": "error",
     "traceback": [
      "\u001b[1;31m---------------------------------------------------------------------------\u001b[0m",
      "\u001b[1;31mTypeError\u001b[0m                                 Traceback (most recent call last)",
      "Cell \u001b[1;32mIn[10], line 1\u001b[0m\n\u001b[1;32m----> 1\u001b[0m tupleitems[\u001b[38;5;241m4\u001b[39m]\u001b[38;5;241m=\u001b[39m\u001b[38;5;241m4\u001b[39m\n",
      "\u001b[1;31mTypeError\u001b[0m: 'tuple' object does not support item assignment"
     ]
    }
   ],
   "source": [
    "tupleitems[4]=4"
   ]
  },
  {
   "cell_type": "code",
   "execution_count": 15,
   "id": "ddb4c55a-7483-41ea-8620-7ff6f0838bbb",
   "metadata": {},
   "outputs": [
    {
     "ename": "NameError",
     "evalue": "name 'touple02' is not defined",
     "output_type": "error",
     "traceback": [
      "\u001b[1;31m---------------------------------------------------------------------------\u001b[0m",
      "\u001b[1;31mNameError\u001b[0m                                 Traceback (most recent call last)",
      "Cell \u001b[1;32mIn[15], line 4\u001b[0m\n\u001b[0;32m      1\u001b[0m tuple01 \u001b[38;5;241m=\u001b[39m(\u001b[38;5;241m1\u001b[39m,\u001b[38;5;241m2\u001b[39m)\n\u001b[0;32m      2\u001b[0m tuple02 \u001b[38;5;241m=\u001b[39m(\u001b[38;5;241m3\u001b[39m,\u001b[38;5;241m4\u001b[39m)\n\u001b[1;32m----> 4\u001b[0m \u001b[38;5;28mprint\u001b[39m(((tuple01 \u001b[38;5;241m+\u001b[39m tuple02)\u001b[38;5;241m*\u001b[39m\u001b[38;5;241m3\u001b[39m)\u001b[38;5;241m-\u001b[39mtouple02)\n\u001b[0;32m      5\u001b[0m \u001b[38;5;28mprint\u001b[39m(tuple01\u001b[38;5;241m*\u001b[39m\u001b[38;5;241m3\u001b[39m)\n",
      "\u001b[1;31mNameError\u001b[0m: name 'touple02' is not defined"
     ]
    }
   ],
   "source": [
    "tuple01 =(1,2)\n",
    "tuple02 =(3,4)\n",
    "\n",
    "print(((tuple01 + tuple02)*3)-touple02)\n",
    "print(tuple01*3)"
   ]
  },
  {
   "cell_type": "code",
   "execution_count": 16,
   "id": "314fb312-c2ed-4ff9-9549-e8509fa0f262",
   "metadata": {},
   "outputs": [],
   "source": [
    "x=1 #x값을 y에 넣으려면?\n",
    "y=2\n"
   ]
  },
  {
   "cell_type": "markdown",
   "id": "c4556341-fe7d-4d6b-a315-a8242ef0608c",
   "metadata": {},
   "source": [
    "temp = x #임시보관\n",
    "x=y #Y에 넣음\n",
    "y=temp"
   ]
  },
  {
   "cell_type": "markdown",
   "id": "00f9daa4-80ab-47f9-98c6-9b4ab4a06c6c",
   "metadata": {},
   "source": [
    "x, y =y,x"
   ]
  },
  {
   "cell_type": "code",
   "execution_count": 19,
   "id": "435ca739-0cc3-46bb-a30c-7250cb594cc7",
   "metadata": {},
   "outputs": [
    {
     "data": {
      "text/plain": [
       "2"
      ]
     },
     "execution_count": 19,
     "metadata": {},
     "output_type": "execute_result"
    }
   ],
   "source": [
    "x, y =y,x #소괄호를 생략해도 알아서 이 값을 튜플로 인식하고 있음"
   ]
  },
  {
   "cell_type": "code",
   "execution_count": 28,
   "id": "cf7dac42-ed10-4b58-a06a-f34ba93afd93",
   "metadata": {},
   "outputs": [],
   "source": [
    "def quot_and_rem(x,y) :\n",
    "    quot = x // y\n",
    "    rem = x%y\n",
    "    return quot, rem\n"
   ]
  },
  {
   "cell_type": "code",
   "execution_count": 30,
   "id": "9fc23bc5-b94d-49d1-b1e0-93313144bc14",
   "metadata": {},
   "outputs": [],
   "source": [
    "(quot01, rem01) = quot_and_rem(10,3)"
   ]
  },
  {
   "cell_type": "code",
   "execution_count": 32,
   "id": "2484aab7-2215-45f9-b4a8-627dacb34cb3",
   "metadata": {},
   "outputs": [
    {
     "data": {
      "text/plain": [
       "3"
      ]
     },
     "execution_count": 32,
     "metadata": {},
     "output_type": "execute_result"
    }
   ],
   "source": [
    "quot01"
   ]
  },
  {
   "cell_type": "code",
   "execution_count": 33,
   "id": "4218c0a8-f54c-4b2c-9e39-53da8277f90d",
   "metadata": {},
   "outputs": [
    {
     "data": {
      "text/plain": [
       "1"
      ]
     },
     "execution_count": 33,
     "metadata": {},
     "output_type": "execute_result"
    }
   ],
   "source": [
    "rem01"
   ]
  },
  {
   "cell_type": "code",
   "execution_count": 34,
   "id": "38c3d5bc-8a58-41ac-b356-0da08d755726",
   "metadata": {
    "jupyter": {
     "source_hidden": true
    }
   },
   "outputs": [
    {
     "data": {
      "text/plain": [
       "tuple"
      ]
     },
     "execution_count": 34,
     "metadata": {},
     "output_type": "execute_result"
    }
   ],
   "source": [
    "data1 = (1,2,3)\n",
    "type(data1)"
   ]
  },
  {
   "cell_type": "code",
   "execution_count": 39,
   "id": "f9d16f74-a1ea-4a48-bb22-3ed257aa3d4a",
   "metadata": {
    "scrolled": true
   },
   "outputs": [
    {
     "name": "stdout",
     "output_type": "stream",
     "text": [
      "<class 'list'>\n"
     ]
    },
    {
     "data": {
      "text/plain": [
       "[1, 2, 3]"
      ]
     },
     "execution_count": 39,
     "metadata": {},
     "output_type": "execute_result"
    }
   ],
   "source": [
    "data_list = list(data1)\n",
    "print(type(data_list))\n",
    "data_list #->이제 수정.편집.삭제 가능!"
   ]
  }
 ],
 "metadata": {
  "kernelspec": {
   "display_name": "Python [conda env:base] *",
   "language": "python",
   "name": "conda-base-py"
  },
  "language_info": {
   "codemirror_mode": {
    "name": "ipython",
    "version": 3
   },
   "file_extension": ".py",
   "mimetype": "text/x-python",
   "name": "python",
   "nbconvert_exporter": "python",
   "pygments_lexer": "ipython3",
   "version": "3.13.5"
  }
 },
 "nbformat": 4,
 "nbformat_minor": 5
}
