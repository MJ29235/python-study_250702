{
 "cells": [
  {
   "cell_type": "code",
   "execution_count": 27,
   "id": "43e0b214-be4f-4f92-8274-1ee00748aca2",
   "metadata": {},
   "outputs": [
    {
     "name": "stdin",
     "output_type": "stream",
     "text": [
      "what is your name? mj\n"
     ]
    },
    {
     "name": "stdout",
     "output_type": "stream",
     "text": [
      "Hi~ mj!! ‘where is foo?'\n"
     ]
    },
    {
     "name": "stdin",
     "output_type": "stream",
     "text": [
      "what is your name? die\n"
     ]
    },
    {
     "name": "stdout",
     "output_type": "stream",
     "text": [
      "Hi~ die!! ‘where is foo?'\n"
     ]
    },
    {
     "name": "stdin",
     "output_type": "stream",
     "text": [
      "what is your name? die\n"
     ]
    },
    {
     "name": "stdout",
     "output_type": "stream",
     "text": [
      "Hi~ die!! ‘where is foo?'\n"
     ]
    },
    {
     "name": "stdin",
     "output_type": "stream",
     "text": [
      "what is your name? ie\n"
     ]
    },
    {
     "name": "stdout",
     "output_type": "stream",
     "text": [
      "Hi~ ie!! ‘where is foo?'\n"
     ]
    },
    {
     "name": "stdin",
     "output_type": "stream",
     "text": [
      "what is your name? sd\n"
     ]
    },
    {
     "name": "stdout",
     "output_type": "stream",
     "text": [
      "Hi~ sd!! ‘where is foo?'\n"
     ]
    },
    {
     "name": "stdin",
     "output_type": "stream",
     "text": [
      "what is your name? asd\n"
     ]
    },
    {
     "name": "stdout",
     "output_type": "stream",
     "text": [
      "Hi~ asd!! ‘where is foo?'\n"
     ]
    },
    {
     "name": "stdin",
     "output_type": "stream",
     "text": [
      "what is your name? sad\n"
     ]
    },
    {
     "name": "stdout",
     "output_type": "stream",
     "text": [
      "Hi~ sad!! ‘where is foo?'\n"
     ]
    },
    {
     "name": "stdin",
     "output_type": "stream",
     "text": [
      "what is your name? \n"
     ]
    },
    {
     "name": "stdout",
     "output_type": "stream",
     "text": [
      "Hi~ !! ‘where is foo?'\n"
     ]
    },
    {
     "name": "stdin",
     "output_type": "stream",
     "text": [
      "what is your name? da\n"
     ]
    },
    {
     "name": "stdout",
     "output_type": "stream",
     "text": [
      "Hi~ da!! ‘where is foo?'\n"
     ]
    },
    {
     "name": "stdin",
     "output_type": "stream",
     "text": [
      "what is your name? \n"
     ]
    },
    {
     "name": "stdout",
     "output_type": "stream",
     "text": [
      "Hi~ !! ‘where is foo?'\n"
     ]
    },
    {
     "name": "stdin",
     "output_type": "stream",
     "text": [
      "what is your name? w\n"
     ]
    },
    {
     "name": "stdout",
     "output_type": "stream",
     "text": [
      "Hi~ w!! ‘where is foo?'\n"
     ]
    },
    {
     "ename": "KeyboardInterrupt",
     "evalue": "Interrupted by user",
     "output_type": "error",
     "traceback": [
      "\u001b[1;31m---------------------------------------------------------------------------\u001b[0m",
      "\u001b[1;31mKeyboardInterrupt\u001b[0m                         Traceback (most recent call last)",
      "Cell \u001b[1;32mIn[27], line 3\u001b[0m\n\u001b[0;32m      1\u001b[0m name \u001b[38;5;241m=\u001b[39m \u001b[38;5;124m\"\u001b[39m\u001b[38;5;124m\"\u001b[39m\n\u001b[0;32m      2\u001b[0m \u001b[38;5;28;01mwhile\u001b[39;00m name \u001b[38;5;241m!=\u001b[39m \u001b[38;5;124m\"\u001b[39m\u001b[38;5;124mfoo\u001b[39m\u001b[38;5;124m\"\u001b[39m :\n\u001b[1;32m----> 3\u001b[0m     name \u001b[38;5;241m=\u001b[39m \u001b[38;5;28minput\u001b[39m(\u001b[38;5;124m\"\u001b[39m\u001b[38;5;124mwhat is your name?\u001b[39m\u001b[38;5;124m\"\u001b[39m)\n\u001b[0;32m      4\u001b[0m     \u001b[38;5;28mprint\u001b[39m(\u001b[38;5;124mf\u001b[39m\u001b[38;5;124m\"\u001b[39m\u001b[38;5;124mHi~ \u001b[39m\u001b[38;5;132;01m{\u001b[39;00mname\u001b[38;5;132;01m}\u001b[39;00m\u001b[38;5;124m!! ‘where is foo?\u001b[39m\u001b[38;5;124m'\u001b[39m\u001b[38;5;124m\"\u001b[39m)\n",
      "File \u001b[1;32m~\\anaconda3\\Lib\\site-packages\\ipykernel\\kernelbase.py:1282\u001b[0m, in \u001b[0;36mKernel.raw_input\u001b[1;34m(self, prompt)\u001b[0m\n\u001b[0;32m   1280\u001b[0m     msg \u001b[38;5;241m=\u001b[39m \u001b[38;5;124m\"\u001b[39m\u001b[38;5;124mraw_input was called, but this frontend does not support input requests.\u001b[39m\u001b[38;5;124m\"\u001b[39m\n\u001b[0;32m   1281\u001b[0m     \u001b[38;5;28;01mraise\u001b[39;00m StdinNotImplementedError(msg)\n\u001b[1;32m-> 1282\u001b[0m \u001b[38;5;28;01mreturn\u001b[39;00m \u001b[38;5;28mself\u001b[39m\u001b[38;5;241m.\u001b[39m_input_request(\n\u001b[0;32m   1283\u001b[0m     \u001b[38;5;28mstr\u001b[39m(prompt),\n\u001b[0;32m   1284\u001b[0m     \u001b[38;5;28mself\u001b[39m\u001b[38;5;241m.\u001b[39m_parent_ident[\u001b[38;5;124m\"\u001b[39m\u001b[38;5;124mshell\u001b[39m\u001b[38;5;124m\"\u001b[39m],\n\u001b[0;32m   1285\u001b[0m     \u001b[38;5;28mself\u001b[39m\u001b[38;5;241m.\u001b[39mget_parent(\u001b[38;5;124m\"\u001b[39m\u001b[38;5;124mshell\u001b[39m\u001b[38;5;124m\"\u001b[39m),\n\u001b[0;32m   1286\u001b[0m     password\u001b[38;5;241m=\u001b[39m\u001b[38;5;28;01mFalse\u001b[39;00m,\n\u001b[0;32m   1287\u001b[0m )\n",
      "File \u001b[1;32m~\\anaconda3\\Lib\\site-packages\\ipykernel\\kernelbase.py:1325\u001b[0m, in \u001b[0;36mKernel._input_request\u001b[1;34m(self, prompt, ident, parent, password)\u001b[0m\n\u001b[0;32m   1322\u001b[0m \u001b[38;5;28;01mexcept\u001b[39;00m \u001b[38;5;167;01mKeyboardInterrupt\u001b[39;00m:\n\u001b[0;32m   1323\u001b[0m     \u001b[38;5;66;03m# re-raise KeyboardInterrupt, to truncate traceback\u001b[39;00m\n\u001b[0;32m   1324\u001b[0m     msg \u001b[38;5;241m=\u001b[39m \u001b[38;5;124m\"\u001b[39m\u001b[38;5;124mInterrupted by user\u001b[39m\u001b[38;5;124m\"\u001b[39m\n\u001b[1;32m-> 1325\u001b[0m     \u001b[38;5;28;01mraise\u001b[39;00m \u001b[38;5;167;01mKeyboardInterrupt\u001b[39;00m(msg) \u001b[38;5;28;01mfrom\u001b[39;00m\u001b[38;5;250m \u001b[39m\u001b[38;5;28;01mNone\u001b[39;00m\n\u001b[0;32m   1326\u001b[0m \u001b[38;5;28;01mexcept\u001b[39;00m \u001b[38;5;167;01mException\u001b[39;00m:\n\u001b[0;32m   1327\u001b[0m     \u001b[38;5;28mself\u001b[39m\u001b[38;5;241m.\u001b[39mlog\u001b[38;5;241m.\u001b[39mwarning(\u001b[38;5;124m\"\u001b[39m\u001b[38;5;124mInvalid Message:\u001b[39m\u001b[38;5;124m\"\u001b[39m, exc_info\u001b[38;5;241m=\u001b[39m\u001b[38;5;28;01mTrue\u001b[39;00m)\n",
      "\u001b[1;31mKeyboardInterrupt\u001b[0m: Interrupted by user"
     ]
    }
   ],
   "source": [
    "name = \"\"\n"
   ]
  },
  {
   "cell_type": "markdown",
   "id": "c6c3c509-dc40-425c-931b-dda3bfd7ca74",
   "metadata": {},
   "source": [
    "- 1 ~10까지의 숫자에 대해 모두 더한 겂을 출력하는 프로그램을 for문을 활용해서 작성\n",
    "- 1부터 10까지 값을 모두 더하는 값을 출력하는 프로그램\n",
    "- 사용자로부터 2~9 사이의 숫자를 입력받은 후 해당 숫자에 대한 구구단 출력\n",
    "\n",
    "코딩 잘하는법\n",
    "하나하나 쪼개서 생각해보기\n",
    "1. 사용자에게 값을 받는다\n",
    "2. 사용자에게 받은 값을 변수에 넣고, 해당 변수의 값을 가지고 반복적으로 1~9까지 곱해준다.\n",
    "3. 1~9까지 반복으로 곱해주기 위해서 반복문을 사용한다.\n",
    "4. 반복문을 사용하기 위해서 range(1,10) 함수 및 인자값을 사용한다.\n",
    "\n",
    "data ="
   ]
  },
  {
   "cell_type": "code",
   "execution_count": 11,
   "id": "5fa4976f-a53e-4142-a450-b7d21a953c0a",
   "metadata": {},
   "outputs": [
    {
     "name": "stdout",
     "output_type": "stream",
     "text": [
      "55\n"
     ]
    }
   ],
   "source": [
    "sum = 0\n",
    "for num in range(1,11) :\n",
    "    sum =sum+num\n",
    "print(sum)"
   ]
  },
  {
   "cell_type": "code",
   "execution_count": 25,
   "id": "c3d3d076-2984-49ce-af44-3885cfbe5e0b",
   "metadata": {},
   "outputs": [
    {
     "name": "stdin",
     "output_type": "stream",
     "text": [
      "구구단 45\n"
     ]
    },
    {
     "name": "stdout",
     "output_type": "stream",
     "text": [
      "45\n",
      "90\n",
      "135\n",
      "180\n",
      "225\n",
      "270\n",
      "315\n",
      "360\n",
      "405\n"
     ]
    }
   ],
   "source": [
    "user = int(input(\"구구단\"))\n",
    "\n",
    "for num in range(1, 10) :\n",
    "    print(user*num)\n",
    "    result = (user*num)\n"
   ]
  },
  {
   "cell_type": "code",
   "execution_count": 33,
   "id": "6559d586-c748-4c4a-8e18-f568f239f7e1",
   "metadata": {},
   "outputs": [
    {
     "name": "stdin",
     "output_type": "stream",
     "text": [
      "구구단을 위한 숫자를 입력해주세요! 45\n"
     ]
    },
    {
     "name": "stdout",
     "output_type": "stream",
     "text": [
      "2~9사이의 숫자만 입력해주세요!\n"
     ]
    }
   ],
   "source": [
    "data = int(input(\"구구단을 위한 숫자를 입력해주세요!\"))\n",
    "\n",
    "if data >= 2 and data <=9 :\n",
    "    for digit in range (1, 10) :\n",
    "        print(f\"{data}X{digit}={data*digit}\")\n",
    "else : \n",
    "    print(\"2~9사이의 숫자만 입력해주세요!\")"
   ]
  },
  {
   "cell_type": "markdown",
   "id": "a68b6723-9341-4da2-b73f-b5bda5f9d6cd",
   "metadata": {},
   "source": [
    "- name = \"[Dave],[David],[Andy],[Juliet]\"\n",
    "- 위 name 이라는 변수안에 담긴 값을 다음처럼 화면에 출력\n",
    "Dave\n",
    "David\n",
    "Andy\n",
    "Juliet\n",
    "\n",
    "#.split()으로 []를 없앤다. \n",
    "\n",
    "문자열\n"
   ]
  },
  {
   "cell_type": "code",
   "execution_count": 70,
   "id": "08f06d1f-cfa6-4470-bcf2-279cd564c19e",
   "metadata": {},
   "outputs": [
    {
     "name": "stdout",
     "output_type": "stream",
     "text": [
      "[Dave],[David],[Andy],[Juliet] <class 'str'>\n",
      "[\n",
      "D\n",
      "a\n",
      "v\n",
      "e\n",
      "]\n",
      ",\n",
      "[\n",
      "D\n",
      "a\n",
      "v\n",
      "i\n",
      "d\n",
      "]\n",
      ",\n",
      "[\n",
      "A\n",
      "n\n",
      "d\n",
      "y\n",
      "]\n",
      ",\n",
      "[\n",
      "J\n",
      "u\n",
      "l\n",
      "i\n",
      "e\n",
      "t\n",
      "]\n"
     ]
    }
   ],
   "source": [
    "name = \"[Dave],[David],[Andy],[Juliet]\"\n",
    "name01 = name.split(\",\")\n",
    "\n",
    "print(name,type(name))\n",
    "\n",
    "for sp in name :\n",
    "    print(sp)"
   ]
  },
  {
   "cell_type": "code",
   "execution_count": 74,
   "id": "1efee44f-0cf8-47a3-8006-d6b71de266d7",
   "metadata": {},
   "outputs": [
    {
     "name": "stdout",
     "output_type": "stream",
     "text": [
      "Dave\n",
      "David\n",
      "Andy\n",
      "Juliet\n"
     ]
    }
   ],
   "source": [
    "name = \"[Dave],[David],[Andy],[Juliet]\"\n",
    "name01 = name.split(\",\")\n",
    "for str_name in name01 :\n",
    "    print(str_name[1:-1])"
   ]
  },
  {
   "cell_type": "markdown",
   "id": "50917688-a88e-4676-8d57-c8e724380d3f",
   "metadata": {},
   "source": [
    "# 1~30까지의 숫자 중 3의 배수만 출력해주세요! While문을 활용해서"
   ]
  },
  {
   "cell_type": "markdown",
   "id": "560d8b9d-f69b-4167-930e-cf8f8c23ab3d",
   "metadata": {},
   "source": [
    "1, 1~30까지의 값정하고 , while in 1을 통해 3의 배수가 참이면 출력이 되는 값을 구한다.\n",
    "2, "
   ]
  },
  {
   "cell_type": "markdown",
   "id": "57498a63-c771-4f25-86ca-aa7235771171",
   "metadata": {},
   "source": [
    "1~30까지의 숫자를 반복문을 활용해서 생성 및 찾아오기\n",
    "찾아온 숫자 중에서 3의 배수를 찾는다. => 3으로 나눠떨어져야하니까 3으로 나눴을때 나머지 값이 0으로 나와야함.%"
   ]
  },
  {
   "cell_type": "code",
   "execution_count": 75,
   "id": "b5806f55-628b-4db1-9201-ca7900aa8f49",
   "metadata": {},
   "outputs": [
    {
     "name": "stdout",
     "output_type": "stream",
     "text": [
      "3\n",
      "6\n",
      "9\n",
      "12\n",
      "15\n",
      "18\n",
      "21\n",
      "24\n",
      "27\n",
      "30\n"
     ]
    }
   ],
   "source": [
    "num = 0 \n",
    "\n",
    "while num<30 : #조건식이 참이 되게 해야함 #왜 <같다고 표현하지 않았을까? 0에서 시작되었어서. 30은 +1로 이미 처리될것.\n",
    "    num +=1\n",
    "    if num %3==0 :\n",
    "        print(num)\n",
    "    "
   ]
  },
  {
   "cell_type": "code",
   "execution_count": 77,
   "id": "3672176a-3b19-4619-9993-eb288353436e",
   "metadata": {},
   "outputs": [
    {
     "name": "stdout",
     "output_type": "stream",
     "text": [
      "3\n",
      "6\n",
      "9\n",
      "12\n",
      "15\n",
      "18\n",
      "21\n",
      "24\n",
      "27\n",
      "30\n"
     ]
    }
   ],
   "source": [
    "for num1 in range(1,31):\n",
    "    if num1%3==0 :\n",
    "        print(num1)"
   ]
  },
  {
   "cell_type": "code",
   "execution_count": null,
   "id": "e3048eb3-c9a0-4946-b3d7-45ee26ae241d",
   "metadata": {},
   "outputs": [],
   "source": []
  },
  {
   "cell_type": "code",
   "execution_count": 78,
   "id": "36253e17-fb98-410f-a684-bd3b771443b6",
   "metadata": {},
   "outputs": [
    {
     "name": "stdout",
     "output_type": "stream",
     "text": [
      "3\n",
      "6\n",
      "9\n",
      "12\n",
      "15\n",
      "18\n",
      "21\n",
      "24\n",
      "27\n",
      "30\n"
     ]
    }
   ],
   "source": [
    "for data in range (1,31) :\n",
    "    if data%3==0 :\n",
    "        print(data)"
   ]
  },
  {
   "cell_type": "markdown",
   "id": "a7a7321a-b680-46ad-a707-17309ce6f119",
   "metadata": {},
   "source": [
    "\n",
    "다음 리스트자료구조에서 음수값은 삭제하고, 양수값만 가지고 있는 새로운 리스트 변수로 만들어서 출력해주세요.\n",
    "num_list = [0,-11,31,22,-11,33,-44,-55]\n",
    "\n",
    "1, 리스트 안에 있는 자료를 발췌하고 양수와 음수를 구분 .sort를 통해 정렬을 하고\n",
    "0의 위치를 찾아서 그 위치를 기준으로 나누고\n",
    "양수의 값부터 다시 리스트로 만든다\n",
    "for in \n",
    "\n",
    "#리스트항목 8개 즉, 8개를 반복해서 비교해야하기 때문에 반복문을 써야한다!"
   ]
  },
  {
   "cell_type": "code",
   "execution_count": 98,
   "id": "550eee7f-95d1-4888-8764-cdb3de307eed",
   "metadata": {},
   "outputs": [
    {
     "data": {
      "text/plain": [
       "[0, 31, 22, 33]"
      ]
     },
     "execution_count": 98,
     "metadata": {},
     "output_type": "execute_result"
    }
   ],
   "source": [
    "num_list = [0,-11,31,22,-11,33,-44,-55]\n",
    "new_list = list()\n",
    "\n",
    "for num in num_list :\n",
    "    if num >= 0 :     #0보다 크다면 양수로 판단해라\n",
    "        new_list.append(num)   #print(num)     #음수값을 물어봤으면 else를 통해 추출해도 됨.\n",
    "new_list"
   ]
  },
  {
   "cell_type": "code",
   "execution_count": null,
   "id": "2bf7e8d0-5c97-4ea1-b112-ebc438354865",
   "metadata": {},
   "outputs": [],
   "source": [
    "-아래 리스트에 있는 데이터들의 길이를 출력해주세요. (*단 1줄에 1개씩 구분해서 출력해주세요.)\n",
    "-list_date = \"Java\",\"C++\",\"Python\",\"Node\"\n",
    "\n",
    "4\n",
    "3\n",
    "6\n",
    "4\n",
    "\n",
    "#리스트 문자열 찾아오는것 먼저 4개의 낱말을 4번 순회해서 찾아와야함.\n",
    "for in 구문을 통해 리스트 화를 하고 len함수를 이용해서 각각의 낱말을 추출\n",
    "len함수를 이용해서 각 문자의 길이를 찾아올 수 있음. \n"
   ]
  },
  {
   "cell_type": "code",
   "execution_count": 96,
   "id": "65a3fb1c-7f59-4830-a80d-86bc115c4ae0",
   "metadata": {},
   "outputs": [
    {
     "name": "stdout",
     "output_type": "stream",
     "text": [
      "4\n",
      "3\n",
      "6\n",
      "4\n"
     ]
    }
   ],
   "source": [
    "list_data = \"Java\",\"C++\",\"Python\",\"Node\"\n",
    "\n",
    "for st in list_data :\n",
    "    print(len(st))"
   ]
  },
  {
   "cell_type": "markdown",
   "id": "652ae6ac-bc27-4067-909c-8e5892fbeff8",
   "metadata": {},
   "source": [
    "filelist = [\"exercise01.docx\",\"exercise02.docx\",\"exercise03.docx\",\"exercise04.docx\"\n",
    "\n",
    "exercise01.docx\n",
    "exercise01.docx\n",
    "exercise01.docx\n",
    "exercise01.docx\n",
    "\n",
    "온점 앞에 문자열만 추출을 해야함. "
   ]
  },
  {
   "cell_type": "code",
   "execution_count": 100,
   "id": "0d98056e-9b50-4040-9a80-e79175d3931d",
   "metadata": {},
   "outputs": [
    {
     "name": "stdout",
     "output_type": "stream",
     "text": [
      "exercise01\n",
      "exercise02\n",
      "exercise03\n",
      "exercise04\n"
     ]
    }
   ],
   "source": [
    "filelist = [\"exercise01.docx\",\"exercise02.docx\",\"exercise03.docx\",\"exercise04.docx\"]\n",
    "\n",
    "for exer in filelist : #이렇게 for문 써넣으면 \n",
    "    print(exer[0:10])"
   ]
  },
  {
   "cell_type": "code",
   "execution_count": 102,
   "id": "102f4eff-911f-4b04-b90c-a85d4386b0dc",
   "metadata": {},
   "outputs": [
    {
     "name": "stdout",
     "output_type": "stream",
     "text": [
      "exercise01\n",
      "exercise02\n",
      "exercise03\n",
      "exercise04\n"
     ]
    }
   ],
   "source": [
    "filelist = [\"exercise01.docx\",\"exercise02.docx\",\"exercise03.docx\",\"exercise04.docx\"]\n",
    "\n",
    "for exer in filelist :\n",
    "    print(exer.split(\".\")[0])"
   ]
  },
  {
   "cell_type": "code",
   "execution_count": 104,
   "id": "5b625ca3-473b-4191-8e23-a9230b62854c",
   "metadata": {},
   "outputs": [
    {
     "name": "stdout",
     "output_type": "stream",
     "text": [
      "exercise03.txt\n"
     ]
    }
   ],
   "source": [
    "#확장자가 txt인 값만 출력\n",
    "#txt가 맞는지의 여부를 판단하려면, 문자열이 동일한 것을 추출하는거\n",
    "#find,split 둘 다 사용 가능\n",
    "filelist = [\"exercise01.docx\",\"exercise02.csv\",\"exercise03.txt\",\"exercise04.hwp\"]\n",
    "\n",
    "for exe in filelist :\n",
    "    if exe.split(\".\")[1]== \"txt\" :\n",
    "        print(exe)\n"
   ]
  }
 ],
 "metadata": {
  "kernelspec": {
   "display_name": "Python [conda env:base] *",
   "language": "python",
   "name": "conda-base-py"
  },
  "language_info": {
   "codemirror_mode": {
    "name": "ipython",
    "version": 3
   },
   "file_extension": ".py",
   "mimetype": "text/x-python",
   "name": "python",
   "nbconvert_exporter": "python",
   "pygments_lexer": "ipython3",
   "version": "3.13.5"
  }
 },
 "nbformat": 4,
 "nbformat_minor": 5
}
