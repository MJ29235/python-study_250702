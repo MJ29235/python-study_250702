{
 "cells": [
  {
   "cell_type": "code",
   "execution_count": null,
   "id": "0ac36945-ed8b-4df5-8c4a-813fce774537",
   "metadata": {},
   "outputs": [],
   "source": [
    "구구단 2~9단까지 출력\n",
    "형태는 \n",
    "2 X 1 =2\n",
    ".\n",
    ".\n",
    ".\n",
    "3 X 1 = 3\n",
    ".\n",
    ".\n",
    ".\n",
    "9 X 9 =81\n",
    "\n",
    "사용자에게 값을 받지 않음."
   ]
  },
  {
   "cell_type": "markdown",
   "id": "e84cdc79-a585-4f84-8327-d1276dd37055",
   "metadata": {},
   "source": [
    "숫자의 범위를 정하고 형태를 이어붙여서 도출하려면 앞의 숫자와 뒤의 숫자를 다르게 설정하고 앞에 숫자가 0-9 뒤에도 0-9로 모든 경우의 수를 출력하면됨."
   ]
  },
  {
   "cell_type": "code",
   "execution_count": 7,
   "id": "3bc653e7-af5f-45ed-a52f-15dd5389b6b1",
   "metadata": {},
   "outputs": [
    {
     "ename": "SyntaxError",
     "evalue": "cannot assign to expression (2402457109.py, line 5)",
     "output_type": "error",
     "traceback": [
      "\u001b[1;36m  Cell \u001b[1;32mIn[7], line 5\u001b[1;36m\u001b[0m\n\u001b[1;33m    for a and b range(1,10)\u001b[0m\n\u001b[1;37m        ^\u001b[0m\n\u001b[1;31mSyntaxError\u001b[0m\u001b[1;31m:\u001b[0m cannot assign to expression\n"
     ]
    }
   ],
   "source": [
    "a = [2,3,4,5,6,7,8,9]\n",
    "b = [1,2,3,4,5,6,7,8,9]\n",
    "\n",
    "\n",
    "for a and b range(1,10)\n",
    "    for a and \n",
    "\n",
    "    "
   ]
  }
 ],
 "metadata": {
  "kernelspec": {
   "display_name": "Python [conda env:base] *",
   "language": "python",
   "name": "conda-base-py"
  },
  "language_info": {
   "codemirror_mode": {
    "name": "ipython",
    "version": 3
   },
   "file_extension": ".py",
   "mimetype": "text/x-python",
   "name": "python",
   "nbconvert_exporter": "python",
   "pygments_lexer": "ipython3",
   "version": "3.13.5"
  }
 },
 "nbformat": 4,
 "nbformat_minor": 5
}
