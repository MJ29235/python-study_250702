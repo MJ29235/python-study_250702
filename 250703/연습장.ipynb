{
 "cells": [
  {
   "cell_type": "code",
   "execution_count": 21,
   "id": "967f49ea-e0f7-4d88-a993-01591ab6011d",
   "metadata": {},
   "outputs": [
    {
     "name": "stdout",
     "output_type": "stream",
     "text": [
      "162\n",
      "None\n"
     ]
    }
   ],
   "source": [
    "\n",
    "def func1 (num1, num2, num3):\n",
    "    if num3 == \"+\":\n",
    "        print(f\"{num1+num2}\")\n",
    "    elif num3 == \"*\":\n",
    "        print(f\"{num1*num2}\")\n",
    "    elif num3 == \"-\":\n",
    "        print(0)\n",
    "\n",
    "print(func1(num1=3, num2=54, num3=\"*\"))`"
   ]
  },
  {
   "cell_type": "code",
   "execution_count": 36,
   "id": "0623247c-c0b9-4edd-a9aa-ae65c70c9c54",
   "metadata": {},
   "outputs": [
    {
     "name": "stdout",
     "output_type": "stream",
     "text": [
      "당신의 점수는  F\n"
     ]
    }
   ],
   "source": [
    "def get_grade (score) :\n",
    "    if score >= 90:\n",
    "        return\"A\"\n",
    "    elif score >= 80 and score < 90:\n",
    "        return\"B\"\n",
    "    elif score >= 70 and score < 80:\n",
    "        return\"C\"\n",
    "    elif score >= 60 and score < 70:\n",
    "        return\"D\"\n",
    "    else :\n",
    "        return\"F\"\n",
    "\n",
    "print(\"당신의 점수는 \", get_grade(14))"
   ]
  },
  {
   "cell_type": "code",
   "execution_count": 37,
   "id": "671cf7aa-9972-494f-a4b3-60c0be7e2c17",
   "metadata": {},
   "outputs": [
    {
     "ename": "TypeError",
     "evalue": "'function' object is not iterable",
     "output_type": "error",
     "traceback": [
      "\u001b[1;31m---------------------------------------------------------------------------\u001b[0m",
      "\u001b[1;31mTypeError\u001b[0m                                 Traceback (most recent call last)",
      "Cell \u001b[1;32mIn[37], line 3\u001b[0m\n\u001b[0;32m      1\u001b[0m \u001b[38;5;66;03m#print(get_grade([95, 83, 72, 65, 50]))\u001b[39;00m\n\u001b[0;32m      2\u001b[0m a \u001b[38;5;241m=\u001b[39m [\u001b[38;5;241m95\u001b[39m, \u001b[38;5;241m83\u001b[39m, \u001b[38;5;241m72\u001b[39m, \u001b[38;5;241m65\u001b[39m, \u001b[38;5;241m50\u001b[39m]\n\u001b[1;32m----> 3\u001b[0m \u001b[38;5;28;01mfor\u001b[39;00m grades \u001b[38;5;129;01min\u001b[39;00m get_grade :\n\u001b[0;32m      4\u001b[0m    \u001b[38;5;28mprint\u001b[39m(grades(a))\n",
      "\u001b[1;31mTypeError\u001b[0m: 'function' object is not iterable"
     ]
    }
   ],
   "source": [
    "#print(get_grade([95, 83, 72, 65, 50]))\n",
    "a = [95, 83, 72, 65, 50]\n",
    "for grades in get_grade :\n",
    "   print(grades(a)) "
   ]
  }
 ],
 "metadata": {
  "kernelspec": {
   "display_name": "Python [conda env:base] *",
   "language": "python",
   "name": "conda-base-py"
  },
  "language_info": {
   "codemirror_mode": {
    "name": "ipython",
    "version": 3
   },
   "file_extension": ".py",
   "mimetype": "text/x-python",
   "name": "python",
   "nbconvert_exporter": "python",
   "pygments_lexer": "ipython3",
   "version": "3.13.5"
  }
 },
 "nbformat": 4,
 "nbformat_minor": 5
}
