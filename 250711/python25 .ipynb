{
 "cells": [
  {
   "cell_type": "code",
   "execution_count": null,
   "id": "55876618-3c7c-4e6a-a101-caa4cc9f0726",
   "metadata": {},
   "outputs": [],
   "source": [
    "def is_valid_password (password) :\n",
    "    password = ()\n",
    "    if password.split() == (8)"
   ]
  }
 ],
 "metadata": {
  "kernelspec": {
   "display_name": "Python [conda env:base] *",
   "language": "python",
   "name": "conda-base-py"
  },
  "language_info": {
   "codemirror_mode": {
    "name": "ipython",
    "version": 3
   },
   "file_extension": ".py",
   "mimetype": "text/x-python",
   "name": "python",
   "nbconvert_exporter": "python",
   "pygments_lexer": "ipython3",
   "version": "3.13.5"
  }
 },
 "nbformat": 4,
 "nbformat_minor": 5
}
