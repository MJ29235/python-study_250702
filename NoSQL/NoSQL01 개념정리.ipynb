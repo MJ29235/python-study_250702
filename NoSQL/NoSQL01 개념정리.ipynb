{
 "cells": [
  {
   "cell_type": "markdown",
   "id": "66cfe96a-abe2-4a7b-b724-52fe471f79b1",
   "metadata": {},
   "source": [
    "# NoSQL"
   ]
  },
  {
   "cell_type": "markdown",
   "id": "d3e57db3-0681-4806-be05-43ca4f43127a",
   "metadata": {
    "jp-MarkdownHeadingCollapsed": true
   },
   "source": [
    "## 데이터베이스 (DB)\n",
    "\n",
    "- 데이터베이스 → 데이터를 보관하고 저장할 수 있는 큰 공간\n",
    "- 데이터베이스의 역사  Long TIme Ago\n",
    "- 데이터베이스를 담고 관리할 수 있는 체계(**DBMS**) 또한 Long TIme Ago\n",
    "- 80여개의 DBMS의 종류가 있었음.. 현재는 **대부분 멸종**.\n",
    "- 관계형 데이터베이스(**RDBMS**)가 시스템 이 수많은 DBMS중에서 유일하게 살아남음.\n",
    "- 이를 가장 정교하고 깔끔하게 프로그램을 만들어 놓음 ⇒ **ORACLE**\n",
    "- 이에 대항하고자 나온 것이 **MYSQL**  하지만 ORACLE이 인수해버림..\n",
    "- 우리가 배운 SQL은 RDBMS 기반하에 저장. 보관되어있는 데이터를 처리하기 위한 목적의 언어\n",
    "- 2010년 초반, 스마트폰의 등장으로 모바일 시장이 OPEN. → **데이터**가 기하급수적으로 증가!\n",
    "- 2010년 초중반, **빅데이터**의 개념이 등장. 하루에도 수백 ~ 수천만 건의 데이터가 축적됨을 의미\n",
    "- RDBMS → DB → Table → Schema 들도 엄청나게 쌓임\n",
    "- 문제점 :\n",
    "1. 빅데이터라는 방대한 데이터의 입.출력건이 수시로 실행되고 있는데, 이것을 과거의 문법 및 방법으로 처리. 관리한다는 것이 현실.. 물리적인 부담 시작.. \n",
    "2. 시대의 흐름에 따라서 데이터를 처리할 수 있는 데이터를 처리할 수 있는 프로그래밍 언어도 다양해짐\n",
    "3. 각각의 언어가 매번 RDBMS와의 상호작용을 하게끔 처리하는 것 또한 현실적으로 불가능\n",
    "- 해결 필요 : 더 이상 SQL 문법만 가지고 RDBMS 라는 데이터 관리 시스템만 의존하는 것은 구시대적 사고방식!\n",
    "- NoSQL 등장!! (Not Only SQL)\n",
    "- 10여년 정도의 짧은 역사를 가지고 있음. so, NoSQL 기반의 데이터 처리방식을 채택하고 있는 기업은 전통적인 역사를 가진 기업이 아님!! 신생기업, 스타트업 등 얼마안된 회사.. 이들은 SQL, NoSQL 을 동시에 사용하고 있을 확률이 높음. (둘 다 알아야 좋음)\n",
    "- SQL 문법 프로그램 지원 서버 대표 ⇒ ORACLE > MYSQL\n",
    "- NoSQL 문법 프로그램 지원 서버 대표 ⇒ MongoDB"
   ]
  },
  {
   "cell_type": "markdown",
   "id": "dfd09465-8dbf-43b1-a596-f9fe37d01612",
   "metadata": {},
   "source": [
    "## NoSQL 이해\n",
    "\n",
    "- NoSQL은 문법 및 관리시스템이 존재하지 않음!(스키마 & JOIN 등)\n",
    "- 현재 작업하는 업무의 95%가 읽는 작업, 5%가 쓰는 작업이라면 → RDBMS(NoSQL) 100%\n",
    "- 현재 작업하는 업무의 50% “ , 50% “ → NoSQL + SQL 병행!"
   ]
  },
  {
   "cell_type": "markdown",
   "id": "fde16982-98bc-42d3-98bb-6a0cab0842db",
   "metadata": {},
   "source": [
    "## Mongo DB\n",
    "\n",
    "- document 기반 NoSQL 데이터베이스\n",
    "- MongoDB에 저장, 관리되는 데이터가 BSON(Binary JSON비제이슨)의 형태를 띔 : BSON은 document 형태로 데이터를 관리하기 때문!\n",
    "- BSON :  前 SQL / python ⇒ API Data ⇒ json, xml\n",
    "- JSON의 형태 : like python의 딕셔너리구조\n",
    "“””\n",
    "document = {\n",
    "    “id” : “01”,\n",
    "    “language” : “java”,\n",
    "    “edition” : {\n",
    "        “first”: “1st”,\n",
    "        “second”: “2st”,\n",
    "        “third”: “3st”\n",
    "    }\n",
    "}\n",
    "”””\n",
    "- Mongo DB의 BSON형태\n",
    "'''\n",
    "{ \n",
    "    \"_id\" : ObjectId(\"6623dsflkjnel5165446\"),\n",
    "    \"username\" : \"david\",\n",
    "    \"name\" : {\n",
    "        \"first\" : \"1st\",\n",
    "        \"second\" : \"2st\",\n",
    "  }\n",
    "}\n",
    "'''\n",
    "- SQL : Database - Table(schema) - data\n",
    "- NoSQL : Database - Collection - Document가 하나의 행이 됨,\n",
    " _id가 프라이머리 키가 됨. 따로 구문작성하는거 X"
   ]
  },
  {
   "cell_type": "markdown",
   "id": "fa57fd59-c042-4ddb-a874-690c1c619337",
   "metadata": {},
   "source": [
    "## 명령어\n",
    "\n",
    "- **show dbs** : 로컬 컴퓨터 내에\n",
    "- **use nosqldb01**\n",
    "- **use 데이터베이스이름** : 특정 db로  접속하겠다는 의미\n",
    "- **show collections** : 해당 DB안에 생성되어있는 컬렉션을 보여줘!\n",
    "- **데이터베이스이름 /collection이름.find** : \n",
    "특정 db안에있는 collection 내부에 어떤 데이터가 있는지 확인\n",
    "- **db.stats()** : 상태확인\n",
    "  \n",
    "- **db.dropdatabase**\n",
    "\n",
    "- **db.콜렉션명. drop()** : 특정 db 안에 콜렉션을 삭제하고자할때 → 컬렉션을 다지우면 DB가 자동으로 삭제함\n",
    "- **db.createcollection(”컬렉션명”, options)** :\n",
    "    - 옵션 리스트\n",
    "    - **capped** : true 값을 입력하면, 고정된 크기를 가지고 있는 컬렉션을 만들겠다는 의미\n",
    "    메모리 크기를 정해놓지 않으면 모든 메모리가 소진된 상태가 될것. 내가 사용할 수 있는 메모리를 한정지을 때 사용! (!!! 반드시 사이즈 값을 입력해야함!!!!!!) capped는 기본값으로 fault\n",
    "    - **autoIndexId** : true가 되면, id 필드에 대한 index를 자동으로 생성하겠다!\n",
    "    - **size** : capped의 옵션임.  true인 경우에만 사용. byte 단위\n",
    "    - **max** : 컬렉션에 저장할 수 있는 문서의 최대 개수를 정의 (여기까지! break역할)\n",
    "- **db.createCollection(”컬렉션명”)** : 특정 db 안에 컬렉션을 삭제하고자 할때, 만약 db안에 존재하고 있는 컬렉션이 아무것도 없어질때, db는 자동으로 삭제\n",
    "- **db.컬렉션명.isCapped()** : 해당 컬렉션의 capped 여부 확인가능!!!\n",
    "- **db.컬렉션명.renameCollection(”변경하고싶은 이름”) :** 컬렉션이름변경"
   ]
  },
  {
   "cell_type": "markdown",
   "id": "b4df8a58-37e7-44b9-967c-7ec5f76e1b68",
   "metadata": {},
   "source": [
    "### MongoDB의 주요 데이터 타입"
   ]
  },
  {
   "cell_type": "markdown",
   "id": "126af1c0-eaab-417d-927e-e0bf090d3227",
   "metadata": {},
   "source": [
    "- String 문자열 데이터 // name : “David”\n",
    "- Integer 정수형 데이터 // age : 20\n",
    "- Boolean 논리형 데이터 //  isStudent : true\n",
    "- Dobule 실수자료형 데이터 (부동소수점 형태의 값) // rating : 4.5\n",
    "- Arrays 배열 데이터 // 파이썬의 list 자료구조와 비슷! (hobbies : [”reading”,”music”])\n",
    "- Object 객체데이터 //  key & value로 구성되어있는 자료형 (address : {city : “Seoul”,countrt : “South Korea”}\n",
    "- Null : Null 데이터 저장할 수 있는 데이터 형태,  하나의 타입으로 취급\n",
    "    - Null VS Undefined → 공통점 : 값, 자료형태, 현재값이 없음을 의미 / 차이점 : Null은 의도된 것 차후에 값을 넣기위해 비워 놓음, Undefined는 값이 들어와야하는데 들어오지 않았다!\n",
    "    - Null 은 ‘결측치’라고도 불림\n",
    "- ObjectId : 각각의 문서를 생성할 때마다 ID를 저장하는데 사용되는 타입\n",
    "- Date  : 날짜 데이터 및 시간정보를 저장하는데 사용되는 타입"
   ]
  },
  {
   "cell_type": "markdown",
   "id": "6ded88e6-7fc6-4141-98d7-3c5d081d5592",
   "metadata": {},
   "source": [
    "### 비교연산자\n",
    "\n",
    "조건에 만족되지 않는 값이 나오지 않으면 아무값도 안나옴!\n",
    "\n",
    "- \\$eq : -> 같다. 동일하다\n",
    "- \\$gt : -> ~보다 크다. 초과\n",
    "- \\$gte : -> ~보다 크거나 같다. 이상\n",
    "- \\$lt : -> ~보다 작다. 미만\n",
    "- \\$lte : -> ~보다 작거나 같다. 이하\n",
    "- \\$nin:[값] → not in 해당값을 갖고있지 않은것을 찾는 경우! 특정 값을 가지고 있지 않은 경우! 복수의 값을 사용 가능\n",
    "- \\$in:[값] -> 특정 값을 갖고 있다. 특정 값을 찾고자할때 나타나는 연산자\n",
    "- \\$ne: → not enough 충족하지 않는값 ≠ nin 결과 값은 같지만 단수의 값만 사용 가능!!\n",
    "\n",
    "SQL\n",
    "SELECT * FROM users WHERE age >25;\n",
    "NoSQL\n",
    "db.users.find({age:{$gt: 25}})"
   ]
  },
  {
   "cell_type": "markdown",
   "id": "5cb90716-a932-4418-bb81-60131197b4a0",
   "metadata": {},
   "source": [
    "### Mongo DB Aggregation Framework\n",
    "- Mongo DB\n",
    "\n",
    "- Aggregation Framework를 실행하기 위한 주요 단계\n",
    "    - \\$match : 조건에 맞는 문서를 필터링\n",
    "    - \\$group : match된 문서를 그룹화하고 집계작업을 수행할 수 있도록 준비하는 단계\n",
    "    - \\$sort : 그룹화 된것을 연산처리 후 정렬\n",
    "    - \\$project : 연산처리된 결과를 특정요소에 포함시켜 결합, 별도로 새로운 문서를 변환등 을 하는 작업\n",
    "                  (연산처리를 하기위한 집계작업 명령어 = 예약어)\n",
    "    - \\$sum\n",
    "    - \\$avg\n",
    "    - \\$min\n",
    "    - \\$max\n",
    "    - \\$count"
   ]
  },
  {
   "cell_type": "code",
   "execution_count": null,
   "id": "4447f545-1725-4558-91fe-601fef068578",
   "metadata": {},
   "outputs": [],
   "source": []
  }
 ],
 "metadata": {
  "kernelspec": {
   "display_name": "Python [conda env:base] *",
   "language": "python",
   "name": "conda-base-py"
  },
  "language_info": {
   "codemirror_mode": {
    "name": "ipython",
    "version": 3
   },
   "file_extension": ".py",
   "mimetype": "text/x-python",
   "name": "python",
   "nbconvert_exporter": "python",
   "pygments_lexer": "ipython3",
   "version": "3.13.5"
  }
 },
 "nbformat": 4,
 "nbformat_minor": 5
}
