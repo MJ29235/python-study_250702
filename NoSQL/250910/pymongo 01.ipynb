{
 "cells": [
  {
   "cell_type": "markdown",
   "id": "ddf2f13b-5b19-4df0-9eb8-11704f0db3e4",
   "metadata": {},
   "source": [
    "#### SQL : MySQL 프로그램 툴 활용, SQL문법 - > python 데이터 수집 & python에서 SQL 문법 다루거나 MySQL로 데이터 전송\n",
    "NoSQL :NoSQL 문법 학습 후 python 연동방법"
   ]
  },
  {
   "cell_type": "markdown",
   "id": "f52852cd-4ae8-4eee-9c37-ee1efbf21afc",
   "metadata": {},
   "source": [
    "#### python 에서 NoSQL 문법을 다루기 위해서는 NoSQL 문법을 사용할 수 있는 MongoDB를 사용할 수 있어야함!"
   ]
  },
  {
   "cell_type": "code",
   "execution_count": 1,
   "id": "20322375-d4db-456b-b9a9-e34820f002bc",
   "metadata": {},
   "outputs": [
    {
     "name": "stdout",
     "output_type": "stream",
     "text": [
      "Collecting pymongo\n",
      "  Downloading pymongo-4.14.1-cp313-cp313-win_amd64.whl.metadata (22 kB)\n",
      "Collecting dnspython<3.0.0,>=1.16.0 (from pymongo)\n",
      "  Downloading dnspython-2.8.0-py3-none-any.whl.metadata (5.7 kB)\n",
      "Downloading pymongo-4.14.1-cp313-cp313-win_amd64.whl (956 kB)\n",
      "   ---------------------------------------- 0.0/956.1 kB ? eta -:--:--\n",
      "   --------------------------------------- 956.1/956.1 kB 22.8 MB/s eta 0:00:00\n",
      "Downloading dnspython-2.8.0-py3-none-any.whl (331 kB)\n",
      "Installing collected packages: dnspython, pymongo\n",
      "\n",
      "   ---------------------------------------- 0/2 [dnspython]\n",
      "   ---------------------------------------- 0/2 [dnspython]\n",
      "   ---------------------------------------- 0/2 [dnspython]\n",
      "   ---------------------------------------- 0/2 [dnspython]\n",
      "   ---------------------------------------- 0/2 [dnspython]\n",
      "   -------------------- ------------------- 1/2 [pymongo]\n",
      "   -------------------- ------------------- 1/2 [pymongo]\n",
      "   -------------------- ------------------- 1/2 [pymongo]\n",
      "   -------------------- ------------------- 1/2 [pymongo]\n",
      "   -------------------- ------------------- 1/2 [pymongo]\n",
      "   -------------------- ------------------- 1/2 [pymongo]\n",
      "   -------------------- ------------------- 1/2 [pymongo]\n",
      "   -------------------- ------------------- 1/2 [pymongo]\n",
      "   ---------------------------------------- 2/2 [pymongo]\n",
      "\n",
      "Successfully installed dnspython-2.8.0 pymongo-4.14.1\n"
     ]
    }
   ],
   "source": [
    "!pip install pymongo"
   ]
  },
  {
   "cell_type": "code",
   "execution_count": 3,
   "id": "6eda2619-0855-4e11-a5ae-d3c90687b71e",
   "metadata": {},
   "outputs": [],
   "source": [
    "from pymongo import MongoClient\n",
    "## python 을 mongodb와 연결하기\n",
    "client = MongoClient(\"mongodb://localhost:27017\") # 커넥션!"
   ]
  },
  {
   "cell_type": "markdown",
   "id": "5c09a738-f2ec-4320-bae8-6e506fd13a0c",
   "metadata": {},
   "source": [
    "#### 객체지향 프로그래밍 언어는 객체 내부에 값ㅇ르 찾아올 때, 1) 대괄호 표기법// 2) 온점표기법\n",
    "#### 온점 표기법이 대중적으로 사용! => 대괄호[]의 경우 열고 닫는데 귀찮음, 실수 가능성 높음, 특정 문자열로 인식할 가능성 높음\n",
    "#### db = client.sample_mflix 해당 db를 찾아오고 변수를 선언해서 넣어주는것!\n",
    "#### db=client[\"sample_mflix\"]대괄호 표기 \n",
    "#### NoSQL 때로는 조건값에 일치하지 않아도 값을 출력하는 경우도 있는 등 SQL 대비 문법 유연한 부분!!"
   ]
  },
  {
   "cell_type": "code",
   "execution_count": 5,
   "id": "db8e1a78-e15c-43f1-bbd8-183b44cd42af",
   "metadata": {},
   "outputs": [],
   "source": [
    "db=client[\"test\"] # 해당 DB가 없으면 만듦!\n",
    "\n",
    "#DB안에 컬렉션 만들기\n",
    "collections = db.list_collection_names() # collection 리스트를 찾아오고 이 값을 collections안에 담음\n",
    "for collection in collections :\n",
    "    print(collections)"
   ]
  },
  {
   "cell_type": "code",
   "execution_count": 7,
   "id": "c11d2cf7-b850-472d-baf5-cdd90555d3e5",
   "metadata": {},
   "outputs": [],
   "source": [
    "users = db.users"
   ]
  },
  {
   "cell_type": "code",
   "execution_count": 8,
   "id": "858f3b45-d4c5-4df3-99ab-381440c84198",
   "metadata": {},
   "outputs": [],
   "source": [
    "data = {\"name\":\"John\",\"age\":30} #Bjson 의 형태로 만들어줘야함! \n",
    "result = users.insert_one(data)"
   ]
  },
  {
   "cell_type": "code",
   "execution_count": 9,
   "id": "93757e76-3ddb-4f00-9f44-9006e67a926f",
   "metadata": {},
   "outputs": [],
   "source": [
    "# CLIENT를 종결하지 않으면 메모리 누수가 일어남. 실시간으로 진행시킴.."
   ]
  },
  {
   "cell_type": "code",
   "execution_count": 11,
   "id": "1a14999e-49e0-45aa-9dbb-0d0e0ff223cb",
   "metadata": {},
   "outputs": [],
   "source": [
    "client.close()"
   ]
  },
  {
   "cell_type": "code",
   "execution_count": 15,
   "id": "859c9e83-639c-4562-94a9-f872dc8ee4dd",
   "metadata": {},
   "outputs": [],
   "source": [
    "# With 절을 통해 마지막 구문이 끝나는 순간 client.close()를 사용하지않고 구문을 종결! 메모리 사용도 종료 됨.\n",
    "\n",
    "with MongoClient(\"mongodb://localhost:27017\") as client:\n",
    "    db = client[\"test\"]\n",
    "    users = db.users\n",
    "    data = {\"name\":\"John\",\"age\":30}\n",
    "    result = users.insert_one(data)"
   ]
  },
  {
   "cell_type": "code",
   "execution_count": null,
   "id": "3a2234d5-d6ce-4506-be30-c6b468f69166",
   "metadata": {},
   "outputs": [],
   "source": [
    "#NoSQL 데이터 삽입 -> insertOne() => isnert_one() // insertMany() = insert_many()"
   ]
  },
  {
   "cell_type": "code",
   "execution_count": 16,
   "id": "62570a5c-757b-42f6-abbf-ef035d01f70f",
   "metadata": {},
   "outputs": [
    {
     "name": "stdout",
     "output_type": "stream",
     "text": [
      "InsertOneResult(ObjectId('68c0e375dec48f04850fa6a1'), acknowledged=True)\n"
     ]
    }
   ],
   "source": [
    "print(result)"
   ]
  },
  {
   "cell_type": "code",
   "execution_count": 17,
   "id": "291b2762-31e3-49bf-821d-67cc5d0cde6b",
   "metadata": {},
   "outputs": [
    {
     "name": "stdout",
     "output_type": "stream",
     "text": [
      "68c0e375dec48f04850fa6a1\n"
     ]
    }
   ],
   "source": [
    "print(result.inserted_id) # 결과 값은 id를 통해서 식별가능!!"
   ]
  },
  {
   "cell_type": "code",
   "execution_count": 24,
   "id": "a68bae2a-0c77-4003-b93b-4dab965d3fb8",
   "metadata": {},
   "outputs": [
    {
     "name": "stdout",
     "output_type": "stream",
     "text": [
      "Inserted IDs :  68c0e84cdec48f04850fa6b1\n",
      "Inserted IDs:  [ObjectId('68c0e84cdec48f04850fa6b2'), ObjectId('68c0e84cdec48f04850fa6b3'), ObjectId('68c0e84cdec48f04850fa6b4')]\n"
     ]
    }
   ],
   "source": [
    "from pymongo import MongoClient\n",
    "client = MongoClient(\"mongodb://localhost:27017\")\n",
    "\n",
    "db = client[\"test\"]\n",
    "collection = db.users\n",
    "data = {\"name\" : \"John\", \"age\" : 30}\n",
    "result = collection.insert_one(data) # == result = collection.insert_one({\"name\" : \"John\", \"age\" : 30})\n",
    "print(\"Inserted IDs : \",result.inserted_id)\n",
    "\n",
    "data = [  #데이터 변수 재할당!\n",
    "    {\"name\":\"Alice\",\"age\":25},\n",
    "    {\"name\":\"Bob\",\"age\":35},\n",
    "    {\"name\":\"Charlie\",\"age\":45}\n",
    "]\n",
    "\n",
    "result = collection.insert_many(data)\n",
    "print(\"Inserted IDs: \",result.inserted_ids)"
   ]
  },
  {
   "cell_type": "markdown",
   "id": "5a293853-126a-4a4a-9741-07433b6acb02",
   "metadata": {},
   "source": [
    "## python에서 Mongo DB 데이터 조회\n"
   ]
  },
  {
   "cell_type": "code",
   "execution_count": null,
   "id": "dbb1289c-de82-4e18-bc14-ef2b5d9f3ad1",
   "metadata": {},
   "outputs": [],
   "source": [
    "# find() -> 모든 매칭되는 값을 찾고 종료 || find_one() -> 제일처음 매칭되는 값 하나 찾고 종료"
   ]
  },
  {
   "cell_type": "code",
   "execution_count": 28,
   "id": "df66397d-49b5-46fc-a23c-52a560795b6c",
   "metadata": {},
   "outputs": [
    {
     "name": "stdout",
     "output_type": "stream",
     "text": [
      "None\n",
      "{'_id': ObjectId('68c0e83bdec48f04850fa6ae'), 'name': 'Bob', 'age': 35}\n"
     ]
    }
   ],
   "source": [
    "db = client[\"test\"] # test DB 접속, \n",
    "collection = db.users # user컬렉션으로!\n",
    "\n",
    "document = collection.find_one({\"name\": \"Dave\"})\n",
    "print(document) # Dave는 없기 떄문에 None 값을 출력 (Error를 출력 X)\n",
    "\n",
    "document = collection.find_one({\"name\": \"Bob\"})\n",
    "print(document) "
   ]
  },
  {
   "cell_type": "code",
   "execution_count": 30,
   "id": "b6035583-6cab-4178-88fd-ddb5475f580d",
   "metadata": {},
   "outputs": [
    {
     "name": "stdout",
     "output_type": "stream",
     "text": [
      "<pymongo.synchronous.cursor.Cursor object at 0x0000027056BB4F50>\n",
      "{'_id': ObjectId('68c0ddf8dec48f04850fa69c'), 'name': 'John', 'age': 30}\n",
      "{'_id': ObjectId('68c0e375dec48f04850fa6a1'), 'name': 'John', 'age': 30}\n",
      "{'_id': ObjectId('68c0e83bdec48f04850fa6ac'), 'name': 'John', 'age': 30}\n",
      "{'_id': ObjectId('68c0e83bdec48f04850fa6ad'), 'name': 'Alice', 'age': 25}\n",
      "{'_id': ObjectId('68c0e83bdec48f04850fa6ae'), 'name': 'Bob', 'age': 35}\n",
      "{'_id': ObjectId('68c0e83bdec48f04850fa6af'), 'name': 'Charlie', 'age': 45}\n",
      "{'_id': ObjectId('68c0e84cdec48f04850fa6b1'), 'name': 'John', 'age': 30}\n",
      "{'_id': ObjectId('68c0e84cdec48f04850fa6b2'), 'name': 'Alice', 'age': 25}\n",
      "{'_id': ObjectId('68c0e84cdec48f04850fa6b3'), 'name': 'Bob', 'age': 35}\n",
      "{'_id': ObjectId('68c0e84cdec48f04850fa6b4'), 'name': 'Charlie', 'age': 45}\n"
     ]
    }
   ],
   "source": [
    "#모든 데이터를 찾아온다면 (find) -> 리스트의 형태로 가져옴\n",
    "documents  = collection.find()\n",
    "print(documents) # 리스트라것 객체의 형태로 가져옴 -> 보려면 for in 문으로 리스트출력!\n",
    "\n",
    "for document in documents:\n",
    "    print(document)"
   ]
  },
  {
   "cell_type": "markdown",
   "id": "2a9ade7d-92a4-4117-8204-1740058dfcae",
   "metadata": {},
   "source": [
    "### 데이터 문서 수정(update_one(), update_many()) 하는 방법"
   ]
  },
  {
   "cell_type": "code",
   "execution_count": 35,
   "id": "d0e08f34-d058-446a-8980-c595788195a3",
   "metadata": {},
   "outputs": [
    {
     "name": "stdout",
     "output_type": "stream",
     "text": [
      "Modified Count: 1\n"
     ]
    }
   ],
   "source": [
    "collection = db.users # users 컬렉션을 찾아옴\n",
    "#collection.update_one()안에 첫번쨰요소 : 조건(필터), 두번쨰 요소 : 변경할 값(=update)\n",
    "filter = {\"name\":\"John\"}\n",
    "update = {\"$set\":{\"age\": 31}}\n",
    "result = collection.update_one(filter,update)\n",
    "print(\"Modified Count:\",result.modified_count)"
   ]
  },
  {
   "cell_type": "code",
   "execution_count": 36,
   "id": "66a60e9b-54f2-416f-8096-4f9ec96e6ee6",
   "metadata": {},
   "outputs": [],
   "source": [
    "data = {\"name\" : \"Json\", \"age\" : 40}\n",
    "result = collection.insert_one(data)"
   ]
  },
  {
   "cell_type": "code",
   "execution_count": 37,
   "id": "e80a5464-1caf-4ee9-9499-a0c24fb55721",
   "metadata": {},
   "outputs": [
    {
     "name": "stdout",
     "output_type": "stream",
     "text": [
      "Modified Count: 2\n"
     ]
    }
   ],
   "source": [
    "filter = {\"age\":{\"$gt\":41}}\n",
    "update = {\"$set\": {\"is_available\": True}} # 필드생성 , True값이들어옴\n",
    "result = collection.update_many(filter,update)\n",
    "\n",
    "print(\"Modified Count:\",result.modified_count)"
   ]
  },
  {
   "cell_type": "markdown",
   "id": "1c215385-8fa1-487a-8950-abe43c482216",
   "metadata": {},
   "source": [
    "### 데이터 문서 삭제(delete_one(), delete_many()) 하는 방법"
   ]
  },
  {
   "cell_type": "code",
   "execution_count": 41,
   "id": "5a3347e5-37a4-4627-9d6d-bf02a0f5fc1c",
   "metadata": {},
   "outputs": [
    {
     "name": "stdout",
     "output_type": "stream",
     "text": [
      "Deleted Count: 1\n"
     ]
    }
   ],
   "source": [
    "collection = db.users\n",
    "filter = {\"name\": \"John\"}\n",
    "result = collection.delete_one(filter) # 인자값으로 조건값만 넣어주면 삭제!\n",
    "print(\"Deleted Count:\",result.deleted_count)"
   ]
  },
  {
   "cell_type": "code",
   "execution_count": 44,
   "id": "8197f42a-33f6-473a-b82c-2fee34e666e9",
   "metadata": {},
   "outputs": [
    {
     "name": "stdout",
     "output_type": "stream",
     "text": [
      "Deleted Count: 0\n"
     ]
    }
   ],
   "source": [
    "collection = db.users\n",
    "filter = {\"age\":{\"$lt\":10}} # 존재하지 않는 값을 넣으면\n",
    "result = collection.delete_many(filter)\n",
    "print(\"Deleted Count:\",result.deleted_count) # 0을 print\n"
   ]
  },
  {
   "cell_type": "code",
   "execution_count": 45,
   "id": "2936d284-b5e9-4442-85ae-d04d174ed598",
   "metadata": {},
   "outputs": [],
   "source": [
    "client.close()"
   ]
  },
  {
   "cell_type": "markdown",
   "id": "6ef7d409-e5fe-4a48-8c1e-55cc7938abfa",
   "metadata": {},
   "source": [
    "# sample_mflix예제"
   ]
  },
  {
   "cell_type": "code",
   "execution_count": 62,
   "id": "48619704-0532-4ebb-b861-e86703cd1e85",
   "metadata": {},
   "outputs": [
    {
     "name": "stdout",
     "output_type": "stream",
     "text": [
      "Collection(Database(MongoClient(host=['localhost:27017'], document_class=dict, tz_aware=False, connect=True), 'sample_mflix'), 'movies')\n"
     ]
    }
   ],
   "source": [
    "from pymongo import MongoClient\n",
    "client = MongoClient(\"mongodb://localhost:27017\")\n",
    "\n",
    "#db 선언으로 내가 원하는 db 정의해주기!\n",
    "db = client.sample_mflix\n",
    "movies= db.movies\n",
    "\n",
    "print(movies)"
   ]
  },
  {
   "cell_type": "code",
   "execution_count": 63,
   "id": "16956d6b-a8a9-42f0-8c35-a200f564faf3",
   "metadata": {},
   "outputs": [
    {
     "name": "stdout",
     "output_type": "stream",
     "text": [
      "{'title': 'The Hunchback of Notre Dame', 'year': 1923} 1923\n",
      "{'title': 'Our Hospitality', 'year': 1923} 1923\n",
      "{'title': 'Safety Last!', 'year': 1923} 1923\n",
      "{'title': 'Three Ages', 'year': 1923} 1923\n",
      "{'title': 'A Woman of Paris: A Drama of Fate', 'year': 1923} 1923\n",
      "{'title': 'The Chechahcos', 'year': 1923} 1923\n"
     ]
    }
   ],
   "source": [
    "#JS파일 포맷에서는 객체안에 있는 값을 찾아올때, 대괄호 & 온점 표기법 가능\n",
    "#파이썬 포맷에서는 객체형태를 띄고있는 자료구조 딕셔너리 => 대괄호 표기법으로 특정 키 내부의 값을 찾아온다. -> print(movie,movie[\"year\"])\n",
    "\n",
    "for movie in movies.find({\"year\":1923},{\"_id\":0,\"title\": 1,\"year\":1}): #find매서드 함수를 활용해서 값을 찾아와야함!\n",
    "    print(movie,movie[\"year\"])"
   ]
  },
  {
   "cell_type": "code",
   "execution_count": 64,
   "id": "4040d801-b367-4e31-92d6-20f5da7ce18c",
   "metadata": {},
   "outputs": [
    {
     "name": "stdout",
     "output_type": "stream",
     "text": [
      "{'title': 'Blacksmith Scene', 'year': 1893}\n",
      "{'title': 'The Kiss', 'year': 1896}\n",
      "{'title': 'Dickson Experimental Sound Film', 'year': 1894}\n",
      "{'title': 'The Kiss', 'year': 1896}\n",
      "{'title': 'Newark Athlete', 'year': 1891}\n",
      "{'title': 'The Masked Saint', 'year': 2016}\n"
     ]
    }
   ],
   "source": [
    "# Mongo DB 안에 있는 특정 DB의 컬렉션 값을 어떤 조건과 함께 찾아오게 되면 기본적으로 리스트 형태를 띄고있음\n",
    "# 해당 리스트 자료구조 안에있는 각각의 문서는 딕셔너리의 자료구조로 되어있다\n",
    "\n",
    "for movie in movies.find(\n",
    "    {\"$or\":[{\"year\":{\"$lt\": 1900}},{\"year\":{\"$gt\":2015}}]}, # 필수값, 조건 $or 만약 하나라도 값을 충족하면 가져와라!\n",
    "    {\"_id\":0,\"title\":1,\"year\":1}  # 비필수값, 출력하고자하는 형태\n",
    ") :\n",
    "    print(movie) #딕셔너리의 값으로 가져옴"
   ]
  },
  {
   "cell_type": "code",
   "execution_count": 68,
   "id": "370d62dd-7195-450a-8f58-535d705db64f",
   "metadata": {
    "scrolled": true
   },
   "outputs": [
    {
     "name": "stdout",
     "output_type": "stream",
     "text": [
      "{'genres': ['Action', 'Drama', 'Sci-Fi'], 'title': 'Das Millionenspiel', 'year': 1970}\n",
      "{'year': 1978, 'genres': ['Action', 'Drama', 'Sci-Fi'], 'title': 'Superman'}\n",
      "{'genres': ['Action', 'Drama', 'Sci-Fi'], 'title': 'The Chain Reaction', 'year': 1980}\n",
      "{'genres': ['Sci-Fi', 'Action', 'Drama'], 'title': 'City Limits', 'year': 1984}\n",
      "{'genres': ['Action', 'Drama', 'Sci-Fi'], 'title': 'Solarbabies', 'year': 1986}\n",
      "{'genres': ['Action', 'Drama', 'Sci-Fi'], 'title': 'Until the End of the World', 'year': 1991}\n",
      "{'genres': ['Action', 'Drama', 'Sci-Fi'], 'title': 'Timebomb', 'year': 1991}\n",
      "{'genres': ['Action', 'Drama', 'Sci-Fi'], 'title': 'No Escape', 'year': 1994}\n",
      "{'genres': ['Action', 'Drama', 'Sci-Fi'], 'title': 'Chain Reaction', 'year': 1996}\n",
      "{'genres': ['Action', 'Drama', 'Sci-Fi'], 'title': \"Smilla's Feeling for Snow\", 'year': 1997}\n",
      "{'genres': ['Action', 'Drama', 'Sci-Fi'], 'title': 'Soldier', 'year': 1998}\n",
      "{'year': 1997, 'genres': ['Action', 'Drama', 'Sci-Fi'], 'title': 'Volcano'}\n",
      "{'year': 1998, 'genres': ['Action', 'Drama', 'Sci-Fi'], 'title': 'Deep Impact'}\n",
      "{'year': 2002, 'genres': ['Action', 'Drama', 'Sci-Fi'], 'title': 'Equilibrium'}\n",
      "{'year': 2000, 'genres': ['Action', 'Drama', 'Sci-Fi'], 'title': 'Battle Royale'}\n",
      "{'genres': ['Action', 'Drama', 'Sci-Fi'], 'title': '2009 Loseuteu maemorijeu', 'year': 2002}\n",
      "{'genres': ['Action', 'Drama', 'Sci-Fi'], 'title': 'Battle Royale II', 'year': 2003}\n",
      "{'genres': ['Action', 'Drama', 'Sci-Fi'], 'title': 'Moon Child', 'year': 2003}\n",
      "{'genres': ['Action', 'Drama', 'Sci-Fi'], 'title': 'Naechureol siti', 'year': 2003}\n",
      "{'year': 2011, 'genres': ['Action', 'Drama', 'Sci-Fi'], 'title': 'Real Steel'}\n",
      "{'genres': ['Action', 'Drama', 'Sci-Fi'], 'title': 'Category 7: The End of the World', 'year': 2005}\n",
      "{'genres': ['Action', 'Drama', 'Sci-Fi'], 'title': 'Battlestar Galactica: Razor', 'year': 2007}\n",
      "{'year': 2011, 'genres': ['Action', 'Drama', 'Sci-Fi'], 'title': 'Rise of the Planet of the Apes'}\n",
      "{'year': 2013, 'genres': ['Action', 'Drama', 'Sci-Fi'], 'title': 'Elysium'}\n",
      "{'genres': ['Action', 'Drama', 'Sci-Fi'], 'title': 'Lockout', 'year': 2012}\n",
      "{'genres': ['Action', 'Drama', 'Sci-Fi'], 'title': 'Lockout', 'year': 2012}\n",
      "{'year': 2013, 'genres': ['Action', 'Drama', 'Sci-Fi'], 'title': 'Snowpiercer'}\n",
      "{'genres': ['Action', 'Drama', 'Sci-Fi'], 'title': 'Dawn of the Planet of the Apes', 'year': 2014}\n",
      "{'genres': ['Action', 'Drama', 'Sci-Fi'], 'title': 'Young Ones', 'year': 2014}\n"
     ]
    }
   ],
   "source": [
    "for movie in movies.find(\n",
    "    {\"genres\":{\"$all\": [\"Action\",\"Sci-Fi\",\"Drama\"]}},{\"_id\":0,\"title\":1,\"year\":1,\"genres\":1 } # \"$all\" e뒤에있는 값이 모두 충족되는 것을 찾아와라\n",
    "):\n",
    "    print(movie)"
   ]
  },
  {
   "cell_type": "code",
   "execution_count": 70,
   "id": "4cdbcad0-2091-47b2-9c00-90cf275c5688",
   "metadata": {
    "collapsed": true,
    "jupyter": {
     "outputs_hidden": true
    }
   },
   "outputs": [
    {
     "name": "stdout",
     "output_type": "stream",
     "text": [
      "{'_id': ObjectId('573a1390f29313caabcd4135'), 'plot': 'Three men hammer on an anvil and pass a bottle of beer around.', 'genres': ['Short'], 'runtime': 1, 'cast': ['Charles Kayser', 'John Ott'], 'num_mflix_comments': 1, 'title': 'Blacksmith Scene', 'fullplot': 'A stationary camera looks at a large anvil with a blacksmith behind it and one on either side. The smith in the middle draws a heated metal rod from the fire, places it on the anvil, and all three begin a rhythmic hammering. After several blows, the metal goes back in the fire. One smith pulls out a bottle of beer, and they each take a swig. Then, out comes the glowing metal and the hammering resumes.', 'countries': ['USA'], 'released': datetime.datetime(1893, 5, 9, 0, 0), 'directors': ['William K.L. Dickson'], 'rated': 'UNRATED', 'awards': {'wins': 1, 'nominations': 0, 'text': '1 win.'}, 'lastupdated': '2015-08-26 00:03:50.133000000', 'year': 1893, 'imdb': {'rating': 6.2, 'votes': 1189, 'id': 5}, 'type': 'movie', 'tomatoes': {'viewer': {'rating': 3.0, 'numReviews': 184, 'meter': 32}, 'lastUpdated': datetime.datetime(2015, 6, 28, 18, 34, 9)}}\n",
      "{'_id': ObjectId('573a1390f29313caabcd42e8'), 'plot': 'A group of bandits stage a brazen train hold-up, only to find a determined posse hot on their heels.', 'genres': ['Short', 'Western'], 'runtime': 11, 'cast': ['A.C. Abadie', \"Gilbert M. 'Broncho Billy' Anderson\", 'George Barnes', 'Justus D. Barnes'], 'poster': 'https://m.media-amazon.com/images/M/MV5BMTU3NjE5NzYtYTYyNS00MDVmLWIwYjgtMmYwYWIxZDYyNzU2XkEyXkFqcGdeQXVyNzQzNzQxNzI@._V1_SY1000_SX677_AL_.jpg', 'title': 'The Great Train Robbery', 'fullplot': \"Among the earliest existing films in American cinema - notable as the first film that presented a narrative story to tell - it depicts a group of cowboy outlaws who hold up a train and rob the passengers. They are then pursued by a Sheriff's posse. Several scenes have color included - all hand tinted.\", 'languages': ['English'], 'released': datetime.datetime(1903, 12, 1, 0, 0), 'directors': ['Edwin S. Porter'], 'rated': 'TV-G', 'awards': {'wins': 1, 'nominations': 0, 'text': '1 win.'}, 'lastupdated': '2015-08-13 00:27:59.177000000', 'year': 1903, 'imdb': {'rating': 7.4, 'votes': 9847, 'id': 439}, 'countries': ['USA'], 'type': 'movie', 'tomatoes': {'viewer': {'rating': 3.7, 'numReviews': 2559, 'meter': 75}, 'fresh': 6, 'critic': {'rating': 7.6, 'numReviews': 6, 'meter': 100}, 'rotten': 0, 'lastUpdated': datetime.datetime(2015, 8, 8, 19, 16, 10)}}\n",
      "{'_id': ObjectId('573a1390f29313caabcd4323'), 'plot': 'A young boy, opressed by his mother, goes on an outing in the country with a social welfare group where he dares to dream of a land where the cares of his ordinary life fade.', 'genres': ['Short', 'Drama', 'Fantasy'], 'runtime': 14, 'rated': 'UNRATED', 'cast': ['Martin Fuller', 'Mrs. William Bechtel', 'Walter Edwin', 'Ethel Jewett'], 'num_mflix_comments': 2, 'poster': 'https://m.media-amazon.com/images/M/MV5BMTMzMDcxMjgyNl5BMl5BanBnXkFtZTcwOTgxNjg4Mg@@._V1_SY1000_SX677_AL_.jpg', 'title': 'The Land Beyond the Sunset', 'fullplot': \"Thanks to the Fresh Air Fund, a slum child escapes his drunken mother for a day's outing in the country. Upon arriving, he and the other children are told a story about a mythical land of no pain. Rather then return to the slum at day's end, the lad seeks to journey to that beautiful land beyond the sunset.\", 'languages': ['English'], 'released': datetime.datetime(1912, 10, 28, 0, 0), 'directors': ['Harold M. Shaw'], 'writers': ['Dorothy G. Shore'], 'awards': {'wins': 1, 'nominations': 0, 'text': '1 win.'}, 'lastupdated': '2015-08-29 00:27:45.437000000', 'year': 1912, 'imdb': {'rating': 7.1, 'votes': 448, 'id': 488}, 'countries': ['USA'], 'type': 'movie', 'tomatoes': {'viewer': {'rating': 3.7, 'numReviews': 53, 'meter': 67}, 'lastUpdated': datetime.datetime(2015, 4, 27, 19, 6, 35)}}\n"
     ]
    }
   ],
   "source": [
    "for movie in movies.find().limit(3):\n",
    "    print(movie)\n"
   ]
  },
  {
   "cell_type": "code",
   "execution_count": 71,
   "id": "854c40c9-5013-4461-9b87-d27146fe4e12",
   "metadata": {
    "collapsed": true,
    "jupyter": {
     "outputs_hidden": true
    },
    "scrolled": true
   },
   "outputs": [
    {
     "name": "stdout",
     "output_type": "stream",
     "text": [
      "{'_id': ObjectId('573a13f4f29313caabde0c23'), 'plot': 'Kirk is enjoying the annual Christmas party extravaganza thrown by his sister until he realizes he needs to help out Christian, his brother-in-law who has a bad case of the bah-humbugs. ...', 'genres': ['Comedy', 'Family'], 'runtime': 80, 'metacritic': 18, 'rated': 'PG', 'cast': ['Kirk Cameron', 'Darren Doane', 'Bridgette Cameron', 'David Shannon'], 'poster': 'https://m.media-amazon.com/images/M/MV5BMTc3MTc3Njc5MV5BMl5BanBnXkFtZTgwNzU3NDE4MjE@._V1_SY1000_SX677_AL_.jpg', 'title': 'Saving Christmas', 'fullplot': \"Kirk is enjoying the annual Christmas party extravaganza thrown by his sister until he realizes he needs to help out Christian, his brother-in-law who has a bad case of the bah-humbugs. Kirk's fresh look at Christmas provides Christians the chance to see Christ is where He has always been: at the center of our Christmas celebrations and traditions.\", 'languages': ['English'], 'released': datetime.datetime(2014, 11, 14, 0, 0), 'directors': ['Darren Doane'], 'writers': ['Darren Doane', 'Cheston Hervey'], 'awards': {'wins': 4, 'nominations': 2, 'text': '4 wins & 2 nominations.'}, 'lastupdated': '2015-08-16 00:12:45.527000000', 'year': 2014, 'imdb': {'rating': 1.6, 'votes': 9744, 'id': 4009460}, 'countries': ['USA'], 'type': 'movie'}\n",
      "{'_id': ObjectId('573a13e7f29313caabdc8b22'), 'plot': 'A backstage and on-stage look at Justin Bieber during his rise to super stardom.', 'genres': ['Documentary', 'Music'], 'runtime': 92, 'metacritic': 39, 'rated': 'PG', 'cast': ['Justin Bieber', 'Scooter Braun', 'Ryan Good', 'Usher Raymond'], 'poster': 'https://m.media-amazon.com/images/M/MV5BMjgzMDgxNjU1Ml5BMl5BanBnXkFtZTgwMDc3NTI2MDE@._V1_SY1000_SX677_AL_.jpg', 'title': \"Justin Bieber's Believe\", 'fullplot': 'A backstage and on-stage look at Justin Bieber during his rise to super stardom.', 'languages': ['English'], 'released': datetime.datetime(2013, 12, 25, 0, 0), 'directors': ['Jon M. Chu'], 'writers': ['Sarah Landman'], 'awards': {'wins': 0, 'nominations': 1, 'text': '1 nomination.'}, 'lastupdated': '2015-08-25 00:58:14.853000000', 'year': 2013, 'imdb': {'rating': 1.6, 'votes': 16511, 'id': 3165608}, 'countries': ['USA'], 'type': 'movie'}\n",
      "{'_id': ObjectId('573a13cef29313caabd8709c'), 'plot': 'Follows Justin Bieber with some footage of performances from his 2010 concert tour.', 'genres': ['Documentary', 'Music'], 'runtime': 105, 'metacritic': 52, 'cast': ['Justin Bieber', 'Boys II Men', 'Miley Cyrus', 'Sean Kingston'], 'num_mflix_comments': 1, 'poster': 'https://m.media-amazon.com/images/M/MV5BMTY0NDQzMjIzOF5BMl5BanBnXkFtZTcwNDk2NzczNA@@._V1_SY1000_SX677_AL_.jpg', 'title': 'Justin Bieber: Never Say Never', 'fullplot': \"The camera follows Justin Bieber (1994- ) during the ten days leading up to his August, 2010, sold-out show at Madison Square Garden. Footage of these ten days of concerts, rehearsals, and down time with boyhood friends, his mom, and his entourage is inter-cut with home movies, old photos, and interviews showing a musical prodigy who loves to perform, comes to the attention of an Atlanta agent via YouTube, impresses Usher, and rockets to international stardom soon after his 15th birthday. His manager emphasizes the importance of social media and of Justin's work ethic and personality in making him a star; the camera emphasizes Bieber's look. His mom and grandparents shine.\", 'languages': ['English'], 'released': datetime.datetime(2011, 2, 11, 0, 0), 'directors': ['Jon M. Chu'], 'rated': 'G', 'awards': {'wins': 2, 'nominations': 6, 'text': '2 wins & 6 nominations.'}, 'lastupdated': '2015-08-23 00:33:04.327000000', 'year': 2011, 'imdb': {'rating': 1.6, 'votes': 73548, 'id': 1702443}, 'countries': ['USA'], 'type': 'movie', 'tomatoes': {'website': 'http://www.JustinBieberNeverSayNever.com', 'viewer': {'rating': 3.5, 'numReviews': 61961, 'meter': 65}, 'dvd': datetime.datetime(2011, 5, 13, 0, 0), 'critic': {'rating': 5.8, 'numReviews': 102, 'meter': 64}, 'boxOffice': '$73.0M', 'consensus': \"As a tour documentary, it's rather uninspired -- but as a 3D glimpse of a building pop culture phenomenon, Never Say Never is undeniably entertaining.\", 'rotten': 37, 'production': 'Paramount Pictures', 'lastUpdated': datetime.datetime(2015, 8, 18, 19, 5, 6), 'fresh': 65}}\n"
     ]
    }
   ],
   "source": [
    "# sort 로 정렬!\n",
    "for movie in movies.find().sort(\"imdb.rating\").limit(3):\n",
    "    print(movie)\n"
   ]
  },
  {
   "cell_type": "code",
   "execution_count": 72,
   "id": "576b4a37-0918-481c-8cd3-ec4f8891ee65",
   "metadata": {
    "collapsed": true,
    "jupyter": {
     "outputs_hidden": true
    }
   },
   "outputs": [
    {
     "name": "stdout",
     "output_type": "stream",
     "text": [
      "{'_id': ObjectId('573a13d3f29313caabd9473c'), 'plot': 'As profiled in the film \"Aging Out\", Risa Bejarano was a foster care success story. Recently graduated, she set out for college with multiple scholarships and a sense of excitement about ...', 'genres': ['Documentary'], 'title': 'No Tomorrow', 'poster': 'https://m.media-amazon.com/images/M/MV5BMjI2OTgxODExOF5BMl5BanBnXkFtZTgwMzQ3NTA2MDE@._V1_SY1000_SX677_AL_.jpg', 'countries': ['USA'], 'fullplot': 'As profiled in the film \"Aging Out\", Risa Bejarano was a foster care success story. Recently graduated, she set out for college with multiple scholarships and a sense of excitement about her future. Then, she was brutally murdered. Soon, \"Aging Out\" became the centerpiece of Risa\\'s murder trial, as prosecutors used the film to heighten sympathy for the victim and hatred for the defendant. Troubled that their documentary was being used to advance the prosecutor\\'s argument for the death penalty, filmmakers Vanessa Roth (Academy Aware winner, Freeheld) and Roger Weisberg (Academy Award nominee, Sound and Fury, Why Can\\'t We Be A Family Again?) made a new film, \"No Tomorrow\", which focuses on the trial and the unexpected use of \"Aging Out\" as evidence. In \"No Tomorrow\", similarities emerge between Risa and her killer, and viewers are forced to question not just whether the accused deserves to die, but whether the state deserves to kill. Through extensive interviews with those involved in the trial and tense courtroom footage, \"No Tomorrow\" poses a difficult question: What role did the filmmakers\\' previous documentary play in this chilling death penalty trial?', 'languages': ['English'], 'directors': ['Vanessa Roth'], 'awards': {'wins': 1, 'nominations': 0, 'text': '1 win.'}, 'lastupdated': '2014-10-05 00:35:42.680000000', 'year': 2010, 'imdb': {'rating': '', 'votes': '', 'id': 1877727}, 'type': 'movie', 'tomatoes': {'viewer': {'rating': 3.8, 'numReviews': 7, 'meter': 50}, 'lastUpdated': datetime.datetime(2015, 3, 2, 18, 18, 27)}}\n",
      "{'_id': ObjectId('573a13cff29313caabd88f5b'), 'plot': 'Three scouts, on the eve of their last camp-out, discover the true meaning of friendship when they attempt to save their town from a zombie outbreak.', 'genres': ['Comedy', 'Horror'], 'runtime': 93, 'rated': 'R', 'cast': ['Halston Sage', 'Tye Sheridan', 'Patrick Schwarzenegger', 'Cloris Leachman'], 'num_mflix_comments': 1, 'poster': 'https://m.media-amazon.com/images/M/MV5BMTY4NjczNjE4OV5BMl5BanBnXkFtZTgwODk0MjQ5NjE@._V1_SY1000_SX677_AL_.jpg', 'title': 'Scouts Guide to the Zombie Apocalypse', 'fullplot': 'Three scouts, on the eve of their last camp-out, discover the true meaning of friendship when they attempt to save their town from a zombie outbreak.', 'languages': ['English'], 'released': datetime.datetime(2015, 10, 30, 0, 0), 'directors': ['Christopher Landon'], 'writers': ['Emi Mochizuki (screenplay)', 'Carrie Lee Wilson (screenplay)', 'Christopher Landon (screenplay)', 'Lona Williams (screenplay)'], 'awards': {'wins': 0, 'nominations': 1, 'text': '1 nomination.'}, 'lastupdated': '2015-08-27 00:00:19.697000000', 'year': 2015, 'imdb': {'rating': '', 'votes': '', 'id': 1727776}, 'countries': ['USA'], 'type': 'movie', 'tomatoes': {'viewer': {'rating': 2.8, 'numReviews': 91}, 'website': 'http://www.scoutsandzombiesmovie.com/', 'production': 'Paramount Pictures', 'lastUpdated': datetime.datetime(2015, 8, 30, 20, 13, 8)}}\n",
      "{'_id': ObjectId('573a13b8f29313caabd4d540'), 'plot': \"The remarkable love story inspired by the lives of artists Lili Elbe and Gerda Wegener. Lili and Gerda's marriage and work evolve as they navigate Lili's groundbreaking journey as a transgender pioneer.\", 'genres': ['Biography', 'Drama'], 'runtime': 120, 'cast': ['Alicia Vikander', 'Eddie Redmayne', 'Amber Heard', 'Matthias Schoenaerts'], 'num_mflix_comments': 1, 'poster': 'https://m.media-amazon.com/images/M/MV5BMjA0NjA4NjE2Nl5BMl5BanBnXkFtZTgwNzIxNTY2NjE@._V1_SY1000_SX677_AL_.jpg', 'title': 'The Danish Girl', 'fullplot': \"Copenhagen, early 1920s. Danish artist, Gerda Wegener, painted her own husband, Einar Wegener (Eddie Redmayne), as a lady in her painting. When the painting gained popularity, Einar started to change his appearance into a female appearance and named himself Lili Elbe. With his feminism passion and Gerda's support, Einar - or Elbe attempted first-ever male to female sex reassignment surgery, a decision that turned into a massive change for their marriage, that Gerda realized her own husband is no longer a man or the person she married before. A childhood friend of Einar, art-dealer Hans Axgil (Matthias Schoenaerts), shows up and forms a complex love triangle with the couple.\", 'languages': ['English'], 'released': datetime.datetime(2015, 11, 27, 0, 0), 'directors': ['Tom Hooper'], 'writers': ['David Ebershoff (novel)', 'Lucinda Coxon (screenplay)'], 'awards': {'wins': 0, 'nominations': 1, 'text': '1 nomination.'}, 'lastupdated': '2015-09-01 01:17:41.067000000', 'year': 2015, 'imdb': {'rating': '', 'votes': '', 'id': 810819}, 'countries': ['USA', 'UK'], 'type': 'movie', 'tomatoes': {'viewer': {'rating': 4.1, 'numReviews': 300}, 'lastUpdated': datetime.datetime(2015, 9, 10, 17, 15, 10)}}\n"
     ]
    }
   ],
   "source": [
    "# skip으로 데이터를 건너뛰고 봄!\n",
    "for movie in movies.find().sort(\"imdb.rating\",-1).skip(3).limit(3):\n",
    "    print(movie)\n"
   ]
  },
  {
   "cell_type": "markdown",
   "id": "80f6b711-972b-4fcf-b228-b074cb3d5dee",
   "metadata": {},
   "source": [
    "# 정규표현식"
   ]
  },
  {
   "cell_type": "code",
   "execution_count": 73,
   "id": "a8f7ec79-ef51-43fa-85d0-9b25f8dbf001",
   "metadata": {},
   "outputs": [
    {
     "name": "stdout",
     "output_type": "stream",
     "text": [
      "{'_id': ObjectId('573a1392f29313caabcdb497'), 'plot': 'A young woman comes to Hollywood with dreams of stardom, but achieves them only with the help of an alcoholic leading man whose best days are behind him.', 'genres': ['Drama'], 'runtime': 111, 'rated': 'NOT RATED', 'cast': ['Janet Gaynor', 'Fredric March', 'Adolphe Menjou', 'May Robson'], 'poster': 'https://m.media-amazon.com/images/M/MV5BMmE5ODI0NzMtYjc5Yy00MzMzLTk5OTQtN2Q3MzgwOTllMTY3XkEyXkFqcGdeQXVyNjc0MzMzNjA@._V1_SY1000_SX677_AL_.jpg', 'title': 'A Star Is Born', 'fullplot': 'Esther Blodgett is just another starry-eyed farm kid trying to break into the movies. Waitressing at a Hollywood party, she catches the eye of alcoholic star Norman Maine, is given a test, and is caught up in the Hollywood glamor machine (ruthlessly satirized). She and her idol Norman marry; but his career abruptly dwindles to nothing', 'languages': ['English'], 'released': datetime.datetime(1937, 4, 27, 0, 0), 'directors': ['William A. Wellman', 'Jack Conway'], 'writers': ['Dorothy Parker (screen play)', 'Alan Campbell (screen play)', 'Robert Carson (screen play)', 'William A. Wellman (from a story by)', 'Robert Carson (from a story by)'], 'awards': {'wins': 3, 'nominations': 7, 'text': 'Won 1 Oscar. Another 2 wins & 7 nominations.'}, 'lastupdated': '2015-09-01 00:55:54.333000000', 'year': 1937, 'imdb': {'rating': 7.7, 'votes': 5005, 'id': 29606}, 'countries': ['USA'], 'type': 'movie', 'tomatoes': {'website': 'http://www.vcientertainment.com/Film-Categories?product_id=73', 'viewer': {'rating': 3.6, 'numReviews': 2526, 'meter': 79}, 'dvd': datetime.datetime(2004, 11, 16, 0, 0), 'critic': {'rating': 7.4, 'numReviews': 11, 'meter': 100}, 'lastUpdated': datetime.datetime(2015, 8, 26, 18, 58, 34), 'rotten': 0, 'production': 'Image Entertainment Inc.', 'fresh': 11}}\n"
     ]
    }
   ],
   "source": [
    "import re # 정규표현식 패턴 만드는 라이브러리\n",
    "\n",
    "regex=re.compile(\"star\",re.I)  # I -> ignore case : 대문자든 소문자든 무시하고 찾아와라!\n",
    "\n",
    "for movie in movies.find(\n",
    "    {\"title\":regex}\n",
    ").limit(1) :\n",
    "    print(movie)"
   ]
  },
  {
   "cell_type": "code",
   "execution_count": 78,
   "id": "dcb31097-5c13-4bb3-9095-64810c60d611",
   "metadata": {},
   "outputs": [
    {
     "name": "stdout",
     "output_type": "stream",
     "text": [
      "['Action', 'Adventure', 'Animation', 'Biography', 'Comedy', 'Crime', 'Documentary', 'Drama', 'Family', 'Fantasy', 'Film-Noir', 'History', 'Horror', 'Music', 'Musical', 'Mystery', 'News', 'Romance', 'Sci-Fi', 'Short', 'Sport', 'Talk-Show', 'Thriller', 'War', 'Western']\n"
     ]
    }
   ],
   "source": [
    "# 찾아오는 값을 다 나눠서 리스트로 가져오기\n",
    "distinct_genres = movies.distinct(\"genres\")\n",
    "print(distinct_genres)"
   ]
  },
  {
   "cell_type": "code",
   "execution_count": 79,
   "id": "bd5b4b5e-e5d3-42ed-8287-17688e098dae",
   "metadata": {},
   "outputs": [
    {
     "name": "stdout",
     "output_type": "stream",
     "text": [
      "{'_id': ObjectId('573a1390f29313caabcd5293'), 'plot': \"Young Pauline is left a lot of money when her wealthy uncle dies. However, her uncle's secretary has been named as her guardian until she marries, at which time she will officially take ...\", 'genres': ['Action'], 'runtime': 199, 'cast': ['Pearl White', 'Crane Wilbur', 'Paul Panzer', 'Edward Josè'], 'num_mflix_comments': 1, 'poster': 'https://m.media-amazon.com/images/M/MV5BMzgxODk1Mzk2Ml5BMl5BanBnXkFtZTgwMDg0NzkwMjE@._V1_SY1000_SX677_AL_.jpg', 'title': 'The Perils of Pauline', 'fullplot': 'Young Pauline is left a lot of money when her wealthy uncle dies. However, her uncle\\'s secretary has been named as her guardian until she marries, at which time she will officially take possession of her inheritance. Meanwhile, her \"guardian\" and his confederates constantly come up with schemes to get rid of Pauline so that he can get his hands on the money himself.', 'languages': ['English'], 'released': datetime.datetime(1914, 3, 23, 0, 0), 'directors': ['Louis J. Gasnier', 'Donald MacKenzie'], 'writers': ['Charles W. Goddard (screenplay)', 'Basil Dickey (screenplay)', 'Charles W. Goddard (novel)', 'George B. Seitz', 'Bertram Millhauser'], 'awards': {'wins': 1, 'nominations': 0, 'text': '1 win.'}, 'lastupdated': '2015-09-12 00:01:18.647000000', 'year': 1914, 'imdb': {'rating': 7.6, 'votes': 744, 'id': 4465}, 'countries': ['USA'], 'type': 'movie', 'tomatoes': {'viewer': {'rating': 2.8, 'numReviews': 9}, 'production': 'Pathè Frères', 'lastUpdated': datetime.datetime(2015, 9, 11, 17, 46, 19)}}\n",
      "{'_id': ObjectId('573a1390f29313caabcd5967'), 'plot': 'An intrepid reporter and his loyal friend battle a bizarre secret society of criminals known as The Vampires.', 'genres': ['Action', 'Adventure', 'Crime'], 'runtime': 399, 'rated': 'NOT RATED', 'cast': ['Musidora', 'èdouard Mathè', 'Marcel Lèvesque', 'Jean Aymè'], 'poster': 'https://m.media-amazon.com/images/M/MV5BMTc1NTY3NDIzNl5BMl5BanBnXkFtZTgwNTIyODg5MTE@._V1_SY1000_SX677_AL_.jpg', 'title': 'Les vampires', 'fullplot': 'An intrepid reporter and his loyal friend battle a bizarre secret society of criminals known as The Vampires.', 'languages': ['French'], 'released': datetime.datetime(1916, 11, 23, 0, 0), 'directors': ['Louis Feuillade'], 'writers': ['Louis Feuillade'], 'awards': {'wins': 0, 'nominations': 1, 'text': '1 nomination.'}, 'lastupdated': '2015-09-02 00:24:27.333000000', 'year': 1915, 'imdb': {'rating': 6.8, 'votes': 2878, 'id': 6206}, 'countries': ['France'], 'type': 'movie', 'tomatoes': {'viewer': {'rating': 3.8, 'numReviews': 2118, 'meter': 82}, 'dvd': datetime.datetime(2000, 5, 16, 0, 0), 'critic': {'rating': 8.8, 'numReviews': 13, 'meter': 100}, 'lastUpdated': datetime.datetime(2015, 9, 15, 17, 2, 33), 'rotten': 0, 'fresh': 13}}\n",
      "{'_id': ObjectId('573a1391f29313caabcd68d0'), 'plot': 'A penniless young man tries to save an heiress from kidnappers and help her secure her inheritance.', 'genres': ['Comedy', 'Short', 'Action'], 'runtime': 22, 'rated': 'TV-G', 'cast': ['Harold Lloyd', 'Mildred Davis', \"'Snub' Pollard\", 'Peggy Cartwright'], 'poster': 'https://m.media-amazon.com/images/M/MV5BNzE1OWRlNDgtMTllNi00NTZiLWIyNTktYTk0MDY1ZWUwYTc5XkEyXkFqcGdeQXVyMjUxODE0MDY@._V1_SY1000_SX677_AL_.jpg', 'title': 'From Hand to Mouth', 'fullplot': \"As a penniless man worries about how he will manage to eat, he is joined by a young waif and her dog, who are in the same predicament. Meanwhile, across town a dishonest lawyer is working with a gang of criminals, trying to swindle an innocent young heiress out of her inheritance. As the heiress is on her way home from the lawyer's office, she notices the young man and the waif in the midst of their latest problem with the authorities, and she rescues them. Later on, the young man will have an unexpected opportunity to repay her for her kindness.\", 'languages': ['English'], 'released': datetime.datetime(1919, 12, 28, 0, 0), 'directors': ['Alfred J. Goulding', 'Hal Roach'], 'writers': ['H.M. Walker (titles)'], 'awards': {'wins': 0, 'nominations': 1, 'text': '1 nomination.'}, 'lastupdated': '2015-04-17 00:16:14.220000000', 'year': 1919, 'imdb': {'rating': 7.0, 'votes': 639, 'id': 10146}, 'countries': ['USA'], 'type': 'movie', 'tomatoes': {'viewer': {'rating': 3.3, 'numReviews': 71, 'meter': 55}, 'production': 'Pathè Exchange', 'lastUpdated': datetime.datetime(2015, 8, 21, 18, 45, 11)}}\n"
     ]
    }
   ],
   "source": [
    "#$in 은 배열 필드내에 하나만이라도 가지고 있다라면 찾아올 수 있음\n",
    "for movie in movies.find({\"genres\":{\"$in\": [\"Action\",\"Adventure\"]}}).limit(3):\n",
    "    print(movie)"
   ]
  },
  {
   "cell_type": "code",
   "execution_count": 80,
   "id": "37ac0817-e74f-41f4-bdff-4efe630d7bdc",
   "metadata": {},
   "outputs": [
    {
     "name": "stdout",
     "output_type": "stream",
     "text": [
      "{'_id': ObjectId('573a1390f29313caabcd4135'), 'plot': 'Three men hammer on an anvil and pass a bottle of beer around.', 'genres': ['Short'], 'runtime': 1, 'cast': ['Charles Kayser', 'John Ott'], 'num_mflix_comments': 1, 'title': 'Blacksmith Scene', 'fullplot': 'A stationary camera looks at a large anvil with a blacksmith behind it and one on either side. The smith in the middle draws a heated metal rod from the fire, places it on the anvil, and all three begin a rhythmic hammering. After several blows, the metal goes back in the fire. One smith pulls out a bottle of beer, and they each take a swig. Then, out comes the glowing metal and the hammering resumes.', 'countries': ['USA'], 'released': datetime.datetime(1893, 5, 9, 0, 0), 'directors': ['William K.L. Dickson'], 'rated': 'UNRATED', 'awards': {'wins': 1, 'nominations': 0, 'text': '1 win.'}, 'lastupdated': '2015-08-26 00:03:50.133000000', 'year': 1893, 'imdb': {'rating': 6.2, 'votes': 1189, 'id': 5}, 'type': 'movie', 'tomatoes': {'viewer': {'rating': 3.0, 'numReviews': 184, 'meter': 32}, 'lastUpdated': datetime.datetime(2015, 6, 28, 18, 34, 9)}}\n",
      "{'_id': ObjectId('573a1390f29313caabcd42e8'), 'plot': 'A group of bandits stage a brazen train hold-up, only to find a determined posse hot on their heels.', 'genres': ['Short', 'Western'], 'runtime': 11, 'cast': ['A.C. Abadie', \"Gilbert M. 'Broncho Billy' Anderson\", 'George Barnes', 'Justus D. Barnes'], 'poster': 'https://m.media-amazon.com/images/M/MV5BMTU3NjE5NzYtYTYyNS00MDVmLWIwYjgtMmYwYWIxZDYyNzU2XkEyXkFqcGdeQXVyNzQzNzQxNzI@._V1_SY1000_SX677_AL_.jpg', 'title': 'The Great Train Robbery', 'fullplot': \"Among the earliest existing films in American cinema - notable as the first film that presented a narrative story to tell - it depicts a group of cowboy outlaws who hold up a train and rob the passengers. They are then pursued by a Sheriff's posse. Several scenes have color included - all hand tinted.\", 'languages': ['English'], 'released': datetime.datetime(1903, 12, 1, 0, 0), 'directors': ['Edwin S. Porter'], 'rated': 'TV-G', 'awards': {'wins': 1, 'nominations': 0, 'text': '1 win.'}, 'lastupdated': '2015-08-13 00:27:59.177000000', 'year': 1903, 'imdb': {'rating': 7.4, 'votes': 9847, 'id': 439}, 'countries': ['USA'], 'type': 'movie', 'tomatoes': {'viewer': {'rating': 3.7, 'numReviews': 2559, 'meter': 75}, 'fresh': 6, 'critic': {'rating': 7.6, 'numReviews': 6, 'meter': 100}, 'rotten': 0, 'lastUpdated': datetime.datetime(2015, 8, 8, 19, 16, 10)}}\n",
      "{'_id': ObjectId('573a1390f29313caabcd446f'), 'plot': \"A greedy tycoon decides, on a whim, to corner the world market in wheat. This doubles the price of bread, forcing the grain's producers into charity lines and further into poverty. The film...\", 'genres': ['Short', 'Drama'], 'runtime': 14, 'cast': ['Frank Powell', 'Grace Henderson', 'James Kirkwood', 'Linda Arvidson'], 'num_mflix_comments': 1, 'title': 'A Corner in Wheat', 'fullplot': \"A greedy tycoon decides, on a whim, to corner the world market in wheat. This doubles the price of bread, forcing the grain's producers into charity lines and further into poverty. The film continues to contrast the ironic differences between the lives of those who work to grow the wheat and the life of the man who dabbles in its sale for profit.\", 'languages': ['English'], 'released': datetime.datetime(1909, 12, 13, 0, 0), 'directors': ['D.W. Griffith'], 'rated': 'G', 'awards': {'wins': 1, 'nominations': 0, 'text': '1 win.'}, 'lastupdated': '2015-08-13 00:46:30.660000000', 'year': 1909, 'imdb': {'rating': 6.6, 'votes': 1375, 'id': 832}, 'countries': ['USA'], 'type': 'movie', 'tomatoes': {'viewer': {'rating': 3.6, 'numReviews': 109, 'meter': 73}, 'lastUpdated': datetime.datetime(2015, 5, 11, 18, 36, 53)}}\n"
     ]
    }
   ],
   "source": [
    "# $exists : 존재하다 => 특정 필드가 문서에 존재하는지 여부에 따라서 문서를 선택해서 값을 찾아옴!\n",
    "for movie in movies.find({\"writers\":{\"$exists\":False}}).limit(3): #값이 존재하지 않으면 충족하지 않는 값을 찾아와서 \n",
    "    print(movie)"
   ]
  },
  {
   "cell_type": "code",
   "execution_count": 85,
   "id": "24c52279-1817-4208-ba29-d96cc393260e",
   "metadata": {},
   "outputs": [
    {
     "name": "stdout",
     "output_type": "stream",
     "text": [
      "3805\n"
     ]
    }
   ],
   "source": [
    "# count_document : 인자값의 조건에 일치하는값을 가져옴\n",
    "count = movies.count_documents({\"genres\":{\"$in\":[\"Action\",\"Adventure\"]}})\n",
    "print(count)"
   ]
  }
 ],
 "metadata": {
  "kernelspec": {
   "display_name": "Python [conda env:base] *",
   "language": "python",
   "name": "conda-base-py"
  },
  "language_info": {
   "codemirror_mode": {
    "name": "ipython",
    "version": 3
   },
   "file_extension": ".py",
   "mimetype": "text/x-python",
   "name": "python",
   "nbconvert_exporter": "python",
   "pygments_lexer": "ipython3",
   "version": "3.13.5"
  }
 },
 "nbformat": 4,
 "nbformat_minor": 5
}
