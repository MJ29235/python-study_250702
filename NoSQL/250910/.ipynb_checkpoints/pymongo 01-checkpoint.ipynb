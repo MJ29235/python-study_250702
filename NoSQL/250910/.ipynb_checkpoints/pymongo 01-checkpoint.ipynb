{
 "cells": [
  {
   "cell_type": "markdown",
   "id": "ddf2f13b-5b19-4df0-9eb8-11704f0db3e4",
   "metadata": {},
   "source": [
    "#### SQL : MySQL 프로그램 툴 활용, SQL문법 - > python 데이터 수집 & python에서 SQL 문법 다루거나 MySQL로 데이터 전송\n",
    "NoSQL :NoSQL 문법 학습 후 python 연동방법"
   ]
  },
  {
   "cell_type": "markdown",
   "id": "f52852cd-4ae8-4eee-9c37-ee1efbf21afc",
   "metadata": {},
   "source": [
    "#### python 에서 NoSQL 문법을 다루기 위해서는 NoSQL 문법을 사용할 수 있는 MongoDB를 사용할 수 있어야함!"
   ]
  },
  {
   "cell_type": "code",
   "execution_count": 1,
   "id": "20322375-d4db-456b-b9a9-e34820f002bc",
   "metadata": {},
   "outputs": [
    {
     "name": "stdout",
     "output_type": "stream",
     "text": [
      "Collecting pymongo\n",
      "  Downloading pymongo-4.14.1-cp313-cp313-win_amd64.whl.metadata (22 kB)\n",
      "Collecting dnspython<3.0.0,>=1.16.0 (from pymongo)\n",
      "  Downloading dnspython-2.8.0-py3-none-any.whl.metadata (5.7 kB)\n",
      "Downloading pymongo-4.14.1-cp313-cp313-win_amd64.whl (956 kB)\n",
      "   ---------------------------------------- 0.0/956.1 kB ? eta -:--:--\n",
      "   --------------------------------------- 956.1/956.1 kB 22.8 MB/s eta 0:00:00\n",
      "Downloading dnspython-2.8.0-py3-none-any.whl (331 kB)\n",
      "Installing collected packages: dnspython, pymongo\n",
      "\n",
      "   ---------------------------------------- 0/2 [dnspython]\n",
      "   ---------------------------------------- 0/2 [dnspython]\n",
      "   ---------------------------------------- 0/2 [dnspython]\n",
      "   ---------------------------------------- 0/2 [dnspython]\n",
      "   ---------------------------------------- 0/2 [dnspython]\n",
      "   -------------------- ------------------- 1/2 [pymongo]\n",
      "   -------------------- ------------------- 1/2 [pymongo]\n",
      "   -------------------- ------------------- 1/2 [pymongo]\n",
      "   -------------------- ------------------- 1/2 [pymongo]\n",
      "   -------------------- ------------------- 1/2 [pymongo]\n",
      "   -------------------- ------------------- 1/2 [pymongo]\n",
      "   -------------------- ------------------- 1/2 [pymongo]\n",
      "   -------------------- ------------------- 1/2 [pymongo]\n",
      "   ---------------------------------------- 2/2 [pymongo]\n",
      "\n",
      "Successfully installed dnspython-2.8.0 pymongo-4.14.1\n"
     ]
    }
   ],
   "source": [
    "!pip install pymongo"
   ]
  },
  {
   "cell_type": "code",
   "execution_count": 3,
   "id": "6eda2619-0855-4e11-a5ae-d3c90687b71e",
   "metadata": {},
   "outputs": [],
   "source": [
    "from pymongo import MongoClient\n",
    "## python 을 mongodb와 연결하기\n",
    "client = MongoClient(\"mongodb://localhost:27017\") # 커넥션!"
   ]
  },
  {
   "cell_type": "markdown",
   "id": "5c09a738-f2ec-4320-bae8-6e506fd13a0c",
   "metadata": {},
   "source": [
    "#### 객체지향 프로그래밍 언어는 객체 내부에 값ㅇ르 찾아올 때, 1) 대괄호 표기법// 2) 온점표기법\n",
    "#### 온점 표기법이 대중적으로 사용! => 대괄호[]의 경우 열고 닫는데 귀찮음, 실수 가능성 높음, 특정 문자열로 인식할 가능성 높음\n",
    "#### db = client.sample_mflix 해당 db를 찾아오고 변수를 선언해서 넣어주는것!\n",
    "#### db=client[\"sample_mflix\"]대괄호 표기 \n",
    "#### NoSQL 때로는 조건값에 일치하지 않아도 값을 출력하는 경우도 있는 등 SQL 대비 문법 유연한 부분!!"
   ]
  },
  {
   "cell_type": "code",
   "execution_count": 5,
   "id": "db8e1a78-e15c-43f1-bbd8-183b44cd42af",
   "metadata": {},
   "outputs": [],
   "source": [
    "db=client[\"test\"] # 해당 DB가 없으면 만듦!\n",
    "\n",
    "#DB안에 컬렉션 만들기\n",
    "collections = db.list_collection_names() # collection 리스트를 찾아오고 이 값을 collections안에 담음\n",
    "for collection in collections :\n",
    "    print(collections)"
   ]
  },
  {
   "cell_type": "code",
   "execution_count": 7,
   "id": "c11d2cf7-b850-472d-baf5-cdd90555d3e5",
   "metadata": {},
   "outputs": [],
   "source": [
    "users = db.users"
   ]
  },
  {
   "cell_type": "code",
   "execution_count": 8,
   "id": "858f3b45-d4c5-4df3-99ab-381440c84198",
   "metadata": {},
   "outputs": [],
   "source": [
    "data = {\"name\":\"John\",\"age\":30} #Bjson 의 형태로 만들어줘야함! \n",
    "result = users.insert_one(data)"
   ]
  },
  {
   "cell_type": "code",
   "execution_count": 9,
   "id": "93757e76-3ddb-4f00-9f44-9006e67a926f",
   "metadata": {},
   "outputs": [],
   "source": [
    "# CLIENT를 종결하지 않으면 메모리 누수가 일어남. 실시간으로 진행시킴.."
   ]
  },
  {
   "cell_type": "code",
   "execution_count": 11,
   "id": "1a14999e-49e0-45aa-9dbb-0d0e0ff223cb",
   "metadata": {},
   "outputs": [],
   "source": [
    "client.close()"
   ]
  },
  {
   "cell_type": "code",
   "execution_count": 15,
   "id": "859c9e83-639c-4562-94a9-f872dc8ee4dd",
   "metadata": {},
   "outputs": [],
   "source": [
    "# With 절을 통해 마지막 구문이 끝나는 순간 client.close()를 사용하지않고 구문을 종결! 메모리 사용도 종료 됨.\n",
    "\n",
    "with MongoClient(\"mongodb://localhost:27017\") as client:\n",
    "    db = client[\"test\"]\n",
    "    users = db.users\n",
    "    data = {\"name\":\"John\",\"age\":30}\n",
    "    result = users.insert_one(data)"
   ]
  },
  {
   "cell_type": "code",
   "execution_count": null,
   "id": "3a2234d5-d6ce-4506-be30-c6b468f69166",
   "metadata": {},
   "outputs": [],
   "source": [
    "#NoSQL 데이터 삽입 -> insertOne() => isnert_one() // insertMany() = insert_many()"
   ]
  },
  {
   "cell_type": "code",
   "execution_count": 16,
   "id": "62570a5c-757b-42f6-abbf-ef035d01f70f",
   "metadata": {},
   "outputs": [
    {
     "name": "stdout",
     "output_type": "stream",
     "text": [
      "InsertOneResult(ObjectId('68c0e375dec48f04850fa6a1'), acknowledged=True)\n"
     ]
    }
   ],
   "source": [
    "print(result)"
   ]
  },
  {
   "cell_type": "code",
   "execution_count": 17,
   "id": "291b2762-31e3-49bf-821d-67cc5d0cde6b",
   "metadata": {},
   "outputs": [
    {
     "name": "stdout",
     "output_type": "stream",
     "text": [
      "68c0e375dec48f04850fa6a1\n"
     ]
    }
   ],
   "source": [
    "print(result.inserted_id) # 결과 값은 id를 통해서 식별가능!!"
   ]
  },
  {
   "cell_type": "code",
   "execution_count": 24,
   "id": "a68bae2a-0c77-4003-b93b-4dab965d3fb8",
   "metadata": {},
   "outputs": [
    {
     "name": "stdout",
     "output_type": "stream",
     "text": [
      "Inserted IDs :  68c0e84cdec48f04850fa6b1\n",
      "Inserted IDs:  [ObjectId('68c0e84cdec48f04850fa6b2'), ObjectId('68c0e84cdec48f04850fa6b3'), ObjectId('68c0e84cdec48f04850fa6b4')]\n"
     ]
    }
   ],
   "source": [
    "from pymongo import MongoClient\n",
    "client = MongoClient(\"mongodb://localhost:27017\")\n",
    "\n",
    "db = client[\"test\"]\n",
    "collection = db.users\n",
    "data = {\"name\" : \"John\", \"age\" : 30}\n",
    "result = collection.insert_one(data) # == result = collection.insert_one({\"name\" : \"John\", \"age\" : 30})\n",
    "print(\"Inserted IDs : \",result.inserted_id)\n",
    "\n",
    "data = [  #데이터 변수 재할당!\n",
    "    {\"name\":\"Alice\",\"age\":25},\n",
    "    {\"name\":\"Bob\",\"age\":35},\n",
    "    {\"name\":\"Charlie\",\"age\":45}\n",
    "]\n",
    "\n",
    "result = collection.insert_many(data)\n",
    "print(\"Inserted IDs: \",result.inserted_ids)"
   ]
  },
  {
   "cell_type": "markdown",
   "id": "5a293853-126a-4a4a-9741-07433b6acb02",
   "metadata": {},
   "source": [
    "## python에서 Mongo DB 데이터 조회\n"
   ]
  },
  {
   "cell_type": "code",
   "execution_count": null,
   "id": "dbb1289c-de82-4e18-bc14-ef2b5d9f3ad1",
   "metadata": {},
   "outputs": [],
   "source": [
    "# find() -> 모든 매칭되는 값을 찾고 종료 || find_one() -> 제일처음 매칭되는 값 하나 찾고 종료"
   ]
  },
  {
   "cell_type": "code",
   "execution_count": 28,
   "id": "df66397d-49b5-46fc-a23c-52a560795b6c",
   "metadata": {},
   "outputs": [
    {
     "name": "stdout",
     "output_type": "stream",
     "text": [
      "None\n",
      "{'_id': ObjectId('68c0e83bdec48f04850fa6ae'), 'name': 'Bob', 'age': 35}\n"
     ]
    }
   ],
   "source": [
    "db = client[\"test\"] # test DB 접속, \n",
    "collection = db.users # user컬렉션으로!\n",
    "\n",
    "document = collection.find_one({\"name\": \"Dave\"})\n",
    "print(document) # Dave는 없기 떄문에 None 값을 출력 (Error를 출력 X)\n",
    "\n",
    "document = collection.find_one({\"name\": \"Bob\"})\n",
    "print(document) "
   ]
  },
  {
   "cell_type": "code",
   "execution_count": 30,
   "id": "b6035583-6cab-4178-88fd-ddb5475f580d",
   "metadata": {},
   "outputs": [
    {
     "name": "stdout",
     "output_type": "stream",
     "text": [
      "<pymongo.synchronous.cursor.Cursor object at 0x0000027056BB4F50>\n",
      "{'_id': ObjectId('68c0ddf8dec48f04850fa69c'), 'name': 'John', 'age': 30}\n",
      "{'_id': ObjectId('68c0e375dec48f04850fa6a1'), 'name': 'John', 'age': 30}\n",
      "{'_id': ObjectId('68c0e83bdec48f04850fa6ac'), 'name': 'John', 'age': 30}\n",
      "{'_id': ObjectId('68c0e83bdec48f04850fa6ad'), 'name': 'Alice', 'age': 25}\n",
      "{'_id': ObjectId('68c0e83bdec48f04850fa6ae'), 'name': 'Bob', 'age': 35}\n",
      "{'_id': ObjectId('68c0e83bdec48f04850fa6af'), 'name': 'Charlie', 'age': 45}\n",
      "{'_id': ObjectId('68c0e84cdec48f04850fa6b1'), 'name': 'John', 'age': 30}\n",
      "{'_id': ObjectId('68c0e84cdec48f04850fa6b2'), 'name': 'Alice', 'age': 25}\n",
      "{'_id': ObjectId('68c0e84cdec48f04850fa6b3'), 'name': 'Bob', 'age': 35}\n",
      "{'_id': ObjectId('68c0e84cdec48f04850fa6b4'), 'name': 'Charlie', 'age': 45}\n"
     ]
    }
   ],
   "source": [
    "#모든 데이터를 찾아온다면 (find) -> 리스트의 형태로 가져옴\n",
    "documents  = collection.find()\n",
    "print(documents) # 리스트라것 객체의 형태로 가져옴 -> 보려면 for in 문으로 리스트출력!\n",
    "\n",
    "for document in documents:\n",
    "    print(document)"
   ]
  },
  {
   "cell_type": "markdown",
   "id": "2a9ade7d-92a4-4117-8204-1740058dfcae",
   "metadata": {},
   "source": [
    "### 데이터 문서 수정(update_one(), update_many()) 하는 방법"
   ]
  },
  {
   "cell_type": "code",
   "execution_count": 35,
   "id": "d0e08f34-d058-446a-8980-c595788195a3",
   "metadata": {},
   "outputs": [
    {
     "name": "stdout",
     "output_type": "stream",
     "text": [
      "Modified Count: 1\n"
     ]
    }
   ],
   "source": [
    "collection = db.users # users 컬렉션을 찾아옴\n",
    "#collection.update_one()안에 첫번쨰요소 : 조건(필터), 두번쨰 요소 : 변경할 값(=update)\n",
    "filter = {\"name\":\"John\"}\n",
    "update = {\"$set\":{\"age\": 31}}\n",
    "result = collection.update_one(filter,update)\n",
    "print(\"Modified Count:\",result.modified_count)"
   ]
  },
  {
   "cell_type": "code",
   "execution_count": 36,
   "id": "66a60e9b-54f2-416f-8096-4f9ec96e6ee6",
   "metadata": {},
   "outputs": [],
   "source": [
    "data = {\"name\" : \"Json\", \"age\" : 40}\n",
    "result = collection.insert_one(data)"
   ]
  },
  {
   "cell_type": "code",
   "execution_count": 37,
   "id": "e80a5464-1caf-4ee9-9499-a0c24fb55721",
   "metadata": {},
   "outputs": [
    {
     "name": "stdout",
     "output_type": "stream",
     "text": [
      "Modified Count: 2\n"
     ]
    }
   ],
   "source": [
    "filter = {\"age\":{\"$gt\":41}}\n",
    "update = {\"$set\": {\"is_available\": True}} # 필드생성 , True값이들어옴\n",
    "result = collection.update_many(filter,update)\n",
    "\n",
    "print(\"Modified Count:\",result.modified_count)"
   ]
  },
  {
   "cell_type": "markdown",
   "id": "1c215385-8fa1-487a-8950-abe43c482216",
   "metadata": {},
   "source": [
    "### 데이터 문서 삭제(delete_one(), delete_many()) 하는 방법"
   ]
  },
  {
   "cell_type": "code",
   "execution_count": 41,
   "id": "5a3347e5-37a4-4627-9d6d-bf02a0f5fc1c",
   "metadata": {},
   "outputs": [
    {
     "name": "stdout",
     "output_type": "stream",
     "text": [
      "Deleted Count: 1\n"
     ]
    }
   ],
   "source": [
    "collection = db.users\n",
    "filter = {\"name\": \"John\"}\n",
    "result = collection.delete_one(filter) # 인자값으로 조건값만 넣어주면 삭제!\n",
    "print(\"Deleted Count:\",result.deleted_count)"
   ]
  },
  {
   "cell_type": "code",
   "execution_count": 44,
   "id": "8197f42a-33f6-473a-b82c-2fee34e666e9",
   "metadata": {},
   "outputs": [
    {
     "name": "stdout",
     "output_type": "stream",
     "text": [
      "Deleted Count: 0\n"
     ]
    }
   ],
   "source": [
    "collection = db.users\n",
    "filter = {\"age\":{\"$lt\":10}} # 존재하지 않는 값을 넣으면\n",
    "result = collection.delete_many(filter)\n",
    "print(\"Deleted Count:\",result.deleted_count) # 0을 print\n"
   ]
  },
  {
   "cell_type": "code",
   "execution_count": 45,
   "id": "2936d284-b5e9-4442-85ae-d04d174ed598",
   "metadata": {},
   "outputs": [],
   "source": [
    "client.close()"
   ]
  },
  {
   "cell_type": "markdown",
   "id": "6ef7d409-e5fe-4a48-8c1e-55cc7938abfa",
   "metadata": {},
   "source": [
    "# sample_mflix예제"
   ]
  },
  {
   "cell_type": "code",
   "execution_count": 62,
   "id": "48619704-0532-4ebb-b861-e86703cd1e85",
   "metadata": {},
   "outputs": [
    {
     "name": "stdout",
     "output_type": "stream",
     "text": [
      "Collection(Database(MongoClient(host=['localhost:27017'], document_class=dict, tz_aware=False, connect=True), 'sample_mflix'), 'movies')\n"
     ]
    }
   ],
   "source": [
    "from pymongo import MongoClient\n",
    "client = MongoClient(\"mongodb://localhost:27017\")\n",
    "\n",
    "#db 선언으로 내가 원하는 db 정의해주기!\n",
    "db = client.sample_mflix\n",
    "movies= db.movies\n",
    "\n",
    "print(movies)"
   ]
  },
  {
   "cell_type": "code",
   "execution_count": 63,
   "id": "16956d6b-a8a9-42f0-8c35-a200f564faf3",
   "metadata": {},
   "outputs": [
    {
     "name": "stdout",
     "output_type": "stream",
     "text": [
      "{'title': 'The Hunchback of Notre Dame', 'year': 1923} 1923\n",
      "{'title': 'Our Hospitality', 'year': 1923} 1923\n",
      "{'title': 'Safety Last!', 'year': 1923} 1923\n",
      "{'title': 'Three Ages', 'year': 1923} 1923\n",
      "{'title': 'A Woman of Paris: A Drama of Fate', 'year': 1923} 1923\n",
      "{'title': 'The Chechahcos', 'year': 1923} 1923\n"
     ]
    }
   ],
   "source": [
    "#JS파일 포맷에서는 객체안에 있는 값을 찾아올때, 대괄호 & 온점 표기법 가능\n",
    "#파이썬 포맷에서는 객체형태를 띄고있는 자료구조 딕셔너리 => 대괄호 표기법으로 특정 키 내부의 값을 찾아온다. -> print(movie,movie[\"year\"])\n",
    "\n",
    "for movie in movies.find({\"year\":1923},{\"_id\":0,\"title\": 1,\"year\":1}): #find매서드 함수를 활용해서 값을 찾아와야함!\n",
    "    print(movie,movie[\"year\"])"
   ]
  },
  {
   "cell_type": "code",
   "execution_count": 64,
   "id": "4040d801-b367-4e31-92d6-20f5da7ce18c",
   "metadata": {},
   "outputs": [
    {
     "name": "stdout",
     "output_type": "stream",
     "text": [
      "{'title': 'Blacksmith Scene', 'year': 1893}\n",
      "{'title': 'The Kiss', 'year': 1896}\n",
      "{'title': 'Dickson Experimental Sound Film', 'year': 1894}\n",
      "{'title': 'The Kiss', 'year': 1896}\n",
      "{'title': 'Newark Athlete', 'year': 1891}\n",
      "{'title': 'The Masked Saint', 'year': 2016}\n"
     ]
    }
   ],
   "source": [
    "# Mongo DB 안에 있는 특정 DB의 컬렉션 값을 어떤 조건과 함께 찾아오게 되면 기본적으로 리스트 형태를 띄고있음\n",
    "# 해당 리스트 자료구조 안에있는 각각의 문서는 딕셔너리의 자료구조로 되어있다\n",
    "\n",
    "for movie in movies.find(\n",
    "    {\"$or\":[{\"year\":{\"$lt\": 1900}},{\"year\":{\"$gt\":2015}}]}, # 필수값, 조건 $or 만약 하나라도 값을 충족하면 가져와라!\n",
    "    {\"_id\":0,\"title\":1,\"year\":1}  # 비필수값, 출력하고자하는 형태\n",
    ") :\n",
    "    print(movie) #딕셔너리의 값으로 가져옴"
   ]
  },
  {
   "cell_type": "code",
   "execution_count": 65,
   "id": "370d62dd-7195-450a-8f58-535d705db64f",
   "metadata": {},
   "outputs": [],
   "source": [
    "for movie in movies.find(\n",
    "    {\"genres\":{\"$all\": [\"Actions\",\"Sci-Fi\",\"Drama\"]}},{ } # \"$all\" e뒤에있는 값이 모두 충족되는 것을 찾아와라\n",
    "):\n",
    "    print(movie)"
   ]
  },
  {
   "cell_type": "code",
   "execution_count": null,
   "id": "4cdbcad0-2091-47b2-9c00-90cf275c5688",
   "metadata": {},
   "outputs": [],
   "source": []
  }
 ],
 "metadata": {
  "kernelspec": {
   "display_name": "Python [conda env:base] *",
   "language": "python",
   "name": "conda-base-py"
  },
  "language_info": {
   "codemirror_mode": {
    "name": "ipython",
    "version": 3
   },
   "file_extension": ".py",
   "mimetype": "text/x-python",
   "name": "python",
   "nbconvert_exporter": "python",
   "pygments_lexer": "ipython3",
   "version": "3.13.5"
  }
 },
 "nbformat": 4,
 "nbformat_minor": 5
}
