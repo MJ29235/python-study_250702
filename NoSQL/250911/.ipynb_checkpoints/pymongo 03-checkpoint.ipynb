{
 "cells": [
  {
   "cell_type": "code",
   "execution_count": null,
   "id": "bd40388e-de5c-4650-a6f5-712521556b0c",
   "metadata": {},
   "outputs": [],
   "source": [
    "# 어제 미션!!"
   ]
  },
  {
   "cell_type": "markdown",
   "id": "35e2ccc7-c535-4f09-924f-4d7ae9fe9f00",
   "metadata": {},
   "source": [
    "종합 과제: “충성 사용자 & 영화 인사이트 리포트”\n",
    "영화 서비스의 이용자·댓글·영화 데이터를 바탕으로, 마케팅팀이 바로 사용할 수 있는 두 가지 리포트를 만들어 주세요.\n",
    " 결과는 각각 별도의 출력 구조로 제출합니다.\n",
    "1) 충성 사용자 리포트\n",
    "이용자와 댓글 데이터를 결합해, 총 댓글 수가 10개 이상인 이용자만 추립니다.\n",
    "각 이용자에 대해 다음 지표를 계산해 주세요:\n",
    "commentsCount(총 댓글 수)\n",
    "avgTextLen(댓글 평균 길이, null/missing은 길이 0으로 간주)\n",
    "lastCommentDate(가장 최근 댓글 시점)\n",
    "결과에는 **이름(name), 이메일(email)**만 식별 정보로 포함하고, 위 활동 지표 **내림차순(많이·길게·최근 순)**으로 정렬해 상위 이용자가 누구인지 한눈에 보이도록 합니다.\n",
    "2) 영화 인사이트 리포트\n",
    "영화 컬렉션만으로 한 번의 파이프라인에서 다음을 동시에 산출해 주세요.\n",
    "최신 영화 5편: 제목(title)과 연도(year) 목록\n",
    "고평점 영화 개수: imdb.rating ≥ 8 작품의 총 개수(숫자 1개)\n",
    "장르별 상위 10: 장르별 작품 수를 집계해 상위 10개를 많이 나온 순으로 정렬\n",
    "연도별 평균 평점(최근 10년): 최신 연도를 기준으로 최근 10개 연도의 평균 평점을 산출(연도-오름차순 표기)\n",
    "출력 형식 가이드\n",
    "충성 사용자 리포트: 리스트(배열) 형태. 각 원소는 {name, email, commentsCount, avgTextLen, lastCommentDate}.\n",
    "영화 인사이트 리포트: 단일 문서(오브젝트) 형태.\n",
    "키는 latest5, highRatedCount, genresTop10, yearlyAvgRecent10로 구성.\n",
    "highRatedCount는 숫자 하나로 제출"
   ]
  },
  {
   "cell_type": "code",
   "execution_count": 6,
   "id": "56cf083f-c48c-40ac-a9a8-d43320c46de3",
   "metadata": {},
   "outputs": [
    {
     "name": "stdout",
     "output_type": "stream",
     "text": [
      "ok sample_mflix collections : ['users', 'movies', 'comments']\n"
     ]
    }
   ],
   "source": [
    "from pymongo import MongoClient\n",
    "\n",
    "client = MongoClient(\"mongodb://localhost:27017\") #몽고 클라이언트 포트넘버로 접속! 커넥팅 정보값을 client변수에 담음\n",
    "#  client.sample_mflix  -> 온점표기법은 인식하지 못할 수도 있음!\n",
    "db = client[\"sample_mflix\"] #대괄호표기법으로 해야 안전\n",
    "\n",
    "users = db.users\n",
    "comments = db.comments\n",
    "movies = db.movies\n",
    "\n",
    "#내가 찾아온 db 확인할겸 출력해보기!\n",
    "print(\"ok\",db.name,\"collections :\",[c for c in db.list_collection_names() if c in {\"users\",\"comments\",\"movies\"}])\n",
    "# db의 컬렉션의 이름값만 찾아올 수 있는 함수! 그 이름값을 c에 넣음! c는 각각의 문자열을 가지고 있음. 문법상 앞에 c를 넣어줘야 출력해줌!\n",
    "# if in -> []안의 조건이 충족된다면 C를 출력해줘 "
   ]
  },
  {
   "cell_type": "code",
   "execution_count": 18,
   "id": "2f2a219a-f890-4312-abf2-bbc015ae8259",
   "metadata": {},
   "outputs": [
    {
     "data": {
      "text/plain": [
       "(183,\n",
       " [{'name': 'Mace Tyrell',\n",
       "   'email': 'roger_ashton-griffiths@gameofthron.es',\n",
       "   'commentsCount': 331,\n",
       "   'avgTextLen': 152.49244712990938,\n",
       "   'lastCommentDate': datetime.datetime(2017, 8, 2, 1, 37, 26)},\n",
       "  {'name': 'Missandei',\n",
       "   'email': 'nathalie_emmanuel@gameofthron.es',\n",
       "   'commentsCount': 327,\n",
       "   'avgTextLen': 153.0948012232416,\n",
       "   'lastCommentDate': datetime.datetime(2017, 9, 11, 16, 52, 51)},\n",
       "  {'name': 'The High Sparrow',\n",
       "   'email': 'jonathan_pryce@gameofthron.es',\n",
       "   'commentsCount': 315,\n",
       "   'avgTextLen': 152.68253968253967,\n",
       "   'lastCommentDate': datetime.datetime(2017, 7, 10, 4, 58, 23)},\n",
       "  {'name': 'Sansa Stark',\n",
       "   'email': 'sophie_turner@gameofthron.es',\n",
       "   'commentsCount': 308,\n",
       "   'avgTextLen': 153.42532467532467,\n",
       "   'lastCommentDate': datetime.datetime(2017, 5, 2, 16, 29, 50)},\n",
       "  {'name': 'Rodrik Cassel',\n",
       "   'email': 'ron_donachie@gameofthron.es',\n",
       "   'commentsCount': 305,\n",
       "   'avgTextLen': 151.75737704918032,\n",
       "   'lastCommentDate': datetime.datetime(2017, 9, 2, 6, 1, 19)}])"
      ]
     },
     "execution_count": 18,
     "metadata": {},
     "output_type": "execute_result"
    }
   ],
   "source": [
    "loyal_users_Pipeline = [\n",
    "    {\n",
    "        \"$lookup\": {\n",
    "            \"from\": \"comments\",\n",
    "            \"localField\": \"email\",\n",
    "            \"foreignField\": \"email\",\n",
    "            \"as\": \"c\"\n",
    "        }\n",
    "    },\n",
    "    {\n",
    "        \"$addFields\":{\n",
    "            \"commentsCount\" : {\"$size\":\"$c\"},\n",
    "            \"avgTextLen\":{\n",
    "                \"$avg\": {\n",
    "                    \"$map\":{ #배열화 되어있는것을 하나하나 값을 연산하고 다시 배열로 출력!\n",
    "                        \"input\" :\"$c\",\n",
    "                        \"as\" : \"x\", #값을 찾아올때마다 여기 임시변수에 들릴 수 있도록 해줌!\n",
    "                        \"in\" : {\"$strLenCP\" : {\"$ifNull\": [\"$$x.text\",\"\"]}} \n",
    "                        #결과값 넣어줌. 임시변수에서 불러올땐 $$ 이때 문자열로 들어와야 오류가 안남! -> 예외조항처리\n",
    "                    } \n",
    "                }\n",
    "            },\n",
    "            \"lastCommentDate\" : {\"$max\":\"$c.date\"} #날짜의 최대값 => 가장 최근에 기록이 남은 날!\n",
    "        }\n",
    "    }, \n",
    "    {\"$match\":{\"commentsCount\":{\"$gte\":10}}},\n",
    "    {\"$sort\": {\"commentsCount\":-1,\"avgTextLen\":-1,\"lastCommentDate\":-1}},\n",
    "    {\n",
    "        \"$project\" : {\n",
    "            \"_id\":0,\n",
    "            \"name\":1,\n",
    "            \"email\":1,\n",
    "            \"commentsCount\":1,\n",
    "            \"avgTextLen\":1,\n",
    "            \"lastCommentDate\":1\n",
    "        }\n",
    "    }\n",
    "]\n",
    "\n",
    "loyal_users = list(users.aggregate(loyal_users_Pipeline)) #IOPub data rate exceeded.-> 입출력 공간에서 데이터의 용량이 초과됨( 내 메모리 부족 ㅠㅠ )\n",
    "len(loyal_users), loyal_users[0:5]\n",
    "\n",
    "#NoSQL -> 현업 실무 개발자들은 JOIN을 좋아하지 않음 : \n",
    "# join은 서로다른 데이터 테이블 혹은 컬렉션을 하나로 연결해서 가져와 처리하려면, 해당 데이터의 양이 방대해진 데이터를 처리하기 위한 하드웨어에 많은 무리가 감\n",
    "# -> 기계성능 & 사양 제약"
   ]
  },
  {
   "cell_type": "code",
   "execution_count": null,
   "id": "df903548-ae85-44bc-a43b-aed4a2c01178",
   "metadata": {},
   "outputs": [],
   "source": [
    "# 2번문제"
   ]
  },
  {
   "cell_type": "code",
   "execution_count": 24,
   "id": "018b4569-062a-4338-810c-726551993071",
   "metadata": {},
   "outputs": [
    {
     "data": {
      "text/plain": [
       "[{'$facet': {'latest5': [{'$sort': {'year': -1}},\n",
       "    {'$limit': 5},\n",
       "    {'$project': {'_id': 0, 'title': 1, 'year': 1}}],\n",
       "   'highRatedCount': [{'$match': {'imdb.rating': {'$gte': 8}}},\n",
       "    {'$count': 'count'}],\n",
       "   'genresTop10': [{'$unwind': '$genres'},\n",
       "    {'$group': {'_id': '$genres', 'count': {'$sum': 1}}},\n",
       "    {'$sort': {'count': -1}},\n",
       "    {'$limit': 10}]}}]"
      ]
     },
     "execution_count": 24,
     "metadata": {},
     "output_type": "execute_result"
    }
   ],
   "source": [
    "movies_report_Pipeline =[\n",
    "    {\n",
    "        \"$facet\":{\n",
    "            \"latest5\":[\n",
    "                {\"$sort\":{\"year\":-1}},\n",
    "                {\"$limit\":5},\n",
    "                {\"$project\":{\"_id\":0,\"title\":1,\"year\":1}}\n",
    "            ],\n",
    "            \"highRatedCount\":[\n",
    "                {\"$match\":{\"imdb.rating\":{\"$gte\":8}}}, # imdb.rating 단순 비교연산 $ 불필요!\n",
    "                {\"$count\":\"count\"}\n",
    "            ],\n",
    "            \"genresTop10\":[\n",
    "                {\"$unwind\":\"$genres\"},\n",
    "                {\"$group\":{\"_id\":\"$genres\",\"count\":{\"$sum\":1}}},\n",
    "                {\"$sort\":{\"count\":-1}},\n",
    "                {\"$limit\":10}\n",
    "            ],\n",
    "            \"yearlyAvgRecent10\":[\n",
    "                {\"$group\":{\"_id\":\"$year\",\"avgRating\":{\"$avg\":\"$imdb.rating\"}}}, # $imdb.rating사칙연산 시 $ 필요!\n",
    "                {\"$sort\":{\"_id\":-1}}, #정렬해주기\n",
    "                {\"$limit\":10},\n",
    "                {\"$project\":{\"_id\":0,\"year\":\"$_id\",\"avgRating\":1}}\n",
    "            ]\n",
    "        }\n",
    "    }\n",
    "]\n",
    "\n",
    "movies.aggregate(movies_report_Pipeline)\n",
    "movies_report_Pipeline"
   ]
  }
 ],
 "metadata": {
  "kernelspec": {
   "display_name": "Python [conda env:base] *",
   "language": "python",
   "name": "conda-base-py"
  },
  "language_info": {
   "codemirror_mode": {
    "name": "ipython",
    "version": 3
   },
   "file_extension": ".py",
   "mimetype": "text/x-python",
   "name": "python",
   "nbconvert_exporter": "python",
   "pygments_lexer": "ipython3",
   "version": "3.13.5"
  }
 },
 "nbformat": 4,
 "nbformat_minor": 5
}
