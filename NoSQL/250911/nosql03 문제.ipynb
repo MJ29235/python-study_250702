{
 "cells": [
  {
   "cell_type": "code",
   "execution_count": null,
   "id": "6e7c3dfe-b11e-4cf1-a1e6-4367f6377c7a",
   "metadata": {},
   "outputs": [],
   "source": [
    "#카테고리 필드에 있는 모든 카테고리 종류를 조회해주세요."
   ]
  },
  {
   "cell_type": "code",
   "execution_count": null,
   "id": "33e6753a-8bb2-4f3b-9759-add0f91869f7",
   "metadata": {},
   "outputs": [],
   "source": [
    "import requests\n",
    "from bs4 import BeautifulSoup\n",
    "\n"
   ]
  }
 ],
 "metadata": {
  "kernelspec": {
   "display_name": "Python [conda env:base] *",
   "language": "python",
   "name": "conda-base-py"
  },
  "language_info": {
   "codemirror_mode": {
    "name": "ipython",
    "version": 3
   },
   "file_extension": ".py",
   "mimetype": "text/x-python",
   "name": "python",
   "nbconvert_exporter": "python",
   "pygments_lexer": "ipython3",
   "version": "3.13.5"
  }
 },
 "nbformat": 4,
 "nbformat_minor": 5
}
