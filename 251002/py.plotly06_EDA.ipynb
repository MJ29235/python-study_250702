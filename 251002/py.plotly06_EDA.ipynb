{
 "cells": [
  {
   "cell_type": "code",
   "execution_count": null,
   "id": "6b8d7aad-89f3-4dee-9e80-f15efa6ed1c8",
   "metadata": {},
   "outputs": [],
   "source": [
    "#피어슨 상관계수 \n",
    "# 보다 세부적으로 EDA를 활용해서 데이터를 확인 및 검증하기 위한 방법론\n",
    "# feature간에 상관관계를 분석하면 보다 효율적으로 데이터를 디테일하게 확인가능 => 데이터분석가의 역량!\n",
    "# heatmap그래프\n",
    "# scatter그래프"
   ]
  },
  {
   "cell_type": "code",
   "execution_count": null,
   "id": "4245eddc-2876-4e51-8b67-379eae4f3a32",
   "metadata": {},
   "outputs": [],
   "source": [
    "# 상관관계를 체크 및 확인하기 위해서 상관계수를 사용\n",
    "# 상관계수는 1에 수렴할수록 상관관계가 높다 / 0에 수렴할수록 상관관계가 없다!"
   ]
  },
  {
   "cell_type": "code",
   "execution_count": null,
   "id": "f347f1a3-6777-4ad5-8408-7c96a37c9291",
   "metadata": {},
   "outputs": [],
   "source": [
    "공분산\n",
    "/A데이터의 표준편차 * B데이터의 표준편차\n",
    "= 피어슨 상관계수\n",
    "\n",
    "피어슨 = 영국의 수학자 &통계학자\n",
    "현재 통계학의 아버지\n",
    "-> 어떤 사물 혹은 사건 간의 연관성존재 &물증과 수치로 변환\n",
    "\n",
    "표준편차 : 어떤 데이터들의 집합 & 평균이 존재 -> 평균값으로부터 얼만큼 떨어져있는가 확인하고자할때!"
   ]
  },
  {
   "cell_type": "code",
   "execution_count": null,
   "id": "fde74549-d3c8-45dd-94f1-5084f2a0844e",
   "metadata": {},
   "outputs": [],
   "source": []
  }
 ],
 "metadata": {
  "kernelspec": {
   "display_name": "Python [conda env:base] *",
   "language": "python",
   "name": "conda-base-py"
  },
  "language_info": {
   "codemirror_mode": {
    "name": "ipython",
    "version": 3
   },
   "file_extension": ".py",
   "mimetype": "text/x-python",
   "name": "python",
   "nbconvert_exporter": "python",
   "pygments_lexer": "ipython3",
   "version": "3.13.5"
  }
 },
 "nbformat": 4,
 "nbformat_minor": 5
}
