{
 "cells": [
  {
   "cell_type": "markdown",
   "id": "aab0729a-c20e-4df4-b6da-28cf25ff8056",
   "metadata": {},
   "source": [
    "사용자로부터 어떤 값을 받고, 해당 값을 한화(로 바꿔서 출력되도록 해주세요\n",
    "ex) 100 ==>환율 1112원 // 111200원으로 출력되도록 해주세요`"
   ]
  },
  {
   "cell_type": "code",
   "execution_count": 17,
   "id": "dba05b1c-faae-4b23-b2c0-35c9dc0bcbf3",
   "metadata": {},
   "outputs": [
    {
     "name": "stdin",
     "output_type": "stream",
     "text": [
      "환전할 금액을 입력해주세요. (예: 100 달러): 100\n"
     ]
    },
    {
     "name": "stdout",
     "output_type": "stream",
     "text": [
      "111,200.0원\n"
     ]
    }
   ],
   "source": [
    "cash =float(input(\"환전할 금액을 입력해주세요. (예: 100 달러):\"))\n",
    "\n",
    "print(f\"{cash*1112:,}원\")"
   ]
  },
  {
   "cell_type": "markdown",
   "id": "d81d4a0c-51e0-403a-b11b-cc89d3b82b98",
   "metadata": {},
   "source": [
    "달러의 환율을 1112원으로 설정, 위안화의 환율을 171원으로 설정, 엔화의 환율을 1010원으로 설정하되, 해당 화폐당 환율의 값을 딕셔너리라는 자료구조로 정의. 사용자가 달러 혹은 엔화 혹은 위안화 값ㅇ르 입력했을 떄, 해당 값을 원하는 값을 입력했을때,\n",
    "ex) 100달러 => 111,200 // 100위안 => 17,100원"
   ]
  },
  {
   "cell_type": "code",
   "execution_count": 43,
   "id": "4532c881-e014-407d-a96e-c2e4f1bc6c1d",
   "metadata": {},
   "outputs": [
    {
     "name": "stdin",
     "output_type": "stream",
     "text": [
      "달러,위안,엔 입력하세요. 50000달러\n"
     ]
    },
    {
     "name": "stdout",
     "output_type": "stream",
     "text": [
      "68,100,000 원\n"
     ]
    }
   ],
   "source": [
    "cash = input(\"달러,위안,엔 입력하세요.\")\n",
    "exchange = {\"달러\": 1362,\"위안\":190, \"엔\":9.48 }\n",
    "\n",
    "if cash[-2:] == \"달러\":\n",
    "    print(f\"{exchange['달러']*int(cash[0:-2]):,} 원\")\n",
    "elif cash[-1:] == \"엔\":\n",
    "    print(f\"{exchange['엔']*int(cash[0:-1]):,} 원\")\n",
    "elif cash[-2:] == \"위안\":\n",
    "    print(f\"{exchange['위안']*int(cash[0:-2]):,} 원\")"
   ]
  },
  {
   "cell_type": "code",
   "execution_count": 35,
   "id": "6a76a8d2-a048-4ac9-8942-73b6a6b6b143",
   "metadata": {},
   "outputs": [
    {
     "name": "stdin",
     "output_type": "stream",
     "text": [
      "환전하시고자하는 달러, 위안, 엔화 중 하나를 입력하세요. 720달러\n"
     ]
    },
    {
     "name": "stdout",
     "output_type": "stream",
     "text": [
      "980,877.6 원\n"
     ]
    }
   ],
   "source": [
    "cash_list = {\"달러\" :1362.33 , \"위안\":190.15 , \"엔화\": 9.48}\n",
    "money = input(\"환전하시고자하는 달러, 위안, 엔화 중 하나를 입력하세요.\")\n",
    "\n",
    "if money[-2:] ==\"달러\" :\n",
    "    print(f\"{cash_list['달러']*int(money[0:-2]):,} 원\")\n",
    "elif money[-2:] ==\"위안\" :\n",
    "    print(f\"{cash_list['위안']*int(money[0:-2]):,} 원\")\n",
    "elif money[-2:] ==\"엔화\" :\n",
    "    print(f\"{cash_list['엔화']*int(money[0:-2]):,} 원\")"
   ]
  },
  {
   "cell_type": "markdown",
   "id": "7a510d1b-ae28-44b3-a3d7-8d465faf7c24",
   "metadata": {},
   "source": [
    "구구단 2*1=2 2-9까지의 숫자가 반복, 순회해야한다. -> 반복되는 동안 1~9까지의 숫자의 반복, 순회가 다시 필요! -> 이것도 반복해야한`다. "
   ]
  },
  {
   "cell_type": "code",
   "execution_count": 55,
   "id": "a2227c02-6d00-4bfb-8dc0-27e82d75eef7",
   "metadata": {},
   "outputs": [
    {
     "name": "stdout",
     "output_type": "stream",
     "text": [
      "\n",
      "-------2단-------\n",
      "\n",
      "2 X 1 = 2\n",
      "2 X 2 = 4\n",
      "2 X 3 = 6\n",
      "2 X 4 = 8\n",
      "2 X 5 = 10\n",
      "2 X 6 = 12\n",
      "2 X 7 = 14\n",
      "2 X 8 = 16\n",
      "2 X 9 = 18\n",
      "\n",
      "-------3단-------\n",
      "\n",
      "3 X 1 = 3\n",
      "3 X 2 = 6\n",
      "3 X 3 = 9\n",
      "3 X 4 = 12\n",
      "3 X 5 = 15\n",
      "3 X 6 = 18\n",
      "3 X 7 = 21\n",
      "3 X 8 = 24\n",
      "3 X 9 = 27\n",
      "\n",
      "-------4단-------\n",
      "\n",
      "4 X 1 = 4\n",
      "4 X 2 = 8\n",
      "4 X 3 = 12\n",
      "4 X 4 = 16\n",
      "4 X 5 = 20\n",
      "4 X 6 = 24\n",
      "4 X 7 = 28\n",
      "4 X 8 = 32\n",
      "4 X 9 = 36\n",
      "\n",
      "-------5단-------\n",
      "\n",
      "5 X 1 = 5\n",
      "5 X 2 = 10\n",
      "5 X 3 = 15\n",
      "5 X 4 = 20\n",
      "5 X 5 = 25\n",
      "5 X 6 = 30\n",
      "5 X 7 = 35\n",
      "5 X 8 = 40\n",
      "5 X 9 = 45\n",
      "\n",
      "-------6단-------\n",
      "\n",
      "6 X 1 = 6\n",
      "6 X 2 = 12\n",
      "6 X 3 = 18\n",
      "6 X 4 = 24\n",
      "6 X 5 = 30\n",
      "6 X 6 = 36\n",
      "6 X 7 = 42\n",
      "6 X 8 = 48\n",
      "6 X 9 = 54\n",
      "\n",
      "-------7단-------\n",
      "\n",
      "7 X 1 = 7\n",
      "7 X 2 = 14\n",
      "7 X 3 = 21\n",
      "7 X 4 = 28\n",
      "7 X 5 = 35\n",
      "7 X 6 = 42\n",
      "7 X 7 = 49\n",
      "7 X 8 = 56\n",
      "7 X 9 = 63\n",
      "\n",
      "-------8단-------\n",
      "\n",
      "8 X 1 = 8\n",
      "8 X 2 = 16\n",
      "8 X 3 = 24\n",
      "8 X 4 = 32\n",
      "8 X 5 = 40\n",
      "8 X 6 = 48\n",
      "8 X 7 = 56\n",
      "8 X 8 = 64\n",
      "8 X 9 = 72\n",
      "\n",
      "-------9단-------\n",
      "\n",
      "9 X 1 = 9\n",
      "9 X 2 = 18\n",
      "9 X 3 = 27\n",
      "9 X 4 = 36\n",
      "9 X 5 = 45\n",
      "9 X 6 = 54\n",
      "9 X 7 = 63\n",
      "9 X 8 = 72\n",
      "9 X 9 = 81\n"
     ]
    }
   ],
   "source": [
    "\n",
    "for gugu in range(2,10) :\n",
    "    print()\n",
    "    print(f\"-------{gugu}단-------\")\n",
    "    print()\n",
    "    for dams in range (1,10):\n",
    "        print(f\"{gugu} X {dams} = {gugu*dams}\")\n"
   ]
  },
  {
   "cell_type": "code",
   "execution_count": 58,
   "id": "aead6816-625a-4502-b1f0-8dcd34a154db",
   "metadata": {},
   "outputs": [
    {
     "name": "stdout",
     "output_type": "stream",
     "text": [
      "\n",
      "-------2단-------\n",
      "\n",
      "\n",
      "-------3단-------\n",
      "\n",
      "3 X 1 = 3\n",
      "3 X 3 = 9\n",
      "3 X 5 = 15\n",
      "3 X 7 = 21\n",
      "3 X 9 = 27\n",
      "\n",
      "-------4단-------\n",
      "\n",
      "\n",
      "-------5단-------\n",
      "\n",
      "5 X 1 = 5\n",
      "5 X 3 = 15\n",
      "5 X 5 = 25\n",
      "5 X 7 = 35\n",
      "5 X 9 = 45\n",
      "\n",
      "-------6단-------\n",
      "\n",
      "\n",
      "-------7단-------\n",
      "\n",
      "7 X 1 = 7\n",
      "7 X 3 = 21\n",
      "7 X 5 = 35\n",
      "7 X 7 = 49\n",
      "7 X 9 = 63\n",
      "\n",
      "-------8단-------\n",
      "\n",
      "\n",
      "-------9단-------\n",
      "\n",
      "9 X 1 = 9\n",
      "9 X 3 = 27\n",
      "9 X 5 = 45\n",
      "9 X 7 = 63\n",
      "9 X 9 = 81\n"
     ]
    }
   ],
   "source": [
    "\n",
    "for gugu in range(2,10) :\n",
    "    print()\n",
    "    print(f\"-------{gugu}단-------\")\n",
    "    print()\n",
    "    for dams in range (1,10):\n",
    "        if (gugu*dams)%2!=0:\n",
    "            print(f\"{gugu} X {dams} = {gugu*dams}\")\n"
   ]
  },
  {
   "cell_type": "code",
   "execution_count": 68,
   "id": "c08d023d-3c35-47f4-a27a-1dbfb7f10d98",
   "metadata": {},
   "outputs": [
    {
     "name": "stdin",
     "output_type": "stream",
     "text": [
      "나이를 입력하세요. 2\n"
     ]
    },
    {
     "name": "stdout",
     "output_type": "stream",
     "text": [
      "어린이 입니다.\n"
     ]
    }
   ],
   "source": [
    "age = int(input(\"나이를 입력하세요.\"))\n",
    "\n",
    "if 0 < age and age <= 12 :\n",
    "    print(\"어린이 입니다.\")\n",
    "elif  age<=18 :\n",
    "    print(\"청소년 입니다.\")\n",
    "elif 19<=age :\n",
    "    print(\"성인입니다.\")"
   ]
  },
  {
   "cell_type": "code",
   "execution_count": 74,
   "id": "f974e01a-d36c-4423-8f12-ab4fc85527e5",
   "metadata": {},
   "outputs": [
    {
     "name": "stdin",
     "output_type": "stream",
     "text": [
      "2~9단까지 구구단을 입력하세요. 10\n"
     ]
    },
    {
     "name": "stdout",
     "output_type": "stream",
     "text": [
      "다른 숫자를 입력하세요.\n"
     ]
    }
   ],
   "source": [
    "num = int(input(\"2~9단까지 구구단을 입력하세요.\"))\n",
    "\n",
    "if 2 <= num and num<=9:\n",
    "    for gugu in range(1,10) :\n",
    "        print(f\"{num} X {gugu} = {num *gugu}\")\n",
    "else :\n",
    "    print(\"다른 숫자를 입력하세요.\")\n",
    "    \n",
    "    "
   ]
  },
  {
   "cell_type": "code",
   "execution_count": 82,
   "id": "8801023d-59ed-45b0-9bda-523538cab998",
   "metadata": {},
   "outputs": [
    {
     "name": "stdin",
     "output_type": "stream",
     "text": [
      "숫자 1 1563\n",
      "숫자 2 654\n",
      "연산자를 입력하세요.(+,-,*,/) : 4\n"
     ]
    },
    {
     "name": "stdout",
     "output_type": "stream",
     "text": [
      "잘못된 연산자입니다.\n"
     ]
    }
   ],
   "source": [
    "a = int(input(\"숫자 1\"))\n",
    "b = int(input(\"숫자 2\"))\n",
    "c = input(\"연산자를 입력하세요.(+,-,*,/) :\")\n",
    " \n",
    "if c == \"+\":\n",
    "    print(f\"{a+b}\")\n",
    "elif c == \"-\":\n",
    "    print(f\"{a-b}\")\n",
    "elif c == \"*\":\n",
    "    print(f\"{a*b}\")\n",
    "elif c == \"/\":\n",
    "    print(f\"{a/b}\")\n",
    "else :\n",
    "    print(\"잘못된 연산자입니다.\")\n"
   ]
  },
  {
   "cell_type": "code",
   "execution_count": 6,
   "id": "d0d1b724-5149-4a89-842e-b76da5b33115",
   "metadata": {},
   "outputs": [
    {
     "name": "stdout",
     "output_type": "stream",
     "text": [
      "1586.0\n"
     ]
    }
   ],
   "source": [
    "\n",
    "def get_average (numbers) :\n",
    "    if len(numbers) ==0 :\n",
    "        return \"데이터 없음\"\n",
    "    else :\n",
    "        return sum (numbers) / len(numbers)\n",
    "\n",
    "print(get_average([23,5416,321,584]))"
   ]
  },
  {
   "cell_type": "code",
   "execution_count": 27,
   "id": "a38092db-d046-408c-bc24-3a1e94d5a360",
   "metadata": {},
   "outputs": [
    {
     "name": "stdout",
     "output_type": "stream",
     "text": [
      "[46, 48, 96]\n"
     ]
    }
   ],
   "source": [
    "\n",
    "def get_even_numbers (numbers) :\n",
    "    nov=[]\n",
    "    for n in numbers:\n",
    "        if n%2 ==0:\n",
    "            nov.append(n)\n",
    "    return nov\n",
    "print(get_even_numbers([23,45,213,45,231,46,213,48,96]))"
   ]
  },
  {
   "cell_type": "code",
   "execution_count": 37,
   "id": "6305724b-246a-4f4b-a402-e8284cbb841e",
   "metadata": {},
   "outputs": [
    {
     "name": "stdout",
     "output_type": "stream",
     "text": [
      "82\n"
     ]
    }
   ],
   "source": [
    "def max_even (numbers):\n",
    "    nums = []\n",
    "    for num in numbers:\n",
    "        if num%2==0:\n",
    "            nums.append(num)\n",
    "            \n",
    "    if len(nums) ==0:\n",
    "        return \"짝수가 없습니다\"\n",
    "    else :\n",
    "        return max(nums)\n",
    "\n",
    "print(max_even([5,78,45,63,22,15,16,82]))"
   ]
  },
  {
   "cell_type": "code",
   "execution_count": 38,
   "id": "c6f553a1-4929-429e-bc0c-23f15f3871c8",
   "metadata": {},
   "outputs": [
    {
     "ename": "SyntaxError",
     "evalue": "expected ':' (1231366592.py, line 1)",
     "output_type": "error",
     "traceback": [
      "\u001b[1;36m  Cell \u001b[1;32mIn[38], line 1\u001b[1;36m\u001b[0m\n\u001b[1;33m    def is_palindrome (numvers)\u001b[0m\n\u001b[1;37m                               ^\u001b[0m\n\u001b[1;31mSyntaxError\u001b[0m\u001b[1;31m:\u001b[0m expected ':'\n"
     ]
    }
   ],
   "source": [
    "def is_palindrome (text):\n",
    "    sliced=[]\n",
    "    text.split(sliced)\n",
    "    for a in sliced:\n",
    "        a.reverse\n",
    "        "
   ]
  },
  {
   "cell_type": "code",
   "execution_count": 47,
   "id": "94b438f2-b88a-44d0-8d1a-cd080bf2abf7",
   "metadata": {},
   "outputs": [
    {
     "name": "stdout",
     "output_type": "stream",
     "text": [
      "True\n"
     ]
    }
   ],
   "source": [
    "def is_palindrome (text):\n",
    "    text = text.lower()\n",
    "    text = text.replace(\" \",\"\")\n",
    "    \n",
    "    if text == text[::-1]:\n",
    "        return True\n",
    "    else :\n",
    "        return False\n",
    "\n",
    "print(is_palindrome(\"A man a plan a canal Panama\"))"
   ]
  },
  {
   "cell_type": "code",
   "execution_count": 46,
   "id": "5e64673f-10e6-46f3-912a-1b973a06b964",
   "metadata": {},
   "outputs": [
    {
     "name": "stdout",
     "output_type": "stream",
     "text": [
      "True\n"
     ]
    }
   ],
   "source": [
    "def is_palindrome(text):\n",
    "    text = text.lower()\n",
    "    text = text.replace(\" \", \"\")\n",
    "    \n",
    "    if text == text[::-1]:\n",
    "        return True\n",
    "    else:\n",
    "        return False\n",
    "\n",
    "print(is_palindrome(\"A man a plan a canal Panama\"))"
   ]
  },
  {
   "cell_type": "code",
   "execution_count": null,
   "id": "498580ae-36ea-49f6-b5aa-818ea468af14",
   "metadata": {},
   "outputs": [],
   "source": []
  },
  {
   "cell_type": "code",
   "execution_count": 50,
   "id": "c568ca08-2790-4c57-95ea-79ec42313f85",
   "metadata": {},
   "outputs": [
    {
     "ename": "SyntaxError",
     "evalue": "invalid syntax. Perhaps you forgot a comma? (3082234576.py, line 5)",
     "output_type": "error",
     "traceback": [
      "\u001b[1;36m  Cell \u001b[1;32mIn[50], line 5\u001b[1;36m\u001b[0m\n\u001b[1;33m    return num(int[])\u001b[0m\n\u001b[1;37m               ^\u001b[0m\n\u001b[1;31mSyntaxError\u001b[0m\u001b[1;31m:\u001b[0m invalid syntax. Perhaps you forgot a comma?\n"
     ]
    }
   ],
   "source": [
    "num=[]\n",
    "def extract_numbers (what):\n",
    "    what = what.split()\n",
    "    if what == [0,1,2,3,4,5,6,7,8,9]:\n",
    "        return num(int[])\n",
    "    else : \n",
    "        return []\n",
    "\n",
    "print(extract_numbers(lejhwlf123))"
   ]
  },
  {
   "cell_type": "code",
   "execution_count": 56,
   "id": "0b4bd499-121d-4757-a75f-e29bce488552",
   "metadata": {},
   "outputs": [
    {
     "name": "stdout",
     "output_type": "stream",
     "text": [
      "[1, 2, 3]\n"
     ]
    }
   ],
   "source": [
    "def extract_numbers (text):\n",
    "    result = []\n",
    "    for a in text:\n",
    "        if a.isdigit():\n",
    "            result.append(int(a))\n",
    "    return result\n",
    "print(extract_numbers(\"lejhwlf123\"))"
   ]
  },
  {
   "cell_type": "code",
   "execution_count": 60,
   "id": "b45a4d5f-f3c4-4e99-8a73-23dae19f5005",
   "metadata": {},
   "outputs": [
    {
     "ename": "TypeError",
     "evalue": "count expected at least 1 argument, got 0",
     "output_type": "error",
     "traceback": [
      "\u001b[1;31m---------------------------------------------------------------------------\u001b[0m",
      "\u001b[1;31mTypeError\u001b[0m                                 Traceback (most recent call last)",
      "Cell \u001b[1;32mIn[60], line 6\u001b[0m\n\u001b[0;32m      3\u001b[0m     num \u001b[38;5;241m=\u001b[39m nums\u001b[38;5;241m.\u001b[39msplit()\n\u001b[0;32m      4\u001b[0m     \u001b[38;5;28;01mreturn\u001b[39;00m \u001b[38;5;28mint\u001b[39m(num)\n\u001b[1;32m----> 6\u001b[0m \u001b[38;5;28mprint\u001b[39m(count_words(\u001b[38;5;124m\"\u001b[39m\u001b[38;5;124mwhat are you\u001b[39m\u001b[38;5;124m\"\u001b[39m))\n",
      "Cell \u001b[1;32mIn[60], line 2\u001b[0m, in \u001b[0;36mcount_words\u001b[1;34m(nums)\u001b[0m\n\u001b[0;32m      1\u001b[0m \u001b[38;5;28;01mdef\u001b[39;00m\u001b[38;5;250m \u001b[39m\u001b[38;5;21mcount_words\u001b[39m (nums) :\n\u001b[1;32m----> 2\u001b[0m     num \u001b[38;5;241m=\u001b[39m nums\u001b[38;5;241m.\u001b[39mcount()\n\u001b[0;32m      3\u001b[0m     num \u001b[38;5;241m=\u001b[39m nums\u001b[38;5;241m.\u001b[39msplit()\n\u001b[0;32m      4\u001b[0m     \u001b[38;5;28;01mreturn\u001b[39;00m \u001b[38;5;28mint\u001b[39m(num)\n",
      "\u001b[1;31mTypeError\u001b[0m: count expected at least 1 argument, got 0"
     ]
    }
   ],
   "source": [
    "def count_words (nums) :\n",
    "    num = nums.count()\n",
    "    num = nums.split()\n",
    "    return int(num)\n",
    "\n",
    "print(count_words(\"what are you\"))"
   ]
  },
  {
   "cell_type": "code",
   "execution_count": 62,
   "id": "c82706ce-f947-4adf-9ade-a2a899fd705e",
   "metadata": {},
   "outputs": [
    {
     "name": "stdout",
     "output_type": "stream",
     "text": [
      "3\n"
     ]
    }
   ],
   "source": [
    "def count_words(nums):\n",
    "    words = nums.split()\n",
    "    return len(words)\n",
    "print(count_words(\"what are you\"))"
   ]
  },
  {
   "cell_type": "code",
   "execution_count": 68,
   "id": "f748feb2-428a-4bbd-9dbb-85481d7ee5e7",
   "metadata": {},
   "outputs": [
    {
     "name": "stdout",
     "output_type": "stream",
     "text": [
      "False\n"
     ]
    }
   ],
   "source": [
    "def is_valid_email (email):\n",
    "    email = email.split(\"@\") \n",
    "    if email[:-4] == \".com\":\n",
    "        return True\n",
    "    else:\n",
    "        return False\n",
    "\n",
    "print(is_valid_email(\"pmj960128@naver.com\"))"
   ]
  },
  {
   "cell_type": "code",
   "execution_count": 71,
   "id": "092a01d3-9309-48c5-ae11-8c568e31da41",
   "metadata": {},
   "outputs": [
    {
     "name": "stdout",
     "output_type": "stream",
     "text": [
      "False\n"
     ]
    }
   ],
   "source": [
    "def is_valid_email (email):\n",
    "    if email.count(\"@\") != 1:\n",
    "        return False\n",
    "    local,domain=email.split(\"@\")\n",
    "    if len(local) ==0 or len(domain)==0:\n",
    "        return False\n",
    "    if \".\" not in domain:\n",
    "        return False\n",
    "    else:\n",
    "        return True\n",
    "\n",
    "print(is_valid_email(\"pmgfwkeml.net\"))"
   ]
  },
  {
   "cell_type": "code",
   "execution_count": 75,
   "id": "13e02241-5dbf-4e87-a92b-dcaaee8d312d",
   "metadata": {},
   "outputs": [
    {
     "name": "stdout",
     "output_type": "stream",
     "text": [
      "3 2 1\n"
     ]
    }
   ],
   "source": [
    "a =\"apple banana apple orange apple banana\"\n",
    "a=a.split()\n",
    "b = a.count(\"apple\")\n",
    "c = a.count(\"banana\")\n",
    "d = a.count(\"orange\")\n",
    "print(b,c,d)"
   ]
  },
  {
   "cell_type": "code",
   "execution_count": 76,
   "id": "3047d9e3-d6aa-48a9-85e1-de3c86863d0f",
   "metadata": {},
   "outputs": [
    {
     "name": "stdout",
     "output_type": "stream",
     "text": [
      "{'apple': 3, 'banana': 2, 'orange': 1}\n"
     ]
    }
   ],
   "source": [
    "def count_words(text):\n",
    "    result = {}\n",
    "    words = text.split()\n",
    "\n",
    "    for word in words :\n",
    "        if word in result :\n",
    "            result[word] +=1\n",
    "        else:\n",
    "            result[word] =1\n",
    "    return result\n",
    "\n",
    "print(count_words(\"apple banana apple orange apple banana\"))"
   ]
  },
  {
   "cell_type": "code",
   "execution_count": 79,
   "id": "00cc06d7-e9db-4e53-adca-9a459276d6a7",
   "metadata": {},
   "outputs": [
    {
     "ename": "TypeError",
     "evalue": "count expected at least 1 argument, got 0",
     "output_type": "error",
     "traceback": [
      "\u001b[1;31m---------------------------------------------------------------------------\u001b[0m",
      "\u001b[1;31mTypeError\u001b[0m                                 Traceback (most recent call last)",
      "Cell \u001b[1;32mIn[79], line 8\u001b[0m\n\u001b[0;32m      5\u001b[0m     \u001b[38;5;28;01mfor\u001b[39;00m coun \u001b[38;5;129;01min\u001b[39;00m cou :\n\u001b[0;32m      6\u001b[0m         coun \u001b[38;5;241m=\u001b[39m result\n\u001b[1;32m----> 8\u001b[0m \u001b[38;5;28mprint\u001b[39m(count_chars(\u001b[38;5;124m\"\u001b[39m\u001b[38;5;124m내가준 내기 내림\u001b[39m\u001b[38;5;124m\"\u001b[39m))\n",
      "Cell \u001b[1;32mIn[79], line 3\u001b[0m, in \u001b[0;36mcount_chars\u001b[1;34m(cou)\u001b[0m\n\u001b[0;32m      1\u001b[0m \u001b[38;5;28;01mdef\u001b[39;00m\u001b[38;5;250m \u001b[39m\u001b[38;5;21mcount_chars\u001b[39m (cou):\n\u001b[0;32m      2\u001b[0m     result\u001b[38;5;241m=\u001b[39m{}\n\u001b[1;32m----> 3\u001b[0m     cou \u001b[38;5;241m=\u001b[39m cou\u001b[38;5;241m.\u001b[39mcount()\n\u001b[0;32m      5\u001b[0m     \u001b[38;5;28;01mfor\u001b[39;00m coun \u001b[38;5;129;01min\u001b[39;00m cou :\n\u001b[0;32m      6\u001b[0m         coun \u001b[38;5;241m=\u001b[39m result\n",
      "\u001b[1;31mTypeError\u001b[0m: count expected at least 1 argument, got 0"
     ]
    }
   ],
   "source": [
    "def count_chars (cou):\n",
    "    result={}\n",
    "    cou = cou.count()\n",
    "\n",
    "    for coun in cou :\n",
    "        coun = result\n",
    "    \n",
    "print(count_chars(\"내가준 내기 내림\"))"
   ]
  },
  {
   "cell_type": "code",
   "execution_count": 80,
   "id": "6c2a70e3-e8cf-4dd4-bea3-ff94c1afc935",
   "metadata": {},
   "outputs": [
    {
     "name": "stdout",
     "output_type": "stream",
     "text": [
      "{'내': 3, '가': 1, '준': 1, ' ': 2, '기': 1, '림': 1}\n"
     ]
    }
   ],
   "source": [
    "def count_chars (cou):\n",
    "    result = {}\n",
    "    for ch in cou:\n",
    "        if ch in result:\n",
    "            result[ch] +=1\n",
    "        else :\n",
    "            result[ch] =1\n",
    "    return result\n",
    "print(count_chars(\"내가준 내기 내림\"))"
   ]
  },
  {
   "cell_type": "code",
   "execution_count": 94,
   "id": "27310e35-9b63-4d51-9c6d-2518cfb47a71",
   "metadata": {},
   "outputs": [
    {
     "name": "stdout",
     "output_type": "stream",
     "text": [
      "i\n"
     ]
    }
   ],
   "source": [
    "def most_common_char (text) :\n",
    "    result = {}\n",
    "    for due in text :\n",
    "        if due in result:\n",
    "            result[due]+=1\n",
    "        else:\n",
    "            result[due] =1\n",
    "    return max(result, key=result.get)\n",
    "    \n",
    "print(most_common_char(\"what is your favorite foodiii?\"))"
   ]
  },
  {
   "cell_type": "code",
   "execution_count": 98,
   "id": "ef01ccf7-b4cf-4ec5-9080-0aca1e07a5e4",
   "metadata": {},
   "outputs": [
    {
     "name": "stdout",
     "output_type": "stream",
     "text": [
      "['b']\n"
     ]
    }
   ],
   "source": [
    "def get_unique_chars (text):\n",
    "    result={}\n",
    "    \n",
    "    for ih in text:\n",
    "        if ih in result :\n",
    "            result[ih] += 1\n",
    "        else : \n",
    "            result[ih] = 1\n",
    "    uniqe = []\n",
    "    for ih in result :\n",
    "        if result[ih] ==1:\n",
    "            uniqe.append(ih)\n",
    "    return uniqe\n",
    "print(get_unique_chars(\"bannana\"))"
   ]
  },
  {
   "cell_type": "code",
   "execution_count": null,
   "id": "c82c2dca-ff8b-4b0c-9fd2-cd618e2babfd",
   "metadata": {},
   "outputs": [],
   "source": []
  }
 ],
 "metadata": {
  "kernelspec": {
   "display_name": "Python [conda env:base] *",
   "language": "python",
   "name": "conda-base-py"
  },
  "language_info": {
   "codemirror_mode": {
    "name": "ipython",
    "version": 3
   },
   "file_extension": ".py",
   "mimetype": "text/x-python",
   "name": "python",
   "nbconvert_exporter": "python",
   "pygments_lexer": "ipython3",
   "version": "3.13.5"
  }
 },
 "nbformat": 4,
 "nbformat_minor": 5
}
