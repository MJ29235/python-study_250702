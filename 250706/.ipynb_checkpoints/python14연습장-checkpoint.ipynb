{
 "cells": [
  {
   "cell_type": "markdown",
   "id": "aab0729a-c20e-4df4-b6da-28cf25ff8056",
   "metadata": {},
   "source": [
    "사용자로부터 어떤 값을 받고, 해당 값을 한화(로 바꿔서 출력되도록 해주세요\n",
    "ex) 100 ==>환율 1112원 // 111200원으로 출력되도록 해주세요`"
   ]
  },
  {
   "cell_type": "code",
   "execution_count": 17,
   "id": "dba05b1c-faae-4b23-b2c0-35c9dc0bcbf3",
   "metadata": {},
   "outputs": [
    {
     "name": "stdin",
     "output_type": "stream",
     "text": [
      "환전할 금액을 입력해주세요. (예: 100 달러): 100\n"
     ]
    },
    {
     "name": "stdout",
     "output_type": "stream",
     "text": [
      "111,200.0원\n"
     ]
    }
   ],
   "source": [
    "cash =float(input(\"환전할 금액을 입력해주세요. (예: 100 달러):\"))\n",
    "\n",
    "print(f\"{cash*1112:,}원\")"
   ]
  },
  {
   "cell_type": "markdown",
   "id": "d81d4a0c-51e0-403a-b11b-cc89d3b82b98",
   "metadata": {},
   "source": [
    "달러의 환율을 1112원으로 설정, 위안화의 환율을 171원으로 설정, 엔화의 환율을 1010원으로 설정하되, 해당 화폐당 환율의 값을 딕셔너리라는 자료구조로 정의. 사용자가 달러 혹은 엔화 혹은 위안화 값ㅇ르 입력했을 떄, 해당 값을 원하는 값을 입력했을때,\n",
    "ex) 100달러 => 111,200 // 100위안 => 17,100원"
   ]
  },
  {
   "cell_type": "code",
   "execution_count": 43,
   "id": "4532c881-e014-407d-a96e-c2e4f1bc6c1d",
   "metadata": {},
   "outputs": [
    {
     "name": "stdin",
     "output_type": "stream",
     "text": [
      "달러,위안,엔 입력하세요. 50000달러\n"
     ]
    },
    {
     "name": "stdout",
     "output_type": "stream",
     "text": [
      "68,100,000 원\n"
     ]
    }
   ],
   "source": [
    "cash = input(\"달러,위안,엔 입력하세요.\")\n",
    "exchange = {\"달러\": 1362,\"위안\":190, \"엔\":9.48 }\n",
    "\n",
    "if cash[-2:] == \"달러\":\n",
    "    print(f\"{exchange['달러']*int(cash[0:-2]):,} 원\")\n",
    "elif cash[-1:] == \"엔\":\n",
    "    print(f\"{exchange['엔']*int(cash[0:-1]):,} 원\")\n",
    "elif cash[-2:] == \"위안\":\n",
    "    print(f\"{exchange['위안']*int(cash[0:-2]):,} 원\")"
   ]
  },
  {
   "cell_type": "code",
   "execution_count": 35,
   "id": "6a76a8d2-a048-4ac9-8942-73b6a6b6b143",
   "metadata": {},
   "outputs": [
    {
     "name": "stdin",
     "output_type": "stream",
     "text": [
      "환전하시고자하는 달러, 위안, 엔화 중 하나를 입력하세요. 720달러\n"
     ]
    },
    {
     "name": "stdout",
     "output_type": "stream",
     "text": [
      "980,877.6 원\n"
     ]
    }
   ],
   "source": [
    "cash_list = {\"달러\" :1362.33 , \"위안\":190.15 , \"엔화\": 9.48}\n",
    "money = input(\"환전하시고자하는 달러, 위안, 엔화 중 하나를 입력하세요.\")\n",
    "\n",
    "if money[-2:] ==\"달러\" :\n",
    "    print(f\"{cash_list['달러']*int(money[0:-2]):,} 원\")\n",
    "elif money[-2:] ==\"위안\" :\n",
    "    print(f\"{cash_list['위안']*int(money[0:-2]):,} 원\")\n",
    "elif money[-2:] ==\"엔화\" :\n",
    "    print(f\"{cash_list['엔화']*int(money[0:-2]):,} 원\")"
   ]
  },
  {
   "cell_type": "markdown",
   "id": "7a510d1b-ae28-44b3-a3d7-8d465faf7c24",
   "metadata": {},
   "source": [
    "구구단 2*1=2 2-9까지의 숫자가 반복, 순회해야한다. -> 반복되는 동안 1~9까지의 숫자의 반복, 순회가 다시 필요! -> 이것도 반복해야한`다. "
   ]
  },
  {
   "cell_type": "code",
   "execution_count": 55,
   "id": "a2227c02-6d00-4bfb-8dc0-27e82d75eef7",
   "metadata": {},
   "outputs": [
    {
     "name": "stdout",
     "output_type": "stream",
     "text": [
      "\n",
      "-------2단-------\n",
      "\n",
      "2 X 1 = 2\n",
      "2 X 2 = 4\n",
      "2 X 3 = 6\n",
      "2 X 4 = 8\n",
      "2 X 5 = 10\n",
      "2 X 6 = 12\n",
      "2 X 7 = 14\n",
      "2 X 8 = 16\n",
      "2 X 9 = 18\n",
      "\n",
      "-------3단-------\n",
      "\n",
      "3 X 1 = 3\n",
      "3 X 2 = 6\n",
      "3 X 3 = 9\n",
      "3 X 4 = 12\n",
      "3 X 5 = 15\n",
      "3 X 6 = 18\n",
      "3 X 7 = 21\n",
      "3 X 8 = 24\n",
      "3 X 9 = 27\n",
      "\n",
      "-------4단-------\n",
      "\n",
      "4 X 1 = 4\n",
      "4 X 2 = 8\n",
      "4 X 3 = 12\n",
      "4 X 4 = 16\n",
      "4 X 5 = 20\n",
      "4 X 6 = 24\n",
      "4 X 7 = 28\n",
      "4 X 8 = 32\n",
      "4 X 9 = 36\n",
      "\n",
      "-------5단-------\n",
      "\n",
      "5 X 1 = 5\n",
      "5 X 2 = 10\n",
      "5 X 3 = 15\n",
      "5 X 4 = 20\n",
      "5 X 5 = 25\n",
      "5 X 6 = 30\n",
      "5 X 7 = 35\n",
      "5 X 8 = 40\n",
      "5 X 9 = 45\n",
      "\n",
      "-------6단-------\n",
      "\n",
      "6 X 1 = 6\n",
      "6 X 2 = 12\n",
      "6 X 3 = 18\n",
      "6 X 4 = 24\n",
      "6 X 5 = 30\n",
      "6 X 6 = 36\n",
      "6 X 7 = 42\n",
      "6 X 8 = 48\n",
      "6 X 9 = 54\n",
      "\n",
      "-------7단-------\n",
      "\n",
      "7 X 1 = 7\n",
      "7 X 2 = 14\n",
      "7 X 3 = 21\n",
      "7 X 4 = 28\n",
      "7 X 5 = 35\n",
      "7 X 6 = 42\n",
      "7 X 7 = 49\n",
      "7 X 8 = 56\n",
      "7 X 9 = 63\n",
      "\n",
      "-------8단-------\n",
      "\n",
      "8 X 1 = 8\n",
      "8 X 2 = 16\n",
      "8 X 3 = 24\n",
      "8 X 4 = 32\n",
      "8 X 5 = 40\n",
      "8 X 6 = 48\n",
      "8 X 7 = 56\n",
      "8 X 8 = 64\n",
      "8 X 9 = 72\n",
      "\n",
      "-------9단-------\n",
      "\n",
      "9 X 1 = 9\n",
      "9 X 2 = 18\n",
      "9 X 3 = 27\n",
      "9 X 4 = 36\n",
      "9 X 5 = 45\n",
      "9 X 6 = 54\n",
      "9 X 7 = 63\n",
      "9 X 8 = 72\n",
      "9 X 9 = 81\n"
     ]
    }
   ],
   "source": [
    "\n",
    "for gugu in range(2,10) :\n",
    "    print()\n",
    "    print(f\"-------{gugu}단-------\")\n",
    "    print()\n",
    "    for dams in range (1,10):\n",
    "        print(f\"{gugu} X {dams} = {gugu*dams}\")\n"
   ]
  },
  {
   "cell_type": "code",
   "execution_count": 58,
   "id": "aead6816-625a-4502-b1f0-8dcd34a154db",
   "metadata": {},
   "outputs": [
    {
     "name": "stdout",
     "output_type": "stream",
     "text": [
      "\n",
      "-------2단-------\n",
      "\n",
      "\n",
      "-------3단-------\n",
      "\n",
      "3 X 1 = 3\n",
      "3 X 3 = 9\n",
      "3 X 5 = 15\n",
      "3 X 7 = 21\n",
      "3 X 9 = 27\n",
      "\n",
      "-------4단-------\n",
      "\n",
      "\n",
      "-------5단-------\n",
      "\n",
      "5 X 1 = 5\n",
      "5 X 3 = 15\n",
      "5 X 5 = 25\n",
      "5 X 7 = 35\n",
      "5 X 9 = 45\n",
      "\n",
      "-------6단-------\n",
      "\n",
      "\n",
      "-------7단-------\n",
      "\n",
      "7 X 1 = 7\n",
      "7 X 3 = 21\n",
      "7 X 5 = 35\n",
      "7 X 7 = 49\n",
      "7 X 9 = 63\n",
      "\n",
      "-------8단-------\n",
      "\n",
      "\n",
      "-------9단-------\n",
      "\n",
      "9 X 1 = 9\n",
      "9 X 3 = 27\n",
      "9 X 5 = 45\n",
      "9 X 7 = 63\n",
      "9 X 9 = 81\n"
     ]
    }
   ],
   "source": [
    "\n",
    "for gugu in range(2,10) :\n",
    "    print()\n",
    "    print(f\"-------{gugu}단-------\")\n",
    "    print()\n",
    "    for dams in range (1,10):\n",
    "        if (gugu*dams)%2!=0:\n",
    "            print(f\"{gugu} X {dams} = {gugu*dams}\")\n"
   ]
  },
  {
   "cell_type": "code",
   "execution_count": 68,
   "id": "c08d023d-3c35-47f4-a27a-1dbfb7f10d98",
   "metadata": {},
   "outputs": [
    {
     "name": "stdin",
     "output_type": "stream",
     "text": [
      "나이를 입력하세요. 2\n"
     ]
    },
    {
     "name": "stdout",
     "output_type": "stream",
     "text": [
      "어린이 입니다.\n"
     ]
    }
   ],
   "source": [
    "age = int(input(\"나이를 입력하세요.\"))\n",
    "\n",
    "if 0 < age and age <= 12 :\n",
    "    print(\"어린이 입니다.\")\n",
    "elif  age<=18 :\n",
    "    print(\"청소년 입니다.\")\n",
    "elif 19<=age :\n",
    "    print(\"성인입니다.\")"
   ]
  },
  {
   "cell_type": "code",
   "execution_count": 74,
   "id": "f974e01a-d36c-4423-8f12-ab4fc85527e5",
   "metadata": {},
   "outputs": [
    {
     "name": "stdin",
     "output_type": "stream",
     "text": [
      "2~9단까지 구구단을 입력하세요. 10\n"
     ]
    },
    {
     "name": "stdout",
     "output_type": "stream",
     "text": [
      "다른 숫자를 입력하세요.\n"
     ]
    }
   ],
   "source": [
    "num = int(input(\"2~9단까지 구구단을 입력하세요.\"))\n",
    "\n",
    "if 2 <= num and num<=9:\n",
    "    for gugu in range(1,10) :\n",
    "        print(f\"{num} X {gugu} = {num *gugu}\")\n",
    "else :\n",
    "    print(\"다른 숫자를 입력하세요.\")\n",
    "    \n",
    "    "
   ]
  },
  {
   "cell_type": "code",
   "execution_count": 82,
   "id": "8801023d-59ed-45b0-9bda-523538cab998",
   "metadata": {},
   "outputs": [
    {
     "name": "stdin",
     "output_type": "stream",
     "text": [
      "숫자 1 1563\n",
      "숫자 2 654\n",
      "연산자를 입력하세요.(+,-,*,/) : 4\n"
     ]
    },
    {
     "name": "stdout",
     "output_type": "stream",
     "text": [
      "잘못된 연산자입니다.\n"
     ]
    }
   ],
   "source": [
    "a = int(input(\"숫자 1\"))\n",
    "b = int(input(\"숫자 2\"))\n",
    "c = input(\"연산자를 입력하세요.(+,-,*,/) :\")\n",
    " \n",
    "if c == \"+\":\n",
    "    print(f\"{a+b}\")\n",
    "elif c == \"-\":\n",
    "    print(f\"{a-b}\")\n",
    "elif c == \"*\":\n",
    "    print(f\"{a*b}\")\n",
    "elif c == \"/\":\n",
    "    print(f\"{a/b}\")\n",
    "else :\n",
    "    print(\"잘못된 연산자입니다.\")\n",
    "    "
   ]
  }
 ],
 "metadata": {
  "kernelspec": {
   "display_name": "Python [conda env:base] *",
   "language": "python",
   "name": "conda-base-py"
  },
  "language_info": {
   "codemirror_mode": {
    "name": "ipython",
    "version": 3
   },
   "file_extension": ".py",
   "mimetype": "text/x-python",
   "name": "python",
   "nbconvert_exporter": "python",
   "pygments_lexer": "ipython3",
   "version": "3.13.5"
  }
 },
 "nbformat": 4,
 "nbformat_minor": 5
}
