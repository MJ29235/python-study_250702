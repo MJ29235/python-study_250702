{
 "cells": [
  {
   "cell_type": "code",
   "execution_count": null,
   "id": "ff86abc8-00bb-4962-9c0f-f080b0f4c1f2",
   "metadata": {},
   "outputs": [],
   "source": [
    "from selenium import webdriver\n",
    "from selenium.webdriver.chrome.options import Options\n",
    "from selenium.webdriver.chrome.service import Service\n",
    "from webdriver_manager.chrome import ChromeDriverManager\n",
    "import pickle # 1, 쿠키값을 저장하기 위한 라이브러리 pickle\n",
    "import time # 2, 최초 1회 인증받는데 필요한시간\n",
    "from selenium.common.exceptions.by import By\n",
    "\n",
    "\n"
   ]
  }
 ],
 "metadata": {
  "kernelspec": {
   "display_name": "Python [conda env:base] *",
   "language": "python",
   "name": "conda-base-py"
  },
  "language_info": {
   "codemirror_mode": {
    "name": "ipython",
    "version": 3
   },
   "file_extension": ".py",
   "mimetype": "text/x-python",
   "name": "python",
   "nbconvert_exporter": "python",
   "pygments_lexer": "ipython3",
   "version": "3.13.5"
  }
 },
 "nbformat": 4,
 "nbformat_minor": 5
}
