{
 "cells": [
  {
   "cell_type": "code",
   "execution_count": null,
   "id": "bdaa07da-5c4c-4a67-be9e-81cbbcd7a572",
   "metadata": {},
   "outputs": [],
   "source": [
    "### 지금까지 배운것 활용"
   ]
  },
  {
   "cell_type": "code",
   "execution_count": 10,
   "id": "2c569c88-5563-44fd-813c-7a99057d8ec3",
   "metadata": {},
   "outputs": [
    {
     "name": "stdout",
     "output_type": "stream",
     "text": [
      "<html> <body> <h1 id=\"title\">[1]크롤링이란?</h1> <p class=\"style\">웹페이지에서 필요한 데이터를 추출하는 것</p> <p align=\"center\" id=\"body\">파이썬을 중심으로 다양한 웹크롤링 기술 발달</p> </body> </html>\n",
      "<h1 id=\"title\">[1]크롤링이란?</h1>\n",
      "[1]크롤링이란?\n",
      "[1]크롤링이란?\n"
     ]
    }
   ],
   "source": [
    "from bs4 import BeautifulSoup\n",
    "\n",
    "html = \"<html>\\\n",
    "            <body>\\\n",
    "                <h1 id ='title'>[1]크롤링이란?</h1>\\\n",
    "                <p class ='style'>웹페이지에서 필요한 데이터를 추출하는 것</p>\\\n",
    "                <p id ='body' align ='center'>파이썬을 중심으로 다양한 웹크롤링 기술 발달</p>\\\n",
    "            </body>\\\n",
    "        </html>\"\n",
    "soup = BeautifulSoup(html, \"html.parser\")\n",
    "print(soup)\n",
    "data = soup.find(\"h1\")\n",
    "print(data)\n",
    "print(data.string)\n",
    "print(data.get_text())"
   ]
  },
  {
   "cell_type": "code",
   "execution_count": 14,
   "id": "2b11261a-0e71-4eb7-82aa-951fea97c21e",
   "metadata": {},
   "outputs": [
    {
     "name": "stdout",
     "output_type": "stream",
     "text": [
      "<html> <body> <h1 id=\"title\">[1]크롤링이란?</h1> <p class=\"style\">웹페이지에서 필요한 데이터를 추출하는 것</p> <p align=\"center\" id=\"body\">파이썬을 중심으로 다양한 웹크롤링 기술 발달</p> </body> </html>\n",
      "<body> <h1 id=\"title\">[1]크롤링이란?</h1> <p class=\"style\">웹페이지에서 필요한 데이터를 추출하는 것</p> <p align=\"center\" id=\"body\">파이썬을 중심으로 다양한 웹크롤링 기술 발달</p> </body>\n",
      "None\n",
      " [1]크롤링이란? 웹페이지에서 필요한 데이터를 추출하는 것 파이썬을 중심으로 다양한 웹크롤링 기술 발달 \n"
     ]
    }
   ],
   "source": [
    "from bs4 import BeautifulSoup\n",
    "\n",
    "html = \"<html>\\\n",
    "            <body>\\\n",
    "                <h1 id ='title'>[1]크롤링이란?</h1>\\\n",
    "                <p class ='style'>웹페이지에서 필요한 데이터를 추출하는 것</p>\\\n",
    "                <p id ='body' align ='center'>파이썬을 중심으로 다양한 웹크롤링 기술 발달</p>\\\n",
    "            </body>\\\n",
    "        </html>\"\n",
    "soup = BeautifulSoup(html, \"html.parser\")\n",
    "print(soup)\n",
    "data = soup.find(\"body\")\n",
    "print(data)\n",
    "print(data.string)\n",
    "print(data.get_text())"
   ]
  },
  {
   "cell_type": "code",
   "execution_count": 15,
   "id": "712730fc-e9f1-4d41-adf7-94f50f655f9a",
   "metadata": {},
   "outputs": [
    {
     "name": "stdout",
     "output_type": "stream",
     "text": [
      "<html> <body> <h1 id=\"title\">[1]크롤링이란?</h1> <p class=\"style\">웹페이지에서 필요한 데이터를 추출하는 것</p> <p align=\"center\" id=\"body\">파이썬을 중심으로 다양한 웹크롤링 기술 발달</p> </body> </html>\n",
      "<p class=\"style\">웹페이지에서 필요한 데이터를 추출하는 것</p>\n",
      "웹페이지에서 필요한 데이터를 추출하는 것\n",
      "웹페이지에서 필요한 데이터를 추출하는 것\n"
     ]
    }
   ],
   "source": [
    "from bs4 import BeautifulSoup\n",
    "\n",
    "html = \"<html>\\\n",
    "            <body>\\\n",
    "                <h1 id ='title'>[1]크롤링이란?</h1>\\\n",
    "                <p class ='style'>웹페이지에서 필요한 데이터를 추출하는 것</p>\\\n",
    "                <p id ='body' align ='center'>파이썬을 중심으로 다양한 웹크롤링 기술 발달</p>\\\n",
    "            </body>\\\n",
    "        </html>\"\n",
    "soup = BeautifulSoup(html, \"html.parser\")\n",
    "print(soup)\n",
    "data = soup.find(\"p\")\n",
    "print(data)\n",
    "print(data.string)\n",
    "print(data.get_text())"
   ]
  },
  {
   "cell_type": "code",
   "execution_count": 19,
   "id": "9576d252-c356-40c3-8a00-125141b3ce25",
   "metadata": {},
   "outputs": [
    {
     "name": "stdout",
     "output_type": "stream",
     "text": [
      "<html> <body> <h1 id=\"title\">[1]크롤링이란?</h1> <p class=\"style\">웹페이지에서 필요한 데이터를 추출하는 것</p> <p align=\"center\" id=\"body\">파이썬을 중심으로 다양한 웹크롤링 기술 발달</p> </body> </html>\n",
      "웹페이지에서 필요한 데이터를 추출하는 것\n",
      "파이썬을 중심으로 다양한 웹크롤링 기술 발달\n"
     ]
    }
   ],
   "source": [
    "from bs4 import BeautifulSoup\n",
    "\n",
    "html = \"<html>\\\n",
    "            <body>\\\n",
    "                <h1 id ='title'>[1]크롤링이란?</h1>\\\n",
    "                <p class ='style'>웹페이지에서 필요한 데이터를 추출하는 것</p>\\\n",
    "                <p id ='body' align ='center'>파이썬을 중심으로 다양한 웹크롤링 기술 발달</p>\\\n",
    "            </body>\\\n",
    "        </html>\"\n",
    "soup = BeautifulSoup(html, \"html.parser\")\n",
    "print(soup)\n",
    "data = soup.find_all(\"p\")\n",
    "\n",
    "for item in data :\n",
    "    print(item.string)"
   ]
  },
  {
   "cell_type": "code",
   "execution_count": 23,
   "id": "bf1e7c65-3e79-4fac-93bc-05ada9fcb5da",
   "metadata": {},
   "outputs": [
    {
     "name": "stdout",
     "output_type": "stream",
     "text": [
      "<html> <body> <h1 id=\"title\">[1]크롤링이란?</h1> <p class=\"style\">웹페이지에서 필요한 데이터를 추출하는 것</p> <p align=\"center\" id=\"body\">파이썬을 중심으로 다양한 웹크롤링 기술 발달</p> </body> </html>\n",
      "파이썬을 중심으로 다양한 웹크롤링 기술 발달\n"
     ]
    }
   ],
   "source": [
    "from bs4 import BeautifulSoup\n",
    "\n",
    "html = \"<html>\\\n",
    "            <body>\\\n",
    "                <h1 id ='title'>[1]크롤링이란?</h1>\\\n",
    "                <p class ='style'>웹페이지에서 필요한 데이터를 추출하는 것</p>\\\n",
    "                <p id ='body' align ='center'>파이썬을 중심으로 다양한 웹크롤링 기술 발달</p>\\\n",
    "            </body>\\\n",
    "        </html>\"\n",
    "soup = BeautifulSoup(html, \"html.parser\")\n",
    "print(soup)\n",
    "#data = soup.find(\"p\", attrs={\"id\":\"body\"})\n",
    "data = soup.find(\"p\", attrs={\"align\":\"center\"})\n",
    "print(data.string)"
   ]
  },
  {
   "cell_type": "code",
   "execution_count": 26,
   "id": "3dc894b6-fff0-49bb-91b5-1977c732aa2c",
   "metadata": {},
   "outputs": [
    {
     "name": "stdout",
     "output_type": "stream",
     "text": [
      "<html> <body> <h1 id=\"title\">[1]크롤링이란?</h1> <p class=\"style\">웹페이지에서 필요한 데이터를 추출하는 것</p> <p align=\"center\" id=\"body01\">파이썬을 중심으로 다양한 웹크롤링 기술 발달-1</p> <p align=\"center\" id=\"body02\">파이썬을 중심으로 다양한 웹크롤링 기술 발달-2</p> </body> </html>\n",
      "파이썬을 중심으로 다양한 웹크롤링 기술 발달-2\n"
     ]
    }
   ],
   "source": [
    "from bs4 import BeautifulSoup\n",
    "\n",
    "html = \"<html>\\\n",
    "            <body>\\\n",
    "                <h1 id ='title'>[1]크롤링이란?</h1>\\\n",
    "                <p class ='style'>웹페이지에서 필요한 데이터를 추출하는 것</p>\\\n",
    "                <p id ='body01' align ='center'>파이썬을 중심으로 다양한 웹크롤링 기술 발달-1</p>\\\n",
    "                <p id ='body02' align ='center'>파이썬을 중심으로 다양한 웹크롤링 기술 발달-2</p>\\\n",
    "            </body>\\\n",
    "        </html>\"\n",
    "soup = BeautifulSoup(html, \"html.parser\")\n",
    "print(soup)\n",
    "#data = soup.find(\"p\", attrs={\"id\":\"body\"})\n",
    "data = soup.find(\"p\", attrs={\"align\":\"center\",\"id\":\"body02\"}) ######\n",
    "print(data.string)"
   ]
  },
  {
   "cell_type": "code",
   "execution_count": 32,
   "id": "6f73fe0d-426b-4fff-8ec4-1bca0b15338d",
   "metadata": {},
   "outputs": [
    {
     "name": "stdout",
     "output_type": "stream",
     "text": [
      "<html> <body> <h1 id=\"title\">[1]크롤링이란?</h1> <p class=\"style\">웹페이지에서 필요한 데이터를 추출하는 것</p> <p align=\"center\" id=\"body01\">파이썬을 중심으로 다양한 웹크롤링 기술 발달-1</p> <p align=\"center\" id=\"body02\">파이썬을 중심으로 다양한 웹크롤링 기술 발달-2</p> </body> </html>\n",
      "파이썬을 중심으로 다양한 웹크롤링 기술 발달-2\n"
     ]
    }
   ],
   "source": [
    "from bs4 import BeautifulSoup\n",
    "\n",
    "html = \"<html>\\\n",
    "            <body>\\\n",
    "                <h1 id ='title'>[1]크롤링이란?</h1>\\\n",
    "                <p class ='style'>웹페이지에서 필요한 데이터를 추출하는 것</p>\\\n",
    "                <p id ='body01' align ='center'>파이썬을 중심으로 다양한 웹크롤링 기술 발달-1</p>\\\n",
    "                <p id ='body02' align ='center'>파이썬을 중심으로 다양한 웹크롤링 기술 발달-2</p>\\\n",
    "            </body>\\\n",
    "        </html>\"\n",
    "soup = BeautifulSoup(html, \"html.parser\")\n",
    "print(soup)\n",
    "#data = soup.find(\"p\", attrs={\"id\":\"body\"})\n",
    "data = soup.find(\"p\", id =\"body02\") #######\n",
    "print(data.string)"
   ]
  },
  {
   "cell_type": "code",
   "execution_count": 30,
   "id": "0ee09110-9b66-4b0a-aa8e-541cec523bd8",
   "metadata": {},
   "outputs": [
    {
     "name": "stdout",
     "output_type": "stream",
     "text": [
      "<html> <body> <h1 id=\"title\">[1]크롤링이란?</h1> <p class=\"cssstyle01\">웹페이지에서 필요한 데이터를 추출하는 것-1</p> <p class=\"cssstyle02\">웹페이지에서 필요한 데이터를 추출하는 것-2</p> <p align=\"center\" id=\"body01\">파이썬을 중심으로 다양한 웹크롤링 기술 발달-1</p> <p align=\"center\" id=\"body02\">파이썬을 중심으로 다양한 웹크롤링 기술 발달-2</p> </body> </html>\n",
      "웹페이지에서 필요한 데이터를 추출하는 것-2\n"
     ]
    }
   ],
   "source": [
    "from bs4 import BeautifulSoup\n",
    "\n",
    "html = \"<html>\\\n",
    "            <body>\\\n",
    "                <h1 id ='title'>[1]크롤링이란?</h1>\\\n",
    "                <p class ='cssstyle01'>웹페이지에서 필요한 데이터를 추출하는 것-1</p>\\\n",
    "                <p class ='cssstyle02'>웹페이지에서 필요한 데이터를 추출하는 것-2</p>\\\n",
    "                <p id ='body01' align ='center'>파이썬을 중심으로 다양한 웹크롤링 기술 발달-1</p>\\\n",
    "                <p id ='body02' align ='center'>파이썬을 중심으로 다양한 웹크롤링 기술 발달-2</p>\\\n",
    "            </body>\\\n",
    "        </html>\"\n",
    "soup = BeautifulSoup(html, \"html.parser\")\n",
    "print(soup)\n",
    "#data = soup.find(\"p\", attrs={\"id\":\"body\"})\n",
    "#data = soup.find(\"p\", attrs={\"align\":\"center\",\"id\":\"body02\"})\n",
    "data=soup.find(\"p\", class_ = \"cssstyle02\") # 가장 정석적인 방법!class_ 는 함수class로 인식하지 않도록하는것!\n",
    "print(data.string)"
   ]
  },
  {
   "cell_type": "code",
   "execution_count": 31,
   "id": "ebed2aa7-1ec8-4485-9b27-7e097e0ae6dc",
   "metadata": {},
   "outputs": [
    {
     "name": "stdout",
     "output_type": "stream",
     "text": [
      "<html> <body> <h1 id=\"title\">[1]크롤링이란?</h1> <p class=\"cssstyle01\">웹페이지에서 필요한 데이터를 추출하는 것-1</p> <p class=\"cssstyle02\">웹페이지에서 필요한 데이터를 추출하는 것-2</p> <p align=\"center\" id=\"body01\">파이썬을 중심으로 다양한 웹크롤링 기술 발달-1</p> <p align=\"center\" id=\"body02\">파이썬을 중심으로 다양한 웹크롤링 기술 발달-2</p> </body> </html>\n",
      "웹페이지에서 필요한 데이터를 추출하는 것-2\n"
     ]
    }
   ],
   "source": [
    "from bs4 import BeautifulSoup\n",
    "\n",
    "html = \"<html>\\\n",
    "            <body>\\\n",
    "                <h1 id ='title'>[1]크롤링이란?</h1>\\\n",
    "                <p class ='cssstyle01'>웹페이지에서 필요한 데이터를 추출하는 것-1</p>\\\n",
    "                <p class ='cssstyle02'>웹페이지에서 필요한 데이터를 추출하는 것-2</p>\\\n",
    "                <p id ='body01' align ='center'>파이썬을 중심으로 다양한 웹크롤링 기술 발달-1</p>\\\n",
    "                <p id ='body02' align ='center'>파이썬을 중심으로 다양한 웹크롤링 기술 발달-2</p>\\\n",
    "            </body>\\\n",
    "        </html>\"\n",
    "soup = BeautifulSoup(html, \"html.parser\")\n",
    "print(soup)\n",
    "data=soup.find(\"p\",\"cssstyle02\")\n",
    "print(data.string)"
   ]
  },
  {
   "cell_type": "code",
   "execution_count": 31,
   "id": "f2a08bb1-7c8d-472c-b2d7-f924d9a78e3f",
   "metadata": {},
   "outputs": [
    {
     "name": "stdout",
     "output_type": "stream",
     "text": [
      "<html> <body> <h1 id=\"title\">[1]크롤링이란?</h1> <p class=\"cssstyle01\">웹페이지에서 필요한 데이터를 추출하는 것-1</p> <p class=\"cssstyle02\">웹페이지에서 필요한 데이터를 추출하는 것-2</p> <p align=\"center\" id=\"body01\">파이썬을 중심으로 다양한 웹크롤링 기술 발달-1</p> <p align=\"center\" id=\"body02\">파이썬을 중심으로 다양한 웹크롤링 기술 발달-2</p> </body> </html>\n",
      "웹페이지에서 필요한 데이터를 추출하는 것-2\n"
     ]
    }
   ],
   "source": [
    "from bs4 import BeautifulSoup\n",
    "\n",
    "html = \"<html>\\\n",
    "            <body>\\\n",
    "                <h1 id ='title'>[1]크롤링이란?</h1>\\\n",
    "                <p class ='cssstyle01'>웹페이지에서 필요한 데이터를 추출하는 것-1</p>\\\n",
    "                <p class ='cssstyle02'>웹페이지에서 필요한 데이터를 추출하는 것-2</p>\\\n",
    "                <p id ='body01' align ='center'>파이썬을 중심으로 다양한 웹크롤링 기술 발달-1</p>\\\n",
    "                <p id ='body02' align ='center'>파이썬을 중심으로 다양한 웹크롤링 기술 발달-2</p>\\\n",
    "            </body>\\\n",
    "        </html>\"\n",
    "soup = BeautifulSoup(html, \"html.parser\")\n",
    "print(soup)\n",
    "data=soup.find(\"p\",\"cssstyle02\")\n",
    "print(data.string)"
   ]
  }
 ],
 "metadata": {
  "kernelspec": {
   "display_name": "Python [conda env:base] *",
   "language": "python",
   "name": "conda-base-py"
  },
  "language_info": {
   "codemirror_mode": {
    "name": "ipython",
    "version": 3
   },
   "file_extension": ".py",
   "mimetype": "text/x-python",
   "name": "python",
   "nbconvert_exporter": "python",
   "pygments_lexer": "ipython3",
   "version": "3.13.5"
  }
 },
 "nbformat": 4,
 "nbformat_minor": 5
}
