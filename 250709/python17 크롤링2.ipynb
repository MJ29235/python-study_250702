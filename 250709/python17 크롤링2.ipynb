{
 "cells": [
  {
   "cell_type": "markdown",
   "id": "0be8f539-36a2-46a9-b8f3-a0a38d76d8e8",
   "metadata": {},
   "source": [
    "#### 파이썬 Basic 크롤링 문법\n",
    "1. requests -> 한 두개 기능뿐이기 때문에 그냥 객체 다 가져옴\n",
    "2. bs4 (Beautifulsoup4)\n",
    "    초창기 크롤링 방식이기 때문에 요즘에는 잘 안씀.. 최근 페이지들은 크롤링 힘듦. BUt 기본!!"
   ]
  },
  {
   "cell_type": "code",
   "execution_count": 10,
   "id": "b67a233d-96f4-4146-b048-87791c1b5719",
   "metadata": {},
   "outputs": [
    {
     "name": "stdout",
     "output_type": "stream",
     "text": [
      "잔금대출에도 DTI 규제 적용 검토\n"
     ]
    }
   ],
   "source": [
    "import requests \n",
    "from bs4 import BeautifulSoup #bs4라는 객체\n",
    "\n",
    "res = requests.get(\"http://v.daum.net/v/20170615203441266\")\n",
    "soup = BeautifulSoup(res.content, \"html.parser\")\n",
    "\n",
    "mydata = soup.find(\"title\")\n",
    "print(mydata.get_text())"
   ]
  },
  {
   "cell_type": "code",
   "execution_count": null,
   "id": "fef38e36-b5ee-49b8-9ab9-5e7a1d489208",
   "metadata": {},
   "outputs": [],
   "source": []
  }
 ],
 "metadata": {
  "kernelspec": {
   "display_name": "Python [conda env:base] *",
   "language": "python",
   "name": "conda-base-py"
  },
  "language_info": {
   "codemirror_mode": {
    "name": "ipython",
    "version": 3
   },
   "file_extension": ".py",
   "mimetype": "text/x-python",
   "name": "python",
   "nbconvert_exporter": "python",
   "pygments_lexer": "ipython3",
   "version": "3.13.5"
  }
 },
 "nbformat": 4,
 "nbformat_minor": 5
}
