{
 "cells": [
  {
   "cell_type": "markdown",
   "id": "6c78dead-e0c6-400b-a4bc-ec810568d96f",
   "metadata": {},
   "source": [
    "#### 절차지향 언어가 문제를 해결해가는 과정\n",
    "\n",
    "- 예 : 냉장고에 코끼리를 넣는다\n",
    "- 절차지향언어 :\n",
    "  1. 냉장고 문을 연다 // open 냉장고\n",
    "  2. 코끼리를 냉장고에 넣는다 // insert 코끼리 into 냉장고\n",
    "  3. 냉장고 문을 닫는다 // close 냉장고\n",
    "\n",
    "#### 객체지향언어가 문제를 해결해가는 과정\n",
    "- 예 : 냉장고에 코끼리를 넣는다\n",
    "  1. 코끼리라는 동물의 '정보를 수집'해서 해당 동물에 대한 '설계도'를 만든다. ( 설계도에는 냉장고의 문을 열수있고, 안으로 들어갈 수 있는 기능을 사전에 정의한다.)\n",
    "  2. 이전단계에서 만든 설계도를 기반으로 '코끼리1'이라는 '객체'를 하나 만든다.\n",
    "  3. '냉장고'라는 사물의 정보를 수집해서 해당 사물에 대한 '설계도'를 만든다. ( 만약 코끼리가 냉장고 안에 들어온다면 자동으로 문이 닫혀지도록하는 기능을 사전에 정의를 해놨기 때문에, 해당 정의가 되어있는 설계도를 기반으로 기능)\n",
    "  4. 이전단계에서 만든 냉장고 설계도를 기반으로 '냉장고1'이라는 객체를 하나 만든다.\n",
    "  5. 코끼리1이라는 객체안에 \"내장\"되어있는 기능을 호출해서 냉장고1이라는 객체의 문을 열게한다. (이미 설계도 안에서 정의한적이 있기 때문에 내장되어있음) \n",
    "  6. 코끼리1 이라는 객체안에 \"내장\"되어있는 기능을 호출해서 냉장고 1이라는 객체안으로 들어가게 한다. ( 이미 설계도 상에서 정의되어있는 기능을 가져온것!)\n",
    "  7. 냉장고1 이라는 객에안에 내장 되어있는 기능을 호출해서 냉장고 1이라는 객체의 문을 닫게한다.\n"
   ]
  },
  {
   "cell_type": "markdown",
   "id": "d81702a3-953a-4ee2-b83c-00694b9b56ed",
   "metadata": {},
   "source": [
    "#### 객체지향 프로그래밍 언어 핵심 요소\n",
    "1. 어떤 사물 혹은 동물을 나타낼 수 있는 설계도를 객체지향언어에서 class 라고 부름.\n",
    "    - 설계도면에 기능이 있어야지만, 그 설계도면을 가지고 만든 객체는 그 기능을 쓸 수 있음! 기능 = atrribute(속성) : 코끼리의 다리는 4개 / 코끼리의 코는 1개 = 그 코는 손의 역할을 함\n",
    "   - method (기능 = 객체만의 기능을 구현할 수 있는 함수) : 코끼리가 냉장고에 보면 자신의 코로 문을 연다.(기능) / 코끼리가 자신의 코로 냉장고의 문을 연다면 그 안으로 들어간다. (함수)\n",
    "   - 만약 해당 객체가 사전에 설계도면에 정의가 되어있는 속성값과 기능을 구현하고 싶다면 이렇게 작성해라 => 객체.속성명 // 객체.메서드함수()\n",
    "3. 어떤 사물 혹을 동물의 정보를 가지고 있는 설계도를 가지고 만들어진 \"객체\" Object -> 객체\n",
    "   - 객체명. 속성 : 객체가 가지고 있는 어떤 정보들을 찾아올 수 있음\n",
    "   - 객체명. 매서드함수() : 해당 객체가 가지고 있는 고유한 매서드함수를 실행하겠다는 의미!\n",
    "\n",
    "#### 4. class를 활용한 객체생성 문법\n",
    "클래스를 쓸때 만들 수 있게하는 문법\n",
    "1. 클래스를 정의하려면 : class라는 예약어를 써야함. -> 예약어 뒤에 클래스의 이름을 사용자가 정해서 쓰면됨. class student -> class student라는 클래스를 정의할 것이다!\n",
    "2. 클래스 내 속성과 매서드 함수를 정의하려면, \"생성자함수\" 를 먼저 만들어야함! \"생성자함수\" = \"초기화함수\" 허허벌판에 속성과 매서드함수를 세팅하기에. 초기화함수 만드는 법 ->\n",
    "   - __init__: 클래스를 통해서 객체가 생성될때, 자동으로 호출되는 특별한 함수\n",
    "   - 첫번째 인자값은 무조건 self라는 매개변수가 정의되야함. -> __init__특별한 함수를 선언할 때, 반드시 첫번째 매개변수로 작성해야함! -> 자기자신(class를 통해서 생성되어질 객체자신)\n",
    "   - 예) __intit__(self,) 여기까지 고정! __intit__(self,name, grade)student가 학생정보를 담은 매개변수에 학년과 이름이라는 정보를 넣겠다! '클래스를 활용해서 최초에 객체를 생성할 때, name이라는 속성값과 grade라는 속성값을 받아서 객체 본인의 속성으로 정의하겠다'는 의미를 내포.\n",
    "   - 클래스 안에서 생성자함수를 사용하는 예. 생성자 함수 작성 구문\n",
    "   - def __init__(self, name, grade) :\n",
    "   -     self.name = name\n",
    "   -     self.grade = grade\n",
    "   - self.name => 클래스 안에 있는 하나의 변수로서 인식. 하나의 변수로서 값이 담겨진 것!\n",
    "   - 이렇게 생성자함수를 선언한 이후에 매서드함수를 선언하면 됨. => 개발자가 원하는 직관적인 이름으로 매서드함수명을 선언하면됨.\n",
    "   - def study(self):\n",
    "   -     print(f\"{self.name}가 공부를 열심히 합니다.\") 변수로 인식하기 때문에 {}사용가능!\n",
    "   - 클래스를 통해서 새롭게 탄생한 객체.study(공유) => 공유가 공부를 열심히 합니다. 라는 구문이 출력!"
   ]
  },
  {
   "cell_type": "code",
   "execution_count": 4,
   "id": "b2938bae-8621-4d87-8a47-58372a8738fc",
   "metadata": {},
   "outputs": [
    {
     "name": "stdout",
     "output_type": "stream",
     "text": [
      "Fun Coding\n"
     ]
    }
   ],
   "source": [
    "#함수선언문 : 녹색 명령어 -> 미리 저장된 함수 (참조변수)\n",
    "def print_string(data): \n",
    "    print(data) #실행문\n",
    "\n",
    "#함수호출\n",
    "print_string(\"Fun Coding\")"
   ]
  },
  {
   "cell_type": "code",
   "execution_count": 8,
   "id": "2f42ac51-d9ac-4ad4-9747-abd75fa2364f",
   "metadata": {},
   "outputs": [
    {
     "name": "stdout",
     "output_type": "stream",
     "text": [
      "<class 'str'>\n"
     ]
    }
   ],
   "source": [
    "string = \"Fun Coding\" #->문자열 객체 가 되었음! so, 문자열 객체만 쓸 수 있는 함수를 가져올 수 있음\n",
    "string.split() #()안에 문자를 기준으로 리스트형태로 반환\n",
    "print(type(string)) #스트링은 스플릿을 쓸 수 있었던 이유는 스트링이 만들어진 클래스로 만들어진 str로 이뤄진 함수이기 때문에!"
   ]
  },
  {
   "cell_type": "code",
   "execution_count": null,
   "id": "b849e3d1-6d74-4cb7-8175-1d3ef6a77b23",
   "metadata": {},
   "outputs": [],
   "source": [
    "#객체지향언어 접목해서 해보기\n"
   ]
  },
  {
   "cell_type": "code",
   "execution_count": 10,
   "id": "cfd3372b-0f71-4814-9e98-4de1e36008ea",
   "metadata": {},
   "outputs": [],
   "source": [
    "class Student :\n",
    "    def __init__(self,name,grade) : #(속성정보로 정의)\n",
    "        self.name = name         #name을 두번째 있는 name으로 설정해줘\n",
    "        self.grade = grade\n",
    "        \n",
    "    def study (self):\n",
    "        print(f\"{self.name}가 공부를 열심히 합니다.\")\n",
    "\n",
    "    def take_exam (self) :\n",
    "        print(f\"{self.name}가 시험을 봅니다.\")\n",
    "        "
   ]
  },
  {
   "cell_type": "code",
   "execution_count": 14,
   "id": "5055c88a-4da6-4f51-a0a3-f901f4ac9bf5",
   "metadata": {},
   "outputs": [
    {
     "name": "stdout",
     "output_type": "stream",
     "text": [
      "David 3\n",
      "David가 공부를 열심히 합니다.\n"
     ]
    }
   ],
   "source": [
    "#student라는 클래스를 활용해서 객체를 만들어보고 싶다!\n",
    "\n",
    "student = Student(\"David\", 3) #(name,grade)\n",
    "#print(student)=><__main__.Student object at 0x000001C62690C910>  -> student는 객체를 만들어내는 무언가\n",
    "\n",
    "print(student.name,student.grade) \n",
    "#클래스를 선언했고 그 객체안의 값을 찾아온것\n",
    "\n",
    "student.study()\n",
    "#study는 함수밖에서 정의한 적없음. 그런데도 선언하니까 가져옴!"
   ]
  },
  {
   "cell_type": "code",
   "execution_count": 16,
   "id": "62e76400-75f2-4428-8984-077b74f3f160",
   "metadata": {},
   "outputs": [],
   "source": [
    "class Trying :\n",
    "    def __init__(self, age, string):\n",
    "        self.age = age\n",
    "        self.string = string\n",
    "\n",
    "    def min (self):\n",
    "        print(f\"{self.age}살 입니다\")\n",
    "    def ju (self):\n",
    "        print(f\"{self.grade}가 되겠습니다\")\n",
    "        "
   ]
  },
  {
   "cell_type": "code",
   "execution_count": 19,
   "id": "ed596d5c-5022-4d16-89e3-985a0c5d5b15",
   "metadata": {},
   "outputs": [
    {
     "name": "stdout",
     "output_type": "stream",
     "text": [
      "30 마케터\n"
     ]
    },
    {
     "ename": "AttributeError",
     "evalue": "'Trying' object has no attribute 'trying'",
     "output_type": "error",
     "traceback": [
      "\u001b[1;31m---------------------------------------------------------------------------\u001b[0m",
      "\u001b[1;31mAttributeError\u001b[0m                            Traceback (most recent call last)",
      "Cell \u001b[1;32mIn[19], line 4\u001b[0m\n\u001b[0;32m      1\u001b[0m trying \u001b[38;5;241m=\u001b[39m Trying(\u001b[38;5;241m30\u001b[39m,\u001b[38;5;124m\"\u001b[39m\u001b[38;5;124m마케터\u001b[39m\u001b[38;5;124m\"\u001b[39m)\n\u001b[0;32m      2\u001b[0m \u001b[38;5;28mprint\u001b[39m(trying\u001b[38;5;241m.\u001b[39mage,trying\u001b[38;5;241m.\u001b[39mstring)\n\u001b[1;32m----> 4\u001b[0m trying\u001b[38;5;241m.\u001b[39mtrying()\n",
      "\u001b[1;31mAttributeError\u001b[0m: 'Trying' object has no attribute 'trying'"
     ]
    }
   ],
   "source": [
    "trying = Trying(30,\"마케터\")\n",
    "print(trying.age,trying.string)\n",
    "\n",
    "trying.trying()"
   ]
  }
 ],
 "metadata": {
  "kernelspec": {
   "display_name": "Python [conda env:base] *",
   "language": "python",
   "name": "conda-base-py"
  },
  "language_info": {
   "codemirror_mode": {
    "name": "ipython",
    "version": 3
   },
   "file_extension": ".py",
   "mimetype": "text/x-python",
   "name": "python",
   "nbconvert_exporter": "python",
   "pygments_lexer": "ipython3",
   "version": "3.13.5"
  }
 },
 "nbformat": 4,
 "nbformat_minor": 5
}
