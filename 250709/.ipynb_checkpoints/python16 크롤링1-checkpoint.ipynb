{
 "cells": [
  {
   "cell_type": "markdown",
   "id": "55b00726-64c5-44a8-8186-80b1351024d3",
   "metadata": {},
   "source": [
    "#### 파이썬 크롤링\n",
    "1. 크롤링을 하는 수많은 언어와 프로그래밍 언어와 툴이 존재하는데 왜 파이썬인가?\n",
    "   - 파이썬은 라이브러리의 천국이다\n",
    "   - 라이브러리 => 도서관 => 특정 분야에 대한 전문지식을 습득하기 위해서 해당 책을 빌려보거나 서재에서 가져다가 참고할 수 있음.\n",
    "   - 크롤링을 하려고 하는데, A to Z 까지 직접 크롤링을 위한 코드를 작성한다면 시간, 효율이 매우 안좋을 것임.\n",
    "   - 파이썬은 미리 크롤링할 수 있도록 도와줄 수 있는 일종의 참고서적을 만들어 놓음 (*참고서적 => 라이브러리) 하드코딩 안해도 됨!!\n",
    "   - 특정라이브러리를 사용하기위한 구문 : import 예약어(명령어)를 사용!!\n",
    "   - 만약에 해당 라이브러리가 파이썬에 내장되어있는 라이브러리가 아니라고 한다면 반드시 사전에 설치가 필요!!\n",
    "   - !pip = (python install package) 아나콘다 밖에서도 (전역에서) 사용하려면 ! 를 앞에 붙여줘야함. 이 라이브러리가 인식될 수 있게 하려면\n",
    "   - !pip install 설치하고싶은 라이브러리명 = pandas\n",
    "      #already satisfied -> 현시점 또는 이전시점에 만족스러운 설치가 되었다.\n",
    "      #내장되어있는 라이브러리면 "
   ]
  },
  {
   "cell_type": "code",
   "execution_count": 5,
   "id": "d92c73b1-da88-4adb-b21c-1619eed000e6",
   "metadata": {},
   "outputs": [
    {
     "name": "stdout",
     "output_type": "stream",
     "text": [
      "Requirement already satisfied: pandas in c:\\users\\pmj96\\anaconda3\\lib\\site-packages (2.2.3)\n",
      "Requirement already satisfied: numpy>=1.26.0 in c:\\users\\pmj96\\anaconda3\\lib\\site-packages (from pandas) (2.1.3)\n",
      "Requirement already satisfied: python-dateutil>=2.8.2 in c:\\users\\pmj96\\anaconda3\\lib\\site-packages (from pandas) (2.9.0.post0)\n",
      "Requirement already satisfied: pytz>=2020.1 in c:\\users\\pmj96\\anaconda3\\lib\\site-packages (from pandas) (2024.1)\n",
      "Requirement already satisfied: tzdata>=2022.7 in c:\\users\\pmj96\\anaconda3\\lib\\site-packages (from pandas) (2025.2)\n",
      "Requirement already satisfied: six>=1.5 in c:\\users\\pmj96\\anaconda3\\lib\\site-packages (from python-dateutil>=2.8.2->pandas) (1.17.0)\n"
     ]
    }
   ],
   "source": [
    "!pip install pandas"
   ]
  },
  {
   "cell_type": "code",
   "execution_count": 6,
   "id": "1d6996cc-2e63-4f5c-9671-cb76426f0939",
   "metadata": {},
   "outputs": [],
   "source": [
    "import pandas"
   ]
  },
  {
   "cell_type": "code",
   "execution_count": 20,
   "id": "bb7443e1-594d-4085-a6d0-a0e69596ab43",
   "metadata": {},
   "outputs": [
    {
     "data": {
      "text/plain": [
       "2.5"
      ]
     },
     "execution_count": 20,
     "metadata": {},
     "output_type": "execute_result"
    }
   ],
   "source": [
    "#import statistics \n",
    "from statistics import mean as m\n",
    "data = [1,2,3,4]\n",
    "\n",
    "m(data)\n",
    "print(statistics.mean(data)) #statistics는 객체의 형태를 띄고 있기 때문에 .mean이라는 매서드함수가 사용가능!\n",
    "#print(statistics.stdev(data)) #라이브러리에 따라서 매서드함수가 다 다름. 고정되어있는 것 하나. \n",
    "#라이브러리의 다수의 매서드함수중 주요한것만 쓰는 방법 -> import를 쓰지않음 \n",
    "#from statistics import * # *-> 에스테릭, 대쉬 - , 엣 @ , 해쉬 #, 온점 . 캐럿 ^ , 바 |\n",
    "#import statistics as s #->statistics를 's'라는 별칭으로 불러줘\n",
    "#from statistics import mean as m -> 불러와서 별칭으로 설정하는것도 가능! -> 주의할점.. as를 쓸때는 라이브러리를 같이 작업할때는 협의를 하고 해야함.\n",
    "me\n",
    "#mean(data)\n",
    "#stdev(data)"
   ]
  }
 ],
 "metadata": {
  "kernelspec": {
   "display_name": "Python [conda env:base] *",
   "language": "python",
   "name": "conda-base-py"
  },
  "language_info": {
   "codemirror_mode": {
    "name": "ipython",
    "version": 3
   },
   "file_extension": ".py",
   "mimetype": "text/x-python",
   "name": "python",
   "nbconvert_exporter": "python",
   "pygments_lexer": "ipython3",
   "version": "3.13.5"
  }
 },
 "nbformat": 4,
 "nbformat_minor": 5
}
