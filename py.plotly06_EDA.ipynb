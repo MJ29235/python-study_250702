{
 "cells": [
  {
   "cell_type": "code",
   "execution_count": null,
   "id": "6b8d7aad-89f3-4dee-9e80-f15efa6ed1c8",
   "metadata": {},
   "outputs": [],
   "source": [
    "#피어슨 상관계수 \n",
    "# 보다 세부적으로 EDA를 활용해서 데이터를 확인 및 검증하기 위한 방법론\n",
    "# feature간에 상관관계를 분석하면 보다 효율적으로 데이터를 디테일하게 확인가능 => 데이터분석가의 역량!\n",
    "# heatmap그래프\n",
    "# scatter그래프"
   ]
  }
 ],
 "metadata": {
  "kernelspec": {
   "display_name": "Python [conda env:base] *",
   "language": "python",
   "name": "conda-base-py"
  },
  "language_info": {
   "codemirror_mode": {
    "name": "ipython",
    "version": 3
   },
   "file_extension": ".py",
   "mimetype": "text/x-python",
   "name": "python",
   "nbconvert_exporter": "python",
   "pygments_lexer": "ipython3",
   "version": "3.13.5"
  }
 },
 "nbformat": 4,
 "nbformat_minor": 5
}
