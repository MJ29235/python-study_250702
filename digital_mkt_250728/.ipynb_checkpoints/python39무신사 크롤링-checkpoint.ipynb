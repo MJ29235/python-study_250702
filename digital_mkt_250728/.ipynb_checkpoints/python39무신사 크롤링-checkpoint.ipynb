{
 "cells": [
  {
   "cell_type": "markdown",
   "id": "d2044790-ff6c-4a1c-aa7f-be771971a2e1",
   "metadata": {},
   "source": [
    "# 무신사는 동적사이트\n",
    "\n",
    "- 셀레니움으로 크롤링해야함\n",
    "- 마켓컬리는 비교적 사이트의 보안이 허술했음"
   ]
  },
  {
   "cell_type": "code",
   "execution_count": 12,
   "id": "b6cefaa4-f80b-4176-8987-3c9dedbadc59",
   "metadata": {},
   "outputs": [
    {
     "ename": "AttributeError",
     "evalue": "'NoneType' object has no attribute 'get_text'",
     "output_type": "error",
     "traceback": [
      "\u001b[1;31m---------------------------------------------------------------------------\u001b[0m",
      "\u001b[1;31mAttributeError\u001b[0m                            Traceback (most recent call last)",
      "Cell \u001b[1;32mIn[12], line 46\u001b[0m\n\u001b[0;32m     42\u001b[0m     last_height \u001b[38;5;241m=\u001b[39m new_height \u001b[38;5;66;03m# 11, 최종적인 높이가 \u001b[39;00m\n\u001b[0;32m     44\u001b[0m soup \u001b[38;5;241m=\u001b[39m BeautifulSoup(driver\u001b[38;5;241m.\u001b[39mpage_source, \u001b[38;5;124m\"\u001b[39m\u001b[38;5;124mhtml.parser\u001b[39m\u001b[38;5;124m\"\u001b[39m)\n\u001b[1;32m---> 46\u001b[0m product_name \u001b[38;5;241m=\u001b[39m soup\u001b[38;5;241m.\u001b[39mselect_one(\u001b[38;5;124m\"\u001b[39m\u001b[38;5;124mspan.text-title_18px_me.sc-1omefes-1.exqQRL.font-pretendard\u001b[39m\u001b[38;5;124m\"\u001b[39m)\u001b[38;5;241m.\u001b[39mget_text(strip\u001b[38;5;241m=\u001b[39m\u001b[38;5;28;01mTrue\u001b[39;00m) \u001b[38;5;66;03m# tailwind 프레임워크 의 형태. 엄청김!\u001b[39;00m\n\u001b[0;32m     48\u001b[0m review_cards \u001b[38;5;241m=\u001b[39m soup\u001b[38;5;241m.\u001b[39mselect(\u001b[38;5;124m\"\u001b[39m\u001b[38;5;124mdiv.GoodsReviewStaticList__Container-sc-s1ucwv-0.lnqPxe\u001b[39m\u001b[38;5;124m\"\u001b[39m)\n\u001b[0;32m     50\u001b[0m reviews \u001b[38;5;241m=\u001b[39m []\n",
      "\u001b[1;31mAttributeError\u001b[0m: 'NoneType' object has no attribute 'get_text'"
     ]
    }
   ],
   "source": [
    "from selenium import webdriver\n",
    "from selenium.webdriver.chrome.service import Service # 서비스를 통해 크롬 웹 드라이버 설치\n",
    "from selenium.webdriver.chrome.options import Options\n",
    "from selenium.webdriver.common.by import By\n",
    "from selenium.webdriver.support.ui import WebDriverWait # 시간이 많이 지체될때 페이지에 더 오래 머무를 수 있도록 해주는 객체\n",
    "from selenium.webdriver.support import expected_conditions as EC\n",
    "from bs4 import BeautifulSoup\n",
    "from webdriver_manager.chrome import ChromeDriverManager\n",
    "import time\n",
    "from openpyxl import Workbook\n",
    "\n",
    "options =Options()\n",
    "options.add_argument(\"--headless\")\n",
    "options.add_argument(\"--no-sandbox\")\n",
    "options.add_argument(\"--disable-dev-shm-usage\") # 내 로컬컴퓨터공간 메모리를 사용하겠다\n",
    "service = Service(ChromeDriverManager().install())\n",
    "driver = webdriver.Chrome(service=service, options=options)\n",
    "\n",
    "url = (\"https://www.musinsa.com/products/3143647\")\n",
    "driver.get(url)\n",
    "\n",
    "#후기가 아래에 있음. scroll 해야할까? 스크롤은 필요없음! 스냅후기 버튼으로 밑으로 한번에 가는것 가능! \n",
    "# 1, 어느단계에서 에러가 나는지 보여주는 것 try, except문  되면 try, 안되면 except\n",
    "try : \n",
    "    review_tab = WebDriverWait(driver, 10).until( # 2, 드라이버가 값을 찾아오는 10초동안 기다려,\n",
    "        EC.element_to_be_clickable((By.XPATH,\"//span[contains(text(), '스냅·후기')]\")) # 3, span이지만 클릭할 수 있는 요소야!(버튼의 기능을 할 수 있는 요소), \n",
    "    ) # 4, xpath 쓰는이유 :notion / clickable (()) -> 인자값이 하나이상일 수 있기 때문에 소괄호 두번!\n",
    "    review_tab.click()\n",
    "    time.sleep(2)\n",
    "except Exception as e : # 5, 예외객체?\n",
    "    print(\"리뷰 탭 클릭 실패 : \", e)\n",
    "\n",
    "scroll_pause = 1 # 8, 스크롤하고 대기하고 다음으로 넘어가기 ( 사람인척 하려고)\n",
    "last_height = driver.execute_script(\"return document.body.scrollHeight\") # 11, 전체 문서의 높이만 긁어온것\n",
    "\n",
    "for _ in range(5) : # 6, 5회의 반복 동안에! 몇번 갈지 모르지만 넉넉잡아서 5회\n",
    "    driver.execute_script(\"window.scrollTo(0, document.body.scrollHeight);\") # 7, 스크롤 높이 확인\n",
    "    time.sleep(scroll_pause)\n",
    "    new_height = driver.execute_script(\"return document.body.scrollHeight\") # 9, 새로운 페이지로 갈때마다 리뷰의 높이가 달라지니까\n",
    "    if new_height == last_height : # 10, 새로 넘긴 페이지가 없을 때\n",
    "        break\n",
    "    last_height = new_height # 11, 최종적인 높이가 \n",
    "\n",
    "soup = BeautifulSoup(driver.page_source, \"html.parser\")\n",
    "\n",
    "# product_name = soup.select_one(\"span.text-title_18px_me.sc-1omefes-1.exqQRL.font-pretendard\").get_text(strip=True) # tailwind 프레임워크 의 형태. 엄청김!\n",
    "product_name = soup.select_one(\"span.text-title_18px_me.sc-1omefes-1.exqQRL.font-pretendard\") # tailwind 프레임워크 의 형태. 엄청김!\n",
    "print(product_name)\n",
    "\n",
    "review_cards = soup.select(\"div.GoodsReviewStaticList__Container-sc-s1ucwv-0.lnqPxe\")\n",
    "\n",
    "reviews = []\n",
    "for card in review_cards :\n",
    "    text_tags = card.select(\"span.text-body_13px_reg.font-pretendard\")\n",
    "    for tag in text_tags:\n",
    "        text = tag.get_text(strip=True)\n",
    "        if text and len(text) > 10 : # 의미없는 리뷰 날리기\n",
    "            reviews.append(text)\n",
    "\n",
    "reviews = list(set(reviews)) # 반복순회하는 속성, 겹쳐지는 것이 없도록 설정\n",
    "\n",
    "print(f\"상품명 : {product_name}\")\n",
    "for idx , review in enumerate(reviews,start=1) :\n",
    "    print(f\"{idx}.{review}\")    "
   ]
  },
  {
   "cell_type": "code",
   "execution_count": null,
   "id": "86826f24-0c8f-411c-be89-812f111715a7",
   "metadata": {},
   "outputs": [],
   "source": []
  },
  {
   "cell_type": "code",
   "execution_count": null,
   "id": "ccd151fb-5a8e-483d-a46c-c7204dd0e9ed",
   "metadata": {},
   "outputs": [],
   "source": []
  }
 ],
 "metadata": {
  "kernelspec": {
   "display_name": "Python [conda env:base] *",
   "language": "python",
   "name": "conda-base-py"
  },
  "language_info": {
   "codemirror_mode": {
    "name": "ipython",
    "version": 3
   },
   "file_extension": ".py",
   "mimetype": "text/x-python",
   "name": "python",
   "nbconvert_exporter": "python",
   "pygments_lexer": "ipython3",
   "version": "3.13.5"
  }
 },
 "nbformat": 4,
 "nbformat_minor": 5
}
