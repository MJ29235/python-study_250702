{
 "cells": [
  {
   "cell_type": "markdown",
   "id": "2092774d-5b63-4a36-bd78-845611b534f5",
   "metadata": {},
   "source": [
    "#### 조건문\n",
    "\n",
    "if 조건 :\n",
    "    실행문\n",
    "if 조건1 and 조건2 :\n",
    "    실행문\n",
    "if 조건1 or 조건2 :\n",
    "    실행문\n",
    "if not 조건 :\n",
    "    실행문\n",
    "```\n",
    "\n",
    "```\n",
    "if 조건 :\n",
    "    실행문\n",
    "else :\n",
    "    실행문\n",
    "```"
   ]
  },
  {
   "cell_type": "code",
   "execution_count": 5,
   "id": "0649e691-438d-4d42-bf1f-20802c3e2d64",
   "metadata": {},
   "outputs": [
    {
     "name": "stdin",
     "output_type": "stream",
     "text": [
      "당신의 나이는? 20\n"
     ]
    },
    {
     "name": "stdout",
     "output_type": "stream",
     "text": [
      "당신은 성인입니다.\n",
      "축하드립니다. 이제부터 인생은 시작입니다.\n",
      "무엇이든 할 수 있습니다.\n",
      "응원합니다.\n"
     ]
    }
   ],
   "source": [
    "age = int(input(\"당신의 나이는?\"))\n",
    "\n",
    "if age >= 19 :\n",
    "    print(\"당신은 성인입니다.\")\n",
    "    print(\"축하드립니다. 이제부터 인생은 시작입니다.\")\n",
    "    print(\"무엇이든 할 수 있습니다.\")\n",
    "    print(\"응원합니다.\")"
   ]
  },
  {
   "cell_type": "code",
   "execution_count": 7,
   "id": "bb8c0847-8671-4b81-bcc8-bca80b2dbd61",
   "metadata": {},
   "outputs": [
    {
     "name": "stdin",
     "output_type": "stream",
     "text": [
      "인성이의 나이는? 25\n",
      "지섭이의 나이는? 14\n"
     ]
    }
   ],
   "source": [
    "age1 =int(input(\"인성이의 나이는?\"))\n",
    "age2 =int(input(\"지섭이의 나이는?\"))\n",
    "\n",
    "if age1 >=19 and age2 >= 19 :\n",
    "    print(\"영화관 입장 가능!\")"
   ]
  },
  {
   "cell_type": "code",
   "execution_count": 8,
   "id": "01883114-8c83-4399-b053-cc527be8e873",
   "metadata": {},
   "outputs": [
    {
     "name": "stdin",
     "output_type": "stream",
     "text": [
      "인성이의 나이는? 15\n",
      "지섭이의 나이는? 19\n"
     ]
    },
    {
     "name": "stdout",
     "output_type": "stream",
     "text": [
      "영화관 입장 가능!\n"
     ]
    }
   ],
   "source": [
    "age1 =int(input(\"인성이의 나이는?\"))\n",
    "age2 =int(input(\"지섭이의 나이는?\"))\n",
    "\n",
    "if age1 >=19 or age2 >= 19 :\n",
    "    print(\"영화관 입장 가능!\")"
   ]
  },
  {
   "cell_type": "code",
   "execution_count": 10,
   "id": "c3402ac6-2dad-4eda-aa5f-b1338ba30073",
   "metadata": {},
   "outputs": [
    {
     "name": "stdin",
     "output_type": "stream",
     "text": [
      "승원이의 나이는? 20\n"
     ]
    },
    {
     "name": "stdout",
     "output_type": "stream",
     "text": [
      "영화관 입장 가능!\n"
     ]
    }
   ],
   "source": [
    "age3 =int(input(\"승원이의 나이는?\"))\n",
    "\n",
    "if not age3<= 19 :\n",
    "    print(\"영화관 입장 가능!\")"
   ]
  },
  {
   "cell_type": "code",
   "execution_count": 11,
   "id": "982a82e7-a8ac-4fa7-8b3b-c7d3de347965",
   "metadata": {},
   "outputs": [
    {
     "name": "stdin",
     "output_type": "stream",
     "text": [
      "현재 가지고 있는 현금은 얼마인가요? 50000\n"
     ]
    },
    {
     "name": "stdout",
     "output_type": "stream",
     "text": [
      "오늘 저녁은 집에서\n"
     ]
    }
   ],
   "source": [
    "cash = int(input(\"현재 가지고 있는 현금은 얼마인가요?\"))\n",
    "\n",
    "if cash > 100000 :\n",
    "    print(\"오늘 저녁은 빕스로 갑시다\")\n",
    "else :\n",
    "    print(\"오늘 저녁은 집에서\")\n",
    "    "
   ]
  },
  {
   "cell_type": "code",
   "execution_count": null,
   "id": "e0287460-0ebd-482b-92e9-9bfe81977c07",
   "metadata": {},
   "outputs": [],
   "source": [
    "#사용자로부터 나이를 입력받아서 나이가 19세 이상이면 당신은 성인입니다! 출력. 만약 19세 미만이라고 한다면 당신은 청소년 입니다. 라고 출력해주세요"
   ]
  },
  {
   "cell_type": "code",
   "execution_count": 18,
   "id": "b28c51a0-4992-42a9-b3e1-e60d0e0d1fea",
   "metadata": {},
   "outputs": [
    {
     "name": "stdin",
     "output_type": "stream",
     "text": [
      "당신 나이? 19\n"
     ]
    },
    {
     "name": "stdout",
     "output_type": "stream",
     "text": [
      "당신은 성인입니다\n"
     ]
    }
   ],
   "source": [
    "age5 = input(\"당신 나이?\")\n",
    "age5 = int(age5)\n",
    "\n",
    "if age5 < 19 :\n",
    "           print(\"당신은 청소년 입니다\")\n",
    "else :\n",
    " print(\"당신은 성인입니다\")"
   ]
  },
  {
   "cell_type": "markdown",
   "id": "7e9d0500-b10f-433c-9d79-5446171097b8",
   "metadata": {},
   "source": [
    "#사용자로부터 나이를 입력받아서, 나이가 19세 이상이면 \"당신은 성인입니다\"라고 출력. 13세 이상, 19세 이하이면 당신은 청소년입니다.. 13세 미만이면 당신은 아동입니다.\n",
    "#else문 유의사항\n",
    "- 어떤 조건문 안에서도 1회만 사용할 수 있음!\n",
    "- 조건문 중간에 절대 입력할 수 없음!\n",
    "- 독립적으로 조건식을 받을 수 없음!\n",
    "- else문은 조건문 내 반드시 작성해야하는 필수값은 아님!!!"
   ]
  },
  {
   "cell_type": "code",
   "execution_count": 30,
   "id": "ac833919-315e-41cb-9dba-3a9620c427e9",
   "metadata": {},
   "outputs": [
    {
     "name": "stdin",
     "output_type": "stream",
     "text": [
      "당신 나이? 14\n"
     ]
    }
   ],
   "source": [
    "age6 = int(input(\"당신 나이?\"))\n",
    "\n",
    "if age6 >=19 :\n",
    "    print(\"당신은 성인입니다.\")\n",
    "if 19 <age6 <=14 :\n",
    "    print(\"당신은 청소년 입니다.\")\n",
    "if age6 < 13 :\n",
    "    print(\"당신은 아동입니다\")\n",
    "\n"
   ]
  },
  {
   "cell_type": "code",
   "execution_count": 39,
   "id": "abf00674-6f31-4c66-a4d7-6f2f79c030be",
   "metadata": {},
   "outputs": [
    {
     "name": "stdin",
     "output_type": "stream",
     "text": [
      "당신 나이? 3\n"
     ]
    },
    {
     "name": "stdout",
     "output_type": "stream",
     "text": [
      "you baby\n"
     ]
    }
   ],
   "source": [
    "age6 = int(input(\"당신 나이?\"))\n",
    "\n",
    "if age6 >=19 :\n",
    "    print(\"당신은 성인입니다.\")\n",
    "elif age6 >=13 and age6 <19 :\n",
    "    print(\"당신은 청소년입니다!\")\n",
    "elif age6 <13 and age6>=5 :\n",
    "    print(\"당신은 아동입니다!\")\n",
    "else :\n",
    "    print(\"you baby\")"
   ]
  },
  {
   "cell_type": "code",
   "execution_count": null,
   "id": "2cd71a2c-be24-4efc-b5f1-00c3e4c53b86",
   "metadata": {},
   "outputs": [],
   "source": [
    "#사용자로부터 현재 현금이 얼마나 있는지 확인한 후 10만원 이상이면 레스토랑으로 갑시다라는 문장출력. 그렇지않은 경우 만약 5만원 이상이라면 뷔페로 갑시다라고 출력. 5만원 미만이라면 집으로 가세요 라고 출력"
   ]
  },
  {
   "cell_type": "code",
   "execution_count": 48,
   "id": "23aa5f21-b535-42db-9cbd-9423ab56a685",
   "metadata": {},
   "outputs": [
    {
     "name": "stdin",
     "output_type": "stream",
     "text": [
      "당신 돈? 99999\n"
     ]
    },
    {
     "name": "stdout",
     "output_type": "stream",
     "text": [
      "뷔페로 갑시다\n"
     ]
    }
   ],
   "source": [
    "cash = int(input(\"당신 돈?\"))\n",
    "\n",
    "if cash >= 100000 :\n",
    "    print(\"빕스로 갑시다.\")\n",
    "elif cash <=500000 :\n",
    "    print (\"뷔페로 갑시다\")\n",
    "else :\n",
    "    print(\"집으로 갑시다\")"
   ]
  },
  {
   "cell_type": "code",
   "execution_count": 52,
   "id": "a1d8c812-ed13-4104-bc82-51d8a6e44125",
   "metadata": {},
   "outputs": [
    {
     "name": "stdin",
     "output_type": "stream",
     "text": [
      "당신 돈? 60000\n"
     ]
    },
    {
     "name": "stdout",
     "output_type": "stream",
     "text": [
      "Buffet\n"
     ]
    }
   ],
   "source": [
    "cash = int(input(\"당신 돈?\"))\n",
    "\n",
    "if cash >= 100000 :\n",
    "    print(\"restaurant\")\n",
    "else :\n",
    "    if cash >= 50000 :\n",
    "        print(\"Buffet\")\n",
    "    else :\n",
    "        print(\"home\")"
   ]
  },
  {
   "cell_type": "code",
   "execution_count": 75,
   "id": "3fbb0f7d-a1c6-45c6-a1ec-7a3ac998180e",
   "metadata": {},
   "outputs": [
    {
     "ename": "SyntaxError",
     "evalue": "expected ':' (2718060572.py, line 12)",
     "output_type": "error",
     "traceback": [
      "\u001b[1;36m  Cell \u001b[1;32mIn[75], line 12\u001b[1;36m\u001b[0m\n\u001b[1;33m    else < 50000 :\u001b[0m\n\u001b[1;37m         ^\u001b[0m\n\u001b[1;31mSyntaxError\u001b[0m\u001b[1;31m:\u001b[0m expected ':'\n"
     ]
    }
   ],
   "source": [
    "cash = int(input(\"당신 돈?\"))\n",
    "\n",
    "if cash > 100000 :\n",
    "    print(\"restaurant\")\n",
    "elif cash >= 70000 :\n",
    "    print(\"family restaurant\")\n",
    "elif cash > 60000 :\n",
    "    print(\"한식집\")\n",
    "else :\n",
    "    if  cash <= 60000 :\n",
    "        print(\"분식집\")\n",
    "    else < 50000 :\n",
    "        print(\"home\")"
   ]
  },
  {
   "cell_type": "code",
   "execution_count": 79,
   "id": "0ded79bf-1ce9-4b87-bed8-34b306a46ece",
   "metadata": {},
   "outputs": [
    {
     "name": "stdin",
     "output_type": "stream",
     "text": [
      "당신 돈? 45000\n"
     ]
    },
    {
     "name": "stdout",
     "output_type": "stream",
     "text": [
      "home\n"
     ]
    }
   ],
   "source": [
    "cash = int(input(\"당신 돈?\"))\n",
    "\n",
    "if cash > 100000 :\n",
    "    print(\"restaurant\")\n",
    "else :\n",
    "    if cash > 50000 :\n",
    "        if cash > 70000 :\n",
    "            print(\"Family restaurant\")\n",
    "        elif cash > 60000 :\n",
    "            print(\"hansik\")\n",
    "        else :\n",
    "            print(\"bunsik\")\n",
    "    else :\n",
    "        print(\"home\")"
   ]
  },
  {
   "cell_type": "code",
   "execution_count": 83,
   "id": "2c446055-199a-4378-9ddd-055ed2eef2dd",
   "metadata": {},
   "outputs": [
    {
     "name": "stdin",
     "output_type": "stream",
     "text": [
      "사용자 숫자 5\n"
     ]
    },
    {
     "name": "stdout",
     "output_type": "stream",
     "text": [
      "홀수\n"
     ]
    }
   ],
   "source": [
    "num = int(input(\"사용자 숫자\"))\n",
    "\n",
    "if num % 2 == 1 :\n",
    "    print(\"홀수\")\n",
    "else :\n",
    "    print(\"짝수\")"
   ]
  },
  {
   "cell_type": "code",
   "execution_count": 88,
   "id": "7be11404-ce70-4b25-abd6-089afbaa93a2",
   "metadata": {},
   "outputs": [
    {
     "name": "stdin",
     "output_type": "stream",
     "text": [
      "사용자 숫자1 : 108\n",
      "사용자 숫자2 : 562\n",
      "사용자 숫자3 : 31\n"
     ]
    },
    {
     "name": "stdout",
     "output_type": "stream",
     "text": [
      "31\n"
     ]
    },
    {
     "data": {
      "text/plain": [
       "31"
      ]
     },
     "execution_count": 88,
     "metadata": {},
     "output_type": "execute_result"
    }
   ],
   "source": [
    "num1 = int(input(\"사용자 숫자1 :\"))\n",
    "num2 = int(input(\"사용자 숫자2 :\"))\n",
    "num3 = int(input(\"사용자 숫자3 :\"))\n",
    "\n",
    "#경우의 수를 따지는 문제\n",
    "\n",
    "if num1 <= num2 and num1 <= num3 :\n",
    "    print(num1)\n",
    "elif num2 <= num1 and num2 <= num3 :\n",
    "    print(num2)\n",
    "elif num3 <= num2 and num3 <= num1 :\n",
    "    print(num3)\n",
    "\n",
    "min(num1, num2, num3)\n"
   ]
  },
  {
   "cell_type": "code",
   "execution_count": 89,
   "id": "e8c8fc32-0984-471a-b1b3-23ed08014986",
   "metadata": {},
   "outputs": [
    {
     "ename": "NameError",
     "evalue": "name 'ragne' is not defined",
     "output_type": "error",
     "traceback": [
      "\u001b[1;31m---------------------------------------------------------------------------\u001b[0m",
      "\u001b[1;31mNameError\u001b[0m                                 Traceback (most recent call last)",
      "Cell \u001b[1;32mIn[89], line 1\u001b[0m\n\u001b[1;32m----> 1\u001b[0m nums \u001b[38;5;241m=\u001b[39m [\u001b[38;5;28mint\u001b[39m(\u001b[38;5;28minput\u001b[39m()) \u001b[38;5;28;01mfor\u001b[39;00m _ \u001b[38;5;129;01min\u001b[39;00m ragne(\u001b[38;5;241m3\u001b[39m)]\n\u001b[0;32m      2\u001b[0m \u001b[38;5;28mmin\u001b[39m(nums)\n",
      "\u001b[1;31mNameError\u001b[0m: name 'ragne' is not defined"
     ]
    }
   ],
   "source": [
    "nums = [int(input()) for _ in ragne(3)]\n",
    "min(nums)\n"
   ]
  }
 ],
 "metadata": {
  "kernelspec": {
   "display_name": "Python [conda env:base] *",
   "language": "python",
   "name": "conda-base-py"
  },
  "language_info": {
   "codemirror_mode": {
    "name": "ipython",
    "version": 3
   },
   "file_extension": ".py",
   "mimetype": "text/x-python",
   "name": "python",
   "nbconvert_exporter": "python",
   "pygments_lexer": "ipython3",
   "version": "3.13.5"
  }
 },
 "nbformat": 4,
 "nbformat_minor": 5
}
