{
 "cells": [
  {
   "cell_type": "markdown",
   "id": "2f073814-89e0-41fa-bda4-e6048ab02c0f",
   "metadata": {},
   "source": [
    "#### 파이썬 입.출력 예시\n",
    "\n",
    "- 사용자로부터 두 개의 숫자를 입력받은 후 해당 두 개의 숫자를 더한 값을 출력하는 프로그램을 작성해보세요.\n",
    "- 사용자로부터 두개의 숫자를 입력받은 후 곱한 값, 나눈 값, 나눈 몫, 나머지 값을 출력하는 프로그램을 작성해보세요."
   ]
  },
  {
   "cell_type": "markdown",
   "id": "d697ab8c-be27-4eca-982f-d8facdfd33dd",
   "metadata": {},
   "source": [
    "- 리스트는 각각 고유한 인덱스 값을 가지고 있음 (0부터 시작함)\n",
    "- 리스트에서 특정 인덱스값을 찾아오고자 할 때 변수명[인덱스값] & 만약 오른쪽부터 값을 찾아오고 싶다면 음수값(-1)부터 시작\n",
    "- 문자열과 동일하게 슬라이싱이 있음. 변수명[시작인덱스:종료인덱스+1]\n",
    "- append() : 리스트 자료구조에서 왼쪽부터 신규로 값을 추가할 수 있도록 해주는 함수. BUT 한번에 여러 값을 추가X\n",
    "- extend[] : 리스트 자료구조에서 왼쪽부터 신규로 값을 추가하는데 있어서 복수의 값을 한 번에 추가할 수 있음!\n",
    "- insert() : 리스트 자료구조 안에 원하는 위치에 값을 추가할 수 있는 함수 => 첫번째 인덱스는 추가하고자 하는 위치를 의미, 두번째 인덱스는 추가하고자 하는 값을 의미한다.\n",
    "- remove() : 함수의 인자값을 리스트 자료구조의 왼쪽부터 서칭하다가 발견 시, 삭제해주는 함수.\n",
    "- del  : del 뒤에 변수명[인덱스값]. => 해당 인덱스 값을 삭제해주는 함수.\n",
    "- sort() : list 안에 있는 값을 오름차순으로 정렬할때 사용\n",
    "- reverse() : list 안에 있는 값을 내림차순으로 정렬할때 사용\n",
    "- split() : 문자열의 자료형태를 인자값을 기준으로 나눠서 리스트자료구조로 변환시켜주는 함수"
   ]
  },
  {
   "cell_type": "code",
   "execution_count": null,
   "id": "f1562042-f88d-4577-820a-97cee6fc2fc8",
   "metadata": {},
   "outputs": [],
   "source": [
    "#### 리스트 자료구조 생성하는 방법\n",
    "- 변수 선언과 함께 직접 대괄호 입력 후 내부에 요소들을 입력하는 방법\n",
    "- 아무런 값도 존재하지 않는 빈 리스트를 만들어 놓고 값을 하나씩 채워가는 방법\n",
    "- 파이썬 내 클래스 문법을 통해서 이미 생성된 리스트 프로토타입을 활용해서 인스턴스 객체를 생성하는 방법"
   ]
  },
  {
   "cell_type": "code",
   "execution_count": 8,
   "id": "93be8d51-9cdd-482b-95ba-c43d78ca25fd",
   "metadata": {},
   "outputs": [
    {
     "name": "stdin",
     "output_type": "stream",
     "text": [
      " 4\n",
      " 5\n"
     ]
    },
    {
     "name": "stdout",
     "output_type": "stream",
     "text": [
      "9\n"
     ]
    }
   ],
   "source": [
    "num1 = input()\n",
    "num2 = input()\n",
    "num1 = int(num1)\n",
    "num2 = int(num2)\n",
    "print(num1+num2)"
   ]
  },
  {
   "cell_type": "code",
   "execution_count": 10,
   "id": "2d4843d7-89c6-494b-bc6f-13f6b87b22d2",
   "metadata": {},
   "outputs": [
    {
     "name": "stdin",
     "output_type": "stream",
     "text": [
      " 45\n",
      " 45\n"
     ]
    },
    {
     "name": "stdout",
     "output_type": "stream",
     "text": [
      "합계 90\n"
     ]
    }
   ],
   "source": [
    "num1 = int(input())\n",
    "num2 = int(input())\n",
    "print(\"합계\", num1+num2)"
   ]
  },
  {
   "cell_type": "code",
   "execution_count": 18,
   "id": "6bd3a9e3-bae1-40b2-95da-d0ce1504a34a",
   "metadata": {},
   "outputs": [
    {
     "name": "stdin",
     "output_type": "stream",
     "text": [
      "첫번째 숫자를 입력하세요 45\n",
      "두번째 숫자를 입력하세요 45\n"
     ]
    },
    {
     "name": "stdout",
     "output_type": "stream",
     "text": [
      "곱한 값 2025\n",
      "나눈 값 1.0\n",
      "나눈 몫 1\n",
      "나머지 값 0\n"
     ]
    }
   ],
   "source": [
    "num3 = int(input(\"첫번째 숫자를 입력하세요\"))\n",
    "num4 = int(input(\"두번째 숫자를 입력하세요\"))\n",
    "\n",
    "print(\"곱한 값 :\", num3*num4)\n",
    "print(\"나눈 값 :\", num3/num4)\n",
    "print(\"나눈 몫 :\", num3//num4)\n",
    "print(\"나머지 값 :\", num3%num4)\n",
    "\n",
    "print(\"곱한 값 :\", num3*num4)\n",
    "print(f\"나눈 값 : {num3}/{num4}={num3/num4}\")\n",
    "print(num1, \"//\", num2, \"=\", num3//num4)\n"
   ]
  },
  {
   "cell_type": "markdown",
   "id": "8e8bc42a-445a-4488-9f92-fb06a509dbdb",
   "metadata": {},
   "source": [
    "### 데이터 자료구조 - 리스트 (list) - 데이터 크롤링할때 엄청많이 나옴\n",
    "\n",
    "-  파이썬의 리스트 : 다른 프로그램의 언어에서는 주로 배열(array)이라는 이름으로 많이 불림"
   ]
  },
  {
   "cell_type": "code",
   "execution_count": 20,
   "id": "b0a10853-529a-40ae-9756-f8987ba9b5f3",
   "metadata": {},
   "outputs": [
    {
     "name": "stdout",
     "output_type": "stream",
     "text": [
      "오마이뉴스\n",
      "한국일보\n",
      "시사인\n",
      "뉴시스\n",
      "KBSNEWS\n",
      "스포츠조선\n"
     ]
    }
   ],
   "source": [
    "mydata = [\"hello\", 1, 3, \"world\"]\n",
    "news = [\"오마이뉴스\",\"한국일보\",\"시사인\",\"뉴시스\",\"KBSNEWS\",\"스포츠조선\"]\n",
    "\n",
    "for media in news :\n",
    "     print(media)\n",
    "    "
   ]
  },
  {
   "cell_type": "code",
   "execution_count": 25,
   "id": "a4269b33-69f4-43b2-a65f-2f933c7f4232",
   "metadata": {},
   "outputs": [
    {
     "name": "stdout",
     "output_type": "stream",
     "text": [
      "서울시\n",
      "경기도\n",
      "인천시\n",
      "['서울시', '경기도', '인천시', '부산시', '대구시']\n",
      "<class 'list'>\n"
     ]
    }
   ],
   "source": [
    "location =[\"서울시\",\"경기도\",\"인천시\",\"부산시\",\"대구시\"]\n",
    "print(location[0])\n",
    "print(location[1])\n",
    "print(location[2])\n",
    "print(location)\n",
    "print(type(location))"
   ]
  },
  {
   "cell_type": "code",
   "execution_count": 27,
   "id": "5d56e319-667d-470f-a562-d5408a93aae7",
   "metadata": {},
   "outputs": [
    {
     "data": {
      "text/plain": [
       "['서울시', '경기도', '인천시', '부산시', '대구시', '목포시', '목포시']"
      ]
     },
     "execution_count": 27,
     "metadata": {},
     "output_type": "execute_result"
    }
   ],
   "source": [
    "location.append(\"목포시\")\n",
    "# print(location)\n",
    "\n",
    "location\n"
   ]
  },
  {
   "cell_type": "code",
   "execution_count": 30,
   "id": "262525fc-7d32-4519-95fd-9b34fe9f035c",
   "metadata": {},
   "outputs": [
    {
     "data": {
      "text/plain": [
       "['서울시', '경기도', '인천시', '부산시', '대구시', '목포시', '목포시', '완도군', '완도군']"
      ]
     },
     "execution_count": 30,
     "metadata": {},
     "output_type": "execute_result"
    }
   ],
   "source": [
    "location.append(\"완도군\")\n",
    "\n",
    "location"
   ]
  },
  {
   "cell_type": "code",
   "execution_count": 32,
   "id": "5b1246f9-bb55-43c0-96bb-12e0ea05b4ed",
   "metadata": {},
   "outputs": [
    {
     "name": "stdout",
     "output_type": "stream",
     "text": [
      "['서울시', '경기도', '인천시']\n"
     ]
    },
    {
     "data": {
      "text/plain": [
       "'목포시'"
      ]
     },
     "execution_count": 32,
     "metadata": {},
     "output_type": "execute_result"
    }
   ],
   "source": [
    "print(location[0:3])\n",
    "location[-1]\n",
    "location[-3]"
   ]
  },
  {
   "cell_type": "code",
   "execution_count": 37,
   "id": "1943c973-210a-4725-8a41-c6d411cc5ef9",
   "metadata": {},
   "outputs": [
    {
     "data": {
      "text/plain": [
       "['서울시', '경기도', '인천시', '대구시', '목포시', '목포시', '완도군', '완도군']"
      ]
     },
     "execution_count": 37,
     "metadata": {},
     "output_type": "execute_result"
    }
   ],
   "source": [
    "location[1:3]\n",
    "location\n"
   ]
  },
  {
   "cell_type": "code",
   "execution_count": 40,
   "id": "28a95d39-e714-492f-bd87-074a94dac569",
   "metadata": {},
   "outputs": [
    {
     "data": {
      "text/plain": [
       "['서울시', '경기도', '인천시', '대구시', '목포시', '목포시']"
      ]
     },
     "execution_count": 40,
     "metadata": {},
     "output_type": "execute_result"
    }
   ],
   "source": [
    "location\n",
    "location.remove(\"완도군\")\n",
    "location"
   ]
  },
  {
   "cell_type": "code",
   "execution_count": null,
   "id": "ef432feb-3d74-44df-b01d-1aaa1c2877a4",
   "metadata": {
    "scrolled": true
   },
   "outputs": [],
   "source": []
  },
  {
   "cell_type": "code",
   "execution_count": 47,
   "id": "59a3ee21-0937-41b2-8e08-eeb0508de402",
   "metadata": {
    "scrolled": true
   },
   "outputs": [
    {
     "data": {
      "text/plain": [
       "3"
      ]
     },
     "execution_count": 47,
     "metadata": {},
     "output_type": "execute_result"
    }
   ],
   "source": [
    "location\n",
    "len(location)"
   ]
  },
  {
   "cell_type": "code",
   "execution_count": 56,
   "id": "34c2c84c-ea51-4625-af53-a4bcb110ce02",
   "metadata": {},
   "outputs": [
    {
     "name": "stdout",
     "output_type": "stream",
     "text": [
      "['쥬라기월드', 'F1 더 무비', '시네마천국', '빅 피쉬']\n",
      "쥬라기월드\n",
      "F1 더 무비\n",
      "시네마천국\n"
     ]
    }
   ],
   "source": [
    "movie = [\"쥬라기월드\",\"F1 더 무비\",\"시네마천국\"]\n",
    "movie\n",
    "\n",
    "movie.append(\"빅 피쉬\")\n",
    "print(movie)\n",
    "del movie[3]\n",
    "movie\n",
    "for cinema in movie :\n",
    "    print(cinema)"
   ]
  },
  {
   "cell_type": "code",
   "execution_count": 61,
   "id": "f22d9bd0-c7a2-41e3-9388-5f405f236d51",
   "metadata": {},
   "outputs": [
    {
     "ename": "TypeError",
     "evalue": "'builtin_function_or_method' object is not subscriptable",
     "output_type": "error",
     "traceback": [
      "\u001b[1;31m---------------------------------------------------------------------------\u001b[0m",
      "\u001b[1;31mTypeError\u001b[0m                                 Traceback (most recent call last)",
      "Cell \u001b[1;32mIn[61], line 2\u001b[0m\n\u001b[0;32m      1\u001b[0m location\u001b[38;5;241m.\u001b[39mappend(\u001b[38;5;124m\"\u001b[39m\u001b[38;5;124m부산시\u001b[39m\u001b[38;5;124m\"\u001b[39m)\n\u001b[1;32m----> 2\u001b[0m location\u001b[38;5;241m.\u001b[39mextend[\u001b[38;5;124m\"\u001b[39m\u001b[38;5;124m천안시\u001b[39m\u001b[38;5;124m\"\u001b[39m,\u001b[38;5;124m\"\u001b[39m\u001b[38;5;124m대구\u001b[39m\u001b[38;5;124m\"\u001b[39m]\n",
      "\u001b[1;31mTypeError\u001b[0m: 'builtin_function_or_method' object is not subscriptable"
     ]
    }
   ],
   "source": [
    "location.append(\"부산시\")\n",
    "location.extend[\"천안시\",\"대구\"]"
   ]
  },
  {
   "cell_type": "code",
   "execution_count": 64,
   "id": "8d5230c0-4f34-48a7-851e-bf71e8e22232",
   "metadata": {},
   "outputs": [
    {
     "data": {
      "text/plain": [
       "['제주도', '제주도', '서울시', '경기도', '인천시', '부산시', '부산시', '부산시']"
      ]
     },
     "execution_count": 64,
     "metadata": {},
     "output_type": "execute_result"
    }
   ],
   "source": [
    "location.insert(0,\"제주도\")\n",
    "location"
   ]
  },
  {
   "cell_type": "code",
   "execution_count": 66,
   "id": "42dc2df2-d042-46be-a3b0-2ab4071203fa",
   "metadata": {},
   "outputs": [
    {
     "data": {
      "text/plain": [
       "list"
      ]
     },
     "execution_count": 66,
     "metadata": {},
     "output_type": "execute_result"
    }
   ],
   "source": [
    "location01 = []\n",
    "type(location01)"
   ]
  },
  {
   "cell_type": "code",
   "execution_count": 68,
   "id": "35baae44-712c-4470-a69a-5f9783ed7361",
   "metadata": {},
   "outputs": [
    {
     "data": {
      "text/plain": [
       "['강원도', '강원도']"
      ]
     },
     "execution_count": 68,
     "metadata": {},
     "output_type": "execute_result"
    }
   ],
   "source": [
    "location01.append(\"강원도\")\n",
    "location01"
   ]
  },
  {
   "cell_type": "code",
   "execution_count": 71,
   "id": "93c6fd20-bb0e-45ce-9d88-9efc16310bd4",
   "metadata": {},
   "outputs": [
    {
     "name": "stdout",
     "output_type": "stream",
     "text": [
      "<class 'list'>\n"
     ]
    }
   ],
   "source": [
    "location02 = list()\n",
    "print(type(location02))"
   ]
  },
  {
   "cell_type": "code",
   "execution_count": 74,
   "id": "7f5c45c7-0e5c-422a-91b1-7eb40512d204",
   "metadata": {},
   "outputs": [
    {
     "name": "stdout",
     "output_type": "stream",
     "text": [
      "[2, 1, 4, 5, 3, 6, 8, 7, 9]\n",
      "[1, 2, 3, 4, 5, 6, 7, 8, 9]\n",
      "[9, 8, 7, 6, 5, 4, 3, 2, 1]\n"
     ]
    }
   ],
   "source": [
    "numbers = [2,1,4,5,3,6,8,7,9]\n",
    "print(numbers)\n",
    "\n",
    "numbers.sort()\n",
    "print(numbers)\n",
    "\n",
    "numbers.reverse()\n",
    "print(numbers)"
   ]
  },
  {
   "cell_type": "code",
   "execution_count": 77,
   "id": "3f497470-fde6-4d75-bfec-8a58161908c9",
   "metadata": {},
   "outputs": [
    {
     "data": {
      "text/plain": [
       "'python'"
      ]
     },
     "execution_count": 77,
     "metadata": {},
     "output_type": "execute_result"
    }
   ],
   "source": [
    "pythonBasic = \"python is easy\"\n",
    "type(pythonBasic)\n",
    "\n",
    "pylist = pythonBasic.split()\n",
    "pylist[0]\n"
   ]
  },
  {
   "cell_type": "code",
   "execution_count": null,
   "id": "6fcc91fe-4ee4-499f-b8c8-989d0555ba37",
   "metadata": {},
   "outputs": [],
   "source": []
  }
 ],
 "metadata": {
  "kernelspec": {
   "display_name": "Python [conda env:base] *",
   "language": "python",
   "name": "conda-base-py"
  },
  "language_info": {
   "codemirror_mode": {
    "name": "ipython",
    "version": 3
   },
   "file_extension": ".py",
   "mimetype": "text/x-python",
   "name": "python",
   "nbconvert_exporter": "python",
   "pygments_lexer": "ipython3",
   "version": "3.13.5"
  }
 },
 "nbformat": 4,
 "nbformat_minor": 5
}
