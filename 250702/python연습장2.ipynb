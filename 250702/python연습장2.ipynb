{
 "cells": [
  {
   "cell_type": "code",
   "execution_count": 2,
   "id": "7bfd4ecb-aef9-4fb4-bfff-2ff76f4d67e7",
   "metadata": {},
   "outputs": [
    {
     "name": "stdout",
     "output_type": "stream",
     "text": [
      "<class 'str'>\n",
      "0.5486 <class 'float'>\n"
     ]
    }
   ],
   "source": [
    "edit = \"0.5486\"\n",
    "print(type(edit))\n",
    "edit = float(edit)\n",
    "print(edit, type(edit))\n",
    "\n"
   ]
  },
  {
   "cell_type": "code",
   "execution_count": 12,
   "id": "9c003875-baf8-4803-a0a6-5a052ac4a92f",
   "metadata": {},
   "outputs": [
    {
     "name": "stdout",
     "output_type": "stream",
     "text": [
      "15\n",
      "outline\n",
      "the\n",
      "outline the\n",
      "line the way\n",
      "outline the way\n",
      "yaw eht eniltuo\n"
     ]
    }
   ],
   "source": [
    "text = \"outline the way\"\n",
    "print(len(text))\n",
    "print(text[0:7])\n",
    "print(text[8:11])\n",
    "print(text[:11])\n",
    "print(text[3:])\n",
    "print(text[::1])\n",
    "print(text[::-1])\n"
   ]
  },
  {
   "cell_type": "code",
   "execution_count": 15,
   "id": "60dba27a-001a-4a60-aa78-17ddf052e3e4",
   "metadata": {},
   "outputs": [
    {
     "ename": "IndexError",
     "evalue": "Replacement index 0 out of range for positional args tuple",
     "output_type": "error",
     "traceback": [
      "\u001b[1;31m---------------------------------------------------------------------------\u001b[0m",
      "\u001b[1;31mIndexError\u001b[0m                                Traceback (most recent call last)",
      "Cell \u001b[1;32mIn[15], line 2\u001b[0m\n\u001b[0;32m      1\u001b[0m diary \u001b[38;5;241m=\u001b[39m \u001b[38;5;124m\"\u001b[39m\u001b[38;5;124mWhy do you always doing \u001b[39m\u001b[38;5;132;01m{}\u001b[39;00m\u001b[38;5;124m?\u001b[39m\u001b[38;5;124m\"\u001b[39m\n\u001b[1;32m----> 2\u001b[0m \u001b[38;5;28mprint\u001b[39m(diary\u001b[38;5;241m.\u001b[39mformat())\n",
      "\u001b[1;31mIndexError\u001b[0m: Replacement index 0 out of range for positional args tuple"
     ]
    }
   ],
   "source": [
    "diary = \"Why do you always doing {}?\"\n",
    "print(diary.format())"
   ]
  },
  {
   "cell_type": "code",
   "execution_count": 11,
   "id": "b5c8aa95-54b6-434f-be88-d20b9e617f23",
   "metadata": {},
   "outputs": [
    {
     "ename": "SyntaxError",
     "evalue": "invalid syntax (708551066.py, line 13)",
     "output_type": "error",
     "traceback": [
      "\u001b[1;36m  Cell \u001b[1;32mIn[11], line 13\u001b[1;36m\u001b[0m\n\u001b[1;33m    print(%d.cake)\u001b[0m\n\u001b[1;37m          ^\u001b[0m\n\u001b[1;31mSyntaxError\u001b[0m\u001b[1;31m:\u001b[0m invalid syntax\n"
     ]
    }
   ],
   "source": [
    "art = \"박람회\"\n",
    "print(art)\n",
    "print(art,type(art))\n",
    "\n",
    "pay = 8000\n",
    "print(pay,type(pay))\n",
    "pay = str(pay)\n",
    "print(pay, type(pay))\n",
    "pay = int(pay)\n",
    "print(pay-5000)\n",
    "\n",
    "cake = 1.865"
   ]
  },
  {
   "cell_type": "code",
   "execution_count": 9,
   "id": "bdc95eec-7f51-4b8a-908c-e81717d8f85a",
   "metadata": {},
   "outputs": [
    {
     "name": "stdout",
     "output_type": "stream",
     "text": [
      "100 <class 'str'>\n",
      "100 <class 'int'>\n",
      "1.2564 <class 'str'>\n",
      "1.2564 <class 'float'>\n"
     ]
    },
    {
     "data": {
      "text/plain": [
       "-0.24360000000000004"
      ]
     },
     "execution_count": 9,
     "metadata": {},
     "output_type": "execute_result"
    }
   ],
   "source": [
    "dragon = \"100\"\n",
    "print(dragon, type(dragon))\n",
    "dragon = int(dragon)\n",
    "print(dragon, type(dragon))\n",
    "dragon-20\n",
    "\n",
    "wts = \"1.2564\"\n",
    "print(wts, type(wts))\n",
    "wts=float(wts)\n",
    "print(wts, type(wts))\n",
    "wts-1.5\n"
   ]
  },
  {
   "cell_type": "code",
   "execution_count": 18,
   "id": "0a94c6fa-ce05-401e-9574-5f88a5cbe00b",
   "metadata": {},
   "outputs": [
    {
     "name": "stdout",
     "output_type": "stream",
     "text": [
      "“세월이 흘러도 마음 속 변하지 않는 이야기” 어린 시절, 영화가 전부였던 소년 토토는 마을의 작은 극장 ‘시네마 천국’에서 영사기사 알프레도를 만나 친구가 된다. 알프레도는 궂은 영사 일에 관심을 두는 토토를 말려보지만, 결국 마음을 열고 하나씩 영사 기술을 가르쳐준다. 어느 날 야외 상영 도중 일어난 화재 사고로 알프레도가 시력을 잃게 되고, 토토가 그의 뒤를 이어 정식 영사기사로 일하게 된다. 세상을 볼 수 없게 된 뒤에도 변함없이 토토의 곁을 지켜주던 알프레도는, 첫사랑에 좌절한 청년 토토에게 더 넓은 세상으로 나아가라며 마지막 조언을 남긴다.\n",
      "\n"
     ]
    },
    {
     "data": {
      "text/plain": [
       "'뭣이 중'"
      ]
     },
     "execution_count": 18,
     "metadata": {},
     "output_type": "execute_result"
    }
   ],
   "source": [
    "cine = \"\"\"“세월이 흘러도 마음 속 변하지 않는 이야기” 어린 시절, 영화가 전부였던 소년 토토는 마을의 작은 극장 ‘시네마 천국’에서 영사기사 알프레도를 만나 친구가 된다. 알프레도는 궂은 영사 일에 관심을 두는 토토를 말려보지만, 결국 마음을 열고 하나씩 영사 기술을 가르쳐준다. 어느 날 야외 상영 도중 일어난 화재 사고로 알프레도가 시력을 잃게 되고, 토토가 그의 뒤를 이어 정식 영사기사로 일하게 된다. 세상을 볼 수 없게 된 뒤에도 변함없이 토토의 곁을 지켜주던 알프레도는, 첫사랑에 좌절한 청년 토토에게 더 넓은 세상으로 나아가라며 마지막 조언을 남긴다.\n",
    "\"\"\"\n",
    "print(cine)\n",
    "cine.count(\"\"\"\"\"\")\n",
    "\n",
    "trans = \"뭣이 중헌디\"\n",
    "len(trans)\n",
    "trans.replace(\"뭣이\",\"뭐가\")\n",
    "\n",
    "a=[0,25,23,87,54,11,4]\n",
    "a[:4]\n",
    "trans[0:4]\n"
   ]
  },
  {
   "cell_type": "code",
   "execution_count": 20,
   "id": "bd81328f-823c-419c-86a8-a5c2ffabc4b5",
   "metadata": {},
   "outputs": [
    {
     "ename": "SyntaxError",
     "evalue": "invalid syntax. Perhaps you forgot a comma? (272356036.py, line 4)",
     "output_type": "error",
     "traceback": [
      "\u001b[1;36m  Cell \u001b[1;32mIn[20], line 4\u001b[1;36m\u001b[0m\n\u001b[1;33m    print({name}님의 나이는 {age}입니다.)\u001b[0m\n\u001b[1;37m          ^\u001b[0m\n\u001b[1;31mSyntaxError\u001b[0m\u001b[1;31m:\u001b[0m invalid syntax. Perhaps you forgot a comma?\n"
     ]
    }
   ],
   "source": [
    "name = \"민주\"\n",
    "age = \"29\"\n",
    "\n",
    "print({}님의 나이는 {}입니다.)"
   ]
  },
  {
   "cell_type": "code",
   "execution_count": null,
   "id": "0733c21f-414b-474a-84a0-604c46cbaf84",
   "metadata": {},
   "outputs": [],
   "source": []
  }
 ],
 "metadata": {
  "kernelspec": {
   "display_name": "Python [conda env:base] *",
   "language": "python",
   "name": "conda-base-py"
  },
  "language_info": {
   "codemirror_mode": {
    "name": "ipython",
    "version": 3
   },
   "file_extension": ".py",
   "mimetype": "text/x-python",
   "name": "python",
   "nbconvert_exporter": "python",
   "pygments_lexer": "ipython3",
   "version": "3.13.5"
  }
 },
 "nbformat": 4,
 "nbformat_minor": 5
}
