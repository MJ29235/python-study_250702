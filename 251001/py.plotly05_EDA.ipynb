{
 "cells": [
  {
   "cell_type": "markdown",
   "id": "51265fc9-824a-414f-9c0b-c720b47ec6b6",
   "metadata": {},
   "source": [
    "# EDA "
   ]
  },
  {
   "cell_type": "markdown",
   "id": "bc9cfda8-18b2-4423-8720-d007bb1aa0b8",
   "metadata": {},
   "source": [
    "- pandas -> 코로나 전처리 시각화 -> EDA 개념 학습\n",
    "- **Exploratory Data Analysis** <u>탐색적 데이터 분석</u>\n",
    "- why? -> 워낙 방대한 데이터를 다루다보면, 해당 데이터를 실제 전처리 하기 전에 <u>데이터의 형태, 신뢰도, 상관관계 등을 분석한 상태</u>에서 작업을 **실행효율** 높이려고!\n",
    "- 마케팅팀 -> 데이터 팀\n",
    "- 수집 / 저장 까지는 마케팅팀이 할 수 있음. BUT 어떻게 **시각화** 할것인가? **그래프**는?\n",
    "- 데이터 분석과정을 플로틀리와 연관지어서 학습할 예정!"
   ]
  },
  {
   "cell_type": "markdown",
   "id": "a05245bb-7541-44d0-af1f-a8c86afc172f",
   "metadata": {},
   "source": [
    "## 과정\n",
    "\n",
    "1. 데이터의 **출처** (신뢰성확보) & **주제**에 대한 이해 → 국가 / 도시 / 확진자 / 사망자 / 회복 / 현재 등\n",
    "데이터가 어디서 왔는가? 어떤것을 데이터화 해야하는가?\n",
    "2. 데이터의 **크기**, 모수가 클 수록 **신뢰도**가 높아지고 이는 **대표성**을 띌 수 있다!\n",
    "3. 데이터 안에 있는 각각의 **컬럼의 관계성** (column | feature) 의 독립적인 속성특징 + 상관관계 확인 및 분석 → 각각의 컬럼들이 있는 **이유**, 상관관계 분석\n",
    "- **결론** : 각각의 데이터들의 **상관관계**와 **특징**을 얼마나 깊게 분석하고 이해하는가가 데이터의 질을 결정한다!"
   ]
  },
  {
   "cell_type": "markdown",
   "id": "cf614f5d-2145-46ea-9262-f11d17e63cb9",
   "metadata": {},
   "source": [
    "### 방법론\n",
    "\n",
    "feature의 깊이있는 분석을 위한 **방법론**\n",
    "\n",
    "1. **위치추정** 방법\n",
    "- 현재 확보한 방대한 데이터의 대표값을 산출해서 해당 feature의 요약정보를 도출, 각각의 컬럼의 **대표값**을 산출 ( 수치화 되어있는 데이터에서 뽑아낼 수 있는 가장 쉬운 방법 = **평균값 or 중앙값** 들을 활용해서 해당 수치데이터가 무엇을 의미하는지 판단!)\n",
    "- 평균의 **종류**\n",
    "    - **Mean** (일반평균) : 우리가 알고 있는 평균. [1,2,3,100] = 4개의 숫자를 모두 더한 후 4로 나눈 숫자가 평균이됨. 가중치가 더 몰려있는 1,2,3이 소외되는 경우 있음\n",
    "    - **Weight mean** (가중평균) : 수집한 데이터 가운데 **신뢰도**가 있거나 없는 정도에 따라서 **가중치를 상이하게 준 후** 평균값을 산출   → 단점 : 가중치를 너무 주게되면 주관성이 개입되어 이를 기준으로 수집된 데이터의 객관성이 훼손됨.. (**남발금지**) (가중치를 적용하고 판단하는 기준에 대한 신뢰도가 매우 중요함! 브레이크 필수)\n",
    "    - **Median** (중간값, 중앙값) : 전체 데이터를 **정렬**한 다음, **중간에 위치**한 값을 취합함. (보통 일반적으로 중간값을 많이 사용함) → 가장 큰 장점 : 특이값(Outlier)의 영향을 최대한 받지 않는다. SO, **가장 많이 쓰이는** 객관적 자료!\n",
    "    - **Trimmed mean** (절사평균) : 최상위 값과 최하위 값의 데이터들이 몰려있는 경우, 특정 집단에 의해서 평균값이 외곡될 우려가 있음. 이를 최소화하기 위해 최상위 값, 최하위 값을 절삭\n",
    "    ex) 강남 8학군 고등학생 평균 학습시간 >>>>>> 대한민국 고등학생 평균 학습시간 → 같은 선상에 두기에는 데이터가 너무 몰려있음!\n",
    "    → 단점 : 가중평균과 마찬가지로 가치판단이 들어가기 때문에 객관성 훼손 가능!\n",
    "2. **변이추정** 방법\n",
    "현재 확보한 방대한 데이터의 **분포**를 확인 (밀집 or 분산), 밀집되었다면 어디에 주로 밀집되어있는지 확인.  그 후 해당 feature의 요약정보를 도출! = **표준편차 분산 or 분포**\n",
    "- 변이추정 종류\n",
    "    - Variance (분산) : 평균과 각 데이터간의 차이를 제곱한 값들의 합을 데이터 갯수로 나눈 값\n",
    "        - 모분산 | 표본분산\n",
    "        - 모분산 : 데이터 갯수 전체를 기준으로 분산값을 계산한 방식\n",
    "        - 표본분산 : 분모의 값을  “데이터 총 갯수 -1” 을 한 값\n",
    "    - Standard deviation (표준편차)  : 분산의 수치가 너무 커지기 때문에, 분산의 제곱근을 활용한 결과값"
   ]
  },
  {
   "cell_type": "code",
   "execution_count": 2,
   "id": "3b8aa43a-fe06-4868-9afc-9999bb5adb4a",
   "metadata": {},
   "outputs": [
    {
     "data": {
      "text/html": [
       "<div>\n",
       "<style scoped>\n",
       "    .dataframe tbody tr th:only-of-type {\n",
       "        vertical-align: middle;\n",
       "    }\n",
       "\n",
       "    .dataframe tbody tr th {\n",
       "        vertical-align: top;\n",
       "    }\n",
       "\n",
       "    .dataframe thead th {\n",
       "        text-align: right;\n",
       "    }\n",
       "</style>\n",
       "<table border=\"1\" class=\"dataframe\">\n",
       "  <thead>\n",
       "    <tr style=\"text-align: right;\">\n",
       "      <th></th>\n",
       "      <th>A</th>\n",
       "      <th>B</th>\n",
       "    </tr>\n",
       "  </thead>\n",
       "  <tbody>\n",
       "    <tr>\n",
       "      <th>0</th>\n",
       "      <td>1</td>\n",
       "      <td>1</td>\n",
       "    </tr>\n",
       "    <tr>\n",
       "      <th>1</th>\n",
       "      <td>2</td>\n",
       "      <td>2</td>\n",
       "    </tr>\n",
       "    <tr>\n",
       "      <th>2</th>\n",
       "      <td>3</td>\n",
       "      <td>3</td>\n",
       "    </tr>\n",
       "    <tr>\n",
       "      <th>3</th>\n",
       "      <td>4</td>\n",
       "      <td>4</td>\n",
       "    </tr>\n",
       "    <tr>\n",
       "      <th>4</th>\n",
       "      <td>5</td>\n",
       "      <td>5</td>\n",
       "    </tr>\n",
       "    <tr>\n",
       "      <th>5</th>\n",
       "      <td>6</td>\n",
       "      <td>100</td>\n",
       "    </tr>\n",
       "  </tbody>\n",
       "</table>\n",
       "</div>"
      ],
      "text/plain": [
       "   A    B\n",
       "0  1    1\n",
       "1  2    2\n",
       "2  3    3\n",
       "3  4    4\n",
       "4  5    5\n",
       "5  6  100"
      ]
     },
     "execution_count": 2,
     "metadata": {},
     "output_type": "execute_result"
    }
   ],
   "source": [
    "import pandas as pd\n",
    "pd.DataFrame({\n",
    "    \"A\":[1,2,3,4,5,6],\n",
    "    \"B\":[1,2,3,4,5,100]\n",
    "})"
   ]
  }
 ],
 "metadata": {
  "kernelspec": {
   "display_name": "Python [conda env:base] *",
   "language": "python",
   "name": "conda-base-py"
  },
  "language_info": {
   "codemirror_mode": {
    "name": "ipython",
    "version": 3
   },
   "file_extension": ".py",
   "mimetype": "text/x-python",
   "name": "python",
   "nbconvert_exporter": "python",
   "pygments_lexer": "ipython3",
   "version": "3.13.5"
  }
 },
 "nbformat": 4,
 "nbformat_minor": 5
}
