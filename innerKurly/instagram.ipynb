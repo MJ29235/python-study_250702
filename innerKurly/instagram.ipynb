{
 "cells": [
  {
   "cell_type": "code",
   "execution_count": 1,
   "id": "29eec75e-e3cc-4c69-adab-36b182104d13",
   "metadata": {},
   "outputs": [
    {
     "name": "stdout",
     "output_type": "stream",
     "text": [
      "수동으로 인증 시작!\n",
      "쿠키 저장 완료\n"
     ]
    }
   ],
   "source": [
    "from selenium import webdriver\n",
    "from selenium.webdriver.chrome.service import Service\n",
    "from selenium.webdriver.chrome.options import Options\n",
    "from webdriver_manager.chrome import ChromeDriverManager\n",
    "import pickle#쿠키값이나 여러 정보값 가져올 수 있게 하는 라이브러리\n",
    "import time\n",
    "\n",
    "options = Options()\n",
    "options.add_argument(\"--start-maximized\")\n",
    "options.add_argument(\"window-size=1920x1080\")\n",
    "options.add_argument(\"lang=ko_KR\")\n",
    "\n",
    "service = Service(ChromeDriverManager().install())\n",
    "\n",
    "driver = webdriver.Chrome(service=service, options=options)\n",
    "\n",
    "url = \"https://www.instagram.com/accounts/login\"\n",
    "driver.get(url)\n",
    "\n",
    "print(\"수동으로 인증 시작!\")\n",
    "time.sleep(30)\n",
    "\n",
    "#cookie 값을 저장하고 저장한 이름으로 오픈해서 실제 값을 넣어줌\n",
    "with open(\"instagram_cookies.pkl\", \"wb\") as f :#앞에 선언된 이름으로 실행해라\n",
    "    pickle.dump(driver.get_cookies(), f)#쿠키 값 받아오기와서 윗줄로 보냄 dump => 받아온 쿠키값 정렬\n",
    "\n",
    "print(\"쿠키 저장 완료\")\n",
    "driver.quit()"
   ]
  },
  {
   "cell_type": "code",
   "execution_count": 5,
   "id": "7aefb3d6-2c8d-4862-9233-e841fb97d4e8",
   "metadata": {},
   "outputs": [
    {
     "name": "stdout",
     "output_type": "stream",
     "text": [
      "https://www.instagram.com/p/DLU1IHQyZ2_/\n",
      "Photo shared by 쿨 on June 25, 2025 tagging @levis. 사람 2명, 수레국화 및 텍스트의 이미지일 수 있음.\n",
      "============================================================\n",
      "https://www.instagram.com/p/DMpMPQsODOk/\n",
      "Photo by WEBBY 웨비 on July 28, 2025. 사람 1명 및 텍스트의 이미지일 수 있음.\n",
      "============================================================\n",
      "https://www.instagram.com/p/DMZI8nbTb1J/\n",
      "Photo shared by @thelee_sc on July 21, 2025 tagging @levis, @converse, and @gu_global. 사람 1명 및 텍스트의 이미지일 수 있음.\n",
      "============================================================\n",
      "https://www.instagram.com/p/DCtExJfpeSy/\n",
      "Photo by WEBBY 웨비 on November 22, 2024. 사진 설명이 없습니다..\n",
      "============================================================\n",
      "https://www.instagram.com/p/DMc8uFnJ5ni/\n",
      "Photo by 빈티지 구제 의류 y2k 쇼핑몰 동묘 맛집 vintage 빈티지샵 오택빈티지 on July 23, 2025. 반바지 및 문구: 'LEVIS 133'의 이미지일 수 있음.\n",
      "============================================================\n",
      "https://www.instagram.com/p/DMUcxx2umFe/\n",
      "Photo by 로우다운 아메리칸빈티지 전포동빈티지 워크웨어 아메리칸캐주얼 on July 19, 2025. 문구: '90sLe vi W38L 8L'의 이미지일 수 있음.\n",
      "============================================================\n",
      "https://www.instagram.com/p/DMZ9hdfTVyM/\n",
      "Photo shared by 호호브로/선데이클로즈 (맨즈웨어 편집샵) on July 22, 2025 tagging @juliustartoptical, @frui__official, and @sundayclothes_official. 사람 2명, 서 있는 사람, 거리 및 텍스트의 이미지일 수 있음.\n",
      "============================================================\n",
      "https://www.instagram.com/p/DJtBdpASJDz/\n",
      "Photo shared by Chaewon 채원 on May 15, 2025 tagging @levis_korea. 수레국화의 이미지일 수 있음.\n",
      "============================================================\n",
      "https://www.instagram.com/p/DMPS3kKPmzn/\n",
      "Photo by 일산 식사동 설문동 창고형 빈티지샵ㅣ탐나다 빈티지 on July 17, 2025. 사람 1명, 머리카락, 상의 및 문구: 'ိကြ်ာ် TAMNADA 리바이스 청바지, 여름 빈티지룩의 정석'의 이미지일 수 있음.\n",
      "============================================================\n",
      "https://www.instagram.com/p/DLR_f-fzBOh/\n",
      "Photo shared by 0han 영한 on June 24, 2025 tagging @rainbowsandals, @zxcvr0626, @levis_korea, @neithers, and @guepard_jp. 문구: 'guépard DO 9P13 9P13bown brown NEITHERS wool card cardigan Woolcardigan an LEVI'S LVC44501 LVC 44501 RAINBOW INBOWSANDALS SANDALS Double Double_layerSierraDroun layer Sierra brown 6beC'의 일러스트레이션일 수 있음.\n",
      "============================================================\n"
     ]
    }
   ],
   "source": [
    "from selenium import webdriver\n",
    "from selenium.webdriver.chrome.service import Service\n",
    "from selenium.webdriver.chrome.options import Options\n",
    "from selenium.webdriver.common.by import By\n",
    "from webdriver_manager.chrome import ChromeDriverManager\n",
    "import pickle\n",
    "import time\n",
    "\n",
    "options = Options()\n",
    "options.add_argument(\"--start-maximized\")\n",
    "options.add_argument(\"window-size=1920x1080\")\n",
    "options.add_argument(\"lang=ko_KR\")\n",
    "\n",
    "service = Service(ChromeDriverManager().install())\n",
    "\n",
    "driver = webdriver.Chrome(service=service, options=options)\n",
    "\n",
    "driver.get(\"https://www.instagram.com/\")\n",
    "\n",
    "with open(\"instagram_cookies.pkl\", \"rb\") as f :\n",
    "    pickle.load(f)\n",
    "for cookie in cookies :\n",
    "    driver.add_cookie(cookie)\n",
    "\n",
    "driver.refresh()\n",
    "time.sleep(5)\n",
    "\n",
    "try :\n",
    "    not_now = driver.find_element(By.XPATH, \"//button[text()='나중에 하기'\")\n",
    "    not_now.click()\n",
    "    time.sleep(2)\n",
    "except :\n",
    "    pass\n",
    "\n",
    "keyword = \"리바이스\"\n",
    "driver.get(f\"https://www.instagram.com/explore/tags/{keyword}\")\n",
    "time.sleep(5)\n",
    "\n",
    "post_links = set()#중복된 값 제거\n",
    "for _ in range(3) :\n",
    "    links = driver.find_elements(By.TAG_NAME, \"a\")\n",
    "    for link in links :\n",
    "        href = link.get_attribute(\"href\")\n",
    "        if href and \"/p/\" in href :\n",
    "            post_links.add(href)\n",
    "    driver.execute_script(\"window.scrollTo(0, document.body.scrollHeight);\")#끝까지 스크롤\n",
    "    time.sleep(3)\n",
    "\n",
    "results = []\n",
    "for url in list(post_links)[:10] :\n",
    "    driver.get(url)\n",
    "    time.sleep(3)\n",
    "    caption = \"\"\n",
    "\n",
    "    try :\n",
    "        img_tag = driver.find_element(By.XPATH, \"//img[@alt]\")\n",
    "        caption = img_tag.get_attribute(\"alt\").strip()\n",
    "        results.append({\"url\": url, \"caption\": caption})\n",
    "    except Exception as e :\n",
    "        print(f\"캡션 추출을 실패 : {url} | 에러 : {e}\")\n",
    "        continue\n",
    "        \n",
    "driver.quit()\n",
    "\n",
    "for r in results :\n",
    "    print(r[\"url\"])\n",
    "    print(r[\"caption\"])\n",
    "    print(\"=\"*60)"
   ]
  },
  {
   "cell_type": "code",
   "execution_count": 3,
   "id": "ee8af32f-489c-479c-b08c-3bd029f73f4e",
   "metadata": {},
   "outputs": [
    {
     "name": "stdout",
     "output_type": "stream",
     "text": [
      "{'domain': '.instagram.com', 'httpOnly': True, 'name': 'rur', 'path': '/', 'sameSite': 'Lax', 'secure': True, 'value': '\"HIL\\\\05476215496950\\\\0541785303635:01feb3b00880955fcde90ff92d6123e5a6c716814bfe544cb109b408ff3c734b2700ece5\"'}\n",
      "{'domain': '.instagram.com', 'expiry': 1785303613, 'httpOnly': False, 'name': 'ig_nrcb', 'path': '/', 'sameSite': 'Lax', 'secure': True, 'value': '1'}\n",
      "{'domain': '.instagram.com', 'expiry': 1785303626, 'httpOnly': True, 'name': 'sessionid', 'path': '/', 'sameSite': 'Lax', 'secure': True, 'value': '76215496950%3AO6tPuZ1zArCdVE%3A21%3AAYccGYFDFM-gb5RJKAbQQF7QUiAOSdNB7wbGs5x4Sg'}\n",
      "{'domain': '.instagram.com', 'expiry': 1788327613, 'httpOnly': False, 'name': 'mid', 'path': '/', 'sameSite': 'Lax', 'secure': True, 'value': 'aIhevgALAAGalW2yuB1nAAm5E9Pn'}\n",
      "{'domain': '.instagram.com', 'expiry': 1785303612, 'httpOnly': True, 'name': 'ig_did', 'path': '/', 'sameSite': 'None', 'secure': True, 'value': '5BADEE0E-C1FD-49D2-A2C0-C23BB83AEF8B'}\n",
      "{'domain': '.instagram.com', 'expiry': 1788327612, 'httpOnly': True, 'name': 'datr', 'path': '/', 'sameSite': 'None', 'secure': True, 'value': 'vl6IaKv772HuOXpZtUNTDBjZ'}\n",
      "{'domain': '.instagram.com', 'expiry': 1761543633, 'httpOnly': False, 'name': 'ds_user_id', 'path': '/', 'sameSite': 'None', 'secure': True, 'value': '76215496950'}\n",
      "{'domain': '.instagram.com', 'expiry': 1754372430, 'httpOnly': False, 'name': 'wd', 'path': '/', 'sameSite': 'Lax', 'secure': True, 'value': '1920x901'}\n",
      "{'domain': '.instagram.com', 'expiry': 1788327633, 'httpOnly': False, 'name': 'csrftoken', 'path': '/', 'sameSite': 'Lax', 'secure': True, 'value': 'VV7Z5O8u8lhzsHdg8hAL7K'}\n"
     ]
    }
   ],
   "source": [
    "import pickle\n",
    "\n",
    "with open(\"instagram_cookies.pkl\", \"rb\") as f:\n",
    "    cookies = pickle.load(f)\n",
    "\n",
    "for cookie in cookies:\n",
    "    print(cookie)"
   ]
  }
 ],
 "metadata": {
  "kernelspec": {
   "display_name": "Python [conda env:base] *",
   "language": "python",
   "name": "conda-base-py"
  },
  "language_info": {
   "codemirror_mode": {
    "name": "ipython",
    "version": 3
   },
   "file_extension": ".py",
   "mimetype": "text/x-python",
   "name": "python",
   "nbconvert_exporter": "python",
   "pygments_lexer": "ipython3",
   "version": "3.13.5"
  }
 },
 "nbformat": 4,
 "nbformat_minor": 5
}
