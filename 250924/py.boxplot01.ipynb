{
 "cells": [
  {
   "cell_type": "markdown",
   "id": "435936b7-1421-49e2-bc6e-1eab83561769",
   "metadata": {},
   "source": [
    "# Boxplot\n",
    "## 상자그림 그래프\n",
    "1) Box Plot (Plot => Plotting = 그리다)\n",
    "2) 하나의 전체 데이터 내부에 소속되어있는 내부값들의 데이터 분포도를 확인하고자 할때 -> 데이터 분포 주요 지표값을 확인하고자할 때\n",
    "3) Box Plot 의 데이터 분석의 대전제, 반드시 전체 데이터를 4등분 = 4분위로 쪼개서 분석\n",
    "4) 최솟값 ~25% | 26% ~ 50% | 51% ~ 75% | 76% ~ 80%\n",
    "5) 전체 데이터를 구성하고 있는 각각의 요소들을 어떻게 **지칭**할 것인가?\n",
    "    - Min(최소값)\n",
    "    - Q1 1사분위수 (하위 25%)\n",
    "    - Median 중앙값 -> 전체 총 데이털를 절반으로나눈값 = 중간값\n",
    "    - Q3 3사분위수 (상위 25%)\n",
    "    - max (최대값)\n",
    "    - IQR(Interquartile Range) ->  1사분위와 3사분위 사이에 있는 값\n",
    "    - 이상치\n",
    "      - Upper Fence (상한 이상치)\n",
    "      - Lower Fence (하한 이상치)"
   ]
  },
  {
   "cell_type": "code",
   "execution_count": null,
   "id": "e82ab2ae-30da-42ba-a954-2b0dfc4916df",
   "metadata": {},
   "outputs": [],
   "source": [
    "data = [1,2,3,100] # 극단적인 숫자, 데이터가 쏠림 홀수인경우에는 2.5\n",
    "# 데이터의 세부값이 짝수인 경우에는, 해당 데이터의 정 가운데를 기준으로 좌.우측 값을 가져와서 평균을 냄\n",
    "# -> 중간값 : 50? 2? 3? (106/2)=53?\n",
    "#데이터의 가운데 값을 찾아서 중간값으로명명\n",
    "data = [1,2,3,6,100] # 해당 데이터 내 세부값이 홀수인 경우에는 정 한가운에 값이 중앙값 3\n",
    " \n",
    "# 수치형 데이터를 다룰 때에는 몇번쨰 데이터인지 구분. 구획을 나누는 것은 쉽지않음"
   ]
  },
  {
   "cell_type": "markdown",
   "id": "996ea09d-4e81-4ab4-b153-6d6de5cbb6fd",
   "metadata": {},
   "source": [
    "data = [3,5,7,8,12,13,14,18,20,21]\n",
    "\n",
    "Min : 3\n",
    "Max : 21\n",
    "Median : (12+13)/2 = 12.5\n",
    "-- 1사분위와 3 사분위를 계산하는 공식 -- \n",
    "2가지방식 (n = 갯수 10개) : 하나의 선에서 길게 늘어뜨린 공간안에 배치된 값들의 연속 (숫자의 집합)\n",
    "1) (n+1) * 0.25 \n",
    "2) (n+1) * 0.75 \n",
    "Q1(25%) : (10+1) * 0.25 => 2.75번째 값을 찾아옴! -> 2번째값 : 5, 3번째값 : 7 / 5+(7-5)*0.75 = **6.5** \n",
    "Q3(75%) : (10+1) * 0.75 => 8.25번쨰 값을 찾아옴! -> 8번째값 : 18, 9번째값 : 20 / 18+(20-18)*0.25 = **18.5**\n",
    "IQR = 18.5 - 6.5 = IQR의 범위 12\n",
    "Lower Fence : 6.5 - (1.5 * 12) = -11.5\n",
    "Upper Fence : 18.5 + (1.5 * 12) = 36.5\n",
    "\n",
    "프로그래밍을 하기위한 영역에서는 박스 플로트의 값을 계산하는 방식이 살짝다름 \n",
    "-> 컴퓨터는 2진수를 씀. \n",
    "(n-1) * 0.25 -> Numpy (선형(=linear) 보간 방식의 4분위 계산법)\n",
    "(n-1) * 0.75"
   ]
  }
 ],
 "metadata": {
  "kernelspec": {
   "display_name": "Python [conda env:base] *",
   "language": "python",
   "name": "conda-base-py"
  },
  "language_info": {
   "codemirror_mode": {
    "name": "ipython",
    "version": 3
   },
   "file_extension": ".py",
   "mimetype": "text/x-python",
   "name": "python",
   "nbconvert_exporter": "python",
   "pygments_lexer": "ipython3",
   "version": "3.13.5"
  }
 },
 "nbformat": 4,
 "nbformat_minor": 5
}
