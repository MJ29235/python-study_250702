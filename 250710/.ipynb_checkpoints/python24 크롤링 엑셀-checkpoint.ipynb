{
 "cells": [
  {
   "cell_type": "code",
   "execution_count": 1,
   "id": "c99f9ca0-0f65-4eb8-bdf9-2e62013b812f",
   "metadata": {},
   "outputs": [
    {
     "name": "stdout",
     "output_type": "stream",
     "text": [
      "Requirement already satisfied: openpyxl in c:\\users\\pmj96\\anaconda3\\lib\\site-packages (3.1.5)\n",
      "Requirement already satisfied: et-xmlfile in c:\\users\\pmj96\\anaconda3\\lib\\site-packages (from openpyxl) (1.1.0)\n"
     ]
    }
   ],
   "source": [
    "! pip install openpyxl"
   ]
  },
  {
   "cell_type": "code",
   "execution_count": null,
   "id": "a1b9085a-119e-4045-82ac-0ad51b6669e6",
   "metadata": {},
   "outputs": [],
   "source": [
    "# openpyxl 라이브러리 찾아오기\n",
    "import openpyxl\n",
    "\n",
    "# Workbook() 프로토타입 객체를 실행시켜서 하나의 엑셀파일을 생성하겠다는 의미\n",
    "excel_file = openpyxl.Workbook()\n",
    "\n",
    "#엑셀파일 내부에는 기본적으로 sheet가 1개 존재 = 해당 시트를 선택 (*.active)\n",
    "excel_sheet = excel_file.active \n",
    "#엑셀 파일이 활성화되었기 떄문에 데이터를 심을 수 있다!\n",
    "\n",
    "#선택한 엑셀시트 내부에 데이터 추가 및 삽입하기\n",
    "excel_sheet.append([\"data1\",\"data2\",\"data3\"])\n",
    "\n",
    "#엑셀파일 저장하기\n",
    "excel_file.save(tmp.xlsx)\n",
    "\n",
    "#엑셀파일 종료하기\n",
    "excel_file.close()"
   ]
  },
  {
   "cell_type": "code",
   "execution_count": 26,
   "id": "c1dd07f0-57a6-405b-9eba-bf1e9fc8b29c",
   "metadata": {},
   "outputs": [],
   "source": [
    "# 1, 데이터 크롤링 파트\n",
    "import requests\n",
    "from bs4 import BeautifulSoup\n",
    "#지금까지는 쥬피터 노트북을 통해서 크롤링한 데이터를 찾아서 즉석에서 값을 보고 끝!!\n",
    "# 1) 데이터를 찾아와서  -> 이전에는 for문에서 멈추는 경우가 많았음\n",
    "# 2) 데이터를 양식에 넣어놓고 ->\n",
    "# 3) 엑셀에다가 전달해야됨\n",
    "#데이터를 보관할것!\n",
    "\n",
    "url =\"https://davelee-fun.github.io/\"\n",
    "res = requests.get(url)\n",
    "\n",
    "\n",
    "\n",
    "#전역변수를 만듦\n",
    "product_list = list()\n",
    "\n",
    "#\n",
    "for page_num in range(10) :\n",
    "    if page_num ==0 :\n",
    "        res = requests.get(url)\n",
    "    else :\n",
    "        res = requests.get(f\"{url}page{page_num+1}\")\n",
    "    soup = BeautifulSoup(res.content,\"html.parser\")\n",
    "    datas = soup.select(\"div.card\")\n",
    "    \n",
    "    for data in datas:\n",
    "        product_name = data.select_one(\"div.card-body > h4.card-text\")\n",
    "        product_date = data.select_one(\"div.wrapfooter span.post-date\")\n",
    "        product_info = [product_name.get_text().strip(),product_date.get_text().strip()]\n",
    "        product_list.append(product_info)\n",
    "        #엑셀로 주기위해서는  블록 바깥으로 데이터를 전송해야함.\n",
    "    #독립적으로 리스트로 분할시킴\n",
    "\n"
   ]
  },
  {
   "cell_type": "code",
   "execution_count": 30,
   "id": "a7d059b4-a5f1-4ea8-9c6d-6263215eebda",
   "metadata": {},
   "outputs": [],
   "source": [
    "# 2, 엑셀시트 저장용 함수 생성 파트\n",
    "\n",
    "import openpyxl\n",
    "\n",
    "#위에 저장어를 인자값으로 넣어서 무언가를 실행하려는 것!\n",
    "def write_excel_template(filename, sheetname, listdata) :\n",
    "    excel_file = openpyxl.Workbook()\n",
    "    excel_sheet = excel_file.active\n",
    "    excel_sheet.column_dimensions[\"A\"].width = 100 #열에대한 속성을 정의하겠다!\n",
    "\n",
    "    if sheetname != \"\": #시트이름이 비어있지 않다면 ->문자열이 있다면\n",
    "        excel_sheet.title = sheetname\n",
    "    for item in listdata: #리스트 안에 리스트를 풀기 위한 반복문처리\n",
    "        excel_sheet.append(item)\n",
    "    excel_file.save(filename.xlsx)\n",
    "    excel_file.close()"
   ]
  },
  {
   "cell_type": "code",
   "execution_count": 32,
   "id": "2d6821b9-89b7-407b-bf56-f253055b6a85",
   "metadata": {},
   "outputs": [
    {
     "ename": "AttributeError",
     "evalue": "'str' object has no attribute 'xlxs'",
     "output_type": "error",
     "traceback": [
      "\u001b[1;31m---------------------------------------------------------------------------\u001b[0m",
      "\u001b[1;31mAttributeError\u001b[0m                            Traceback (most recent call last)",
      "Cell \u001b[1;32mIn[32], line 2\u001b[0m\n\u001b[0;32m      1\u001b[0m \u001b[38;5;66;03m# 3. 엑셀시트 저장용 함수를 호출 파트\u001b[39;00m\n\u001b[1;32m----> 2\u001b[0m write_excel_template(\u001b[38;5;124m\"\u001b[39m\u001b[38;5;124mtmp.xlsx\u001b[39m\u001b[38;5;124m\"\u001b[39m,\u001b[38;5;124m\"\u001b[39m\u001b[38;5;124m상품정보\u001b[39m\u001b[38;5;124m\"\u001b[39m,product_list)\n",
      "Cell \u001b[1;32mIn[30], line 15\u001b[0m, in \u001b[0;36mwrite_excel_template\u001b[1;34m(filename, sheetname, listdata)\u001b[0m\n\u001b[0;32m     13\u001b[0m \u001b[38;5;28;01mfor\u001b[39;00m item \u001b[38;5;129;01min\u001b[39;00m listdata: \u001b[38;5;66;03m#리스트 안에 리스트를 풀기 위한 반복문처리\u001b[39;00m\n\u001b[0;32m     14\u001b[0m     excel_sheet\u001b[38;5;241m.\u001b[39mappend(item)\n\u001b[1;32m---> 15\u001b[0m excel_file\u001b[38;5;241m.\u001b[39msave(filename\u001b[38;5;241m.\u001b[39mxlxs)\n\u001b[0;32m     16\u001b[0m excel_file\u001b[38;5;241m.\u001b[39mclose()\n",
      "\u001b[1;31mAttributeError\u001b[0m: 'str' object has no attribute 'xlxs'"
     ]
    }
   ],
   "source": [
    "# 3. 엑셀시트 저장용 함수를 호출 파트\n",
    "write_excel_template(\"tmp.xlsx\",\"상품정보\",product_list)"
   ]
  }
 ],
 "metadata": {
  "kernelspec": {
   "display_name": "Python [conda env:base] *",
   "language": "python",
   "name": "conda-base-py"
  },
  "language_info": {
   "codemirror_mode": {
    "name": "ipython",
    "version": 3
   },
   "file_extension": ".py",
   "mimetype": "text/x-python",
   "name": "python",
   "nbconvert_exporter": "python",
   "pygments_lexer": "ipython3",
   "version": "3.13.5"
  }
 },
 "nbformat": 4,
 "nbformat_minor": 5
}
