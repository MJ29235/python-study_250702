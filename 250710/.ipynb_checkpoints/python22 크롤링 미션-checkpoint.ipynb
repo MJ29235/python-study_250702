{
 "cells": [
  {
   "cell_type": "markdown",
   "id": "102a892c-8481-4acb-8cf5-5cf461395a3e",
   "metadata": {},
   "source": [
    "## 다음사이트를 크롤링 할 수 있도록 BS4와 requests를 활용해서 세팅해주세요.\n",
    "https://davelee-fun.github.io/"
   ]
  },
  {
   "cell_type": "code",
   "execution_count": 6,
   "id": "a9b43219-047b-4957-a103-de9b0c441dd0",
   "metadata": {},
   "outputs": [],
   "source": [
    "import requests\n",
    "from bs4 import BeautifulSoup\n",
    "\n",
    "res = requests.get(\"https://davelee-fun.github.io/\")\n",
    "soup = BeautifulSoup(res.content, \"html.parser\")\n",
    "\n"
   ]
  },
  {
   "cell_type": "markdown",
   "id": "4be5d9ab-40d9-4d02-9a76-67fdd2bd87ae",
   "metadata": {},
   "source": [
    "- 현재 쇼핑몰 내 우측상단 블로그 어바웃 메뉴명을 크롤링해서 출력해주세요"
   ]
  },
  {
   "cell_type": "code",
   "execution_count": 9,
   "id": "d47df762-e8c6-48d7-88e4-55daaa33ef19",
   "metadata": {},
   "outputs": [
    {
     "data": {
      "text/plain": [
       "<a class=\"nav-link\" href=\"/index.html\">Blog</a>"
      ]
     },
     "execution_count": 9,
     "metadata": {},
     "output_type": "execute_result"
    }
   ],
   "source": [
    "import requests\n",
    "from bs4 import BeautifulSoup\n",
    "url = \"https://davelee-fun.github.io/\"\n",
    "\n",
    "res = requests.get(url) #메인페이지 외 상세페이지에서 값을 찾아오고자 하면 / 뒤에\n",
    "soup = BeautifulSoup(res.content, \"html.parser\")\n",
    "\n",
    "bo = soup.find(class_=\"nav-link\")\n",
    "ab = soup.find(class_=\"nav-link\")\n"
   ]
  },
  {
   "cell_type": "code",
   "execution_count": 15,
   "id": "b74f7573-df91-4380-a8d3-bf2990db0d83",
   "metadata": {},
   "outputs": [
    {
     "name": "stdout",
     "output_type": "stream",
     "text": [
      "\n",
      "Blog\n",
      "\n",
      "\n",
      "About\n",
      "\n"
     ]
    }
   ],
   "source": [
    "import requests\n",
    "from bs4 import BeautifulSoup\n",
    "url = \"https://davelee-fun.github.io/\"\n",
    "\n",
    "res = requests.get(url) #메인페이지 외 상세페이지에서 값을 찾아오고자 하면 / 뒤에\n",
    "soup = BeautifulSoup(res.content, \"html.parser\")\n",
    "\n",
    "items = soup.select(\"li.nav-item\")\n",
    "\n",
    "for item in items:\n",
    "    print(item.get_text())"
   ]
  },
  {
   "cell_type": "markdown",
   "id": "e9d5e3e7-d2c2-4822-94ac-37f002b21178",
   "metadata": {},
   "source": [
    "- 현재 찾아온 메뉴명 중에서 가상 클래스 active가 적용된 메뉴명만 출력해주세요"
   ]
  },
  {
   "cell_type": "code",
   "execution_count": 21,
   "id": "3e992009-2a9a-42c3-9070-3d8dcab74d1c",
   "metadata": {},
   "outputs": [
    {
     "ename": "AttributeError",
     "evalue": "ResultSet object has no attribute 'get_text'. You're probably treating a list of elements like a single element. Did you call find_all() when you meant to call find()?",
     "output_type": "error",
     "traceback": [
      "\u001b[1;31m---------------------------------------------------------------------------\u001b[0m",
      "\u001b[1;31mAttributeError\u001b[0m                            Traceback (most recent call last)",
      "Cell \u001b[1;32mIn[21], line 9\u001b[0m\n\u001b[0;32m      6\u001b[0m soup \u001b[38;5;241m=\u001b[39m BeautifulSoup(res\u001b[38;5;241m.\u001b[39mcontent, \u001b[38;5;124m\"\u001b[39m\u001b[38;5;124mhtml.parser\u001b[39m\u001b[38;5;124m\"\u001b[39m)\n\u001b[0;32m      8\u001b[0m items \u001b[38;5;241m=\u001b[39m soup\u001b[38;5;241m.\u001b[39mselect(\u001b[38;5;124m\"\u001b[39m\u001b[38;5;124mli.nav-item.active\u001b[39m\u001b[38;5;124m\"\u001b[39m)\n\u001b[1;32m----> 9\u001b[0m \u001b[38;5;28mprint\u001b[39m(items\u001b[38;5;241m.\u001b[39mget_text())\n",
      "File \u001b[1;32m~\\anaconda3\\Lib\\site-packages\\bs4\\element.py:2433\u001b[0m, in \u001b[0;36mResultSet.__getattr__\u001b[1;34m(self, key)\u001b[0m\n\u001b[0;32m   2431\u001b[0m \u001b[38;5;28;01mdef\u001b[39;00m\u001b[38;5;250m \u001b[39m\u001b[38;5;21m__getattr__\u001b[39m(\u001b[38;5;28mself\u001b[39m, key):\n\u001b[0;32m   2432\u001b[0m \u001b[38;5;250m    \u001b[39m\u001b[38;5;124;03m\"\"\"Raise a helpful exception to explain a common code fix.\"\"\"\u001b[39;00m\n\u001b[1;32m-> 2433\u001b[0m     \u001b[38;5;28;01mraise\u001b[39;00m \u001b[38;5;167;01mAttributeError\u001b[39;00m(\n\u001b[0;32m   2434\u001b[0m         \u001b[38;5;124m\"\u001b[39m\u001b[38;5;124mResultSet object has no attribute \u001b[39m\u001b[38;5;124m'\u001b[39m\u001b[38;5;132;01m%s\u001b[39;00m\u001b[38;5;124m'\u001b[39m\u001b[38;5;124m. You\u001b[39m\u001b[38;5;124m'\u001b[39m\u001b[38;5;124mre probably treating a list of elements like a single element. Did you call find_all() when you meant to call find()?\u001b[39m\u001b[38;5;124m\"\u001b[39m \u001b[38;5;241m%\u001b[39m key\n\u001b[0;32m   2435\u001b[0m     )\n",
      "\u001b[1;31mAttributeError\u001b[0m: ResultSet object has no attribute 'get_text'. You're probably treating a list of elements like a single element. Did you call find_all() when you meant to call find()?"
     ]
    }
   ],
   "source": [
    "import requests\n",
    "from bs4 import BeautifulSoup\n",
    "url = \"https://davelee-fun.github.io/\"\n",
    "\n",
    "res = requests.get(url) \n",
    "soup = BeautifulSoup(res.content, \"html.parser\")\n",
    "\n",
    "items = soup.select(\"li.nav-item.active\")\n",
    "print(items.get_text().strip())\n",
    "#for item in items :\n",
    "   #print(item.get_text())"
   ]
  },
  {
   "cell_type": "markdown",
   "id": "9a8b1de2-f0bc-419b-8af0-d2fc7de9e0bb",
   "metadata": {},
   "source": [
    "- 현재 사이트에서 sit title이라는 클래스 값을 가지고 있는 h1태그안에 텍스트를 출력해주세요"
   ]
  },
  {
   "cell_type": "code",
   "execution_count": 33,
   "id": "23ac9d88-8f6f-4f04-9722-184848f6a14b",
   "metadata": {},
   "outputs": [
    {
     "name": "stdout",
     "output_type": "stream",
     "text": [
      "Teddy의 선물 블로그\n"
     ]
    }
   ],
   "source": [
    "import requests\n",
    "from bs4 import BeautifulSoup\n",
    "url = \"https://davelee-fun.github.io/\"\n",
    "\n",
    "res = requests.get(url) \n",
    "soup = BeautifulSoup(res.content, \"html.parser\")\n",
    "\n",
    "items = soup.select(\"h1.sitetitle\")\n",
    "\n",
    "print(item.string)\n",
    "b"
   ]
  },
  {
   "cell_type": "markdown",
   "id": "d29f43ff-f445-4192-b20e-d049ae72479b",
   "metadata": {},
   "source": [
    "- 현재 사이트에서 \"\"선물하기 좋은 선물을 고르고 골라서 소개하는 블로글입니다 라는 서브타이틀 찾아서 출력"
   ]
  },
  {
   "cell_type": "code",
   "execution_count": 41,
   "id": "98bfe5b8-f2e6-46a6-8881-eae660faf8a1",
   "metadata": {},
   "outputs": [
    {
     "ename": "AttributeError",
     "evalue": "ResultSet object has no attribute 'get_text'. You're probably treating a list of elements like a single element. Did you call find_all() when you meant to call find()?",
     "output_type": "error",
     "traceback": [
      "\u001b[1;31m---------------------------------------------------------------------------\u001b[0m",
      "\u001b[1;31mAttributeError\u001b[0m                            Traceback (most recent call last)",
      "Cell \u001b[1;32mIn[41], line 9\u001b[0m\n\u001b[0;32m      6\u001b[0m soup \u001b[38;5;241m=\u001b[39m BeautifulSoup(res\u001b[38;5;241m.\u001b[39mcontent, \u001b[38;5;124m\"\u001b[39m\u001b[38;5;124mhtml.parser\u001b[39m\u001b[38;5;124m\"\u001b[39m)\n\u001b[0;32m      8\u001b[0m items \u001b[38;5;241m=\u001b[39m soup\u001b[38;5;241m.\u001b[39mselect(\u001b[38;5;124m\"\u001b[39m\u001b[38;5;124mbody>div .lead\u001b[39m\u001b[38;5;124m\"\u001b[39m)\n\u001b[1;32m----> 9\u001b[0m \u001b[38;5;28mprint\u001b[39m(items\u001b[38;5;241m.\u001b[39mget_text())\n",
      "File \u001b[1;32m~\\anaconda3\\Lib\\site-packages\\bs4\\element.py:2433\u001b[0m, in \u001b[0;36mResultSet.__getattr__\u001b[1;34m(self, key)\u001b[0m\n\u001b[0;32m   2431\u001b[0m \u001b[38;5;28;01mdef\u001b[39;00m\u001b[38;5;250m \u001b[39m\u001b[38;5;21m__getattr__\u001b[39m(\u001b[38;5;28mself\u001b[39m, key):\n\u001b[0;32m   2432\u001b[0m \u001b[38;5;250m    \u001b[39m\u001b[38;5;124;03m\"\"\"Raise a helpful exception to explain a common code fix.\"\"\"\u001b[39;00m\n\u001b[1;32m-> 2433\u001b[0m     \u001b[38;5;28;01mraise\u001b[39;00m \u001b[38;5;167;01mAttributeError\u001b[39;00m(\n\u001b[0;32m   2434\u001b[0m         \u001b[38;5;124m\"\u001b[39m\u001b[38;5;124mResultSet object has no attribute \u001b[39m\u001b[38;5;124m'\u001b[39m\u001b[38;5;132;01m%s\u001b[39;00m\u001b[38;5;124m'\u001b[39m\u001b[38;5;124m. You\u001b[39m\u001b[38;5;124m'\u001b[39m\u001b[38;5;124mre probably treating a list of elements like a single element. Did you call find_all() when you meant to call find()?\u001b[39m\u001b[38;5;124m\"\u001b[39m \u001b[38;5;241m%\u001b[39m key\n\u001b[0;32m   2435\u001b[0m     )\n",
      "\u001b[1;31mAttributeError\u001b[0m: ResultSet object has no attribute 'get_text'. You're probably treating a list of elements like a single element. Did you call find_all() when you meant to call find()?"
     ]
    }
   ],
   "source": [
    "import requests\n",
    "from bs4 import BeautifulSoup\n",
    "url = \"https://davelee-fun.github.io/\"\n",
    "\n",
    "res = requests.get(url) \n",
    "soup = BeautifulSoup(res.content, \"html.parser\")\n",
    "\n",
    "items = soup.select(\"body>div .lead\")\n",
    "print(items.get_text())"
   ]
  },
  {
   "cell_type": "code",
   "execution_count": null,
   "id": "43d85581-1856-412c-a6bd-9db6da94038e",
   "metadata": {},
   "outputs": [],
   "source": [
    "현재 사이트에서 featured 카테고리에 속해있는 상품들의 상품명만 가져와서 출력해주세요."
   ]
  },
  {
   "cell_type": "code",
   "execution_count": 67,
   "id": "5dea3ac1-ad65-4bf3-a082-ecf6709868fe",
   "metadata": {},
   "outputs": [
    {
     "name": "stdout",
     "output_type": "stream",
     "text": [
      " 보몽드 순면스퀘어 솔리드 누빔매트커버, 다크블루\n",
      " 슈에뜨룸 선인장 리플 침구 세트, 베이지\n",
      " 선우랜드 레인보우 2단 문걸이용 옷걸이 _중형, 화이트, 상세페이지참조\n",
      " 보드래 헬로우 누빔 매트리스커버, 핑크\n",
      " 보드래 퍼펙트 누빔 매트리스커버, 차콜\n",
      " 피아블 클래식 방수 매트리스커버, 화이트\n",
      " 더자리 에코항균 마이크로 매트리스커버, 밀키차콜그레이\n",
      " 더자리 프레쉬 퓨어 매트리스 커버, 퓨어 차콜그레이\n",
      " 몽쉐어 알러스킨 항균 매트리스 커버, 카키그레이\n",
      " 쿠팡 브랜드 - 코멧 홈 40수 트윌 순면 100% 홑겹 매트리스커버, 그레이\n",
      " 패브릭아트 항균 마이크로 원단 매트리스 커버, 아이보리\n",
      " 바숨 순면 누빔 침대 매트리스커버, 차콜\n",
      " WEMAX 다용도 문옷걸이, 화이트, 1개\n",
      " 타카타카 프리미엄 나노 화이바 누빔 매트리스 커버, 젠틀핑핑\n",
      " 보몽드 순면스퀘어 누빔매트커버, 다크그레이\n",
      " 보드래 국내산 순면 60수 누빔 매트리스커버, 그레이\n"
     ]
    }
   ],
   "source": [
    "import requests\n",
    "from bs4 import BeautifulSoup\n",
    "url = \"https://davelee-fun.github.io/\"\n",
    "\n",
    "res = requests.get(url) \n",
    "soup = BeautifulSoup(res.content, \"html.parser\")\n",
    "\n",
    "its = soup.select(\"h4.card-text\")\n",
    "for it in its :\n",
    "    print(it.string.strip().split(\":\")[1]) #상품명을 기준으로 나눠야함!!"
   ]
  }
 ],
 "metadata": {
  "kernelspec": {
   "display_name": "Python [conda env:base] *",
   "language": "python",
   "name": "conda-base-py"
  },
  "language_info": {
   "codemirror_mode": {
    "name": "ipython",
    "version": 3
   },
   "file_extension": ".py",
   "mimetype": "text/x-python",
   "name": "python",
   "nbconvert_exporter": "python",
   "pygments_lexer": "ipython3",
   "version": "3.13.5"
  }
 },
 "nbformat": 4,
 "nbformat_minor": 5
}
