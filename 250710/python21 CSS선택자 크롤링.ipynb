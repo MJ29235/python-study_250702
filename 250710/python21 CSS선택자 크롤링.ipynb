{
 "cells": [
  {
   "cell_type": "code",
   "execution_count": 10,
   "id": "f5cfed75-ebd0-41ef-9a07-4583c24ec4d9",
   "metadata": {},
   "outputs": [
    {
     "name": "stdout",
     "output_type": "stream",
     "text": [
      "\n",
      "(왕초보) - 클래스 소개\n",
      "\n",
      "\n",
      "(왕초보) - 블로그 개발 필요한 준비물 준비하기\n",
      "\n",
      "\n",
      "(왕초보) - Github pages 설정해서 블로그 첫 페이지 만들어보기\n",
      "\n",
      "\n",
      "(왕초보) - 초간단 페이지 만들어보기\n",
      "\n",
      "\n",
      "(왕초보) - 이쁘게 테마 적용해보기\n",
      "\n",
      "\n",
      "(왕초보) - 마크다운 기초 이해하고, 실제 나만의 블로그 페이지\n",
      "          만들기\n",
      "\n",
      "\n",
      "(왕초보) - 다양한 마크다운 기법 익혀보며, 나만의 블로그 페이지\n",
      "          꾸며보기\n",
      "\n",
      "\n",
      "(초급) - 강사가 실제 사용하는 자동 프로그램 소개 [2]\n",
      "\n",
      "\n",
      "(초급) - 필요한 프로그램 설치 시연 [5]\n",
      "\n",
      "\n",
      "(초급) - 데이터를 엑셀 파일로 만들기 [9]\n",
      "\n",
      "\n",
      "(초급) -     엑셀 파일 이쁘게! 이쁘게! [8]\n",
      "\n",
      "\n",
      "(초급) -     나대신 주기적으로 파이썬 프로그램\n",
      "          실행하기 [7]\n",
      "\n",
      "\n",
      "(초급) - 파이썬으로 슬랙(slack) 메신저에 글쓰기 [40]\n",
      "\n",
      "\n",
      "(초급) - 웹사이트 변경사항 주기적으로 체크해서, 메신저로 알람주기\n",
      "          [12]\n",
      "\n",
      "\n",
      "(초급) - 네이버 API 사용해서, 블로그에 글쓰기 [42]\n",
      "\n",
      "\n",
      "(중급) - 자동으로 쿠팡파트너스 API 로 가져온 상품 정보, 네이버\n",
      "          블로그/트위터에 홍보하기 [412]\n",
      "\n"
     ]
    }
   ],
   "source": [
    "import requests\n",
    "from bs4 import BeautifulSoup\n",
    "\n",
    "res = requests.get(\"https://crawlingtest.netlify.app/\") \n",
    "soup = BeautifulSoup(res.content, \"html.parser\")\n",
    "\n",
    "items = soup.select(\"li\")\n",
    "\n",
    "for item in items :\n",
    "    print(item.get_text())"
   ]
  },
  {
   "cell_type": "code",
   "execution_count": 13,
   "id": "7e8b9b5e-be53-4375-ada4-6b8b314fe119",
   "metadata": {},
   "outputs": [
    {
     "name": "stdout",
     "output_type": "stream",
     "text": [
      "나만의 엣지있는 블로그 사이트 만들기\n",
      "당신의 커리어에 파이썬을 입히세요! 자신만의 자동 프로그램까지 가져가는\n",
      "      특별한 강의\n"
     ]
    }
   ],
   "source": [
    "#h3태그 찾아오기\n",
    "import requests\n",
    "from bs4 import BeautifulSoup\n",
    "\n",
    "res = requests.get(\"https://crawlingtest.netlify.app/\") \n",
    "soup = BeautifulSoup(res.content, \"html.parser\")\n",
    "\n",
    "items = soup.select(\"h3\")\n",
    "\n",
    "for item in items :\n",
    "    print(item.get_text().strip())"
   ]
  },
  {
   "cell_type": "code",
   "execution_count": 17,
   "id": "e4aec882-3477-4133-ab10-e839f67628df",
   "metadata": {},
   "outputs": [
    {
     "name": "stdout",
     "output_type": "stream",
     "text": [
      "메가스터디 크롤링 테스트 페이지\n"
     ]
    }
   ],
   "source": [
    "# Body 밑에 h1태그 크롤링해오기\n",
    "import requests\n",
    "from bs4 import BeautifulSoup\n",
    "\n",
    "res = requests.get(\"https://crawlingtest.netlify.app/\") \n",
    "soup = BeautifulSoup(res.content, \"html.parser\")\n",
    "\n",
    "items = soup.select(\"html>body>h1\") #부모자식을 다 활용하면 특정한 값을 편하게 찾아올 수 있음!\n",
    "\n",
    "for item in items :\n",
    "    print(item.get_text().strip())"
   ]
  },
  {
   "cell_type": "code",
   "execution_count": null,
   "id": "9e9981d6-a33d-4f3d-beeb-065a85143b4d",
   "metadata": {},
   "outputs": [],
   "source": []
  }
 ],
 "metadata": {
  "kernelspec": {
   "display_name": "Python [conda env:base] *",
   "language": "python",
   "name": "conda-base-py"
  },
  "language_info": {
   "codemirror_mode": {
    "name": "ipython",
    "version": 3
   },
   "file_extension": ".py",
   "mimetype": "text/x-python",
   "name": "python",
   "nbconvert_exporter": "python",
   "pygments_lexer": "ipython3",
   "version": "3.13.5"
  }
 },
 "nbformat": 4,
 "nbformat_minor": 5
}
