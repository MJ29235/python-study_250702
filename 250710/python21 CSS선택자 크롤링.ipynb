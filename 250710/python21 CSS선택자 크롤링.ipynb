{
 "cells": [
  {
   "cell_type": "code",
   "execution_count": 10,
   "id": "f5cfed75-ebd0-41ef-9a07-4583c24ec4d9",
   "metadata": {},
   "outputs": [
    {
     "name": "stdout",
     "output_type": "stream",
     "text": [
      "\n",
      "(왕초보) - 클래스 소개\n",
      "\n",
      "\n",
      "(왕초보) - 블로그 개발 필요한 준비물 준비하기\n",
      "\n",
      "\n",
      "(왕초보) - Github pages 설정해서 블로그 첫 페이지 만들어보기\n",
      "\n",
      "\n",
      "(왕초보) - 초간단 페이지 만들어보기\n",
      "\n",
      "\n",
      "(왕초보) - 이쁘게 테마 적용해보기\n",
      "\n",
      "\n",
      "(왕초보) - 마크다운 기초 이해하고, 실제 나만의 블로그 페이지\n",
      "          만들기\n",
      "\n",
      "\n",
      "(왕초보) - 다양한 마크다운 기법 익혀보며, 나만의 블로그 페이지\n",
      "          꾸며보기\n",
      "\n",
      "\n",
      "(초급) - 강사가 실제 사용하는 자동 프로그램 소개 [2]\n",
      "\n",
      "\n",
      "(초급) - 필요한 프로그램 설치 시연 [5]\n",
      "\n",
      "\n",
      "(초급) - 데이터를 엑셀 파일로 만들기 [9]\n",
      "\n",
      "\n",
      "(초급) -     엑셀 파일 이쁘게! 이쁘게! [8]\n",
      "\n",
      "\n",
      "(초급) -     나대신 주기적으로 파이썬 프로그램\n",
      "          실행하기 [7]\n",
      "\n",
      "\n",
      "(초급) - 파이썬으로 슬랙(slack) 메신저에 글쓰기 [40]\n",
      "\n",
      "\n",
      "(초급) - 웹사이트 변경사항 주기적으로 체크해서, 메신저로 알람주기\n",
      "          [12]\n",
      "\n",
      "\n",
      "(초급) - 네이버 API 사용해서, 블로그에 글쓰기 [42]\n",
      "\n",
      "\n",
      "(중급) - 자동으로 쿠팡파트너스 API 로 가져온 상품 정보, 네이버\n",
      "          블로그/트위터에 홍보하기 [412]\n",
      "\n"
     ]
    }
   ],
   "source": [
    "import requests\n",
    "from bs4 import BeautifulSoup\n",
    "\n",
    "res = requests.get(\"https://crawlingtest.netlify.app/\") \n",
    "soup = BeautifulSoup(res.content, \"html.parser\")\n",
    "\n",
    "items = soup.select(\"li\")\n",
    "\n",
    "for item in items :\n",
    "    print(item.get_text())"
   ]
  },
  {
   "cell_type": "code",
   "execution_count": 13,
   "id": "7e8b9b5e-be53-4375-ada4-6b8b314fe119",
   "metadata": {},
   "outputs": [
    {
     "name": "stdout",
     "output_type": "stream",
     "text": [
      "나만의 엣지있는 블로그 사이트 만들기\n",
      "당신의 커리어에 파이썬을 입히세요! 자신만의 자동 프로그램까지 가져가는\n",
      "      특별한 강의\n"
     ]
    }
   ],
   "source": [
    "#h3태그 찾아오기\n",
    "import requests\n",
    "from bs4 import BeautifulSoup\n",
    "\n",
    "res = requests.get(\"https://crawlingtest.netlify.app/\") \n",
    "soup = BeautifulSoup(res.content, \"html.parser\")\n",
    "\n",
    "items = soup.select(\"h3\")\n",
    "\n",
    "for item in items :\n",
    "    print(item.get_text().strip())"
   ]
  },
  {
   "cell_type": "code",
   "execution_count": 17,
   "id": "e4aec882-3477-4133-ab10-e839f67628df",
   "metadata": {},
   "outputs": [
    {
     "name": "stdout",
     "output_type": "stream",
     "text": [
      "메가스터디 크롤링 테스트 페이지\n"
     ]
    }
   ],
   "source": [
    "# Body 밑에 h1태그 크롤링해오기\n",
    "import requests\n",
    "from bs4 import BeautifulSoup\n",
    "\n",
    "res = requests.get(\"https://crawlingtest.netlify.app/\") \n",
    "soup = BeautifulSoup(res.content, \"html.parser\")\n",
    "\n",
    "items = soup.select(\"html>body>h1\") #부모자식을 다 활용하면 특정한 값을 보다 명확하게 찾아옴!\n",
    "\n",
    "for item in items :\n",
    "    print(item.get_text().strip())"
   ]
  },
  {
   "cell_type": "code",
   "execution_count": 24,
   "id": "9e9981d6-a33d-4f3d-beeb-065a85143b4d",
   "metadata": {},
   "outputs": [
    {
     "name": "stdout",
     "output_type": "stream",
     "text": [
      "<li class=\"course\">\n",
      "<a href=\"#\">(왕초보) - 클래스 소개</a>\n",
      "</li>\n",
      "<li class=\"course\">\n",
      "<a href=\"#\">(왕초보) - 블로그 개발 필요한 준비물 준비하기</a>\n",
      "</li>\n",
      "<li class=\"course\">\n",
      "<a href=\"#\">(왕초보) - Github pages 설정해서 블로그 첫 페이지 만들어보기</a>\n",
      "</li>\n",
      "<li class=\"course\">\n",
      "<a href=\"#\">(왕초보) - 초간단 페이지 만들어보기</a>\n",
      "</li>\n",
      "<li class=\"course\">\n",
      "<a href=\"#\">(왕초보) - 이쁘게 테마 적용해보기</a>\n",
      "</li>\n",
      "<li class=\"course\">\n",
      "<a href=\"#\">(왕초보) - 마크다운 기초 이해하고, 실제 나만의 블로그 페이지\n",
      "          만들기</a>\n",
      "</li>\n",
      "<li class=\"course\">\n",
      "<a href=\"#\">(왕초보) - 다양한 마크다운 기법 익혀보며, 나만의 블로그 페이지\n",
      "          꾸며보기</a>\n",
      "</li>\n",
      "<li class=\"course\">\n",
      "<a href=\"#\">(초급) - 강사가 실제 사용하는 자동 프로그램 소개 [2]</a>\n",
      "</li>\n",
      "<li class=\"course\">\n",
      "<a href=\"#\">(초급) - 필요한 프로그램 설치 시연 [5]</a>\n",
      "</li>\n",
      "<li class=\"course\">\n",
      "<a href=\"#\">(초급) - 데이터를 엑셀 파일로 만들기 [9]</a>\n",
      "</li>\n",
      "<li class=\"course\">\n",
      "<a href=\"#\">(초급) -     엑셀 파일 이쁘게! 이쁘게! [8]</a>\n",
      "</li>\n",
      "<li class=\"course\">\n",
      "<a href=\"#\">(초급) -     나대신 주기적으로 파이썬 프로그램\n",
      "          실행하기 [7]</a>\n",
      "</li>\n",
      "<li class=\"course\">\n",
      "<a href=\"#\">(초급) - 파이썬으로 슬랙(slack) 메신저에 글쓰기 [40]</a>\n",
      "</li>\n",
      "<li class=\"course\">\n",
      "<a href=\"#\">(초급) - 웹사이트 변경사항 주기적으로 체크해서, 메신저로 알람주기\n",
      "          [12]</a>\n",
      "</li>\n",
      "<li class=\"course\">\n",
      "<a href=\"#\">(초급) - 네이버 API 사용해서, 블로그에 글쓰기 [42]</a>\n",
      "</li>\n",
      "<li class=\"course\">\n",
      "<a href=\"#\">(중급) - 자동으로 쿠팡파트너스 API 로 가져온 상품 정보, 네이버\n",
      "          블로그/트위터에 홍보하기 [412]</a>\n",
      "</li>\n"
     ]
    }
   ],
   "source": [
    "#보다 엄격하게 데이터를 찾아오는 방법! 엄격할수록 좋음.\n",
    "\n",
    "import requests\n",
    "from bs4 import BeautifulSoup\n",
    "\n",
    "res = requests.get(\"https://crawlingtest.netlify.app/\") \n",
    "soup = BeautifulSoup(res.content, \"html.parser\")\n",
    "\n",
    "items = soup.select(\"ul>li\")\n",
    "for item in items :\n",
    "    print(item)"
   ]
  },
  {
   "cell_type": "code",
   "execution_count": 32,
   "id": "c6d7c668-9802-4680-8b60-f4009e08e952",
   "metadata": {},
   "outputs": [
    {
     "name": "stdout",
     "output_type": "stream",
     "text": [
      "[<li class=\"course\">\n",
      "<a href=\"#\">(왕초보) - 클래스 소개</a>\n",
      "</li>, <li class=\"course\">\n",
      "<a href=\"#\">(왕초보) - 블로그 개발 필요한 준비물 준비하기</a>\n",
      "</li>, <li class=\"course\">\n",
      "<a href=\"#\">(왕초보) - Github pages 설정해서 블로그 첫 페이지 만들어보기</a>\n",
      "</li>, <li class=\"course\">\n",
      "<a href=\"#\">(왕초보) - 초간단 페이지 만들어보기</a>\n",
      "</li>, <li class=\"course\">\n",
      "<a href=\"#\">(왕초보) - 이쁘게 테마 적용해보기</a>\n",
      "</li>, <li class=\"course\">\n",
      "<a href=\"#\">(왕초보) - 마크다운 기초 이해하고, 실제 나만의 블로그 페이지\n",
      "          만들기</a>\n",
      "</li>, <li class=\"course\">\n",
      "<a href=\"#\">(왕초보) - 다양한 마크다운 기법 익혀보며, 나만의 블로그 페이지\n",
      "          꾸며보기</a>\n",
      "</li>]\n"
     ]
    }
   ],
   "source": [
    "# css 안에서 클래스선택자 찾아올때 온점.을  id는 #를 찾아옴\n",
    "import requests\n",
    "from bs4 import BeautifulSoup\n",
    "\n",
    "res = requests.get(\"https://crawlingtest.netlify.app/\") \n",
    "soup = BeautifulSoup(res.content, \"html.parser\")\n",
    "\n",
    "#items = soup.select(\".course\")\n",
    "items = soup.select(\"#hobby_course_list >.course\") # 띄어쓰기 주의! >가능 / 붙여쓰면 문맥상 오류, 문법은 맞음 why? id는 맞고, class도 코스면 문법상으로는 맞음.\n",
    "print(items)\n",
    "#for item in items :\n",
    "   # print(item.get_text())"
   ]
  },
  {
   "cell_type": "code",
   "execution_count": 43,
   "id": "fd1dea47-ce1d-4e34-9ddd-a71b3143caf4",
   "metadata": {},
   "outputs": [
    {
     "data": {
      "text/plain": [
       "<li class=\"course\" id=\"specialad\">\n",
       "<a href=\"#\">(왕초보) - 클래스 소개</a>\n",
       "</li>"
      ]
     },
     "execution_count": 43,
     "metadata": {},
     "output_type": "execute_result"
    }
   ],
   "source": [
    "#이런 코드가 있을 수도 있다!\n",
    "import requests\n",
    "from bs4 import BeautifulSoup\n",
    "\n",
    "res = requests.get(\"https://crawlingtest.netlify.app/\") \n",
    "soup = BeautifulSoup(res.content, \"html.parser\")\n",
    "\n",
    "#items = soup.select(\".course#specialad\") #이렇게 붙여서 쓰면 course라는 클래스를 가시면서 동시에 specialad라는 id를 가지고 옴!\n",
    "#items = soup.select(\".maintitle.course\")\n",
    "#items = soup.select(\"#specialad\") # 이렇게 길어지면 명확하게 선택해서 가져올 수 있음! 개발자도구에서 카피해서 가져올 수 있음.\n",
    "items = soup.select_one(\"#specialad\") #하나임에도 리스트로 가져오는 걸 방지하는 _!\n",
    "items"
   ]
  },
  {
   "cell_type": "code",
   "execution_count": 57,
   "id": "52d99188-95db-4398-bbcf-29540f8c0fea",
   "metadata": {},
   "outputs": [
    {
     "name": "stdout",
     "output_type": "stream",
     "text": [
      "일정\n",
      "커리큘럼 타이틀\n",
      "난이도\n",
      "5.1 ~ 6.15\n",
      "나만의 엣지있는 블로그 사이트 만들기 (취미로 익히는 IT)\n",
      "초급\n",
      "6.16 ~ 7.31\n",
      "파이썬과 데이터과학 첫걸음 (IT 기본기 익히기)\n",
      "중급\n"
     ]
    }
   ],
   "source": [
    "import requests\n",
    "from bs4 import BeautifulSoup\n",
    "\n",
    "res = requests.get(\"https://crawlingtest.netlify.app/\") \n",
    "soup = BeautifulSoup(res.content, \"html.parser\")\n",
    "\n",
    "trs = soup.select(\"tr\")\n",
    "\n",
    "#for tr in trs :\n",
    "    #tds = tr.select(\"td\")\n",
    "    #for td in tds:\n",
    "        #print(td.get_text())\n",
    "for tr in trs:\n",
    "    tds = "
   ]
  },
  {
   "cell_type": "code",
   "execution_count": 63,
   "id": "f1561b70-c731-4dfa-a281-fff96c78ec3a",
   "metadata": {},
   "outputs": [
    {
     "data": {
      "text/plain": [
       "[<h3>나만의 엣지있는 블로그 사이트 만들기</h3>,\n",
       " <h3>\n",
       "       당신의 커리어에 파이썬을 입히세요! 자신만의 자동 프로그램까지 가져가는\n",
       "       특별한 강의\n",
       "     </h3>,\n",
       " <h3>커리큘럼 일정</h3>]"
      ]
     },
     "execution_count": 63,
     "metadata": {},
     "output_type": "execute_result"
    }
   ],
   "source": [
    "#select와 find 혼용 가능!!\n",
    "import requests\n",
    "from bs4 import BeautifulSoup\n",
    "\n",
    "res = requests.get(\"https://crawlingtest.netlify.app/\") \n",
    "soup = BeautifulSoup(res.content, \"html.parser\")\n",
    "\n",
    "trs = soup.select(\"td\")\n",
    "\n",
    "for tr in trs:\n",
    "    tds = tr.find_all(\"td\")\n",
    "    for td in tds :\n",
    "        print(td.get_text())"
   ]
  },
  {
   "cell_type": "code",
   "execution_count": 73,
   "id": "6a055a69-651b-42a1-8c4a-d6070ab911da",
   "metadata": {},
   "outputs": [],
   "source": [
    "#td 태그 3문장 한줄에 쓰는방법 -> 한곳에 담아놔야함\n",
    "import requests\n",
    "from bs4 import BeautifulSoup\n",
    "\n",
    "res = requests.get(\"https://crawlingtest.netlify.app/\") \n",
    "soup = BeautifulSoup(res.content, \"html.parser\")\n",
    "\n",
    "#trs = soup.select(\"td\")\n",
    "\n",
    "#for tr in trs:\n",
    "   # tds = tr.find_all(\"td\")\n",
    "    #row_str = \"\"\n",
    "    #for td in tds :\n",
    "        #row_str += f\" / {td.get_text()}\"\n",
    "   # print(row_str[2:])"
   ]
  }
 ],
 "metadata": {
  "kernelspec": {
   "display_name": "Python [conda env:base] *",
   "language": "python",
   "name": "conda-base-py"
  },
  "language_info": {
   "codemirror_mode": {
    "name": "ipython",
    "version": 3
   },
   "file_extension": ".py",
   "mimetype": "text/x-python",
   "name": "python",
   "nbconvert_exporter": "python",
   "pygments_lexer": "ipython3",
   "version": "3.13.5"
  }
 },
 "nbformat": 4,
 "nbformat_minor": 5
}
