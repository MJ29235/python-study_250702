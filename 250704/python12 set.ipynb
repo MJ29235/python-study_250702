{
 "cells": [
  {
   "cell_type": "markdown",
   "id": "c204a57a-9ea5-4f72-b432-a0902e112e20",
   "metadata": {},
   "source": [
    "#### 자료구조 : set = 집합\n",
    "- 왜 나왔을까? -> 서로다른 그룹 간 연산 작업을 보다 쉽게 하기위한 목적으로 탄생된 자료구조\n",
    "- set()이라는 프로토타입함수를 통해 만듦  =// list() // tuple() // dict()\n",
    "- 리스트는 각각에 인덱스 값을 부여했고, 그렇기에 이터러블 객체임. so, 반복문을 사용가능.\n",
    "- 튜플도 각각에 인덱스 값을 부여했고, 그렇기에 이터러블 객체임. so, 반복문을 사용가능.\n",
    "- 딕셔너리는 각각의 세부값에 인덱스 값 부여X, 이터러블 객체 X, 반복문 불가.\n",
    "- set(세트)은 이터러블 하지만(반복문이 돌음) BUT 인덱스값이 없음..(인덱스값으로 추출 불가) = '유사배열'이라고 부름. 배열의 특징을 가짐.\n",
    "- 즉, 위의 4개는 유기적으로 보완하는 관계. 쓰일 수 있는데를 우리가 판단해야함.\n",
    "- set은 크롤링 시, 찾아온 값이 거의 대부분 리스트형태로 들어옴!! => 굳이 반복적으로 불필요하게 값을 찾아오는 경우가 부지기수.. 일일히 수정하지 않고, 중복된 값을 하나로 정리하는 기능!(가장 많이사용)\n",
    "- 찾아온 각 데이터를 리스트로 만들고 그 데이터들을 set을 통해서 중복되는 부분을 덜어내고 남은 부분들을 따로 리스트로 만들어내는 것이 목표! "
   ]
  },
  {
   "cell_type": "code",
   "execution_count": 3,
   "id": "fd6c0f9f-2e95-40b9-b88b-298dacbcd2f0",
   "metadata": {},
   "outputs": [
    {
     "name": "stdout",
     "output_type": "stream",
     "text": [
      "set()\n"
     ]
    }
   ],
   "source": [
    "data_set01 = set ()  #set자료구조 객체로 만듦\n",
    "print(data_set01)"
   ]
  },
  {
   "cell_type": "code",
   "execution_count": 5,
   "id": "9f63f931-1d2b-4f63-808c-e2def250da4a",
   "metadata": {},
   "outputs": [
    {
     "data": {
      "text/plain": [
       "{'LG', 'apple', 'dell', 'samsung'}"
      ]
     },
     "execution_count": 5,
     "metadata": {},
     "output_type": "execute_result"
    }
   ],
   "source": [
    "#set 도 중괄호. 속성의 형태를 띄지않고 있다! 집합의 연산이 목적 그룹간 차이 확인<->딕셔너리\n",
    "data_set02 = {\"apple\",\"dell\",\"samsung\",\"LG\"}\n",
    "data_set02"
   ]
  },
  {
   "cell_type": "code",
   "execution_count": 6,
   "id": "3641f6bc-08dd-4363-8c77-d0aa7c92a158",
   "metadata": {},
   "outputs": [
    {
     "data": {
      "text/plain": [
       "{'a', 'e', 'l', 'p'}"
      ]
     },
     "execution_count": 6,
     "metadata": {},
     "output_type": "execute_result"
    }
   ],
   "source": [
    "data_set03 = set(\"apple\") #값이 하나만 들어있을때 허용해주는것\n",
    "data_set03 #분절되어서 나옴. set() 의 \"\"안에 있는게 하나가 아니라는 것을 의미"
   ]
  },
  {
   "cell_type": "code",
   "execution_count": 7,
   "id": "dfdab0b3-6064-47ed-864a-9d7fc62fbee5",
   "metadata": {},
   "outputs": [
    {
     "ename": "TypeError",
     "evalue": "set expected at most 1 argument, got 2",
     "output_type": "error",
     "traceback": [
      "\u001b[1;31m---------------------------------------------------------------------------\u001b[0m",
      "\u001b[1;31mTypeError\u001b[0m                                 Traceback (most recent call last)",
      "Cell \u001b[1;32mIn[7], line 1\u001b[0m\n\u001b[1;32m----> 1\u001b[0m data_set04 \u001b[38;5;241m=\u001b[39m \u001b[38;5;28mset\u001b[39m(\u001b[38;5;124m\"\u001b[39m\u001b[38;5;124msm\u001b[39m\u001b[38;5;124m\"\u001b[39m,\u001b[38;5;124m\"\u001b[39m\u001b[38;5;124mjyp\u001b[39m\u001b[38;5;124m\"\u001b[39m)\n",
      "\u001b[1;31mTypeError\u001b[0m: set expected at most 1 argument, got 2"
     ]
    }
   ],
   "source": [
    "data_set04 = set(\"sm\",\"jyp\") #두개의 인자 값을 줄 수 없다! {} 중괄호를 활용해야함."
   ]
  },
  {
   "cell_type": "code",
   "execution_count": 9,
   "id": "f5170757-95cc-4745-83c2-595f65cf00e2",
   "metadata": {},
   "outputs": [
    {
     "data": {
      "text/plain": [
       "{'jyp', 'sm'}"
      ]
     },
     "execution_count": 9,
     "metadata": {},
     "output_type": "execute_result"
    }
   ],
   "source": [
    "data_set04 = {\"sm\",\"jyp\"}\n",
    "data_set04"
   ]
  },
  {
   "cell_type": "code",
   "execution_count": 10,
   "id": "593b4f92-c01b-447a-8c2d-f303a3aaac36",
   "metadata": {},
   "outputs": [
    {
     "name": "stdout",
     "output_type": "stream",
     "text": [
      "dell\n",
      "LG\n",
      "samsung\n",
      "apple\n"
     ]
    }
   ],
   "source": [
    "for data in data_set02: #이터러블한 객체라서 for 문이 가능함\n",
    "    print(data)"
   ]
  },
  {
   "cell_type": "code",
   "execution_count": 11,
   "id": "e0b9dc0d-68e0-42c6-90b1-b9908bc893ed",
   "metadata": {},
   "outputs": [
    {
     "ename": "TypeError",
     "evalue": "'set' object is not subscriptable",
     "output_type": "error",
     "traceback": [
      "\u001b[1;31m---------------------------------------------------------------------------\u001b[0m",
      "\u001b[1;31mTypeError\u001b[0m                                 Traceback (most recent call last)",
      "Cell \u001b[1;32mIn[11], line 1\u001b[0m\n\u001b[1;32m----> 1\u001b[0m data_set02[\u001b[38;5;241m0\u001b[39m]\n",
      "\u001b[1;31mTypeError\u001b[0m: 'set' object is not subscriptable"
     ]
    }
   ],
   "source": [
    "data_set02[0] #set는 인덱스 값이 없음!"
   ]
  },
  {
   "cell_type": "code",
   "execution_count": 14,
   "id": "a8dbddd0-33a2-4a8b-b3ba-3bd1c827e3e5",
   "metadata": {},
   "outputs": [
    {
     "name": "stdout",
     "output_type": "stream",
     "text": [
      "False\n",
      "True\n"
     ]
    }
   ],
   "source": [
    "#분리형 값을 추출하고 판별하는 것도 가능\n",
    "print(\"motorola\" in data_set02)\n",
    "print(\"apple\" in data_set02)"
   ]
  },
  {
   "cell_type": "code",
   "execution_count": 22,
   "id": "3a8af1a3-24c2-4097-b04e-a6a423fe6116",
   "metadata": {},
   "outputs": [],
   "source": [
    "data04 = {\"피카츄\",\"라이츄\",\"꼬부기\"}"
   ]
  },
  {
   "cell_type": "code",
   "execution_count": 19,
   "id": "172fc8e3-6de5-4d25-9bae-b78ee4aca7a6",
   "metadata": {},
   "outputs": [],
   "source": [
    "data05 ={\"잠만보\",\"파이리\",\"피카츄\"}"
   ]
  },
  {
   "cell_type": "code",
   "execution_count": 23,
   "id": "250d85e8-c1bf-4148-b62c-e4d5421549ee",
   "metadata": {},
   "outputs": [
    {
     "data": {
      "text/plain": [
       "{'피카츄'}"
      ]
     },
     "execution_count": 23,
     "metadata": {},
     "output_type": "execute_result"
    }
   ],
   "source": [
    "data04 & data05 #교집합 "
   ]
  },
  {
   "cell_type": "code",
   "execution_count": 24,
   "id": "a1078dd8-2c4f-4e12-a89f-dfa4b93224b3",
   "metadata": {},
   "outputs": [
    {
     "data": {
      "text/plain": [
       "{'꼬부기', '라이츄', '잠만보', '파이리', '피카츄'}"
      ]
     },
     "execution_count": 24,
     "metadata": {},
     "output_type": "execute_result"
    }
   ],
   "source": [
    "data04 | data05 #합집합 -> 데이터의 '중복값'을 덜어낼 수 있음!!! 장점!!! set의 탄생 이유"
   ]
  },
  {
   "cell_type": "code",
   "execution_count": 25,
   "id": "fd942afa-d961-4f81-aad5-8b6ff6ab0803",
   "metadata": {},
   "outputs": [
    {
     "data": {
      "text/plain": [
       "{'꼬부기', '라이츄'}"
      ]
     },
     "execution_count": 25,
     "metadata": {},
     "output_type": "execute_result"
    }
   ],
   "source": [
    "data04 - data05 #차집합 -> 왼쪽에 것을 기준으로 교집합 부분을 뺀것"
   ]
  },
  {
   "cell_type": "code",
   "execution_count": 26,
   "id": "02268bfe-d55b-441d-b5f9-583f675c3a57",
   "metadata": {},
   "outputs": [
    {
     "data": {
      "text/plain": [
       "{'꼬부기', '라이츄', '잠만보', '파이리'}"
      ]
     },
     "execution_count": 26,
     "metadata": {},
     "output_type": "execute_result"
    }
   ],
   "source": [
    "data04 ^ data05 #^ -> 캐럿기호 교집합을 제외한 나머지 값들만 찾아옴"
   ]
  }
 ],
 "metadata": {
  "kernelspec": {
   "display_name": "Python [conda env:base] *",
   "language": "python",
   "name": "conda-base-py"
  },
  "language_info": {
   "codemirror_mode": {
    "name": "ipython",
    "version": 3
   },
   "file_extension": ".py",
   "mimetype": "text/x-python",
   "name": "python",
   "nbconvert_exporter": "python",
   "pygments_lexer": "ipython3",
   "version": "3.13.5"
  }
 },
 "nbformat": 4,
 "nbformat_minor": 5
}
