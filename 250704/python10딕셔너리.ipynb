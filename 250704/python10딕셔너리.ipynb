{
 "cells": [
  {
   "cell_type": "markdown",
   "id": "31cdb41d-f986-4f69-a9a2-e928e3fce101",
   "metadata": {},
   "source": [
    "### 파이썬 자료구조\n",
    "\n",
    "- list => 하나의 그룹안에 순번을 매겨서 값을 저장해놓은 형태 (*단일 값을 수정, 삭제 등 변경 허용)\n",
    "- tuple => 하나의 그룹안에 순번을 매겨서 값을 저장해놓은 형태 (*단일 값을 수정, 삭제 등 변경 허용X)\n",
    "- dictionary => 사전 (*단어 : 뜻, 형태, 예시 등등 세부정보) => key(*단어) & value (*해당 단어에 대한 의미) => 속성 (*property)\n",
    "- CRUD => 웹사이트에 대한 구현정도 // 프로그램 난이도 // 고급언어인지, 저급언어인지 등 을 판별하는 기준이 됨.\n",
    "- Create 신규로 회원가입// Read  읽을 수도// Update 업데이트(수정) // Delete 삭제까지 => 4가지 기능이 다 가능하면 고급언어로 난이도 상단계에 포지셔닝하고있다.\n",
    "- 리스트는 가능 / 튜플은 두개 안됨 / 딕셔너리는 모두 가능! -> 튜플은 문제가 있는거? no! 기능과 능률에 따라 효용성이 높을 수도!\n",
    "- 프로그래밍 언어는 절대 정답X => 예제문제 => 선생님이 문제를 해결한방법 / 우리가 해결하는 방법이 같을 수도, 다를 수도.\n",
    "- EX) 2=> 1+1 , 10/5 , 2*1\n",
    "- 정석?? 프로그래밍에는 그게 없다! 편협하게보면 안됨.\n",
    "- 문자열 => 숫자 => 문법해결\n",
    "- 문자열 => 문법 해결"
   ]
  },
  {
   "cell_type": "code",
   "execution_count": 1,
   "id": "7bcfe5e7-a2f7-4c5c-8e4a-03592c48feaa",
   "metadata": {},
   "outputs": [
    {
     "data": {
      "text/plain": [
       "{'name': 'david'}"
      ]
     },
     "execution_count": 1,
     "metadata": {},
     "output_type": "execute_result"
    }
   ],
   "source": [
    "#딕셔너리는 중괄호로{} 시작\n",
    "#딕셔너리는 리스트가 아님. 리스트로 바꿔주는 작업이 필요.\n",
    "dict1 ={\"name\":\"david\"}\n",
    "dict1"
   ]
  },
  {
   "cell_type": "code",
   "execution_count": 28,
   "id": "c32a5422-ad14-4297-bbdd-417e4e68da75",
   "metadata": {},
   "outputs": [
    {
     "data": {
      "text/plain": [
       "{'Korean': 95, 'math': 100, 'science': 100}"
      ]
     },
     "execution_count": 28,
     "metadata": {},
     "output_type": "execute_result"
    }
   ],
   "source": [
    "dict2 = {\"Korean\":95, \"math\":100, \"science\":100} \n",
    "dict2"
   ]
  },
  {
   "cell_type": "code",
   "execution_count": 4,
   "id": "5fa000b8-e962-454f-b1dd-a991614dcb15",
   "metadata": {},
   "outputs": [
    {
     "name": "stdout",
     "output_type": "stream",
     "text": [
      "<class 'dict'>\n"
     ]
    }
   ],
   "source": [
    "#list1 = [] 1,2 list{}\n",
    "#tupl1 = () \\ (1,2) \\ tupl2()\n",
    "\n",
    "dict1 ={} #{}=>set 자료구조일수도 있음\n",
    "dict2 = dict()\n",
    "\n",
    "print(type(dict2)) #리얼 객체의 타입을 띄고있음."
   ]
  },
  {
   "cell_type": "code",
   "execution_count": 6,
   "id": "cf828f25-1844-46d6-adcf-01d75c9397af",
   "metadata": {},
   "outputs": [],
   "source": [
    "data_dict ={\"한국\":\"KR\", \"일본\":\"JP\", \"중국\":\"CN\"} #키[키:값]도 중요하지만 밸류가 핵심! 어떠한 목적으로 이 정보가 기록되었는지!"
   ]
  },
  {
   "cell_type": "code",
   "execution_count": 7,
   "id": "5704af91-f8c6-44d4-9a15-aa9f247ef0f4",
   "metadata": {},
   "outputs": [
    {
     "data": {
      "text/plain": [
       "'KR'"
      ]
     },
     "execution_count": 7,
     "metadata": {},
     "output_type": "execute_result"
    }
   ],
   "source": [
    "data_dict[\"한국\"] #리스트나 튜플은 인덱스의 값으로 저장되어있었음. 딕셔너리는 고유한 키에 저장되어있음. 그 키값만 찾아오면됨."
   ]
  },
  {
   "cell_type": "code",
   "execution_count": 9,
   "id": "f6d1afa0-d86b-45c5-ad06-92730b5dfd9e",
   "metadata": {},
   "outputs": [],
   "source": [
    "data_dict[\"미국\"]=\"US\"  #속성을 추가하는 방법[]=키, 그 값을 넣는방법"
   ]
  },
  {
   "cell_type": "code",
   "execution_count": 10,
   "id": "70ac9e27-afbc-4fdf-b5e5-efc1dd49f22c",
   "metadata": {},
   "outputs": [
    {
     "data": {
      "text/plain": [
       "{'한국': 'KR', '일본': 'JP', '중국': 'CN', '미국': 'US'}"
      ]
     },
     "execution_count": 10,
     "metadata": {},
     "output_type": "execute_result"
    }
   ],
   "source": [
    "data_dict #값을 제거하는 방법 "
   ]
  },
  {
   "cell_type": "code",
   "execution_count": null,
   "id": "4f486037-5df8-4278-a490-0f53cea086ab",
   "metadata": {},
   "outputs": [],
   "source": [
    "#리스트에서는 del라는 예약어(<-공식어or 명령어) 사용함. 딕셔너리도 마찬가지!"
   ]
  },
  {
   "cell_type": "code",
   "execution_count": 11,
   "id": "b6183afa-34a4-4db1-a408-f78f76629cb1",
   "metadata": {},
   "outputs": [],
   "source": [
    "del data_dict[\"일본\"]"
   ]
  },
  {
   "cell_type": "code",
   "execution_count": 12,
   "id": "b2c999d0-7b20-4128-88bc-d813123743bb",
   "metadata": {},
   "outputs": [
    {
     "data": {
      "text/plain": [
       "{'한국': 'KR', '중국': 'CN', '미국': 'US'}"
      ]
     },
     "execution_count": 12,
     "metadata": {},
     "output_type": "execute_result"
    }
   ],
   "source": [
    "data_dict"
   ]
  },
  {
   "cell_type": "code",
   "execution_count": 14,
   "id": "b1580fc4-ebf8-4337-9594-266f3cadc4c4",
   "metadata": {},
   "outputs": [
    {
     "data": {
      "text/plain": [
       "{'한국': 'KR', '중국': 'CN', '미국': 'USA'}"
      ]
     },
     "execution_count": 14,
     "metadata": {},
     "output_type": "execute_result"
    }
   ],
   "source": [
    "#값을 변경하는 방법\n",
    "data_dict[\"미국\"]= \"USA\"\n",
    "data_dict"
   ]
  },
  {
   "cell_type": "code",
   "execution_count": null,
   "id": "a4f75753-735e-493c-89fa-b64318e6dfbd",
   "metadata": {},
   "outputs": [],
   "source": [
    "# 딕셔너리는 키값을 기준으로 움직인다! 사전과 같이 단어를 검색하면 의미를 도출하는 구조로 되어있음!\n",
    "# 다른 언어에서는 진짜 객체와 유사한 것이다."
   ]
  },
  {
   "cell_type": "code",
   "execution_count": 18,
   "id": "0618a99b-c8e3-423c-a72c-5be98917d4ae",
   "metadata": {},
   "outputs": [
    {
     "name": "stdout",
     "output_type": "stream",
     "text": [
      "dict_keys(['한국', '중국', '미국'])\n",
      "<class 'dict_keys'>\n"
     ]
    }
   ],
   "source": [
    "#키나 밸류값만 추출해오는 방법\n",
    "keys = data_dict.keys()\n",
    "print(keys) #리스트인것을 확인가능!\n",
    "print(type(keys))"
   ]
  },
  {
   "cell_type": "code",
   "execution_count": 19,
   "id": "dcac6355-c803-475f-8148-622fb3517014",
   "metadata": {},
   "outputs": [
    {
     "name": "stdout",
     "output_type": "stream",
     "text": [
      "dict_values(['KR', 'CN', 'USA'])\n"
     ]
    }
   ],
   "source": [
    "#밸류값만 찾아오기! 마찬가지로 리스트\n",
    "values = data_dict.values()\n",
    "print(values)"
   ]
  },
  {
   "cell_type": "code",
   "execution_count": 1,
   "id": "96569ea6-f607-43bb-be59-3af1d907e81c",
   "metadata": {},
   "outputs": [
    {
     "ename": "SyntaxError",
     "evalue": "invalid character '（' (U+FF08) (3490371404.py, line 2)",
     "output_type": "error",
     "traceback": [
      "\u001b[1;36m  Cell \u001b[1;32mIn[1], line 2\u001b[1;36m\u001b[0m\n\u001b[1;33m    items = （data_dict.items()）\u001b[0m\n\u001b[1;37m            ^\u001b[0m\n\u001b[1;31mSyntaxError\u001b[0m\u001b[1;31m:\u001b[0m invalid character '（' (U+FF08)\n"
     ]
    }
   ],
   "source": [
    "#키와 밸류값만 찾아오기. 리스트!\n",
    "items = data_dict.items()\n",
    "print(items)"
   ]
  },
  {
   "cell_type": "code",
   "execution_count": 22,
   "id": "812db0a8-bb78-46f1-a945-71bfe8204628",
   "metadata": {},
   "outputs": [
    {
     "name": "stdout",
     "output_type": "stream",
     "text": [
      "dict_keys(['한국', '중국', '미국'])\n",
      "한국\n",
      "dict_keys(['한국', '중국', '미국'])\n",
      "중국\n",
      "dict_keys(['한국', '중국', '미국'])\n",
      "미국\n"
     ]
    }
   ],
   "source": [
    "for key in keys : #한국중국미국의 문자열을 가지고 있는 변수\n",
    "    print(keys)\n",
    "    print(key)"
   ]
  },
  {
   "cell_type": "code",
   "execution_count": 24,
   "id": "2ff72747-0b67-41c6-8cda-bf3ddeda17c9",
   "metadata": {},
   "outputs": [
    {
     "name": "stdout",
     "output_type": "stream",
     "text": [
      "KR\n",
      "dict_values(['KR', 'CN', 'USA'])\n",
      "CN\n",
      "dict_values(['KR', 'CN', 'USA'])\n",
      "USA\n",
      "dict_values(['KR', 'CN', 'USA'])\n"
     ]
    }
   ],
   "source": [
    "for value in values :\n",
    "    print(value)\n",
    "    print(values)"
   ]
  },
  {
   "cell_type": "code",
   "execution_count": 2,
   "id": "0be88f0e-bad1-41f3-97c8-62b370465ba9",
   "metadata": {},
   "outputs": [
    {
     "ename": "NameError",
     "evalue": "name 'items' is not defined",
     "output_type": "error",
     "traceback": [
      "\u001b[1;31m---------------------------------------------------------------------------\u001b[0m",
      "\u001b[1;31mNameError\u001b[0m                                 Traceback (most recent call last)",
      "Cell \u001b[1;32mIn[2], line 1\u001b[0m\n\u001b[1;32m----> 1\u001b[0m \u001b[38;5;28;01mfor\u001b[39;00m item \u001b[38;5;129;01min\u001b[39;00m items :\n\u001b[0;32m      2\u001b[0m     \u001b[38;5;28mprint\u001b[39m(item)\n",
      "\u001b[1;31mNameError\u001b[0m: name 'items' is not defined"
     ]
    }
   ],
   "source": [
    "for item in items :\n",
    "    print(item)"
   ]
  },
  {
   "cell_type": "code",
   "execution_count": 5,
   "id": "2f5b5fa1-9f44-4716-9b64-f6180c31f8dc",
   "metadata": {},
   "outputs": [
    {
     "name": "stdout",
     "output_type": "stream",
     "text": [
      "뉴스A\n",
      "뉴스B\n",
      "뉴스C\n",
      "뉴스D\n"
     ]
    }
   ],
   "source": [
    "titles = [\"뉴스A\",\"뉴스B\",\"뉴스C\",\"뉴스D\"]\n",
    "for title in titles :\n",
    "    print(title)"
   ]
  },
  {
   "cell_type": "code",
   "execution_count": null,
   "id": "e45be09f-3de5-4b44-8ad1-5036fe8d1531",
   "metadata": {},
   "outputs": [],
   "source": [
    "#딕셔너리 주로 사용할 때, "
   ]
  },
  {
   "cell_type": "code",
   "execution_count": 7,
   "id": "2b730565-c59e-42cc-af86-d85d9158885c",
   "metadata": {},
   "outputs": [],
   "source": [
    "article01 = {                \n",
    "    \"title\" : \"뉴스A\",            #<-하나의 속성이 완성된것! 딕셔너리는 원하는 갯수만큼 속성 생성 가능\n",
    "    \"link\":\"https://naver.com\",  #딕셔너리는 속성이 길어질 수 있기 떄문에 개행을 해서 사용하는 경우가 많음\n",
    "}\n",
    "\n",
    "article02 = {                \n",
    "    \"title\" : \"뉴스B\",           \n",
    "    \"link\":\"https://naver.com\",\n",
    "}\n",
    "articleList = [article01, article02] #두개의 기사를 모아놓은 딕셔너리를 리스트화 할 수도 있음!"
   ]
  },
  {
   "cell_type": "code",
   "execution_count": 8,
   "id": "64a95d57-a0c5-4bef-b4e3-288fdcd36ce0",
   "metadata": {},
   "outputs": [
    {
     "data": {
      "text/plain": [
       "[{'title': '뉴스A', 'link': 'https://naver.com'},\n",
       " {'title': '뉴스B', 'link': 'https://naver.com'}]"
      ]
     },
     "execution_count": 8,
     "metadata": {},
     "output_type": "execute_result"
    }
   ],
   "source": [
    "articleList"
   ]
  },
  {
   "cell_type": "code",
   "execution_count": 13,
   "id": "fc037816-aca6-4785-9dc8-dc3ef041755d",
   "metadata": {},
   "outputs": [
    {
     "data": {
      "text/plain": [
       "{'title': '뉴스A', 'link': 'https://naver.com', '뉴스D': '제목'}"
      ]
     },
     "execution_count": 13,
     "metadata": {},
     "output_type": "execute_result"
    }
   ],
   "source": []
  },
  {
   "cell_type": "code",
   "execution_count": null,
   "id": "7c62a354-12f1-4b8b-a1b7-ab8f99ba30bf",
   "metadata": {},
   "outputs": [],
   "source": []
  }
 ],
 "metadata": {
  "kernelspec": {
   "display_name": "Python [conda env:base] *",
   "language": "python",
   "name": "conda-base-py"
  },
  "language_info": {
   "codemirror_mode": {
    "name": "ipython",
    "version": 3
   },
   "file_extension": ".py",
   "mimetype": "text/x-python",
   "name": "python",
   "nbconvert_exporter": "python",
   "pygments_lexer": "ipython3",
   "version": "3.13.5"
  }
 },
 "nbformat": 4,
 "nbformat_minor": 5
}
