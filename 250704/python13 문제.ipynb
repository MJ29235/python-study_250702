{
 "cells": [
  {
   "cell_type": "markdown",
   "id": "367e6ec1-761d-41fd-9d76-08cd85bf14c7",
   "metadata": {},
   "source": [
    "- 사용자로부터 어떤 값을 받고, 해당 값을 한화(로 바꿔서 출력되도록 해주세요\n",
    "- ex) 100 ==>환율 1112원 // 111200원으로 출력되도록 해주세요"
   ]
  },
  {
   "cell_type": "code",
   "execution_count": 17,
   "id": "bb8667c3-a280-4993-be7b-5a2103cc354d",
   "metadata": {},
   "outputs": [
    {
     "name": "stdin",
     "output_type": "stream",
     "text": [
      "$금액을 입력하세요., $ 500\n"
     ]
    },
    {
     "name": "stdout",
     "output_type": "stream",
     "text": [
      "환전 값 : 556000원\n"
     ]
    }
   ],
   "source": [
    "# 인풋값을 넣어서 사용자 정의 값. 을 만들고 한화로 바꾸려면 프린트 값에 1112원을 곱한다.\n",
    "\n",
    "money = int(input(f\"$금액을 입력하세요., $\")) str(\"달러\")\n",
    "\n",
    "print(f\"환전 값 : {money*1112}원\") "
   ]
  },
  {
   "cell_type": "markdown",
   "id": "4557150b-46da-476e-8df0-ef01a9e2fa3f",
   "metadata": {},
   "source": [
    "#수학 => math X\n",
    "#수학능력평가시험 => 수학 => 논리성!!!\n",
    "#문제를 풀던 못풀던 간에 일단 내가 해결하고 싶은 것을 말로 표현!!(국어)\n",
    "#생각을 먼저하고 생각한것을 표현하려고 노력하는것!\n",
    "\n",
    "1. 사용자에게 값을 받는다. - input(), int()\n",
    "2. 사전에 환율을 정의해서 특정 변수를 할당해 놓는다. - 변수 정의만 하면 됨. \n",
    "3. 사용자에게 받은 값을 사전에 정의해 놓은 환율과 계산한다. - 연산자만 알면 됨\n",
    "4. 사용자의 값과 환율을 계산한 그 결과값을 출력한다. - 출력=print\n",
    "\n",
    "price = int(input(\"환전하고 싶은 달러를 입력해주세요, ex) 100달러\") int라는 함수를 지워야함\n",
    "price = input(\"환전하고 싶은 달러를 입력해주세요, ex) 100달러\")\n",
    "exchange = 1112\n"
   ]
  },
  {
   "cell_type": "code",
   "execution_count": 23,
   "id": "7d4dc5f7-da98-411d-8173-54fa1ddf3ef6",
   "metadata": {},
   "outputs": [
    {
     "name": "stdin",
     "output_type": "stream",
     "text": [
      "환전하고 싶은 달러를 입력해주세요, ex) 100달러 10\n"
     ]
    },
    {
     "name": "stdout",
     "output_type": "stream",
     "text": [
      "11,120원\n"
     ]
    }
   ],
   "source": [
    "price = input(\"환전하고 싶은 달러를 입력해주세요, ex) 100달러\")\n",
    "exchange = 1112\n",
    "\n",
    "dollor = int(price.replace(\"달러\",\"\")) #여백이 아닌 아무것도 없는 문자 없앰.\n",
    "result = dollor * exchange\n",
    "\n",
    "print(f\"{result:,}원\") # result 뒤에 :, -> 이걸 넣으면 한국통화단위로 바꿈."
   ]
  },
  {
   "cell_type": "markdown",
   "id": "e309f5b2-0794-4ab2-a4db-a0359a5b5a64",
   "metadata": {},
   "source": [
    "- 달러의 환율을 1112원으로 설정, 위안화의 환율을 171원으로 설정, 엔화의 환율을 1010원으로 설정하되, 해당 화폐당 환율의 값을 딕셔너리라는 자료구조로 정의. 사용자가 달러 혹은 엔화 혹은 위안화 값ㅇ르 입력했을 떄, 해당 값을 원하는 값을 입력했을때,\n",
    "- ex) 100달러 => 111,200 // 100위안 => 17,100원 "
   ]
  },
  {
   "cell_type": "code",
   "execution_count": 45,
   "id": "4e9e45af-2d4c-455c-80ff-abb6029b09ea",
   "metadata": {},
   "outputs": [
    {
     "name": "stdin",
     "output_type": "stream",
     "text": [
      "원화를 넣으세요 100\n"
     ]
    },
    {
     "ename": "NameError",
     "evalue": "name 'cash' is not defined",
     "output_type": "error",
     "traceback": [
      "\u001b[1;31m---------------------------------------------------------------------------\u001b[0m",
      "\u001b[1;31mNameError\u001b[0m                                 Traceback (most recent call last)",
      "Cell \u001b[1;32mIn[45], line 6\u001b[0m\n\u001b[0;32m      2\u001b[0m money\u001b[38;5;241m=\u001b[39m\u001b[38;5;28mint\u001b[39m(\u001b[38;5;28minput\u001b[39m(\u001b[38;5;124m\"\u001b[39m\u001b[38;5;124m원화를 넣으세요\u001b[39m\u001b[38;5;124m\"\u001b[39m))\n\u001b[0;32m      5\u001b[0m money_dict \u001b[38;5;241m=\u001b[39m{\u001b[38;5;124m\"\u001b[39m\u001b[38;5;124m달러\u001b[39m\u001b[38;5;124m\"\u001b[39m : \u001b[38;5;241m1112\u001b[39m , \u001b[38;5;124m\"\u001b[39m\u001b[38;5;124m위안\u001b[39m\u001b[38;5;124m\"\u001b[39m : \u001b[38;5;241m171\u001b[39m , \u001b[38;5;124m\"\u001b[39m\u001b[38;5;124m엔화\u001b[39m\u001b[38;5;124m\"\u001b[39m : \u001b[38;5;241m1010\u001b[39m}\n\u001b[1;32m----> 6\u001b[0m \u001b[38;5;28mprint\u001b[39m(cash)\n",
      "\u001b[1;31mNameError\u001b[0m: name 'cash' is not defined"
     ]
    }
   ],
   "source": [
    "#각 환율을 설정하고 해당 환율 값을 딕셔너리에 각각 정리해서 리스트화를 하고 리스트가 나온 값에 각각의 값을 곱해서 환율이 나오게 하면 된다.\n",
    "money=int(input(\"원화를 넣으세요\"))\n",
    "\n",
    "\n",
    "money_dict ={\"달러\" : 1112 , \"위안\" : 171 , \"엔화\" : 1010}\n",
    "print(cash)"
   ]
  },
  {
   "cell_type": "code",
   "execution_count": 48,
   "id": "6e82d65f-f9b3-457f-bbe2-9a4178c703a1",
   "metadata": {},
   "outputs": [
    {
     "name": "stdin",
     "output_type": "stream",
     "text": [
      "환전하고 싶은 금액 입력! 500달러\n"
     ]
    },
    {
     "name": "stdout",
     "output_type": "stream",
     "text": [
      "556,000원\n"
     ]
    }
   ],
   "source": [
    "#정보값을 줄때에는 딕셔너리만 가능함\n",
    "#이 문제야 말로 딕셔너리가 필요 \n",
    "\n",
    "exchange_list = {\"달러\" : 1112 , \"위안\" : 171 , \"엔화\" : 1010} #이 변수는 이제 딕셔너리의 단어구조\n",
    "user_money = input(\"환전하고 싶은 금액 입력!\")\n",
    "\n",
    "#문자열은 인덱스를 가지고 있음. 인덱스 값은 고유값. 첫자리 둘째자리만 가져오면 됨.\n",
    "if user_money[-2:] ==\"달러\" : \n",
    "    print(f\"{exchange_list['달러']* int(user_money[0:-2]):,}원\") #f 스트링 주의할 점. 큰따옴표위치가 섞임. 문자열 안에 는 ''작은 따옴표\n",
    "elif user_money[-2:] ==\"위안\" : \n",
    "    print(f\"{exchange_list['위안']* int(user_money[0:-2]):,}원\")\n",
    "elif user_money[-2:] ==\"엔화\" : \n",
    "    print(f\"{exchange_list['엔화']* int(user_money[0:-2]):,}원\")\n",
    "else :\n",
    "    print(\"달러, 위안, 엔화 중 하나를 입력해주세요!\")\n",
    "    "
   ]
  },
  {
   "cell_type": "markdown",
   "id": "668fef78-2f48-4bef-8cac-5aa3faf94b7f",
   "metadata": {},
   "source": [
    "- 달러의 환율을 1112원으로 설정, 위안화의 환율을 171원으로 설정, 엔화의 환율을 1010원으로 설정하되, 해당 화폐당 환율의 값을 딕셔너리라는 자료구조로 정의. 사용자가 달러 혹은 엔화 혹은 위안화 값ㅇ르 입력했을 떄, 해당 값을 원하는 값을 입력했을때,\n",
    "- ex) 100달러 => 111,200 // 100위안 => 17,100원 "
   ]
  },
  {
   "cell_type": "code",
   "execution_count": null,
   "id": "b318dd2e-5a38-4297-810f-a783c2ff0261",
   "metadata": {},
   "outputs": [],
   "source": [
    "딕셔너리 값을 먼저 설정하고 \n",
    "인풋 변수를 설정한 다음에\n",
    "조건문으로 해당 값을 입력했을 떄를 상정해서 \n",
    "딕셔너리의 키값을 넣고\n",
    "출력해서 포맷스트링에 넣고 문자열의 값으로 저장되어있는 "
   ]
  },
  {
   "cell_type": "markdown",
   "id": "a9484a14-0309-4375-add6-b462b6b6f2ba",
   "metadata": {},
   "source": [
    "구구단 \n",
    "2*1=2\n",
    "2-9까지의 숫자가 반복, 순회해야한다. -> 반복되는 동안\n",
    "1~9까지의 숫자의 반복, 순회가 다시 필요! -> 이것도 반복해야한다. \n",
    "그러니까 while문 사용"
   ]
  },
  {
   "cell_type": "code",
   "execution_count": 56,
   "id": "99db5761-6dba-4f0c-9678-f524c9e70b89",
   "metadata": {},
   "outputs": [
    {
     "name": "stdout",
     "output_type": "stream",
     "text": [
      "-------------------\n",
      "-구구단 2단-\n",
      "-------------------\n",
      "2 X 1 = 2\n",
      "2 X 2 = 4\n",
      "2 X 3 = 6\n",
      "2 X 4 = 8\n",
      "2 X 5 = 10\n",
      "2 X 6 = 12\n",
      "2 X 7 = 14\n",
      "2 X 8 = 16\n",
      "2 X 9 = 18\n",
      "\n",
      "\n",
      "-------------------\n",
      "-구구단 3단-\n",
      "-------------------\n",
      "3 X 1 = 3\n",
      "3 X 2 = 6\n",
      "3 X 3 = 9\n",
      "3 X 4 = 12\n",
      "3 X 5 = 15\n",
      "3 X 6 = 18\n",
      "3 X 7 = 21\n",
      "3 X 8 = 24\n",
      "3 X 9 = 27\n",
      "\n",
      "\n",
      "-------------------\n",
      "-구구단 4단-\n",
      "-------------------\n",
      "4 X 1 = 4\n",
      "4 X 2 = 8\n",
      "4 X 3 = 12\n",
      "4 X 4 = 16\n",
      "4 X 5 = 20\n",
      "4 X 6 = 24\n",
      "4 X 7 = 28\n",
      "4 X 8 = 32\n",
      "4 X 9 = 36\n",
      "\n",
      "\n",
      "-------------------\n",
      "-구구단 5단-\n",
      "-------------------\n",
      "5 X 1 = 5\n",
      "5 X 2 = 10\n",
      "5 X 3 = 15\n",
      "5 X 4 = 20\n",
      "5 X 5 = 25\n",
      "5 X 6 = 30\n",
      "5 X 7 = 35\n",
      "5 X 8 = 40\n",
      "5 X 9 = 45\n",
      "\n",
      "\n",
      "-------------------\n",
      "-구구단 6단-\n",
      "-------------------\n",
      "6 X 1 = 6\n",
      "6 X 2 = 12\n",
      "6 X 3 = 18\n",
      "6 X 4 = 24\n",
      "6 X 5 = 30\n",
      "6 X 6 = 36\n",
      "6 X 7 = 42\n",
      "6 X 8 = 48\n",
      "6 X 9 = 54\n",
      "\n",
      "\n",
      "-------------------\n",
      "-구구단 7단-\n",
      "-------------------\n",
      "7 X 1 = 7\n",
      "7 X 2 = 14\n",
      "7 X 3 = 21\n",
      "7 X 4 = 28\n",
      "7 X 5 = 35\n",
      "7 X 6 = 42\n",
      "7 X 7 = 49\n",
      "7 X 8 = 56\n",
      "7 X 9 = 63\n",
      "\n",
      "\n",
      "-------------------\n",
      "-구구단 8단-\n",
      "-------------------\n",
      "8 X 1 = 8\n",
      "8 X 2 = 16\n",
      "8 X 3 = 24\n",
      "8 X 4 = 32\n",
      "8 X 5 = 40\n",
      "8 X 6 = 48\n",
      "8 X 7 = 56\n",
      "8 X 8 = 64\n",
      "8 X 9 = 72\n",
      "\n",
      "\n",
      "-------------------\n",
      "-구구단 9단-\n",
      "-------------------\n",
      "9 X 1 = 9\n",
      "9 X 2 = 18\n",
      "9 X 3 = 27\n",
      "9 X 4 = 36\n",
      "9 X 5 = 45\n",
      "9 X 6 = 54\n",
      "9 X 7 = 63\n",
      "9 X 8 = 72\n",
      "9 X 9 = 81\n",
      "\n",
      "\n"
     ]
    }
   ],
   "source": [
    "for num01 in range(2,10) :\n",
    "    print(\"-------------------\")\n",
    "    print(f\"-구구단 {num01}단-\")\n",
    "    print(\"-------------------\")\n",
    "    for num02 in range(1,10) :#중첩for문\n",
    "        print(f\"{num01} X {num02} = {num01*num02}\") #2단과 3단 사이의 여백 = 2단이 끝났을때, \n",
    "    print(\"\\n\") #개행으로 분리 가능"
   ]
  },
  {
   "cell_type": "markdown",
   "id": "3d818ed6-330e-41ff-b645-99989a5905e3",
   "metadata": {},
   "source": [
    "- 위에서 작성한 코드를 활용해서 다음과 같은 결과를 출력해주세요. 구구단 2~9단까지 출력하되, 계산된 결과값이 짝수인 경우에만 출력해 주세요.\n",
    "- 3 X 3 = 9 이기 때문에 출력되면 안됨\n",
    "- 2 X 4 = 8 이기 때문에 출력"
   ]
  },
  {
   "cell_type": "code",
   "execution_count": 59,
   "id": "4b9a15de-4af5-4573-ae7b-4968a01c92f4",
   "metadata": {},
   "outputs": [
    {
     "name": "stdout",
     "output_type": "stream",
     "text": [
      "2 X 1 = 2\n",
      "2 X 2 = 4\n",
      "2 X 3 = 6\n",
      "2 X 4 = 8\n",
      "2 X 5 = 10\n",
      "2 X 6 = 12\n",
      "2 X 7 = 14\n",
      "2 X 8 = 16\n",
      "2 X 9 = 18\n",
      "\n",
      "\n",
      "3 X 2 = 6\n",
      "3 X 4 = 12\n",
      "3 X 6 = 18\n",
      "3 X 8 = 24\n",
      "\n",
      "\n",
      "4 X 1 = 4\n",
      "4 X 2 = 8\n",
      "4 X 3 = 12\n",
      "4 X 4 = 16\n",
      "4 X 5 = 20\n",
      "4 X 6 = 24\n",
      "4 X 7 = 28\n",
      "4 X 8 = 32\n",
      "4 X 9 = 36\n",
      "\n",
      "\n",
      "5 X 2 = 10\n",
      "5 X 4 = 20\n",
      "5 X 6 = 30\n",
      "5 X 8 = 40\n",
      "\n",
      "\n",
      "6 X 1 = 6\n",
      "6 X 2 = 12\n",
      "6 X 3 = 18\n",
      "6 X 4 = 24\n",
      "6 X 5 = 30\n",
      "6 X 6 = 36\n",
      "6 X 7 = 42\n",
      "6 X 8 = 48\n",
      "6 X 9 = 54\n",
      "\n",
      "\n",
      "7 X 2 = 14\n",
      "7 X 4 = 28\n",
      "7 X 6 = 42\n",
      "7 X 8 = 56\n",
      "\n",
      "\n",
      "8 X 1 = 8\n",
      "8 X 2 = 16\n",
      "8 X 3 = 24\n",
      "8 X 4 = 32\n",
      "8 X 5 = 40\n",
      "8 X 6 = 48\n",
      "8 X 7 = 56\n",
      "8 X 8 = 64\n",
      "8 X 9 = 72\n",
      "\n",
      "\n",
      "9 X 2 = 18\n",
      "9 X 4 = 36\n",
      "9 X 6 = 54\n",
      "9 X 8 = 72\n",
      "\n",
      "\n"
     ]
    }
   ],
   "source": [
    "for num01 in range (2,10) :\n",
    "    for num02 in range (1,10) :\n",
    "        num3 = num01*num02\n",
    "        if num3%2 ==0 :\n",
    "            print(f\"{num01} X {num02} = {num01*num02}\")\n",
    "    print(\"\\n\")"
   ]
  },
  {
   "cell_type": "code",
   "execution_count": null,
   "id": "de1cad0e-ed3a-469b-8ba2-2dc443c081ab",
   "metadata": {},
   "outputs": [],
   "source": []
  },
  {
   "cell_type": "markdown",
   "id": "830800c5-fb6b-499b-b63a-bd3ce78f8153",
   "metadata": {},
   "source": [
    "dongs = [\"6209동\",\"6208동\",\"6207동\"]\n",
    "hos = [\"101호\",\"102호\",\"103호\",\"104호\"]\n",
    "#출력 방식 \n",
    "```\n",
    "6209동 101호\n",
    "6209동 102호\n",
    "6209동 103호\n",
    "6209동 104호\n",
    "\n",
    "6208동 101호\n",
    "6208동 102호\n",
    "6208동 103호\n",
    "6208동 104호\n",
    "\n",
    "6207동 101호\n",
    "6207동 102호\n",
    "6207동 103호\n",
    "6207동 104호\n",
    "```\n"
   ]
  },
  {
   "cell_type": "code",
   "execution_count": 60,
   "id": "cb2469f9-2c7f-40fd-8905-a056adbd4c8b",
   "metadata": {},
   "outputs": [
    {
     "name": "stdout",
     "output_type": "stream",
     "text": [
      "['6209동', '6208동', '6207동'] ['101호', '102호', '103호', '104호']\n",
      "['6209동', '6208동', '6207동'] ['101호', '102호', '103호', '104호']\n",
      "['6209동', '6208동', '6207동'] ['101호', '102호', '103호', '104호']\n",
      "['6209동', '6208동', '6207동'] ['101호', '102호', '103호', '104호']\n",
      "['6209동', '6208동', '6207동'] ['101호', '102호', '103호', '104호']\n",
      "['6209동', '6208동', '6207동'] ['101호', '102호', '103호', '104호']\n",
      "['6209동', '6208동', '6207동'] ['101호', '102호', '103호', '104호']\n",
      "['6209동', '6208동', '6207동'] ['101호', '102호', '103호', '104호']\n",
      "['6209동', '6208동', '6207동'] ['101호', '102호', '103호', '104호']\n",
      "['6209동', '6208동', '6207동'] ['101호', '102호', '103호', '104호']\n",
      "['6209동', '6208동', '6207동'] ['101호', '102호', '103호', '104호']\n",
      "['6209동', '6208동', '6207동'] ['101호', '102호', '103호', '104호']\n"
     ]
    }
   ],
   "source": [
    "dongs = [\"6209동\",\"6208동\",\"6207동\"]\n",
    "hos = [\"101호\",\"102호\",\"103호\",\"104호\"]\n",
    "\n",
    "for dong in dongs :\n",
    "    for dong in hos :\n",
    "        print(f\"{dongs} {hos}\")"
   ]
  },
  {
   "cell_type": "code",
   "execution_count": 64,
   "id": "2219a9d1-b831-4cd5-b81d-869548ba24d5",
   "metadata": {},
   "outputs": [
    {
     "name": "stdout",
     "output_type": "stream",
     "text": [
      "6209동 101호\n",
      "6209동 102호\n",
      "6209동 103호\n",
      "6209동 104호\n",
      "\n",
      "6208동 101호\n",
      "6208동 102호\n",
      "6208동 103호\n",
      "6208동 104호\n",
      "\n",
      "6207동 101호\n",
      "6207동 102호\n",
      "6207동 103호\n",
      "6207동 104호\n",
      "\n"
     ]
    }
   ],
   "source": [
    "dongs = [\"6209동\",\"6208동\",\"6207동\"]\n",
    "hos = [\"101호\",\"102호\",\"103호\",\"104호\"]\n",
    "\n",
    "\n",
    "for item_1 in dongs :\n",
    "    for item_2 in hos :\n",
    "        print(f\"{item_1} {item_2}\")\n",
    "    print()   #print()만 해도 한줄이 나옴!"
   ]
  },
  {
   "cell_type": "code",
   "execution_count": 75,
   "id": "cdf78708-710c-43fe-86b0-72d2952a83c6",
   "metadata": {},
   "outputs": [
    {
     "data": {
      "text/plain": [
       "('coding01', 'coding02', 'coding03', 'coding04')"
      ]
     },
     "execution_count": 75,
     "metadata": {},
     "output_type": "execute_result"
    }
   ],
   "source": [
    "tupledata = (\"coding01\", \"coding02\", \"coding03\")\n",
    "#이 요소에서 cording04추가 불가. 리스트로 바꾸고 cording04을 넣고 다시 튜플로 바꿔주면 됨.\n",
    "\n",
    "temp_list = list(tupledata)\n",
    "temp_list.append(\"coding04\")\n",
    "result = tuple(temp_list)\n",
    "\n",
    "result\n",
    "#튜플끼리는 더하는 거 가능! 튜플을 하나 더 만들어서 더하면 됨"
   ]
  },
  {
   "cell_type": "code",
   "execution_count": 91,
   "id": "6abc5654-4e4a-45fd-adb4-b2ccab14545d",
   "metadata": {},
   "outputs": [
    {
     "name": "stdout",
     "output_type": "stream",
     "text": [
      "('coding01', 'coding02', 'coding03', 'coding04')\n",
      "('coding01', 'coding02', 'coding03', 'coding04')\n"
     ]
    }
   ],
   "source": [
    "tupledata = (\"coding01\", \"coding02\", \"coding03\")\n",
    "a= list(tuple(tupledata)) + [\"coding04\"]\n",
    "print(tuple(a))\n",
    "\n",
    "print(tuple(list(tupledata) + [\"coding04\"]))"
   ]
  },
  {
   "cell_type": "markdown",
   "id": "7f42b413-eddf-4d3f-8cd5-ff47dfa1ca99",
   "metadata": {},
   "source": [
    "#딕셔너리 형태의 자료구조를 하나 만들어서 아래와 같이 값을 출력해 주세요. \n",
    "```\n",
    "enviorment : 환경 x\n",
    "company : 회사 o\n",
    "government : 정부 x\n",
    "face : 얼굴 x\n",
    "```"
   ]
  },
  {
   "cell_type": "code",
   "execution_count": 85,
   "id": "11af4ea9-430c-4394-94f8-dd3952156a84",
   "metadata": {},
   "outputs": [
    {
     "name": "stdout",
     "output_type": "stream",
     "text": [
      "<class 'list'>\n",
      "government : 정부\n",
      "enviorment : 환경\n",
      "face : 얼굴\n",
      "company : 회사\n"
     ]
    }
   ],
   "source": [
    "dict01 = {\"enviorment : 환경\",\"company : 회사\", \"government : 정부\", \"face : 얼굴\"}\n",
    "\n",
    "a= list(dict01)\n",
    "print(type(a))\n",
    "\n",
    "for b in a :\n",
    "    print(b)"
   ]
  },
  {
   "cell_type": "code",
   "execution_count": 95,
   "id": "b08ca43f-cd2d-40e4-b6cd-a5cd788e4154",
   "metadata": {},
   "outputs": [
    {
     "name": "stdout",
     "output_type": "stream",
     "text": [
      "enviorment: 환경\n",
      "company: 회사\n",
      "government: 정부\n",
      "face: 얼굴\n"
     ]
    }
   ],
   "source": [
    "#사용자로부터 특정 사전에 등록되어있는 단어들 중 한개를 입력받으세요. \n",
    "#그러면 입력받은 단어의 경우 외움표시를 o로 수정하고, 아직 외우지 못한 단어들만 출력하는 프로그램코드를 작성해주세요.\n",
    "\n",
    "Eng=input(\"단어를 입력하세요\")\n",
    "data = {\n",
    "    \"enviorment\" : [\"환경\", \"x\"],\n",
    "    \"company\" : [\"회사\",\"o\"],\n",
    "    \"government\" : [\"정부\",\"x\"],\n",
    "    \"face\" : [\"얼굴\", \"x\"],\n",
    "}\n",
    "if Eng== data:\n",
    "    data.value[-2](\"x\") #-2인덱스의 값을 o로 바꿔야함 근데 딕셔너리는 인덱스 값이 없잖아..\n",
    "elif  :\n",
    "    print("
   ]
  },
  {
   "cell_type": "code",
   "execution_count": null,
   "id": "69514b64-7ded-4b5e-b7d0-ffc4db8e1dc5",
   "metadata": {},
   "outputs": [],
   "source": [
    "for item in data.keys() :\n",
    "    print(f\"{item}: {data[item]}\")"
   ]
  },
  {
   "cell_type": "code",
   "execution_count": 108,
   "id": "7cd593fa-9d23-460a-9dc1-5053e76fb82b",
   "metadata": {},
   "outputs": [
    {
     "name": "stdin",
     "output_type": "stream",
     "text": [
      "다 외운 단어를 입력하세요 enviornment\n"
     ]
    }
   ],
   "source": [
    "# 유효성 검사!!\n",
    "data = {\n",
    "    \"enviornment\" : [\"환경\", \"x\"],\n",
    "    \"company\" : [\"회사\",\"o\"],\n",
    "    \"government\" : [\"정부\",\"x\"],\n",
    "    \"face\" : [\"얼굴\", \"x\"],\n",
    "}\n",
    "english=input(\"다 외운 단어를 입력하세요\")\n",
    "\n",
    "if english in data.keys() :\n",
    "    data[english][1]=\"o\"\n",
    "else :\n",
    "    print(\"사전에 존재하지 않는 단어입니다.\")\n",
    "for item in data.keys() :\n",
    "    data_list = data[item]\n",
    "    if data_list[1] == \"X\" :\n",
    "        print(item)"
   ]
  },
  {
   "cell_type": "markdown",
   "id": "06537c18-08ff-45cb-9d21-3a5d404a18d6",
   "metadata": {},
   "source": [
    "dict_all = {\"enviornment\" : \"환경\", \"government\":\"정부\"}\n",
    "dict2 = {\"company\":\"회사\", \"face\":\"얼굴\"}\n",
    "dict3 = {\"apple\":\"사과\"}\n",
    "\n",
    "dict_all 안에 다 넣어주세요! 그리고 출력"
   ]
  },
  {
   "cell_type": "code",
   "execution_count": 116,
   "id": "4a011727-3228-4f26-94e6-134a27cf0b1e",
   "metadata": {},
   "outputs": [
    {
     "data": {
      "text/plain": [
       "{'enviornment': '환경',\n",
       " 'government': '정부',\n",
       " 'company': '회사',\n",
       " 'face': '얼굴',\n",
       " 'apple': '사과'}"
      ]
     },
     "execution_count": 116,
     "metadata": {},
     "output_type": "execute_result"
    }
   ],
   "source": [
    "dict_all = {\n",
    "    \"enviornment\" : \"환경\",\n",
    "    \"government\":\"정부\"}\n",
    "dict2 = {\"company\":\"회사\",\"face\":\"얼굴\"}\n",
    "dict3 = {\"apple\":\"사과\"}\n",
    "\n",
    "for item in dict2.keys() :\n",
    "    dict_all[item] = dict2[item]\n",
    "\n",
    "for item in dict3.keys() :\n",
    "    dict_all[item] = dict3[item]\n",
    "\n",
    "dict_all"
   ]
  },
  {
   "cell_type": "code",
   "execution_count": null,
   "id": "494e7ef6-98a7-4ba4-bc49-6b7511636b55",
   "metadata": {},
   "outputs": [],
   "source": []
  },
  {
   "cell_type": "code",
   "execution_count": 120,
   "id": "0edbfed2-f83c-4f89-b57c-fc3e3cbed5ac",
   "metadata": {},
   "outputs": [
    {
     "data": {
      "text/plain": [
       "{1, 3, 4, 5, 6}"
      ]
     },
     "execution_count": 120,
     "metadata": {},
     "output_type": "execute_result"
    }
   ],
   "source": [
    "#set\n",
    "\n",
    "number_list = {1,2,3} #딕셔너리와 비슷하지만 속성값x\n",
    "number_list.add(4)    #.add를 쓰면 값이 추가됨.\n",
    "#number_list.add(5,6)  # 이건 오류가 남. set은 하나씩의 값만 받을 수 있음\n",
    "#number_list.update(5,6)  # 이것도 오류가 남. 이터러블이 아니기 때문에! 리스트로 바꾸면됨\n",
    "number_list.update([5,6])\n",
    "number_list.remove(2)    # .remove() 지우기! 마찬가지로 한번에 두개는 못지움.\n",
    "\n",
    "\n",
    "number_list"
   ]
  },
  {
   "cell_type": "markdown",
   "id": "fc0e3d13-6fde-40e0-9d96-559c702e460c",
   "metadata": {},
   "source": [
    "임의의 숫자 2개를 사용자에게 받으면 해당 2개의 숫자를 곱한 값을 반환하는 함수를 만들고, 해당 함수의 결과값을 화면에 출력해주세요"
   ]
  },
  {
   "cell_type": "code",
   "execution_count": 124,
   "id": "3f59a19e-a93f-4f55-a7b6-bba6d36218b2",
   "metadata": {},
   "outputs": [
    {
     "ename": "SyntaxError",
     "evalue": "invalid syntax. Perhaps you forgot a comma? (1380025022.py, line 4)",
     "output_type": "error",
     "traceback": [
      "\u001b[1;36m  Cell \u001b[1;32mIn[124], line 4\u001b[1;36m\u001b[0m\n\u001b[1;33m    a = int(input(\"숫자 1\")\u001b[0m\n\u001b[1;37m            ^\u001b[0m\n\u001b[1;31mSyntaxError\u001b[0m\u001b[1;31m:\u001b[0m invalid syntax. Perhaps you forgot a comma?\n"
     ]
    }
   ],
   "source": [
    "#함수를 만드는 방법?\n",
    "\n",
    "def flex (a,b) :\n",
    "    a = int(input(\"숫자 1\")\n",
    "    b = int(input(\"숫자 2\")\n",
    "            return(f\"{a*b}\")\n",
    "    "
   ]
  },
  {
   "cell_type": "code",
   "execution_count": 132,
   "id": "b00341a7-9820-4139-8419-3d3a3140c7a9",
   "metadata": {},
   "outputs": [
    {
     "name": "stdin",
     "output_type": "stream",
     "text": [
      "숫자를 입력하세요! 50\n",
      "숫자를 입력하세요! 60\n"
     ]
    },
    {
     "name": "stdout",
     "output_type": "stream",
     "text": [
      "3000\n"
     ]
    }
   ],
   "source": [
    "#왜이렇게 생소하지?\n",
    "#num1 = int(input(\"숫자1\"))\n",
    "#num2 = int(input(\"숫자2\"))\n",
    "num_all = [int(input(\"숫자를 입력하세요!\"))for _ in range(2)] #리스트로 선언! \n",
    "\n",
    "def f1(피카츄,num2) :\n",
    "    return 피카츄*num2\n",
    "print(f1(num_all[0],num_all[1]))                                                                "
   ]
  },
  {
   "cell_type": "markdown",
   "id": "42937243-7fdf-4a4d-a906-f447cb43fd0b",
   "metadata": {},
   "source": [
    "인자값 3개를 받을 수 있는 함수를 호출.        -> 꼭 다시 풀어봐!!!!!\n",
    "func1(인자값1, 인자값2, 인자값 3)\n",
    "해당함수의 3번째 인자값 = 인자값 3,+ => 첫번째 인자값과 두번째 인자값을 더한 결과값을 반환하도록 해주시고, 만약 3번째 인자값이 만약 *라면 , 첫번째 인자값과 두번째 인자값을 곱한 결과값을 반환해주세요. 그런데 3번쨰 인자값이  +도 아니고 *도 아니라면 무조건 0을 반환하는 함수를 만들어주세요.\n",
    "ex)\n",
    "func1(1,2,+) => 3\n",
    "func1(2,4,*) => 8\n",
    "func1(3,3,-) => 0"
   ]
  },
  {
   "cell_type": "code",
   "execution_count": null,
   "id": "6a95f5f4-bb17-4f2a-88d3-a80fb3ac7591",
   "metadata": {},
   "outputs": [],
   "source": [
    "def func1(num1, num2, plus) :\n",
    "    if plus == \"+\":\n",
    "        num1+num2\n",
    "    elif plus == \"*\":\n",
    "        num1*num2\n",
    "    elif plus == \"-\"\n",
    "        0"
   ]
  },
  {
   "cell_type": "code",
   "execution_count": 134,
   "id": "e7861a09-1cb4-48e6-bd7e-e272f690a4da",
   "metadata": {},
   "outputs": [
    {
     "name": "stdout",
     "output_type": "stream",
     "text": [
      "3 6 0\n"
     ]
    }
   ],
   "source": [
    "def calc(data1, data2, way) : #조건\n",
    "    if way == \"+\" :\n",
    "        return data1 + data2\n",
    "    elif way == \"*\":\n",
    "        return data1*data2\n",
    "    else :\n",
    "        return 0\n",
    "\n",
    "data01 = calc(1,2,\"+\")\n",
    "data02 = calc(3,2,\"*\")\n",
    "data03 = calc(2,4,\"-\")\n",
    "print(data01, data02, data03)"
   ]
  }
 ],
 "metadata": {
  "kernelspec": {
   "display_name": "Python [conda env:base] *",
   "language": "python",
   "name": "conda-base-py"
  },
  "language_info": {
   "codemirror_mode": {
    "name": "ipython",
    "version": 3
   },
   "file_extension": ".py",
   "mimetype": "text/x-python",
   "name": "python",
   "nbconvert_exporter": "python",
   "pygments_lexer": "ipython3",
   "version": "3.13.5"
  }
 },
 "nbformat": 4,
 "nbformat_minor": 5
}
