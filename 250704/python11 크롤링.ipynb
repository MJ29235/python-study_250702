{
 "cells": [
  {
   "cell_type": "markdown",
   "id": "c5dc6854-e506-4e44-acde-ef6734b98dff",
   "metadata": {},
   "source": [
    "#왜 이런 구조를 배웠나 Check!\n",
    "#### 웹사이트의 데이터를 크롤링 해오자!!\n",
    "- \"크롤링\" 개념 : '동물의 갈퀴나 발톱으로 낚아채온다'\n",
    "- 파이썬에서만 가능한가? NO! -> 파이썬아니어도 충분히 할 수 있는 기능.\n",
    "- 그럼 왜 PYTHON? 타 언어대비 굉징히 심플하고 간소함. -> 비개발자인 초심자여도 보다 쉽고 빠르게 개발언어를 통해 크롤링 할 수 있도록 도와주는 거의 유일한 언어!\n",
    "- 왜 다른언어는 굳이 복잡한것을 쓸까?\n",
    "- 파이썬은 내.외부에 '라이브러리' 소스를 가져다 사용할 수 있는 상황이 정말 많다. -> 다른언어를 사용해서 크롤링하려면 A-Z까지 다 써야함. 라이브러리는 남이 작성한 책! 이미 해본코드. 크롤링에 필요한 라이브러리를 가져다 쓰면 됨! so, 코드가 짧음.\n",
    "- 단점 : 라이브러리 각각의 문법을 따로 알고 있어야함. (다른건 언어 코드만 알고 있으면 가능) -> 즉, 도찐개찐..\n",
    "         내가 만든 라이브러리를 삭제하면 사용하고 있던 사람들 모두 정지됨..\n",
    "- 제일 많이 쓰는 라이브러리\n",
    "- Beautifulsoup4(.v4) :아래에 request를 통해서 찾아온 html 문서를 '파싱(parsing)'\n",
    "- request : 크롤링 해오고자 하는 웹사이트를 요청 ==> html문서 안에 있는 코드를 가져오는 역할 "
   ]
  },
  {
   "cell_type": "code",
   "execution_count": 2,
   "id": "e10b7393-ab51-4262-bf0f-c1802638320e",
   "metadata": {},
   "outputs": [
    {
     "name": "stdout",
     "output_type": "stream",
     "text": [
      "Requirement already satisfied: requests in c:\\users\\pmj96\\anaconda3\\lib\\site-packages (2.32.3)\n",
      "Requirement already satisfied: charset-normalizer<4,>=2 in c:\\users\\pmj96\\anaconda3\\lib\\site-packages (from requests) (3.3.2)\n",
      "Requirement already satisfied: idna<4,>=2.5 in c:\\users\\pmj96\\anaconda3\\lib\\site-packages (from requests) (3.7)\n",
      "Requirement already satisfied: urllib3<3,>=1.21.1 in c:\\users\\pmj96\\anaconda3\\lib\\site-packages (from requests) (2.3.0)\n",
      "Requirement already satisfied: certifi>=2017.4.17 in c:\\users\\pmj96\\anaconda3\\lib\\site-packages (from requests) (2025.6.15)\n",
      "Note: you may need to restart the kernel to use updated packages.\n"
     ]
    }
   ],
   "source": [
    "pip install requests"
   ]
  },
  {
   "cell_type": "code",
   "execution_count": 3,
   "id": "2e5fd834-9e9d-4ba1-911e-42d6db1f7d8d",
   "metadata": {},
   "outputs": [
    {
     "name": "stdout",
     "output_type": "stream",
     "text": [
      "Requirement already satisfied: beautifulsoup4 in c:\\users\\pmj96\\anaconda3\\lib\\site-packages (4.12.3)\n",
      "Requirement already satisfied: soupsieve>1.2 in c:\\users\\pmj96\\anaconda3\\lib\\site-packages (from beautifulsoup4) (2.5)\n",
      "Note: you may need to restart the kernel to use updated packages.\n"
     ]
    }
   ],
   "source": [
    "pip install beautifulsoup4"
   ]
  },
  {
   "cell_type": "code",
   "execution_count": 4,
   "id": "7277dea4-5e2b-42e4-9ec9-18ec73946a77",
   "metadata": {},
   "outputs": [
    {
     "name": "stdout",
     "output_type": "stream",
     "text": [
      "Requirement already satisfied: requests in c:\\users\\pmj96\\anaconda3\\lib\\site-packages (2.32.3)\n",
      "Requirement already satisfied: beautifulsoup4 in c:\\users\\pmj96\\anaconda3\\lib\\site-packages (4.12.3)\n",
      "Requirement already satisfied: charset-normalizer<4,>=2 in c:\\users\\pmj96\\anaconda3\\lib\\site-packages (from requests) (3.3.2)\n",
      "Requirement already satisfied: idna<4,>=2.5 in c:\\users\\pmj96\\anaconda3\\lib\\site-packages (from requests) (3.7)\n",
      "Requirement already satisfied: urllib3<3,>=1.21.1 in c:\\users\\pmj96\\anaconda3\\lib\\site-packages (from requests) (2.3.0)\n",
      "Requirement already satisfied: certifi>=2017.4.17 in c:\\users\\pmj96\\anaconda3\\lib\\site-packages (from requests) (2025.6.15)\n",
      "Requirement already satisfied: soupsieve>1.2 in c:\\users\\pmj96\\anaconda3\\lib\\site-packages (from beautifulsoup4) (2.5)\n",
      "Note: you may need to restart the kernel to use updated packages.\n"
     ]
    }
   ],
   "source": [
    "pip install requests beautifulsoup4"
   ]
  },
  {
   "cell_type": "code",
   "execution_count": 28,
   "id": "3974cad0-eee2-4d06-98c5-767a44ddb99a",
   "metadata": {},
   "outputs": [
    {
     "name": "stdout",
     "output_type": "stream",
     "text": [
      "1번째 : 상품카테고리 => 매트리스커버 관련 상품 추천 / 상품이미지 : https://static.coupangcdn.com/image/retail/images/2017/10/11/16/6/bf3b2157-528d-4b24-9991-b601a24f4c6f.jpg\n",
      "2번째 : 상품카테고리 => 매트리스커버 관련 상품 추천 / 상품이미지 : https://static.coupangcdn.com/image/product/image/vendoritem/2018/11/28/3647689009/d72a996d-1e4e-42be-a23c-f9f6872214bb.jpg\n",
      "3번째 : 상품카테고리 => 매트리스커버 관련 상품 추천 / 상품이미지 : https://static.coupangcdn.com/image/product/image/vendoritem/2019/06/11/3361297461/699c49cc-5f9f-4927-ab26-b184f90c1571.jpg\n",
      "4번째 : 상품카테고리 => 매트리스커버 관련 상품 추천 / 상품이미지 : https://static.coupangcdn.com/image/retail/images/2018/10/26/16/9/c6dfa004-442c-4f48-9ff1-b76d81bae046.jpg\n",
      "5번째 : 상품카테고리 => 매트리스커버 관련 상품 추천 / 상품이미지 : https://static.coupangcdn.com/image/retail/images/2019/04/01/22/6/f9566f49-cf8c-48dd-bc73-b543a3f47f62.jpg\n",
      "6번째 : 상품카테고리 => 매트리스커버 관련 상품 추천 / 상품이미지 : https://static.coupangcdn.com/image/retail/images/12859794410743-0ab1b2fe-1cd4-4599-b38a-3fb22f3bf620.jpg\n",
      "7번째 : 상품카테고리 => 매트리스커버 관련 상품 추천 / 상품이미지 : https://static.coupangcdn.com/image/retail/images/2019/03/28/19/3/2d9f9b52-0cc9-424f-8639-8f298429d244.jpg\n",
      "8번째 : 상품카테고리 => 매트리스커버 관련 상품 추천 / 상품이미지 : https://static.coupangcdn.com/image/retail/images/2017/10/19/15/4/95b93d25-7014-458a-a2a5-9b93189cdcef.jpg\n",
      "9번째 : 상품카테고리 => 행거도어 관련 상품 추천 / 상품이미지 : https://static.coupangcdn.com/image/retail/images/2019/07/29/12/3/704931d7-4dbd-4af7-9247-856831bdc61e.jpg\n",
      "10번째 : 상품카테고리 => 매트리스커버 관련 상품 추천 / 상품이미지 : https://static.coupangcdn.com/image/retail/images/2017/10/13/10/3/8379ffd3-63be-4da4-98f9-895aaa0c9b52.jpg\n",
      "11번째 : 상품카테고리 => 매트리스커버 관련 상품 추천 / 상품이미지 : https://static.coupangcdn.com/image/retail/images/2018/09/17/19/4/329dbb2f-a0ad-44d4-af46-1eea0c548b67.jpg\n",
      "12번째 : 상품카테고리 => 매트리스커버 관련 상품 추천 / 상품이미지 : https://static.coupangcdn.com/image/retail/images/339338956730835-5cbe0521-2a03-4fe2-8eb7-7a7ae9ff187f.jpg\n"
     ]
    }
   ],
   "source": [
    "import requests\n",
    "from bs4 import BeautifulSoup\n",
    "\n",
    "url = \"https://davelee-fun.github.io\" #연습용 사이트\n",
    "response = requests.get(url) #여기의 get은 웹페이지에 있는 정보값을 가져와라!\n",
    "soup = BeautifulSoup(response.text, \"html.parser\") #response의 문서값에서 텍스트의 형태로 찾아와, html의 타입으로 리스펀스 안에있는 텍스트값찾아와\n",
    "\n",
    "#구체적으로 어떤 값을 찾아올 것인지! -> 내거 설정을 해야함. 웬만하면 다 막아놓음. \n",
    "#파싱이 되어진 것에서 찾아온다 .select는 찾아와라\n",
    "cards = soup.select(\"div.maxthumb img\") #맥스떰브 안에 있는 div태그 안에 후손인 img를 찾아와라.\n",
    "card_data = []\n",
    "\n",
    "for idx, card in enumerate(cards, start=1) :    #여기서 get은 card에서 찾아와라\n",
    "    title = card.get(\"alt\", \"제목 없음\").strip() #alt는 이미지가 액박뜰때 or 스크린리더기로 시각장애인 지원할 때 나오는 상품정보를 입력해두는곳.\n",
    "    img_url = card.get(\"src\", \"\").strip() #.strip 앞뒤에 불필요하게 여백이 존재하면 여백을 지우고 핵심만 가져온다!.\n",
    "\n",
    "    card_info = (idx, title, img_url) #전체적인 구조가 바뀔 수 없는 튜플을 만듦 ! -> 이것을 리스트로 만들고 싶음. 이 리스트는 for문 밖에서도 찾을 수 있어야함.\n",
    "    card_data.append(card_info) #튜플로 구성되어 있는 데이터도 리스트. 하나씩 출력 가능\n",
    "\n",
    "for item in card_data : #튜플의 형태로 있는 item. 각각의 index를 가지고 있음\n",
    "    print(f\"{item[0]}번째 : 상품카테고리 => {item[1]} / 상품이미지 : {item[2]}\") #cards 안에 있는 인덱스 값을 찾아올때마다"
   ]
  },
  {
   "cell_type": "code",
   "execution_count": null,
   "id": "923e94e1-de0a-4ebc-b901-33aad9f08f34",
   "metadata": {},
   "outputs": [],
   "source": []
  },
  {
   "cell_type": "code",
   "execution_count": null,
   "id": "006f6ec5-da2a-4c51-a2f2-27d473f9a8d5",
   "metadata": {},
   "outputs": [],
   "source": []
  }
 ],
 "metadata": {
  "kernelspec": {
   "display_name": "Python [conda env:base] *",
   "language": "python",
   "name": "conda-base-py"
  },
  "language_info": {
   "codemirror_mode": {
    "name": "ipython",
    "version": 3
   },
   "file_extension": ".py",
   "mimetype": "text/x-python",
   "name": "python",
   "nbconvert_exporter": "python",
   "pygments_lexer": "ipython3",
   "version": "3.13.5"
  }
 },
 "nbformat": 4,
 "nbformat_minor": 5
}
