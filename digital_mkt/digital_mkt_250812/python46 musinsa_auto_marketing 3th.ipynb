{
 "cells": [
  {
   "cell_type": "markdown",
   "id": "c33f2619-f492-41ad-9a55-d3a9b40ce587",
   "metadata": {},
   "source": [
    "## 무신사 크롤링"
   ]
  },
  {
   "cell_type": "code",
   "execution_count": 26,
   "id": "6898c4d5-e54f-4fa8-88ec-7ae2eb8661e5",
   "metadata": {},
   "outputs": [
    {
     "name": "stdout",
     "output_type": "stream",
     "text": [
      "목표 키워드 : 반팔\n",
      "검색완료. 현재 페이지 타이틀 :  반팔 | 무신사 추천 상품\n"
     ]
    }
   ],
   "source": [
    "from selenium import webdriver\n",
    "from selenium.webdriver.chrome.service import Service\n",
    "from selenium.webdriver.chrome.options import Options\n",
    "from selenium.webdriver.common.by import By # 특정 선택자로 값을 찾아옴.\n",
    "from selenium.webdriver.common.keys import Keys #명령어 넣을때\n",
    "from webdriver_manager.chrome import ChromeDriverManager\n",
    "import time\n",
    "\n",
    "service = Service(ChromeDriverManager().install())\n",
    "options = Options()\n",
    "#options.add_argument('--headless') #headless를 쓰지 않으면 Grapic 소스가 불필요하게 충돌할 수 있음\n",
    "#options.add_argument('--disable-gpu') #셀레니움 사용시, headless를 사용하지 않으면 브라우저가 켜짐. Gpu 실행. 이런 비효율성을 상대 페이지에서는 감지가 가능함. headless 사용시 사용하면 좋음\n",
    "options.add_argument('--disable-dev-shm-usage') #로컬컴퓨터 메모리쓰기\n",
    "options.add_argument('--window-size=1920x1080')\n",
    "options.add_argument('--start-maximized') #반응형 페이지 방어\n",
    "options.add_argument(\"--user-agent=Mozilla/5.0 (Windows NT 10.0; Win64; x64) AppleWebKit/537.36 (KHTML, like Gecko) Chrome/138.0.0.0 Safari/537.36\")\n",
    "options.add_argument('--lang=ko_KR')\n",
    "\n",
    "driver = webdriver.Chrome(service=service, options=options) #드라이버 실행\n",
    "\n",
    "driver.get(\"https://www.musinsa.com/main/musinsa/recommend?gf=A\")\n",
    "time.sleep(3)\n",
    "\n",
    "#검색버튼 누르게하기\n",
    "search_button = driver.find_element(By.CLASS_NAME,\"sc-dzagxs-2\")\n",
    "search_button.click()\n",
    "time.sleep(2)\n",
    "\n",
    "# 반팔버튼 누르기 - 순위가 \n",
    "popular_keywords = driver.find_elements(By.CSS_SELECTOR,\".search-home-popular-wrap .sc-1xzm8bl-1\")\n",
    "target_keyword = popular_keywords[2].text\n",
    "print(\"목표 키워드 :\", target_keyword)\n",
    "\n",
    "#반팔 텍스트 검색어에 넣기\n",
    "search_input = driver.find_element(By.CLASS_NAME,\"search-home-search-bar-keyword\")\n",
    "search_input.clear()\n",
    "search_input.send_keys(target_keyword) # 이 코드로 텍스트도 칠 수 있음!\n",
    "time.sleep(1)\n",
    "#엔터키를 자동으로 치게하기\n",
    "search_input.send_keys(Keys.RETURN)\n",
    "time.sleep(5)\n",
    "\n",
    "print(\"검색완료. 현재 페이지 타이틀 : \", driver.title)\n",
    "\n",
    "time.sleep(2)\n",
    "driver.quit()"
   ]
  },
  {
   "cell_type": "markdown",
   "id": "b3acd071-829a-491c-9e2b-af8e816e0666",
   "metadata": {},
   "source": [
    "## 무신사 크롤링 2 "
   ]
  },
  {
   "cell_type": "code",
   "execution_count": 1,
   "id": "79b2f9ce-4ce5-41b5-a54f-5352e2c772ef",
   "metadata": {
    "scrolled": true
   },
   "outputs": [
    {
     "name": "stdout",
     "output_type": "stream",
     "text": [
      "목표 키워드 : 반팔\n",
      "검색완료. 현재 페이지 타이틀 :  반팔 | 무신사 추천 상품\n",
      "[{'상품명': 'Austin 반팔 티셔츠', 'URL': 'https://www.musinsa.com/products/5123733', '리뷰수': 23}, {'상품명': '오버 핏 스트라이프 티셔츠_블루', 'URL': 'https://www.musinsa.com/products/4168334', '리뷰수': 4}, {'상품명': '리본 셔링 오프숄더 티셔츠 백멜란지', 'URL': 'https://www.musinsa.com/products/4903054', '리뷰수': 43}, {'상품명': 'BRUSH FADING HALF SLEEVE T-SHIRTS (BLACK)', 'URL': 'https://www.musinsa.com/products/3249016', '리뷰수': 4}, {'상품명': '먼데이루틴 브로콜리 반팔티셔츠_화이트', 'URL': 'https://www.musinsa.com/products/2463159', '리뷰수': 656}, {'상품명': 'ROCK STAR APPLIQUE TEE WHITE(MG2FMMT546A)', 'URL': 'https://www.musinsa.com/products/5161178', '리뷰수': 2}, {'상품명': '어드벤쳐 폰트 피그먼트 오버핏 반팔티셔츠 다크그레이 FST705', 'URL': 'https://www.musinsa.com/products/2004196', '리뷰수': 2}, {'상품명': '[반팔ver]나그랑뒷반팔티셔츠(PBE03S-WHTW004)', 'URL': 'https://www.musinsa.com/products/4943233', '리뷰수': 83}, {'상품명': '짱구 액션가면 반팔 야광티셔츠', 'URL': 'https://www.musinsa.com/products/4112489', '리뷰수': 40}, {'상품명': '우먼즈 B.LIFE 오버핏 반팔티', 'URL': 'https://www.musinsa.com/products/4221411', '리뷰수': 106}, {'상품명': '냥이가 지켜보고 있다 티셔츠 [화이트]', 'URL': 'https://www.musinsa.com/products/3203072', '리뷰수': 500}, {'상품명': '15MIN 쿼터 팀플레이 그래픽 로고 반팔티 화이트 블루', 'URL': 'https://www.musinsa.com/products/4040040', '리뷰수': 277}, {'상품명': 'Big Logo Compil 그래픽 티셔츠 - 8 컬러', 'URL': 'https://www.musinsa.com/products/4241528', '리뷰수': 83}, {'상품명': '[2PACK] 20수 크루넥 반팔 티셔츠', 'URL': 'https://www.musinsa.com/products/5169536', '리뷰수': 7}, {'상품명': '[SET] 슈퍼 노바 클럽 로고 오버핏 원턱 버뮤다 팬츠 셋업', 'URL': 'https://www.musinsa.com/products/5140065', '리뷰수': 12}, {'상품명': 'Summer Butteree Over-fit Top - White Melange', 'URL': 'https://www.musinsa.com/products/5216143', '리뷰수': 1}, {'상품명': 'MLB LA 다저스 월드시리즈 챔피언 티셔츠 화이트 14700229', 'URL': 'https://www.musinsa.com/products/4853881', '리뷰수': 24}, {'상품명': 'C12 두줄 테이프 래글런 반팔티', 'URL': 'https://www.musinsa.com/products/5097928', '리뷰수': 14}, {'상품명': 'NT7UR81C 여성 리커버리 세미 크롭 WHITE', 'URL': 'https://www.musinsa.com/products/5201061', '리뷰수': 1}, {'상품명': '코튼 골든플리스 로고 티셔츠 (화이트) (BBNPMF8037A)', 'URL': 'https://www.musinsa.com/products/5076506', '리뷰수': 4}, {'상품명': '씬 스트라이프 롤 업 포켓 헨리넥 반팔 티셔츠_블랙', 'URL': 'https://www.musinsa.com/products/5121091', '리뷰수': 70}, {'상품명': 'Ribbon Printed Slim Ringer T-shirt Ivory', 'URL': 'https://www.musinsa.com/products/5038896', '리뷰수': 58}, {'상품명': '링거송티', 'URL': 'https://www.musinsa.com/products/5076998', '리뷰수': 305}, {'상품명': 'WESTERN PATCH HALF SLEEVE TEE (WHITE)', 'URL': 'https://www.musinsa.com/products/5045088', '리뷰수': 39}, {'상품명': 'OHPxRAWFITTER4 b훅키퍼 세미오버 반팔티', 'URL': 'https://www.musinsa.com/products/5126989', '리뷰수': 24}, {'상품명': '[2PACK]쿨 린넨라이크 숏 슬리브 니트 SET', 'URL': 'https://www.musinsa.com/products/3202529', '리뷰수': 2}, {'상품명': 'HIDE AWAY T-SHIRT in D/Grey VW2ME124-13', 'URL': 'https://www.musinsa.com/products/2568914', '리뷰수': 461}, {'상품명': '우먼 풋볼 클럽 MESH 유니폼 반팔티셔츠 BPBTS727F', 'URL': 'https://www.musinsa.com/products/5011668', '리뷰수': 20}, {'상품명': 'NY FLAG V-NECK KNIT IVORY', 'URL': 'https://www.musinsa.com/products/5028380', '리뷰수': 48}, {'상품명': '베이스볼 나일론 숏슬리브 블랙/차콜', 'URL': 'https://www.musinsa.com/products/4101463', '리뷰수': 2}, {'상품명': 'HAPPY 패치워크 반팔티셔츠 네이비', 'URL': 'https://www.musinsa.com/products/5118268', '리뷰수': 14}, {'상품명': '[Mmlg] 19MG HF-T (EVERY WHITE)', 'URL': 'https://www.musinsa.com/products/747950', '리뷰수': 9}, {'상품명': '옐로우 타이다이 멀티 절개 반팔 티셔츠', 'URL': 'https://www.musinsa.com/products/4080347', '리뷰수': 2}, {'상품명': '우먼즈 리브드 슬림 핏 반팔 티셔츠 [화이트]', 'URL': 'https://www.musinsa.com/products/1396885', '리뷰수': 1}, {'상품명': '하프 오프숄더 버튼 티셔츠 ( 화이트 )', 'URL': 'https://www.musinsa.com/products/5118761', '리뷰수': 2}, {'상품명': 'D. BASIC RINGER U NECK T - 8 COLOR', 'URL': 'https://www.musinsa.com/products/3269239', '리뷰수': 53}, {'상품명': '[3COLOR] BASIC U NECK', 'URL': 'https://www.musinsa.com/products/2611627', '리뷰수': 1}, {'상품명': '[노티카 x 인세인개러지] 그래픽 자수 티셔츠', 'URL': 'https://www.musinsa.com/products/3959262', '리뷰수': 200}, {'상품명': '럭비 메쉬 져지 반팔 티셔츠_화이트', 'URL': 'https://www.musinsa.com/products/4043184', '리뷰수': 168}, {'상품명': '오버핏 래글런 트랙 라인 반팔 티셔츠 스타로고 버건디', 'URL': 'https://www.musinsa.com/products/4976670', '리뷰수': 92}, {'상품명': 'American Flag Printing T-shirt / WHRPF4806U', 'URL': 'https://www.musinsa.com/products/5048057', '리뷰수': 1}, {'상품명': 'MOT SERIES TEE(RIDE THE COAST)_OFF WHITE', 'URL': 'https://www.musinsa.com/products/5029936', '리뷰수': 323}, {'상품명': 'ARCH CHARMING CAT 쿨 코튼 오버핏 반팔(SISSTD-0040)', 'URL': 'https://www.musinsa.com/products/3294589', '리뷰수': 6}, {'상품명': '[20수] HAPPY PUPPY 반팔티 화이트', 'URL': 'https://www.musinsa.com/products/3148500', '리뷰수': 322}, {'상품명': 'COOL 오버핏 미니와펜 피케 반팔 티셔츠_3COLOR', 'URL': 'https://www.musinsa.com/products/4043167', '리뷰수': 38}, {'상품명': 'EL 데이지 ver2 반팔티셔츠 4Color', 'URL': 'https://www.musinsa.com/products/4859083', '리뷰수': 192}, {'상품명': '봉봉이 레귤러 or 오버 티셔츠 2colors', 'URL': 'https://www.musinsa.com/products/4010800', '리뷰수': 821}, {'상품명': 'VINTAGE ARTWORK TEE_burgundy', 'URL': 'https://www.musinsa.com/products/5008870', '리뷰수': 89}, {'상품명': 'Renee Square Neck Slim T-Shirt - 5COL', 'URL': 'https://www.musinsa.com/products/4122895', '리뷰수': 94}, {'상품명': '레더 포인트 시그니처 반팔 티', 'URL': 'https://www.musinsa.com/products/4230190', '리뷰수': 44}, {'상품명': '후드 셔링 시스루 나시 레이어드 롱 슬림 반팔 티셔츠_ 2COLOR', 'URL': 'https://www.musinsa.com/products/5114155', '리뷰수': 3}, {'상품명': 'SM GLITTER OFFSHOULDER TEE(2COLOR)', 'URL': 'https://www.musinsa.com/products/4993203', '리뷰수': 27}, {'상품명': 'VLAD 피그먼트 슬래쉬 반팔 티셔츠_차콜', 'URL': 'https://www.musinsa.com/products/4055771', '리뷰수': 2}, {'상품명': 'HUH!! TEE [PIGMENT BLACK]', 'URL': 'https://www.musinsa.com/products/5089261', '리뷰수': 15}, {'상품명': '루즈핏 스트라이프 반팔티 ( 4Color )', 'URL': 'https://www.musinsa.com/products/5033155', '리뷰수': 277}, {'상품명': '체크 스트랩 오프숄더 숏슬리브', 'URL': 'https://www.musinsa.com/products/5094115', '리뷰수': 37}, {'상품명': 'W Love Your Sunshine Tee Yellow', 'URL': 'https://www.musinsa.com/products/4969746', '리뷰수': 10}, {'상품명': '비트코인 바이브 애쉬그레이 화이트 티셔츠', 'URL': 'https://www.musinsa.com/products/4185756', '리뷰수': 17}, {'상품명': '[먼작귀] 우리는 먼가 귀여운 녀석들 반팔 티셔츠(BLUE)_SPRLF49U11', 'URL': 'https://www.musinsa.com/products/5287796', '리뷰수': 2}, {'상품명': '빈티지 카세트 테이프 티셔츠_오트베이지', 'URL': 'https://www.musinsa.com/products/4011727', '리뷰수': 68}, {'상품명': '키튼 패치 피그먼트 반팔티 브라운', 'URL': 'https://www.musinsa.com/products/4949728', '리뷰수': 290}, {'상품명': 'ICE LITE 초냉감 세미오버핏 티셔츠', 'URL': 'https://www.musinsa.com/products/3905969', '리뷰수': 115}, {'상품명': 'POLY SMALL LOGO SHORT SLEEVE_32YA5B21', 'URL': 'https://www.musinsa.com/products/4679668', '리뷰수': 60}, {'상품명': '얼터네이트 스트라이프 티 블루', 'URL': 'https://www.musinsa.com/products/4135354', '리뷰수': 426}, {'상품명': '[2PACK] 소프트 보트넥 7부 숏 슬리브 (10 Color)', 'URL': 'https://www.musinsa.com/products/5033314', '리뷰수': 91}, {'상품명': 'BLOKE 메쉬 반팔 티셔츠 블루(UQ221CRS51)', 'URL': 'https://www.musinsa.com/products/5041978', '리뷰수': 3}]\n"
     ]
    }
   ],
   "source": [
    "from selenium import webdriver\n",
    "from selenium.webdriver.chrome.service import Service\n",
    "from selenium.webdriver.chrome.options import Options\n",
    "from selenium.webdriver.common.by import By # 특정 선택자로 값을 찾아옴.\n",
    "from selenium.webdriver.common.keys import Keys #명령어 넣을때\n",
    "from webdriver_manager.chrome import ChromeDriverManager\n",
    "import time\n",
    "import re # re : 어떤 값을 제거하는 remove 객체!\n",
    "\n",
    "service = Service(ChromeDriverManager().install())\n",
    "options = Options()\n",
    "#options.add_argument('--headless') #headless를 쓰지 않으면 Grapic 소스가 불필요하게 충돌할 수 있음\n",
    "#options.add_argument('--disable-gpu') #셀레니움 사용시, headless를 사용하지 않으면 브라우저가 켜짐. Gpu 실행. 이런 비효율성을 상대 페이지에서는 감지가 가능함. headless 사용시 사용하면 좋음\n",
    "options.add_argument('--disable-dev-shm-usage') #로컬컴퓨터 메모리쓰기\n",
    "options.add_argument('--window-size=1920x1080')\n",
    "options.add_argument('--start-maximized') #반응형 페이지 방어\n",
    "options.add_argument(\"--user-agent=Mozilla/5.0 (Windows NT 10.0; Win64; x64) AppleWebKit/537.36 (KHTML, like Gecko) Chrome/138.0.0.0 Safari/537.36\")\n",
    "options.add_argument('--lang=ko_KR')\n",
    "\n",
    "driver = webdriver.Chrome(service=service, options=options) #드라이버 실행\n",
    "\n",
    "driver.get(\"https://www.musinsa.com/main/musinsa/recommend?gf=A\")\n",
    "time.sleep(3)\n",
    "\n",
    "#검색버튼 누르게하기\n",
    "search_button = driver.find_element(By.CLASS_NAME,\"sc-dzagxs-2\")\n",
    "search_button.click()\n",
    "time.sleep(2)\n",
    "\n",
    "# 반팔버튼 누르기 - 순위가 \n",
    "popular_keywords = driver.find_elements(By.CSS_SELECTOR,\".search-home-popular-wrap .sc-1xzm8bl-1\")\n",
    "target_keyword = popular_keywords[1].text # 인기키워드 몇번째인지\n",
    "print(\"목표 키워드 :\", target_keyword)\n",
    "\n",
    "#반팔 텍스트 검색어에 넣기\n",
    "search_input = driver.find_element(By.CLASS_NAME,\"search-home-search-bar-keyword\")\n",
    "search_input.clear()\n",
    "search_input.send_keys(target_keyword)\n",
    "time.sleep(1)\n",
    "#엔터키를 자동으로 치게하기\n",
    "search_input.send_keys(Keys.RETURN)\n",
    "time.sleep(5)\n",
    "\n",
    "print(\"검색완료. 현재 페이지 타이틀 : \", driver.title)\n",
    "\n",
    "scroll_pause = 2\n",
    "#10번반복하는 동안\n",
    "for _ in range (10):\n",
    "    #스크롤 밑으로 내림\n",
    "    driver.execute_script(\"window.scrollTo(0, document.body.scrollHeight);\")\n",
    "    time.sleep(scroll_pause) #반복할때마다 2초 쉼\n",
    "\n",
    "products = driver.find_elements(By.CSS_SELECTOR,\"div.sc-d36st-1.elXjMR\")[:100] #계속찾아오는거 방지. 100개만 찾아와\n",
    "product_data = []\n",
    "\n",
    "for product in products:\n",
    "    try :\n",
    "        name = product.find_element(By.CSS_SELECTOR,\"div.sc-cMuefe.jIlLeV a.gtm-select-item span\").text.strip() #후손 선택자 : 한칸 띄우기\n",
    "        url = product.find_element(By.CSS_SELECTOR,\"div.sc-cMuefe.jIlLeV a.gtm-select-item\").get_attribute(\"href\") #속성값에 a 값인 url 넣어서 가져오기\n",
    "        review_info = product.find_elements(By.CSS_SELECTOR,\"span.text-etc_11px_reg.text-yellow.font-pretendard\")[1].text.strip() #리뷰 평점 찾기\n",
    "        review_count = int(re.sub(r\"[^\\d]\",\"\",review_info)) if review_info else 0  # review_info에 리뷰 값이 있으면 값을 주고 없으면 0을 준다.\n",
    "        # r = 정규표현식을 쓰겠다. ^\\d ^반대 \\d 는 숫자! 숫자가 아닌 것을 \"\"(빈값)으로 sub(대체해라)\n",
    "        product_data.append({\"상품명\": name, \"URL\": url, \"리뷰수\" : review_count})\n",
    "    except :\n",
    "        continue\n",
    "        \n",
    "print(product_data)\n",
    "\n",
    "driver.quit()"
   ]
  },
  {
   "cell_type": "markdown",
   "id": "cf328b6c-d3e8-4ff3-b442-7b781a506406",
   "metadata": {},
   "source": [
    "## 판다스 쓰기"
   ]
  },
  {
   "cell_type": "code",
   "execution_count": 17,
   "id": "2ff6b810-fa6e-4d86-8ef0-b2d87f7d58e1",
   "metadata": {
    "scrolled": true
   },
   "outputs": [
    {
     "name": "stdout",
     "output_type": "stream",
     "text": [
      "목표 키워드 : 반팔\n",
      "검색완료. 현재 페이지 타이틀 :  반팔 | 무신사 추천 상품\n"
     ]
    },
    {
     "data": {
      "text/html": [
       "<div>\n",
       "<style scoped>\n",
       "    .dataframe tbody tr th:only-of-type {\n",
       "        vertical-align: middle;\n",
       "    }\n",
       "\n",
       "    .dataframe tbody tr th {\n",
       "        vertical-align: top;\n",
       "    }\n",
       "\n",
       "    .dataframe thead th {\n",
       "        text-align: right;\n",
       "    }\n",
       "</style>\n",
       "<table border=\"1\" class=\"dataframe\">\n",
       "  <thead>\n",
       "    <tr style=\"text-align: right;\">\n",
       "      <th></th>\n",
       "      <th>상품명</th>\n",
       "      <th>URL</th>\n",
       "      <th>리뷰수</th>\n",
       "    </tr>\n",
       "  </thead>\n",
       "  <tbody>\n",
       "    <tr>\n",
       "      <th>0</th>\n",
       "      <td>DOTTY RIBBON SHIRRING T-SHIRT_RED</td>\n",
       "      <td>https://www.musinsa.com/products/5082524</td>\n",
       "      <td>22</td>\n",
       "    </tr>\n",
       "    <tr>\n",
       "      <th>1</th>\n",
       "      <td>OUTER HEART TEE (BURGUNDY)</td>\n",
       "      <td>https://www.musinsa.com/products/4249776</td>\n",
       "      <td>7</td>\n",
       "    </tr>\n",
       "    <tr>\n",
       "      <th>2</th>\n",
       "      <td>로고 라인업 피그먼트 반팔티 크림</td>\n",
       "      <td>https://www.musinsa.com/products/3182326</td>\n",
       "      <td>3</td>\n",
       "    </tr>\n",
       "    <tr>\n",
       "      <th>3</th>\n",
       "      <td>[170g] 빅 로고 반팔 티 (JR5TSU091WH)</td>\n",
       "      <td>https://www.musinsa.com/products/1090694</td>\n",
       "      <td>2</td>\n",
       "    </tr>\n",
       "  </tbody>\n",
       "</table>\n",
       "</div>"
      ],
      "text/plain": [
       "                                 상품명  \\\n",
       "0  DOTTY RIBBON SHIRRING T-SHIRT_RED   \n",
       "1         OUTER HEART TEE (BURGUNDY)   \n",
       "2                 로고 라인업 피그먼트 반팔티 크림   \n",
       "3     [170g] 빅 로고 반팔 티 (JR5TSU091WH)   \n",
       "\n",
       "                                        URL  리뷰수  \n",
       "0  https://www.musinsa.com/products/5082524   22  \n",
       "1  https://www.musinsa.com/products/4249776    7  \n",
       "2  https://www.musinsa.com/products/3182326    3  \n",
       "3  https://www.musinsa.com/products/1090694    2  "
      ]
     },
     "execution_count": 17,
     "metadata": {},
     "output_type": "execute_result"
    }
   ],
   "source": [
    "from selenium import webdriver\n",
    "from selenium.webdriver.chrome.service import Service\n",
    "from selenium.webdriver.chrome.options import Options\n",
    "from selenium.webdriver.common.by import By # 특정 선택자로 값을 찾아옴.\n",
    "from selenium.webdriver.common.keys import Keys #명령어 넣을때\n",
    "from webdriver_manager.chrome import ChromeDriverManager\n",
    "import pandas as pd #판다스 가져오고 pd라는 이름으로 쓴다\n",
    "import time\n",
    "import re # re : 어떤 값을 제거하는 remove 객체!\n",
    "\n",
    "service = Service(ChromeDriverManager().install())\n",
    "options = Options()\n",
    "#options.add_argument('--headless') #headless를 쓰지 않으면 Grapic 소스가 불필요하게 충돌할 수 있음\n",
    "#options.add_argument('--disable-gpu') #셀레니움 사용시, headless를 사용하지 않으면 브라우저가 켜짐. Gpu 실행. 이런 비효율성을 상대 페이지에서는 감지가 가능함. headless 사용시 사용하면 좋음\n",
    "options.add_argument('--disable-dev-shm-usage') #로컬컴퓨터 메모리쓰기\n",
    "options.add_argument('--window-size=1920x1080')\n",
    "options.add_argument('--start-maximized') #반응형 페이지 방어\n",
    "options.add_argument(\"--user-agent=Mozilla/5.0 (Windows NT 10.0; Win64; x64) AppleWebKit/537.36 (KHTML, like Gecko) Chrome/138.0.0.0 Safari/537.36\")\n",
    "options.add_argument('--lang=ko_KR')\n",
    "\n",
    "driver = webdriver.Chrome(service=service, options=options) #드라이버 실행\n",
    "\n",
    "driver.get(\"https://www.musinsa.com/main/musinsa/recommend?gf=A\")\n",
    "time.sleep(3)\n",
    "\n",
    "#검색버튼 누르게하기\n",
    "search_button = driver.find_element(By.CLASS_NAME,\"sc-dzagxs-2\")\n",
    "search_button.click()\n",
    "time.sleep(2)\n",
    "\n",
    "# 반팔버튼 누르기 - 순위가 \n",
    "popular_keywords = driver.find_elements(By.CSS_SELECTOR,\".search-home-popular-wrap .sc-1xzm8bl-1\")\n",
    "target_keyword = popular_keywords[2].text\n",
    "print(\"목표 키워드 :\", target_keyword)\n",
    "\n",
    "#반팔 텍스트 검색어에 넣기\n",
    "search_input = driver.find_element(By.CLASS_NAME,\"search-home-search-bar-keyword\")\n",
    "search_input.clear()\n",
    "search_input.send_keys(target_keyword)\n",
    "time.sleep(1)\n",
    "#엔터키를 자동으로 치게하기\n",
    "search_input.send_keys(Keys.RETURN)\n",
    "time.sleep(5)\n",
    "\n",
    "print(\"검색완료. 현재 페이지 타이틀 : \", driver.title)\n",
    "\n",
    "scroll_pause = 2\n",
    "#10번반복하는 동안\n",
    "for _ in range (10):\n",
    "    #스크롤 밑으로 내림\n",
    "    driver.execute_script(\"window.scrollTo(0, document.body.scrollHeight);\")\n",
    "    time.sleep(scroll_pause) #반복할때마다 2초 쉼\n",
    "\n",
    "products = driver.find_elements(By.CSS_SELECTOR,\"div.sc-d36st-1.elXjMR\")[:100] #계속찾아오는거 방지. 100개만 찾아와\n",
    "product_data = []\n",
    "\n",
    "for product in products:\n",
    "    try :\n",
    "        name = product.find_element(By.CSS_SELECTOR,\"div.sc-cMuefe.jIlLeV a.gtm-select-item span\").text.strip() #후손 선택자 : 한칸 띄우기\n",
    "        url = product.find_element(By.CSS_SELECTOR,\"div.sc-cMuefe.jIlLeV a.gtm-select-item\").get_attribute(\"href\") #속성값에 a 값인 url 넣어서 가져오기\n",
    "        review_info = product.find_elements(By.CSS_SELECTOR,\"span.text-etc_11px_reg.text-yellow.font-pretendard\")[1].text.strip() #리뷰 평점 찾기\n",
    "        review_count = int(re.sub(r\"[^\\d]\",\"\",review_info)) if review_info else 0  # review_info에 리뷰 값이 있으면 값을 주고 없으면 0을 준다.\n",
    "        # r = 정규표현식을 쓰겠다. ^\\d ^반대 \\d 는 숫자! 숫자가 아닌 것을 \"\"(빈값)으로 sub(대체해라)\n",
    "        product_data.append({\"상품명\": name, \"URL\": url, \"리뷰수\" : review_count})\n",
    "    except :\n",
    "        continue\n",
    "# 판다스!!!!!!!!###############################################\n",
    "df = pd.DataFrame(product_data)\n",
    "df_top30 = df.sort_values(by=\"리뷰수\", ascending=False).head(30).reset_index(drop=True) \n",
    "#리뷰수를 기준으로 sorting을 시킴, ascending 시키지마라 = 내림차순, 30개 잘라라, 나머지는 버려라\n",
    "\n",
    "driver.quit()\n",
    "df_top30.head()"
   ]
  },
  {
   "cell_type": "code",
   "execution_count": null,
   "id": "e81e889b-81ff-4a2e-8aa1-2f775a50da2e",
   "metadata": {},
   "outputs": [],
   "source": []
  },
  {
   "cell_type": "markdown",
   "id": "de0cf842-47c0-4986-9cbd-8d7130fa831c",
   "metadata": {},
   "source": [
    "## 진짜 리뷰(텍스트)들을 추출하는 방법 "
   ]
  },
  {
   "cell_type": "code",
   "execution_count": null,
   "id": "e6f0f9e8-af81-4ce6-b3f5-8b278eb3eb63",
   "metadata": {},
   "outputs": [],
   "source": [
    "from openpyxl import Workbook"
   ]
  },
  {
   "cell_type": "code",
   "execution_count": 18,
   "id": "85374e63-8890-46ec-bd73-8d76127c1beb",
   "metadata": {},
   "outputs": [
    {
     "name": "stdout",
     "output_type": "stream",
     "text": [
      "1번째 상품리뷰 수집 중 : {'DOTTY RIBBON SHIRRING T-SHIRT_RED'}\n",
      "2번째 상품리뷰 수집 중 : {'OUTER HEART TEE (BURGUNDY)'}\n",
      "3번째 상품리뷰 수집 중 : {'로고 라인업 피그먼트 반팔티 크림'}\n",
      "4번째 상품리뷰 수집 중 : {'[170g] 빅 로고 반팔 티 (JR5TSU091WH)'}\n",
      "⭐엑셀 저장완료 : musinsa_top30_reviews.xlsx\n"
     ]
    }
   ],
   "source": [
    "from openpyxl import Workbook\n",
    "######################리뷰 텍스트들 추출 ###################################\n",
    "# 1, 위에 openpyxl!\n",
    "driver = webdriver.Chrome(service=service, options=options)\n",
    "all_reviews = []\n",
    "\n",
    "for idx, row in df_top30.iterrows(): #iterrows : 1개의 행을 가져오고 반복할때마다 1개의 값을 찾아오게 하는 함수\n",
    "    print(f\"{idx + 1}번째 상품리뷰 수집 중 :\", {row['상품명']})\n",
    "    driver.get(row[\"URL\"]) #row라는 행 안에 URL이라는 값에 매칭되는 애를 찾아오겠다\n",
    "    time.sleep(2)\n",
    "\n",
    "#오류 발생할 수도 있으니까 try\n",
    "    try :\n",
    "        review_tab = driver.find_element(By.XPATH,\"//button[@data-button-id='prd_review_tab']\") # id 안전빵으로 찾아오고 xpath\n",
    "        review_tab.click()\n",
    "        time.sleep(2)\n",
    "        #모든리뷰 X 한 상품당 10개정도만 스크롤해서 찾아오기\n",
    "        for _ in range(3) :\n",
    "            driver.execute_script(\"window.scrollTo(0, document.body.scrollHeight);\") \n",
    "            time.sleep(1.5)\n",
    "\n",
    "        # 스크롤할때마다 리뷰 찾아오기\n",
    "        review_elements = driver.find_elements(By.CSS_SELECTOR,\"span.text-body_13px_reg.text-black.font-pretendard\")\n",
    "        for review in review_elements[:10] :\n",
    "            text = review.text.strip()\n",
    "            if text : \n",
    "                all_reviews.append({\n",
    "                    \"상품명\" : row[\"상품명\"], #row상품명에서 가져옴\n",
    "                    \"리뷰\" : text\n",
    "                }) # 비어있는 리스트에 값추가\n",
    "\n",
    "    except Exception as e:\n",
    "        print(\"리뷰 수집 실패 : \", e)\n",
    "        continue\n",
    "\n",
    "driver.quit()\n",
    "#엑셀 저장\n",
    "wb = Workbook()\n",
    "ws = wb.active\n",
    "ws.title = \"무신사 리뷰\"\n",
    "\n",
    "ws. append([\"상품명\",\"리뷰\"])\n",
    "\n",
    "#각각의 리뷰안에 상품명 한쌍으로 만들기\n",
    "for r in all_reviews:\n",
    "    ws.append([r[\"상품명\"],r[\"리뷰\"]])\n",
    "\n",
    "wb.save(\"musinsa_top30_reviews.xlsx\")\n",
    "print(\"⭐엑셀 저장완료 : musinsa_top30_reviews.xlsx\")"
   ]
  },
  {
   "cell_type": "code",
   "execution_count": 43,
   "id": "00d50817-3695-4011-8071-0445023a0fb9",
   "metadata": {},
   "outputs": [
    {
     "name": "stdout",
     "output_type": "stream",
     "text": [
      "Requirement already satisfied: sqlalchemy in c:\\users\\pmj96\\anaconda3\\lib\\site-packages (2.0.39)Note: you may need to restart the kernel to use updated packages.\n",
      "\n",
      "Requirement already satisfied: greenlet!=0.4.17 in c:\\users\\pmj96\\anaconda3\\lib\\site-packages (from sqlalchemy) (3.1.1)\n",
      "Requirement already satisfied: typing-extensions>=4.6.0 in c:\\users\\pmj96\\anaconda3\\lib\\site-packages (from sqlalchemy) (4.14.1)\n"
     ]
    }
   ],
   "source": [
    "pip install sqlalchemy"
   ]
  },
  {
   "cell_type": "code",
   "execution_count": 11,
   "id": "8bc72e20-9812-4c38-89be-f41f932efc0a",
   "metadata": {},
   "outputs": [
    {
     "name": "stdout",
     "output_type": "stream",
     "text": [
      "⭐데이터가 MYSQL[musinsa_db_v2]의 테이블 [reviews]에 성공적으로 저장되었습니다.\n"
     ]
    }
   ],
   "source": [
    "import pymysql\n",
    "import pandas as pd\n",
    "from sqlalchemy import create_engine # sql테이블로 바로 보냄\n",
    "\n",
    "EXCEL_PATH = \"musinsa_top30_reviews_0811.xlsx\"\n",
    "DB_NAME = \"musinsa_db_v2\"\n",
    "TABLE_NAME = \"reviews\"\n",
    "USER = \"root\"\n",
    "PASSWORD = \"asdf1122\"\n",
    "HOST = \"127.0.0.1\"\n",
    "PORT = 3306\n",
    "df = pd.read_excel(EXCEL_PATH)\n",
    "\n",
    "conn = pymysql.connect(host=HOST, user = USER, password = PASSWORD, port = PORT)\n",
    "cursor = conn.cursor()\n",
    "\n",
    "cursor.execute(\n",
    "f\"CREATE DATABASE IF NOT EXISTS {DB_NAME} CHARACTER SET utf8mb4 COLLATE utf8mb4_unicode_ci;\"\n",
    ")\n",
    "conn.close()\n",
    "\n",
    "engine_str = f\"mysql+pymysql://{USER}:{PASSWORD}@{HOST}:{PORT}/{DB_NAME}?charset=utf8mb4\"\n",
    "engine = create_engine(engine_str)\n",
    "\n",
    "df.to_sql(name=TABLE_NAME, con=engine, if_exists=\"replace\", index=False)\n",
    "\n",
    "print(f\"⭐데이터가 MYSQL[{DB_NAME}]의 테이블 [{TABLE_NAME}]에 성공적으로 저장되었습니다.\")"
   ]
  },
  {
   "cell_type": "code",
   "execution_count": null,
   "id": "8bbc5f99-98a9-4f3b-ac6c-215404eafa3f",
   "metadata": {},
   "outputs": [],
   "source": [
    "# 자동화를 위해 구글 스프레드 시트로 보내야함. LIBRARY 설치! -> gspread"
   ]
  },
  {
   "cell_type": "code",
   "execution_count": 12,
   "id": "a7d846e3-f3c1-4f16-8175-08953c5aade2",
   "metadata": {},
   "outputs": [
    {
     "name": "stdout",
     "output_type": "stream",
     "text": [
      "Collecting gspread\n",
      "  Downloading gspread-6.2.1-py3-none-any.whl.metadata (11 kB)\n",
      "Collecting google-auth>=1.12.0 (from gspread)\n",
      "  Downloading google_auth-2.40.3-py2.py3-none-any.whl.metadata (6.2 kB)\n",
      "Collecting google-auth-oauthlib>=0.4.1 (from gspread)\n",
      "  Downloading google_auth_oauthlib-1.2.2-py3-none-any.whl.metadata (2.7 kB)\n",
      "Requirement already satisfied: cachetools<6.0,>=2.0.0 in c:\\users\\pmj96\\anaconda3\\lib\\site-packages (from google-auth>=1.12.0->gspread) (5.5.1)\n",
      "Requirement already satisfied: pyasn1-modules>=0.2.1 in c:\\users\\pmj96\\anaconda3\\lib\\site-packages (from google-auth>=1.12.0->gspread) (0.2.8)\n",
      "Collecting rsa<5,>=3.1.4 (from google-auth>=1.12.0->gspread)\n",
      "  Downloading rsa-4.9.1-py3-none-any.whl.metadata (5.6 kB)\n",
      "Requirement already satisfied: pyasn1>=0.1.3 in c:\\users\\pmj96\\anaconda3\\lib\\site-packages (from rsa<5,>=3.1.4->google-auth>=1.12.0->gspread) (0.4.8)\n",
      "Collecting requests-oauthlib>=0.7.0 (from google-auth-oauthlib>=0.4.1->gspread)\n",
      "  Downloading requests_oauthlib-2.0.0-py2.py3-none-any.whl.metadata (11 kB)\n",
      "Collecting oauthlib>=3.0.0 (from requests-oauthlib>=0.7.0->google-auth-oauthlib>=0.4.1->gspread)\n",
      "  Downloading oauthlib-3.3.1-py3-none-any.whl.metadata (7.9 kB)\n",
      "Requirement already satisfied: requests>=2.0.0 in c:\\users\\pmj96\\anaconda3\\lib\\site-packages (from requests-oauthlib>=0.7.0->google-auth-oauthlib>=0.4.1->gspread) (2.32.3)\n",
      "Requirement already satisfied: charset-normalizer<4,>=2 in c:\\users\\pmj96\\anaconda3\\lib\\site-packages (from requests>=2.0.0->requests-oauthlib>=0.7.0->google-auth-oauthlib>=0.4.1->gspread) (3.3.2)\n",
      "Requirement already satisfied: idna<4,>=2.5 in c:\\users\\pmj96\\anaconda3\\lib\\site-packages (from requests>=2.0.0->requests-oauthlib>=0.7.0->google-auth-oauthlib>=0.4.1->gspread) (3.7)\n",
      "Requirement already satisfied: urllib3<3,>=1.21.1 in c:\\users\\pmj96\\anaconda3\\lib\\site-packages (from requests>=2.0.0->requests-oauthlib>=0.7.0->google-auth-oauthlib>=0.4.1->gspread) (2.5.0)\n",
      "Requirement already satisfied: certifi>=2017.4.17 in c:\\users\\pmj96\\anaconda3\\lib\\site-packages (from requests>=2.0.0->requests-oauthlib>=0.7.0->google-auth-oauthlib>=0.4.1->gspread) (2025.6.15)\n",
      "Downloading gspread-6.2.1-py3-none-any.whl (59 kB)\n",
      "Downloading google_auth-2.40.3-py2.py3-none-any.whl (216 kB)\n",
      "Downloading rsa-4.9.1-py3-none-any.whl (34 kB)\n",
      "Downloading google_auth_oauthlib-1.2.2-py3-none-any.whl (19 kB)\n",
      "Downloading requests_oauthlib-2.0.0-py2.py3-none-any.whl (24 kB)\n",
      "Downloading oauthlib-3.3.1-py3-none-any.whl (160 kB)\n",
      "Installing collected packages: rsa, oauthlib, requests-oauthlib, google-auth, google-auth-oauthlib, gspread\n",
      "\n",
      "   ---------------------------------------- 0/6 [rsa]\n",
      "   ---------------------------------------- 0/6 [rsa]\n",
      "   ------ --------------------------------- 1/6 [oauthlib]\n",
      "   ------ --------------------------------- 1/6 [oauthlib]\n",
      "   ------ --------------------------------- 1/6 [oauthlib]\n",
      "   ------ --------------------------------- 1/6 [oauthlib]\n",
      "   ------ --------------------------------- 1/6 [oauthlib]\n",
      "   ------------- -------------------------- 2/6 [requests-oauthlib]\n",
      "   -------------------- ------------------- 3/6 [google-auth]\n",
      "   -------------------- ------------------- 3/6 [google-auth]\n",
      "   -------------------- ------------------- 3/6 [google-auth]\n",
      "   -------------------- ------------------- 3/6 [google-auth]\n",
      "   -------------------- ------------------- 3/6 [google-auth]\n",
      "   -------------------------- ------------- 4/6 [google-auth-oauthlib]\n",
      "   --------------------------------- ------ 5/6 [gspread]\n",
      "   --------------------------------- ------ 5/6 [gspread]\n",
      "   ---------------------------------------- 6/6 [gspread]\n",
      "\n",
      "Successfully installed google-auth-2.40.3 google-auth-oauthlib-1.2.2 gspread-6.2.1 oauthlib-3.3.1 requests-oauthlib-2.0.0 rsa-4.9.1\n",
      "Note: you may need to restart the kernel to use updated packages.\n"
     ]
    }
   ],
   "source": [
    "pip install gspread"
   ]
  },
  {
   "cell_type": "code",
   "execution_count": null,
   "id": "96b155d0-577c-4931-8ca3-a082e8a5a913",
   "metadata": {},
   "outputs": [],
   "source": [
    "# 구글은 외부에서 컨트을 하려고 할 떄, 우리의 존재를 인증하면 구글이 접근을 허용해줌! 인증을 도와주는 LIBRARY -> oauth2client"
   ]
  },
  {
   "cell_type": "code",
   "execution_count": 14,
   "id": "2db3b257-2af9-49d0-bbfe-0b7d380bde48",
   "metadata": {},
   "outputs": [
    {
     "name": "stdout",
     "output_type": "stream",
     "text": [
      "Collecting oauth2client\n",
      "  Downloading oauth2client-4.1.3-py2.py3-none-any.whl.metadata (1.2 kB)\n",
      "Collecting httplib2>=0.9.1 (from oauth2client)\n",
      "  Downloading httplib2-0.22.0-py3-none-any.whl.metadata (2.6 kB)\n",
      "Requirement already satisfied: pyasn1>=0.1.7 in c:\\users\\pmj96\\anaconda3\\lib\\site-packages (from oauth2client) (0.4.8)\n",
      "Requirement already satisfied: pyasn1-modules>=0.0.5 in c:\\users\\pmj96\\anaconda3\\lib\\site-packages (from oauth2client) (0.2.8)\n",
      "Requirement already satisfied: rsa>=3.1.4 in c:\\users\\pmj96\\anaconda3\\lib\\site-packages (from oauth2client) (4.9.1)\n",
      "Requirement already satisfied: six>=1.6.1 in c:\\users\\pmj96\\anaconda3\\lib\\site-packages (from oauth2client) (1.17.0)\n",
      "Requirement already satisfied: pyparsing!=3.0.0,!=3.0.1,!=3.0.2,!=3.0.3,<4,>=2.4.2 in c:\\users\\pmj96\\anaconda3\\lib\\site-packages (from httplib2>=0.9.1->oauth2client) (3.2.0)\n",
      "Downloading oauth2client-4.1.3-py2.py3-none-any.whl (98 kB)\n",
      "Downloading httplib2-0.22.0-py3-none-any.whl (96 kB)\n",
      "Installing collected packages: httplib2, oauth2client\n",
      "\n",
      "   -------------------- ------------------- 1/2 [oauth2client]\n",
      "   -------------------- ------------------- 1/2 [oauth2client]\n",
      "   ---------------------------------------- 2/2 [oauth2client]\n",
      "\n",
      "Successfully installed httplib2-0.22.0 oauth2client-4.1.3\n",
      "Note: you may need to restart the kernel to use updated packages.\n"
     ]
    }
   ],
   "source": [
    "pip install oauth2client"
   ]
  },
  {
   "cell_type": "code",
   "execution_count": null,
   "id": "496c928c-77b4-419c-a3ed-c6dfa68d7279",
   "metadata": {},
   "outputs": [],
   "source": [
    "# gspread 로 데이터를 보낼 때 형태소 분석을 해달라고 할 것! keyword추츨을 위해!"
   ]
  },
  {
   "cell_type": "code",
   "execution_count": 21,
   "id": "8a79b67d-ddc0-4dcf-8ddb-086cf09bd402",
   "metadata": {},
   "outputs": [
    {
     "name": "stdout",
     "output_type": "stream",
     "text": [
      "⭐구글 스프레드시트의 원본 + 키워드 분석자료 업데이트 완료\n"
     ]
    }
   ],
   "source": [
    "from konlpy.tag import Okt\n",
    "from oauth2client.service_account import ServiceAccountCredentials # 구글이 운영하는 API를 가져와서 검증된 사용자임을 인증!\n",
    "import gspread # 구글 스프레드 시트에 접근할 수 있도록!\n",
    "import pandas as pd\n",
    "\n",
    "# dataframe요소에 엑셀을 판다스에 넣기!\n",
    "df = pd.read_excel(\"musinsa_top30_reviews_0811.xlsx\")\n",
    "#형태소 분석하기 함수활용\n",
    "okt = Okt() \n",
    "# 리뷰에 있는 값만 찾아오기\n",
    "# \"리뷰\"라는 필드명의 컬럼 값을 찾아오게 할 수 있음! 'apply' -> 적용하다!\n",
    "df[\"리뷰_키워드\"] = df[\"리뷰\"].apply(lambda x: \", \".join(okt.nouns(str(x)))) \n",
    "#                ↳ lambda x : 리뷰 컬럼의 각 행(row)을 하나씩 함수에 전달, 'join' : 이 리스트를 쉼표로 구분된 하나의 문자열로 변환\n",
    "#                ↳ okt.nouns()는 텍스트에서 명사만 추출하여 리스트로 반환, 'str': 숫자로 들어온 값도 문자로 변환\n",
    "#                ↳ 쪼개진 명사를 ,를 중심으로 구분지어서 하나의 문자열로 만들어줌.\n",
    "#                ↳ 다음 열에 리뷰_키워드로 각 값들을 하나씩 넣음!!!\n",
    "\n",
    "######구글 스프레드 시트를 사용하기 위해 구글에 인증 받기!\n",
    "\n",
    "scope = [\"https://spreadsheets.google.com/feeds\",\"https://www.googleapis.com/auth/drive\"]\n",
    "# scope는 구글 API에 접근할 수 있는 권한 범위를 정의\n",
    "# 스프레드시트와 드라이브 접근 권한을 요청하는 것이며, URL이 아닌 권한 범위\n",
    "\n",
    "creds = ServiceAccountCredentials.from_json_keyfile_name(\"fine-arbor-468703-s6-70517b51b42c.json\",scope) \n",
    "# 인증절차를 받아오는 결과 값을 받아오기.구글 클라우드 콘솔에서 생성한 서비스 계정 키, \n",
    "# scope와 함께 사용하여 구글 API에 접근 권한을 얻음\n",
    "\n",
    "client = gspread.authorize(creds)\n",
    "# 인증을 받아오는 역할 인증받은 'creds'를 통해 구글 스프레드 시트의 인증을 받음!\n",
    "\n",
    "# client가 가지고 있는 \"무신사 리뷰 분석_v1\" 스프레드시트를 열기\n",
    "spreadsheet = client.open(\"무신사 리뷰 분석_v1\")\n",
    "# spreadsheet의 첫 번째 시트를 가져오는 속성 = spreadsheet.worksheet(\"시트이름\")\n",
    "sheet1 = spreadsheet.sheet1\n",
    "# sheet1를 초기화시킴\n",
    "sheet1.clear()\n",
    "#sheet1에 값을 추가한다! = 두 리스트를 합쳐서 헤더와 데이터를 함께 시트에 update! \n",
    "#각각의 데이터프레임의 columns 이름을 리스트로 변환 \n",
    "# + 데이터프레임의 모든 값을 리스트의 리스트 형태로 변환\n",
    "sheet1.update([df.columns.values.tolist()] + df.values.tolist())\n",
    "\n",
    "\n",
    "# try-except 블록은 \"키워드 분석\" 시트가 이미 존재하는 경우 에러를 방지\n",
    "try:\n",
    "    # 기존의 것은 놔두고 스프레드 시트에 새로운 값을 추가하겠다. 제목은 \"키워드 분석\" 행은 1000개 열은 20개\n",
    "    spreadsheet.add_worksheet(title=\"키워드 분석\", rows=\"1000\",cols=\"20\")\n",
    "except :\n",
    "    # 없으면 패스!\n",
    "    pass\n",
    "\n",
    "#시트2번 생성!\n",
    "sheet2 = spreadsheet.worksheet(\"키워드 분석\")\n",
    "sheet2.clear()\n",
    "#sheet2에 값추가!\n",
    "sheet2.update([[\"상품명\", \"리뷰\", \"리뷰_키워드\"]] + df[[\"상품명\",\"리뷰\", \"리뷰_키워드\"]].values.tolist())\n",
    "# df[[\"상품명\",\"리뷰\", \"리뷰_키워드\"]]는 데이터프레임에서 특정 열만 선택하는 코드\n",
    "# 데이터프레임에서 values.tolist()를 통해 데이터 값만 리스트로 변환\n",
    "# 첫 번째 리스트 [[\"상품명\", \"리뷰\", \"리뷰_키워드\"]]는 헤더(열 이름)를 지정하고, 그 다음에 실제 데이터 값들이 추가\n",
    "\n",
    "print(\"⭐구글 스프레드시트의 원본 + 키워드 분석자료 업데이트 완료\")"
   ]
  },
  {
   "cell_type": "code",
   "execution_count": null,
   "id": "892dfa21-559d-4850-a902-c07f434fc4e9",
   "metadata": {},
   "outputs": [],
   "source": []
  },
  {
   "cell_type": "code",
   "execution_count": null,
   "id": "46909830-ec18-4432-98b8-1e72a0a17505",
   "metadata": {},
   "outputs": [],
   "source": []
  }
 ],
 "metadata": {
  "kernelspec": {
   "display_name": "Python [conda env:base] *",
   "language": "python",
   "name": "conda-base-py"
  },
  "language_info": {
   "codemirror_mode": {
    "name": "ipython",
    "version": 3
   },
   "file_extension": ".py",
   "mimetype": "text/x-python",
   "name": "python",
   "nbconvert_exporter": "python",
   "pygments_lexer": "ipython3",
   "version": "3.13.5"
  }
 },
 "nbformat": 4,
 "nbformat_minor": 5
}
