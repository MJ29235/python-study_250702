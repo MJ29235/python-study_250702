{
 "cells": [
  {
   "cell_type": "code",
   "execution_count": 20,
   "id": "f913ef56-99b3-413f-ab5f-bc145a2c834d",
   "metadata": {},
   "outputs": [
    {
     "name": "stdout",
     "output_type": "stream",
     "text": [
      "[<selenium.webdriver.remote.webelement.WebElement (session=\"0a6e953059dea5ebef07599be8a2d69c\", element=\"f.96DCBADA65A6C16ACE7ECE59E07D5837.d.6CDDC6D888BB3FA28201F09E652331F6.e.5361\")>]\n"
     ]
    },
    {
     "ename": "NoSuchElementException",
     "evalue": "Message: no such element: Unable to locate element: {\"method\":\"css selector\",\"selector\":\"button.sc-16sqvmz-0.hajYLp.btn.sc-jpuob9-7.ertTIN.area-img\"}\n  (Session info: chrome=139.0.7258.128); For documentation on this error, please visit: https://www.selenium.dev/documentation/webdriver/troubleshooting/errors#nosuchelementexception\nStacktrace:\n\tGetHandleVerifier [0x0xaaffc3+65331]\n\tGetHandleVerifier [0x0xab0004+65396]\n\t(No symbol) [0x0x8a3f63]\n\t(No symbol) [0x0x8ec99e]\n\t(No symbol) [0x0x8ecd3b]\n\t(No symbol) [0x0x9353d2]\n\t(No symbol) [0x0x911524]\n\t(No symbol) [0x0x932bcb]\n\t(No symbol) [0x0x9112d6]\n\t(No symbol) [0x0x8e0910]\n\t(No symbol) [0x0x8e1784]\n\tGetHandleVerifier [0x0xcf38b3+2439203]\n\tGetHandleVerifier [0x0xceeae2+2419282]\n\tGetHandleVerifier [0x0xad712a+225434]\n\tGetHandleVerifier [0x0xac6e08+159096]\n\tGetHandleVerifier [0x0xacdd5d+187597]\n\tGetHandleVerifier [0x0xab7ad8+96840]\n\tGetHandleVerifier [0x0xab7c62+97234]\n\tGetHandleVerifier [0x0xaa277a+9962]\n\tBaseThreadInitThunk [0x0x763f5d49+25]\n\tRtlInitializeExceptionChain [0x0x7764d2fb+107]\n\tRtlGetAppContainerNamedObjectPath [0x0x7764d281+561]\n",
     "output_type": "error",
     "traceback": [
      "\u001b[1;31m---------------------------------------------------------------------------\u001b[0m",
      "\u001b[1;31mNoSuchElementException\u001b[0m                    Traceback (most recent call last)",
      "Cell \u001b[1;32mIn[20], line 25\u001b[0m\n\u001b[0;32m     22\u001b[0m time\u001b[38;5;241m.\u001b[39msleep(\u001b[38;5;241m3\u001b[39m)\n\u001b[0;32m     24\u001b[0m \u001b[38;5;28;01mfor\u001b[39;00m _ \u001b[38;5;129;01min\u001b[39;00m \u001b[38;5;28mrange\u001b[39m(\u001b[38;5;241m2\u001b[39m):\n\u001b[1;32m---> 25\u001b[0m     search_button \u001b[38;5;241m=\u001b[39m driver\u001b[38;5;241m.\u001b[39mfind_element(By\u001b[38;5;241m.\u001b[39mCSS_SELECTOR,\u001b[38;5;124m\"\u001b[39m\u001b[38;5;124mbutton.sc-16sqvmz-0.hajYLp.btn.sc-jpuob9-7.ertTIN.area-img\u001b[39m\u001b[38;5;124m\"\u001b[39m)\n\u001b[0;32m     26\u001b[0m     search_button\u001b[38;5;241m.\u001b[39mclick()\n\u001b[0;32m     27\u001b[0m     time\u001b[38;5;241m.\u001b[39msleep(\u001b[38;5;241m2\u001b[39m)\n",
      "File \u001b[1;32m~\\anaconda3\\Lib\\site-packages\\selenium\\webdriver\\remote\\webdriver.py:922\u001b[0m, in \u001b[0;36mWebDriver.find_element\u001b[1;34m(self, by, value)\u001b[0m\n\u001b[0;32m    919\u001b[0m         \u001b[38;5;28;01mraise\u001b[39;00m NoSuchElementException(\u001b[38;5;124mf\u001b[39m\u001b[38;5;124m\"\u001b[39m\u001b[38;5;124mCannot locate relative element with: \u001b[39m\u001b[38;5;132;01m{\u001b[39;00mby\u001b[38;5;241m.\u001b[39mroot\u001b[38;5;132;01m}\u001b[39;00m\u001b[38;5;124m\"\u001b[39m)\n\u001b[0;32m    920\u001b[0m     \u001b[38;5;28;01mreturn\u001b[39;00m elements[\u001b[38;5;241m0\u001b[39m]\n\u001b[1;32m--> 922\u001b[0m \u001b[38;5;28;01mreturn\u001b[39;00m \u001b[38;5;28mself\u001b[39m\u001b[38;5;241m.\u001b[39mexecute(Command\u001b[38;5;241m.\u001b[39mFIND_ELEMENT, {\u001b[38;5;124m\"\u001b[39m\u001b[38;5;124musing\u001b[39m\u001b[38;5;124m\"\u001b[39m: by, \u001b[38;5;124m\"\u001b[39m\u001b[38;5;124mvalue\u001b[39m\u001b[38;5;124m\"\u001b[39m: value})[\u001b[38;5;124m\"\u001b[39m\u001b[38;5;124mvalue\u001b[39m\u001b[38;5;124m\"\u001b[39m]\n",
      "File \u001b[1;32m~\\anaconda3\\Lib\\site-packages\\selenium\\webdriver\\remote\\webdriver.py:454\u001b[0m, in \u001b[0;36mWebDriver.execute\u001b[1;34m(self, driver_command, params)\u001b[0m\n\u001b[0;32m    451\u001b[0m response \u001b[38;5;241m=\u001b[39m cast(RemoteConnection, \u001b[38;5;28mself\u001b[39m\u001b[38;5;241m.\u001b[39mcommand_executor)\u001b[38;5;241m.\u001b[39mexecute(driver_command, params)\n\u001b[0;32m    453\u001b[0m \u001b[38;5;28;01mif\u001b[39;00m response:\n\u001b[1;32m--> 454\u001b[0m     \u001b[38;5;28mself\u001b[39m\u001b[38;5;241m.\u001b[39merror_handler\u001b[38;5;241m.\u001b[39mcheck_response(response)\n\u001b[0;32m    455\u001b[0m     response[\u001b[38;5;124m\"\u001b[39m\u001b[38;5;124mvalue\u001b[39m\u001b[38;5;124m\"\u001b[39m] \u001b[38;5;241m=\u001b[39m \u001b[38;5;28mself\u001b[39m\u001b[38;5;241m.\u001b[39m_unwrap_value(response\u001b[38;5;241m.\u001b[39mget(\u001b[38;5;124m\"\u001b[39m\u001b[38;5;124mvalue\u001b[39m\u001b[38;5;124m\"\u001b[39m, \u001b[38;5;28;01mNone\u001b[39;00m))\n\u001b[0;32m    456\u001b[0m     \u001b[38;5;28;01mreturn\u001b[39;00m response\n",
      "File \u001b[1;32m~\\anaconda3\\Lib\\site-packages\\selenium\\webdriver\\remote\\errorhandler.py:232\u001b[0m, in \u001b[0;36mErrorHandler.check_response\u001b[1;34m(self, response)\u001b[0m\n\u001b[0;32m    230\u001b[0m         alert_text \u001b[38;5;241m=\u001b[39m value[\u001b[38;5;124m\"\u001b[39m\u001b[38;5;124malert\u001b[39m\u001b[38;5;124m\"\u001b[39m]\u001b[38;5;241m.\u001b[39mget(\u001b[38;5;124m\"\u001b[39m\u001b[38;5;124mtext\u001b[39m\u001b[38;5;124m\"\u001b[39m)\n\u001b[0;32m    231\u001b[0m     \u001b[38;5;28;01mraise\u001b[39;00m exception_class(message, screen, stacktrace, alert_text)  \u001b[38;5;66;03m# type: ignore[call-arg]  # mypy is not smart enough here\u001b[39;00m\n\u001b[1;32m--> 232\u001b[0m \u001b[38;5;28;01mraise\u001b[39;00m exception_class(message, screen, stacktrace)\n",
      "\u001b[1;31mNoSuchElementException\u001b[0m: Message: no such element: Unable to locate element: {\"method\":\"css selector\",\"selector\":\"button.sc-16sqvmz-0.hajYLp.btn.sc-jpuob9-7.ertTIN.area-img\"}\n  (Session info: chrome=139.0.7258.128); For documentation on this error, please visit: https://www.selenium.dev/documentation/webdriver/troubleshooting/errors#nosuchelementexception\nStacktrace:\n\tGetHandleVerifier [0x0xaaffc3+65331]\n\tGetHandleVerifier [0x0xab0004+65396]\n\t(No symbol) [0x0x8a3f63]\n\t(No symbol) [0x0x8ec99e]\n\t(No symbol) [0x0x8ecd3b]\n\t(No symbol) [0x0x9353d2]\n\t(No symbol) [0x0x911524]\n\t(No symbol) [0x0x932bcb]\n\t(No symbol) [0x0x9112d6]\n\t(No symbol) [0x0x8e0910]\n\t(No symbol) [0x0x8e1784]\n\tGetHandleVerifier [0x0xcf38b3+2439203]\n\tGetHandleVerifier [0x0xceeae2+2419282]\n\tGetHandleVerifier [0x0xad712a+225434]\n\tGetHandleVerifier [0x0xac6e08+159096]\n\tGetHandleVerifier [0x0xacdd5d+187597]\n\tGetHandleVerifier [0x0xab7ad8+96840]\n\tGetHandleVerifier [0x0xab7c62+97234]\n\tGetHandleVerifier [0x0xaa277a+9962]\n\tBaseThreadInitThunk [0x0x763f5d49+25]\n\tRtlInitializeExceptionChain [0x0x7764d2fb+107]\n\tRtlGetAppContainerNamedObjectPath [0x0x7764d281+561]\n"
     ]
    }
   ],
   "source": [
    "from selenium import webdriver\n",
    "from selenium.webdriver.chrome.service import Service\n",
    "from selenium.webdriver.chrome.options import Options\n",
    "from selenium.webdriver.common.by import By # 특정 선택자로 값을 찾아옴.\n",
    "from selenium.webdriver.common.keys import Keys #명령어 넣을때\n",
    "from webdriver_manager.chrome import ChromeDriverManager\n",
    "import time\n",
    "\n",
    "service = Service(ChromeDriverManager().install())\n",
    "options = Options()\n",
    "#options.add_argument('--headless') #headless를 쓰지 않으면 Grapic 소스가 불필요하게 충돌할 수 있음\n",
    "#options.add_argument('--disable-gpu') #셀레니움 사용시, headless를 사용하지 않으면 브라우저가 켜짐. Gpu 실행. 이런 비효율성을 상대 페이지에서는 감지가 가능함. headless 사용시 사용하면 좋음\n",
    "options.add_argument('--disable-dev-shm-usage') #로컬컴퓨터 메모리쓰기\n",
    "options.add_argument('--window-size=1920x1080')\n",
    "options.add_argument('--start-maximized') #반응형 페이지 방어\n",
    "options.add_argument(\"--user-agent=Mozilla/5.0 (Windows NT 10.0; Win64; x64) AppleWebKit/537.36 (KHTML, like Gecko) Chrome/138.0.0.0 Safari/537.36\")\n",
    "options.add_argument('--lang=ko_KR')\n",
    "\n",
    "driver = webdriver.Chrome(service=service, options=options) #드라이버 실행\n",
    "\n",
    "driver.get(\"https://display.wconcept.co.kr/category/women/001001\")\n",
    "time.sleep(3)\n",
    "\n",
    "for _ in range(2):\n",
    "    search_button = driver.find_element(By.CSS_SELECTOR,\"button.sc-16sqvmz-0.hajYLp.btn.sc-jpuob9-7.ertTIN.area-img\")\n",
    "    search_button.click()\n",
    "    time.sleep(2)\n",
    "\n",
    "\n",
    "    print(title)\n",
    "    \n",
    "    \n",
    "    for product in products:\n",
    "    try :\n",
    "        title = driver.find_elements(By.CSS_SELECTOR,\"h3.product.cottonusa\")\n",
    "        rating = driver.find_elements(By.CSS_SELECTOR,\"p.grade_num\")\n",
    "        reviews = driver.find_elements(By.CSS_SELECTOR,\"p.txt > em\")\n",
    "        product_data.append({\"상품명\": title, \"평점\": rating, \"리뷰수\" : reviews})\n",
    "    except :\n",
    "        continue\n",
    "\n",
    "# # 반팔버튼 누르기 - 순위가 \n",
    "# popular_keywords = driver.find_elements(By.CSS_SELECTOR,\".search-home-popular-wrap .sc-1xzm8bl-1\")\n",
    "# target_keyword = popular_keywords[2].text\n",
    "# print(\"목표 키워드 :\", target_keyword)\n",
    "\n",
    "# #반팔 텍스트 검색어에 넣기\n",
    "# search_input = driver.find_element(By.CLASS_NAME,\"search-home-search-bar-keyword\")\n",
    "# search_input.clear()\n",
    "# search_input.send_keys(target_keyword) # 이 코드로 텍스트도 칠 수 있음!\n",
    "# time.sleep(1)\n",
    "# #엔터키를 자동으로 치게하기\n",
    "# search_input.send_keys(Keys.RETURN)\n",
    "# time.sleep(5)\n",
    "\n",
    "# print(\"검색완료. 현재 페이지 타이틀 : \", driver.title)\n",
    "\n",
    "# time.sleep(2)\n",
    "# driver.quit()"
   ]
  },
  {
   "cell_type": "code",
   "execution_count": 23,
   "id": "6527f10d-c026-42ef-9078-2a128c3b9e8d",
   "metadata": {},
   "outputs": [
    {
     "name": "stdout",
     "output_type": "stream",
     "text": [
      "수집한 링크: 0\n"
     ]
    }
   ],
   "source": [
    "from selenium import webdriver\n",
    "from selenium.webdriver.chrome.service import Service\n",
    "from selenium.webdriver.chrome.options import Options\n",
    "from selenium.webdriver.common.by import By\n",
    "from webdriver_manager.chrome import ChromeDriverManager\n",
    "import time\n",
    "\n",
    "CATEGORY_URL = \"https://display.wconcept.co.kr/category/women/001001\"  # 카테고리 페이지\n",
    "COUNT = 30  # 들어갔다 나올 상품 개수\n",
    "\n",
    "# 드라이버 준비\n",
    "options = Options()\n",
    "options.add_argument(\"--window-size=1920,1080\")\n",
    "options.add_argument(\"--lang=ko_KR\")\n",
    "# options.add_argument(\"--headless=new\")  # 화면 안 보이게 하려면 주석 해제\n",
    "driver = webdriver.Chrome(service=Service(ChromeDriverManager().install()), options=options)\n",
    "\n",
    "driver.get(CATEGORY_URL)\n",
    "time.sleep(2)\n",
    "urls, seen = [], set()\n",
    "for a in driver.find_elements(By.CSS_SELECTOR, \"button.sc-16sqvmz-0.hajYLp.btn.sc-jpuob9-7.ertTIN.area-img\"):\n",
    "    href = a.get_attribute(\"href\")\n",
    "    if not href:\n",
    "        continue\n",
    "    href = href.split(\"?\")[0]           # 파라미터 제거(중복 방지)\n",
    "    if \"/product\" in href and href not in seen:\n",
    "        seen.add(href)\n",
    "        urls.append(href)\n",
    "    if len(urls) >= COUNT:\n",
    "        break\n",
    "\n",
    "print(\"수집한 링크:\", len(urls))\n",
    "\n",
    "# (2) 반복 순회: 상세 들어갔다가 → 크롤링 → 뒤로(back) 돌아오기\n",
    "for i, url in enumerate(urls, 1):\n",
    "    driver.get(url)          # 들어가기\n",
    "    time.sleep(1)\n",
    "\n",
    "    # 여기서 필요한 최소 크롤링(예: 페이지 제목)\n",
    "    title = driver.find_elements(By.CSS_SELECTOR,\"h3.product.cottonusa\")\n",
    "    print(f\"{i:02d}. {title}\")\n",
    "\n",
    "    driver.back()            # 뒤로 가기\n",
    "    time.sleep(1)\n",
    "\n",
    "driver.quit()"
   ]
  }
 ],
 "metadata": {
  "kernelspec": {
   "display_name": "Python [conda env:base] *",
   "language": "python",
   "name": "conda-base-py"
  },
  "language_info": {
   "codemirror_mode": {
    "name": "ipython",
    "version": 3
   },
   "file_extension": ".py",
   "mimetype": "text/x-python",
   "name": "python",
   "nbconvert_exporter": "python",
   "pygments_lexer": "ipython3",
   "version": "3.13.5"
  }
 },
 "nbformat": 4,
 "nbformat_minor": 5
}
