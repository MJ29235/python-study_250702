{
 "cells": [
  {
   "cell_type": "code",
   "execution_count": null,
   "id": "552f24f3-b2d5-44de-8ac5-779c79b1c015",
   "metadata": {},
   "outputs": [],
   "source": [
    "# 노컷뉴스 연예면 주요 기사 제목을 5개 수집하세요.\n",
    "# 아프리카TV 인기 방송 제목을 수집하세요.\n",
    "# 마이리얼트립에서 인기 도시별 여행 상품 제목을 수집하세요.\n",
    "# 대한민국 국회 홈페이지에서 최근 입법안 제목 10개를 수집하세요.\n",
    "# KBS 뉴스 홈페이지에서 주요 뉴스 타이틀을 수집하세요.\n",
    "\n"
   ]
  },
  {
   "cell_type": "code",
   "execution_count": 2,
   "id": "378bd35d-94f4-484f-9cae-2e9699ff4430",
   "metadata": {},
   "outputs": [
    {
     "name": "stdout",
     "output_type": "stream",
     "text": [
      "1. 거미♥조정석 두 아이 부모된다…5년 만에 둘째 임신\n",
      "2. '데뷔 18주년' 앞둔 소녀시대, 티파니 생일→완전체 회동\n",
      "3. '컨저링 유니버스'의 최종장이 온다…'마지막 의식' 9월 개봉\n",
      "4. BTS 뷔, 팬 무질서 소신발언 \"공항은 우리 것 아냐\"\n",
      "5. 이보영이 던진 '안락사' 화두 \"걱정되지만…말할 기회되길\"[현장EN:]\n"
     ]
    }
   ],
   "source": [
    "# 노컷뉴스 연예면 주요 기사 제목을 5개 수집하세요.\n",
    "\n",
    "import requests\n",
    "from bs4 import BeautifulSoup\n",
    "\n",
    "url = 'https://www.nocutnews.co.kr/news/entertainment'\n",
    "\n",
    "headers = {\n",
    "    \"User-Agent\" : 'Mozilla/5.0 (Windows NT 10.0; Win64; x64) AppleWebKit/537.36 (KHTML, like Gecko) Chrome/138.0.0.0 Safari/537.36'\n",
    "}\n",
    "\n",
    "response = requests.get(url,headers=headers)\n",
    "soup = BeautifulSoup(response.text,\"html.parser\")\n",
    "\n",
    "titles = soup.select(\"strong.clamp2\")\n",
    "for index,title in enumerate(titles[:5],1):\n",
    "    print(f\"{index}. {title.text.strip()}\")"
   ]
  },
  {
   "cell_type": "code",
   "execution_count": 10,
   "id": "919a7a9a-4682-41b1-b902-28a249bfaa86",
   "metadata": {},
   "outputs": [
    {
     "name": "stdout",
     "output_type": "stream",
     "text": [
      "1. 김민교 LCK T1 vs HLE 레전드매치업 #LckWatchParty\n",
      "2. [뉴캣슬]스타 도재욱 반갑습니도!\n",
      "3. [뉴캣슬] 기뉴다 스타 443 최종테스트 마지막 코인입니다.\n",
      "4. 스포 블랙 ] ASL 예선 경민 윤환 병영 준오 동원 응원방 [ 츠캄 몬스타즈★ ]\n",
      "5. 3시) lck T1vs한화생명 경기 같이보기! #LckWatchParty3\n",
      "6. 최가네 만평농장노예 전북 남원 벌칙자들w.지효\n",
      "7. 3시 알포인트 (안본눈 무서우면 끌꺼임)\n",
      "8. [T1 vs HLE] 2025 LCK\n",
      "9. 다이아까지 뛰어!@ 시즌 15 챌달리기\n",
      "10. 은우x염보성 홍대 맨인블랙(YXL)\n"
     ]
    }
   ],
   "source": [
    "# 아프리카TV 인기 방송 제목을 수집하세요.\n",
    "from selenium import webdriver\n",
    "from selenium.webdriver.chrome.options import Options\n",
    "from selenium.webdriver.chrome.service import Service\n",
    "from selenium.webdriver.common.by import By\n",
    "from webdriver_manager.chrome import ChromeDriverManager\n",
    "import time\n",
    "\n",
    "service = Service(ChromeDriverManager().install())\n",
    "\n",
    "options = Options()\n",
    "options.add_argument(\"--headless\")\n",
    "options.add_argument(\"--start-maximized\")\n",
    "options.add_argument(\"--window-size=1920x1080\")\n",
    "options.add_argument(\"--lang=ko_KR\")\n",
    "options.add_argument(\"--user-agent=Mozilla/5.0 (Windows NT 10.0; Win64; x64) AppleWebKit/537.36 (KHTML, like Gecko) Chrome/138.0.0.0 Safari/537.36\")\n",
    "\n",
    "driver = webdriver.Chrome(service=service, options=options)\n",
    "query = \"live/all\"\n",
    "url = f\"https://www.sooplive.co.kr/{query}\"\n",
    "driver.get(url)\n",
    "\n",
    "\n",
    "elements = driver.find_elements(By.CSS_SELECTOR,\"h3.title\")\n",
    "for i, element in enumerate(elements[:10], 1):\n",
    "         print(f\"{i}. {element.text.strip()}\")\n",
    "\n",
    "\n",
    "time.sleep(1)\n",
    "\n",
    "driver.quit()"
   ]
  },
  {
   "cell_type": "code",
   "execution_count": 3,
   "id": "7018c7ec-db91-4d7b-8a02-26deb92079ac",
   "metadata": {},
   "outputs": [
    {
     "name": "stdout",
     "output_type": "stream",
     "text": [
      "1. 이탈리아 남부 당일 가이드투어\n",
      "2. 바티칸 오전 패스트트랙 가이드투어\n",
      "3. 바티칸 오전 패스트트랙 가이드투어\n",
      "4. 로마에서 피렌체 토스카나 가이드투어\n",
      "5. 이탈리아 남부 2박3일 가이드투어\n",
      "6. 바티칸 오전 집중 가이드투어\n",
      "7. \n",
      "8. \n",
      "9. \n",
      "10. \n",
      "11. \n",
      "12. \n"
     ]
    }
   ],
   "source": [
    "# 마이리얼트립에서 인기 도시별 여행 상품 제목을 수집하세요.\n",
    "from selenium import webdriver\n",
    "from selenium.webdriver.chrome.options import Options\n",
    "from selenium.webdriver.chrome.service import Service\n",
    "from selenium.webdriver.common.by import By\n",
    "from webdriver_manager.chrome import ChromeDriverManager\n",
    "import time\n",
    "\n",
    "service = Service(ChromeDriverManager().install())\n",
    "\n",
    "options = Options()\n",
    "options.add_argument(\"--headless\")\n",
    "options.add_argument(\"--start-maximized\")\n",
    "options.add_argument(\"--window-size=1920x1080\")\n",
    "options.add_argument(\"--lang=ko_KR\")\n",
    "options.add_argument(\"--user-agent=Mozilla/5.0 (Windows NT 10.0; Win64; x64) AppleWebKit/537.36 (KHTML, like Gecko) Chrome/138.0.0.0 Safari/537.36\")\n",
    "\n",
    "driver = webdriver.Chrome(service=service, options=options)\n",
    "url = \"https://www.myrealtrip.com/\"\n",
    "driver.get(url)\n",
    "time.sleep(3)\n",
    "button1 = driver.find_element(By.CSS_SELECTOR, \"span.css-a0l7zb\")\n",
    "time.sleep(3)\n",
    "button1.click()\n",
    "elements = driver.find_elements(By.CSS_SELECTOR,\"span.css-43qqj2\")\n",
    "for i, element in enumerate(elements, 1):\n",
    "    print(f\"{i}. {element.text.strip()}\")\n",
    "\n",
    "\n",
    "time.sleep(3)\n",
    "driver.quit()\n",
    "# city = driver.find_elements"
   ]
  },
  {
   "cell_type": "code",
   "execution_count": 18,
   "id": "c1ed06a8-e78b-4ff5-a694-aeb73aec0ecc",
   "metadata": {},
   "outputs": [
    {
     "name": "stdout",
     "output_type": "stream",
     "text": [
      "입법안 1. 전북특별자치도 설치 및 글로벌생명경제도시 조성을 위한 특별법 일부개정법률안\n",
      "입법안 2. 국유재산특례제한법 일부개정법률안\n",
      "입법안 3. 국가재정법 일부개정법률안\n",
      "입법안 4. 조세특례제한법 일부개정법률안\n",
      "입법안 5. 국민연금법 일부개정법률안\n",
      "입법안 6. 행정규제기본법 일부개정법률안\n",
      "입법안 7. 대중교통의 육성 및 이용촉진에 관한 법률 일부개정법률안\n",
      "입법안 8. 공항시설법 일부개정법률안(대안)\n",
      "입법안 9. 보건의료기본법 일부개정법률안(대안)\n",
      "입법안 10. 건설산업기본법 일부개정법률안(대안)\n",
      "입법안 11. 빈집 및 소규모주택 정비에 관한 특례법 일부개정법률안(대안)\n",
      "입법안 12. 도시공원 및 녹지 등에 관한 법률 일부개정법률안(대안)\n",
      "입법안 13. 방송법 일부개정법률안(대안)\n",
      "입법안 14. 산업안전보건법 일부개정법률안\n",
      "입법안 15. 한국교육방송공사법 일부개정법률안(대안)\n",
      "입법안 16. 지방교육재정교부금법 일부개정법률안(대안)\n",
      "입법안 17. 방송문화진흥회법 일부개정법률안(대안)\n",
      "입법안 18. 국립묘지의 설치 및 운영에 관한 법률 일부개정법률안\n",
      "입법안 19. 농지법 일부개정법률안\n",
      "입법안 20. 공직자윤리법 일부개정법률안\n"
     ]
    }
   ],
   "source": [
    "# 대한민국 국회 홈페이지에서 최근 입법안 제목 10개를 수집하세요.\n",
    "\n",
    "from selenium import webdriver\n",
    "from selenium.webdriver.chrome.options import Options\n",
    "from selenium.webdriver.chrome.service import Service\n",
    "from selenium.webdriver.common.by import By\n",
    "from webdriver_manager.chrome import ChromeDriverManager\n",
    "import time\n",
    "\n",
    "service = Service(ChromeDriverManager().install())\n",
    "\n",
    "options = Options()\n",
    "options.add_argument(\"--headless\")\n",
    "options.add_argument(\"--start-maximized\")\n",
    "options.add_argument(\"--window-size=1920x1080\")\n",
    "options.add_argument(\"--lang=ko_KR\")\n",
    "options.add_argument(\"--user-agent=Mozilla/5.0 (Windows NT 10.0; Win64; x64) AppleWebKit/537.36 (KHTML, like Gecko) Chrome/138.0.0.0 Safari/537.36\")\n",
    "\n",
    "driver = webdriver.Chrome(service=service, options=options)\n",
    "query = \"/gcom/nsmLmSts/out\"\n",
    "url = f\"https://opinion.lawmaking.go.kr/{query}\"\n",
    "driver.get(url)\n",
    "\n",
    "elements = driver.find_elements(By.CSS_SELECTOR,\"li.title.W40.left\")\n",
    "for i, element in enumerate(elements, 1):\n",
    "         print(f\"입법안 {i}. {element.text.strip()}\")\n",
    "\n",
    "\n",
    "time.sleep(3)\n",
    "driver.quit()"
   ]
  },
  {
   "cell_type": "code",
   "execution_count": 26,
   "id": "a4b38cf6-49c3-4d72-a9dd-0ea57978dfe4",
   "metadata": {},
   "outputs": [
    {
     "name": "stdout",
     "output_type": "stream",
     "text": [
      "주요뉴스 1. 고립감 치유하는 ‘마음편의점’…‘1인 가구’ 시대 각광\n",
      "주요뉴스 2. “50대 암 사망 1위 간암…술 끊으면 생존율 ‘확’ 오른다” [건강하십니까]\n",
      "주요뉴스 3. ‘쟁점 법안’ 속도전…필리버스터 대치 예고\n",
      "주요뉴스 4. “○○검사입니다”…AI로 ‘그놈 목소리’ 잡는다\n",
      "주요뉴스 5. 폭염에 두 살 아기 3일간 방치한 20대 엄마 체포\n",
      "주요뉴스 6. 괴산 국도 달리던 관광버스 불…38명 대피\n",
      "주요뉴스 7. 강한 비구름 전남에 정체, 무안 시간당 142mm 극한 호우\n",
      "주요뉴스 8. 산청군, ‘산사태경보’에 주민 대피령…경남도 ‘비상 1단계’\n",
      "주요뉴스 9. 클로징\n",
      "주요뉴스 10. 고립감 치유하는 ‘마음편의점’…‘1인 가구’ 시대 각광\n",
      "주요뉴스 11. “50대 암 사망 1위 간암…술 끊으면 생존율 ‘확’ 오른다” [건강하십니까]\n",
      "주요뉴스 12. ‘쟁점 법안’ 속도전…필리버스터 대치 예고\n",
      "주요뉴스 13. “○○검사입니다”…AI로 ‘그놈 목소리’ 잡는다\n",
      "주요뉴스 14. 폭염에 두 살 아기 3일간 방치한 20대 엄마 체포\n",
      "주요뉴스 15. 김건희 여사 ‘도이치모터스’ 수사 속도…尹 2차 체포 시도 임박\n",
      "주요뉴스 16. 미 고용충격…우려 확산되나?\n",
      "주요뉴스 17. LG화학 미공장 건설에 10억달러 보증…대미 투자펀드 시동?\n",
      "주요뉴스 18. \n"
     ]
    }
   ],
   "source": [
    "# KBS 뉴스 홈페이지에서 주요 뉴스 타이틀을 수집하세요.\n",
    "\n",
    "\n",
    "from selenium import webdriver\n",
    "from selenium.webdriver.chrome.options import Options\n",
    "from selenium.webdriver.chrome.service import Service\n",
    "from selenium.webdriver.common.by import By\n",
    "from webdriver_manager.chrome import ChromeDriverManager\n",
    "import time\n",
    "\n",
    "service = Service(ChromeDriverManager().install())\n",
    "\n",
    "options = Options()\n",
    "options.add_argument(\"--headless\")\n",
    "options.add_argument(\"--start-maximized\")\n",
    "options.add_argument(\"--window-size=1920x1080\")\n",
    "options.add_argument(\"--lang=ko_KR\")\n",
    "options.add_argument(\"--user-agent=Mozilla/5.0 (Windows NT 10.0; Win64; x64) AppleWebKit/537.36 (KHTML, like Gecko) Chrome/138.0.0.0 Safari/537.36\")\n",
    "\n",
    "driver = webdriver.Chrome(service=service, options=options)\n",
    "query = \"/news/pc/category/category.do?ref=pSiteMap#20250803&1\"\n",
    "url = f\"https://news.kbs.co.kr{query}\"\n",
    "driver.get(url)\n",
    "\n",
    "elements = driver.find_elements(By.CSS_SELECTOR,\"p.title\")\n",
    "\n",
    "for i, element in enumerate(elements[7:], 1):\n",
    "    print(f\"주요뉴스 {i}. {element.text.strip().replace(\"\\n\",\"\")}\")\n",
    "\n",
    "\n",
    "time.sleep(3)\n",
    "driver.quit()"
   ]
  }
 ],
 "metadata": {
  "kernelspec": {
   "display_name": "Python [conda env:base] *",
   "language": "python",
   "name": "conda-base-py"
  },
  "language_info": {
   "codemirror_mode": {
    "name": "ipython",
    "version": 3
   },
   "file_extension": ".py",
   "mimetype": "text/x-python",
   "name": "python",
   "nbconvert_exporter": "python",
   "pygments_lexer": "ipython3",
   "version": "3.13.5"
  }
 },
 "nbformat": 4,
 "nbformat_minor": 5
}
