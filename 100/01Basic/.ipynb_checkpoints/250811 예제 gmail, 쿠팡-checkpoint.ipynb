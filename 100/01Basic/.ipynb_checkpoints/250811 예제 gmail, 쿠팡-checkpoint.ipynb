{
 "cells": [
  {
   "cell_type": "code",
   "execution_count": null,
   "id": "597ef881-2fc1-42d7-87c7-9dedb7bc0fa4",
   "metadata": {},
   "outputs": [],
   "source": [
    "# 무신사에 로그인 후 찜한 상품 리스트에서 브랜드명과 가격을 수집하세요.\n",
    "# 인스타그램에 로그인한 후 특정 계정의 최근 게시물 이미지 URL을 5개 수집하세요.\n",
    "# Gmail에 로그인한 후 받은편지함에서 최근 이메일 제목 10개를 수집하세요.\n",
    "# 다나와(*혹은 본인이 자주 방문 및 사용하는 가격비교 사이트) 로그인 후 찜한 상품 리스트를 수집하세요.\n",
    "# GS샵(*혹은 본인이 자주 방문 및 구매하는 쇼핑몰) 로그인 후 주문배송조회 페이지의 상품명과 상태를 수집하세요.ㅠ"
   ]
  },
  {
   "cell_type": "code",
   "execution_count": 1,
   "id": "fcbf6207-7048-45c7-aca3-296ea3a0ba2f",
   "metadata": {},
   "outputs": [
    {
     "name": "stdout",
     "output_type": "stream",
     "text": [
      "수동으로 인증시작! in 30.sec\n",
      "쿠키 저장 완료\n"
     ]
    }
   ],
   "source": [
    "# 쿠키값 인증\n",
    "from selenium import webdriver\n",
    "from selenium.webdriver.chrome.options import Options\n",
    "from selenium.webdriver.chrome.service import Service\n",
    "from webdriver_manager.chrome import ChromeDriverManager\n",
    "import pickle \n",
    "import time \n",
    "\n",
    "options = Options()\n",
    "options.add_argument(\"--start-maximized\")\n",
    "options.add_argument(\"window-size=1920x1080\") \n",
    "options.add_argument(\"lang=ko_KR\")\n",
    "\n",
    "service = Service(ChromeDriverManager().install()) \n",
    "\n",
    "driver = webdriver.Chrome(service=service, options=options)\n",
    "\n",
    "driver.get(\"https://www.musinsa.com/auth/login?referer=https%3A%2F%2Fwww.musinsa.com%2Fmain%2Fmusinsa%2Frecommend%3Fgf%3DM\")\n",
    "\n",
    "\n",
    "print(\"수동으로 인증시작! in 30.sec\")\n",
    "time.sleep(30)\n",
    "\n",
    "with open(\"musinsa_cookies.pkl\",\"wb\") as f :\n",
    "    pickle.dump(driver.get_cookies(),f)\n",
    "  \n",
    "print(\"쿠키 저장 완료\")\n",
    "driver.quit() "
   ]
  },
  {
   "cell_type": "code",
   "execution_count": 23,
   "id": "00193bcb-b01f-426a-b33a-2a86b399ca16",
   "metadata": {},
   "outputs": [
    {
     "name": "stdout",
     "output_type": "stream",
     "text": [
      "1. [워셔블] 비스코스 코튼 케이블 반팔 니트-화이트 / 25,900원\n",
      "2. 쿨 워셔블 헨리넥 하프 니트_6Color / 37,050원\n",
      "3. Turn me On - MOD7s / 143,100원\n",
      "4. Turn me On - MOD7w / 133,200원\n",
      "5. TX204 세미플레어 데님 (연청) / 59,000원\n",
      "6. 메인로고 삭스 3 pack / 18,900원\n"
     ]
    }
   ],
   "source": [
    "#이제 프리패스로 뚫고가기!!!!!!\n",
    "from selenium import webdriver\n",
    "from selenium.webdriver.chrome.options import Options\n",
    "from selenium.webdriver.chrome.service import Service\n",
    "from selenium.webdriver.common.by import By\n",
    "from webdriver_manager.chrome import ChromeDriverManager\n",
    "import pickle \n",
    "import time\n",
    "\n",
    "options = Options()\n",
    "options.add_argument(\"--start-maximized\") \n",
    "options.add_argument(\"window-size=1920x1080\") \n",
    "options.add_argument(\"lang=ko_KR\")\n",
    "\n",
    "service = Service(ChromeDriverManager().install())\n",
    "\n",
    "driver = webdriver.Chrome(service=service, options=options)\n",
    "\n",
    "driver.get(\"https://www.musinsa.com/main/musinsa/recommend?gf=M\")\n",
    "\n",
    "with open(\"musinsa_cookies.pkl\",\"rb\") as f :\n",
    "    cookies = pickle.load(f) \n",
    "for cookie in cookies:\n",
    "    driver.add_cookie(cookie) \n",
    "driver.refresh()\n",
    "time.sleep(5)\n",
    "\n",
    "my = driver.find_element(By.CSS_SELECTOR,\"a[aria-label='장바구니 페이지로 이동']\") \n",
    "my.click()\n",
    "time.sleep(2)\n",
    "\n",
    "\n",
    "boards = driver.find_elements(By.CSS_SELECTOR, \"div.cart-goods__name.gtm-select-item\") \n",
    "prices = driver.find_elements(By.CSS_SELECTOR, \"div.cart-goods__price\")\n",
    "\n",
    "for i in range(len(boards)):\n",
    "    title = boards[i].find_element(By.CSS_SELECTOR, \"a\").text.strip()\n",
    "    price = prices[i].text.strip()\n",
    "    print(f\"{i+1}. {title} / {price}\")\n",
    "\n",
    "time.sleep(2)\n",
    "driver.quit()"
   ]
  },
  {
   "cell_type": "code",
   "execution_count": 25,
   "id": "25dd61fc-e62f-4497-8713-0871352fc7d4",
   "metadata": {},
   "outputs": [
    {
     "name": "stdout",
     "output_type": "stream",
     "text": [
      "수동으로 인증시작! in 30.sec\n",
      "쿠키 저장 완료\n"
     ]
    }
   ],
   "source": [
    "# 인스타그램에 로그인한 후 특정 계정의 최근 게시물 이미지 URL을 5개 수집하세요.\n",
    "\n",
    "\n",
    "# 쿠키값 인증\n",
    "from selenium import webdriver\n",
    "from selenium.webdriver.chrome.options import Options\n",
    "from selenium.webdriver.chrome.service import Service\n",
    "from webdriver_manager.chrome import ChromeDriverManager\n",
    "import pickle \n",
    "import time \n",
    "\n",
    "#etc@kakao.com\n",
    "#asdf1122\n",
    "\n",
    "options = Options()\n",
    "options.add_argument(\"--start-maximized\")\n",
    "options.add_argument(\"window-size=1920x1080\") \n",
    "options.add_argument(\"lang=ko_KR\")\n",
    "\n",
    "service = Service(ChromeDriverManager().install()) \n",
    "\n",
    "driver = webdriver.Chrome(service=service, options=options)\n",
    "\n",
    "driver.get(\"https://www.instagram.com/accounts/login/#\")\n",
    "\n",
    "\n",
    "print(\"수동으로 인증시작! in 30.sec\")\n",
    "time.sleep(30)\n",
    "\n",
    "with open(\"instagram_cookies.pkl\",\"wb\") as f :\n",
    "    pickle.dump(driver.get_cookies(),f)\n",
    "  \n",
    "print(\"쿠키 저장 완료\")\n",
    "driver.quit() "
   ]
  },
  {
   "cell_type": "code",
   "execution_count": null,
   "id": "194190a4-1450-488a-8466-24cd3e5e7dc4",
   "metadata": {},
   "outputs": [],
   "source": [
    "#이제 프리패스로 뚫고가기!!!!!!\n",
    "from selenium import webdriver\n",
    "from selenium.webdriver.chrome.options import Options\n",
    "from selenium.webdriver.chrome.service import Service\n",
    "from selenium.webdriver.common.by import By\n",
    "from webdriver_manager.chrome import ChromeDriverManager\n",
    "import pickle \n",
    "import time\n",
    "\n",
    "options = Options()\n",
    "options.add_argument(\"--start-maximized\") \n",
    "options.add_argument(\"window-size=1920x1080\") \n",
    "options.add_argument(\"lang=ko_KR\")\n",
    "\n",
    "service = Service(ChromeDriverManager().install())\n",
    "\n",
    "driver = webdriver.Chrome(service=service, options=options)\n",
    "\n",
    "driver.get(\"https://www.instagram.com/artart.today/\")\n",
    "\n",
    "with open(\"instagram_cookies.pkl\",\"rb\") as f :\n",
    "    cookies = pickle.load(f) \n",
    "for cookie in cookies:\n",
    "    driver.add_cookie(cookie) \n",
    "driver.refresh()\n",
    "time.sleep(5)\n",
    "\n",
    "my = driver.find_element(By.CSS_SELECTOR,\"span._ap3a._aaco._aacw._aacx._aad7._aade\") \n",
    "my.click()\n",
    "time.sleep(2)\n",
    "\n",
    "\n",
    "boards = driver.find_elements(By.CSS_SELECTOR, \"div.cart-goods__name.gtm-select-item\") \n",
    "prices = driver.find_elements(By.CSS_SELECTOR, \"div.cart-goods__price\")\n",
    "\n",
    "for i in range(len(boards)):\n",
    "    title = boards[i].find_element(By.CSS_SELECTOR, \"a\").text.strip()\n",
    "    price = prices[i].text.strip()\n",
    "    print(f\"{i+1}. {title} / {price}\")\n",
    "\n",
    "time.sleep(2)\n",
    "driver.quit()"
   ]
  },
  {
   "cell_type": "code",
   "execution_count": 31,
   "id": "17275383-0e3e-41aa-b5b6-c74e5d2011a8",
   "metadata": {},
   "outputs": [
    {
     "name": "stdout",
     "output_type": "stream",
     "text": [
      "1. https://scontent-ssn1-1.cdninstagram.com/v/t51.2885-15/530938443_17984627411845320_573023208979179993_n.jpg?stp=dst-jpg_e35_tt6&efg=eyJ2ZW5jb2RlX3RhZyI6IkNBUk9VU0VMX0lURU0uaW1hZ2VfdXJsZ2VuLjEwODB4MTM1MC5zZHIuZjgyNzg3LmRlZmF1bHRfaW1hZ2UuYzIifQ&_nc_ht=scontent-ssn1-1.cdninstagram.com&_nc_cat=1&_nc_oc=Q6cZ2QHAJlEnya47kR32YDplieicxUUCKR4zivhdY-04oboBs62ZEN-GKeUMWhXTibcNk9k&_nc_ohc=S_akTKok4t0Q7kNvwHr0Q7c&_nc_gid=xesCk0-SToGyjuuTrOYZEA&edm=AP4sbd4BAAAA&ccb=7-5&ig_cache_key=MzY5NjU5MDI0ODczOTQ5NzI4MQ%3D%3D.3-ccb7-5&oh=00_AfVCyD7bwq3Z43oP8J72cHYYaf4Fky5iDcGaFN8hRLNouA&oe=689F8F33&_nc_sid=7a9f4b\n",
      "2. https://scontent-ssn1-1.cdninstagram.com/v/t51.2885-15/530947228_17984627273845320_4594211714850357829_n.jpg?stp=dst-jpg_e35_tt6&efg=eyJ2ZW5jb2RlX3RhZyI6IkNBUk9VU0VMX0lURU0uaW1hZ2VfdXJsZ2VuLjEwODB4MTM1MC5zZHIuZjgyNzg3LmRlZmF1bHRfaW1hZ2UuYzIifQ&_nc_ht=scontent-ssn1-1.cdninstagram.com&_nc_cat=1&_nc_oc=Q6cZ2QHAJlEnya47kR32YDplieicxUUCKR4zivhdY-04oboBs62ZEN-GKeUMWhXTibcNk9k&_nc_ohc=fvjMd308KOEQ7kNvwHqgeXF&_nc_gid=xesCk0-SToGyjuuTrOYZEA&edm=AP4sbd4BAAAA&ccb=7-5&ig_cache_key=MzY5NjU4OTUzODM4MzY5NzY2MQ%3D%3D.3-ccb7-5&oh=00_AfXkLyrCV_0LkbmPhh5p5r4Hdeaz8euoVUeaLYGg2CYxfQ&oe=689F8979&_nc_sid=7a9f4b\n",
      "3. https://scontent-ssn1-1.cdninstagram.com/v/t51.2885-15/531869039_17984614496845320_8043434903906952109_n.jpg?stp=dst-jpg_e35_tt6&efg=eyJ2ZW5jb2RlX3RhZyI6IkNBUk9VU0VMX0lURU0uaW1hZ2VfdXJsZ2VuLjEwODB4MTM1MC5zZHIuZjgyNzg3LmRlZmF1bHRfaW1hZ2UuYzIifQ&_nc_ht=scontent-ssn1-1.cdninstagram.com&_nc_cat=1&_nc_oc=Q6cZ2QHAJlEnya47kR32YDplieicxUUCKR4zivhdY-04oboBs62ZEN-GKeUMWhXTibcNk9k&_nc_ohc=2wvqiI-1YG8Q7kNvwHKz4gW&_nc_gid=xesCk0-SToGyjuuTrOYZEA&edm=AP4sbd4BAAAA&ccb=7-5&ig_cache_key=MzY5NjUwMDAzOTkyMjM0NjU5Ng%3D%3D.3-ccb7-5&oh=00_AfVsEBJsmPgiRBxFXsZur4wo5EGlndPZGrUAXjw13nTR8w&oe=689F7698&_nc_sid=7a9f4b\n",
      "4. https://scontent-ssn1-1.cdninstagram.com/v/t51.2885-15/529442899_17984614313845320_585421038731130485_n.jpg?stp=dst-jpg_e35_tt6&efg=eyJ2ZW5jb2RlX3RhZyI6IkNBUk9VU0VMX0lURU0uaW1hZ2VfdXJsZ2VuLjEwODB4MTM1MC5zZHIuZjgyNzg3LmRlZmF1bHRfaW1hZ2UuYzIifQ&_nc_ht=scontent-ssn1-1.cdninstagram.com&_nc_cat=1&_nc_oc=Q6cZ2QHAJlEnya47kR32YDplieicxUUCKR4zivhdY-04oboBs62ZEN-GKeUMWhXTibcNk9k&_nc_ohc=gtr72kb0aCwQ7kNvwHK414R&_nc_gid=xesCk0-SToGyjuuTrOYZEA&edm=AP4sbd4BAAAA&ccb=7-5&ig_cache_key=MzY5NjQ5OTc0MDU0OTYzMTA0OQ%3D%3D.3-ccb7-5&oh=00_AfU-lw0xU2TLMnc1OQ3qKQSBmqhiHNiYZQf3BrfXute78Q&oe=689F8400&_nc_sid=7a9f4b\n",
      "5. https://scontent-ssn1-1.cdninstagram.com/v/t51.71878-15/530372382_1109558113901860_8957075663137688179_n.jpg?stp=dst-jpg_e15_tt6&_nc_cat=102&ig_cache_key=MzY5NjU5MTQ3NzEwMDExNTI5Mg%3D%3D.3-ccb1-7&ccb=1-7&_nc_sid=58cdad&efg=eyJ2ZW5jb2RlX3RhZyI6InhwaWRzLjY0MHgxMTM2LnNkci5DMyJ9&_nc_ohc=gjn2IzTnm20Q7kNvwH3NE29&_nc_oc=Adk8TjTLGVaZDvmXPaoaE9jgkUzdEhhhO-53N9pKZzs0PyszhaMgRYCsAuDvL2zEPNE&_nc_ad=z-m&_nc_cid=0&_nc_zt=23&_nc_ht=scontent-ssn1-1.cdninstagram.com&_nc_gid=xesCk0-SToGyjuuTrOYZEA&oh=00_AfXhIQ3fAs2lpGOzq2dA_GQ3UlgK825gOQEHWVLkcW9BZA&oe=689F823C\n"
     ]
    }
   ],
   "source": [
    "from selenium import webdriver\n",
    "from selenium.webdriver.chrome.options import Options\n",
    "from selenium.webdriver.chrome.service import Service\n",
    "from selenium.webdriver.common.by import By\n",
    "from webdriver_manager.chrome import ChromeDriverManager\n",
    "import pickle \n",
    "import time\n",
    "\n",
    "options = Options()\n",
    "options.add_argument(\"--start-maximized\") \n",
    "options.add_argument(\"window-size=1920x1080\") \n",
    "options.add_argument(\"lang=ko_KR\")\n",
    "\n",
    "service = Service(ChromeDriverManager().install())\n",
    "\n",
    "driver = webdriver.Chrome(service=service, options=options)\n",
    "\n",
    "driver.get(\"https://www.instagram.com/artart.today/\")\n",
    "\n",
    "with open(\"instagram_cookies.pkl\",\"rb\") as f :\n",
    "    cookies = pickle.load(f) \n",
    "for cookie in cookies:\n",
    "    driver.add_cookie(cookie) \n",
    "driver.refresh()\n",
    "time.sleep(5)\n",
    "\n",
    "\n",
    "images = driver.find_elements(By.TAG_NAME, \"img\")\n",
    "\n",
    "for i, img in enumerate(images[10:15],1):\n",
    "    src = img.get_attribute(\"src\") \n",
    "    if src:\n",
    "        print(f\"{i}. {src}\")\n",
    "\n",
    "driver.quit()"
   ]
  },
  {
   "cell_type": "code",
   "execution_count": 33,
   "id": "06cc9ce2-9db9-4bd7-9ccf-4aecdac197b3",
   "metadata": {},
   "outputs": [
    {
     "name": "stdout",
     "output_type": "stream",
     "text": [
      "수동으로 인증시작! in 30.sec\n"
     ]
    },
    {
     "ename": "InvalidSessionIdException",
     "evalue": "Message: invalid session id: session deleted as the browser has closed the connection\nfrom disconnected: not connected to DevTools\n  (Session info: chrome=138.0.7204.184); For documentation on this error, please visit: https://www.selenium.dev/documentation/webdriver/troubleshooting/errors#invalidsessionidexception\nStacktrace:\n\tGetHandleVerifier [0x0x97ba83+63395]\n\tGetHandleVerifier [0x0x97bac4+63460]\n\t(No symbol) [0x0x7c2113]\n\t(No symbol) [0x0x7b1b20]\n\t(No symbol) [0x0x7cf922]\n\t(No symbol) [0x0x835c9c]\n\t(No symbol) [0x0x850099]\n\t(No symbol) [0x0x82f1a6]\n\t(No symbol) [0x0x7fe7b2]\n\t(No symbol) [0x0x7ff654]\n\tGetHandleVerifier [0x0xbf8883+2672035]\n\tGetHandleVerifier [0x0xbf3cba+2652634]\n\tGetHandleVerifier [0x0x9a2bca+223466]\n\tGetHandleVerifier [0x0x992cb8+158168]\n\tGetHandleVerifier [0x0x99978d+185517]\n\tGetHandleVerifier [0x0x983b78+96408]\n\tGetHandleVerifier [0x0x983d02+96802]\n\tGetHandleVerifier [0x0x96e90a+9770]\n\tBaseThreadInitThunk [0x0x75c35d49+25]\n\tRtlInitializeExceptionChain [0x0x777fd1ab+107]\n\tRtlGetAppContainerNamedObjectPath [0x0x777fd131+561]\n",
     "output_type": "error",
     "traceback": [
      "\u001b[1;31m---------------------------------------------------------------------------\u001b[0m",
      "\u001b[1;31mInvalidSessionIdException\u001b[0m                 Traceback (most recent call last)",
      "Cell \u001b[1;32mIn[33], line 30\u001b[0m\n\u001b[0;32m     27\u001b[0m time\u001b[38;5;241m.\u001b[39msleep(\u001b[38;5;241m30\u001b[39m)\n\u001b[0;32m     29\u001b[0m \u001b[38;5;28;01mwith\u001b[39;00m \u001b[38;5;28mopen\u001b[39m(\u001b[38;5;124m\"\u001b[39m\u001b[38;5;124mgmail_cookies.pkl\u001b[39m\u001b[38;5;124m\"\u001b[39m,\u001b[38;5;124m\"\u001b[39m\u001b[38;5;124mwb\u001b[39m\u001b[38;5;124m\"\u001b[39m) \u001b[38;5;28;01mas\u001b[39;00m f :\n\u001b[1;32m---> 30\u001b[0m     pickle\u001b[38;5;241m.\u001b[39mdump(driver\u001b[38;5;241m.\u001b[39mget_cookies(),f)\n\u001b[0;32m     32\u001b[0m \u001b[38;5;28mprint\u001b[39m(\u001b[38;5;124m\"\u001b[39m\u001b[38;5;124m쿠키 저장 완료\u001b[39m\u001b[38;5;124m\"\u001b[39m)\n\u001b[0;32m     33\u001b[0m driver\u001b[38;5;241m.\u001b[39mquit()\n",
      "File \u001b[1;32m~\\anaconda3\\Lib\\site-packages\\selenium\\webdriver\\remote\\webdriver.py:739\u001b[0m, in \u001b[0;36mWebDriver.get_cookies\u001b[1;34m(self)\u001b[0m\n\u001b[0;32m    727\u001b[0m \u001b[38;5;28;01mdef\u001b[39;00m\u001b[38;5;250m \u001b[39m\u001b[38;5;21mget_cookies\u001b[39m(\u001b[38;5;28mself\u001b[39m) \u001b[38;5;241m-\u001b[39m\u001b[38;5;241m>\u001b[39m \u001b[38;5;28mlist\u001b[39m[\u001b[38;5;28mdict\u001b[39m]:\n\u001b[0;32m    728\u001b[0m \u001b[38;5;250m    \u001b[39m\u001b[38;5;124;03m\"\"\"Returns a set of dictionaries, corresponding to cookies visible in\u001b[39;00m\n\u001b[0;32m    729\u001b[0m \u001b[38;5;124;03m    the current session.\u001b[39;00m\n\u001b[0;32m    730\u001b[0m \n\u001b[1;32m   (...)\u001b[0m\n\u001b[0;32m    737\u001b[0m \u001b[38;5;124;03m    >>> cookies = driver.get_cookies()\u001b[39;00m\n\u001b[0;32m    738\u001b[0m \u001b[38;5;124;03m    \"\"\"\u001b[39;00m\n\u001b[1;32m--> 739\u001b[0m     \u001b[38;5;28;01mreturn\u001b[39;00m \u001b[38;5;28mself\u001b[39m\u001b[38;5;241m.\u001b[39mexecute(Command\u001b[38;5;241m.\u001b[39mGET_ALL_COOKIES)[\u001b[38;5;124m\"\u001b[39m\u001b[38;5;124mvalue\u001b[39m\u001b[38;5;124m\"\u001b[39m]\n",
      "File \u001b[1;32m~\\anaconda3\\Lib\\site-packages\\selenium\\webdriver\\remote\\webdriver.py:454\u001b[0m, in \u001b[0;36mWebDriver.execute\u001b[1;34m(self, driver_command, params)\u001b[0m\n\u001b[0;32m    451\u001b[0m response \u001b[38;5;241m=\u001b[39m cast(RemoteConnection, \u001b[38;5;28mself\u001b[39m\u001b[38;5;241m.\u001b[39mcommand_executor)\u001b[38;5;241m.\u001b[39mexecute(driver_command, params)\n\u001b[0;32m    453\u001b[0m \u001b[38;5;28;01mif\u001b[39;00m response:\n\u001b[1;32m--> 454\u001b[0m     \u001b[38;5;28mself\u001b[39m\u001b[38;5;241m.\u001b[39merror_handler\u001b[38;5;241m.\u001b[39mcheck_response(response)\n\u001b[0;32m    455\u001b[0m     response[\u001b[38;5;124m\"\u001b[39m\u001b[38;5;124mvalue\u001b[39m\u001b[38;5;124m\"\u001b[39m] \u001b[38;5;241m=\u001b[39m \u001b[38;5;28mself\u001b[39m\u001b[38;5;241m.\u001b[39m_unwrap_value(response\u001b[38;5;241m.\u001b[39mget(\u001b[38;5;124m\"\u001b[39m\u001b[38;5;124mvalue\u001b[39m\u001b[38;5;124m\"\u001b[39m, \u001b[38;5;28;01mNone\u001b[39;00m))\n\u001b[0;32m    456\u001b[0m     \u001b[38;5;28;01mreturn\u001b[39;00m response\n",
      "File \u001b[1;32m~\\anaconda3\\Lib\\site-packages\\selenium\\webdriver\\remote\\errorhandler.py:232\u001b[0m, in \u001b[0;36mErrorHandler.check_response\u001b[1;34m(self, response)\u001b[0m\n\u001b[0;32m    230\u001b[0m         alert_text \u001b[38;5;241m=\u001b[39m value[\u001b[38;5;124m\"\u001b[39m\u001b[38;5;124malert\u001b[39m\u001b[38;5;124m\"\u001b[39m]\u001b[38;5;241m.\u001b[39mget(\u001b[38;5;124m\"\u001b[39m\u001b[38;5;124mtext\u001b[39m\u001b[38;5;124m\"\u001b[39m)\n\u001b[0;32m    231\u001b[0m     \u001b[38;5;28;01mraise\u001b[39;00m exception_class(message, screen, stacktrace, alert_text)  \u001b[38;5;66;03m# type: ignore[call-arg]  # mypy is not smart enough here\u001b[39;00m\n\u001b[1;32m--> 232\u001b[0m \u001b[38;5;28;01mraise\u001b[39;00m exception_class(message, screen, stacktrace)\n",
      "\u001b[1;31mInvalidSessionIdException\u001b[0m: Message: invalid session id: session deleted as the browser has closed the connection\nfrom disconnected: not connected to DevTools\n  (Session info: chrome=138.0.7204.184); For documentation on this error, please visit: https://www.selenium.dev/documentation/webdriver/troubleshooting/errors#invalidsessionidexception\nStacktrace:\n\tGetHandleVerifier [0x0x97ba83+63395]\n\tGetHandleVerifier [0x0x97bac4+63460]\n\t(No symbol) [0x0x7c2113]\n\t(No symbol) [0x0x7b1b20]\n\t(No symbol) [0x0x7cf922]\n\t(No symbol) [0x0x835c9c]\n\t(No symbol) [0x0x850099]\n\t(No symbol) [0x0x82f1a6]\n\t(No symbol) [0x0x7fe7b2]\n\t(No symbol) [0x0x7ff654]\n\tGetHandleVerifier [0x0xbf8883+2672035]\n\tGetHandleVerifier [0x0xbf3cba+2652634]\n\tGetHandleVerifier [0x0x9a2bca+223466]\n\tGetHandleVerifier [0x0x992cb8+158168]\n\tGetHandleVerifier [0x0x99978d+185517]\n\tGetHandleVerifier [0x0x983b78+96408]\n\tGetHandleVerifier [0x0x983d02+96802]\n\tGetHandleVerifier [0x0x96e90a+9770]\n\tBaseThreadInitThunk [0x0x75c35d49+25]\n\tRtlInitializeExceptionChain [0x0x777fd1ab+107]\n\tRtlGetAppContainerNamedObjectPath [0x0x777fd131+561]\n"
     ]
    }
   ],
   "source": [
    "# Gmail에 로그인한 후 받은편지함에서 최근 이메일 제목 10개를 수집하세요.\n",
    "\n",
    "# 쿠키값 인증\n",
    "from selenium import webdriver\n",
    "from selenium.webdriver.chrome.options import Options\n",
    "from selenium.webdriver.chrome.service import Service\n",
    "from webdriver_manager.chrome import ChromeDriverManager\n",
    "import pickle \n",
    "import time \n",
    "\n",
    "#etc@kakao.com\n",
    "#asdf1122\n",
    "\n",
    "options = Options()\n",
    "options.add_argument(\"--start-maximized\")\n",
    "options.add_argument(\"window-size=1920x1080\") \n",
    "options.add_argument(\"lang=ko_KR\")\n",
    "\n",
    "service = Service(ChromeDriverManager().install()) \n",
    "\n",
    "driver = webdriver.Chrome(service=service, options=options)\n",
    "\n",
    "driver.get(\"https://accounts.google.com/v3/signin/identifier?continue=https%3A%2F%2Fmail.google.com%2Fmail%2F&ifkv=AdBytiO5Ck8TfvFbubviuABYzIdghBzFeteD4A-nSNwNa04naIPERJhwtQ5XSTaSt73pBViwBn2KKw&rip=1&sacu=1&service=mail&flowName=GlifWebSignIn&flowEntry=ServiceLogin&dsh=S-1908874878%3A1754904986621080\")\n",
    "\n",
    "\n",
    "print(\"수동으로 인증시작! in 30.sec\")\n",
    "time.sleep(30)\n",
    "\n",
    "with open(\"gmail_cookies.pkl\",\"wb\") as f :\n",
    "    pickle.dump(driver.get_cookies(),f)\n",
    "  \n",
    "print(\"쿠키 저장 완료\")\n",
    "driver.quit() "
   ]
  },
  {
   "cell_type": "code",
   "execution_count": 34,
   "id": "f9160e74-6097-4c75-aad0-d16c179a11d7",
   "metadata": {},
   "outputs": [
    {
     "name": "stdout",
     "output_type": "stream",
     "text": [
      "수동으로 인증시작! in 30.sec\n"
     ]
    },
    {
     "ename": "InvalidSessionIdException",
     "evalue": "Message: invalid session id: session deleted as the browser has closed the connection\nfrom disconnected: not connected to DevTools\n  (Session info: chrome=138.0.7204.184); For documentation on this error, please visit: https://www.selenium.dev/documentation/webdriver/troubleshooting/errors#invalidsessionidexception\nStacktrace:\n\tGetHandleVerifier [0x0x97ba83+63395]\n\tGetHandleVerifier [0x0x97bac4+63460]\n\t(No symbol) [0x0x7c2113]\n\t(No symbol) [0x0x7b1b20]\n\t(No symbol) [0x0x7cf922]\n\t(No symbol) [0x0x835c9c]\n\t(No symbol) [0x0x850099]\n\t(No symbol) [0x0x82f1a6]\n\t(No symbol) [0x0x7fe7b2]\n\t(No symbol) [0x0x7ff654]\n\tGetHandleVerifier [0x0xbf8883+2672035]\n\tGetHandleVerifier [0x0xbf3cba+2652634]\n\tGetHandleVerifier [0x0x9a2bca+223466]\n\tGetHandleVerifier [0x0x992cb8+158168]\n\tGetHandleVerifier [0x0x99978d+185517]\n\tGetHandleVerifier [0x0x983b78+96408]\n\tGetHandleVerifier [0x0x983d02+96802]\n\tGetHandleVerifier [0x0x96e90a+9770]\n\tBaseThreadInitThunk [0x0x75c35d49+25]\n\tRtlInitializeExceptionChain [0x0x777fd1ab+107]\n\tRtlGetAppContainerNamedObjectPath [0x0x777fd131+561]\n",
     "output_type": "error",
     "traceback": [
      "\u001b[1;31m---------------------------------------------------------------------------\u001b[0m",
      "\u001b[1;31mInvalidSessionIdException\u001b[0m                 Traceback (most recent call last)",
      "Cell \u001b[1;32mIn[34], line 32\u001b[0m\n\u001b[0;32m     29\u001b[0m time\u001b[38;5;241m.\u001b[39msleep(\u001b[38;5;241m30\u001b[39m)\n\u001b[0;32m     31\u001b[0m \u001b[38;5;28;01mwith\u001b[39;00m \u001b[38;5;28mopen\u001b[39m(\u001b[38;5;124m\"\u001b[39m\u001b[38;5;124mcoupang_cookies.pkl\u001b[39m\u001b[38;5;124m\"\u001b[39m,\u001b[38;5;124m\"\u001b[39m\u001b[38;5;124mwb\u001b[39m\u001b[38;5;124m\"\u001b[39m) \u001b[38;5;28;01mas\u001b[39;00m f :\n\u001b[1;32m---> 32\u001b[0m     pickle\u001b[38;5;241m.\u001b[39mdump(driver\u001b[38;5;241m.\u001b[39mget_cookies(),f)\n\u001b[0;32m     34\u001b[0m \u001b[38;5;28mprint\u001b[39m(\u001b[38;5;124m\"\u001b[39m\u001b[38;5;124m쿠키 저장 완료\u001b[39m\u001b[38;5;124m\"\u001b[39m)\n\u001b[0;32m     35\u001b[0m driver\u001b[38;5;241m.\u001b[39mquit()\n",
      "File \u001b[1;32m~\\anaconda3\\Lib\\site-packages\\selenium\\webdriver\\remote\\webdriver.py:739\u001b[0m, in \u001b[0;36mWebDriver.get_cookies\u001b[1;34m(self)\u001b[0m\n\u001b[0;32m    727\u001b[0m \u001b[38;5;28;01mdef\u001b[39;00m\u001b[38;5;250m \u001b[39m\u001b[38;5;21mget_cookies\u001b[39m(\u001b[38;5;28mself\u001b[39m) \u001b[38;5;241m-\u001b[39m\u001b[38;5;241m>\u001b[39m \u001b[38;5;28mlist\u001b[39m[\u001b[38;5;28mdict\u001b[39m]:\n\u001b[0;32m    728\u001b[0m \u001b[38;5;250m    \u001b[39m\u001b[38;5;124;03m\"\"\"Returns a set of dictionaries, corresponding to cookies visible in\u001b[39;00m\n\u001b[0;32m    729\u001b[0m \u001b[38;5;124;03m    the current session.\u001b[39;00m\n\u001b[0;32m    730\u001b[0m \n\u001b[1;32m   (...)\u001b[0m\n\u001b[0;32m    737\u001b[0m \u001b[38;5;124;03m    >>> cookies = driver.get_cookies()\u001b[39;00m\n\u001b[0;32m    738\u001b[0m \u001b[38;5;124;03m    \"\"\"\u001b[39;00m\n\u001b[1;32m--> 739\u001b[0m     \u001b[38;5;28;01mreturn\u001b[39;00m \u001b[38;5;28mself\u001b[39m\u001b[38;5;241m.\u001b[39mexecute(Command\u001b[38;5;241m.\u001b[39mGET_ALL_COOKIES)[\u001b[38;5;124m\"\u001b[39m\u001b[38;5;124mvalue\u001b[39m\u001b[38;5;124m\"\u001b[39m]\n",
      "File \u001b[1;32m~\\anaconda3\\Lib\\site-packages\\selenium\\webdriver\\remote\\webdriver.py:454\u001b[0m, in \u001b[0;36mWebDriver.execute\u001b[1;34m(self, driver_command, params)\u001b[0m\n\u001b[0;32m    451\u001b[0m response \u001b[38;5;241m=\u001b[39m cast(RemoteConnection, \u001b[38;5;28mself\u001b[39m\u001b[38;5;241m.\u001b[39mcommand_executor)\u001b[38;5;241m.\u001b[39mexecute(driver_command, params)\n\u001b[0;32m    453\u001b[0m \u001b[38;5;28;01mif\u001b[39;00m response:\n\u001b[1;32m--> 454\u001b[0m     \u001b[38;5;28mself\u001b[39m\u001b[38;5;241m.\u001b[39merror_handler\u001b[38;5;241m.\u001b[39mcheck_response(response)\n\u001b[0;32m    455\u001b[0m     response[\u001b[38;5;124m\"\u001b[39m\u001b[38;5;124mvalue\u001b[39m\u001b[38;5;124m\"\u001b[39m] \u001b[38;5;241m=\u001b[39m \u001b[38;5;28mself\u001b[39m\u001b[38;5;241m.\u001b[39m_unwrap_value(response\u001b[38;5;241m.\u001b[39mget(\u001b[38;5;124m\"\u001b[39m\u001b[38;5;124mvalue\u001b[39m\u001b[38;5;124m\"\u001b[39m, \u001b[38;5;28;01mNone\u001b[39;00m))\n\u001b[0;32m    456\u001b[0m     \u001b[38;5;28;01mreturn\u001b[39;00m response\n",
      "File \u001b[1;32m~\\anaconda3\\Lib\\site-packages\\selenium\\webdriver\\remote\\errorhandler.py:232\u001b[0m, in \u001b[0;36mErrorHandler.check_response\u001b[1;34m(self, response)\u001b[0m\n\u001b[0;32m    230\u001b[0m         alert_text \u001b[38;5;241m=\u001b[39m value[\u001b[38;5;124m\"\u001b[39m\u001b[38;5;124malert\u001b[39m\u001b[38;5;124m\"\u001b[39m]\u001b[38;5;241m.\u001b[39mget(\u001b[38;5;124m\"\u001b[39m\u001b[38;5;124mtext\u001b[39m\u001b[38;5;124m\"\u001b[39m)\n\u001b[0;32m    231\u001b[0m     \u001b[38;5;28;01mraise\u001b[39;00m exception_class(message, screen, stacktrace, alert_text)  \u001b[38;5;66;03m# type: ignore[call-arg]  # mypy is not smart enough here\u001b[39;00m\n\u001b[1;32m--> 232\u001b[0m \u001b[38;5;28;01mraise\u001b[39;00m exception_class(message, screen, stacktrace)\n",
      "\u001b[1;31mInvalidSessionIdException\u001b[0m: Message: invalid session id: session deleted as the browser has closed the connection\nfrom disconnected: not connected to DevTools\n  (Session info: chrome=138.0.7204.184); For documentation on this error, please visit: https://www.selenium.dev/documentation/webdriver/troubleshooting/errors#invalidsessionidexception\nStacktrace:\n\tGetHandleVerifier [0x0x97ba83+63395]\n\tGetHandleVerifier [0x0x97bac4+63460]\n\t(No symbol) [0x0x7c2113]\n\t(No symbol) [0x0x7b1b20]\n\t(No symbol) [0x0x7cf922]\n\t(No symbol) [0x0x835c9c]\n\t(No symbol) [0x0x850099]\n\t(No symbol) [0x0x82f1a6]\n\t(No symbol) [0x0x7fe7b2]\n\t(No symbol) [0x0x7ff654]\n\tGetHandleVerifier [0x0xbf8883+2672035]\n\tGetHandleVerifier [0x0xbf3cba+2652634]\n\tGetHandleVerifier [0x0x9a2bca+223466]\n\tGetHandleVerifier [0x0x992cb8+158168]\n\tGetHandleVerifier [0x0x99978d+185517]\n\tGetHandleVerifier [0x0x983b78+96408]\n\tGetHandleVerifier [0x0x983d02+96802]\n\tGetHandleVerifier [0x0x96e90a+9770]\n\tBaseThreadInitThunk [0x0x75c35d49+25]\n\tRtlInitializeExceptionChain [0x0x777fd1ab+107]\n\tRtlGetAppContainerNamedObjectPath [0x0x777fd131+561]\n"
     ]
    }
   ],
   "source": [
    "# 쿠 로그인 후 찜한 상품 리스트를 수집하세요.\n",
    "\n",
    "# Gmail에 로그인한 후 받은편지함에서 최근 이메일 제목 10개를 수집하세요.\n",
    "\n",
    "# 쿠키값 인증\n",
    "from selenium import webdriver\n",
    "from selenium.webdriver.chrome.options import Options\n",
    "from selenium.webdriver.chrome.service import Service\n",
    "from webdriver_manager.chrome import ChromeDriverManager\n",
    "import pickle \n",
    "import time \n",
    "\n",
    "#etc@kakao.com\n",
    "#asdf1122\n",
    "\n",
    "options = Options()\n",
    "options.add_argument(\"--start-maximized\")\n",
    "options.add_argument(\"window-size=1920x1080\") \n",
    "options.add_argument(\"lang=ko_KR\")\n",
    "\n",
    "service = Service(ChromeDriverManager().install()) \n",
    "\n",
    "driver = webdriver.Chrome(service=service, options=options)\n",
    "\n",
    "driver.get(\"https://login.coupang.com/login/login.pang?rtnUrl=https%3A%2F%2Fwww.coupang.com%2Fnp%2Fpost%2Flogin%3Fr%3Dhttp%253A%252F%252Fwww.coupang.com%252F%253Fsrc%253D1139000%2526spec%253D10799999%2526addtag%253D900%2526ctag%253DHOME%2526lptag%253DAF7284829%2526itime%253D20250811183902%2526pageType%253DHOME%2526pageValue%253DHOME%2526wPcid%253D17482133888723466027458%2526wRef%253Dsearchconsole.co.kr%2526wTime%253D20250811183902%2526redirect%253Dlanding%2526traceid%253DV0-301-879dd1202e5c73b2-I780372%2526mcid%253D64343d7cff944d438d083f5f6edcca25%2526placementid%253D%2526campaignid%253D%2526contentcategory%253D%2526imgsize%253D%2526tsource%253D%2526pageid%253D%2526deviceid%253D%2526token%253D%2526contenttype%253D%2526subid%253Dhelpstart%2526impressionid%253D%2526campaigntype%253D%2526newssource%253D%2526contentkeyword%253D%2526subparam%253D\")\n",
    "\n",
    "\n",
    "print(\"수동으로 인증시작! in 30.sec\")\n",
    "time.sleep(30)\n",
    "\n",
    "with open(\"coupang_cookies.pkl\",\"wb\") as f :\n",
    "    pickle.dump(driver.get_cookies(),f)\n",
    "  \n",
    "print(\"쿠키 저장 완료\")\n",
    "driver.quit() "
   ]
  },
  {
   "cell_type": "code",
   "execution_count": 39,
   "id": "73592f32-1283-4152-9f88-d5da0981c8fe",
   "metadata": {},
   "outputs": [
    {
     "name": "stdout",
     "output_type": "stream",
     "text": [
      "쿠키값 얻으러 뛰어라. 30초 준다.\n",
      "쿠키 가져왔습니다!\n"
     ]
    }
   ],
   "source": [
    "# 쿠키코드 \n",
    "from selenium import webdriver\n",
    "from selenium.webdriver.chrome.options import Options\n",
    "from selenium.webdriver.chrome.service import Service\n",
    "from webdriver_manager.chrome import ChromeDriverManager\n",
    "import pickle\n",
    "import time\n",
    "\n",
    "options= Options()\n",
    "options.add_argument(\"--start-maximized\")\n",
    "options.add_argument(\"--window-size=1920x1080\")\n",
    "options.add_argument(\"--lang=ko_KR\")\n",
    "\n",
    "service = Service(ChromeDriverManager().install())\n",
    "driver = webdriver.Chrome(service=service, options=options)\n",
    "driver.get(\"https://bymono.com/member/login.html\")\n",
    "\n",
    "print(\"쿠키값 얻으러 뛰어라. 30초 준다.\")\n",
    "time.sleep(30)\n",
    "\n",
    "with open(\"bymono_cookies.pkl\",\"wb\") as f:\n",
    "    pickle.dump(driver.get_cookies(),f)\n",
    "print(\"쿠키 가져왔습니다!\")\n",
    "driver.quit()"
   ]
  },
  {
   "cell_type": "code",
   "execution_count": 49,
   "id": "be974102-8d5f-4619-a36d-6f8bc60e9f49",
   "metadata": {},
   "outputs": [
    {
     "name": "stdout",
     "output_type": "stream",
     "text": [
      "\n",
      "\n"
     ]
    }
   ],
   "source": [
    "# 바이모노 로그인 후 찜한 상품 리스트를 수집하세요.\n",
    "\n",
    "from selenium import webdriver\n",
    "from selenium.webdriver.chrome.options import Options\n",
    "from selenium.webdriver.chrome.service import Service\n",
    "from webdriver_manager.chrome import ChromeDriverManager\n",
    "from selenium.webdriver.common.by import By\n",
    "from selenium.webdriver.common.keys import Keys\n",
    "import time\n",
    "\n",
    "service = Service(ChromeDriverManager().install())\n",
    "options = Options()\n",
    "options.add_argument(\"--headless\")\n",
    "options.add_argument(\"--disable-gpu\")\n",
    "options.add_argument(\"--window-size=1920x1080\")\n",
    "options.add_argument(\"--start-maximized\")\n",
    "options.add_argument(\"--user-agent= Mozilla/5.0 (Windows NT 10.0; Win64; x64) AppleWebKit/537.36 (KHTML, like Gecko) Chrome/138.0.0.0 Safari/537.36\")\n",
    "options.add_argument(\"--lang=ko_KR\")\n",
    "\n",
    "driver = webdriver.Chrome(service=service, options=options)\n",
    "driver.get(\"https://bymono.com\")\n",
    "time.sleep(3)\n",
    "\n",
    "with open(\"bymono_cookies.pkl\",\"rb\") as f:\n",
    "    cookies = pickle.load(f)\n",
    "for cookie in cookies:\n",
    "    driver.add_cookie(cookie)\n",
    "driver.refresh()\n",
    "time.sleep(5)\n",
    "\n",
    "basket_button = driver.find_element(By.CSS_SELECTOR,\"a[href='/order/basket.html']\")\n",
    "basket_button.click()\n",
    "\n",
    "prices = driver.find_elements(By.CSS_SELECTOR,\"ul.info > strong\")\n",
    "titles = driver.find_elements(By.CSS_SELECTOR,\"a.ec-product-name\")\n",
    "for title in titles :\n",
    "    print(title.text.strip())\n",
    "for price in prices :\n",
    "    print(price.text.strip())\n",
    "time.sleep(2)\n",
    "driver.quit()"
   ]
  }
 ],
 "metadata": {
  "kernelspec": {
   "display_name": "Python [conda env:base] *",
   "language": "python",
   "name": "conda-base-py"
  },
  "language_info": {
   "codemirror_mode": {
    "name": "ipython",
    "version": 3
   },
   "file_extension": ".py",
   "mimetype": "text/x-python",
   "name": "python",
   "nbconvert_exporter": "python",
   "pygments_lexer": "ipython3",
   "version": "3.13.5"
  }
 },
 "nbformat": 4,
 "nbformat_minor": 5
}
