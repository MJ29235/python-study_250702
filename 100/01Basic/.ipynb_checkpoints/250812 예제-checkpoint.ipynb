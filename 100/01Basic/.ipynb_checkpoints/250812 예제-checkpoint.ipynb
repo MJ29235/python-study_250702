{
 "cells": [
  {
   "cell_type": "code",
   "execution_count": null,
   "id": "6300a980-ec04-440e-b462-940bb33f728b",
   "metadata": {},
   "outputs": [],
   "source": [
    "# 본인이 현재 사용중인 통신사 사이트 로그인 후 최근 요금명세서 주요항목을 수집하세요.\n",
    "# 교보문고에 로그인하여 주문 배송조회 페이지의 도서명을 수집하세요.\n",
    "# ChatGPT 로그인 후 히스토리에서 최근 5개 질문을 수집하세요.\n",
    "# Github 로그인 후 내 레포지토리 리스트를 수집하세요.\n",
    "# 슬랙에 로그인 후 특정 채널의 최근 메시지 50개를 수집하세요."
   ]
  },
  {
   "cell_type": "code",
   "execution_count": 3,
   "id": "9522876c-a0a9-4ca7-bd0d-af6ee59d67d6",
   "metadata": {},
   "outputs": [
    {
     "ename": "InvalidSessionIdException",
     "evalue": "Message: invalid session id: session deleted as the browser has closed the connection\nfrom disconnected: not connected to DevTools\n  (Session info: chrome=138.0.7204.184); For documentation on this error, please visit: https://www.selenium.dev/documentation/webdriver/troubleshooting/errors#invalidsessionidexception\nStacktrace:\n\tGetHandleVerifier [0x0x11bba83+63395]\n\tGetHandleVerifier [0x0x11bbac4+63460]\n\t(No symbol) [0x0x1002113]\n\t(No symbol) [0x0xff1b20]\n\t(No symbol) [0x0x100f922]\n\t(No symbol) [0x0x1075c9c]\n\t(No symbol) [0x0x1090099]\n\t(No symbol) [0x0x106f1a6]\n\t(No symbol) [0x0x103e7b2]\n\t(No symbol) [0x0x103f654]\n\tGetHandleVerifier [0x0x1438883+2672035]\n\tGetHandleVerifier [0x0x1433cba+2652634]\n\tGetHandleVerifier [0x0x11e2bca+223466]\n\tGetHandleVerifier [0x0x11d2cb8+158168]\n\tGetHandleVerifier [0x0x11d978d+185517]\n\tGetHandleVerifier [0x0x11c3b78+96408]\n\tGetHandleVerifier [0x0x11c3d02+96802]\n\tGetHandleVerifier [0x0x11ae90a+9770]\n\tBaseThreadInitThunk [0x0x755c5d49+25]\n\tRtlInitializeExceptionChain [0x0x7786d2fb+107]\n\tRtlGetAppContainerNamedObjectPath [0x0x7786d281+561]\n",
     "output_type": "error",
     "traceback": [
      "\u001b[1;31m---------------------------------------------------------------------------\u001b[0m",
      "\u001b[1;31mInvalidSessionIdException\u001b[0m                 Traceback (most recent call last)",
      "Cell \u001b[1;32mIn[3], line 24\u001b[0m\n\u001b[0;32m     21\u001b[0m driver\u001b[38;5;241m.\u001b[39mget(url)\n\u001b[0;32m     22\u001b[0m time\u001b[38;5;241m.\u001b[39msleep(\u001b[38;5;241m60\u001b[39m) \n\u001b[1;32m---> 24\u001b[0m questions \u001b[38;5;241m=\u001b[39m driver\u001b[38;5;241m.\u001b[39mfind_elements(By\u001b[38;5;241m.\u001b[39mCSS_SELECTOR, \u001b[38;5;124m\"\u001b[39m\u001b[38;5;124mdiv.truncate\u001b[39m\u001b[38;5;124m\"\u001b[39m)\n\u001b[0;32m     25\u001b[0m \u001b[38;5;28;01mfor\u001b[39;00m question \u001b[38;5;129;01min\u001b[39;00m \u001b[38;5;28menumerate\u001b[39m(questions[:\u001b[38;5;241m5\u001b[39m],\u001b[38;5;241m1\u001b[39m):\n\u001b[0;32m     26\u001b[0m     \u001b[38;5;28mprint\u001b[39m(\u001b[38;5;124mf\u001b[39m\u001b[38;5;124m\"\u001b[39m\u001b[38;5;132;01m{\u001b[39;00mi\u001b[38;5;132;01m}\u001b[39;00m\u001b[38;5;124m. \u001b[39m\u001b[38;5;132;01m{\u001b[39;00mquestion\u001b[38;5;132;01m}\u001b[39;00m\u001b[38;5;124m\"\u001b[39m)\n",
      "File \u001b[1;32m~\\anaconda3\\Lib\\site-packages\\selenium\\webdriver\\remote\\webdriver.py:963\u001b[0m, in \u001b[0;36mWebDriver.find_elements\u001b[1;34m(self, by, value)\u001b[0m\n\u001b[0;32m    959\u001b[0m     \u001b[38;5;28;01mreturn\u001b[39;00m \u001b[38;5;28mself\u001b[39m\u001b[38;5;241m.\u001b[39mexecute_script(find_element_js, by\u001b[38;5;241m.\u001b[39mto_dict())\n\u001b[0;32m    961\u001b[0m \u001b[38;5;66;03m# Return empty list if driver returns null\u001b[39;00m\n\u001b[0;32m    962\u001b[0m \u001b[38;5;66;03m# See https://github.com/SeleniumHQ/selenium/issues/4555\u001b[39;00m\n\u001b[1;32m--> 963\u001b[0m \u001b[38;5;28;01mreturn\u001b[39;00m \u001b[38;5;28mself\u001b[39m\u001b[38;5;241m.\u001b[39mexecute(Command\u001b[38;5;241m.\u001b[39mFIND_ELEMENTS, {\u001b[38;5;124m\"\u001b[39m\u001b[38;5;124musing\u001b[39m\u001b[38;5;124m\"\u001b[39m: by, \u001b[38;5;124m\"\u001b[39m\u001b[38;5;124mvalue\u001b[39m\u001b[38;5;124m\"\u001b[39m: value})[\u001b[38;5;124m\"\u001b[39m\u001b[38;5;124mvalue\u001b[39m\u001b[38;5;124m\"\u001b[39m] \u001b[38;5;129;01mor\u001b[39;00m []\n",
      "File \u001b[1;32m~\\anaconda3\\Lib\\site-packages\\selenium\\webdriver\\remote\\webdriver.py:454\u001b[0m, in \u001b[0;36mWebDriver.execute\u001b[1;34m(self, driver_command, params)\u001b[0m\n\u001b[0;32m    451\u001b[0m response \u001b[38;5;241m=\u001b[39m cast(RemoteConnection, \u001b[38;5;28mself\u001b[39m\u001b[38;5;241m.\u001b[39mcommand_executor)\u001b[38;5;241m.\u001b[39mexecute(driver_command, params)\n\u001b[0;32m    453\u001b[0m \u001b[38;5;28;01mif\u001b[39;00m response:\n\u001b[1;32m--> 454\u001b[0m     \u001b[38;5;28mself\u001b[39m\u001b[38;5;241m.\u001b[39merror_handler\u001b[38;5;241m.\u001b[39mcheck_response(response)\n\u001b[0;32m    455\u001b[0m     response[\u001b[38;5;124m\"\u001b[39m\u001b[38;5;124mvalue\u001b[39m\u001b[38;5;124m\"\u001b[39m] \u001b[38;5;241m=\u001b[39m \u001b[38;5;28mself\u001b[39m\u001b[38;5;241m.\u001b[39m_unwrap_value(response\u001b[38;5;241m.\u001b[39mget(\u001b[38;5;124m\"\u001b[39m\u001b[38;5;124mvalue\u001b[39m\u001b[38;5;124m\"\u001b[39m, \u001b[38;5;28;01mNone\u001b[39;00m))\n\u001b[0;32m    456\u001b[0m     \u001b[38;5;28;01mreturn\u001b[39;00m response\n",
      "File \u001b[1;32m~\\anaconda3\\Lib\\site-packages\\selenium\\webdriver\\remote\\errorhandler.py:232\u001b[0m, in \u001b[0;36mErrorHandler.check_response\u001b[1;34m(self, response)\u001b[0m\n\u001b[0;32m    230\u001b[0m         alert_text \u001b[38;5;241m=\u001b[39m value[\u001b[38;5;124m\"\u001b[39m\u001b[38;5;124malert\u001b[39m\u001b[38;5;124m\"\u001b[39m]\u001b[38;5;241m.\u001b[39mget(\u001b[38;5;124m\"\u001b[39m\u001b[38;5;124mtext\u001b[39m\u001b[38;5;124m\"\u001b[39m)\n\u001b[0;32m    231\u001b[0m     \u001b[38;5;28;01mraise\u001b[39;00m exception_class(message, screen, stacktrace, alert_text)  \u001b[38;5;66;03m# type: ignore[call-arg]  # mypy is not smart enough here\u001b[39;00m\n\u001b[1;32m--> 232\u001b[0m \u001b[38;5;28;01mraise\u001b[39;00m exception_class(message, screen, stacktrace)\n",
      "\u001b[1;31mInvalidSessionIdException\u001b[0m: Message: invalid session id: session deleted as the browser has closed the connection\nfrom disconnected: not connected to DevTools\n  (Session info: chrome=138.0.7204.184); For documentation on this error, please visit: https://www.selenium.dev/documentation/webdriver/troubleshooting/errors#invalidsessionidexception\nStacktrace:\n\tGetHandleVerifier [0x0x11bba83+63395]\n\tGetHandleVerifier [0x0x11bbac4+63460]\n\t(No symbol) [0x0x1002113]\n\t(No symbol) [0x0xff1b20]\n\t(No symbol) [0x0x100f922]\n\t(No symbol) [0x0x1075c9c]\n\t(No symbol) [0x0x1090099]\n\t(No symbol) [0x0x106f1a6]\n\t(No symbol) [0x0x103e7b2]\n\t(No symbol) [0x0x103f654]\n\tGetHandleVerifier [0x0x1438883+2672035]\n\tGetHandleVerifier [0x0x1433cba+2652634]\n\tGetHandleVerifier [0x0x11e2bca+223466]\n\tGetHandleVerifier [0x0x11d2cb8+158168]\n\tGetHandleVerifier [0x0x11d978d+185517]\n\tGetHandleVerifier [0x0x11c3b78+96408]\n\tGetHandleVerifier [0x0x11c3d02+96802]\n\tGetHandleVerifier [0x0x11ae90a+9770]\n\tBaseThreadInitThunk [0x0x755c5d49+25]\n\tRtlInitializeExceptionChain [0x0x7786d2fb+107]\n\tRtlGetAppContainerNamedObjectPath [0x0x7786d281+561]\n"
     ]
    }
   ],
   "source": [
    "# ChatGPT 로그인 후 히스토리에서 최근 5개 질문을 수집하세요.\n",
    "from selenium import webdriver\n",
    "from selenium.webdriver.chrome.options import Options\n",
    "from selenium.webdriver.chrome.service import Service\n",
    "from webdriver_manager.chrome import ChromeDriverManager\n",
    "from selenium.webdriver.common.by import By\n",
    "import time\n",
    "\n",
    "service = Service(ChromeDriverManager().install()) #서비스 실행되게 세팅!\n",
    "\n",
    "options = Options();\n",
    "#options.add_argument(\"--headless\")\n",
    "options.add_argument(\"--window-size=1920x1080\")\n",
    "options.add_argument(\"--lang=ko_KR\")\n",
    "options.add_argument(\"--start-maximized\")\n",
    "options.add_argument(\"--user-agent=Mozilla/5.0 (Windows NT 10.0; Win64; x64) AppleWebKit/537.36 (KHTML, like Gecko) Chrome/138.0.0.0 Safari/537.36\")\n",
    "\n",
    "driver = webdriver.Chrome(service=service, options=options)\n",
    "\n",
    "url = \"https://chatgpt.com/c/689d50ff-163c-832b-b0d3-6ba2bcf38802\"\n",
    "driver.get(url)\n",
    "time.sleep(60) \n",
    "\n",
    "questions = driver.find_elements(By.CSS_SELECTOR, \"div.truncate\")\n",
    "for question in enumerate(questions[:5],1):\n",
    "    print(f\"{i}. {question}\")"
   ]
  },
  {
   "cell_type": "code",
   "execution_count": 8,
   "id": "430ac85e-a250-4baa-8b90-e1e8267786b8",
   "metadata": {},
   "outputs": [],
   "source": [
    "# 슬랙에 로그인 후 특정 채널의 최근 메시지 50개를 수집하세요.\n",
    "\n",
    "from selenium import webdriver\n",
    "from selenium.webdriver.chrome.options import Options\n",
    "from selenium.webdriver.chrome.service import Service\n",
    "from webdriver_manager.chrome import ChromeDriverManager\n",
    "from selenium.webdriver.common.by import By\n",
    "import time\n",
    "\n",
    "service = Service(ChromeDriverManager().install()) #서비스 실행되게 세팅!\n",
    "\n",
    "options = Options();\n",
    "#options.add_argument(\"--headless\")\n",
    "options.add_argument(\"--window-size=1920x1080\")\n",
    "options.add_argument(\"--lang=ko_KR\")\n",
    "options.add_argument(\"--start-maximized\")\n",
    "options.add_argument(\"--user-agent=Mozilla/5.0 (Windows NT 10.0; Win64; x64) AppleWebKit/537.36 (KHTML, like Gecko) Chrome/138.0.0.0 Safari/537.36\")\n",
    "\n",
    "driver = webdriver.Chrome(service=service, options=options)\n",
    "\n",
    "url = \"https://slack.com/intl/ko-kr\"\n",
    "driver.get(url)\n",
    "time.sleep(90)\n",
    "for _ in range(10):\n",
    "    driver.execute_script(\"window.scrollBy(0, -500);\")\n",
    "    chats = driver.find_elements(By.CSS_SELECTOR, \"div.p-rich_text_section\")\n",
    "    for chat in enumerate(chats[:50],1):\n",
    "        print(f\"{i}. {chat}\")\n",
    "time.sleep(2)\n",
    "driver.quit()"
   ]
  }
 ],
 "metadata": {
  "kernelspec": {
   "display_name": "Python [conda env:base] *",
   "language": "python",
   "name": "conda-base-py"
  },
  "language_info": {
   "codemirror_mode": {
    "name": "ipython",
    "version": 3
   },
   "file_extension": ".py",
   "mimetype": "text/x-python",
   "name": "python",
   "nbconvert_exporter": "python",
   "pygments_lexer": "ipython3",
   "version": "3.13.5"
  }
 },
 "nbformat": 4,
 "nbformat_minor": 5
}
