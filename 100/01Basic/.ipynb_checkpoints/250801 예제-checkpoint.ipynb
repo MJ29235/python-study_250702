{
 "cells": [
  {
   "cell_type": "code",
   "execution_count": null,
   "id": "552f24f3-b2d5-44de-8ac5-779c79b1c015",
   "metadata": {},
   "outputs": [],
   "source": [
    "# 노컷뉴스 연예면 주요 기사 제목을 5개 수집하세요.\n",
    "# 아프리카TV 인기 방송 제목을 수집하세요.\n",
    "# 마이리얼트립에서 인기 도시별 여행 상품 제목을 수집하세요.\n",
    "# 대한민국 국회 홈페이지에서 최근 입법안 제목 10개를 수집하세요.\n",
    "# KBS 뉴스 홈페이지에서 주요 뉴스 타이틀을 수집하세요.\n",
    "\n"
   ]
  },
  {
   "cell_type": "code",
   "execution_count": 2,
   "id": "378bd35d-94f4-484f-9cae-2e9699ff4430",
   "metadata": {},
   "outputs": [
    {
     "name": "stdout",
     "output_type": "stream",
     "text": [
      "1. 거미♥조정석 두 아이 부모된다…5년 만에 둘째 임신\n",
      "2. '데뷔 18주년' 앞둔 소녀시대, 티파니 생일→완전체 회동\n",
      "3. '컨저링 유니버스'의 최종장이 온다…'마지막 의식' 9월 개봉\n",
      "4. BTS 뷔, 팬 무질서 소신발언 \"공항은 우리 것 아냐\"\n",
      "5. 이보영이 던진 '안락사' 화두 \"걱정되지만…말할 기회되길\"[현장EN:]\n"
     ]
    }
   ],
   "source": [
    "# 노컷뉴스 연예면 주요 기사 제목을 5개 수집하세요.\n",
    "\n",
    "import requests\n",
    "from bs4 import BeautifulSoup\n",
    "\n",
    "url = 'https://www.nocutnews.co.kr/news/entertainment'\n",
    "\n",
    "headers = {\n",
    "    \"User-Agent\" : 'Mozilla/5.0 (Windows NT 10.0; Win64; x64) AppleWebKit/537.36 (KHTML, like Gecko) Chrome/138.0.0.0 Safari/537.36'\n",
    "}\n",
    "\n",
    "response = requests.get(url,headers=headers)\n",
    "soup = BeautifulSoup(response.text,\"html.parser\")\n",
    "\n",
    "titles = soup.select(\"strong.clamp2\")\n",
    "for index,title in enumerate(titles[:5],1):\n",
    "    print(f\"{index}. {title.text.strip()}\")"
   ]
  },
  {
   "cell_type": "code",
   "execution_count": 10,
   "id": "919a7a9a-4682-41b1-b902-28a249bfaa86",
   "metadata": {},
   "outputs": [],
   "source": [
    "# 아프리카TV 인기 방송 제목을 수집하세요.\n",
    "from selenium import webdriver\n",
    "from selenium.webdriver.chrome.options import Options\n",
    "from selenium.webdriver.chrome.service import Service\n",
    "from selenium.webdriver.common.by import By\n",
    "from webdriver_manager.chrome import ChromeDriverManager\n",
    "import time\n",
    "\n",
    "service = Service(ChromeDriverManager().install())\n",
    "\n",
    "options = Options()\n",
    "options.add_argument(\"--headless\")\n",
    "options.add_argument(\"--start-maximized\")\n",
    "options.add_argument(\"--window-size=1920x1080\")\n",
    "options.add_argument(\"--lang=ko_KR\")\n",
    "options.add_argument(\"--user-agent=Mozilla/5.0 (Windows NT 10.0; Win64; x64) AppleWebKit/537.36 (KHTML, like Gecko) Chrome/138.0.0.0 Safari/537.36\")\n",
    "\n",
    "driver = webdriver.Chrome(service=service, options=options)\n",
    "url = \"https://www.sooplive.co.kr/\"\n",
    "driver.get(url)\n",
    "\n",
    "scroll_pause = 1 \n",
    "last_height = driver.execute_script(\"return document.body.scrollHeight\")\n",
    "\n",
    "titles = driver.find_elements(By.XPATH,\"//a[@herf]\")\n",
    "for i,title in enumerate(titles,1):\n",
    "    print(f\"{i}. {title.text.strip()}\")\n",
    "\n",
    "time.sleep(2)\n",
    "driver.quit()\n"
   ]
  }
 ],
 "metadata": {
  "kernelspec": {
   "display_name": "Python [conda env:base] *",
   "language": "python",
   "name": "conda-base-py"
  },
  "language_info": {
   "codemirror_mode": {
    "name": "ipython",
    "version": 3
   },
   "file_extension": ".py",
   "mimetype": "text/x-python",
   "name": "python",
   "nbconvert_exporter": "python",
   "pygments_lexer": "ipython3",
   "version": "3.13.5"
  }
 },
 "nbformat": 4,
 "nbformat_minor": 5
}
